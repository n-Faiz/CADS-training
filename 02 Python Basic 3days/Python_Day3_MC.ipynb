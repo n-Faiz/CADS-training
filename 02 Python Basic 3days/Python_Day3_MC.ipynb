{
 "cells": [
  {
   "cell_type": "markdown",
   "metadata": {},
   "source": [
    "<img src=\"images/cads-logo.png\" style=\"height: 100px;\" align=left> <img src=\"images/python-logo.png\" style=\"height: 100px;\" align=right>"
   ]
  },
  {
   "cell_type": "markdown",
   "metadata": {
    "toc-hr-collapsed": false
   },
   "source": [
    "# Python Fundamentals Day 3\n",
    "\n",
    "Welcome to Python Fundamentals Day 3.\n",
    "\n",
    "So what is on the menu for today? \n",
    "\n",
    "We start with reading and writing from files, learn how to transport data objects in the JSON format and how to browse the filesystem.\n",
    "\n",
    "Then we move to Exception handling. We learn about the different types of Exceptions, what they mean and how to resolve them. Then we learn how to handle Exceptions in our code using the try-except statement.\n",
    "\n",
    "Last but not least, we learn about Object Oriented Programming including class inheritance and how to define and use your own classes in your coding.\n",
    "\n",
    "Let's go!"
   ]
  },
  {
   "cell_type": "markdown",
   "metadata": {},
   "source": [
    "## Table of Contents\n",
    "\n",
    "- [File I/O](#File-I/O)\n",
    "    - [Reading and writing lines with open](#Reading-and-writing-lines-with-open)\n",
    "    - [JSON](#JSON)\n",
    "    - [File browsing with glob](#File-browsing-with-glob)\n",
    "    - [Summary](#Summary)\n",
    "        - [open](#open)\n",
    "        - [JSON](#JSON)\n",
    "        - [import](#import)\n",
    "        - [glob](#glob)\n",
    "    - [RUN ME](#RUN-ME)\n",
    "    - [Exercises](#Exercises)\n",
    "        - [Exercise 1 - Read in stocks](#Exercise-1---Read-in-stocks)\n",
    "        - [Exercise 2 - First ten names](#Exercise-2---First-ten-names)\n",
    "        - [Exercise 3 - Inc only](#Exercise-3---Inc-only)\n",
    "        - [Exercise 4 - Average PE](#Exercise-4---Average-PE)\n",
    "- [Exception Handling](#Exception-Handling)\n",
    "    - [Exceptions](#Exceptions)\n",
    "    - [Try except](#Try-except)\n",
    "    - [Summary](#Summary)\n",
    "        - [try except](#try-except)\n",
    "        - [try except else finally](#try-except-else-finally)\n",
    "    - [RUN ME](#RUN-ME)\n",
    "    - [Exercises](#Exercises)\n",
    "        - [Exercise 1 - Fix it Multiply](#Exercise-1---Fix-it-Multiply)\n",
    "        - [Exercise 2 - Fix it Numbers](#Exercise-2---Fix-it-Numbers)\n",
    "        - [Exercise 3 - Fix it Open](#Exercise-3---Fix-it-Open)\n",
    "        - [Exercise 4 - Try salaries](#Exercise-4---Try-salaries)\n",
    "- [Object Oriented Programming](#Object-Oriented-Programming)\n",
    "    - [Summary](#Summary)\n",
    "        - [class](#class)\n",
    "    - [RUN ME](#RUN-ME)\n",
    "    - [Exercises](#Exercises)\n",
    "        - [Exercise 1 - Get pokemon info](#Exercise-1---Get-pokemon-info)\n",
    "        - [Exercise 2 - Create a pokemon class](#Exercise-2---Create-a-pokemon-class)\n",
    "        - [Exercise 3 -  Load all pokemons](#Exercise-3----Load-all-pokemons)\n",
    "        - [Exercise 4 - Provide insights](#Exercise-4---Provide-insights)"
   ]
  },
  {
   "cell_type": "markdown",
   "metadata": {
    "toc-hr-collapsed": false
   },
   "source": [
    "## File I/O"
   ]
  },
  {
   "cell_type": "markdown",
   "metadata": {},
   "source": [
    "### Reading and writing lines with open"
   ]
  },
  {
   "cell_type": "markdown",
   "metadata": {},
   "source": [
    "Communicating with files is quite useful in programming.\n",
    "\n",
    "With the open() built-in function we can read, write and append to files.\n",
    "\n",
    "First check what is your working directory. You will be able to find the file that we will read and write there."
   ]
  },
  {
   "cell_type": "code",
   "execution_count": 1,
   "metadata": {},
   "outputs": [
    {
     "data": {
      "text/plain": [
       "'/Users/azharabhalim/Downloads/Python for Analytics/Python for Analytics Basic/Current Version 3 Days/Python-1/SC'"
      ]
     },
     "execution_count": 1,
     "metadata": {},
     "output_type": "execute_result"
    }
   ],
   "source": [
    "%pwd"
   ]
  },
  {
   "cell_type": "code",
   "execution_count": 2,
   "metadata": {},
   "outputs": [
    {
     "data": {
      "text/plain": [
       "'/Users/azharabhalim/Downloads/Python for Analytics/Python for Analytics Basic/Current Version 3 Days/Python-1/SC'"
      ]
     },
     "execution_count": 2,
     "metadata": {},
     "output_type": "execute_result"
    }
   ],
   "source": [
    "from os import getcwd\n",
    "getcwd()"
   ]
  },
  {
   "cell_type": "markdown",
   "metadata": {},
   "source": [
    "We now create a file object which we will use to write something to file."
   ]
  },
  {
   "cell_type": "code",
   "execution_count": 3,
   "metadata": {},
   "outputs": [
    {
     "data": {
      "text/plain": [
       "<_io.TextIOWrapper name='test.txt' mode='w' encoding='UTF-8'>"
      ]
     },
     "execution_count": 3,
     "metadata": {},
     "output_type": "execute_result"
    }
   ],
   "source": [
    "file = open('test.txt', mode = 'w')\n",
    "file"
   ]
  },
  {
   "cell_type": "code",
   "execution_count": 4,
   "metadata": {},
   "outputs": [
    {
     "data": {
      "text/plain": [
       "22"
      ]
     },
     "execution_count": 4,
     "metadata": {},
     "output_type": "execute_result"
    }
   ],
   "source": [
    "file.write('Hello\\nNama saya Azhar')"
   ]
  },
  {
   "cell_type": "markdown",
   "metadata": {},
   "source": [
    "Now check the file in your folder. Can you see Hey! in test.txt? \n",
    "\n",
    "No you cannot. Yet.."
   ]
  },
  {
   "cell_type": "code",
   "execution_count": 5,
   "metadata": {},
   "outputs": [],
   "source": [
    "file.close()"
   ]
  },
  {
   "cell_type": "code",
   "execution_count": 6,
   "metadata": {},
   "outputs": [
    {
     "data": {
      "text/plain": [
       "<_io.TextIOWrapper name='test.txt' mode='w' encoding='UTF-8'>"
      ]
     },
     "execution_count": 6,
     "metadata": {},
     "output_type": "execute_result"
    }
   ],
   "source": [
    "file"
   ]
  },
  {
   "cell_type": "markdown",
   "metadata": {},
   "source": [
    "Check test.txt again. \n",
    "\n",
    "Now it is there.\n",
    "\n",
    "So it is important to not forget to close the file object.\n",
    "\n",
    "There is an elegant construct for this. Let's try it."
   ]
  },
  {
   "cell_type": "code",
   "execution_count": 8,
   "metadata": {},
   "outputs": [],
   "source": [
    "with open('test2.txt', 'w') as _f_: \n",
    "    _f_.write(\"Hello, Guys! Wuhuuu\")"
   ]
  },
  {
   "cell_type": "code",
   "execution_count": 9,
   "metadata": {},
   "outputs": [
    {
     "data": {
      "text/plain": [
       "<_io.TextIOWrapper name='test2.txt' mode='w' encoding='UTF-8'>"
      ]
     },
     "execution_count": 9,
     "metadata": {},
     "output_type": "execute_result"
    }
   ],
   "source": [
    "_f_"
   ]
  },
  {
   "cell_type": "markdown",
   "metadata": {},
   "source": [
    "Check again. Test test2.txt file is there.\n",
    "\n",
    "So what did we do here?\n",
    "\n",
    "open() returns a file object and it is commonly used with two arguments: open(file, mode)\n",
    "\n",
    "- file is a string containing the filename\n",
    "- mode describes in which way the file will be used: writing, reading, appending.\n",
    "\n",
    "mode can be:\n",
    "- `'r'` read (by default)\n",
    "- `'w'` write\n",
    "- `'a'` append\n",
    "\n",
    "Notice the fat-green with as statement. Within the with statement the file object will be available as f. After the statement the file object will be closed. "
   ]
  },
  {
   "cell_type": "code",
   "execution_count": 11,
   "metadata": {},
   "outputs": [
    {
     "name": "stdout",
     "output_type": "stream",
     "text": [
      "Hello, Guys! Wuhuuu\n"
     ]
    }
   ],
   "source": [
    "with open('test2.txt') as _f_:\n",
    "    print(_f_.read())"
   ]
  },
  {
   "cell_type": "code",
   "execution_count": 12,
   "metadata": {},
   "outputs": [
    {
     "data": {
      "text/plain": [
       "<_io.TextIOWrapper name='test2.txt' mode='r' encoding='UTF-8'>"
      ]
     },
     "execution_count": 12,
     "metadata": {},
     "output_type": "execute_result"
    }
   ],
   "source": [
    "_f_"
   ]
  },
  {
   "cell_type": "code",
   "execution_count": 13,
   "metadata": {},
   "outputs": [],
   "source": [
    "with open('test2.txt', 'a') as _f_:\n",
    "    _f_.write('\\nI am newline')"
   ]
  },
  {
   "cell_type": "markdown",
   "metadata": {},
   "source": [
    "Now we can check the contents of the file using \n",
    "\n",
    "!cat -- for Mac / Linux users\n",
    "\n",
    "!type -- for Windows users"
   ]
  },
  {
   "cell_type": "code",
   "execution_count": 18,
   "metadata": {},
   "outputs": [
    {
     "name": "stdout",
     "output_type": "stream",
     "text": [
      "Hello, Guys! Wuhuuu\r\n",
      "I am newline"
     ]
    }
   ],
   "source": [
    "!cat test2.txt"
   ]
  },
  {
   "cell_type": "code",
   "execution_count": 24,
   "metadata": {},
   "outputs": [
    {
     "data": {
      "text/plain": [
       "'The names are:\\n\\nJeremy\\nJan\\nAkmal'"
      ]
     },
     "execution_count": 24,
     "metadata": {},
     "output_type": "execute_result"
    }
   ],
   "source": [
    "text = \"\"\"\n",
    "The names are:\n",
    "\n",
    "Jeremy\n",
    "Jan\n",
    "Akmal\n",
    "\"\"\".strip()\n",
    "\n",
    "text"
   ]
  },
  {
   "cell_type": "code",
   "execution_count": 25,
   "metadata": {},
   "outputs": [
    {
     "data": {
      "text/plain": [
       "'data/chocolate.csv'"
      ]
     },
     "execution_count": 25,
     "metadata": {},
     "output_type": "execute_result"
    }
   ],
   "source": [
    "from os.path import join as path_join\n",
    "path_join('data', 'chocolate.csv')"
   ]
  },
  {
   "cell_type": "markdown",
   "metadata": {},
   "source": [
    "The import statement allows you to import libraries which you can use. \n",
    "\n",
    "Here we use os.path.join to safely join the paths of the data folder and the names_raw. txt file so that it works for any operating system (Windows/Mac).\n",
    "\n",
    "You can iterate over the file object and do something line by line."
   ]
  },
  {
   "cell_type": "code",
   "execution_count": 27,
   "metadata": {},
   "outputs": [
    {
     "data": {
      "text/plain": [
       "'data/names_raw.txt'"
      ]
     },
     "execution_count": 27,
     "metadata": {},
     "output_type": "execute_result"
    }
   ],
   "source": [
    "filename = path_join('data', 'names_raw.txt')\n",
    "filename"
   ]
  },
  {
   "cell_type": "code",
   "execution_count": 32,
   "metadata": {},
   "outputs": [
    {
     "name": "stdout",
     "output_type": "stream",
     "text": [
      "0 'The names are:\\n'\n",
      "1 '\\n'\n",
      "2 'Jeremy\\n'\n",
      "3 'Jan\\n'\n",
      "4 'Akmal'\n"
     ]
    }
   ],
   "source": [
    "with open(filename, 'r') as file:\n",
    "    for line_num, line in enumerate(file): \n",
    "        print(line_num, repr(line))"
   ]
  },
  {
   "cell_type": "markdown",
   "metadata": {},
   "source": [
    "Let's say now we want to transform this file into a list of names. "
   ]
  },
  {
   "cell_type": "markdown",
   "metadata": {},
   "source": [
    "**Question:** How can we transform this into a list of the names?\n",
    "<br>\n",
    "**Answer:**"
   ]
  },
  {
   "cell_type": "markdown",
   "metadata": {},
   "source": [
    "Let's parse the contents of this file into a list of names."
   ]
  },
  {
   "cell_type": "code",
   "execution_count": 35,
   "metadata": {},
   "outputs": [
    {
     "data": {
      "text/plain": [
       "['Jeremy', 'Jan', 'Akmal']"
      ]
     },
     "execution_count": 35,
     "metadata": {},
     "output_type": "execute_result"
    }
   ],
   "source": [
    "with open(filename, 'r') as file:\n",
    "    file.readline()\n",
    "    names = []\n",
    "    for line in file:\n",
    "        if len(line.strip()) >= 1:\n",
    "            names.append(line.strip())\n",
    "\n",
    "names"
   ]
  },
  {
   "cell_type": "markdown",
   "metadata": {},
   "source": [
    "What did we do here?\n",
    "\n",
    "We ignored the first line.\n",
    "\n",
    "Then we looped over the other lines. We used the if statement to ignore the empty rows. We strip the non-empty rows and add them to names."
   ]
  },
  {
   "cell_type": "markdown",
   "metadata": {},
   "source": [
    "### JSON"
   ]
  },
  {
   "cell_type": "markdown",
   "metadata": {},
   "source": [
    "JSON (JavaScript Object Notation) is an open-standard format that uses human-readable text to transmit data objects consisting of attribute–value pairs. \n",
    "\n",
    "It is used often by API's (Application Programming Interface) to communicate data between programs or to commumnicate data between an applications and users.\n",
    "\n",
    "The notation is almost the same as the dictionary in Python except for:\n",
    "\n",
    "- JSON: true/false -- Python: True/False\n",
    "- JSON: null -- Python: None\n",
    "\n",
    "Here is an example JSON from [wikipedia](https://en.wikipedia.org/wiki/JSON#Data_types.2C_syntax_and_example)\n",
    "\n",
    "```json\n",
    "{\n",
    "  \"firstName\": \"John\",\n",
    "  \"lastName\": \"Smith\",\n",
    "  \"isAlive\": true,\n",
    "  \"age\": 25,\n",
    "  \"address\": {\n",
    "    \"streetAddress\": \"21 2nd Street\",\n",
    "    \"city\": \"New York\",\n",
    "    \"state\": \"NY\",\n",
    "    \"postalCode\": \"10021-3100\"\n",
    "  },\n",
    "  \"phoneNumbers\": [\n",
    "    {\n",
    "      \"type\": \"home\",\n",
    "      \"number\": \"212 555-1234\"\n",
    "    },\n",
    "    {\n",
    "      \"type\": \"office\",\n",
    "      \"number\": \"646 555-4567\"\n",
    "    },\n",
    "    {\n",
    "      \"type\": \"mobile\",\n",
    "      \"number\": \"123 456-7890\"\n",
    "    }\n",
    "  ],\n",
    "  \"children\": [],\n",
    "  \"spouse\": null\n",
    "}\n",
    "```"
   ]
  },
  {
   "cell_type": "markdown",
   "metadata": {},
   "source": [
    "First we import the json library to provide us with the functionality. "
   ]
  },
  {
   "cell_type": "code",
   "execution_count": 36,
   "metadata": {},
   "outputs": [],
   "source": [
    "import json"
   ]
  },
  {
   "cell_type": "markdown",
   "metadata": {},
   "source": [
    "We can transform a data object into a json string and transform it back. "
   ]
  },
  {
   "cell_type": "code",
   "execution_count": 48,
   "metadata": {},
   "outputs": [
    {
     "data": {
      "text/plain": [
       "{'name': 'Azhar', 'grades': [10, 15], 'teacher': True, 'complaints': None}"
      ]
     },
     "execution_count": 48,
     "metadata": {},
     "output_type": "execute_result"
    }
   ],
   "source": [
    "data = {\"name\": \"Azhar\", \n",
    "        \"grades\": [10, 15], \n",
    "        \"teacher\": True, \n",
    "        \"complaints\": None}\n",
    "data"
   ]
  },
  {
   "cell_type": "code",
   "execution_count": 49,
   "metadata": {},
   "outputs": [
    {
     "data": {
      "text/plain": [
       "'{\"name\": \"Azhar\", \"grades\": [10, 15], \"teacher\": true, \"complaints\": null}'"
      ]
     },
     "execution_count": 49,
     "metadata": {},
     "output_type": "execute_result"
    }
   ],
   "source": [
    "data_json = json.dumps(data)\n",
    "data_json"
   ]
  },
  {
   "cell_type": "markdown",
   "metadata": {},
   "source": [
    "Notice the difference in true and null. Also notice the addidtional quotes at the start and the end as this is a string.\n",
    "\n",
    "Now we del data. Then load it again from the JSON file."
   ]
  },
  {
   "cell_type": "code",
   "execution_count": 50,
   "metadata": {},
   "outputs": [
    {
     "data": {
      "text/plain": [
       "{'name': 'Azhar', 'grades': [10, 15], 'teacher': True, 'complaints': None}"
      ]
     },
     "execution_count": 50,
     "metadata": {},
     "output_type": "execute_result"
    }
   ],
   "source": [
    "data_dict = json.loads(data_json)\n",
    "data_dict"
   ]
  },
  {
   "cell_type": "code",
   "execution_count": 51,
   "metadata": {},
   "outputs": [
    {
     "data": {
      "text/plain": [
       "[10, 15]"
      ]
     },
     "execution_count": 51,
     "metadata": {},
     "output_type": "execute_result"
    }
   ],
   "source": [
    "data_dict['grades']"
   ]
  },
  {
   "cell_type": "markdown",
   "metadata": {},
   "source": [
    "Now we can dump and load data from text files that contain json directly."
   ]
  },
  {
   "cell_type": "code",
   "execution_count": 52,
   "metadata": {},
   "outputs": [],
   "source": [
    "data = [{'name': 'Jeremy', 'grades': [10, 15], 'teacher': True, 'complaints': None},\n",
    "        {'name': 'Akmal', 'grades': [3, 4], 'teacher': True, 'complaints': \"Many\"},\n",
    "        {'name': 'Jan', 'grades': [8, 13, 20], 'teacher': True, 'complaints': None},\n",
    "        {'name': 'Heng', 'grades': [5, 5, 5], 'teacher': False, 'complaints': \"Many, so many!\"}\n",
    "       ]"
   ]
  },
  {
   "cell_type": "code",
   "execution_count": 53,
   "metadata": {},
   "outputs": [],
   "source": [
    "with open('people.json', 'w') as file:\n",
    "    json.dump(data, file)"
   ]
  },
  {
   "cell_type": "markdown",
   "metadata": {},
   "source": [
    "Let's look at the resulting json file using !cat for Mac/Linux and !type for windows"
   ]
  },
  {
   "cell_type": "code",
   "execution_count": 54,
   "metadata": {},
   "outputs": [
    {
     "name": "stdout",
     "output_type": "stream",
     "text": [
      "[{\"name\": \"Jeremy\", \"grades\": [10, 15], \"teacher\": true, \"complaints\": null}, {\"name\": \"Akmal\", \"grades\": [3, 4], \"teacher\": true, \"complaints\": \"Many\"}, {\"name\": \"Jan\", \"grades\": [8, 13, 20], \"teacher\": true, \"complaints\": null}, {\"name\": \"Heng\", \"grades\": [5, 5, 5], \"teacher\": false, \"complaints\": \"Many, so many!\"}]"
     ]
    }
   ],
   "source": [
    "!cat people.json"
   ]
  },
  {
   "cell_type": "markdown",
   "metadata": {},
   "source": [
    "Now we can load that data back into a dictionary"
   ]
  },
  {
   "cell_type": "code",
   "execution_count": 55,
   "metadata": {},
   "outputs": [
    {
     "data": {
      "text/plain": [
       "[{'name': 'Jeremy', 'grades': [10, 15], 'teacher': True, 'complaints': None},\n",
       " {'name': 'Akmal', 'grades': [3, 4], 'teacher': True, 'complaints': 'Many'},\n",
       " {'name': 'Jan', 'grades': [8, 13, 20], 'teacher': True, 'complaints': None},\n",
       " {'name': 'Heng',\n",
       "  'grades': [5, 5, 5],\n",
       "  'teacher': False,\n",
       "  'complaints': 'Many, so many!'}]"
      ]
     },
     "execution_count": 55,
     "metadata": {},
     "output_type": "execute_result"
    }
   ],
   "source": [
    "with open('people.json', 'r') as file: \n",
    "    cads = json.load(file)\n",
    "\n",
    "cads"
   ]
  },
  {
   "cell_type": "code",
   "execution_count": 59,
   "metadata": {},
   "outputs": [
    {
     "data": {
      "text/plain": [
       "(list, dict)"
      ]
     },
     "execution_count": 59,
     "metadata": {},
     "output_type": "execute_result"
    }
   ],
   "source": [
    "type(cads), type(cads[0])"
   ]
  },
  {
   "cell_type": "code",
   "execution_count": 60,
   "metadata": {},
   "outputs": [
    {
     "data": {
      "text/plain": [
       "True"
      ]
     },
     "execution_count": 60,
     "metadata": {},
     "output_type": "execute_result"
    }
   ],
   "source": [
    "data == cads"
   ]
  },
  {
   "cell_type": "markdown",
   "metadata": {},
   "source": [
    "### File browsing with glob\n",
    "\n",
    "With glob you can easily list files and folders in a directory"
   ]
  },
  {
   "cell_type": "code",
   "execution_count": 62,
   "metadata": {},
   "outputs": [
    {
     "name": "stdout",
     "output_type": "stream",
     "text": [
      "data/folders/base_one_file.txt\n",
      "data/folders/base_two_file.txt\n"
     ]
    }
   ],
   "source": [
    "import glob\n",
    "\n",
    "folder = path_join(\"data\", \"folders\")\n",
    "# folder\n",
    "\n",
    "for filename in glob.glob(\n",
    "    path_join('{}', '*.txt').format(folder)\n",
    "):\n",
    "    print(filename)"
   ]
  },
  {
   "cell_type": "markdown",
   "metadata": {},
   "source": [
    "And recursively."
   ]
  },
  {
   "cell_type": "code",
   "execution_count": 63,
   "metadata": {},
   "outputs": [
    {
     "name": "stdout",
     "output_type": "stream",
     "text": [
      "data/folders/base_one_file.txt\n",
      "data/folders/base_two_file.txt\n",
      "data/folders/folder_2/three_file.txt\n",
      "data/folders/folder_3/four_file.txt\n",
      "data/folders/folder_3/five_file.txt\n",
      "data/folders/folder_1/two_file.txt\n",
      "data/folders/folder_1/one_file.txt\n"
     ]
    }
   ],
   "source": [
    "import glob\n",
    "\n",
    "folder = path_join(\"data\", \"folders\")\n",
    "\n",
    "for filename in glob.glob(\n",
    "    path_join('{}', '**', '*.txt').format(folder), \n",
    "    recursive = True\n",
    "):\n",
    "    print(filename)"
   ]
  },
  {
   "cell_type": "markdown",
   "metadata": {},
   "source": [
    "You can get the files in a list like this."
   ]
  },
  {
   "cell_type": "code",
   "execution_count": 68,
   "metadata": {},
   "outputs": [
    {
     "data": {
      "text/plain": [
       "['data/folders/base_one_file.txt',\n",
       " 'data/folders/base_two_file.txt',\n",
       " 'data/folders/folder_2/three_file.txt',\n",
       " 'data/folders/folder_3/four_file.txt',\n",
       " 'data/folders/folder_3/five_file.txt',\n",
       " 'data/folders/folder_1/two_file.txt',\n",
       " 'data/folders/folder_1/one_file.txt']"
      ]
     },
     "execution_count": 68,
     "metadata": {},
     "output_type": "execute_result"
    }
   ],
   "source": [
    "glob.glob(\n",
    "    path_join('{}', '**', '*.txt').format(folder), \n",
    "    recursive = True\n",
    ")"
   ]
  },
  {
   "cell_type": "markdown",
   "metadata": {},
   "source": [
    "### Summary"
   ]
  },
  {
   "cell_type": "markdown",
   "metadata": {},
   "source": [
    "> #### open\n",
    "Built-in function to open a file object to read/write/append to a file.\n",
    "```python\n",
    "with open('test.txt', 'w') as f:\n",
    "    f.write(\"Hello\")\n",
    "with open('test2.txt', 'r') as f:\n",
    "    data = f.readlines()\n",
    "with open('test2.txt', 'r') as f:\n",
    "    f.readline()\n",
    "    data = []\n",
    "    for line in f:\n",
    "        data.append(line)\n",
    "```"
   ]
  },
  {
   "cell_type": "markdown",
   "metadata": {},
   "source": [
    "> #### JSON\n",
    "JSON (JavaScript Object Notation) is an open-standard format that uses human-readable text to transmit data objects consisting of attribute–value pairs. Used often to communicate data with API's.\n",
    "```python\n",
    "import json\n",
    "json.dumps(data)\n",
    "json.loads(json_str)\n",
    "with open('data.json', 'w') as f:\n",
    "    json.dump(data, f)\n",
    "with open('data.json', 'r') as f:\n",
    "    data = json.load(f)\n",
    "```"
   ]
  },
  {
   "cell_type": "markdown",
   "metadata": {},
   "source": [
    "> #### import\n",
    "import libraries to use the functionality\n",
    "```python\n",
    "import json\n",
    "import os\n",
    "```"
   ]
  },
  {
   "cell_type": "markdown",
   "metadata": {},
   "source": [
    "> #### glob\n",
    "module that is used for file listing\n",
    "```python\n",
    "for filename in glob.glob('{}/*.txt'.format(folder)):\n",
    "    print(filename)\n",
    "for filename in glob.glob('{}/**/*.txt'.format(folder), recursive=True):\n",
    "    print(filename)\n",
    "```"
   ]
  },
  {
   "cell_type": "markdown",
   "metadata": {
    "toc-hr-collapsed": false
   },
   "source": [
    "### RUN ME\n",
    "\n",
    "Please run the below code snippet. It is required for running tests for your solution."
   ]
  },
  {
   "cell_type": "code",
   "execution_count": 69,
   "metadata": {},
   "outputs": [],
   "source": [
    "def test(got, expected):\n",
    "    max_width_print = min([int(79/3), \n",
    "                           len(repr(got)) + 10, \n",
    "                           len(repr(expected)) + 10])\n",
    "    \n",
    "    if got == expected:\n",
    "        prefix = ' OK '.center(max_width_print, '=')\n",
    "    else:\n",
    "        prefix = ' FAIL '.center(max_width_print, '=')\n",
    "    print(('%s\\n     got: %s \\nexpected: %s' % (prefix, repr(got), repr(expected))), \n",
    "          end = '\\n\\n')"
   ]
  },
  {
   "cell_type": "code",
   "execution_count": 70,
   "metadata": {},
   "outputs": [
    {
     "name": "stdout",
     "output_type": "stream",
     "text": [
      "==== FAIL ===\n",
      "     got: 'a' \n",
      "expected: 'ab'\n",
      "\n",
      "===== OK ====\n",
      "     got: 'a' \n",
      "expected: 'a'\n",
      "\n"
     ]
    }
   ],
   "source": [
    "test('a', 'ab')\n",
    "test('a', 'a')"
   ]
  },
  {
   "cell_type": "markdown",
   "metadata": {},
   "source": [
    "### Exercises"
   ]
  },
  {
   "cell_type": "markdown",
   "metadata": {},
   "source": [
    "#### Exercise 1 - Read in stocks\n",
    "\n",
    "Read in stocks data in \"data/stocks.json\" and store it into stocks.\n",
    "\n",
    "Each line of this file is a json object, but the whole file content is not a valid json object since the jsons are no separated by a comma and there is no extra brackets surrounding the jsons.\n",
    "\n",
    "So you need to read the file line by line and transform those strings into dict using json.loads.\n",
    "\n",
    "Store the dictionaries into stocks.\n",
    "\n",
    "Hints: import os, os.path.join, import json, json.loads"
   ]
  },
  {
   "cell_type": "code",
   "execution_count": 72,
   "metadata": {},
   "outputs": [
    {
     "name": "stdout",
     "output_type": "stream",
     "text": [
      "read_in_stocks\n",
      "===== OK =====\n",
      "     got: 6756 \n",
      "expected: 6756\n",
      "\n",
      "========== OK ==========\n",
      "     got: <class 'dict'> \n",
      "expected: <class 'dict'>\n",
      "\n"
     ]
    }
   ],
   "source": [
    "from os.path import join as path_join\n",
    "from json import loads as json_loads\n",
    "\n",
    "stocks_file = path_join('data', 'stocks.json')\n",
    "stocks = []\n",
    "\n",
    "with open(stocks_file, 'r') as file:\n",
    "    for line in file: \n",
    "        stocks.append(json_loads(line))\n",
    "        \n",
    "# TEST\n",
    "print(\"read_in_stocks\")\n",
    "test(len(stocks), 6756)\n",
    "test(type(stocks[0]), dict)"
   ]
  },
  {
   "cell_type": "code",
   "execution_count": 73,
   "metadata": {},
   "outputs": [
    {
     "data": {
      "text/plain": [
       "6756"
      ]
     },
     "execution_count": 73,
     "metadata": {},
     "output_type": "execute_result"
    }
   ],
   "source": [
    "sum([isinstance(stock, dict) for stock in stocks])"
   ]
  },
  {
   "cell_type": "markdown",
   "metadata": {},
   "source": [
    "#### Exercise 2 - First ten names\n",
    "\n",
    "What are the names of the first ten companies?\n",
    "\n",
    "Hints: inspect one dict to see which key contains the name."
   ]
  },
  {
   "cell_type": "code",
   "execution_count": 75,
   "metadata": {},
   "outputs": [
    {
     "data": {
      "text/plain": [
       "['20-Day Simple Moving Average',\n",
       " '200-Day Simple Moving Average',\n",
       " '50-Day High',\n",
       " '50-Day Low',\n",
       " '50-Day Simple Moving Average',\n",
       " '52-Week High',\n",
       " '52-Week Low',\n",
       " 'Analyst Recom',\n",
       " 'Average True Range',\n",
       " 'Average Volume',\n",
       " 'Beta',\n",
       " 'Change',\n",
       " 'Change from Open',\n",
       " 'Company',\n",
       " 'Country',\n",
       " 'Current Ratio',\n",
       " 'Dividend Yield',\n",
       " 'EPS (ttm)',\n",
       " 'EPS growth next 5 years',\n",
       " 'EPS growth next year',\n",
       " 'EPS growth past 5 years',\n",
       " 'EPS growth quarter over quarter',\n",
       " 'EPS growth this year',\n",
       " 'Earnings Date',\n",
       " 'Float Short',\n",
       " 'Forward P/E',\n",
       " 'Gap',\n",
       " 'Gross Margin',\n",
       " 'Industry',\n",
       " 'Insider Ownership',\n",
       " 'Insider Transactions',\n",
       " 'Institutional Ownership',\n",
       " 'Institutional Transactions',\n",
       " 'LT Debt/Equity',\n",
       " 'Market Cap',\n",
       " 'Operating Margin',\n",
       " 'P/B',\n",
       " 'P/Cash',\n",
       " 'P/E',\n",
       " 'P/Free Cash Flow',\n",
       " 'P/S',\n",
       " 'PEG',\n",
       " 'Payout Ratio',\n",
       " 'Performance (Half Year)',\n",
       " 'Performance (Month)',\n",
       " 'Performance (Quarter)',\n",
       " 'Performance (Week)',\n",
       " 'Performance (YTD)',\n",
       " 'Performance (Year)',\n",
       " 'Price',\n",
       " 'Profit Margin',\n",
       " 'Quick Ratio',\n",
       " 'Relative Strength Index (14)',\n",
       " 'Relative Volume',\n",
       " 'Return on Assets',\n",
       " 'Return on Equity',\n",
       " 'Return on Investment',\n",
       " 'Sales growth past 5 years',\n",
       " 'Sales growth quarter over quarter',\n",
       " 'Sector',\n",
       " 'Shares Float',\n",
       " 'Shares Outstanding',\n",
       " 'Short Ratio',\n",
       " 'Ticker',\n",
       " 'Total Debt/Equity',\n",
       " 'Volatility (Month)',\n",
       " 'Volatility (Week)',\n",
       " 'Volume',\n",
       " '_id']"
      ]
     },
     "execution_count": 75,
     "metadata": {},
     "output_type": "execute_result"
    }
   ],
   "source": [
    "sorted(stocks[0].keys())"
   ]
  },
  {
   "cell_type": "code",
   "execution_count": 93,
   "metadata": {},
   "outputs": [
    {
     "name": "stdout",
     "output_type": "stream",
     "text": [
      "first_ten_names\n",
      "=========== OK ===========\n",
      "     got: ['Agilent Technologies Inc.', 'Alcoa, Inc.', 'WCM/BNY Mellon Focused Growth ADR ETF', 'iShares MSCI AC Asia Information Tech', 'Altisource Asset Management Corporation', 'Atlantic American Corp.', \"Aaron's, Inc.\", 'Applied Optoelectronics, Inc.', 'AAON Inc.', 'Advance Auto Parts Inc.'] \n",
      "expected: ['Agilent Technologies Inc.', 'Alcoa, Inc.', 'WCM/BNY Mellon Focused Growth ADR ETF', 'iShares MSCI AC Asia Information Tech', 'Altisource Asset Management Corporation', 'Atlantic American Corp.', \"Aaron's, Inc.\", 'Applied Optoelectronics, Inc.', 'AAON Inc.', 'Advance Auto Parts Inc.']\n",
      "\n"
     ]
    }
   ],
   "source": [
    "names = [stock.get('Company') \n",
    "         for stock in stocks[:10]]\n",
    "\n",
    "# TEST\n",
    "print(\"first_ten_names\")\n",
    "from answers import ten_companies\n",
    "test(names, ten_companies)"
   ]
  },
  {
   "cell_type": "code",
   "execution_count": null,
   "metadata": {},
   "outputs": [],
   "source": []
  },
  {
   "cell_type": "markdown",
   "metadata": {},
   "source": [
    "#### Exercise 3 - Inc only\n",
    "\n",
    "From the first 10 companies, now only show the names that contain the word 'Inc.'"
   ]
  },
  {
   "cell_type": "code",
   "execution_count": 94,
   "metadata": {},
   "outputs": [
    {
     "name": "stdout",
     "output_type": "stream",
     "text": [
      "inc_only\n",
      "=========== OK ===========\n",
      "     got: ['Agilent Technologies Inc.', 'Alcoa, Inc.', \"Aaron's, Inc.\", 'Applied Optoelectronics, Inc.', 'AAON Inc.', 'Advance Auto Parts Inc.'] \n",
      "expected: ['Agilent Technologies Inc.', 'Alcoa, Inc.', \"Aaron's, Inc.\", 'Applied Optoelectronics, Inc.', 'AAON Inc.', 'Advance Auto Parts Inc.']\n",
      "\n"
     ]
    }
   ],
   "source": [
    "# names = [company \n",
    "#          for company in names \n",
    "#          if company.strip().endswith('inc.')]\n",
    "\n",
    "# names = [company \n",
    "#          for company in names \n",
    "#          if 'inc' in company.lower()]\n",
    "\n",
    "names = [company \n",
    "         for company in names \n",
    "         if company.lower().find('inc') >= 0]\n",
    "\n",
    "# TEST\n",
    "from answers import inc_companies\n",
    "print(\"inc_only\")\n",
    "test(names, inc_companies)"
   ]
  },
  {
   "cell_type": "markdown",
   "metadata": {},
   "source": [
    "#### Exercise 4 - Average PE\n",
    "\n",
    "Now show the average P/E for all the data. Round it by 2.\n",
    "\n",
    "Not all the stocks have the P/E reported, so you need to handle that. \n",
    "\n",
    "What percentage of the stocks has P/E reported? Round it by 2."
   ]
  },
  {
   "cell_type": "code",
   "execution_count": 99,
   "metadata": {},
   "outputs": [
    {
     "ename": "KeyError",
     "evalue": "'P/E'",
     "output_type": "error",
     "traceback": [
      "\u001b[0;31m---------------------------------------------------------------------------\u001b[0m",
      "\u001b[0;31mKeyError\u001b[0m                                  Traceback (most recent call last)",
      "\u001b[0;32m<ipython-input-99-78a9ef66aacb>\u001b[0m in \u001b[0;36m<module>\u001b[0;34m\u001b[0m\n\u001b[0;32m----> 1\u001b[0;31m [stock['P/E'] \n\u001b[0m\u001b[1;32m      2\u001b[0m       for stock in stocks]\n",
      "\u001b[0;32m<ipython-input-99-78a9ef66aacb>\u001b[0m in \u001b[0;36m<listcomp>\u001b[0;34m(.0)\u001b[0m\n\u001b[0;32m----> 1\u001b[0;31m [stock['P/E'] \n\u001b[0m\u001b[1;32m      2\u001b[0m       for stock in stocks]\n",
      "\u001b[0;31mKeyError\u001b[0m: 'P/E'"
     ]
    }
   ],
   "source": [
    "[stock['P/E'] \n",
    "      for stock in stocks]"
   ]
  },
  {
   "cell_type": "code",
   "execution_count": 97,
   "metadata": {},
   "outputs": [
    {
     "name": "stdout",
     "output_type": "stream",
     "text": [
      "average_pe\n",
      "====== OK =====\n",
      "     got: 41.71 \n",
      "expected: 41.71\n",
      "\n",
      "===== OK ====\n",
      "     got: 0.5 \n",
      "expected: 0.5\n",
      "\n"
     ]
    }
   ],
   "source": [
    "pe = [stock['P/E'] \n",
    "      for stock in stocks \n",
    "      if stock.get('P/E')]\n",
    "\n",
    "avg_pe = round(sum(pe) / len(pe), 2)\n",
    "perc_with_pe = round(len(pe) / len(stocks), 2)\n",
    "\n",
    "# TEST\n",
    "print(\"average_pe\")\n",
    "test(avg_pe, 41.71)\n",
    "test(perc_with_pe, 0.5)"
   ]
  },
  {
   "cell_type": "markdown",
   "metadata": {},
   "source": [
    "## Exception Handling"
   ]
  },
  {
   "cell_type": "markdown",
   "metadata": {},
   "source": [
    "### Exceptions\n",
    "\n",
    "Here is an example Exception."
   ]
  },
  {
   "cell_type": "code",
   "execution_count": 98,
   "metadata": {
    "slideshow": {
     "slide_type": "subslide"
    }
   },
   "outputs": [
    {
     "ename": "SyntaxError",
     "evalue": "invalid syntax (<ipython-input-98-2b688bc740d7>, line 1)",
     "output_type": "error",
     "traceback": [
      "\u001b[0;36m  File \u001b[0;32m\"<ipython-input-98-2b688bc740d7>\"\u001b[0;36m, line \u001b[0;32m1\u001b[0m\n\u001b[0;31m    while True print('Hello world')\u001b[0m\n\u001b[0m               ^\u001b[0m\n\u001b[0;31mSyntaxError\u001b[0m\u001b[0;31m:\u001b[0m invalid syntax\n"
     ]
    }
   ],
   "source": [
    "while True print('Hello world')"
   ]
  },
  {
   "cell_type": "markdown",
   "metadata": {
    "slideshow": {
     "slide_type": "subslide"
    }
   },
   "source": [
    "- Arrow ^ pointing at the earliest point in the line where the error was detected\n",
    "- The error is caused by the token preceding the arrow\n",
    "- File name and line number are printed"
   ]
  },
  {
   "cell_type": "markdown",
   "metadata": {
    "slideshow": {
     "slide_type": "fragment"
    }
   },
   "source": [
    "There are different types of Exceptions.\n",
    "\n",
    "Previous one was SyntaxError, other built-in exception types include:\n",
    "- ZeroDivisionError -- division by zero\n",
    "- NameError -- name not defined\n",
    "- TypeError -- incorrect type\n",
    "- KeyError -- key not found in dict\n",
    "- IndexError -- index greater than length in list\n",
    "\n",
    "The last line of the error message indicates what happened. Let's go over them."
   ]
  },
  {
   "cell_type": "code",
   "execution_count": 102,
   "metadata": {
    "slideshow": {
     "slide_type": "subslide"
    }
   },
   "outputs": [
    {
     "ename": "ZeroDivisionError",
     "evalue": "division by zero",
     "output_type": "error",
     "traceback": [
      "\u001b[0;31m---------------------------------------------------------------------------\u001b[0m",
      "\u001b[0;31mZeroDivisionError\u001b[0m                         Traceback (most recent call last)",
      "\u001b[0;32m<ipython-input-102-0b280f36835c>\u001b[0m in \u001b[0;36m<module>\u001b[0;34m\u001b[0m\n\u001b[0;32m----> 1\u001b[0;31m \u001b[0;36m10\u001b[0m \u001b[0;34m*\u001b[0m \u001b[0;34m(\u001b[0m\u001b[0;36m1\u001b[0m\u001b[0;34m/\u001b[0m\u001b[0;36m0\u001b[0m\u001b[0;34m)\u001b[0m\u001b[0;34m\u001b[0m\u001b[0;34m\u001b[0m\u001b[0m\n\u001b[0m",
      "\u001b[0;31mZeroDivisionError\u001b[0m: division by zero"
     ]
    }
   ],
   "source": [
    "10 * (1/0)"
   ]
  },
  {
   "cell_type": "code",
   "execution_count": 103,
   "metadata": {
    "scrolled": true,
    "slideshow": {
     "slide_type": "subslide"
    }
   },
   "outputs": [
    {
     "ename": "NameError",
     "evalue": "name 'result' is not defined",
     "output_type": "error",
     "traceback": [
      "\u001b[0;31m---------------------------------------------------------------------------\u001b[0m",
      "\u001b[0;31mNameError\u001b[0m                                 Traceback (most recent call last)",
      "\u001b[0;32m<ipython-input-103-668902554156>\u001b[0m in \u001b[0;36m<module>\u001b[0;34m\u001b[0m\n\u001b[0;32m----> 1\u001b[0;31m \u001b[0;36m4\u001b[0m \u001b[0;34m+\u001b[0m \u001b[0mresult\u001b[0m\u001b[0;34m*\u001b[0m\u001b[0;36m3\u001b[0m\u001b[0;34m\u001b[0m\u001b[0;34m\u001b[0m\u001b[0m\n\u001b[0m",
      "\u001b[0;31mNameError\u001b[0m: name 'result' is not defined"
     ]
    }
   ],
   "source": [
    "4 + result*3"
   ]
  },
  {
   "cell_type": "code",
   "execution_count": 104,
   "metadata": {
    "scrolled": true,
    "slideshow": {
     "slide_type": "subslide"
    }
   },
   "outputs": [
    {
     "ename": "TypeError",
     "evalue": "can only concatenate str (not \"int\") to str",
     "output_type": "error",
     "traceback": [
      "\u001b[0;31m---------------------------------------------------------------------------\u001b[0m",
      "\u001b[0;31mTypeError\u001b[0m                                 Traceback (most recent call last)",
      "\u001b[0;32m<ipython-input-104-cc892b1f57d5>\u001b[0m in \u001b[0;36m<module>\u001b[0;34m\u001b[0m\n\u001b[0;32m----> 1\u001b[0;31m \u001b[0;34m'1'\u001b[0m \u001b[0;34m+\u001b[0m \u001b[0;36m1\u001b[0m\u001b[0;34m\u001b[0m\u001b[0;34m\u001b[0m\u001b[0m\n\u001b[0m",
      "\u001b[0;31mTypeError\u001b[0m: can only concatenate str (not \"int\") to str"
     ]
    }
   ],
   "source": [
    "'1' + 1"
   ]
  },
  {
   "cell_type": "code",
   "execution_count": 105,
   "metadata": {
    "slideshow": {
     "slide_type": "subslide"
    }
   },
   "outputs": [
    {
     "ename": "KeyError",
     "evalue": "0",
     "output_type": "error",
     "traceback": [
      "\u001b[0;31m---------------------------------------------------------------------------\u001b[0m",
      "\u001b[0;31mKeyError\u001b[0m                                  Traceback (most recent call last)",
      "\u001b[0;32m<ipython-input-105-5928a7108b75>\u001b[0m in \u001b[0;36m<module>\u001b[0;34m\u001b[0m\n\u001b[1;32m      1\u001b[0m \u001b[0md\u001b[0m \u001b[0;34m=\u001b[0m \u001b[0;34m{\u001b[0m\u001b[0;34m}\u001b[0m\u001b[0;34m\u001b[0m\u001b[0;34m\u001b[0m\u001b[0m\n\u001b[0;32m----> 2\u001b[0;31m \u001b[0md\u001b[0m\u001b[0;34m[\u001b[0m\u001b[0;36m0\u001b[0m\u001b[0;34m]\u001b[0m\u001b[0;34m\u001b[0m\u001b[0;34m\u001b[0m\u001b[0m\n\u001b[0m",
      "\u001b[0;31mKeyError\u001b[0m: 0"
     ]
    }
   ],
   "source": [
    "d = {}\n",
    "d[0]"
   ]
  },
  {
   "cell_type": "code",
   "execution_count": 109,
   "metadata": {
    "scrolled": true,
    "slideshow": {
     "slide_type": "subslide"
    }
   },
   "outputs": [
    {
     "ename": "IndexError",
     "evalue": "list index out of range",
     "output_type": "error",
     "traceback": [
      "\u001b[0;31m---------------------------------------------------------------------------\u001b[0m",
      "\u001b[0;31mIndexError\u001b[0m                                Traceback (most recent call last)",
      "\u001b[0;32m<ipython-input-109-7985abb5df3c>\u001b[0m in \u001b[0;36m<module>\u001b[0;34m\u001b[0m\n\u001b[1;32m      1\u001b[0m \u001b[0ml\u001b[0m \u001b[0;34m=\u001b[0m \u001b[0;34m[\u001b[0m\u001b[0;34m]\u001b[0m\u001b[0;34m\u001b[0m\u001b[0;34m\u001b[0m\u001b[0m\n\u001b[0;32m----> 2\u001b[0;31m \u001b[0ml\u001b[0m\u001b[0;34m[\u001b[0m\u001b[0;36m0\u001b[0m\u001b[0;34m]\u001b[0m\u001b[0;34m\u001b[0m\u001b[0;34m\u001b[0m\u001b[0m\n\u001b[0m",
      "\u001b[0;31mIndexError\u001b[0m: list index out of range"
     ]
    }
   ],
   "source": [
    "l = []\n",
    "l[0]"
   ]
  },
  {
   "cell_type": "markdown",
   "metadata": {
    "slideshow": {
     "slide_type": "slide"
    }
   },
   "source": [
    "The preceding part of the error message shows the context where the exception happened.\n",
    "\n",
    "It contains a stack traceback listing source lines.\n",
    "\n",
    "Here is an example."
   ]
  },
  {
   "cell_type": "code",
   "execution_count": 110,
   "metadata": {
    "slideshow": {
     "slide_type": "subslide"
    }
   },
   "outputs": [
    {
     "ename": "ZeroDivisionError",
     "evalue": "division by zero",
     "output_type": "error",
     "traceback": [
      "\u001b[0;31m---------------------------------------------------------------------------\u001b[0m",
      "\u001b[0;31mZeroDivisionError\u001b[0m                         Traceback (most recent call last)",
      "\u001b[0;32m<ipython-input-110-70751ab1fe5a>\u001b[0m in \u001b[0;36m<module>\u001b[0;34m\u001b[0m\n\u001b[1;32m      8\u001b[0m     \u001b[0;32mreturn\u001b[0m \u001b[0mcall_divide\u001b[0m\u001b[0;34m(\u001b[0m\u001b[0mx\u001b[0m\u001b[0;34m,\u001b[0m \u001b[0my\u001b[0m\u001b[0;34m)\u001b[0m\u001b[0;34m\u001b[0m\u001b[0;34m\u001b[0m\u001b[0m\n\u001b[1;32m      9\u001b[0m \u001b[0;34m\u001b[0m\u001b[0m\n\u001b[0;32m---> 10\u001b[0;31m \u001b[0mf\u001b[0m\u001b[0;34m(\u001b[0m\u001b[0;36m1\u001b[0m\u001b[0;34m,\u001b[0m \u001b[0;36m0\u001b[0m\u001b[0;34m)\u001b[0m\u001b[0;34m\u001b[0m\u001b[0;34m\u001b[0m\u001b[0m\n\u001b[0m",
      "\u001b[0;32m<ipython-input-110-70751ab1fe5a>\u001b[0m in \u001b[0;36mf\u001b[0;34m(x, y)\u001b[0m\n\u001b[1;32m      6\u001b[0m \u001b[0;34m\u001b[0m\u001b[0m\n\u001b[1;32m      7\u001b[0m \u001b[0;32mdef\u001b[0m \u001b[0mf\u001b[0m\u001b[0;34m(\u001b[0m\u001b[0mx\u001b[0m\u001b[0;34m,\u001b[0m \u001b[0my\u001b[0m\u001b[0;34m)\u001b[0m\u001b[0;34m:\u001b[0m\u001b[0;34m\u001b[0m\u001b[0;34m\u001b[0m\u001b[0m\n\u001b[0;32m----> 8\u001b[0;31m     \u001b[0;32mreturn\u001b[0m \u001b[0mcall_divide\u001b[0m\u001b[0;34m(\u001b[0m\u001b[0mx\u001b[0m\u001b[0;34m,\u001b[0m \u001b[0my\u001b[0m\u001b[0;34m)\u001b[0m\u001b[0;34m\u001b[0m\u001b[0;34m\u001b[0m\u001b[0m\n\u001b[0m\u001b[1;32m      9\u001b[0m \u001b[0;34m\u001b[0m\u001b[0m\n\u001b[1;32m     10\u001b[0m \u001b[0mf\u001b[0m\u001b[0;34m(\u001b[0m\u001b[0;36m1\u001b[0m\u001b[0;34m,\u001b[0m \u001b[0;36m0\u001b[0m\u001b[0;34m)\u001b[0m\u001b[0;34m\u001b[0m\u001b[0;34m\u001b[0m\u001b[0m\n",
      "\u001b[0;32m<ipython-input-110-70751ab1fe5a>\u001b[0m in \u001b[0;36mcall_divide\u001b[0;34m(x, y)\u001b[0m\n\u001b[1;32m      3\u001b[0m \u001b[0;34m\u001b[0m\u001b[0m\n\u001b[1;32m      4\u001b[0m \u001b[0;32mdef\u001b[0m \u001b[0mcall_divide\u001b[0m\u001b[0;34m(\u001b[0m\u001b[0mx\u001b[0m\u001b[0;34m,\u001b[0m \u001b[0my\u001b[0m\u001b[0;34m)\u001b[0m\u001b[0;34m:\u001b[0m\u001b[0;34m\u001b[0m\u001b[0;34m\u001b[0m\u001b[0m\n\u001b[0;32m----> 5\u001b[0;31m     \u001b[0;32mreturn\u001b[0m \u001b[0mdivide\u001b[0m\u001b[0;34m(\u001b[0m\u001b[0mx\u001b[0m\u001b[0;34m,\u001b[0m \u001b[0my\u001b[0m\u001b[0;34m)\u001b[0m\u001b[0;34m\u001b[0m\u001b[0;34m\u001b[0m\u001b[0m\n\u001b[0m\u001b[1;32m      6\u001b[0m \u001b[0;34m\u001b[0m\u001b[0m\n\u001b[1;32m      7\u001b[0m \u001b[0;32mdef\u001b[0m \u001b[0mf\u001b[0m\u001b[0;34m(\u001b[0m\u001b[0mx\u001b[0m\u001b[0;34m,\u001b[0m \u001b[0my\u001b[0m\u001b[0;34m)\u001b[0m\u001b[0;34m:\u001b[0m\u001b[0;34m\u001b[0m\u001b[0;34m\u001b[0m\u001b[0m\n",
      "\u001b[0;32m<ipython-input-110-70751ab1fe5a>\u001b[0m in \u001b[0;36mdivide\u001b[0;34m(x, y)\u001b[0m\n\u001b[1;32m      1\u001b[0m \u001b[0;32mdef\u001b[0m \u001b[0mdivide\u001b[0m\u001b[0;34m(\u001b[0m\u001b[0mx\u001b[0m\u001b[0;34m,\u001b[0m \u001b[0my\u001b[0m\u001b[0;34m)\u001b[0m\u001b[0;34m:\u001b[0m\u001b[0;34m\u001b[0m\u001b[0;34m\u001b[0m\u001b[0m\n\u001b[0;32m----> 2\u001b[0;31m     \u001b[0;32mreturn\u001b[0m \u001b[0mx\u001b[0m\u001b[0;34m/\u001b[0m\u001b[0my\u001b[0m\u001b[0;34m\u001b[0m\u001b[0;34m\u001b[0m\u001b[0m\n\u001b[0m\u001b[1;32m      3\u001b[0m \u001b[0;34m\u001b[0m\u001b[0m\n\u001b[1;32m      4\u001b[0m \u001b[0;32mdef\u001b[0m \u001b[0mcall_divide\u001b[0m\u001b[0;34m(\u001b[0m\u001b[0mx\u001b[0m\u001b[0;34m,\u001b[0m \u001b[0my\u001b[0m\u001b[0;34m)\u001b[0m\u001b[0;34m:\u001b[0m\u001b[0;34m\u001b[0m\u001b[0;34m\u001b[0m\u001b[0m\n\u001b[1;32m      5\u001b[0m     \u001b[0;32mreturn\u001b[0m \u001b[0mdivide\u001b[0m\u001b[0;34m(\u001b[0m\u001b[0mx\u001b[0m\u001b[0;34m,\u001b[0m \u001b[0my\u001b[0m\u001b[0;34m)\u001b[0m\u001b[0;34m\u001b[0m\u001b[0;34m\u001b[0m\u001b[0m\n",
      "\u001b[0;31mZeroDivisionError\u001b[0m: division by zero"
     ]
    }
   ],
   "source": [
    "def divide(x, y):\n",
    "    return x/y\n",
    "\n",
    "def call_divide(x, y):\n",
    "    return divide(x, y)\n",
    "\n",
    "def f(x, y):\n",
    "    return call_divide(x, y)\n",
    "\n",
    "f(1, 0)"
   ]
  },
  {
   "cell_type": "markdown",
   "metadata": {},
   "source": [
    "**Question:** What has caused the Error?\n",
    "<br>\n",
    "**Answer:** We cannot divide by zero! 1/0 gives an Exception."
   ]
  },
  {
   "cell_type": "markdown",
   "metadata": {},
   "source": [
    "### Try except\n",
    "\n",
    "Sometimes exceptions are expected to happen and we want our code to handle those exceptions in a certain way. For this there is the try except statement.\n",
    "\n",
    "Let's try these inputs.\n",
    "\n",
    "- typing a number\n",
    "- typing a non-numeric string\n",
    "- typing a zero\n",
    "- ending the cell by intterupting the kernel"
   ]
  },
  {
   "cell_type": "code",
   "execution_count": null,
   "metadata": {},
   "outputs": [
    {
     "name": "stdout",
     "output_type": "stream",
     "text": [
      "Please enter a number: 1\n",
      "inverse is: 1.0\n",
      "Please enter a number: 0\n",
      "Oops!  That was no valid number.  Try again...\n",
      "Oops!  That was no valid number.  Try again...\n",
      "Please enter a number: 1\n",
      "inverse is: 1.0\n",
      "Oops!  That was no valid number.  Try again...\n"
     ]
    }
   ],
   "source": [
    "while True:\n",
    "    try:\n",
    "        x = float(input(\"Please enter a number: \"))\n",
    "        print(\"inverse is:\",  1/x)\n",
    "        break\n",
    "    except:\n",
    "        print(\"Oops!  That was no valid number.  Try again...\")"
   ]
  },
  {
   "cell_type": "markdown",
   "metadata": {},
   "source": [
    "The try statement.\n",
    "\n",
    "1. the __try clause__ (block under try:) is executed\n",
    "1. if __no exception__ occurs, __except clause is skipped__\n",
    "1. if __an exception occurs__, the rest of the try clause is skipped,\n",
    "    - and __the first except__ clause matching the exception __is executed__,\n",
    "    - if __no handler__ is found, execution stops, an error __Traceback is displayed__.\n",
    "    \n",
    "In this case we have used a bare except statement. This means all exception are catched including the KeyboardInterrupt.\n",
    "\n",
    "You can specifiy which exception you want to be catched and you want to handle them.\n",
    "\n",
    "Let's try typing an number, a non-numeric number, a zero and a keyboardintterup again."
   ]
  },
  {
   "cell_type": "code",
   "execution_count": null,
   "metadata": {},
   "outputs": [],
   "source": [
    "while True:\n",
    "    try:\n",
    "        x = float(input(\"Please enter a number: \"))\n",
    "        print(\"inverse is:\",  1/x)\n",
    "        break\n",
    "    except ValueError:\n",
    "        print(\"Oops!  That was no valid number.  Try again...\")\n",
    "    except ZeroDivisionError:\n",
    "        print(\"Oops! Cannot divide by 0!\")\n",
    "    except:\n",
    "        print(\"Something else went wrong\")\n",
    "        raise\n",
    "        break"
   ]
  },
  {
   "cell_type": "code",
   "execution_count": 8,
   "metadata": {},
   "outputs": [
    {
     "ename": "IndexError",
     "evalue": "",
     "output_type": "error",
     "traceback": [
      "\u001b[0;31m---------------------------------------------------------------------------\u001b[0m",
      "\u001b[0;31mIndexError\u001b[0m                                Traceback (most recent call last)",
      "\u001b[0;32m<ipython-input-8-e26c760a74f0>\u001b[0m in \u001b[0;36m<module>\u001b[0;34m\u001b[0m\n\u001b[1;32m      1\u001b[0m \u001b[0;34m'x'\u001b[0m \u001b[0;34m+\u001b[0m \u001b[0;34m'y'\u001b[0m\u001b[0;34m\u001b[0m\u001b[0;34m\u001b[0m\u001b[0m\n\u001b[0;32m----> 2\u001b[0;31m \u001b[0;32mraise\u001b[0m \u001b[0mIndexError\u001b[0m\u001b[0;34m\u001b[0m\u001b[0;34m\u001b[0m\u001b[0m\n\u001b[0m",
      "\u001b[0;31mIndexError\u001b[0m: "
     ]
    }
   ],
   "source": [
    "'x' + 'y'\n",
    "raise IndexError"
   ]
  },
  {
   "cell_type": "markdown",
   "metadata": {},
   "source": [
    "else and finally are usefull to define clean-up action.\n",
    "- ```else``` statements are executed __only if__ no exceptions occur in ```try``` block.\n",
    "- ```finally``` statements are __always__ executed.\n",
    "\n",
    "else clause avoids accidentally catching an exception."
   ]
  },
  {
   "cell_type": "code",
   "execution_count": 11,
   "metadata": {},
   "outputs": [
    {
     "name": "stdout",
     "output_type": "stream",
     "text": [
      "division by zero!\n",
      "executing finally clause\n"
     ]
    }
   ],
   "source": [
    "def divide(x, y):\n",
    "    try:\n",
    "        result = x / y\n",
    "    except ZeroDivisionError:\n",
    "        print(\"division by zero!\")\n",
    "    else:\n",
    "        print(\"result is\", result)\n",
    "    finally:\n",
    "        print(\"executing finally clause\")\n",
    "        \n",
    "divide(2,0)"
   ]
  },
  {
   "cell_type": "code",
   "execution_count": 12,
   "metadata": {},
   "outputs": [
    {
     "name": "stdout",
     "output_type": "stream",
     "text": [
      "result is 2.0\n",
      "executing finally clause\n"
     ]
    }
   ],
   "source": [
    "divide(2,1)"
   ]
  },
  {
   "cell_type": "code",
   "execution_count": 13,
   "metadata": {},
   "outputs": [
    {
     "name": "stdout",
     "output_type": "stream",
     "text": [
      "executing finally clause\n"
     ]
    },
    {
     "ename": "TypeError",
     "evalue": "unsupported operand type(s) for /: 'str' and 'str'",
     "output_type": "error",
     "traceback": [
      "\u001b[0;31m---------------------------------------------------------------------------\u001b[0m",
      "\u001b[0;31mTypeError\u001b[0m                                 Traceback (most recent call last)",
      "\u001b[0;32m<ipython-input-13-c47f15ada3ae>\u001b[0m in \u001b[0;36m<module>\u001b[0;34m\u001b[0m\n\u001b[0;32m----> 1\u001b[0;31m \u001b[0mdivide\u001b[0m\u001b[0;34m(\u001b[0m\u001b[0;34m\"a\"\u001b[0m\u001b[0;34m,\u001b[0m\u001b[0;34m\"b\"\u001b[0m\u001b[0;34m)\u001b[0m\u001b[0;34m\u001b[0m\u001b[0;34m\u001b[0m\u001b[0m\n\u001b[0m",
      "\u001b[0;32m<ipython-input-11-aa658e3576f9>\u001b[0m in \u001b[0;36mdivide\u001b[0;34m(x, y)\u001b[0m\n\u001b[1;32m      1\u001b[0m \u001b[0;32mdef\u001b[0m \u001b[0mdivide\u001b[0m\u001b[0;34m(\u001b[0m\u001b[0mx\u001b[0m\u001b[0;34m,\u001b[0m \u001b[0my\u001b[0m\u001b[0;34m)\u001b[0m\u001b[0;34m:\u001b[0m\u001b[0;34m\u001b[0m\u001b[0;34m\u001b[0m\u001b[0m\n\u001b[1;32m      2\u001b[0m     \u001b[0;32mtry\u001b[0m\u001b[0;34m:\u001b[0m\u001b[0;34m\u001b[0m\u001b[0;34m\u001b[0m\u001b[0m\n\u001b[0;32m----> 3\u001b[0;31m         \u001b[0mresult\u001b[0m \u001b[0;34m=\u001b[0m \u001b[0mx\u001b[0m \u001b[0;34m/\u001b[0m \u001b[0my\u001b[0m\u001b[0;34m\u001b[0m\u001b[0;34m\u001b[0m\u001b[0m\n\u001b[0m\u001b[1;32m      4\u001b[0m     \u001b[0;32mexcept\u001b[0m \u001b[0mZeroDivisionError\u001b[0m\u001b[0;34m:\u001b[0m\u001b[0;34m\u001b[0m\u001b[0;34m\u001b[0m\u001b[0m\n\u001b[1;32m      5\u001b[0m         \u001b[0mprint\u001b[0m\u001b[0;34m(\u001b[0m\u001b[0;34m\"division by zero!\"\u001b[0m\u001b[0;34m)\u001b[0m\u001b[0;34m\u001b[0m\u001b[0;34m\u001b[0m\u001b[0m\n",
      "\u001b[0;31mTypeError\u001b[0m: unsupported operand type(s) for /: 'str' and 'str'"
     ]
    }
   ],
   "source": [
    "divide(\"a\",\"b\")"
   ]
  },
  {
   "cell_type": "markdown",
   "metadata": {},
   "source": [
    "Let's do another case."
   ]
  },
  {
   "cell_type": "code",
   "execution_count": 14,
   "metadata": {},
   "outputs": [
    {
     "ename": "TypeError",
     "evalue": "unsupported operand type(s) for +=: 'int' and 'str'",
     "output_type": "error",
     "traceback": [
      "\u001b[0;31m---------------------------------------------------------------------------\u001b[0m",
      "\u001b[0;31mTypeError\u001b[0m                                 Traceback (most recent call last)",
      "\u001b[0;32m<ipython-input-14-ba65e6c93eed>\u001b[0m in \u001b[0;36m<module>\u001b[0;34m\u001b[0m\n\u001b[1;32m      3\u001b[0m \u001b[0;34m\u001b[0m\u001b[0m\n\u001b[1;32m      4\u001b[0m \u001b[0;32mfor\u001b[0m \u001b[0mnumber\u001b[0m \u001b[0;32min\u001b[0m \u001b[0mnumbers\u001b[0m\u001b[0;34m:\u001b[0m\u001b[0;34m\u001b[0m\u001b[0;34m\u001b[0m\u001b[0m\n\u001b[0;32m----> 5\u001b[0;31m     \u001b[0mtotal\u001b[0m \u001b[0;34m+=\u001b[0m \u001b[0mnumber\u001b[0m\u001b[0;34m\u001b[0m\u001b[0;34m\u001b[0m\u001b[0m\n\u001b[0m\u001b[1;32m      6\u001b[0m \u001b[0;34m\u001b[0m\u001b[0m\n\u001b[1;32m      7\u001b[0m \u001b[0mtotal\u001b[0m\u001b[0;34m\u001b[0m\u001b[0;34m\u001b[0m\u001b[0m\n",
      "\u001b[0;31mTypeError\u001b[0m: unsupported operand type(s) for +=: 'int' and 'str'"
     ]
    }
   ],
   "source": [
    "total = 0\n",
    "numbers = [1,2,3,\"a\", \"b\", \"c\", 5, 6, 7]\n",
    "\n",
    "for number in numbers:\n",
    "    total += number\n",
    "    \n",
    "total"
   ]
  },
  {
   "cell_type": "markdown",
   "metadata": {},
   "source": [
    "We cannot add up strings to a number.\n",
    "\n",
    "If we want to have the total of the numbers in the list we can ignore the strings."
   ]
  },
  {
   "cell_type": "code",
   "execution_count": 20,
   "metadata": {},
   "outputs": [
    {
     "name": "stdout",
     "output_type": "stream",
     "text": [
      "a is not a number\n",
      "b is not a number\n",
      "c is not a number\n"
     ]
    },
    {
     "data": {
      "text/plain": [
       "24"
      ]
     },
     "execution_count": 20,
     "metadata": {},
     "output_type": "execute_result"
    }
   ],
   "source": [
    "total = 0\n",
    "numbers = [1,2,3,\"a\", \"b\", \"c\", 5, 6, 7]\n",
    "\n",
    "for number in numbers:\n",
    "    try: \n",
    "        total += number\n",
    "    except TypeError:\n",
    "        print(number, 'is not a number')\n",
    "    \n",
    "total"
   ]
  },
  {
   "cell_type": "markdown",
   "metadata": {},
   "source": [
    "You can use the bare except statement. As long as you are mindful about that it catches all exceptions it's fine. For a script you operate yourself it can be fine."
   ]
  },
  {
   "cell_type": "code",
   "execution_count": 21,
   "metadata": {},
   "outputs": [
    {
     "name": "stdout",
     "output_type": "stream",
     "text": [
      "a is not a number\n",
      "b is not a number\n",
      "c is not a number\n"
     ]
    },
    {
     "data": {
      "text/plain": [
       "24"
      ]
     },
     "execution_count": 21,
     "metadata": {},
     "output_type": "execute_result"
    }
   ],
   "source": [
    "total = 0\n",
    "numbers = [1,2,3,\"a\", \"b\", \"c\", 5, 6, 7]\n",
    "\n",
    "for number in numbers:\n",
    "    try: \n",
    "        total += number\n",
    "    except:\n",
    "        print(number, 'is not a number')\n",
    "    \n",
    "total"
   ]
  },
  {
   "cell_type": "markdown",
   "metadata": {},
   "source": [
    "### Summary"
   ]
  },
  {
   "cell_type": "markdown",
   "metadata": {},
   "source": [
    "> #### try except\n",
    "If an error is encountered, a try block code execution is stopped and transferred\n",
    "down to the except block. \n",
    "```python\n",
    "try:\n",
    "    total += number\n",
    "except:\n",
    "    pass\n",
    "```"
   ]
  },
  {
   "cell_type": "markdown",
   "metadata": {},
   "source": [
    "> #### try except else finally\n",
    "In addition to using an except block after the try block, you can also use the\n",
    "finally block. The code in the finally block will be executed regardless of whether an exception\n",
    "occurs. The else code is executed in case the try statement was a succes.\n",
    "```python\n",
    "try:\n",
    "    result = x / y\n",
    "except ZeroDivisionError:\n",
    "    print(\"division by zero!\")\n",
    "else:\n",
    "    print(\"result is\", result)\n",
    "finally:\n",
    "    print(\"executing finally clause\")\n",
    "```"
   ]
  },
  {
   "cell_type": "markdown",
   "metadata": {
    "toc-hr-collapsed": false
   },
   "source": [
    "### RUN ME\n",
    "\n",
    "Please run the below code snippet. It is required for running tests for your solution."
   ]
  },
  {
   "cell_type": "code",
   "execution_count": 24,
   "metadata": {},
   "outputs": [],
   "source": [
    "def test(got, expected):\n",
    "    max_width_print = min([int(79/3), \n",
    "                           len(repr(got)) + 10, \n",
    "                           len(repr(expected)) + 10])\n",
    "    \n",
    "    if got == expected:\n",
    "        prefix = ' OK '.center(max_width_print, '=')\n",
    "    else:\n",
    "        prefix = ' FAIL '.center(max_width_print, '=')\n",
    "    print(('%s\\n     got: %s \\nexpected: %s' % (prefix, repr(got), repr(expected))), \n",
    "          end = '\\n\\n')"
   ]
  },
  {
   "cell_type": "code",
   "execution_count": 25,
   "metadata": {},
   "outputs": [
    {
     "name": "stdout",
     "output_type": "stream",
     "text": [
      "==== FAIL ===\n",
      "     got: 'a' \n",
      "expected: 'ab'\n",
      "\n",
      "===== OK ====\n",
      "     got: 'a' \n",
      "expected: 'a'\n",
      "\n"
     ]
    }
   ],
   "source": [
    "test('a', 'ab')\n",
    "test('a', 'a')"
   ]
  },
  {
   "cell_type": "markdown",
   "metadata": {
    "toc-hr-collapsed": false
   },
   "source": [
    "### Exercises"
   ]
  },
  {
   "cell_type": "markdown",
   "metadata": {},
   "source": [
    "#### Exercise 1 - Fix it Multiply\n",
    "\n",
    "We want to multiple the values of a and b of the dictionary. \n",
    "\n",
    "Can you help?"
   ]
  },
  {
   "cell_type": "code",
   "execution_count": 27,
   "metadata": {},
   "outputs": [
    {
     "name": "stdout",
     "output_type": "stream",
     "text": [
      "fix_it_1\n",
      "===== OK ====\n",
      "     got: 200 \n",
      "expected: 200\n",
      "\n"
     ]
    }
   ],
   "source": [
    "data = {\"a\": 10, \"b\": 20}\n",
    "\n",
    "answer = data['a'] * data[\"b\"] \n",
    "\n",
    "# TEST\n",
    "print(\"fix_it_1\")\n",
    "test(answer, 200)"
   ]
  },
  {
   "cell_type": "code",
   "execution_count": null,
   "metadata": {},
   "outputs": [],
   "source": []
  },
  {
   "cell_type": "markdown",
   "metadata": {},
   "source": [
    "#### Exercise 2 - Fix it Numbers\n",
    "\n",
    "We want to extend numbers with another list and then get the sum. \n",
    "\n",
    "Can you help?"
   ]
  },
  {
   "cell_type": "code",
   "execution_count": 28,
   "metadata": {},
   "outputs": [
    {
     "name": "stdout",
     "output_type": "stream",
     "text": [
      "fix_it_numbers\n",
      "==== OK ====\n",
      "     got: 36 \n",
      "expected: 36\n",
      "\n"
     ]
    }
   ],
   "source": [
    "numbers = [1,2,3,4]\n",
    "numbers.extend([5,6,7,8])\n",
    "\n",
    "answer = sum(numbers)\n",
    "\n",
    "# TEST\n",
    "print(\"fix_it_numbers\")\n",
    "test(answer, 36)"
   ]
  },
  {
   "cell_type": "code",
   "execution_count": null,
   "metadata": {},
   "outputs": [],
   "source": []
  },
  {
   "cell_type": "markdown",
   "metadata": {},
   "source": [
    "#### Exercise 3 - Fix it Open\n",
    "\n",
    "We try to read the contents of data/names_raw.txt into a string.\n",
    "\n",
    "Can you help?"
   ]
  },
  {
   "cell_type": "code",
   "execution_count": 31,
   "metadata": {},
   "outputs": [],
   "source": [
    "import os"
   ]
  },
  {
   "cell_type": "code",
   "execution_count": 36,
   "metadata": {},
   "outputs": [
    {
     "name": "stdout",
     "output_type": "stream",
     "text": [
      "fix_it_open\n",
      "=========== OK ===========\n",
      "     got: 'The names are:\\n\\nJeremy\\nJan\\nAkmal' \n",
      "expected: 'The names are:\\n\\nJeremy\\nJan\\nAkmal'\n",
      "\n"
     ]
    }
   ],
   "source": [
    "filename = os.path.join('data', \"names_raw.txt\")\n",
    "\n",
    "with open(filename, 'r') as f:\n",
    "    content = f.read()\n",
    "    \n",
    "# TEST\n",
    "print(\"fix_it_open\")\n",
    "test(content, 'The names are:\\n\\nJeremy\\nJan\\nAkmal')"
   ]
  },
  {
   "cell_type": "code",
   "execution_count": null,
   "metadata": {},
   "outputs": [],
   "source": []
  },
  {
   "cell_type": "markdown",
   "metadata": {},
   "source": [
    "#### Exercise 4 - Try salaries\n",
    "\n",
    "Have a look at the data/salaries.txt file\n",
    "\n",
    "Load it into a list of dictionaries and use try catch to handle the non-dictionary lines."
   ]
  },
  {
   "cell_type": "code",
   "execution_count": 39,
   "metadata": {},
   "outputs": [
    {
     "name": "stdout",
     "output_type": "stream",
     "text": [
      "try_salaries\n",
      "=========== OK ===========\n",
      "     got: [{'name': 'John', 'salary': 5000, 'years_employed': 4}, {'name': 'Lee', 'salary': 4000, 'years_employed': 3}, {'name': 'Alex', 'salary': 3000, 'years_employed': 7}, {'name': 'John', 'salary': 3000, 'years_employed': 8}, {'name': 'Lauren', 'salary': 6000, 'years_employed': 5}] \n",
      "expected: [{'name': 'John', 'salary': 5000, 'years_employed': 4}, {'name': 'Lee', 'salary': 4000, 'years_employed': 3}, {'name': 'Alex', 'salary': 3000, 'years_employed': 7}, {'name': 'John', 'salary': 3000, 'years_employed': 8}, {'name': 'Lauren', 'salary': 6000, 'years_employed': 5}]\n",
      "\n"
     ]
    }
   ],
   "source": [
    "from json import loads as json_loads\n",
    "from json.decoder import JSONDecodeError\n",
    "\n",
    "salaries_file = os.path.join('data', 'salaries.txt')\n",
    "\n",
    "salaries = []\n",
    "\n",
    "with open(salaries_file, 'r') as file:\n",
    "    for line in file:\n",
    "        try: \n",
    "            salaries.append(json_loads(line))\n",
    "        except JSONDecodeError: \n",
    "            pass\n",
    "        \n",
    "# TEST\n",
    "print(\"try_salaries\")\n",
    "from answers import the_salaries\n",
    "test(salaries, the_salaries)"
   ]
  },
  {
   "cell_type": "code",
   "execution_count": null,
   "metadata": {},
   "outputs": [],
   "source": []
  },
  {
   "cell_type": "markdown",
   "metadata": {
    "toc-hr-collapsed": false
   },
   "source": [
    "## Object Oriented Programming\n",
    "\n",
    "Object-oriented Programming, or OOP for short, is a programming paradigm in which properties and behaviours are bundled into objects.\n",
    "\n",
    "We will define a class Student. A class is a blue-print for an object. After defining the class Student there is only one Student class and you can create many Student objects out of that class.\n",
    "\n",
    "Then we create a child class PythonStudent. The child class inherits all the properties from its parent and has it's own functionalities additionally."
   ]
  },
  {
   "cell_type": "code",
   "execution_count": 40,
   "metadata": {},
   "outputs": [],
   "source": [
    "class Student:\n",
    "    \n",
    "    def __init__(self, name, grades = []): \n",
    "        self.name = name\n",
    "        self.grades = grades"
   ]
  },
  {
   "cell_type": "code",
   "execution_count": 47,
   "metadata": {},
   "outputs": [],
   "source": [
    "jeremy = Student(\"Jeremy\", grades = [10,4,5])"
   ]
  },
  {
   "cell_type": "code",
   "execution_count": 49,
   "metadata": {},
   "outputs": [
    {
     "data": {
      "text/plain": [
       "<__main__.Student at 0x7fcedec36100>"
      ]
     },
     "execution_count": 49,
     "metadata": {},
     "output_type": "execute_result"
    }
   ],
   "source": [
    "jeremy"
   ]
  },
  {
   "cell_type": "markdown",
   "metadata": {},
   "source": [
    "Now copy paste code above and add this dunder method \\_\\_repr\\_\\_"
   ]
  },
  {
   "cell_type": "code",
   "execution_count": 50,
   "metadata": {},
   "outputs": [],
   "source": [
    "class Student:\n",
    "    \n",
    "    def __init__(self, name, grades = []): \n",
    "        self.name = name\n",
    "        self.grades = grades\n",
    "    \n",
    "    def __repr__(self):\n",
    "        return \"{}: {}\".format(self.name, self.grades)"
   ]
  },
  {
   "cell_type": "code",
   "execution_count": 53,
   "metadata": {},
   "outputs": [
    {
     "name": "stdout",
     "output_type": "stream",
     "text": [
      "Jeremy: [10, 4, 5]\n"
     ]
    }
   ],
   "source": [
    "jeremy = Student(\"Jeremy\", [10,4,5])\n",
    "print(jeremy)"
   ]
  },
  {
   "cell_type": "markdown",
   "metadata": {},
   "source": [
    "Now Jeremy is represented by the string you defined.\n",
    "\n",
    "We will extend this class with an average methods the returns the average grade of the student.\n",
    "\n",
    "You can copy paste again and add the average function."
   ]
  },
  {
   "cell_type": "code",
   "execution_count": 54,
   "metadata": {},
   "outputs": [],
   "source": [
    "class Student:\n",
    "    \n",
    "    def __init__(self, name, grades = []): \n",
    "        self.name = name\n",
    "        self.grades = grades\n",
    "    \n",
    "    def __repr__(self):\n",
    "        return \"{}: {}\".format(self.name, self.grades)\n",
    "    \n",
    "    def average(self): \n",
    "        return sum(self.grades) / len(self.grades)"
   ]
  },
  {
   "cell_type": "code",
   "execution_count": 58,
   "metadata": {},
   "outputs": [
    {
     "data": {
      "text/plain": [
       "6.333333333333333"
      ]
     },
     "execution_count": 58,
     "metadata": {},
     "output_type": "execute_result"
    }
   ],
   "source": [
    "jeremy = Student(\"Jeremy\", [10,4,5])\n",
    "jeremy.average()"
   ]
  },
  {
   "cell_type": "markdown",
   "metadata": {},
   "source": [
    "In OOP there is the concept of heritance. You can make a class that is the child of another class.\n",
    "\n",
    "We will define a class PythonStudent."
   ]
  },
  {
   "cell_type": "code",
   "execution_count": 60,
   "metadata": {},
   "outputs": [],
   "source": [
    "class PythonStudent(Student): \n",
    "    \n",
    "    def can_program(self): \n",
    "        return True"
   ]
  },
  {
   "cell_type": "code",
   "execution_count": 62,
   "metadata": {},
   "outputs": [
    {
     "data": {
      "text/plain": [
       "__main__.Student"
      ]
     },
     "execution_count": 62,
     "metadata": {},
     "output_type": "execute_result"
    }
   ],
   "source": [
    "Student"
   ]
  },
  {
   "cell_type": "code",
   "execution_count": 61,
   "metadata": {},
   "outputs": [
    {
     "data": {
      "text/plain": [
       "__main__.PythonStudent"
      ]
     },
     "execution_count": 61,
     "metadata": {},
     "output_type": "execute_result"
    }
   ],
   "source": [
    "PythonStudent"
   ]
  },
  {
   "cell_type": "code",
   "execution_count": 63,
   "metadata": {},
   "outputs": [
    {
     "data": {
      "text/plain": [
       "Akmal: [10, 20]"
      ]
     },
     "execution_count": 63,
     "metadata": {},
     "output_type": "execute_result"
    }
   ],
   "source": [
    "akmal = PythonStudent(\"Akmal\", [10, 20])\n",
    "akmal"
   ]
  },
  {
   "cell_type": "code",
   "execution_count": 64,
   "metadata": {},
   "outputs": [
    {
     "data": {
      "text/plain": [
       "15.0"
      ]
     },
     "execution_count": 64,
     "metadata": {},
     "output_type": "execute_result"
    }
   ],
   "source": [
    "akmal.average()"
   ]
  },
  {
   "cell_type": "code",
   "execution_count": 66,
   "metadata": {},
   "outputs": [
    {
     "data": {
      "text/plain": [
       "True"
      ]
     },
     "execution_count": 66,
     "metadata": {},
     "output_type": "execute_result"
    }
   ],
   "source": [
    "akmal.can_program()"
   ]
  },
  {
   "cell_type": "code",
   "execution_count": 68,
   "metadata": {},
   "outputs": [
    {
     "data": {
      "text/plain": [
       "True"
      ]
     },
     "execution_count": 68,
     "metadata": {},
     "output_type": "execute_result"
    }
   ],
   "source": [
    "Student(\"Akmal\", [10, 20]).can_program()"
   ]
  },
  {
   "cell_type": "code",
   "execution_count": 69,
   "metadata": {},
   "outputs": [],
   "source": [
    "jan = PythonStudent(\"Jan\", [30,20,15])"
   ]
  },
  {
   "cell_type": "code",
   "execution_count": 71,
   "metadata": {},
   "outputs": [
    {
     "data": {
      "text/plain": [
       "[Jeremy: [10, 4, 5], Jan: [30, 20, 15], Akmal: [10, 20]]"
      ]
     },
     "execution_count": 71,
     "metadata": {},
     "output_type": "execute_result"
    }
   ],
   "source": [
    "students = [jeremy, jan, akmal]\n",
    "students"
   ]
  },
  {
   "cell_type": "code",
   "execution_count": 72,
   "metadata": {},
   "outputs": [
    {
     "name": "stdout",
     "output_type": "stream",
     "text": [
      "<class '__main__.Student'>\n",
      "<class '__main__.PythonStudent'>\n",
      "<class '__main__.PythonStudent'>\n"
     ]
    }
   ],
   "source": [
    "for student in students: \n",
    "    print(type(student))"
   ]
  },
  {
   "cell_type": "markdown",
   "metadata": {},
   "source": [
    "We can sort the students based on their average."
   ]
  },
  {
   "cell_type": "code",
   "execution_count": 78,
   "metadata": {},
   "outputs": [
    {
     "name": "stdout",
     "output_type": "stream",
     "text": [
      "[Jeremy: [10, 4, 5], Akmal: [10, 20], Jan: [30, 20, 15]]\n",
      "\n",
      "[Jeremy: [10, 4, 5], Jan: [30, 20, 15], Akmal: [10, 20]]\n",
      "[6.333333333333333, 21.666666666666668, 15.0]\n"
     ]
    }
   ],
   "source": [
    "print(sorted(students, \n",
    "       key = lambda item: item.average()))\n",
    "print()\n",
    "print(students)\n",
    "print([student.average() for student in students])"
   ]
  },
  {
   "cell_type": "markdown",
   "metadata": {},
   "source": [
    "We can filter the PythonStudents."
   ]
  },
  {
   "cell_type": "code",
   "execution_count": 79,
   "metadata": {},
   "outputs": [
    {
     "data": {
      "text/plain": [
       "[Jan: [30, 20, 15], Akmal: [10, 20]]"
      ]
     },
     "execution_count": 79,
     "metadata": {},
     "output_type": "execute_result"
    }
   ],
   "source": [
    "[student\n",
    " for student in students \n",
    " if isinstance(student, PythonStudent)]"
   ]
  },
  {
   "cell_type": "markdown",
   "metadata": {},
   "source": [
    "Well done!"
   ]
  },
  {
   "cell_type": "markdown",
   "metadata": {
    "toc-hr-collapsed": false
   },
   "source": [
    "### Summary"
   ]
  },
  {
   "cell_type": "markdown",
   "metadata": {},
   "source": [
    "> #### class \n",
    "Python is an Object Oriented Programming language (OOP). This means that almost all the code is implemented using a special construct called classes. Programmers use classes to keep related things together. When defining a child class it will inherit the methods from the parent class. \n",
    "\n",
    "```python\n",
    "class Student:\n",
    "    \n",
    "    def __init__(self, name, grades=[]):\n",
    "        self.name = name\n",
    "        self.grades = grades\n",
    "        \n",
    "    def __repr__(self):\n",
    "        return \"{}:{}\".format(self.name, self.grades)\n",
    "    \n",
    "    def average(self):\n",
    "        return round(sum(self.grades) / len(self.grades), 2)\n",
    "    \n",
    "\n",
    "class PythonStudent(Student):\n",
    "    \n",
    "    def can_program(self):\n",
    "        return True\n",
    "```"
   ]
  },
  {
   "cell_type": "markdown",
   "metadata": {
    "toc-hr-collapsed": false
   },
   "source": [
    "### RUN ME\n",
    "\n",
    "Please run the below code snippet. It is required for running tests for your solution."
   ]
  },
  {
   "cell_type": "code",
   "execution_count": 80,
   "metadata": {},
   "outputs": [],
   "source": [
    "def test(got, expected):\n",
    "    max_width_print = min([int(79/3), \n",
    "                           len(repr(got)) + 10, \n",
    "                           len(repr(expected)) + 10])\n",
    "    \n",
    "    if got == expected:\n",
    "        prefix = ' OK '.center(max_width_print, '=')\n",
    "    else:\n",
    "        prefix = ' FAIL '.center(max_width_print, '=')\n",
    "    print(('%s\\n     got: %s \\nexpected: %s' % (prefix, repr(got), repr(expected))), \n",
    "          end = '\\n\\n')"
   ]
  },
  {
   "cell_type": "code",
   "execution_count": 81,
   "metadata": {},
   "outputs": [
    {
     "name": "stdout",
     "output_type": "stream",
     "text": [
      "==== FAIL ===\n",
      "     got: 'a' \n",
      "expected: 'ab'\n",
      "\n",
      "===== OK ====\n",
      "     got: 'a' \n",
      "expected: 'a'\n",
      "\n"
     ]
    }
   ],
   "source": [
    "test('a', 'ab')\n",
    "test('a', 'a')"
   ]
  },
  {
   "cell_type": "markdown",
   "metadata": {},
   "source": [
    "### Exercises"
   ]
  },
  {
   "cell_type": "markdown",
   "metadata": {},
   "source": [
    "The CEO of your company happens to have a kid who is totally into Pokemon! For this reason he is very interested in finding out more about these Pokemon for himself. The thing is.. all these Pokemons are hidden away in files and spread out over different continents and countries folders. Oh no, what a bummer.\n",
    "\n",
    "Ambitious as you are and on the verge of locking down that next promotion you walk in and say: \n",
    "\n",
    "> _\"Calm down, I have just finished my Python-Fundamentals course, let me handle this.\"_\n",
    "\n",
    "Use your Python skills in browsing folder structure, lists, dictionaries, reading from csv and writing to Excel to provide those insights and totally save the day!\n",
    "\n",
    "Have a look the the pokeworld folder inside the data folder.\n",
    "\n",
    "The folder structure is like this: continent/country/pokemon.txt\n",
    "\n",
    "Each file represents a pokemon and inside the file is the description."
   ]
  },
  {
   "cell_type": "markdown",
   "metadata": {},
   "source": [
    "#### Exercise 1 - Get pokemon info\n",
    "\n",
    "Get the continent, country, name and description for the pokemon in pokeworld/Asia/Malaysia/Wooper.txt\n",
    "\n",
    "Hints: help(str.split), with open()"
   ]
  },
  {
   "cell_type": "code",
   "execution_count": null,
   "metadata": {},
   "outputs": [],
   "source": [
    "import os\n",
    "os.path.join"
   ]
  },
  {
   "cell_type": "code",
   "execution_count": null,
   "metadata": {},
   "outputs": [],
   "source": [
    "from os.path import join "
   ]
  },
  {
   "cell_type": "code",
   "execution_count": 82,
   "metadata": {},
   "outputs": [
    {
     "data": {
      "text/plain": [
       "'data/pokeworld/Asia/Malaysia/Wooper.txt'"
      ]
     },
     "execution_count": 82,
     "metadata": {},
     "output_type": "execute_result"
    }
   ],
   "source": [
    "from os.path import join as path_join\n",
    "\n",
    "pokefile = path_join(\n",
    "    \"data\", \n",
    "    \"pokeworld\", \n",
    "    \"Asia\", \n",
    "    \"Malaysia\", \n",
    "    \"Wooper.txt\"\n",
    ")\n",
    "pokefile"
   ]
  },
  {
   "cell_type": "code",
   "execution_count": 89,
   "metadata": {},
   "outputs": [],
   "source": [
    "from os import sep\n",
    "dir_list = pokefile.split(sep)"
   ]
  },
  {
   "cell_type": "code",
   "execution_count": 90,
   "metadata": {},
   "outputs": [
    {
     "data": {
      "text/plain": [
       "['data', 'pokeworld', 'Asia', 'Malaysia', 'Wooper.txt']"
      ]
     },
     "execution_count": 90,
     "metadata": {},
     "output_type": "execute_result"
    }
   ],
   "source": [
    "dir_list"
   ]
  },
  {
   "cell_type": "code",
   "execution_count": 91,
   "metadata": {},
   "outputs": [
    {
     "name": "stdout",
     "output_type": "stream",
     "text": [
      "get_pokemon_info\n",
      "====== OK ======\n",
      "     got: 'Asia' \n",
      "expected: 'Asia'\n",
      "\n",
      "======== OK ========\n",
      "     got: 'Malaysia' \n",
      "expected: 'Malaysia'\n",
      "\n",
      "======= OK =======\n",
      "     got: 'Wooper' \n",
      "expected: 'Wooper'\n",
      "\n",
      "=========== OK ===========\n",
      "     got: 'Wooper usually lives in water. However, it occasionally comes\\nout onto land in search of food. On land, it coats its body with\\na gooey, toxic film.' \n",
      "expected: 'Wooper usually lives in water. However, it occasionally comes\\nout onto land in search of food. On land, it coats its body with\\na gooey, toxic film.'\n",
      "\n"
     ]
    }
   ],
   "source": [
    "continent = dir_list[-3]\n",
    "country = dir_list[-2]\n",
    "# name = dir_list[-1][:-4]\n",
    "name = dir_list[-1].split('.')[0]\n",
    "\n",
    "with open(pokefile, 'r') as file: \n",
    "    description = file.read()\n",
    "\n",
    "# TEST\n",
    "print(\"get_pokemon_info\")\n",
    "\n",
    "from answers import wooper_desc\n",
    "\n",
    "test(continent, 'Asia')\n",
    "test(country, 'Malaysia')\n",
    "test(name, 'Wooper')\n",
    "test(description, wooper_desc)"
   ]
  },
  {
   "cell_type": "markdown",
   "metadata": {},
   "source": [
    "#### Exercise 2 - Create a pokemon class"
   ]
  },
  {
   "cell_type": "markdown",
   "metadata": {},
   "source": [
    "Create a pokemon class which has three methods:\n",
    "- \\_\\_init\\_\\_(self, pokefile) -- assign self.name, self.continent, self.country and self.description with contents from the file\n",
    "- \\_\\_repr\\_\\_(self) -- represent a pokemon like 'Wooper from Malaysia, Asia'\n",
    "- is_big_data(self) -- if there is 'Apache' or 'Hadoop' in self.description return True"
   ]
  },
  {
   "cell_type": "code",
   "execution_count": 96,
   "metadata": {},
   "outputs": [
    {
     "name": "stdout",
     "output_type": "stream",
     "text": [
      "create_pokemon_class\n",
      "=========== OK ===========\n",
      "     got: 'Wooper from Malaysia, Asia' \n",
      "expected: 'Wooper from Malaysia, Asia'\n",
      "\n",
      "====== OK =====\n",
      "     got: False \n",
      "expected: False\n",
      "\n",
      "===== OK =====\n",
      "     got: True \n",
      "expected: True\n",
      "\n"
     ]
    }
   ],
   "source": [
    "from os import sep\n",
    "\n",
    "class Pokemon: \n",
    "    \n",
    "    def __init__(self, pokefile):\n",
    "        dir_list = pokefile.split(sep)\n",
    "        \n",
    "        self.continent = dir_list[-3]\n",
    "        self.country = dir_list[-2]\n",
    "        self.name = dir_list[-1].split('.')[0]\n",
    "        \n",
    "        with open(pokefile, 'r') as file: \n",
    "            self.description = file.read()\n",
    "    \n",
    "#     def __len__(self):\n",
    "#         return len(self.)\n",
    "    \n",
    "    def __repr__(self): \n",
    "#         return f\"{self.name} from {self.country}, {self.continent}\"\n",
    "        return \"{} from {}, {}\".format(self.name, \n",
    "                                       self.country, \n",
    "                                       self.continent)\n",
    "\n",
    "    def is_big_data(self): \n",
    "        return ('hadoop' in self.description.lower()\n",
    "                or 'apache' in self.description.lower())\n",
    "    \n",
    "# TEST\n",
    "print(\"create_pokemon_class\")\n",
    "pokefile = os.path.join(\"data\", \"pokeworld/Asia/Malaysia/Wooper.txt\")\n",
    "pokefile2 = os.path.join(\"data\", \"pokeworld/Asia/Thailand/Hive.txt\")\n",
    "\n",
    "wooper = Pokemon(pokefile)\n",
    "hive = Pokemon(pokefile2)\n",
    "\n",
    "test(wooper.__repr__(), 'Wooper from Malaysia, Asia')\n",
    "test(wooper.is_big_data(), False)\n",
    "test(hive.is_big_data(), True)"
   ]
  },
  {
   "cell_type": "code",
   "execution_count": null,
   "metadata": {},
   "outputs": [],
   "source": []
  },
  {
   "cell_type": "markdown",
   "metadata": {},
   "source": [
    "#### Exercise 3 -  Load all pokemons\n",
    "\n",
    "Now that we have defined the Pokemon class we can make a list of all the pokemon.\n",
    "\n",
    "Hints: glob.glob, Pokemon(pokefile)"
   ]
  },
  {
   "cell_type": "code",
   "execution_count": 100,
   "metadata": {},
   "outputs": [
    {
     "name": "stdout",
     "output_type": "stream",
     "text": [
      "load_all_pokemons\n",
      "===== OK ====\n",
      "     got: 293 \n",
      "expected: 293\n",
      "\n",
      "=========== OK ===========\n",
      "     got: <class '__main__.Pokemon'> \n",
      "expected: <class '__main__.Pokemon'>\n",
      "\n"
     ]
    }
   ],
   "source": [
    "from glob import glob\n",
    "from os.path import join as path_join\n",
    "\n",
    "pokefiles = glob(\n",
    "    path_join('data', \n",
    "              'pokeworld', \n",
    "              '**', '*.txt'), \n",
    "    recursive = True\n",
    ")\n",
    "\n",
    "pokemons = [Pokemon(file) for file in pokefiles]\n",
    "\n",
    "# TEST\n",
    "print(\"load_all_pokemons\")\n",
    "test(len(pokemons), 293)\n",
    "test(type(pokemons[0]), Pokemon)"
   ]
  },
  {
   "cell_type": "code",
   "execution_count": null,
   "metadata": {},
   "outputs": [],
   "source": []
  },
  {
   "cell_type": "markdown",
   "metadata": {},
   "source": [
    "#### Exercise 4 - Provide insights\n",
    "\n",
    "Now that we have a list of pokemon, let's answer some questions!\n",
    "\n",
    "1. In which country is Abomasnow?\n",
    "2. How many pokemons in Malaysia?\n",
    "3. How many pokemons in Asia?\n",
    "4. Which continent has the most pokemons?\n",
    "5. Which country has least pokemons?\n",
    "6. Which countries have bigdata?"
   ]
  },
  {
   "cell_type": "markdown",
   "metadata": {},
   "source": [
    "4.1 In which country is Abomasnow?"
   ]
  },
  {
   "cell_type": "markdown",
   "metadata": {},
   "source": [
    "class\n",
    "|- attribute\n",
    "|--- properties (variable)\n",
    "|--- methods (function)"
   ]
  },
  {
   "cell_type": "code",
   "execution_count": 106,
   "metadata": {},
   "outputs": [
    {
     "name": "stdout",
     "output_type": "stream",
     "text": [
      "The-Netherlands\n"
     ]
    }
   ],
   "source": [
    "for pokemon in pokemons:\n",
    "    if pokemon.name.lower() == 'abomasnow': \n",
    "        print(pokemon.country)\n",
    "        break "
   ]
  },
  {
   "cell_type": "markdown",
   "metadata": {},
   "source": [
    "4.2 How many pokemons in Malaysia?"
   ]
  },
  {
   "cell_type": "code",
   "execution_count": 112,
   "metadata": {},
   "outputs": [
    {
     "data": {
      "text/plain": [
       "45"
      ]
     },
     "execution_count": 112,
     "metadata": {},
     "output_type": "execute_result"
    }
   ],
   "source": [
    "len([pokemon \n",
    "     for pokemon in pokemons \n",
    "     if pokemon.country.lower() == 'malaysia'])"
   ]
  },
  {
   "cell_type": "markdown",
   "metadata": {},
   "source": [
    "4.3 How many pokemons in Asia?"
   ]
  },
  {
   "cell_type": "code",
   "execution_count": 108,
   "metadata": {},
   "outputs": [
    {
     "data": {
      "text/plain": [
       "155"
      ]
     },
     "execution_count": 108,
     "metadata": {},
     "output_type": "execute_result"
    }
   ],
   "source": [
    "len([pokemon \n",
    "     for pokemon in pokemons \n",
    "     if pokemon.continent.lower() == 'asia'])"
   ]
  },
  {
   "cell_type": "markdown",
   "metadata": {},
   "source": [
    "4.4 Which continent has the most pokemons?\n",
    "\n",
    "Hints: \n",
    "- make a dictionary continents for the count\n",
    "- continents.setdefault\n",
    "- sorted(continens.items(), key=... , reverse=True)"
   ]
  },
  {
   "cell_type": "code",
   "execution_count": 119,
   "metadata": {},
   "outputs": [
    {
     "data": {
      "text/plain": [
       "('Asia', 155)"
      ]
     },
     "execution_count": 119,
     "metadata": {},
     "output_type": "execute_result"
    }
   ],
   "source": [
    "continents = dict.fromkeys(['Africa', \n",
    "                            'Americas', \n",
    "                            'Asia', \n",
    "                            'Europe', \n",
    "                            'Middle-East'], 0)\n",
    "\n",
    "for pokemon in pokemons:\n",
    "    continents[pokemon.continent] += 1\n",
    "\n",
    "sorted(\n",
    "    continents.items(), \n",
    "    key = lambda cont: cont[-1]\n",
    ")[-1]"
   ]
  },
  {
   "cell_type": "markdown",
   "metadata": {},
   "source": [
    "4.5 Which country has the least pokemon?"
   ]
  },
  {
   "cell_type": "code",
   "execution_count": 120,
   "metadata": {},
   "outputs": [],
   "source": [
    "from collections import Counter"
   ]
  },
  {
   "cell_type": "code",
   "execution_count": 124,
   "metadata": {},
   "outputs": [
    {
     "data": {
      "text/plain": [
       "('Germany', 8)"
      ]
     },
     "execution_count": 124,
     "metadata": {},
     "output_type": "execute_result"
    }
   ],
   "source": [
    "countries = Counter([pokemon.country \n",
    "                     for pokemon in pokemons])\n",
    "\n",
    "sorted(\n",
    "    countries.items(), \n",
    "    key = lambda ctr: ctr[-1]\n",
    ")[0]"
   ]
  },
  {
   "cell_type": "markdown",
   "metadata": {},
   "source": [
    "4.6 Which countries have big data?\n",
    "\n",
    "Hints: set() to get unique values of a list."
   ]
  },
  {
   "cell_type": "code",
   "execution_count": 125,
   "metadata": {},
   "outputs": [
    {
     "data": {
      "text/plain": [
       "{'Germany', 'Japan', 'Thailand', 'The-Netherlands'}"
      ]
     },
     "execution_count": 125,
     "metadata": {},
     "output_type": "execute_result"
    }
   ],
   "source": [
    "{pokemon.country \n",
    " for pokemon in pokemons \n",
    " if pokemon.is_big_data()}"
   ]
  },
  {
   "cell_type": "markdown",
   "metadata": {},
   "source": [
    "# Well done! Congrats on completing Python Fundamentals!"
   ]
  }
 ],
 "metadata": {
  "kernelspec": {
   "display_name": "Python 3",
   "language": "python",
   "name": "python3"
  },
  "language_info": {
   "codemirror_mode": {
    "name": "ipython",
    "version": 3
   },
   "file_extension": ".py",
   "mimetype": "text/x-python",
   "name": "python",
   "nbconvert_exporter": "python",
   "pygments_lexer": "ipython3",
   "version": "3.8.5"
  }
 },
 "nbformat": 4,
 "nbformat_minor": 4
}
