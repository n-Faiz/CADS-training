{
 "cells": [
  {
   "cell_type": "markdown",
   "metadata": {},
   "source": [
    "<img src=\"images/cads-logo.png\" style=\"height: 100px;\" align=left> <img src=\"images/python-logo.png\" style=\"height: 100px;\" align=right>"
   ]
  },
  {
   "cell_type": "markdown",
   "metadata": {
    "toc-hr-collapsed": false
   },
   "source": [
    "# Python Fundamentals Day 3\n",
    "\n",
    "Welcome to Python Fundamentals Day 3.\n",
    "\n",
    "So what is on the menu for today? \n",
    "\n",
    "We start with reading and writing from files, learn how to transport data objects in the JSON format and how to browse the filesystem.\n",
    "\n",
    "Then we move to Exception handling. We learn about the different types of Exceptions, what they mean and how to resolve them. Then we learn how to handle Exceptions in our code using the try-except statement.\n",
    "\n",
    "Last but not least, we learn about Object Oriented Programming including class inheritance and how to define and use your own classes in your coding.\n",
    "\n",
    "Let's go!"
   ]
  },
  {
   "cell_type": "markdown",
   "metadata": {},
   "source": [
    "## Table of Contents\n",
    "\n",
    "- [File I/O](#File-I/O)\n",
    "    - [Reading and writing lines with open](#Reading-and-writing-lines-with-open)\n",
    "    - [JSON](#JSON)\n",
    "    - [File browsing with glob](#File-browsing-with-glob)\n",
    "    - [Summary](#Summary)\n",
    "        - [open](#open)\n",
    "        - [JSON](#JSON)\n",
    "        - [import](#import)\n",
    "        - [glob](#glob)\n",
    "    - [RUN ME](#RUN-ME)\n",
    "    - [Exercises](#Exercises)\n",
    "        - [Exercise 1 - Read in stocks](#Exercise-1---Read-in-stocks)\n",
    "        - [Exercise 2 - First ten names](#Exercise-2---First-ten-names)\n",
    "        - [Exercise 3 - Inc only](#Exercise-3---Inc-only)\n",
    "        - [Exercise 4 - Average PE](#Exercise-4---Average-PE)\n",
    "- [Exception Handling](#Exception-Handling)\n",
    "    - [Exceptions](#Exceptions)\n",
    "    - [Try except](#Try-except)\n",
    "    - [Summary](#Summary)\n",
    "        - [try except](#try-except)\n",
    "        - [try except else finally](#try-except-else-finally)\n",
    "    - [RUN ME](#RUN-ME)\n",
    "    - [Exercises](#Exercises)\n",
    "        - [Exercise 1 - Fix it Multiply](#Exercise-1---Fix-it-Multiply)\n",
    "        - [Exercise 2 - Fix it Numbers](#Exercise-2---Fix-it-Numbers)\n",
    "        - [Exercise 3 - Fix it Open](#Exercise-3---Fix-it-Open)\n",
    "        - [Exercise 4 - Try salaries](#Exercise-4---Try-salaries)\n",
    "- [Object Oriented Programming](#Object-Oriented-Programming)\n",
    "    - [Summary](#Summary)\n",
    "        - [class](#class)\n",
    "    - [RUN ME](#RUN-ME)\n",
    "    - [Exercises](#Exercises)\n",
    "        - [Exercise 1 - Get pokemon info](#Exercise-1---Get-pokemon-info)\n",
    "        - [Exercise 2 - Create a pokemon class](#Exercise-2---Create-a-pokemon-class)\n",
    "        - [Exercise 3 -  Load all pokemons](#Exercise-3----Load-all-pokemons)\n",
    "        - [Exercise 4 - Provide insights](#Exercise-4---Provide-insights)"
   ]
  },
  {
   "cell_type": "markdown",
   "metadata": {},
   "source": [
    "##### Jamboard (exercise by student)\n",
    "https://jamboard.google.com/u/0/d/1reU32pxyWc0ytvwASUJTuUio7PjwePoEeimD_zItnN4/viewer?usp=sharing"
   ]
  },
  {
   "cell_type": "markdown",
   "metadata": {
    "toc-hr-collapsed": false
   },
   "source": [
    "## File I/O"
   ]
  },
  {
   "cell_type": "markdown",
   "metadata": {},
   "source": [
    "### Reading and writing lines with open"
   ]
  },
  {
   "cell_type": "markdown",
   "metadata": {},
   "source": [
    "Communicating with files is quite useful in programming.\n",
    "\n",
    "With the `open()` built-in function we can read, write and append to files.\n",
    "\n",
    "First check what is your working directory. You will be able to find the file that we will read and write there."
   ]
  },
  {
   "cell_type": "code",
   "execution_count": 1,
   "metadata": {},
   "outputs": [
    {
     "data": {
      "text/plain": [
       "'C:\\\\Users\\\\Faiz\\\\Desktop\\\\UM Lecture\\\\CADS\\\\02 Python Basic 3days'"
      ]
     },
     "execution_count": 1,
     "metadata": {},
     "output_type": "execute_result"
    }
   ],
   "source": [
    "%pwd #print working directory"
   ]
  },
  {
   "cell_type": "markdown",
   "metadata": {},
   "source": [
    "We now create a file object which we will use to write something to file."
   ]
  },
  {
   "cell_type": "code",
   "execution_count": 7,
   "metadata": {},
   "outputs": [
    {
     "data": {
      "text/plain": [
       "4"
      ]
     },
     "execution_count": 7,
     "metadata": {},
     "output_type": "execute_result"
    }
   ],
   "source": [
    "f = open('test.txt','w')\n",
    "f.write(\"Hey!\")\n",
    "\n",
    "# return 4 character "
   ]
  },
  {
   "cell_type": "markdown",
   "metadata": {},
   "source": [
    "Now check the file in your folder. Can you see Hey! in test.txt? \n",
    "\n",
    "No you cannot. Yet.."
   ]
  },
  {
   "cell_type": "code",
   "execution_count": 8,
   "metadata": {},
   "outputs": [],
   "source": [
    "f.close()"
   ]
  },
  {
   "cell_type": "markdown",
   "metadata": {},
   "source": [
    "Check test.txt again. \n",
    "\n",
    "Now it is there.\n",
    "\n",
    "So it is important to <u>not forget to close</u> the file object.\n",
    "\n",
    "There is an elegant construct for this. Let's try it."
   ]
  },
  {
   "cell_type": "code",
   "execution_count": 11,
   "metadata": {},
   "outputs": [],
   "source": [
    "with open('test2.txt','w') as f:\n",
    "    f.write(\"Hello!\")"
   ]
  },
  {
   "cell_type": "markdown",
   "metadata": {},
   "source": [
    "Check again. Test test2.txt file is there.\n",
    "\n",
    "So what did we do here?\n",
    "\n",
    "`open()` returns a file object and it is commonly used with two arguments: `open(file, mode)`\n",
    "\n",
    "- file is a string containing the filename\n",
    "- mode describes in which way the file will be used: writing, reading, appending.\n",
    "\n",
    "mode can be:\n",
    "- `'r'` read (by default)\n",
    "- `'w'` write\n",
    "- `'a'` append\n",
    "\n",
    "Notice the fat-green `with` as statement. Within the `with` statement the file object will be available as `f`. After the statement the file object will be closed. "
   ]
  },
  {
   "cell_type": "code",
   "execution_count": 15,
   "metadata": {},
   "outputs": [
    {
     "name": "stdout",
     "output_type": "stream",
     "text": [
      "Hello!\n"
     ]
    }
   ],
   "source": [
    "with open('test2.txt', 'r') as f:\n",
    "    print(f.read())"
   ]
  },
  {
   "cell_type": "code",
   "execution_count": 23,
   "metadata": {},
   "outputs": [],
   "source": [
    "with open('test2.txt', 'a') as f:\n",
    "    f.write(\"\\n\")\n",
    "    f.write(\"Hello!\")"
   ]
  },
  {
   "cell_type": "markdown",
   "metadata": {},
   "source": [
    "Now we can check the contents of the file using \n",
    "\n",
    "`!cat` -- for Mac / Linux users\n",
    "\n",
    "`!type` -- for Windows users"
   ]
  },
  {
   "cell_type": "code",
   "execution_count": 25,
   "metadata": {},
   "outputs": [
    {
     "name": "stdout",
     "output_type": "stream",
     "text": [
      "Hello!Hello!\n",
      "Hello!\n"
     ]
    }
   ],
   "source": [
    "!type test2.txt\n",
    "\n",
    "# can also type this in cmd in windows"
   ]
  },
  {
   "cell_type": "code",
   "execution_count": 43,
   "metadata": {},
   "outputs": [
    {
     "data": {
      "text/plain": [
       "'The names are:\\n\\nJeremy    \\nJan\\nAkmal'"
      ]
     },
     "execution_count": 43,
     "metadata": {},
     "output_type": "execute_result"
    }
   ],
   "source": [
    "text = \"\"\"\n",
    "The names are:\n",
    "\n",
    "Jeremy    \n",
    "Jan\n",
    "Akmal    \n",
    "\"\"\".strip() #strip removes the extra space at the beginning and end including \\n\n",
    "text"
   ]
  },
  {
   "cell_type": "code",
   "execution_count": 39,
   "metadata": {},
   "outputs": [
    {
     "data": {
      "text/plain": [
       "'data\\\\names_raw.txt'"
      ]
     },
     "execution_count": 39,
     "metadata": {},
     "output_type": "execute_result"
    }
   ],
   "source": [
    "import os\n",
    "file_names = os.path.join(\"data\",\"names_raw.txt\") # to make sure the path works for all OS (windows, mac,linux etc)\n",
    "file_names"
   ]
  },
  {
   "cell_type": "markdown",
   "metadata": {},
   "source": [
    "The import statement allows you to import libraries which you can use. \n",
    "\n",
    "Here we use os.path.join to safely join the paths of the data folder and the names_raw. txt file so that it works for any operating system (Windows/Mac).\n",
    "\n",
    "You can iterate over the file object and do something line by line."
   ]
  },
  {
   "cell_type": "code",
   "execution_count": 40,
   "metadata": {},
   "outputs": [
    {
     "name": "stdout",
     "output_type": "stream",
     "text": [
      "The names are:\n",
      "\n",
      "\n",
      "\n",
      "Jeremy\n",
      "\n",
      "Jan\n",
      "\n",
      "Akmal\n"
     ]
    }
   ],
   "source": [
    "with open(file_names,\"r\") as f:\n",
    "    for line in f:\n",
    "        print(line)"
   ]
  },
  {
   "cell_type": "markdown",
   "metadata": {},
   "source": [
    "Let's say now we want to transform this file into a list of names. "
   ]
  },
  {
   "cell_type": "markdown",
   "metadata": {},
   "source": [
    "**Question:** How can we transform this into a list of the names?\n",
    "<br>\n",
    "**Answer:** read the first line and do nothing. Loop over the other lines and ignore empty lines and strip trailing"
   ]
  },
  {
   "cell_type": "code",
   "execution_count": 41,
   "metadata": {},
   "outputs": [
    {
     "data": {
      "text/plain": [
       "['The names are:\\n', '\\n', 'Jeremy\\n', 'Jan\\n', 'Akmal']"
      ]
     },
     "execution_count": 41,
     "metadata": {},
     "output_type": "execute_result"
    }
   ],
   "source": [
    "newlist = []\n",
    "with open(file_names,\"r\") as f:\n",
    "    for line in f:\n",
    "        newlist.append(line)\n",
    "newlist"
   ]
  },
  {
   "cell_type": "markdown",
   "metadata": {},
   "source": [
    "Let's parse the contents of this file into a list of names."
   ]
  },
  {
   "cell_type": "code",
   "execution_count": 44,
   "metadata": {},
   "outputs": [
    {
     "data": {
      "text/plain": [
       "['Jeremy', 'Jan', 'Akmal']"
      ]
     },
     "execution_count": 44,
     "metadata": {},
     "output_type": "execute_result"
    }
   ],
   "source": [
    "with open(file_names,'r') as f:\n",
    "    f.readline() \n",
    "    # read line by line\n",
    "    # read the line but doing nothing, then move to next line since no argument entered\n",
    "    names = []\n",
    "    for line in f:\n",
    "        if len(line.strip()):\n",
    "            names.append(line.strip()) # strip all extra space or \\n at beginning or at the end\n",
    "names"
   ]
  },
  {
   "cell_type": "markdown",
   "metadata": {},
   "source": [
    "What did we do here?\n",
    "\n",
    "We <u>ignored the first line.</u>\n",
    "\n",
    "Then we looped over the other lines. We used the if statement to ignore the empty rows. We strip the non-empty rows and add them to names."
   ]
  },
  {
   "cell_type": "markdown",
   "metadata": {},
   "source": [
    "### JSON - (Jay, son)"
   ]
  },
  {
   "cell_type": "markdown",
   "metadata": {},
   "source": [
    "JSON (JavaScript Object Notation) is an open-standard format that uses human-readable text to transmit data objects consisting of **attribute–value pairs**. \n",
    "\n",
    "It is used often by API's (Application Programming Interface) to communicate data between programs or to commumnicate data between an applications and users.\n",
    "\n",
    "The notation is almost the same as the dictionary in Python except for:\n",
    "\n",
    "- JSON: `true/false` -- Python: `True/False`\n",
    "- JSON: `null` -- Python: `None`\n",
    "\n",
    "Here is an example JSON from [wikipedia](https://en.wikipedia.org/wiki/JSON#Data_types.2C_syntax_and_example)\n",
    "\n",
    "```json\n",
    "{\n",
    "  \"firstName\": \"John\",\n",
    "  \"lastName\": \"Smith\",\n",
    "  \"isAlive\": true,\n",
    "  \"age\": 25,\n",
    "  \"address\": {\n",
    "    \"streetAddress\": \"21 2nd Street\",\n",
    "    \"city\": \"New York\",\n",
    "    \"state\": \"NY\",\n",
    "    \"postalCode\": \"10021-3100\"\n",
    "  },\n",
    "  \"phoneNumbers\": [\n",
    "    {\n",
    "      \"type\": \"home\",\n",
    "      \"number\": \"212 555-1234\"\n",
    "    },\n",
    "    {\n",
    "      \"type\": \"office\",\n",
    "      \"number\": \"646 555-4567\"\n",
    "    },\n",
    "    {\n",
    "      \"type\": \"mobile\",\n",
    "      \"number\": \"123 456-7890\"\n",
    "    }\n",
    "  ],\n",
    "  \"children\": [],\n",
    "  \"spouse\": null\n",
    "}\n",
    "```"
   ]
  },
  {
   "cell_type": "markdown",
   "metadata": {},
   "source": [
    "#### For more information:\n",
    "https://docs.google.com/presentation/d/14zo1WiFUVJvF7F0uwtCKE5GEj4vC22lbvtoMuatie2M/edit"
   ]
  },
  {
   "cell_type": "markdown",
   "metadata": {},
   "source": [
    "First we import the json library to provide us with the functionality. "
   ]
  },
  {
   "cell_type": "code",
   "execution_count": 45,
   "metadata": {},
   "outputs": [],
   "source": [
    "import json"
   ]
  },
  {
   "cell_type": "code",
   "execution_count": null,
   "metadata": {},
   "outputs": [],
   "source": [
    "!pip install # pip package installer for python"
   ]
  },
  {
   "cell_type": "markdown",
   "metadata": {},
   "source": [
    "We can transform a data object into a json string and transform it back. "
   ]
  },
  {
   "cell_type": "code",
   "execution_count": 53,
   "metadata": {},
   "outputs": [
    {
     "data": {
      "text/plain": [
       "{'name': 'Jeremy', 'grades': [10, 15], 'teacher': True, 'complaints': None}"
      ]
     },
     "execution_count": 53,
     "metadata": {},
     "output_type": "execute_result"
    }
   ],
   "source": [
    "# create a dictionary\n",
    "\n",
    "data = {\"name\": \"Jeremy\", \n",
    "        \"grades\": [10, 15], \n",
    "        \"teacher\":True, \n",
    "        \"complaints\":None}\n",
    "data"
   ]
  },
  {
   "cell_type": "code",
   "execution_count": 54,
   "metadata": {},
   "outputs": [
    {
     "name": "stdout",
     "output_type": "stream",
     "text": [
      "<class 'str'>\n"
     ]
    },
    {
     "data": {
      "text/plain": [
       "'{\"name\": \"Jeremy\", \"grades\": [10, 15], \"teacher\": true, \"complaints\": null}'"
      ]
     },
     "execution_count": 54,
     "metadata": {},
     "output_type": "execute_result"
    }
   ],
   "source": [
    "# Convert into JSON format\n",
    "\n",
    "data_json = json.dumps(data)\n",
    "print(type(data_json))\n",
    "data_json"
   ]
  },
  {
   "cell_type": "markdown",
   "metadata": {},
   "source": [
    "**Notice the difference in `true` and `null`**. Also notice the addidtional quotes at the start and the end as this is a `string`.\n",
    "\n",
    "Now we `del` data. Then load it again from the JSON file."
   ]
  },
  {
   "cell_type": "code",
   "execution_count": 55,
   "metadata": {},
   "outputs": [],
   "source": [
    "del data\n"
   ]
  },
  {
   "cell_type": "code",
   "execution_count": 56,
   "metadata": {},
   "outputs": [
    {
     "ename": "NameError",
     "evalue": "name 'data' is not defined",
     "output_type": "error",
     "traceback": [
      "\u001b[1;31m---------------------------------------------------------------------------\u001b[0m",
      "\u001b[1;31mNameError\u001b[0m                                 Traceback (most recent call last)",
      "\u001b[1;32m<ipython-input-56-c5d84736ba45>\u001b[0m in \u001b[0;36m<module>\u001b[1;34m\u001b[0m\n\u001b[1;32m----> 1\u001b[1;33m \u001b[0mdata\u001b[0m\u001b[1;33m\u001b[0m\u001b[1;33m\u001b[0m\u001b[0m\n\u001b[0m",
      "\u001b[1;31mNameError\u001b[0m: name 'data' is not defined"
     ]
    }
   ],
   "source": [
    "data"
   ]
  },
  {
   "cell_type": "code",
   "execution_count": 59,
   "metadata": {},
   "outputs": [
    {
     "data": {
      "text/plain": [
       "{'name': 'Jeremy', 'grades': [10, 15], 'teacher': True, 'complaints': None}"
      ]
     },
     "execution_count": 59,
     "metadata": {},
     "output_type": "execute_result"
    }
   ],
   "source": [
    "# use loads() to convert JSON file into dictionary\n",
    "data = json.loads(data_json)\n",
    "data"
   ]
  },
  {
   "cell_type": "code",
   "execution_count": 60,
   "metadata": {},
   "outputs": [
    {
     "data": {
      "text/plain": [
       "[10, 15]"
      ]
     },
     "execution_count": 60,
     "metadata": {},
     "output_type": "execute_result"
    }
   ],
   "source": [
    "data[\"grades\"]"
   ]
  },
  {
   "cell_type": "markdown",
   "metadata": {},
   "source": [
    "Now we can dump and load data from text files that contain json directly."
   ]
  },
  {
   "cell_type": "code",
   "execution_count": 65,
   "metadata": {},
   "outputs": [],
   "source": [
    "data = [{'name': 'Jeremy', 'grades': [10, 15], 'teacher': True, 'complaints': None},\n",
    "        {'name': 'Akmal', 'grades': [3, 4], 'teacher': True, 'complaints': \"Many\"},\n",
    "        {'name': 'Jan', 'grades': [8, 13, 20], 'teacher': True, 'complaints': None},\n",
    "        {'name': 'Heng', 'grades': [5, 5, 5], 'teacher': False, 'complaints': \"Many, so many!\"}\n",
    "       ]"
   ]
  },
  {
   "cell_type": "code",
   "execution_count": 66,
   "metadata": {},
   "outputs": [],
   "source": [
    "with open('cads.json','w') as f:\n",
    "    json.dump(data,f)"
   ]
  },
  {
   "cell_type": "markdown",
   "metadata": {},
   "source": [
    "Let's look at the resulting json file using !cat for Mac/Linux and !type for windows"
   ]
  },
  {
   "cell_type": "code",
   "execution_count": 67,
   "metadata": {},
   "outputs": [
    {
     "name": "stdout",
     "output_type": "stream",
     "text": [
      "[{\"name\": \"Jeremy\", \"grades\": [10, 15], \"teacher\": true, \"complaints\": null}, {\"name\": \"Akmal\", \"grades\": [3, 4], \"teacher\": true, \"complaints\": \"Many\"}, {\"name\": \"Jan\", \"grades\": [8, 13, 20], \"teacher\": true, \"complaints\": null}, {\"name\": \"Heng\", \"grades\": [5, 5, 5], \"teacher\": false, \"complaints\": \"Many, so many!\"}]\n"
     ]
    }
   ],
   "source": [
    "!type cads.json"
   ]
  },
  {
   "cell_type": "markdown",
   "metadata": {},
   "source": [
    "Now we can load that data back into a dictionary"
   ]
  },
  {
   "cell_type": "code",
   "execution_count": 74,
   "metadata": {},
   "outputs": [
    {
     "data": {
      "text/plain": [
       "[{'name': 'Jeremy', 'grades': [10, 15], 'teacher': True, 'complaints': None},\n",
       " {'name': 'Akmal', 'grades': [3, 4], 'teacher': True, 'complaints': 'Many'},\n",
       " {'name': 'Jan', 'grades': [8, 13, 20], 'teacher': True, 'complaints': None},\n",
       " {'name': 'Heng',\n",
       "  'grades': [5, 5, 5],\n",
       "  'teacher': False,\n",
       "  'complaints': 'Many, so many!'}]"
      ]
     },
     "execution_count": 74,
     "metadata": {},
     "output_type": "execute_result"
    }
   ],
   "source": [
    "with open('cads.json','r') as f:\n",
    "    cads = json.load(f)\n",
    "\n",
    "cads"
   ]
  },
  {
   "cell_type": "code",
   "execution_count": 76,
   "metadata": {},
   "outputs": [
    {
     "data": {
      "text/plain": [
       "True"
      ]
     },
     "execution_count": 76,
     "metadata": {},
     "output_type": "execute_result"
    }
   ],
   "source": [
    "# check if it is the same with the original data\n",
    "cads == data"
   ]
  },
  {
   "cell_type": "markdown",
   "metadata": {},
   "source": [
    "### File browsing with glob\n",
    "\n",
    "With glob you can easily list files and folders in a directory"
   ]
  },
  {
   "cell_type": "code",
   "execution_count": 88,
   "metadata": {},
   "outputs": [
    {
     "name": "stdout",
     "output_type": "stream",
     "text": [
      "data\\folders\\base_one_file.txt\n",
      "data\\folders\\base_two_file.txt\n"
     ]
    }
   ],
   "source": [
    "import glob\n",
    "\n",
    "folder = os.path.join(\"data\", \"folders\")\n",
    "\n",
    "for filename in glob.glob('{}/*.txt'.format(folder)):\n",
    "    print(filename)\n",
    "    \n",
    "## {}*  - regular expression"
   ]
  },
  {
   "cell_type": "markdown",
   "metadata": {},
   "source": [
    "And recursively."
   ]
  },
  {
   "cell_type": "code",
   "execution_count": 86,
   "metadata": {},
   "outputs": [
    {
     "name": "stdout",
     "output_type": "stream",
     "text": [
      "data\\folders\\base_one_file.txt\n",
      "data\\folders\\base_two_file.txt\n",
      "data\\folders\\folder_1\\one_file.txt\n",
      "data\\folders\\folder_1\\two_file.txt\n",
      "data\\folders\\folder_2\\three_file.txt\n",
      "data\\folders\\folder_3\\five_file.txt\n",
      "data\\folders\\folder_3\\four_file.txt\n"
     ]
    }
   ],
   "source": [
    "import glob\n",
    "\n",
    "folder = os.path.join(\"data\", \"folders\")\n",
    "\n",
    "for filename in glob.glob('{}/**/*.txt'.format(folder), recursive=True):\n",
    "    print(filename)\n",
    "    \n"
   ]
  },
  {
   "cell_type": "markdown",
   "metadata": {},
   "source": [
    "You can get the files in a list like this."
   ]
  },
  {
   "cell_type": "code",
   "execution_count": 93,
   "metadata": {},
   "outputs": [
    {
     "data": {
      "text/plain": [
       "['data\\\\folders\\\\base_one_file.txt',\n",
       " 'data\\\\folders\\\\base_two_file.txt',\n",
       " 'data\\\\folders\\\\folder_1\\\\one_file.txt',\n",
       " 'data\\\\folders\\\\folder_1\\\\two_file.txt',\n",
       " 'data\\\\folders\\\\folder_2\\\\three_file.txt',\n",
       " 'data\\\\folders\\\\folder_3\\\\five_file.txt',\n",
       " 'data\\\\folders\\\\folder_3\\\\four_file.txt']"
      ]
     },
     "execution_count": 93,
     "metadata": {},
     "output_type": "execute_result"
    }
   ],
   "source": [
    "# List comprehension\n",
    "files = [i for i in glob.glob('{}/**/*.txt'.format(folder), recursive=True)]\n",
    "files\n"
   ]
  },
  {
   "cell_type": "markdown",
   "metadata": {},
   "source": [
    "### Summary"
   ]
  },
  {
   "cell_type": "markdown",
   "metadata": {},
   "source": [
    "> #### open\n",
    "Built-in function to open a file object to read/write/append to a file.\n",
    "```python\n",
    "with open('test.txt', 'w') as f:\n",
    "    f.write(\"Hello\")\n",
    "with open('test2.txt', 'r') as f:\n",
    "    data = f.readlines()\n",
    "with open('test2.txt', 'r') as f:\n",
    "    f.readline()\n",
    "    data = []\n",
    "    for line in f:\n",
    "        data.append(line)\n",
    "```"
   ]
  },
  {
   "cell_type": "markdown",
   "metadata": {},
   "source": [
    "> #### JSON\n",
    "JSON (JavaScript Object Notation) is an open-standard format that uses human-readable text to transmit data objects consisting of attribute–value pairs. Used often to communicate data with API's.\n",
    "```python\n",
    "import json\n",
    "json.dumps(data)      # Dict to JSON (str)\n",
    "json.loads(json_str)  # JSON(str) to dict type\n",
    "with open('data.json', 'w') as f:\n",
    "    json.dump(data, f)\n",
    "with open('data.json', 'r') as f:\n",
    "    data = json.load(f)\n",
    "```"
   ]
  },
  {
   "cell_type": "markdown",
   "metadata": {},
   "source": [
    "> #### import\n",
    "import libraries to use the functionality\n",
    "```python\n",
    "import json\n",
    "import os\n",
    "```"
   ]
  },
  {
   "cell_type": "markdown",
   "metadata": {},
   "source": [
    "> #### glob\n",
    "module that is used for file listing\n",
    "```python\n",
    "for filename in glob.glob('{}/*.txt'.format(folder)):\n",
    "    print(filename)\n",
    "for filename in glob.glob('{}/**/*.txt'.format(folder), recursive=True):\n",
    "    print(filename)\n",
    "```"
   ]
  },
  {
   "cell_type": "markdown",
   "metadata": {
    "toc-hr-collapsed": false
   },
   "source": [
    "### RUN ME\n",
    "\n",
    "Please run the below code snippet. It is required for running tests for your solution."
   ]
  },
  {
   "cell_type": "code",
   "execution_count": null,
   "metadata": {},
   "outputs": [],
   "source": [
    "def test(got, expected):\n",
    "    if got == expected:\n",
    "        prefix = ' OK '\n",
    "    else:\n",
    "        prefix = '  FAIL '\n",
    "    print(('%s got: %s expected: %s' % (prefix, repr(got), repr(expected))))"
   ]
  },
  {
   "cell_type": "code",
   "execution_count": 94,
   "metadata": {},
   "outputs": [],
   "source": [
    "def test(got, expected):\n",
    "    max_width_print = min([int(79/3), \n",
    "                           len(repr(got)) + 10, \n",
    "                           len(repr(expected)) + 10])\n",
    "    \n",
    "    if got == expected:\n",
    "        prefix = ' OK '.center(max_width_print, '=')\n",
    "    else:\n",
    "        prefix = ' FAIL '.center(max_width_print, '=')\n",
    "    print(('%s\\n     got: %s \\nexpected: %s' % (prefix, repr(got), repr(expected))), \n",
    "          end = '\\n\\n')"
   ]
  },
  {
   "cell_type": "code",
   "execution_count": 95,
   "metadata": {},
   "outputs": [
    {
     "name": "stdout",
     "output_type": "stream",
     "text": [
      "==== FAIL ===\n",
      "     got: 'a' \n",
      "expected: 'ab'\n",
      "\n",
      "===== OK ====\n",
      "     got: 'a' \n",
      "expected: 'a'\n",
      "\n"
     ]
    }
   ],
   "source": [
    "test('a', 'ab')\n",
    "test('a', 'a')"
   ]
  },
  {
   "cell_type": "markdown",
   "metadata": {},
   "source": [
    "### Exercises"
   ]
  },
  {
   "cell_type": "markdown",
   "metadata": {},
   "source": [
    "#### Exercise 1 - Read in stocks\n",
    "\n",
    "Read in stocks data in \"data/stocks.json\" and store it into stocks.\n",
    "\n",
    "Each line of this file is a json object, but the whole file content is not a valid json object since the jsons are no separated by a comma and there is no extra brackets surrounding the jsons.\n",
    "\n",
    "So you need to read the file line by line and transform those strings into dict using json.loads.\n",
    "\n",
    "Store the dictionaries into stocks.\n",
    "\n",
    "Hints: import os, os.path.join, import json, json.loads"
   ]
  },
  {
   "cell_type": "code",
   "execution_count": null,
   "metadata": {},
   "outputs": [],
   "source": [
    "## your code\n",
    "        \n",
    "# TEST\n",
    "print(\"read_in_stocks\")\n",
    "test(len(stocks), 6756)\n",
    "test(type(stocks[0]), dict)"
   ]
  },
  {
   "cell_type": "code",
   "execution_count": 103,
   "metadata": {},
   "outputs": [
    {
     "name": "stdout",
     "output_type": "stream",
     "text": [
      "read_in_stocks\n",
      "===== OK =====\n",
      "     got: 6756 \n",
      "expected: 6756\n",
      "\n",
      "========== OK ==========\n",
      "     got: <class 'dict'> \n",
      "expected: <class 'dict'>\n",
      "\n"
     ]
    }
   ],
   "source": [
    "import os\n",
    "import json\n",
    "file = os.path.join(\"data\", \"stocks.json\")\n",
    "\n",
    "stocks = []\n",
    "\n",
    "with open (file,'r') as f:\n",
    "    for i in f:\n",
    "        stocks.append(json.loads(i))\n",
    "# print(stocks[:2])\n",
    "        \n",
    "# TEST\n",
    "print(\"read_in_stocks\")\n",
    "test(len(stocks), 6756)\n",
    "test(type(stocks[0]), dict)"
   ]
  },
  {
   "cell_type": "markdown",
   "metadata": {},
   "source": [
    "#### Exercise 2 - First ten names\n",
    "\n",
    "What are the names of the first ten companies?\n",
    "\n",
    "Hints: inspect one dict to see which key contains the name."
   ]
  },
  {
   "cell_type": "code",
   "execution_count": null,
   "metadata": {},
   "outputs": [],
   "source": [
    "names = ## your code\n",
    "\n",
    "# TEST\n",
    "print(\"first_ten_names\")\n",
    "from answers import ten_companies\n",
    "test(names, ten_companies)"
   ]
  },
  {
   "cell_type": "code",
   "execution_count": 135,
   "metadata": {},
   "outputs": [
    {
     "name": "stdout",
     "output_type": "stream",
     "text": [
      "first_ten_names\n",
      "=========== OK ===========\n",
      "     got: ['Agilent Technologies Inc.', 'Alcoa, Inc.', 'WCM/BNY Mellon Focused Growth ADR ETF', 'iShares MSCI AC Asia Information Tech', 'Altisource Asset Management Corporation', 'Atlantic American Corp.', \"Aaron's, Inc.\", 'Applied Optoelectronics, Inc.', 'AAON Inc.', 'Advance Auto Parts Inc.'] \n",
      "expected: ['Agilent Technologies Inc.', 'Alcoa, Inc.', 'WCM/BNY Mellon Focused Growth ADR ETF', 'iShares MSCI AC Asia Information Tech', 'Altisource Asset Management Corporation', 'Atlantic American Corp.', \"Aaron's, Inc.\", 'Applied Optoelectronics, Inc.', 'AAON Inc.', 'Advance Auto Parts Inc.']\n",
      "\n"
     ]
    }
   ],
   "source": [
    "names = [i['Company'] for i in stocks[:10]]\n",
    "\n",
    "# Another way\n",
    "# names = []\n",
    "# for i in stocks[:10]:\n",
    "#     names.append(i[\"Company\"])\n",
    "\n",
    "# TEST\n",
    "print(\"first_ten_names\")\n",
    "from answers import ten_companies\n",
    "test(names, ten_companies)"
   ]
  },
  {
   "cell_type": "markdown",
   "metadata": {},
   "source": [
    "#### Exercise 3 - Inc only\n",
    "\n",
    "From the top 10 companies, now only show the names that contain the word 'Inc.'"
   ]
  },
  {
   "cell_type": "code",
   "execution_count": null,
   "metadata": {},
   "outputs": [],
   "source": [
    "names = ## your code\n",
    "\n",
    "# TEST\n",
    "from answers import inc_companies\n",
    "print(\"inc_only\")\n",
    "test(names, inc_companies)"
   ]
  },
  {
   "cell_type": "code",
   "execution_count": 137,
   "metadata": {},
   "outputs": [
    {
     "name": "stdout",
     "output_type": "stream",
     "text": [
      "inc_only\n",
      "=========== OK ===========\n",
      "     got: ['Agilent Technologies Inc.', 'Alcoa, Inc.', \"Aaron's, Inc.\", 'Applied Optoelectronics, Inc.', 'AAON Inc.', 'Advance Auto Parts Inc.'] \n",
      "expected: ['Agilent Technologies Inc.', 'Alcoa, Inc.', \"Aaron's, Inc.\", 'Applied Optoelectronics, Inc.', 'AAON Inc.', 'Advance Auto Parts Inc.']\n",
      "\n"
     ]
    }
   ],
   "source": [
    "# NIk Faiz\n",
    "names =[i['Company'] for i in stocks[:10] if 'Inc.' in i['Company']]\n",
    "\n",
    "\n",
    "\n",
    "# Another way\n",
    "# names =[i['Company'] for i in stocks[:10] if i['Company'].endswith(\"Inc.\")]\n",
    "# names =[i for i in names if 'Inc.' in i]\n",
    "\n",
    "# TEST\n",
    "from answers import inc_companies\n",
    "print(\"inc_only\")\n",
    "test(names, inc_companies)"
   ]
  },
  {
   "cell_type": "markdown",
   "metadata": {},
   "source": [
    "#### Exercise 4 - Average PE\n",
    "\n",
    "Now show the average P/E for all the data. Round it by 2.\n",
    "\n",
    "Not all the stocks have the P/E reported, so you need to handle that. \n",
    "\n",
    "What percentage of the stocks has P/E reported? Round it by 2."
   ]
  },
  {
   "cell_type": "code",
   "execution_count": null,
   "metadata": {},
   "outputs": [],
   "source": [
    "## your code\n",
    "\n",
    "avg_pe = ## your code\n",
    "perc_with_pe = ## your code\n",
    "\n",
    "# TEST\n",
    "print(\"average_pe\")\n",
    "test(avg_pe, 41.71)\n",
    "test(perc_with_pe, 0.5)"
   ]
  },
  {
   "cell_type": "code",
   "execution_count": 148,
   "metadata": {},
   "outputs": [
    {
     "data": {
      "text/plain": [
       "41.71"
      ]
     },
     "execution_count": 148,
     "metadata": {},
     "output_type": "execute_result"
    }
   ],
   "source": [
    "stocks[0]['P/E']\n",
    "pe= [i[\"P/E\"] for i in stocks if \"P/E\" in i]\n",
    "round(sum(pe)/len(pe),2)"
   ]
  },
  {
   "cell_type": "code",
   "execution_count": 158,
   "metadata": {},
   "outputs": [
    {
     "name": "stdout",
     "output_type": "stream",
     "text": [
      "average_pe\n",
      "====== OK =====\n",
      "     got: 41.71 \n",
      "expected: 41.71\n",
      "\n",
      "===== OK ====\n",
      "     got: 0.5 \n",
      "expected: 0.5\n",
      "\n"
     ]
    }
   ],
   "source": [
    "## Nik Faiz\n",
    "pe= [i[\"P/E\"] for i in stocks if \"P/E\" in i]\n",
    "\n",
    "avg_pe = round(sum(pe)/len(pe),2)\n",
    "perc_with_pe = round(len(pe)/len(stocks),2)\n",
    "\n",
    "# TEST\n",
    "print(\"average_pe\")\n",
    "test(avg_pe, 41.71)\n",
    "test(perc_with_pe, 0.5)\n",
    "\n"
   ]
  },
  {
   "cell_type": "code",
   "execution_count": 157,
   "metadata": {},
   "outputs": [
    {
     "data": {
      "text/plain": [
       "[<matplotlib.lines.Line2D at 0x24d27f16ec8>]"
      ]
     },
     "execution_count": 157,
     "metadata": {},
     "output_type": "execute_result"
    },
    {
     "data": {
      "image/png": "[encoded data removed]",
      "text/plain": [
       "<Figure size 432x288 with 1 Axes>"
      ]
     },
     "metadata": {
      "needs_background": "light"
     },
     "output_type": "display_data"
    }
   ],
   "source": [
    "import matplotlib.pyplot\n",
    "matplotlib.pyplot.plot(pe)"
   ]
  },
  {
   "cell_type": "markdown",
   "metadata": {},
   "source": [
    "## Exception Handling"
   ]
  },
  {
   "cell_type": "markdown",
   "metadata": {},
   "source": [
    "### Exceptions\n",
    "\n",
    "Here is an example Exception."
   ]
  },
  {
   "cell_type": "code",
   "execution_count": 159,
   "metadata": {
    "slideshow": {
     "slide_type": "subslide"
    }
   },
   "outputs": [
    {
     "ename": "SyntaxError",
     "evalue": "invalid syntax (<ipython-input-159-2b688bc740d7>, line 1)",
     "output_type": "error",
     "traceback": [
      "\u001b[1;36m  File \u001b[1;32m\"<ipython-input-159-2b688bc740d7>\"\u001b[1;36m, line \u001b[1;32m1\u001b[0m\n\u001b[1;33m    while True print('Hello world')\u001b[0m\n\u001b[1;37m                   ^\u001b[0m\n\u001b[1;31mSyntaxError\u001b[0m\u001b[1;31m:\u001b[0m invalid syntax\n"
     ]
    }
   ],
   "source": [
    "while True print('Hello world')"
   ]
  },
  {
   "cell_type": "markdown",
   "metadata": {
    "slideshow": {
     "slide_type": "subslide"
    }
   },
   "source": [
    "- Arrow ^ pointing at the earliest point in the line where the error was detected\n",
    "- The error is caused by the token preceding the arrow\n",
    "- File name and line number are printed"
   ]
  },
  {
   "cell_type": "markdown",
   "metadata": {
    "slideshow": {
     "slide_type": "fragment"
    }
   },
   "source": [
    "There are different types of Exceptions.\n",
    "\n",
    "Previous one was SyntaxError, other built-in exception types include:\n",
    "- ZeroDivisionError -- division by zero\n",
    "- NameError -- name not defined\n",
    "- TypeError -- incorrect type\n",
    "- KeyError -- key not found in dict\n",
    "- IndexError -- index greater than length in list\n",
    "\n",
    "The last line of the error message indicates what happened. Let's go over them."
   ]
  },
  {
   "cell_type": "code",
   "execution_count": 160,
   "metadata": {
    "slideshow": {
     "slide_type": "subslide"
    }
   },
   "outputs": [
    {
     "ename": "ZeroDivisionError",
     "evalue": "division by zero",
     "output_type": "error",
     "traceback": [
      "\u001b[1;31m---------------------------------------------------------------------------\u001b[0m",
      "\u001b[1;31mZeroDivisionError\u001b[0m                         Traceback (most recent call last)",
      "\u001b[1;32m<ipython-input-160-0b280f36835c>\u001b[0m in \u001b[0;36m<module>\u001b[1;34m\u001b[0m\n\u001b[1;32m----> 1\u001b[1;33m \u001b[1;36m10\u001b[0m \u001b[1;33m*\u001b[0m \u001b[1;33m(\u001b[0m\u001b[1;36m1\u001b[0m\u001b[1;33m/\u001b[0m\u001b[1;36m0\u001b[0m\u001b[1;33m)\u001b[0m\u001b[1;33m\u001b[0m\u001b[1;33m\u001b[0m\u001b[0m\n\u001b[0m",
      "\u001b[1;31mZeroDivisionError\u001b[0m: division by zero"
     ]
    }
   ],
   "source": [
    "10 * (1/0)"
   ]
  },
  {
   "cell_type": "code",
   "execution_count": 162,
   "metadata": {
    "scrolled": true,
    "slideshow": {
     "slide_type": "subslide"
    }
   },
   "outputs": [
    {
     "ename": "NameError",
     "evalue": "name 'result' is not defined",
     "output_type": "error",
     "traceback": [
      "\u001b[1;31m---------------------------------------------------------------------------\u001b[0m",
      "\u001b[1;31mNameError\u001b[0m                                 Traceback (most recent call last)",
      "\u001b[1;32m<ipython-input-162-668902554156>\u001b[0m in \u001b[0;36m<module>\u001b[1;34m\u001b[0m\n\u001b[1;32m----> 1\u001b[1;33m \u001b[1;36m4\u001b[0m \u001b[1;33m+\u001b[0m \u001b[0mresult\u001b[0m\u001b[1;33m*\u001b[0m\u001b[1;36m3\u001b[0m\u001b[1;33m\u001b[0m\u001b[1;33m\u001b[0m\u001b[0m\n\u001b[0m",
      "\u001b[1;31mNameError\u001b[0m: name 'result' is not defined"
     ]
    }
   ],
   "source": [
    "4 + result*3"
   ]
  },
  {
   "cell_type": "code",
   "execution_count": 163,
   "metadata": {
    "scrolled": true,
    "slideshow": {
     "slide_type": "subslide"
    }
   },
   "outputs": [
    {
     "ename": "TypeError",
     "evalue": "can only concatenate str (not \"int\") to str",
     "output_type": "error",
     "traceback": [
      "\u001b[1;31m---------------------------------------------------------------------------\u001b[0m",
      "\u001b[1;31mTypeError\u001b[0m                                 Traceback (most recent call last)",
      "\u001b[1;32m<ipython-input-163-cc892b1f57d5>\u001b[0m in \u001b[0;36m<module>\u001b[1;34m\u001b[0m\n\u001b[1;32m----> 1\u001b[1;33m \u001b[1;34m'1'\u001b[0m \u001b[1;33m+\u001b[0m \u001b[1;36m1\u001b[0m\u001b[1;33m\u001b[0m\u001b[1;33m\u001b[0m\u001b[0m\n\u001b[0m",
      "\u001b[1;31mTypeError\u001b[0m: can only concatenate str (not \"int\") to str"
     ]
    }
   ],
   "source": [
    "'1' + 1"
   ]
  },
  {
   "cell_type": "code",
   "execution_count": 164,
   "metadata": {
    "slideshow": {
     "slide_type": "subslide"
    }
   },
   "outputs": [
    {
     "ename": "KeyError",
     "evalue": "0",
     "output_type": "error",
     "traceback": [
      "\u001b[1;31m---------------------------------------------------------------------------\u001b[0m",
      "\u001b[1;31mKeyError\u001b[0m                                  Traceback (most recent call last)",
      "\u001b[1;32m<ipython-input-164-5928a7108b75>\u001b[0m in \u001b[0;36m<module>\u001b[1;34m\u001b[0m\n\u001b[0;32m      1\u001b[0m \u001b[0md\u001b[0m \u001b[1;33m=\u001b[0m \u001b[1;33m{\u001b[0m\u001b[1;33m}\u001b[0m\u001b[1;33m\u001b[0m\u001b[1;33m\u001b[0m\u001b[0m\n\u001b[1;32m----> 2\u001b[1;33m \u001b[0md\u001b[0m\u001b[1;33m[\u001b[0m\u001b[1;36m0\u001b[0m\u001b[1;33m]\u001b[0m\u001b[1;33m\u001b[0m\u001b[1;33m\u001b[0m\u001b[0m\n\u001b[0m",
      "\u001b[1;31mKeyError\u001b[0m: 0"
     ]
    }
   ],
   "source": [
    "d = {}\n",
    "d[0]"
   ]
  },
  {
   "cell_type": "code",
   "execution_count": 165,
   "metadata": {
    "slideshow": {
     "slide_type": "subslide"
    }
   },
   "outputs": [
    {
     "ename": "IndexError",
     "evalue": "list index out of range",
     "output_type": "error",
     "traceback": [
      "\u001b[1;31m---------------------------------------------------------------------------\u001b[0m",
      "\u001b[1;31mIndexError\u001b[0m                                Traceback (most recent call last)",
      "\u001b[1;32m<ipython-input-165-7985abb5df3c>\u001b[0m in \u001b[0;36m<module>\u001b[1;34m\u001b[0m\n\u001b[0;32m      1\u001b[0m \u001b[0ml\u001b[0m \u001b[1;33m=\u001b[0m \u001b[1;33m[\u001b[0m\u001b[1;33m]\u001b[0m\u001b[1;33m\u001b[0m\u001b[1;33m\u001b[0m\u001b[0m\n\u001b[1;32m----> 2\u001b[1;33m \u001b[0ml\u001b[0m\u001b[1;33m[\u001b[0m\u001b[1;36m0\u001b[0m\u001b[1;33m]\u001b[0m\u001b[1;33m\u001b[0m\u001b[1;33m\u001b[0m\u001b[0m\n\u001b[0m",
      "\u001b[1;31mIndexError\u001b[0m: list index out of range"
     ]
    }
   ],
   "source": [
    "l = []\n",
    "l[0]"
   ]
  },
  {
   "cell_type": "markdown",
   "metadata": {
    "slideshow": {
     "slide_type": "slide"
    }
   },
   "source": [
    "The preceding part of the error message shows the context where the exception happened.\n",
    "\n",
    "It contains a stack traceback listing source lines.\n",
    "\n",
    "Here is an example."
   ]
  },
  {
   "cell_type": "code",
   "execution_count": 166,
   "metadata": {
    "slideshow": {
     "slide_type": "subslide"
    }
   },
   "outputs": [
    {
     "ename": "ZeroDivisionError",
     "evalue": "division by zero",
     "output_type": "error",
     "traceback": [
      "\u001b[1;31m---------------------------------------------------------------------------\u001b[0m",
      "\u001b[1;31mZeroDivisionError\u001b[0m                         Traceback (most recent call last)",
      "\u001b[1;32m<ipython-input-166-70751ab1fe5a>\u001b[0m in \u001b[0;36m<module>\u001b[1;34m\u001b[0m\n\u001b[0;32m      8\u001b[0m     \u001b[1;32mreturn\u001b[0m \u001b[0mcall_divide\u001b[0m\u001b[1;33m(\u001b[0m\u001b[0mx\u001b[0m\u001b[1;33m,\u001b[0m \u001b[0my\u001b[0m\u001b[1;33m)\u001b[0m\u001b[1;33m\u001b[0m\u001b[1;33m\u001b[0m\u001b[0m\n\u001b[0;32m      9\u001b[0m \u001b[1;33m\u001b[0m\u001b[0m\n\u001b[1;32m---> 10\u001b[1;33m \u001b[0mf\u001b[0m\u001b[1;33m(\u001b[0m\u001b[1;36m1\u001b[0m\u001b[1;33m,\u001b[0m \u001b[1;36m0\u001b[0m\u001b[1;33m)\u001b[0m\u001b[1;33m\u001b[0m\u001b[1;33m\u001b[0m\u001b[0m\n\u001b[0m",
      "\u001b[1;32m<ipython-input-166-70751ab1fe5a>\u001b[0m in \u001b[0;36mf\u001b[1;34m(x, y)\u001b[0m\n\u001b[0;32m      6\u001b[0m \u001b[1;33m\u001b[0m\u001b[0m\n\u001b[0;32m      7\u001b[0m \u001b[1;32mdef\u001b[0m \u001b[0mf\u001b[0m\u001b[1;33m(\u001b[0m\u001b[0mx\u001b[0m\u001b[1;33m,\u001b[0m \u001b[0my\u001b[0m\u001b[1;33m)\u001b[0m\u001b[1;33m:\u001b[0m\u001b[1;33m\u001b[0m\u001b[1;33m\u001b[0m\u001b[0m\n\u001b[1;32m----> 8\u001b[1;33m     \u001b[1;32mreturn\u001b[0m \u001b[0mcall_divide\u001b[0m\u001b[1;33m(\u001b[0m\u001b[0mx\u001b[0m\u001b[1;33m,\u001b[0m \u001b[0my\u001b[0m\u001b[1;33m)\u001b[0m\u001b[1;33m\u001b[0m\u001b[1;33m\u001b[0m\u001b[0m\n\u001b[0m\u001b[0;32m      9\u001b[0m \u001b[1;33m\u001b[0m\u001b[0m\n\u001b[0;32m     10\u001b[0m \u001b[0mf\u001b[0m\u001b[1;33m(\u001b[0m\u001b[1;36m1\u001b[0m\u001b[1;33m,\u001b[0m \u001b[1;36m0\u001b[0m\u001b[1;33m)\u001b[0m\u001b[1;33m\u001b[0m\u001b[1;33m\u001b[0m\u001b[0m\n",
      "\u001b[1;32m<ipython-input-166-70751ab1fe5a>\u001b[0m in \u001b[0;36mcall_divide\u001b[1;34m(x, y)\u001b[0m\n\u001b[0;32m      3\u001b[0m \u001b[1;33m\u001b[0m\u001b[0m\n\u001b[0;32m      4\u001b[0m \u001b[1;32mdef\u001b[0m \u001b[0mcall_divide\u001b[0m\u001b[1;33m(\u001b[0m\u001b[0mx\u001b[0m\u001b[1;33m,\u001b[0m \u001b[0my\u001b[0m\u001b[1;33m)\u001b[0m\u001b[1;33m:\u001b[0m\u001b[1;33m\u001b[0m\u001b[1;33m\u001b[0m\u001b[0m\n\u001b[1;32m----> 5\u001b[1;33m     \u001b[1;32mreturn\u001b[0m \u001b[0mdivide\u001b[0m\u001b[1;33m(\u001b[0m\u001b[0mx\u001b[0m\u001b[1;33m,\u001b[0m \u001b[0my\u001b[0m\u001b[1;33m)\u001b[0m\u001b[1;33m\u001b[0m\u001b[1;33m\u001b[0m\u001b[0m\n\u001b[0m\u001b[0;32m      6\u001b[0m \u001b[1;33m\u001b[0m\u001b[0m\n\u001b[0;32m      7\u001b[0m \u001b[1;32mdef\u001b[0m \u001b[0mf\u001b[0m\u001b[1;33m(\u001b[0m\u001b[0mx\u001b[0m\u001b[1;33m,\u001b[0m \u001b[0my\u001b[0m\u001b[1;33m)\u001b[0m\u001b[1;33m:\u001b[0m\u001b[1;33m\u001b[0m\u001b[1;33m\u001b[0m\u001b[0m\n",
      "\u001b[1;32m<ipython-input-166-70751ab1fe5a>\u001b[0m in \u001b[0;36mdivide\u001b[1;34m(x, y)\u001b[0m\n\u001b[0;32m      1\u001b[0m \u001b[1;32mdef\u001b[0m \u001b[0mdivide\u001b[0m\u001b[1;33m(\u001b[0m\u001b[0mx\u001b[0m\u001b[1;33m,\u001b[0m \u001b[0my\u001b[0m\u001b[1;33m)\u001b[0m\u001b[1;33m:\u001b[0m\u001b[1;33m\u001b[0m\u001b[1;33m\u001b[0m\u001b[0m\n\u001b[1;32m----> 2\u001b[1;33m     \u001b[1;32mreturn\u001b[0m \u001b[0mx\u001b[0m\u001b[1;33m/\u001b[0m\u001b[0my\u001b[0m\u001b[1;33m\u001b[0m\u001b[1;33m\u001b[0m\u001b[0m\n\u001b[0m\u001b[0;32m      3\u001b[0m \u001b[1;33m\u001b[0m\u001b[0m\n\u001b[0;32m      4\u001b[0m \u001b[1;32mdef\u001b[0m \u001b[0mcall_divide\u001b[0m\u001b[1;33m(\u001b[0m\u001b[0mx\u001b[0m\u001b[1;33m,\u001b[0m \u001b[0my\u001b[0m\u001b[1;33m)\u001b[0m\u001b[1;33m:\u001b[0m\u001b[1;33m\u001b[0m\u001b[1;33m\u001b[0m\u001b[0m\n\u001b[0;32m      5\u001b[0m     \u001b[1;32mreturn\u001b[0m \u001b[0mdivide\u001b[0m\u001b[1;33m(\u001b[0m\u001b[0mx\u001b[0m\u001b[1;33m,\u001b[0m \u001b[0my\u001b[0m\u001b[1;33m)\u001b[0m\u001b[1;33m\u001b[0m\u001b[1;33m\u001b[0m\u001b[0m\n",
      "\u001b[1;31mZeroDivisionError\u001b[0m: division by zero"
     ]
    }
   ],
   "source": [
    "def divide(x, y):\n",
    "    return x/y\n",
    "\n",
    "def call_divide(x, y):\n",
    "    return divide(x, y)\n",
    "\n",
    "def f(x, y):\n",
    "    return call_divide(x, y)\n",
    "\n",
    "f(1, 0)"
   ]
  },
  {
   "cell_type": "markdown",
   "metadata": {},
   "source": [
    "**Question:** What has caused the Error?\n",
    "<br>\n",
    "**Answer:**"
   ]
  },
  {
   "cell_type": "markdown",
   "metadata": {},
   "source": [
    "### Try except\n",
    "\n",
    "Sometimes exceptions are expected to happen and we want our code to handle those exceptions in a certain way. For this there is the try except statement.\n",
    "\n",
    "Let's try these inputs.\n",
    "\n",
    "- typing a number\n",
    "- typing a non-numeric string\n",
    "- typing a zero\n",
    "- ending the cell by intterupting the kernel"
   ]
  },
  {
   "cell_type": "code",
   "execution_count": 170,
   "metadata": {},
   "outputs": [
    {
     "name": "stdout",
     "output_type": "stream",
     "text": [
      "Please enter a number: s\n",
      "Oops!  That was no valid number.  Try again...\n",
      "Please enter a number: 15\n",
      "inverse is: 0.06666666666666667\n"
     ]
    }
   ],
   "source": [
    "while True:\n",
    "    try:\n",
    "        x = float(input(\"Please enter a number: \"))\n",
    "        print(\"inverse is:\",  1/x)\n",
    "        break\n",
    "    except:\n",
    "        print(\"Oops!  That was no valid number.  Try again...\")"
   ]
  },
  {
   "cell_type": "markdown",
   "metadata": {},
   "source": [
    "The try statement.\n",
    "\n",
    "1. the __try clause__ (block under try:) is executed\n",
    "1. if __no exception__ occurs, __except clause is skipped__\n",
    "1. if __an exception occurs__, the rest of the try clause is skipped,\n",
    "    - and __the first except__ clause matching the exception __is executed__,\n",
    "    - if __no handler__ is found, execution stops, an error __Traceback is displayed__.\n",
    "    \n",
    "In this case we have used a bare except statement. This means all exception are catched including the KeyboardInterrupt.\n",
    "\n",
    "You can specifiy which exception you want to be catched and you want to handle them.\n",
    "\n",
    "Let's try typing an number, a non-numeric number, a zero and a keyboardintterup again."
   ]
  },
  {
   "cell_type": "code",
   "execution_count": 171,
   "metadata": {},
   "outputs": [
    {
     "name": "stdout",
     "output_type": "stream",
     "text": [
      "Please enter a number: 0\n",
      "Oops! Cannot divide by 0!\n",
      "Please enter a number: s\n",
      "Oops!  That was no valid number.  Try again...\n",
      "Please enter a number: asda\n",
      "Oops!  That was no valid number.  Try again...\n",
      "Please enter a number: 123514\n",
      "inverse is: 8.096248198584776e-06\n"
     ]
    }
   ],
   "source": [
    "while True:\n",
    "    try:\n",
    "        x = float(input(\"Please enter a number: \"))\n",
    "        print(\"inverse is:\",  1/x)\n",
    "        break\n",
    "    except ValueError:\n",
    "        print(\"Oops!  That was no valid number.  Try again...\")\n",
    "    except ZeroDivisionError:\n",
    "        print(\"Oops! Cannot divide by 0!\")\n",
    "    except:\n",
    "        print(\"Something else went wrong\")\n",
    "        raise\n",
    "        break"
   ]
  },
  {
   "cell_type": "markdown",
   "metadata": {},
   "source": [
    "else and finally are usefull to define clean-up action.\n",
    "- ```else``` statements are executed __only if__ no exceptions occur in ```try``` block.\n",
    "- ```finally``` statements are __always__ executed.\n",
    "\n",
    "else clause avoids accidentally catching an exception."
   ]
  },
  {
   "cell_type": "code",
   "execution_count": 172,
   "metadata": {},
   "outputs": [
    {
     "name": "stdout",
     "output_type": "stream",
     "text": [
      "division by zero!\n",
      "executing finally clause\n"
     ]
    }
   ],
   "source": [
    "def divide(x, y):\n",
    "    try:\n",
    "        result = x / y\n",
    "    except ZeroDivisionError:\n",
    "        print(\"division by zero!\")\n",
    "    else:\n",
    "        print(\"result is\", result)\n",
    "    finally:\n",
    "        print(\"executing finally clause\")\n",
    "        \n",
    "divide(2,0)"
   ]
  },
  {
   "cell_type": "code",
   "execution_count": 173,
   "metadata": {},
   "outputs": [
    {
     "name": "stdout",
     "output_type": "stream",
     "text": [
      "result is 2.0\n",
      "executing finally clause\n"
     ]
    }
   ],
   "source": [
    "divide(2,1)"
   ]
  },
  {
   "cell_type": "code",
   "execution_count": 175,
   "metadata": {},
   "outputs": [
    {
     "name": "stdout",
     "output_type": "stream",
     "text": [
      "executing finally clause\n"
     ]
    },
    {
     "ename": "TypeError",
     "evalue": "unsupported operand type(s) for /: 'str' and 'str'",
     "output_type": "error",
     "traceback": [
      "\u001b[1;31m---------------------------------------------------------------------------\u001b[0m",
      "\u001b[1;31mTypeError\u001b[0m                                 Traceback (most recent call last)",
      "\u001b[1;32m<ipython-input-175-c47f15ada3ae>\u001b[0m in \u001b[0;36m<module>\u001b[1;34m\u001b[0m\n\u001b[1;32m----> 1\u001b[1;33m \u001b[0mdivide\u001b[0m\u001b[1;33m(\u001b[0m\u001b[1;34m\"a\"\u001b[0m\u001b[1;33m,\u001b[0m\u001b[1;34m\"b\"\u001b[0m\u001b[1;33m)\u001b[0m\u001b[1;33m\u001b[0m\u001b[1;33m\u001b[0m\u001b[0m\n\u001b[0m",
      "\u001b[1;32m<ipython-input-172-aa658e3576f9>\u001b[0m in \u001b[0;36mdivide\u001b[1;34m(x, y)\u001b[0m\n\u001b[0;32m      1\u001b[0m \u001b[1;32mdef\u001b[0m \u001b[0mdivide\u001b[0m\u001b[1;33m(\u001b[0m\u001b[0mx\u001b[0m\u001b[1;33m,\u001b[0m \u001b[0my\u001b[0m\u001b[1;33m)\u001b[0m\u001b[1;33m:\u001b[0m\u001b[1;33m\u001b[0m\u001b[1;33m\u001b[0m\u001b[0m\n\u001b[0;32m      2\u001b[0m     \u001b[1;32mtry\u001b[0m\u001b[1;33m:\u001b[0m\u001b[1;33m\u001b[0m\u001b[1;33m\u001b[0m\u001b[0m\n\u001b[1;32m----> 3\u001b[1;33m         \u001b[0mresult\u001b[0m \u001b[1;33m=\u001b[0m \u001b[0mx\u001b[0m \u001b[1;33m/\u001b[0m \u001b[0my\u001b[0m\u001b[1;33m\u001b[0m\u001b[1;33m\u001b[0m\u001b[0m\n\u001b[0m\u001b[0;32m      4\u001b[0m     \u001b[1;32mexcept\u001b[0m \u001b[0mZeroDivisionError\u001b[0m\u001b[1;33m:\u001b[0m\u001b[1;33m\u001b[0m\u001b[1;33m\u001b[0m\u001b[0m\n\u001b[0;32m      5\u001b[0m         \u001b[0mprint\u001b[0m\u001b[1;33m(\u001b[0m\u001b[1;34m\"division by zero!\"\u001b[0m\u001b[1;33m)\u001b[0m\u001b[1;33m\u001b[0m\u001b[1;33m\u001b[0m\u001b[0m\n",
      "\u001b[1;31mTypeError\u001b[0m: unsupported operand type(s) for /: 'str' and 'str'"
     ]
    }
   ],
   "source": [
    "divide(\"a\",\"b\")"
   ]
  },
  {
   "cell_type": "markdown",
   "metadata": {},
   "source": [
    "Let's do another case."
   ]
  },
  {
   "cell_type": "code",
   "execution_count": 176,
   "metadata": {},
   "outputs": [
    {
     "ename": "TypeError",
     "evalue": "unsupported operand type(s) for +=: 'int' and 'str'",
     "output_type": "error",
     "traceback": [
      "\u001b[1;31m---------------------------------------------------------------------------\u001b[0m",
      "\u001b[1;31mTypeError\u001b[0m                                 Traceback (most recent call last)",
      "\u001b[1;32m<ipython-input-176-ba65e6c93eed>\u001b[0m in \u001b[0;36m<module>\u001b[1;34m\u001b[0m\n\u001b[0;32m      3\u001b[0m \u001b[1;33m\u001b[0m\u001b[0m\n\u001b[0;32m      4\u001b[0m \u001b[1;32mfor\u001b[0m \u001b[0mnumber\u001b[0m \u001b[1;32min\u001b[0m \u001b[0mnumbers\u001b[0m\u001b[1;33m:\u001b[0m\u001b[1;33m\u001b[0m\u001b[1;33m\u001b[0m\u001b[0m\n\u001b[1;32m----> 5\u001b[1;33m     \u001b[0mtotal\u001b[0m \u001b[1;33m+=\u001b[0m \u001b[0mnumber\u001b[0m\u001b[1;33m\u001b[0m\u001b[1;33m\u001b[0m\u001b[0m\n\u001b[0m\u001b[0;32m      6\u001b[0m \u001b[1;33m\u001b[0m\u001b[0m\n\u001b[0;32m      7\u001b[0m \u001b[0mtotal\u001b[0m\u001b[1;33m\u001b[0m\u001b[1;33m\u001b[0m\u001b[0m\n",
      "\u001b[1;31mTypeError\u001b[0m: unsupported operand type(s) for +=: 'int' and 'str'"
     ]
    }
   ],
   "source": [
    "total = 0\n",
    "numbers = [1,2,3,\"a\", \"b\", \"c\", 5, 6, 7]\n",
    "\n",
    "for number in numbers:\n",
    "    total += number\n",
    "    \n",
    "total"
   ]
  },
  {
   "cell_type": "markdown",
   "metadata": {},
   "source": [
    "We cannot add up strings to a number.\n",
    "\n",
    "If we want to have the total of the numbers in the list we can ignore the strings."
   ]
  },
  {
   "cell_type": "code",
   "execution_count": null,
   "metadata": {},
   "outputs": [],
   "source": []
  },
  {
   "cell_type": "markdown",
   "metadata": {},
   "source": [
    "You can use the bare except statement. As long as you are mindful about that it catches all exceptions it's fine. For a script you operate yourself it can be fine."
   ]
  },
  {
   "cell_type": "code",
   "execution_count": 178,
   "metadata": {},
   "outputs": [
    {
     "data": {
      "text/plain": [
       "24"
      ]
     },
     "execution_count": 178,
     "metadata": {},
     "output_type": "execute_result"
    }
   ],
   "source": [
    "total = 0\n",
    "\n",
    "for number in numbers:\n",
    "    try:\n",
    "        total +=number\n",
    "    except:\n",
    "        pass\n",
    "total"
   ]
  },
  {
   "cell_type": "markdown",
   "metadata": {},
   "source": [
    "### Summary"
   ]
  },
  {
   "cell_type": "markdown",
   "metadata": {},
   "source": [
    "> #### try except\n",
    "If an error is encountered, a try block code execution is stopped and transferred\n",
    "down to the except block. \n",
    "```python\n",
    "try:\n",
    "    total += number\n",
    "except:\n",
    "    pass\n",
    "```"
   ]
  },
  {
   "cell_type": "markdown",
   "metadata": {},
   "source": [
    "> #### try except else finally\n",
    "In addition to using an except block after the try block, you can also use the\n",
    "finally block. The code in the finally block will be executed regardless of whether an exception\n",
    "occurs. The else code is executed in case the try statement was a succes.\n",
    "```python\n",
    "try:\n",
    "    result = x / y\n",
    "except ZeroDivisionError:\n",
    "    print(\"division by zero!\")\n",
    "else:\n",
    "    print(\"result is\", result)\n",
    "finally:\n",
    "    print(\"executing finally clause\")\n",
    "```"
   ]
  },
  {
   "cell_type": "markdown",
   "metadata": {
    "toc-hr-collapsed": false
   },
   "source": [
    "### RUN ME\n",
    "\n",
    "Please run the below code snippet. It is required for running tests for your solution."
   ]
  },
  {
   "cell_type": "code",
   "execution_count": null,
   "metadata": {},
   "outputs": [],
   "source": [
    "def test(got, expected):\n",
    "    if got == expected:\n",
    "        prefix = ' OK '\n",
    "    else:\n",
    "        prefix = '  FAIL '\n",
    "    print(('%s got: %s expected: %s' % (prefix, repr(got), repr(expected))))"
   ]
  },
  {
   "cell_type": "code",
   "execution_count": null,
   "metadata": {},
   "outputs": [],
   "source": [
    "test('a', 'ab')\n",
    "test('a', 'a')"
   ]
  },
  {
   "cell_type": "markdown",
   "metadata": {
    "toc-hr-collapsed": false
   },
   "source": [
    "### Exercises"
   ]
  },
  {
   "cell_type": "markdown",
   "metadata": {},
   "source": [
    "#### Exercise 1 - Fix it Multiply\n",
    "\n",
    "We want to multiple the values of a and b of the dictionary. \n",
    "\n",
    "Can you help?"
   ]
  },
  {
   "cell_type": "code",
   "execution_count": 184,
   "metadata": {},
   "outputs": [
    {
     "ename": "NameError",
     "evalue": "name 'a' is not defined",
     "output_type": "error",
     "traceback": [
      "\u001b[1;31m---------------------------------------------------------------------------\u001b[0m",
      "\u001b[1;31mNameError\u001b[0m                                 Traceback (most recent call last)",
      "\u001b[1;32m<ipython-input-184-1f97ef341fa5>\u001b[0m in \u001b[0;36m<module>\u001b[1;34m\u001b[0m\n\u001b[0;32m      1\u001b[0m \u001b[0mdata\u001b[0m \u001b[1;33m=\u001b[0m \u001b[1;33m{\u001b[0m\u001b[1;34m\"a\"\u001b[0m\u001b[1;33m:\u001b[0m \u001b[1;36m10\u001b[0m\u001b[1;33m,\u001b[0m \u001b[1;34m\"b\"\u001b[0m\u001b[1;33m:\u001b[0m \u001b[1;36m20\u001b[0m\u001b[1;33m}\u001b[0m\u001b[1;33m\u001b[0m\u001b[1;33m\u001b[0m\u001b[0m\n\u001b[0;32m      2\u001b[0m \u001b[1;33m\u001b[0m\u001b[0m\n\u001b[1;32m----> 3\u001b[1;33m \u001b[0manswer\u001b[0m \u001b[1;33m=\u001b[0m \u001b[0mdata\u001b[0m\u001b[1;33m[\u001b[0m\u001b[0ma\u001b[0m\u001b[1;33m]\u001b[0m \u001b[1;33m*\u001b[0m \u001b[0mdata\u001b[0m\u001b[1;33m[\u001b[0m\u001b[1;34m\"b\"\u001b[0m\u001b[1;33m]\u001b[0m\u001b[1;33m\u001b[0m\u001b[1;33m\u001b[0m\u001b[0m\n\u001b[0m\u001b[0;32m      4\u001b[0m \u001b[1;33m\u001b[0m\u001b[0m\n\u001b[0;32m      5\u001b[0m \u001b[1;31m# TEST\u001b[0m\u001b[1;33m\u001b[0m\u001b[1;33m\u001b[0m\u001b[1;33m\u001b[0m\u001b[0m\n",
      "\u001b[1;31mNameError\u001b[0m: name 'a' is not defined"
     ]
    }
   ],
   "source": [
    "data = {\"a\": 10, \"b\": 20}\n",
    "\n",
    "answer = data[a] * data[\"b\"] \n",
    "\n",
    "# TEST\n",
    "print(\"fix_it_1\")\n",
    "test(answer, 200)"
   ]
  },
  {
   "cell_type": "code",
   "execution_count": 191,
   "metadata": {},
   "outputs": [
    {
     "name": "stdout",
     "output_type": "stream",
     "text": [
      "fix_it_1\n",
      "===== OK ====\n",
      "     got: 200 \n",
      "expected: 200\n",
      "\n"
     ]
    }
   ],
   "source": [
    "data = {\"a\": 10, \"b\": 20}\n",
    "\n",
    "\n",
    "# Answer 1\n",
    "# answer = data[\"a\"] * data[\"b\"] \n",
    "\n",
    "# answer 2\n",
    "# Nik Faiz\n",
    "try:\n",
    "    answer = data[a] * data[\"b\"] \n",
    "except NameError:\n",
    "    answer = data[\"a\"] * data[\"b\"] \n",
    "\n",
    "# TEST\n",
    "print(\"fix_it_1\")\n",
    "test(answer, 200)"
   ]
  },
  {
   "cell_type": "markdown",
   "metadata": {},
   "source": [
    "#### Exercise 2 - Fix it Numbers\n",
    "\n",
    "We want to extend numbers with another list and then get the sum. \n",
    "\n",
    "Can you help?"
   ]
  },
  {
   "cell_type": "code",
   "execution_count": 181,
   "metadata": {},
   "outputs": [
    {
     "ename": "TypeError",
     "evalue": "'NoneType' object is not iterable",
     "output_type": "error",
     "traceback": [
      "\u001b[1;31m---------------------------------------------------------------------------\u001b[0m",
      "\u001b[1;31mTypeError\u001b[0m                                 Traceback (most recent call last)",
      "\u001b[1;32m<ipython-input-181-435261a905e9>\u001b[0m in \u001b[0;36m<module>\u001b[1;34m\u001b[0m\n\u001b[0;32m      2\u001b[0m \u001b[0mnumbers\u001b[0m \u001b[1;33m=\u001b[0m \u001b[0mnumbers\u001b[0m\u001b[1;33m.\u001b[0m\u001b[0mextend\u001b[0m\u001b[1;33m(\u001b[0m\u001b[1;33m[\u001b[0m\u001b[1;36m5\u001b[0m\u001b[1;33m,\u001b[0m\u001b[1;36m6\u001b[0m\u001b[1;33m,\u001b[0m\u001b[1;36m7\u001b[0m\u001b[1;33m,\u001b[0m\u001b[1;36m8\u001b[0m\u001b[1;33m]\u001b[0m\u001b[1;33m)\u001b[0m\u001b[1;33m\u001b[0m\u001b[1;33m\u001b[0m\u001b[0m\n\u001b[0;32m      3\u001b[0m \u001b[1;33m\u001b[0m\u001b[0m\n\u001b[1;32m----> 4\u001b[1;33m \u001b[0manswer\u001b[0m \u001b[1;33m=\u001b[0m \u001b[0msum\u001b[0m\u001b[1;33m(\u001b[0m\u001b[0mnumbers\u001b[0m\u001b[1;33m)\u001b[0m\u001b[1;33m\u001b[0m\u001b[1;33m\u001b[0m\u001b[0m\n\u001b[0m\u001b[0;32m      5\u001b[0m \u001b[1;33m\u001b[0m\u001b[0m\n\u001b[0;32m      6\u001b[0m \u001b[1;31m# TEST\u001b[0m\u001b[1;33m\u001b[0m\u001b[1;33m\u001b[0m\u001b[1;33m\u001b[0m\u001b[0m\n",
      "\u001b[1;31mTypeError\u001b[0m: 'NoneType' object is not iterable"
     ]
    }
   ],
   "source": [
    "numbers = [1,2,3,4]\n",
    "numbers = numbers.extend([5,6,7,8])\n",
    "\n",
    "answer = sum(numbers)\n",
    "\n",
    "# TEST\n",
    "print(\"fix_it_numbers\")\n",
    "test(answer, 36)"
   ]
  },
  {
   "cell_type": "code",
   "execution_count": 201,
   "metadata": {},
   "outputs": [
    {
     "name": "stdout",
     "output_type": "stream",
     "text": [
      "fix_it_numbers\n",
      "==== OK ====\n",
      "     got: 36 \n",
      "expected: 36\n",
      "\n"
     ]
    }
   ],
   "source": [
    "   \n",
    "try:\n",
    "    numbers = [1,2,3,4]\n",
    "    numbers = numbers.extend([5,6,7,8])\n",
    "    answer = sum(numbers)\n",
    "except:\n",
    "    numbers = [1,2,3,4]\n",
    "    numbers.extend([5,6,7,8])\n",
    "    answer = sum(numbers)\n",
    "    \n",
    "# TEST\n",
    "print(\"fix_it_numbers\")\n",
    "test(answer, 36)"
   ]
  },
  {
   "cell_type": "markdown",
   "metadata": {},
   "source": [
    "#### Exercise 3 - Fix it Open\n",
    "\n",
    "We try to read the contents of data/names_raw.txt into a string.\n",
    "\n",
    "Can you help?"
   ]
  },
  {
   "cell_type": "code",
   "execution_count": null,
   "metadata": {},
   "outputs": [],
   "source": [
    "import os"
   ]
  },
  {
   "cell_type": "code",
   "execution_count": 202,
   "metadata": {},
   "outputs": [
    {
     "ename": "TypeError",
     "evalue": "expected str, bytes or os.PathLike object, not dict",
     "output_type": "error",
     "traceback": [
      "\u001b[1;31m---------------------------------------------------------------------------\u001b[0m",
      "\u001b[1;31mTypeError\u001b[0m                                 Traceback (most recent call last)",
      "\u001b[1;32m<ipython-input-202-f3f415663606>\u001b[0m in \u001b[0;36m<module>\u001b[1;34m\u001b[0m\n\u001b[1;32m----> 1\u001b[1;33m \u001b[1;32mwith\u001b[0m \u001b[0mopen\u001b[0m\u001b[1;33m(\u001b[0m\u001b[0mos\u001b[0m\u001b[1;33m.\u001b[0m\u001b[0mpath\u001b[0m\u001b[1;33m.\u001b[0m\u001b[0mjoin\u001b[0m\u001b[1;33m(\u001b[0m\u001b[0mdata\u001b[0m\u001b[1;33m,\u001b[0m \u001b[1;34m\"names_raw.txt\"\u001b[0m\u001b[1;33m)\u001b[0m\u001b[1;33m,\u001b[0m \u001b[1;34m'a'\u001b[0m\u001b[1;33m)\u001b[0m \u001b[1;32mas\u001b[0m \u001b[0mf\u001b[0m\u001b[1;33m:\u001b[0m\u001b[1;33m\u001b[0m\u001b[1;33m\u001b[0m\u001b[0m\n\u001b[0m\u001b[0;32m      2\u001b[0m     \u001b[0mcontent\u001b[0m \u001b[1;33m=\u001b[0m \u001b[0mf\u001b[0m\u001b[1;33m.\u001b[0m\u001b[0mread\u001b[0m\u001b[1;33m(\u001b[0m\u001b[1;33m)\u001b[0m\u001b[1;33m\u001b[0m\u001b[1;33m\u001b[0m\u001b[0m\n\u001b[0;32m      3\u001b[0m \u001b[1;33m\u001b[0m\u001b[0m\n\u001b[0;32m      4\u001b[0m \u001b[1;31m# TEST\u001b[0m\u001b[1;33m\u001b[0m\u001b[1;33m\u001b[0m\u001b[1;33m\u001b[0m\u001b[0m\n\u001b[0;32m      5\u001b[0m \u001b[0mprint\u001b[0m\u001b[1;33m(\u001b[0m\u001b[1;34m\"fix_it_open\"\u001b[0m\u001b[1;33m)\u001b[0m\u001b[1;33m\u001b[0m\u001b[1;33m\u001b[0m\u001b[0m\n",
      "\u001b[1;32mD:\\Users\\Faiz\\Anaconda3\\lib\\ntpath.py\u001b[0m in \u001b[0;36mjoin\u001b[1;34m(path, *paths)\u001b[0m\n\u001b[0;32m     74\u001b[0m \u001b[1;31m# Join two (or more) paths.\u001b[0m\u001b[1;33m\u001b[0m\u001b[1;33m\u001b[0m\u001b[1;33m\u001b[0m\u001b[0m\n\u001b[0;32m     75\u001b[0m \u001b[1;32mdef\u001b[0m \u001b[0mjoin\u001b[0m\u001b[1;33m(\u001b[0m\u001b[0mpath\u001b[0m\u001b[1;33m,\u001b[0m \u001b[1;33m*\u001b[0m\u001b[0mpaths\u001b[0m\u001b[1;33m)\u001b[0m\u001b[1;33m:\u001b[0m\u001b[1;33m\u001b[0m\u001b[1;33m\u001b[0m\u001b[0m\n\u001b[1;32m---> 76\u001b[1;33m     \u001b[0mpath\u001b[0m \u001b[1;33m=\u001b[0m \u001b[0mos\u001b[0m\u001b[1;33m.\u001b[0m\u001b[0mfspath\u001b[0m\u001b[1;33m(\u001b[0m\u001b[0mpath\u001b[0m\u001b[1;33m)\u001b[0m\u001b[1;33m\u001b[0m\u001b[1;33m\u001b[0m\u001b[0m\n\u001b[0m\u001b[0;32m     77\u001b[0m     \u001b[1;32mif\u001b[0m \u001b[0misinstance\u001b[0m\u001b[1;33m(\u001b[0m\u001b[0mpath\u001b[0m\u001b[1;33m,\u001b[0m \u001b[0mbytes\u001b[0m\u001b[1;33m)\u001b[0m\u001b[1;33m:\u001b[0m\u001b[1;33m\u001b[0m\u001b[1;33m\u001b[0m\u001b[0m\n\u001b[0;32m     78\u001b[0m         \u001b[0msep\u001b[0m \u001b[1;33m=\u001b[0m \u001b[1;34mb'\\\\'\u001b[0m\u001b[1;33m\u001b[0m\u001b[1;33m\u001b[0m\u001b[0m\n",
      "\u001b[1;31mTypeError\u001b[0m: expected str, bytes or os.PathLike object, not dict"
     ]
    }
   ],
   "source": [
    "with open(os.path.join(data, \"names_raw.txt\"), 'a') as f:\n",
    "    content = f.read()\n",
    "    \n",
    "# TEST\n",
    "print(\"fix_it_open\")\n",
    "test(content, 'The names are:\\n\\nJeremy\\nJan\\nAkmal')"
   ]
  },
  {
   "cell_type": "code",
   "execution_count": 208,
   "metadata": {},
   "outputs": [
    {
     "name": "stdout",
     "output_type": "stream",
     "text": [
      "fix_it_open\n",
      "=========== OK ===========\n",
      "     got: 'The names are:\\n\\nJeremy\\nJan\\nAkmal' \n",
      "expected: 'The names are:\\n\\nJeremy\\nJan\\nAkmal'\n",
      "\n"
     ]
    }
   ],
   "source": [
    "# Nik Faiz\n",
    "try:\n",
    "    with open(os.path.join(data, \"names_raw.txt\"), 'a') as f:\n",
    "        content = f.read()\n",
    "except:\n",
    "    with open(os.path.join(\"data\", \"names_raw.txt\"), 'r') as f:\n",
    "        content = f.read()\n",
    "\n",
    "    \n",
    "# TEST\n",
    "print(\"fix_it_open\")\n",
    "test(content, 'The names are:\\n\\nJeremy\\nJan\\nAkmal')"
   ]
  },
  {
   "cell_type": "markdown",
   "metadata": {},
   "source": [
    "#### Exercise 4 - Try salaries\n",
    "\n",
    "Have a look at the data/salaries.txt file\n",
    "\n",
    "Load it into a list of dictionaries and use try catch to handle the non-dictionary lines."
   ]
  },
  {
   "cell_type": "code",
   "execution_count": null,
   "metadata": {},
   "outputs": [],
   "source": [
    "salaries = ## your code\n",
    "        \n",
    "# TEST\n",
    "print(\"try_salaries\")\n",
    "from answers import the_salaries\n",
    "test(salaries, the_salaries)"
   ]
  },
  {
   "cell_type": "code",
   "execution_count": 223,
   "metadata": {},
   "outputs": [
    {
     "name": "stdout",
     "output_type": "stream",
     "text": [
      "try_salaries\n",
      "=========== OK ===========\n",
      "     got: [{'name': 'John', 'salary': 5000, 'years_employed': 4}, {'name': 'Lee', 'salary': 4000, 'years_employed': 3}, {'name': 'Alex', 'salary': 3000, 'years_employed': 7}, {'name': 'John', 'salary': 3000, 'years_employed': 8}, {'name': 'Lauren', 'salary': 6000, 'years_employed': 5}] \n",
      "expected: [{'name': 'John', 'salary': 5000, 'years_employed': 4}, {'name': 'Lee', 'salary': 4000, 'years_employed': 3}, {'name': 'Alex', 'salary': 3000, 'years_employed': 7}, {'name': 'John', 'salary': 3000, 'years_employed': 8}, {'name': 'Lauren', 'salary': 6000, 'years_employed': 5}]\n",
      "\n"
     ]
    }
   ],
   "source": [
    "with open(os.path.join(\"data\", \"salaries.txt\"),'r') as f:\n",
    "    salaries = []\n",
    "    for i in f:\n",
    "        try:\n",
    "            salaries.append(json.loads(i))\n",
    "        except:\n",
    "            pass\n",
    "        \n",
    "# TEST\n",
    "print(\"try_salaries\")\n",
    "from answers import the_salaries\n",
    "test(salaries, the_salaries)"
   ]
  },
  {
   "cell_type": "markdown",
   "metadata": {
    "toc-hr-collapsed": false
   },
   "source": [
    "## Object Oriented Programming\n",
    "\n",
    "Object-oriented Programming, or OOP for short, is a programming paradigm in which properties and behaviours are bundled into objects.\n",
    "\n",
    "We will define a class Student. A class is a blue-print for an object. After defining the class Student there is only one Student class and you can create many Student objects out of that class.\n",
    "\n",
    "Then we create a child class PythonStudent. The child class inherits all the properties from its parent and has it's own functionalities additionally."
   ]
  },
  {
   "cell_type": "code",
   "execution_count": 236,
   "metadata": {},
   "outputs": [],
   "source": [
    "class Student:\n",
    "    def __init__(self,name,grades = []): # Constructor method __init__\n",
    "        self.name = name\n",
    "        self.grades = grades"
   ]
  },
  {
   "cell_type": "code",
   "execution_count": 237,
   "metadata": {},
   "outputs": [],
   "source": [
    "jeremy = Student(\"Jeremy\", [10,4,5])"
   ]
  },
  {
   "cell_type": "code",
   "execution_count": 239,
   "metadata": {},
   "outputs": [
    {
     "data": {
      "text/plain": [
       "[10, 4, 5]"
      ]
     },
     "execution_count": 239,
     "metadata": {},
     "output_type": "execute_result"
    }
   ],
   "source": [
    "jeremy.grades"
   ]
  },
  {
   "cell_type": "markdown",
   "metadata": {},
   "source": [
    "Now copy paste code above and add this dunder method `__repr__`"
   ]
  },
  {
   "cell_type": "code",
   "execution_count": 243,
   "metadata": {},
   "outputs": [],
   "source": [
    "class Student:\n",
    "    # Constructor method __init__\n",
    "    def __init__(self,name,grades = []): \n",
    "        self.name = name\n",
    "        self.grades = grades\n",
    "    \n",
    "    # return object representation\n",
    "    def __repr__(self): \n",
    "        return \"{}:{}\".format(self.name,self.grades)\n",
    "        "
   ]
  },
  {
   "cell_type": "code",
   "execution_count": 244,
   "metadata": {},
   "outputs": [
    {
     "name": "stdout",
     "output_type": "stream",
     "text": [
      "Jeremy:[10, 4, 5]\n"
     ]
    }
   ],
   "source": [
    "jeremy = Student(\"Jeremy\", [10,4,5])\n",
    "print(jeremy)"
   ]
  },
  {
   "cell_type": "markdown",
   "metadata": {},
   "source": [
    "Now Jeremy is represented by the string you defined.\n",
    "\n",
    "We will extend this class with an average methods the returns the average grade of the student.\n",
    "\n",
    "You can copy paste again and add the average function."
   ]
  },
  {
   "cell_type": "code",
   "execution_count": 245,
   "metadata": {},
   "outputs": [],
   "source": [
    "class Student:\n",
    "    # Constructor method __init__\n",
    "    def __init__(self,name,grades = []): \n",
    "        self.name = name\n",
    "        self.grades = grades\n",
    "    \n",
    "    # return object representation\n",
    "    def __repr__(self): \n",
    "        return \"{}:{}\".format(self.name,self.grades)\n",
    "    \n",
    "    def average(self):\n",
    "        return round(sum(self.grades)/len(self.grades),2)"
   ]
  },
  {
   "cell_type": "code",
   "execution_count": 246,
   "metadata": {},
   "outputs": [
    {
     "data": {
      "text/plain": [
       "6.33"
      ]
     },
     "execution_count": 246,
     "metadata": {},
     "output_type": "execute_result"
    }
   ],
   "source": [
    "jeremy = Student(\"Jeremy\", [10,4,5])\n",
    "jeremy.average()"
   ]
  },
  {
   "cell_type": "markdown",
   "metadata": {},
   "source": [
    "In OOP there is the concept of **heritance**. You can make a class that is the child of another class.\n",
    "\n",
    "We will define a class PythonStudent."
   ]
  },
  {
   "cell_type": "code",
   "execution_count": 248,
   "metadata": {},
   "outputs": [],
   "source": [
    "class PythonStudent(Student):\n",
    "    def can_program(self):\n",
    "        return True"
   ]
  },
  {
   "cell_type": "code",
   "execution_count": 249,
   "metadata": {},
   "outputs": [
    {
     "data": {
      "text/plain": [
       "Akmal:[10, 20]"
      ]
     },
     "execution_count": 249,
     "metadata": {},
     "output_type": "execute_result"
    }
   ],
   "source": [
    "akmal = PythonStudent(\"Akmal\", [10, 20])\n",
    "akmal"
   ]
  },
  {
   "cell_type": "code",
   "execution_count": 250,
   "metadata": {},
   "outputs": [
    {
     "data": {
      "text/plain": [
       "15.0"
      ]
     },
     "execution_count": 250,
     "metadata": {},
     "output_type": "execute_result"
    }
   ],
   "source": [
    "akmal.average()"
   ]
  },
  {
   "cell_type": "code",
   "execution_count": 251,
   "metadata": {},
   "outputs": [
    {
     "data": {
      "text/plain": [
       "True"
      ]
     },
     "execution_count": 251,
     "metadata": {},
     "output_type": "execute_result"
    }
   ],
   "source": [
    "akmal.can_program()"
   ]
  },
  {
   "cell_type": "code",
   "execution_count": 255,
   "metadata": {},
   "outputs": [
    {
     "name": "stdout",
     "output_type": "stream",
     "text": [
      "Jan:[30, 20, 15]\n"
     ]
    }
   ],
   "source": [
    "jan = PythonStudent(\"Jan\", [30,20,15])\n",
    "print(jan)"
   ]
  },
  {
   "cell_type": "code",
   "execution_count": 256,
   "metadata": {},
   "outputs": [
    {
     "data": {
      "text/plain": [
       "[Jeremy:[10, 4, 5], Jan:[30, 20, 15], Akmal:[10, 20]]"
      ]
     },
     "execution_count": 256,
     "metadata": {},
     "output_type": "execute_result"
    }
   ],
   "source": [
    "students = [jeremy, jan, akmal]\n",
    "students"
   ]
  },
  {
   "cell_type": "markdown",
   "metadata": {},
   "source": [
    "We can sort the students based on their average."
   ]
  },
  {
   "cell_type": "code",
   "execution_count": 257,
   "metadata": {},
   "outputs": [
    {
     "data": {
      "text/plain": [
       "[Jeremy:[10, 4, 5], Akmal:[10, 20], Jan:[30, 20, 15]]"
      ]
     },
     "execution_count": 257,
     "metadata": {},
     "output_type": "execute_result"
    }
   ],
   "source": [
    "sorted(students,key = lambda x : x.average()) \n",
    "# you are calling \"average method\""
   ]
  },
  {
   "cell_type": "markdown",
   "metadata": {},
   "source": [
    "We can filter the Python students."
   ]
  },
  {
   "cell_type": "code",
   "execution_count": 260,
   "metadata": {},
   "outputs": [
    {
     "data": {
      "text/plain": [
       "[Jan:[30, 20, 15], Akmal:[10, 20]]"
      ]
     },
     "execution_count": 260,
     "metadata": {},
     "output_type": "execute_result"
    }
   ],
   "source": [
    "[n for n in students if isinstance(n,Student)]\n",
    "[n for n in students if isinstance(n,PythonStudent)]"
   ]
  },
  {
   "cell_type": "markdown",
   "metadata": {},
   "source": [
    "Well done!"
   ]
  },
  {
   "cell_type": "markdown",
   "metadata": {
    "toc-hr-collapsed": false
   },
   "source": [
    "### Summary"
   ]
  },
  {
   "cell_type": "markdown",
   "metadata": {},
   "source": [
    "> #### class \n",
    "Python is an Object Oriented Programming language (OOP). This means that almost all the code is implemented using a special construct called classes. Programmers use classes to keep related things together. When defining a child class it will inherit the methods from the parent class. \n",
    "\n",
    "```python\n",
    "class Student:\n",
    "    \n",
    "    def __init__(self, name, grades=[]):\n",
    "        self.name = name\n",
    "        self.grades = grades\n",
    "        \n",
    "    def __repr__(self):\n",
    "        return \"{}:{}\".format(self.name, self.grades)\n",
    "    \n",
    "    def average(self):\n",
    "        return round(sum(self.grades) / len(self.grades), 2)\n",
    "    \n",
    "\n",
    "class PythonStudent(Student):\n",
    "    \n",
    "    def can_program(self):\n",
    "        return True\n",
    "```"
   ]
  },
  {
   "cell_type": "markdown",
   "metadata": {
    "toc-hr-collapsed": false
   },
   "source": [
    "### RUN ME\n",
    "\n",
    "Please run the below code snippet. It is required for running tests for your solution."
   ]
  },
  {
   "cell_type": "code",
   "execution_count": null,
   "metadata": {},
   "outputs": [],
   "source": [
    "def test(got, expected):\n",
    "    if got == expected:\n",
    "        prefix = ' OK '\n",
    "    else:\n",
    "        prefix = '  FAIL '\n",
    "    print(('%s got: %s expected: %s' % (prefix, repr(got), repr(expected))))"
   ]
  },
  {
   "cell_type": "code",
   "execution_count": null,
   "metadata": {},
   "outputs": [],
   "source": [
    "test('a', 'ab')\n",
    "test('a', 'a')"
   ]
  },
  {
   "cell_type": "markdown",
   "metadata": {},
   "source": [
    "### Exercises"
   ]
  },
  {
   "cell_type": "markdown",
   "metadata": {},
   "source": [
    "The CEO of your company happens to have a kid who is totally into Pokemon! For this reason he is very interested in finding out more about these Pokemon for himself. The thing is.. all these Pokemons are hidden away in files and spread out over different continents and countries folders. Oh no, what a bummer.\n",
    "\n",
    "Ambitious as you are and on the verge of locking down that next promotion you walk in and say: \n",
    "\n",
    "> _\"Calm down, I have just finished my Python-Fundamentals course, let me handle this.\"_\n",
    "\n",
    "Use your Python skills in browsing folder structure, lists, dictionaries, reading from csv and writing to Excel to provide those insights and totally save the day!\n",
    "\n",
    "Have a look the the pokeworld folder inside the data folder.\n",
    "\n",
    "The folder structure is like this: continent/country/pokemon.txt\n",
    "\n",
    "Each file represents a pokemon and inside the file is the description."
   ]
  },
  {
   "cell_type": "markdown",
   "metadata": {},
   "source": [
    "#### Exercise 1 - Get pokemon info\n",
    "\n",
    "Get the continent, country, name and description for the pokemon in pokeworld/Asia/Malaysia/Wooper.txt\n",
    "\n",
    "Hints: help(str.split), with open()"
   ]
  },
  {
   "cell_type": "code",
   "execution_count": 262,
   "metadata": {},
   "outputs": [
    {
     "data": {
      "text/plain": [
       "'data\\\\pokeworld/Asia/Malaysia/Wooper.txt'"
      ]
     },
     "execution_count": 262,
     "metadata": {},
     "output_type": "execute_result"
    }
   ],
   "source": [
    "import os\n",
    "pokefile = os.path.join(\"data\", \"pokeworld/Asia/Malaysia/Wooper.txt\")\n",
    "pokefile"
   ]
  },
  {
   "cell_type": "code",
   "execution_count": 263,
   "metadata": {},
   "outputs": [
    {
     "data": {
      "text/plain": [
       "'Wooper'"
      ]
     },
     "execution_count": 263,
     "metadata": {},
     "output_type": "execute_result"
    }
   ],
   "source": [
    "lst = pokefile.split(\"/\")\n",
    "lst[-1].split('.')[0]"
   ]
  },
  {
   "cell_type": "code",
   "execution_count": 264,
   "metadata": {},
   "outputs": [
    {
     "data": {
      "text/plain": [
       "['data\\\\pokeworld', 'Asia', 'Malaysia', 'Wooper.txt']"
      ]
     },
     "execution_count": 264,
     "metadata": {},
     "output_type": "execute_result"
    }
   ],
   "source": [
    "lst"
   ]
  },
  {
   "cell_type": "code",
   "execution_count": 278,
   "metadata": {},
   "outputs": [
    {
     "name": "stdout",
     "output_type": "stream",
     "text": [
      "get_pokemon_info\n",
      "====== OK ======\n",
      "     got: 'Asia' \n",
      "expected: 'Asia'\n",
      "\n",
      "======== OK ========\n",
      "     got: 'Malaysia' \n",
      "expected: 'Malaysia'\n",
      "\n",
      "======= OK =======\n",
      "     got: 'Wooper' \n",
      "expected: 'Wooper'\n",
      "\n",
      "=========== OK ===========\n",
      "     got: 'Wooper usually lives in water. However, it occasionally comes\\nout onto land in search of food. On land, it coats its body with\\na gooey, toxic film.' \n",
      "expected: 'Wooper usually lives in water. However, it occasionally comes\\nout onto land in search of food. On land, it coats its body with\\na gooey, toxic film.'\n",
      "\n"
     ]
    }
   ],
   "source": [
    "lst = pokefile.split(\"/\")\n",
    "\n",
    "continent = lst[-3]\n",
    "country = lst[-2]\n",
    "name = lst[-1].split('.')[0]\n",
    "with open(pokefile) as f:\n",
    "    description = f.read()\n",
    "\n",
    "\n",
    "# TEST\n",
    "print(\"get_pokemon_info\")\n",
    "from answers import wooper_desc\n",
    "test(continent,\"Asia\")\n",
    "test(country, \"Malaysia\")\n",
    "test(name,\"Wooper\")\n",
    "test(description,wooper_desc)\n"
   ]
  },
  {
   "cell_type": "markdown",
   "metadata": {},
   "source": [
    "#### Exercise 2 - Create a pokemon class"
   ]
  },
  {
   "cell_type": "markdown",
   "metadata": {},
   "source": [
    "Create a pokemon class which has three methods:\n",
    "- \\_\\_init\\_\\_(self, pokefile) -- assign self.name, self.continent, self.country and self.description with contents from the file\n",
    "- \\_\\_repr\\_\\_(self) -- represent a pokemon like 'Wooper from Malaysia, Asia'\n",
    "- is_big_data(self) -- if there is 'Apache' or 'Hadoop' in self.description return True"
   ]
  },
  {
   "cell_type": "code",
   "execution_count": 298,
   "metadata": {},
   "outputs": [
    {
     "name": "stdout",
     "output_type": "stream",
     "text": [
      "create_pokemon_class\n",
      "=========== OK ===========\n",
      "     got: 'Wooper from Malaysia, Asia' \n",
      "expected: 'Wooper from Malaysia, Asia'\n",
      "\n",
      "====== OK =====\n",
      "     got: False \n",
      "expected: False\n",
      "\n",
      "===== OK =====\n",
      "     got: True \n",
      "expected: True\n",
      "\n"
     ]
    }
   ],
   "source": [
    "class Pokemon():\n",
    "    \n",
    "    def __init__(self,pokefile):\n",
    "        path = pokefile.split(\"/\")\n",
    "        self.continent = path[-3]\n",
    "        self.country = path[-2]\n",
    "        self.name = path[-1].split('.')[0]\n",
    "        with open(pokefile) as f:\n",
    "            self.description = f.read()\n",
    "    \n",
    "    def __repr__(self):\n",
    "        return \"{} from {}, {}\".format(self.name,self.country,self.continent)\n",
    "    \n",
    "    def is_big_data(self):\n",
    "        if ('Apache' in self.description) or ('Hadoop' in self.description):\n",
    "            return True\n",
    "        else :\n",
    "            return False\n",
    "# TEST\n",
    "print(\"create_pokemon_class\")\n",
    "pokefile = os.path.join(\"data\", \"pokeworld/Asia/Malaysia/Wooper.txt\")\n",
    "pokefile2 = os.path.join(\"data\", \"pokeworld/Asia/Thailand/Hive.txt\")\n",
    "\n",
    "wooper = Pokemon(pokefile)\n",
    "hive = Pokemon(pokefile2)\n",
    "\n",
    "test(wooper.__repr__(), 'Wooper from Malaysia, Asia')\n",
    "test(wooper.is_big_data(), False)\n",
    "test(hive.is_big_data(), True)"
   ]
  },
  {
   "cell_type": "code",
   "execution_count": null,
   "metadata": {},
   "outputs": [],
   "source": []
  },
  {
   "cell_type": "markdown",
   "metadata": {},
   "source": [
    "#### Exercise 3 -  Load all pokemons\n",
    "\n",
    "Now that we have defined the Pokemon class we can make a list of all the pokemon.\n",
    "\n",
    "Hints: glob.glob, Pokemon(pokefile)"
   ]
  },
  {
   "cell_type": "code",
   "execution_count": null,
   "metadata": {},
   "outputs": [],
   "source": [
    "## your code here\n",
    "\n",
    "pokemons = ## your code here\n",
    "\n",
    "# TEST\n",
    "print(\"load_all_pokemons\")\n",
    "test(len(pokemons), 750)\n",
    "test(type(pokemons[0]), Pokemon)"
   ]
  },
  {
   "cell_type": "code",
   "execution_count": 309,
   "metadata": {},
   "outputs": [
    {
     "name": "stdout",
     "output_type": "stream",
     "text": [
      "['data\\\\pokeworld\\\\Asia\\\\China\\\\Aerodactyl.txt', 'data\\\\pokeworld\\\\Asia\\\\China\\\\Ariados.txt', 'data\\\\pokeworld\\\\Asia\\\\China\\\\Articuno.txt', 'data\\\\pokeworld\\\\Asia\\\\China\\\\Bergmite.txt', 'data\\\\pokeworld\\\\Asia\\\\China\\\\Diggersby.txt', 'data\\\\pokeworld\\\\Asia\\\\China\\\\Dragonair.txt', 'data\\\\pokeworld\\\\Asia\\\\China\\\\Exeggcute.txt', 'data\\\\pokeworld\\\\Asia\\\\China\\\\Flabébé.txt', 'data\\\\pokeworld\\\\Asia\\\\China\\\\Grumpig.txt', 'data\\\\pokeworld\\\\Asia\\\\China\\\\Lillipup.txt', 'data\\\\pokeworld\\\\Asia\\\\China\\\\Magby.txt', 'data\\\\pokeworld\\\\Asia\\\\China\\\\Magnezone.txt', 'data\\\\pokeworld\\\\Asia\\\\China\\\\Mudkip.txt', 'data\\\\pokeworld\\\\Asia\\\\China\\\\Murkrow.txt', 'data\\\\pokeworld\\\\Asia\\\\China\\\\Ninetales.txt', 'data\\\\pokeworld\\\\Asia\\\\China\\\\Ninjask.txt', 'data\\\\pokeworld\\\\Asia\\\\China\\\\Noctowl.txt', 'data\\\\pokeworld\\\\Asia\\\\China\\\\Pelipper.txt', 'data\\\\pokeworld\\\\Asia\\\\China\\\\Pidgeot.txt', 'data\\\\pokeworld\\\\Asia\\\\China\\\\Plusle.txt', 'data\\\\pokeworld\\\\Asia\\\\China\\\\Politoed.txt', 'data\\\\pokeworld\\\\Asia\\\\China\\\\Sneasel.txt', 'data\\\\pokeworld\\\\Asia\\\\China\\\\Snubbull.txt', 'data\\\\pokeworld\\\\Asia\\\\China\\\\Starmie.txt', 'data\\\\pokeworld\\\\Asia\\\\China\\\\Suicune.txt', 'data\\\\pokeworld\\\\Asia\\\\China\\\\Tentacruel.txt', 'data\\\\pokeworld\\\\Asia\\\\China\\\\Timburr.txt', 'data\\\\pokeworld\\\\Asia\\\\China\\\\Volbeat.txt', 'data\\\\pokeworld\\\\Asia\\\\China\\\\Watchog.txt', 'data\\\\pokeworld\\\\Asia\\\\Japan\\\\Baltoy.txt', 'data\\\\pokeworld\\\\Asia\\\\Japan\\\\Drilbur.txt', 'data\\\\pokeworld\\\\Asia\\\\Japan\\\\Ferrothorn.txt', 'data\\\\pokeworld\\\\Asia\\\\Japan\\\\Floatzel.txt', 'data\\\\pokeworld\\\\Asia\\\\Japan\\\\Hippopotas.txt', 'data\\\\pokeworld\\\\Asia\\\\Japan\\\\Hitmontop.txt', 'data\\\\pokeworld\\\\Asia\\\\Japan\\\\Lapras.txt', 'data\\\\pokeworld\\\\Asia\\\\Japan\\\\Litleo.txt', 'data\\\\pokeworld\\\\Asia\\\\Japan\\\\Ludicolo.txt', 'data\\\\pokeworld\\\\Asia\\\\Japan\\\\Meowstic Female.txt', 'data\\\\pokeworld\\\\Asia\\\\Japan\\\\Parasect.txt', 'data\\\\pokeworld\\\\Asia\\\\Japan\\\\Pawniard.txt', 'data\\\\pokeworld\\\\Asia\\\\Japan\\\\Porygon.txt', 'data\\\\pokeworld\\\\Asia\\\\Japan\\\\Prinplup.txt', 'data\\\\pokeworld\\\\Asia\\\\Japan\\\\Rhyhorn.txt', 'data\\\\pokeworld\\\\Asia\\\\Japan\\\\Shieldon.txt', 'data\\\\pokeworld\\\\Asia\\\\Japan\\\\Snover.txt', 'data\\\\pokeworld\\\\Asia\\\\Japan\\\\Unown.txt', 'data\\\\pokeworld\\\\Asia\\\\Japan\\\\Victreebel.txt', 'data\\\\pokeworld\\\\Asia\\\\Japan\\\\Yarn.txt', 'data\\\\pokeworld\\\\Asia\\\\Japan\\\\Zweilous.txt', 'data\\\\pokeworld\\\\Asia\\\\Malaysia\\\\Altaria.txt', 'data\\\\pokeworld\\\\Asia\\\\Malaysia\\\\Barboach.txt', 'data\\\\pokeworld\\\\Asia\\\\Malaysia\\\\Braviary.txt', 'data\\\\pokeworld\\\\Asia\\\\Malaysia\\\\Caterpie.txt', 'data\\\\pokeworld\\\\Asia\\\\Malaysia\\\\Chansey.txt', 'data\\\\pokeworld\\\\Asia\\\\Malaysia\\\\Cherubi.txt', 'data\\\\pokeworld\\\\Asia\\\\Malaysia\\\\Chimecho.txt', 'data\\\\pokeworld\\\\Asia\\\\Malaysia\\\\Clamperl.txt', 'data\\\\pokeworld\\\\Asia\\\\Malaysia\\\\Cleffa.txt', 'data\\\\pokeworld\\\\Asia\\\\Malaysia\\\\Cubchoo.txt', 'data\\\\pokeworld\\\\Asia\\\\Malaysia\\\\Diancie.txt', 'data\\\\pokeworld\\\\Asia\\\\Malaysia\\\\Ekans.txt', 'data\\\\pokeworld\\\\Asia\\\\Malaysia\\\\Emboar.txt', 'data\\\\pokeworld\\\\Asia\\\\Malaysia\\\\Escavalier.txt', 'data\\\\pokeworld\\\\Asia\\\\Malaysia\\\\Fletchinder.txt', 'data\\\\pokeworld\\\\Asia\\\\Malaysia\\\\Gorebyss.txt', 'data\\\\pokeworld\\\\Asia\\\\Malaysia\\\\Growlithe.txt', 'data\\\\pokeworld\\\\Asia\\\\Malaysia\\\\Haunter.txt', 'data\\\\pokeworld\\\\Asia\\\\Malaysia\\\\Kyurem White Kyurem.txt', 'data\\\\pokeworld\\\\Asia\\\\Malaysia\\\\Lampent.txt', 'data\\\\pokeworld\\\\Asia\\\\Malaysia\\\\Lanturn.txt', 'data\\\\pokeworld\\\\Asia\\\\Malaysia\\\\Ledian.txt', 'data\\\\pokeworld\\\\Asia\\\\Malaysia\\\\Lugia.txt', 'data\\\\pokeworld\\\\Asia\\\\Malaysia\\\\Machop.txt', 'data\\\\pokeworld\\\\Asia\\\\Malaysia\\\\Mantyke.txt', 'data\\\\pokeworld\\\\Asia\\\\Malaysia\\\\Mareep.txt', 'data\\\\pokeworld\\\\Asia\\\\Malaysia\\\\Marowak.txt', 'data\\\\pokeworld\\\\Asia\\\\Malaysia\\\\Nidoking.txt', 'data\\\\pokeworld\\\\Asia\\\\Malaysia\\\\Noivern.txt', 'data\\\\pokeworld\\\\Asia\\\\Malaysia\\\\Poliwrath.txt', 'data\\\\pokeworld\\\\Asia\\\\Malaysia\\\\Pyroar.txt', 'data\\\\pokeworld\\\\Asia\\\\Malaysia\\\\Quagsire.txt', 'data\\\\pokeworld\\\\Asia\\\\Malaysia\\\\Ralts.txt', 'data\\\\pokeworld\\\\Asia\\\\Malaysia\\\\Regirock.txt', 'data\\\\pokeworld\\\\Asia\\\\Malaysia\\\\Registeel.txt', 'data\\\\pokeworld\\\\Asia\\\\Malaysia\\\\Remoraid.txt', 'data\\\\pokeworld\\\\Asia\\\\Malaysia\\\\Seedot.txt', 'data\\\\pokeworld\\\\Asia\\\\Malaysia\\\\Shiftry.txt', 'data\\\\pokeworld\\\\Asia\\\\Malaysia\\\\Silcoon.txt', 'data\\\\pokeworld\\\\Asia\\\\Malaysia\\\\Skorupi.txt', 'data\\\\pokeworld\\\\Asia\\\\Malaysia\\\\Spritzee.txt', 'data\\\\pokeworld\\\\Asia\\\\Malaysia\\\\Treecko.txt', 'data\\\\pokeworld\\\\Asia\\\\Malaysia\\\\Turtwig.txt', 'data\\\\pokeworld\\\\Asia\\\\Malaysia\\\\Wooper.txt', 'data\\\\pokeworld\\\\Asia\\\\Malaysia\\\\Wurmple.txt', 'data\\\\pokeworld\\\\Asia\\\\Thailand\\\\Camerupt.txt', 'data\\\\pokeworld\\\\Asia\\\\Thailand\\\\Chesnaught.txt', 'data\\\\pokeworld\\\\Asia\\\\Thailand\\\\Clawitzer.txt', 'data\\\\pokeworld\\\\Asia\\\\Thailand\\\\Cobalion.txt', 'data\\\\pokeworld\\\\Asia\\\\Thailand\\\\Croconaw.txt', 'data\\\\pokeworld\\\\Asia\\\\Thailand\\\\Cyndaquil.txt', 'data\\\\pokeworld\\\\Asia\\\\Thailand\\\\Deoxys Normal Forme.txt', 'data\\\\pokeworld\\\\Asia\\\\Thailand\\\\Deoxys Speed Forme.txt', 'data\\\\pokeworld\\\\Asia\\\\Thailand\\\\Ducklett.txt', 'data\\\\pokeworld\\\\Asia\\\\Thailand\\\\Durant.txt', 'data\\\\pokeworld\\\\Asia\\\\Thailand\\\\Dusknoir.txt', 'data\\\\pokeworld\\\\Asia\\\\Thailand\\\\Eelektrik.txt', 'data\\\\pokeworld\\\\Asia\\\\Thailand\\\\Fennekin.txt', 'data\\\\pokeworld\\\\Asia\\\\Thailand\\\\Forretress.txt', 'data\\\\pokeworld\\\\Asia\\\\Thailand\\\\Girafarig.txt', 'data\\\\pokeworld\\\\Asia\\\\Thailand\\\\Gourgeist Average Size.txt', 'data\\\\pokeworld\\\\Asia\\\\Thailand\\\\Hippowdon.txt', 'data\\\\pokeworld\\\\Asia\\\\Thailand\\\\Hive.txt', 'data\\\\pokeworld\\\\Asia\\\\Thailand\\\\Infernape.txt', 'data\\\\pokeworld\\\\Asia\\\\Thailand\\\\Ivysaur.txt', 'data\\\\pokeworld\\\\Asia\\\\Thailand\\\\Klefki.txt', 'data\\\\pokeworld\\\\Asia\\\\Thailand\\\\Koffing.txt', 'data\\\\pokeworld\\\\Asia\\\\Thailand\\\\Larvesta.txt', 'data\\\\pokeworld\\\\Asia\\\\Thailand\\\\Lucario.txt', 'data\\\\pokeworld\\\\Asia\\\\Thailand\\\\Lunatone.txt', 'data\\\\pokeworld\\\\Asia\\\\Thailand\\\\Luvdisc.txt', 'data\\\\pokeworld\\\\Asia\\\\Thailand\\\\Mamoswine.txt', 'data\\\\pokeworld\\\\Asia\\\\Thailand\\\\Raichu.txt', 'data\\\\pokeworld\\\\Asia\\\\Thailand\\\\Sawk.txt', 'data\\\\pokeworld\\\\Asia\\\\Thailand\\\\Sealeo.txt', 'data\\\\pokeworld\\\\Asia\\\\Thailand\\\\Shaymin Land Forme.txt', 'data\\\\pokeworld\\\\Asia\\\\Thailand\\\\Shellos.txt', 'data\\\\pokeworld\\\\Asia\\\\Thailand\\\\Shuckle.txt', 'data\\\\pokeworld\\\\Asia\\\\Thailand\\\\Sigilyph.txt', 'data\\\\pokeworld\\\\Asia\\\\Thailand\\\\Simisear.txt', 'data\\\\pokeworld\\\\Asia\\\\Thailand\\\\Skiploom.txt', 'data\\\\pokeworld\\\\Asia\\\\Thailand\\\\Slakoth.txt', 'data\\\\pokeworld\\\\Asia\\\\Thailand\\\\Sqoop.txt', 'data\\\\pokeworld\\\\Asia\\\\Thailand\\\\Sunflora.txt', 'data\\\\pokeworld\\\\Asia\\\\Thailand\\\\Togetic.txt', 'data\\\\pokeworld\\\\Asia\\\\Thailand\\\\Tyrantrum.txt', 'data\\\\pokeworld\\\\Asia\\\\Thailand\\\\Venonat.txt', 'data\\\\pokeworld\\\\Asia\\\\Thailand\\\\Weavile.txt', 'data\\\\pokeworld\\\\Asia\\\\Thailand\\\\Wynaut.txt', 'data\\\\pokeworld\\\\Asia\\\\Thailand\\\\Zigzagoon.txt', 'data\\\\pokeworld\\\\Asia\\\\Thailand\\\\Zubat.txt', 'data\\\\pokeworld\\\\Asia\\\\Vietnam\\\\Bagon.txt', 'data\\\\pokeworld\\\\Asia\\\\Vietnam\\\\Bellossom.txt', 'data\\\\pokeworld\\\\Asia\\\\Vietnam\\\\Darmanitan Zen Mode.txt', 'data\\\\pokeworld\\\\Asia\\\\Vietnam\\\\Deoxys Defense Forme.txt', 'data\\\\pokeworld\\\\Asia\\\\Vietnam\\\\Ditto.txt', 'data\\\\pokeworld\\\\Asia\\\\Vietnam\\\\Dodrio.txt', 'data\\\\pokeworld\\\\Asia\\\\Vietnam\\\\Flygon.txt', 'data\\\\pokeworld\\\\Asia\\\\Vietnam\\\\Golbat.txt', 'data\\\\pokeworld\\\\Asia\\\\Vietnam\\\\Latios.txt', 'data\\\\pokeworld\\\\Asia\\\\Vietnam\\\\Quilava.txt', 'data\\\\pokeworld\\\\Asia\\\\Vietnam\\\\Reuniclus.txt', 'data\\\\pokeworld\\\\Asia\\\\Vietnam\\\\Skarmory.txt', 'data\\\\pokeworld\\\\Asia\\\\Vietnam\\\\Torchic.txt', 'data\\\\pokeworld\\\\Asia\\\\Vietnam\\\\Wobbuffet.txt', 'data\\\\pokeworld\\\\Europe\\\\Germany\\\\Cacturne.txt', 'data\\\\pokeworld\\\\Europe\\\\Germany\\\\Cinccino.txt', 'data\\\\pokeworld\\\\Europe\\\\Germany\\\\Electabuzz.txt', 'data\\\\pokeworld\\\\Europe\\\\Germany\\\\Graveler.txt', 'data\\\\pokeworld\\\\Europe\\\\Germany\\\\Ho-oh.txt', 'data\\\\pokeworld\\\\Europe\\\\Germany\\\\Lickilicky.txt', 'data\\\\pokeworld\\\\Europe\\\\Germany\\\\Mapreduce.txt', 'data\\\\pokeworld\\\\Europe\\\\Germany\\\\Weepinbell.txt', 'data\\\\pokeworld\\\\Europe\\\\The-Netherlands\\\\Abomasnow.txt', 'data\\\\pokeworld\\\\Europe\\\\The-Netherlands\\\\Aegislash Blade Forme.txt', 'data\\\\pokeworld\\\\Europe\\\\The-Netherlands\\\\Blastoise.txt', 'data\\\\pokeworld\\\\Europe\\\\The-Netherlands\\\\Blitzle.txt', 'data\\\\pokeworld\\\\Europe\\\\The-Netherlands\\\\Carracosta.txt', 'data\\\\pokeworld\\\\Europe\\\\The-Netherlands\\\\Claydol.txt', 'data\\\\pokeworld\\\\Europe\\\\The-Netherlands\\\\Clefable.txt', 'data\\\\pokeworld\\\\Europe\\\\The-Netherlands\\\\Cradily.txt', 'data\\\\pokeworld\\\\Europe\\\\The-Netherlands\\\\Cresselia.txt', 'data\\\\pokeworld\\\\Europe\\\\The-Netherlands\\\\Croagunk.txt', 'data\\\\pokeworld\\\\Europe\\\\The-Netherlands\\\\Cubone.txt', 'data\\\\pokeworld\\\\Europe\\\\The-Netherlands\\\\Delcatty.txt', 'data\\\\pokeworld\\\\Europe\\\\The-Netherlands\\\\Drifloon.txt', 'data\\\\pokeworld\\\\Europe\\\\The-Netherlands\\\\Drowzee.txt', 'data\\\\pokeworld\\\\Europe\\\\The-Netherlands\\\\Eevee.txt', 'data\\\\pokeworld\\\\Europe\\\\The-Netherlands\\\\Espurr.txt', 'data\\\\pokeworld\\\\Europe\\\\The-Netherlands\\\\Ferroseed.txt', 'data\\\\pokeworld\\\\Europe\\\\The-Netherlands\\\\Froakie.txt', 'data\\\\pokeworld\\\\Europe\\\\The-Netherlands\\\\Goldeen.txt', 'data\\\\pokeworld\\\\Europe\\\\The-Netherlands\\\\Grimer.txt', 'data\\\\pokeworld\\\\Europe\\\\The-Netherlands\\\\Groudon.txt', 'data\\\\pokeworld\\\\Europe\\\\The-Netherlands\\\\Hbase.txt', 'data\\\\pokeworld\\\\Europe\\\\The-Netherlands\\\\Hoopa Unbound.txt', 'data\\\\pokeworld\\\\Europe\\\\The-Netherlands\\\\Hydreigon.txt', 'data\\\\pokeworld\\\\Europe\\\\The-Netherlands\\\\Illumise.txt', 'data\\\\pokeworld\\\\Europe\\\\The-Netherlands\\\\Jigglypuff.txt', 'data\\\\pokeworld\\\\Europe\\\\The-Netherlands\\\\Kingdra.txt', 'data\\\\pokeworld\\\\Europe\\\\The-Netherlands\\\\Ledyba.txt', 'data\\\\pokeworld\\\\Europe\\\\The-Netherlands\\\\Lickitung.txt', 'data\\\\pokeworld\\\\Europe\\\\The-Netherlands\\\\Metang.txt', 'data\\\\pokeworld\\\\Europe\\\\The-Netherlands\\\\Mewtwo.txt', 'data\\\\pokeworld\\\\Europe\\\\The-Netherlands\\\\Monferno.txt', 'data\\\\pokeworld\\\\Europe\\\\The-Netherlands\\\\Pichu.txt', 'data\\\\pokeworld\\\\Europe\\\\The-Netherlands\\\\Piloswine.txt', 'data\\\\pokeworld\\\\Europe\\\\The-Netherlands\\\\Piplup.txt', 'data\\\\pokeworld\\\\Europe\\\\The-Netherlands\\\\Purrloin.txt', 'data\\\\pokeworld\\\\Europe\\\\The-Netherlands\\\\Rapidash.txt', 'data\\\\pokeworld\\\\Europe\\\\The-Netherlands\\\\Regice.txt', 'data\\\\pokeworld\\\\Europe\\\\The-Netherlands\\\\Rufflet.txt', 'data\\\\pokeworld\\\\Europe\\\\The-Netherlands\\\\Salamence.txt', 'data\\\\pokeworld\\\\Europe\\\\The-Netherlands\\\\Scyther.txt', 'data\\\\pokeworld\\\\Europe\\\\The-Netherlands\\\\Seismitoad.txt', 'data\\\\pokeworld\\\\Europe\\\\The-Netherlands\\\\Slowking.txt', 'data\\\\pokeworld\\\\Europe\\\\The-Netherlands\\\\Staraptor.txt', 'data\\\\pokeworld\\\\Europe\\\\The-Netherlands\\\\Starly.txt', 'data\\\\pokeworld\\\\Europe\\\\The-Netherlands\\\\Swablu.txt', 'data\\\\pokeworld\\\\Europe\\\\The-Netherlands\\\\Swampert.txt', 'data\\\\pokeworld\\\\Europe\\\\The-Netherlands\\\\Tornadus Incarnate Forme.txt', 'data\\\\pokeworld\\\\Europe\\\\The-Netherlands\\\\Volcanion.txt', 'data\\\\pokeworld\\\\Europe\\\\The-Netherlands\\\\Wartortle.txt', 'data\\\\pokeworld\\\\Europe\\\\The-Netherlands\\\\Woobat.txt', 'data\\\\pokeworld\\\\Europe\\\\The-UK\\\\Azurill.txt', 'data\\\\pokeworld\\\\Europe\\\\The-UK\\\\Beedrill.txt', 'data\\\\pokeworld\\\\Europe\\\\The-UK\\\\Beheeyem.txt', 'data\\\\pokeworld\\\\Europe\\\\The-UK\\\\Blaziken.txt', 'data\\\\pokeworld\\\\Europe\\\\The-UK\\\\Darkrai.txt', 'data\\\\pokeworld\\\\Europe\\\\The-UK\\\\Dewgong.txt', 'data\\\\pokeworld\\\\Europe\\\\The-UK\\\\Dragonite.txt', 'data\\\\pokeworld\\\\Europe\\\\The-UK\\\\Drapion.txt', 'data\\\\pokeworld\\\\Europe\\\\The-UK\\\\Empoleon.txt', 'data\\\\pokeworld\\\\Europe\\\\The-UK\\\\Floette.txt', 'data\\\\pokeworld\\\\Europe\\\\The-UK\\\\Fraxure.txt', 'data\\\\pokeworld\\\\Europe\\\\The-UK\\\\Garchomp.txt', 'data\\\\pokeworld\\\\Europe\\\\The-UK\\\\Gigalith.txt', 'data\\\\pokeworld\\\\Europe\\\\The-UK\\\\Glalie.txt', 'data\\\\pokeworld\\\\Europe\\\\The-UK\\\\Golduck.txt', 'data\\\\pokeworld\\\\Europe\\\\The-UK\\\\Gurdurr.txt', 'data\\\\pokeworld\\\\Europe\\\\The-UK\\\\Hawlucha.txt', 'data\\\\pokeworld\\\\Europe\\\\The-UK\\\\Heliolisk.txt', 'data\\\\pokeworld\\\\Europe\\\\The-UK\\\\Heracross.txt', 'data\\\\pokeworld\\\\Europe\\\\The-UK\\\\Jellicent.txt', 'data\\\\pokeworld\\\\Europe\\\\The-UK\\\\Jolteon.txt', 'data\\\\pokeworld\\\\Europe\\\\The-UK\\\\Kakuna.txt', 'data\\\\pokeworld\\\\Europe\\\\The-UK\\\\Klang.txt', 'data\\\\pokeworld\\\\Europe\\\\The-UK\\\\Lairon.txt', 'data\\\\pokeworld\\\\Europe\\\\The-UK\\\\Landorus Therian Forme.txt', 'data\\\\pokeworld\\\\Europe\\\\The-UK\\\\Larvitar.txt', 'data\\\\pokeworld\\\\Europe\\\\The-UK\\\\Litwick.txt', 'data\\\\pokeworld\\\\Europe\\\\The-UK\\\\Loudred.txt', 'data\\\\pokeworld\\\\Europe\\\\The-UK\\\\Manectric.txt', 'data\\\\pokeworld\\\\Europe\\\\The-UK\\\\Mankey.txt', 'data\\\\pokeworld\\\\Europe\\\\The-UK\\\\Munchlax.txt', 'data\\\\pokeworld\\\\Europe\\\\The-UK\\\\Oshawott.txt', 'data\\\\pokeworld\\\\Europe\\\\The-UK\\\\Pangoro.txt', 'data\\\\pokeworld\\\\Europe\\\\The-UK\\\\Pidgey.txt', 'data\\\\pokeworld\\\\Europe\\\\The-UK\\\\Pidove.txt', 'data\\\\pokeworld\\\\Europe\\\\The-UK\\\\Probopass.txt', 'data\\\\pokeworld\\\\Europe\\\\The-UK\\\\Pumpkaboo Small Size.txt', 'data\\\\pokeworld\\\\Europe\\\\The-UK\\\\Quilladin.txt', 'data\\\\pokeworld\\\\Europe\\\\The-UK\\\\Rayquaza.txt', 'data\\\\pokeworld\\\\Europe\\\\The-UK\\\\Roserade.txt', 'data\\\\pokeworld\\\\Europe\\\\The-UK\\\\Sableye.txt', 'data\\\\pokeworld\\\\Europe\\\\The-UK\\\\Sawsbuck.txt', 'data\\\\pokeworld\\\\Europe\\\\The-UK\\\\Serperior.txt', 'data\\\\pokeworld\\\\Europe\\\\The-UK\\\\Shaymin Sky Forme.txt', 'data\\\\pokeworld\\\\Europe\\\\The-UK\\\\Sliggoo.txt', 'data\\\\pokeworld\\\\Europe\\\\The-UK\\\\Stunky.txt', 'data\\\\pokeworld\\\\Europe\\\\The-UK\\\\Sudowoodo.txt', 'data\\\\pokeworld\\\\Europe\\\\The-UK\\\\Swadloon.txt', 'data\\\\pokeworld\\\\Europe\\\\The-UK\\\\Tangrowth.txt', 'data\\\\pokeworld\\\\Europe\\\\The-UK\\\\Tepig.txt', 'data\\\\pokeworld\\\\Europe\\\\The-UK\\\\Thundurus Therian Forme.txt', 'data\\\\pokeworld\\\\Europe\\\\The-UK\\\\Torterra.txt', 'data\\\\pokeworld\\\\Europe\\\\The-UK\\\\Tyranitar.txt', 'data\\\\pokeworld\\\\Europe\\\\The-UK\\\\Ursaring.txt', 'data\\\\pokeworld\\\\Europe\\\\The-UK\\\\Vanillite.txt', 'data\\\\pokeworld\\\\Europe\\\\The-UK\\\\Vigoroth.txt', 'data\\\\pokeworld\\\\Europe\\\\The-UK\\\\Vileplume.txt', 'data\\\\pokeworld\\\\Europe\\\\The-UK\\\\Zekrom.txt', 'data\\\\pokeworld\\\\Europe\\\\The-UK\\\\Zoroark.txt', 'data\\\\pokeworld\\\\Middle-East\\\\Iran\\\\Bronzong.txt', 'data\\\\pokeworld\\\\Middle-East\\\\Iran\\\\Bronzor.txt', 'data\\\\pokeworld\\\\Middle-East\\\\Iran\\\\Chatot.txt', 'data\\\\pokeworld\\\\Middle-East\\\\Iran\\\\Chimchar.txt', 'data\\\\pokeworld\\\\Middle-East\\\\Iran\\\\Corphish.txt', 'data\\\\pokeworld\\\\Middle-East\\\\Iran\\\\Dugtrio.txt', 'data\\\\pokeworld\\\\Middle-East\\\\Iran\\\\Feraligatr.txt', 'data\\\\pokeworld\\\\Middle-East\\\\Iran\\\\Hitmonchan.txt', 'data\\\\pokeworld\\\\Middle-East\\\\Iran\\\\Kadabra.txt', 'data\\\\pokeworld\\\\Middle-East\\\\Iran\\\\Lotad.txt', 'data\\\\pokeworld\\\\Middle-East\\\\Iran\\\\Lumineon.txt', 'data\\\\pokeworld\\\\Middle-East\\\\Iran\\\\Luxio.txt', 'data\\\\pokeworld\\\\Middle-East\\\\Iran\\\\Malamar.txt', 'data\\\\pokeworld\\\\Middle-East\\\\Iran\\\\Manaphy.txt', 'data\\\\pokeworld\\\\Middle-East\\\\Iran\\\\Medicham.txt', 'data\\\\pokeworld\\\\Middle-East\\\\Iran\\\\Meloetta Aria Forme.txt', 'data\\\\pokeworld\\\\Middle-East\\\\Iran\\\\Rampardos.txt', 'data\\\\pokeworld\\\\Middle-East\\\\Iran\\\\Sandshrew.txt', 'data\\\\pokeworld\\\\Middle-East\\\\Iran\\\\Shedinja.txt', 'data\\\\pokeworld\\\\Middle-East\\\\Iran\\\\Venusaur.txt']\n",
      "load_all_pokemons\n",
      "=== FAIL ==\n",
      "     got: 0 \n",
      "expected: 750\n",
      "\n"
     ]
    },
    {
     "ename": "IndexError",
     "evalue": "list index out of range",
     "output_type": "error",
     "traceback": [
      "\u001b[1;31m---------------------------------------------------------------------------\u001b[0m",
      "\u001b[1;31mIndexError\u001b[0m                                Traceback (most recent call last)",
      "\u001b[1;32m<ipython-input-309-0695cca84dcd>\u001b[0m in \u001b[0;36m<module>\u001b[1;34m\u001b[0m\n\u001b[0;32m      9\u001b[0m \u001b[0mprint\u001b[0m\u001b[1;33m(\u001b[0m\u001b[1;34m\"load_all_pokemons\"\u001b[0m\u001b[1;33m)\u001b[0m\u001b[1;33m\u001b[0m\u001b[1;33m\u001b[0m\u001b[0m\n\u001b[0;32m     10\u001b[0m \u001b[0mtest\u001b[0m\u001b[1;33m(\u001b[0m\u001b[0mlen\u001b[0m\u001b[1;33m(\u001b[0m\u001b[0mpokemons\u001b[0m\u001b[1;33m)\u001b[0m\u001b[1;33m,\u001b[0m \u001b[1;36m750\u001b[0m\u001b[1;33m)\u001b[0m\u001b[1;33m\u001b[0m\u001b[1;33m\u001b[0m\u001b[0m\n\u001b[1;32m---> 11\u001b[1;33m \u001b[0mtest\u001b[0m\u001b[1;33m(\u001b[0m\u001b[0mtype\u001b[0m\u001b[1;33m(\u001b[0m\u001b[0mpokemons\u001b[0m\u001b[1;33m[\u001b[0m\u001b[1;36m0\u001b[0m\u001b[1;33m]\u001b[0m\u001b[1;33m)\u001b[0m\u001b[1;33m,\u001b[0m \u001b[0mPokemon\u001b[0m\u001b[1;33m)\u001b[0m\u001b[1;33m\u001b[0m\u001b[1;33m\u001b[0m\u001b[0m\n\u001b[0m",
      "\u001b[1;31mIndexError\u001b[0m: list index out of range"
     ]
    }
   ],
   "source": [
    "import glob,os\n",
    "\n",
    "path = os.path.join(\"data\",\"pokeworld\")\n",
    "pokefiles = glob.glob('{}/**/*.txt'.format(path),recursive = True)\n",
    "print(pokefiles)\n",
    "# pokemons = [Pokemon(i) for i in pokefiles]\n",
    "\n",
    "# TEST\n",
    "print(\"load_all_pokemons\")\n",
    "test(len(pokemons), 750)\n",
    "test(type(pokemons[0]), Pokemon)"
   ]
  },
  {
   "cell_type": "markdown",
   "metadata": {},
   "source": [
    "#### Exercise 4 - Provide insights\n",
    "\n",
    "Now that we have a list of pokemon, let's answer some questions!\n",
    "\n",
    "1. In which country is Pikachu?\n",
    "2. How many pokemons in Malaysia?\n",
    "3. How many pokemons in Asia?\n",
    "4. Which continent has the most pokemons?\n",
    "5. Which country has least pokemons?\n",
    "6. Which countries have bigdata?"
   ]
  },
  {
   "cell_type": "markdown",
   "metadata": {},
   "source": [
    "4.1 In which country is Pikachu?"
   ]
  },
  {
   "cell_type": "code",
   "execution_count": 307,
   "metadata": {},
   "outputs": [
    {
     "ename": "IndexError",
     "evalue": "list index out of range",
     "output_type": "error",
     "traceback": [
      "\u001b[1;31m---------------------------------------------------------------------------\u001b[0m",
      "\u001b[1;31mIndexError\u001b[0m                                Traceback (most recent call last)",
      "\u001b[1;32m<ipython-input-307-842242d8d83f>\u001b[0m in \u001b[0;36m<module>\u001b[1;34m\u001b[0m\n\u001b[1;32m----> 1\u001b[1;33m \u001b[0mpikachu\u001b[0m \u001b[1;33m=\u001b[0m \u001b[1;33m[\u001b[0m\u001b[0mp\u001b[0m \u001b[1;32mfor\u001b[0m \u001b[0mp\u001b[0m \u001b[1;32min\u001b[0m \u001b[0mpokemons\u001b[0m \u001b[1;32mif\u001b[0m \u001b[0mp\u001b[0m\u001b[1;33m.\u001b[0m\u001b[0mname\u001b[0m \u001b[1;33m==\u001b[0m \u001b[1;34m\"Pikachu\"\u001b[0m\u001b[1;33m]\u001b[0m\u001b[1;33m[\u001b[0m\u001b[1;36m0\u001b[0m\u001b[1;33m]\u001b[0m\u001b[1;33m\u001b[0m\u001b[1;33m\u001b[0m\u001b[0m\n\u001b[0m\u001b[0;32m      2\u001b[0m \u001b[0mpikachu\u001b[0m\u001b[1;33m.\u001b[0m\u001b[0mcountry\u001b[0m\u001b[1;33m\u001b[0m\u001b[1;33m\u001b[0m\u001b[0m\n",
      "\u001b[1;31mIndexError\u001b[0m: list index out of range"
     ]
    }
   ],
   "source": [
    "pikachu = [p for p in pokemons if p.name == \"Pikachu\"][0]\n",
    "pikachu.country"
   ]
  },
  {
   "cell_type": "markdown",
   "metadata": {},
   "source": [
    "4.2 How many pokemons in Malaysia?"
   ]
  },
  {
   "cell_type": "code",
   "execution_count": null,
   "metadata": {},
   "outputs": [],
   "source": [
    "malaysians = [p for p in pokemons if p.country == \"Malaysia\"] # remember that 'pokemons' are objects\n",
    "\n",
    "len(malaysians) "
   ]
  },
  {
   "cell_type": "markdown",
   "metadata": {},
   "source": [
    "4.3 How many pokemons in Asia?"
   ]
  },
  {
   "cell_type": "code",
   "execution_count": null,
   "metadata": {},
   "outputs": [],
   "source": [
    "asians = [p for p in pokemons if p.continent == \"Asia\"]\n",
    "\n",
    "len(asians)"
   ]
  },
  {
   "cell_type": "markdown",
   "metadata": {},
   "source": [
    "4.4 Which continent has the most pokemons?\n",
    "\n",
    "Hints: \n",
    "- make a dictionary continents for the count\n",
    "- continents.setdefault\n",
    "- sorted(continens.items(), key=... , reverse=True)"
   ]
  },
  {
   "cell_type": "code",
   "execution_count": null,
   "metadata": {},
   "outputs": [],
   "source": [
    "continents = {}\n",
    "\n",
    "for p in pokemons:\n",
    "    continents.setdefault(p.continent, 0) # if p.continent not found, insert 0\n",
    "    continents[p.continent] += 1\n",
    "\n",
    "sorted(continents.items(), key=lambda x: x[-1], reverse=True)[0]"
   ]
  },
  {
   "cell_type": "markdown",
   "metadata": {},
   "source": [
    "4.5 Which country has the least pokemon?"
   ]
  },
  {
   "cell_type": "code",
   "execution_count": null,
   "metadata": {},
   "outputs": [],
   "source": [
    "countries = {}\n",
    "\n",
    "for p in pokemons:\n",
    "    countries.setdefault(p.country, 0)\n",
    "    countries[p.country] +=1\n",
    "    \n",
    "sorted(countries.items(), key=lambda x:x[-1])[0]"
   ]
  },
  {
   "cell_type": "markdown",
   "metadata": {},
   "source": [
    "4.6 Which countries have big data?\n",
    "\n",
    "Hints: set() to get unique values of a list."
   ]
  },
  {
   "cell_type": "code",
   "execution_count": null,
   "metadata": {},
   "outputs": [],
   "source": [
    "bigdata = set([p.country for p in pokemons if p.is_big_data()])\n",
    "bigdata"
   ]
  },
  {
   "cell_type": "markdown",
   "metadata": {},
   "source": [
    "# Well done! Congrats on completing Python Fundamentals!"
   ]
  },
  {
   "cell_type": "code",
   "execution_count": 310,
   "metadata": {},
   "outputs": [
    {
     "ename": "SyntaxError",
     "evalue": "invalid syntax (<ipython-input-310-2f0f0e46fce4>, line 2)",
     "output_type": "error",
     "traceback": [
      "\u001b[1;36m  File \u001b[1;32m\"<ipython-input-310-2f0f0e46fce4>\"\u001b[1;36m, line \u001b[1;32m2\u001b[0m\n\u001b[1;33m    f.write(\"\"hey!\"\")\u001b[0m\n\u001b[1;37m                ^\u001b[0m\n\u001b[1;31mSyntaxError\u001b[0m\u001b[1;31m:\u001b[0m invalid syntax\n"
     ]
    }
   ],
   "source": [
    "f= open('file6.txt','w')\n",
    "f.write(\"\"hey!\"\")"
   ]
  }
 ],
 "metadata": {
  "kernelspec": {
   "display_name": "Python 3",
   "language": "python",
   "name": "python3"
  },
  "language_info": {
   "codemirror_mode": {
    "name": "ipython",
    "version": 3
   },
   "file_extension": ".py",
   "mimetype": "text/x-python",
   "name": "python",
   "nbconvert_exporter": "python",
   "pygments_lexer": "ipython3",
   "version": "3.8.5"
  }
 },
 "nbformat": 4,
 "nbformat_minor": 4
}
