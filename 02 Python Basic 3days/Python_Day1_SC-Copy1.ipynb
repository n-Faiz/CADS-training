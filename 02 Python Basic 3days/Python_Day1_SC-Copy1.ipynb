{
 "cells": [
  {
   "cell_type": "markdown",
   "metadata": {},
   "source": [
    "<img src=\"images/cads-logo.png\" style=\"height: 100px;\" align=left> <img src=\"images/python-logo.png\" style=\"height: 100px;\" align=right>"
   ]
  },
  {
   "cell_type": "markdown",
   "metadata": {},
   "source": [
    "# Python Fundamentals Day 1\n",
    "\n",
    "Welcome to Python Fundamentals Day 1.\n",
    "\n",
    "So what is on the menu for today? \n",
    "\n",
    "At first we talk about what is programming and what is so great about the programming language Python. Then we have a look at this programming environment we are working in, Jupyter.\n",
    "\n",
    "Then we get started. \n",
    "\n",
    "Today you will learn how to print text, numeric calculations, to use variables, make a list, loop over a list, do an if-else statement, define a function and do string operations. "
   ]
  },
  {
   "cell_type": "markdown",
   "metadata": {},
   "source": [
    "## Table of Contents\n",
    "\n",
    "- [Introduction to Python programming](#Introduction-to-Python-programming)\n",
    "    - [What is programming](#What-is-programming)\n",
    "    - [Why learn how to program](#Why-learn-how-to-program)\n",
    "    - [Programming languages](#Programming-languages)\n",
    "    - [What is Python](#What-is-Python)\n",
    "    - [Programming basics](#Programming-basics)\n",
    "- [Introduction to Jupyter](#Introduction-to-Jupyter)\n",
    "    - [What is Jupyter](#What-is-Jupyter)\n",
    "    - [Jupyter short keys](#Jupyter-short-keys)\n",
    "- [Getting started](#Getting-started)\n",
    "    - [Hello world](#Hello-world)\n",
    "    - [Python as a Calculator](#Python-as-a-Calculator)\n",
    "    - [Summary Getting started](#Summary-Getting-started)\n",
    "        - [print](#print)\n",
    "        - [arithmetic operations](#arithmetic-operations)\n",
    "- [Variables For loop and If Else](#Variables-For-loop-and-If-Else)\n",
    "    - [Your first Error](#Your-first-Error)\n",
    "    - [Variables](#Variables)\n",
    "    - [For Loop](#For-Loop)\n",
    "    - [If elif else](#If-elif-else)\n",
    "    - [If else inside a For loop](#If-else-inside-a-For-loop)\n",
    "    - [Summary Variables](#Summary-Variables)\n",
    "        - [variable](#variable)\n",
    "        - [whos](#whos)\n",
    "        - [del](#del)\n",
    "        - [list](#list)\n",
    "        - [for loop](#for-loop)\n",
    "        - [condition](#condition)\n",
    "        - [if elif else](#if-elif-else)\n",
    "    - [Exercises](#Exercises)\n",
    "        - [Exercise 1 - Seconds in course](#Exercise-1---Seconds-in-course)\n",
    "        - [Exercise 2 - Teambuilding](#Exercise-2---Teambuilding)\n",
    "        - [Exercise 3 - Total value](#Exercise-3---Total-value)\n",
    "        - [Exercise 4 - Uneven numbers](#Exercise-4---Uneven-numbers)\n",
    "        - [Exercise 5 - Even numbers](#Exercise-5---Even-numbers)\n",
    "        - [Exercise 6 - Find the maximum](#Exercise-6---Find-the-maximum)\n",
    "- [In Python everything is objects](#In-Python-everything-is-objects)\n",
    "    - [Types](#Types)\n",
    "    - [Integer and Float](#Integer-and-Float)\n",
    "    - [String](#String)\n",
    "    - [Boolean](#Boolean)\n",
    "    - [List](#List)\n",
    "    - [Tuple](#Tuple)\n",
    "    - [Dictionary](#Dictionary)\n",
    "    - [None](#None)\n",
    "    - [Mutable and Immutable objects](#Mutable-and-Immutable-objects)\n",
    "    - [Avoid overwriting built-in function](#Avoid-overwriting-built-in-function)\n",
    "    - [Show types using a function and a loop](#Show-types-using-a-function-and-a-loop)\n",
    "    - [Getting help on objects](#Getting-help-on-objects)\n",
    "    - [Summary Objects](#Summary-Objects)\n",
    "        - [object](#object)\n",
    "        - [function](#function)\n",
    "        - [method](#method)\n",
    "        - [int](#int)\n",
    "        - [float](#float)\n",
    "        - [str](#str)\n",
    "        - [bool](#bool)\n",
    "        - [list](#list)\n",
    "        - [tuple](#tuple)\n",
    "        - [dict](#dict)\n",
    "        - [None](#None)\n",
    "    - [RUN ME](#RUN-ME)\n",
    "    - [Practice Exercise together](#Practice-Exercise-together)\n",
    "        - [Practice Exercise 1 - Starts with B](#Practice-Exercise-1---Starts-with-B)\n",
    "    - [Exercises](#Exercises)\n",
    "        - [Exercise 1 - My name is](#Exercise-1---My-name-is)\n",
    "        - [Exercise 2 - Count occurences](#Exercise-2---Count-occurences)\n",
    "        - [Exercise 3 - Bigger](#Exercise-3---Bigger)\n",
    "        - [Exercise 4 - Donuts](#Exercise-4---Donuts)\n",
    "        - [Exercise 5 - Both ends](#Exercise-5---Both-ends)\n",
    "        - [Exercise 6 - Fix start](#Exercise-6---Fix-start)\n",
    "        - [Exercise 7 - Mix up](#Exercise-7---Mix-up)\n",
    "        - [Exercise 8 - Verbing](#Exercise-8---Verbing)\n",
    "        - [Exercise 9 - Weekend](#Exercise-9---Weekend)\n",
    "        - [Exercise 10 - Leap baby](#Exercise-10---Leap-baby)"
   ]
  },
  {
   "cell_type": "markdown",
   "metadata": {},
   "source": [
    "Student's answer: <br>\n",
    "https://jamboard.google.com/d/1dPlBrrnswpMESgEWG7pTgQRT8GYW4yTiXWagTEO2ZxQ/viewer"
   ]
  },
  {
   "cell_type": "markdown",
   "metadata": {
    "toc-hr-collapsed": false
   },
   "source": [
    "## Introduction to Python programming"
   ]
  },
  {
   "cell_type": "markdown",
   "metadata": {},
   "source": [
    "### What is programming\n",
    "\n",
    "Programming is writing a series of instructions to a computer to complete a task.\n",
    "\n",
    "The Instructions must be written in such a way that the computer can understand.\n",
    "\n",
    "Programming languages, such as Python are used to write programs.\n",
    "\n",
    "Programming is Fun!\n",
    "\n",
    "Programming is Frustrating!\n",
    "\n",
    "Programming is Creative!\n",
    "\n",
    "Programming is Communication!\n",
    "- between you and the computer\n",
    "- between you and other coders"
   ]
  },
  {
   "cell_type": "markdown",
   "metadata": {},
   "source": [
    "### Why learn how to program\n",
    "\n",
    "Why would you want to learn programming?\n",
    "\n",
    "**Automate.** Programming gives you the ability to automate tasks.\n",
    "\n",
    "**Problem solving.** It teaches you how to decompose problems into smaller parts, which is great for your problem solving ability.\n",
    "\n",
    "**Understand code.** Being able to read and understand other's code.\n",
    "\n",
    "**Productive.** This makes you more effective, efficient and productive."
   ]
  },
  {
   "cell_type": "markdown",
   "metadata": {},
   "source": [
    "### Programming languages\n",
    "\n",
    "There are many programming languages out there such as Java, C, C++ and R. Each has its own strenghts and weaknesses and is very suitable for certain applications."
   ]
  },
  {
   "cell_type": "markdown",
   "metadata": {},
   "source": [
    "### What is Python\n",
    "\n",
    "Python was created by Guido van Rossum and first released in 1991.\n",
    "\n",
    "**Open source.** The Python interpreter is open source software and managed by the non-profit Python Software Foundation.\n",
    "\n",
    "**Readability.** Python has a design philosophy that emphasizes code readability, notably using significant whitespace.\n",
    "\n",
    "**High-level.** Python is a very high-level programming language. High-level programming languages have strong abstraction from the details of the computer. For example memory management has been taken care of. So in the code you will see commands that sound natural like english and the details under the hood of those commands are already being taken care of. Handy!\n",
    "\n",
    "**Interpreted.** Python is an interpreted language. It's means that Python code will not be compiled but each command will be translated into machine instructions and executed directly by the interpreter. This enables interactive computing as we will be doing in this course.\n",
    "\n",
    "**Object Oriented.** Python is an Object Oriented Programming Language. It means that functionality is bundled together in objects and you can reason with those objects and let them interact.\n",
    "\n",
    "**Dynamic typing.** Python has dynamic typing which means you don't have to declare the type of your variables.\n",
    "\n",
    "**Large standard library.** Python has a large and comprehensive standard library with lot's of functionality available right out of the box.\n",
    "\n",
    "**Large 3rd party libraries.** Python has a large collection of 3rd party libraries available as well. There are lot's of data science Python libraries that provide functionality for table operations, querying, visualisation, machine learning, data scraping and more.\n",
    "\n",
    "**Great for data science.** Python is easy to learn and very powerful. Python enables high productivity. It's has numerous data science libraries and a large supporting open source community."
   ]
  },
  {
   "cell_type": "markdown",
   "metadata": {},
   "source": [
    "pydata.org\n",
    "\n",
    "python community\n",
    "\n",
    "can search pin youtube: pydata\n",
    "\n",
    "r-conference2020.com for R"
   ]
  },
  {
   "cell_type": "markdown",
   "metadata": {},
   "source": [
    "### Programming basics\n",
    "\n",
    "**Code.** The sequence of instructions in a program.\n",
    "\n",
    "**Syntax.** The legal set of instructions that can be used in a programming language. It's a collection of allowed commands and allowed grammar applied. Example: str,print, etc\n",
    "\n",
    "**Output.** Messages printed to the user by a program.\n",
    "\n",
    "**Console.** Text box onto which output is printed. In Jupyter this is the outputbox for each cell.\n",
    "\n",
    "**Kernel / Interpreter.** The kernel is a running program that takes the instructions as input, translates it to machine code and executes it. A interpreter is a kernel that executes line by line and as opposed to a compiler that evaluates that whole program and then translates and executes the whole program at once. Python is an interpreted languages and has an Interpreter. "
   ]
  },
  {
   "cell_type": "markdown",
   "metadata": {},
   "source": [
    "how to update python.\n",
    "google anaconda update. \n",
    "conda update conda"
   ]
  },
  {
   "cell_type": "markdown",
   "metadata": {},
   "source": [
    "## Introduction to Jupyter"
   ]
  },
  {
   "cell_type": "markdown",
   "metadata": {},
   "source": [
    "### What is Jupyter\n",
    "\n",
    "The Jupyter Notebook is an open-source web application that allows you to create and share documents that contain live code, equations, visualizations and narrative text. Uses include: data cleaning and transformation, numerical simulation, statistical modeling, data visualization, machine learning, and much more.\n",
    "\n",
    "Jupyter is a server-client application that allows editing and running notebook documents via a web browser. The Jupyter Notebook app can be executed on a local desktop requiring no internet access or can be installed on a remote server and accessed through the internet.\n",
    "\n",
    "Notice the different cell types; Code, Markdown and Raw.\n",
    "\n",
    "Also learn how to use the short-keys from the start, they will make you productive!"
   ]
  },
  {
   "cell_type": "markdown",
   "metadata": {},
   "source": [
    "### Jupyter short keys\n",
    "\n",
    "These are the most common used short keys:\n",
    "\n",
    "- Esc + a -- Open a new cell above\n",
    "- Esc + b -- Open a new cell below\n",
    "- Shift + Enter -- Run the cell, and go to next one\n",
    "- Ctrl + Enter -- Run the cell and stay there\n",
    "- Alt + Enter -- Run the cell, and make a new one (Option-key for Mac)\n",
    "- Ctrl + / -- Comment or Uncomment your selection\n",
    "- Esc + m -- Change cell type into Markdown (text modus). Then run again with Crtl+Enter\n",
    "- Esc + y -- Change cell type into Code (code modus). Then run again with Crtl+Enter\n",
    "\n",
    "Let's try them out and get familiar."
   ]
  },
  {
   "cell_type": "markdown",
   "metadata": {},
   "source": [
    "## Getting started"
   ]
  },
  {
   "cell_type": "markdown",
   "metadata": {},
   "source": [
    "### Hello world\n",
    "\n",
    "Let's get started! \n",
    "\n",
    "Since programming is best learned by typing yourself we will do it quite a bit in this class.\n",
    "\n",
    "You don't have to type over the \"# MC\" part. This is something we use to remove cells from the MasterCopy to the StudentCopy. \n",
    "\n",
    "The # is used for commenting. Python wil not evaluate the text as code.\n",
    "\n",
    "Type down the following code and run it with Crtl+Enter."
   ]
  },
  {
   "cell_type": "code",
   "execution_count": 4,
   "metadata": {},
   "outputs": [
    {
     "name": "stdout",
     "output_type": "stream",
     "text": [
      "Hello World\n"
     ]
    }
   ],
   "source": [
    "# comment\n",
    "print('Hello World')"
   ]
  },
  {
   "cell_type": "code",
   "execution_count": 5,
   "metadata": {},
   "outputs": [
    {
     "data": {
      "text/plain": [
       "'Hello world'"
      ]
     },
     "execution_count": 5,
     "metadata": {},
     "output_type": "execute_result"
    }
   ],
   "source": [
    "\"Hello world\""
   ]
  },
  {
   "cell_type": "markdown",
   "metadata": {},
   "source": [
    "**Question:** See a difference between the first and the second output? \n",
    "<br>\n",
    "**Answer:**"
   ]
  },
  {
   "cell_type": "markdown",
   "metadata": {},
   "source": [
    "The print() function prints whatever you give it to the console. You see the text printed to the console. \n",
    "\n",
    "When your last statement is an object, it is shown as an output of your cell, that's why you get the number corresponding to the cell."
   ]
  },
  {
   "cell_type": "markdown",
   "metadata": {},
   "source": [
    "This is better demonstrated by the following example.\n",
    "\n",
    "\"\\\\\" is an escape character. \"\\n\" means a line break."
   ]
  },
  {
   "cell_type": "code",
   "execution_count": 6,
   "metadata": {},
   "outputs": [
    {
     "name": "stdout",
     "output_type": "stream",
     "text": [
      "Hello world!\n",
      "Welcome to programming\n"
     ]
    }
   ],
   "source": [
    "print('Hello world!\\nWelcome to programming')"
   ]
  },
  {
   "cell_type": "code",
   "execution_count": 7,
   "metadata": {},
   "outputs": [
    {
     "data": {
      "text/plain": [
       "'Hello world!\\nWelcome to programming'"
      ]
     },
     "execution_count": 7,
     "metadata": {},
     "output_type": "execute_result"
    }
   ],
   "source": [
    "'Hello world!\\nWelcome to programming'"
   ]
  },
  {
   "cell_type": "markdown",
   "metadata": {},
   "source": [
    "Both Hello's will be printed."
   ]
  },
  {
   "cell_type": "code",
   "execution_count": 9,
   "metadata": {},
   "outputs": [
    {
     "name": "stdout",
     "output_type": "stream",
     "text": [
      "Cello\n",
      "Mello\n",
      "Hello\n"
     ]
    }
   ],
   "source": [
    "print(\"Cello\")\n",
    "print(\"Mello\")\n",
    "print(\"Hello\")"
   ]
  },
  {
   "cell_type": "markdown",
   "metadata": {},
   "source": [
    "Only the last Hello will be displayed in the console."
   ]
  },
  {
   "cell_type": "code",
   "execution_count": 8,
   "metadata": {},
   "outputs": [
    {
     "data": {
      "text/plain": [
       "'Hello'"
      ]
     },
     "execution_count": 8,
     "metadata": {},
     "output_type": "execute_result"
    }
   ],
   "source": [
    "\"Cello\"\n",
    "\"Mello\"\n",
    "\"Hello\""
   ]
  },
  {
   "cell_type": "markdown",
   "metadata": {},
   "source": [
    "You can chain inputs in the print function by giving the print function what we call multiple arguments. By default the inputs are separated by a space."
   ]
  },
  {
   "cell_type": "code",
   "execution_count": 10,
   "metadata": {},
   "outputs": [
    {
     "name": "stdout",
     "output_type": "stream",
     "text": [
      "Jan Jeremy\n"
     ]
    }
   ],
   "source": [
    "print(\"Jan\",\"Jeremy\")"
   ]
  },
  {
   "cell_type": "markdown",
   "metadata": {},
   "source": [
    "### Python as a Calculator\n",
    "\n",
    "Did you know you can use Python as a calculator? The basic operations like adding, subtracting etc are all there. Quite handy. \n",
    "\n",
    "| Symbol | Task Performed |\n",
    "|----|---|\n",
    "| +  | Addition |\n",
    "| -  | Subtraction |\n",
    "| /  | division |\n",
    "| *  | multiplication |\n",
    "| **  | to the power of |\n",
    "| //  | floor division |\n",
    "| %  | modulo |\n"
   ]
  },
  {
   "cell_type": "markdown",
   "metadata": {},
   "source": [
    "Type along."
   ]
  },
  {
   "cell_type": "code",
   "execution_count": null,
   "metadata": {},
   "outputs": [],
   "source": [
    "1+3"
   ]
  },
  {
   "cell_type": "code",
   "execution_count": 11,
   "metadata": {},
   "outputs": [
    {
     "name": "stdout",
     "output_type": "stream",
     "text": [
      "4\n"
     ]
    }
   ],
   "source": [
    "print (1+       3 )\n",
    "# spacing doesnt matter"
   ]
  },
  {
   "cell_type": "code",
   "execution_count": null,
   "metadata": {},
   "outputs": [],
   "source": [
    "5+ 5*3"
   ]
  },
  {
   "cell_type": "code",
   "execution_count": null,
   "metadata": {},
   "outputs": [],
   "source": [
    "5**2"
   ]
  },
  {
   "cell_type": "code",
   "execution_count": null,
   "metadata": {},
   "outputs": [],
   "source": []
  },
  {
   "cell_type": "markdown",
   "metadata": {},
   "source": [
    "Floor division is like normal division but rounded down to the nearest integer."
   ]
  },
  {
   "cell_type": "code",
   "execution_count": 13,
   "metadata": {},
   "outputs": [
    {
     "data": {
      "text/plain": [
       "4"
      ]
     },
     "execution_count": 13,
     "metadata": {},
     "output_type": "execute_result"
    }
   ],
   "source": [
    "23//5"
   ]
  },
  {
   "cell_type": "markdown",
   "metadata": {},
   "source": [
    "Modulo is the remainder of that division. Modulo can be used to determine if a number is even or uneven."
   ]
  },
  {
   "cell_type": "code",
   "execution_count": 14,
   "metadata": {},
   "outputs": [
    {
     "data": {
      "text/plain": [
       "3"
      ]
     },
     "execution_count": 14,
     "metadata": {},
     "output_type": "execute_result"
    }
   ],
   "source": [
    "23%5"
   ]
  },
  {
   "cell_type": "code",
   "execution_count": 15,
   "metadata": {},
   "outputs": [
    {
     "data": {
      "text/plain": [
       "0"
      ]
     },
     "execution_count": 15,
     "metadata": {},
     "output_type": "execute_result"
    }
   ],
   "source": [
    "10%2"
   ]
  },
  {
   "cell_type": "markdown",
   "metadata": {},
   "source": [
    "Modulo can also be used to check if a number is divisible by a number"
   ]
  },
  {
   "cell_type": "code",
   "execution_count": 16,
   "metadata": {},
   "outputs": [
    {
     "data": {
      "text/plain": [
       "True"
      ]
     },
     "execution_count": 16,
     "metadata": {},
     "output_type": "execute_result"
    }
   ],
   "source": [
    "10%2 ==0"
   ]
  },
  {
   "cell_type": "code",
   "execution_count": 17,
   "metadata": {},
   "outputs": [
    {
     "data": {
      "text/plain": [
       "False"
      ]
     },
     "execution_count": 17,
     "metadata": {},
     "output_type": "execute_result"
    }
   ],
   "source": [
    "11%2 == 0"
   ]
  },
  {
   "cell_type": "code",
   "execution_count": 18,
   "metadata": {},
   "outputs": [
    {
     "data": {
      "text/plain": [
       "True"
      ]
     },
     "execution_count": 18,
     "metadata": {},
     "output_type": "execute_result"
    }
   ],
   "source": [
    "12%3 ==0 "
   ]
  },
  {
   "cell_type": "markdown",
   "metadata": {
    "toc-hr-collapsed": false
   },
   "source": [
    "### Summary Getting started"
   ]
  },
  {
   "cell_type": "markdown",
   "metadata": {},
   "source": [
    "> #### print\n",
    "The print function in Python is a function that outputs to your console window whatever you say you want to print out. At first blush, it might appear that the print function is rather useless for programming, but it is actually one of the most widely used functions in all of python.\n",
    "\n",
    "```python\n",
    "print(\"Hello world!\")\n",
    "print(\"Jan\", \"Jeremy\", \"Akmal\")\n",
    "```"
   ]
  },
  {
   "cell_type": "markdown",
   "metadata": {},
   "source": [
    "> #### arithmetic operations\n",
    "These are numeric operation.\n",
    "```python\n",
    "1+1\n",
    "2-1\n",
    "10/2\n",
    "5*2\n",
    "5**2\n",
    "23//4\n",
    "23%5\n",
    "```"
   ]
  },
  {
   "cell_type": "markdown",
   "metadata": {
    "toc-hr-collapsed": false
   },
   "source": [
    "## Variables For loop and If Else"
   ]
  },
  {
   "cell_type": "markdown",
   "metadata": {},
   "source": [
    "### Your first Error"
   ]
  },
  {
   "cell_type": "markdown",
   "metadata": {},
   "source": [
    "Now let's try this. Stay calm."
   ]
  },
  {
   "cell_type": "code",
   "execution_count": 20,
   "metadata": {},
   "outputs": [
    {
     "ename": "SyntaxError",
     "evalue": "can't assign to operator (<ipython-input-20-c33ae5cec730>, line 1)",
     "output_type": "error",
     "traceback": [
      "\u001b[1;36m  File \u001b[1;32m\"<ipython-input-20-c33ae5cec730>\"\u001b[1;36m, line \u001b[1;32m1\u001b[0m\n\u001b[1;33m    11%2=0\u001b[0m\n\u001b[1;37m          ^\u001b[0m\n\u001b[1;31mSyntaxError\u001b[0m\u001b[1;31m:\u001b[0m can't assign to operator\n"
     ]
    }
   ],
   "source": [
    "11%2=0"
   ]
  },
  {
   "cell_type": "markdown",
   "metadata": {},
   "source": [
    "Oh no! What happened?\n",
    "\n",
    "This is what we call an Error. There are many types of Errors. This one is a SyntaxError. It means the Python grammar is not correct. You get a SyntaxError when you give a command that does not make sense. You also get a SyntaxError when you make a typo.\n",
    "\n",
    "In python \"=\" is an assignment operator. This means that python assigns what is on the right to the container that is on the left. \"11%2\" is not a container, so Python cannot do what you ask, so you get the Error."
   ]
  },
  {
   "cell_type": "markdown",
   "metadata": {},
   "source": [
    "### Variables"
   ]
  },
  {
   "cell_type": "markdown",
   "metadata": {},
   "source": [
    "You can assign things to a variable. Then you can use the value inside the variable later on.\n",
    "\n",
    "Let's try."
   ]
  },
  {
   "cell_type": "code",
   "execution_count": null,
   "metadata": {},
   "outputs": [],
   "source": [
    "number=10"
   ]
  },
  {
   "cell_type": "markdown",
   "metadata": {},
   "source": [
    "Notice there is no output for this cell. \n",
    "\n",
    "We have stored 10 inside variable \"number\". We can now get the number like this."
   ]
  },
  {
   "cell_type": "code",
   "execution_count": null,
   "metadata": {},
   "outputs": [],
   "source": []
  },
  {
   "cell_type": "code",
   "execution_count": null,
   "metadata": {},
   "outputs": [],
   "source": []
  },
  {
   "cell_type": "code",
   "execution_count": null,
   "metadata": {},
   "outputs": [],
   "source": []
  },
  {
   "cell_type": "markdown",
   "metadata": {},
   "source": [
    "We can write this more compact.\n",
    "\n",
    "With the \"+=\" operator we can add a number."
   ]
  },
  {
   "cell_type": "code",
   "execution_count": null,
   "metadata": {},
   "outputs": [],
   "source": [
    "number +=10\n",
    "number"
   ]
  },
  {
   "cell_type": "code",
   "execution_count": null,
   "metadata": {},
   "outputs": [],
   "source": [
    "number -=10\n",
    "number"
   ]
  },
  {
   "cell_type": "markdown",
   "metadata": {},
   "source": [
    "### For Loop"
   ]
  },
  {
   "cell_type": "markdown",
   "metadata": {},
   "source": [
    "Now we will make a list of numbers and sum up the total value. "
   ]
  },
  {
   "cell_type": "code",
   "execution_count": 22,
   "metadata": {},
   "outputs": [
    {
     "name": "stdout",
     "output_type": "stream",
     "text": [
      "1\n",
      "2\n",
      "3\n",
      "4\n",
      "5\n"
     ]
    },
    {
     "data": {
      "text/plain": [
       "15"
      ]
     },
     "execution_count": 22,
     "metadata": {},
     "output_type": "execute_result"
    }
   ],
   "source": [
    "numbers_chain = [1,2,3,4,5]\n",
    "total = 0\n",
    "for number in numbers_chain:\n",
    "    total+=number\n",
    "    print(number)\n",
    "    \n",
    "total"
   ]
  },
  {
   "cell_type": "markdown",
   "metadata": {},
   "source": [
    "What did we do here?\n",
    "\n",
    "We defined a variable called \"numbers\" and assigned it with a list of numbers. Notice the [ ] squared brackets, this is how you define a list.\n",
    "\n",
    "We defined another variable called \"total\" and assigned it with value 0.\n",
    "\n",
    "Then we defined a \"for loop\". We iterate over all the items in the list and do something for each of those items. The variable \"numbers\" refers to the list. The variable \"number\" refers to one item and the value of \"number\" changes during the loop.\n",
    "\n",
    "Notice the indent. It is a \"tab\" or \"4 spaces\". It means that the code inside that block is executed for each item in the list that we are looping over.\n",
    "\n",
    "Also notice the colors here. Purple is used for operators, green for numbers and fat-green for Python keywords. Keywords are reserved Python and cannot be used for variable names.\n",
    "\n",
    "Let's add some print statements to clarify our understanding of what happens in this loop."
   ]
  },
  {
   "cell_type": "code",
   "execution_count": 23,
   "metadata": {},
   "outputs": [
    {
     "name": "stdout",
     "output_type": "stream",
     "text": [
      "Ready to loop!\n",
      "\n",
      "Put more ice flake = 1 \n",
      "from ice block = [1, 2, 3, 4, 5] \n",
      "making frozen = 1\n",
      "\n",
      "Put more ice flake = 2 \n",
      "from ice block = [1, 2, 3, 4, 5] \n",
      "making frozen = 3\n",
      "\n",
      "Put more ice flake = 3 \n",
      "from ice block = [1, 2, 3, 4, 5] \n",
      "making frozen = 6\n",
      "\n",
      "Put more ice flake = 4 \n",
      "from ice block = [1, 2, 3, 4, 5] \n",
      "making frozen = 10\n",
      "\n",
      "Put more ice flake = 5 \n",
      "from ice block = [1, 2, 3, 4, 5] \n",
      "making frozen = 15\n",
      "\n",
      "There is 15 ice flakes frozen from an ice block\n"
     ]
    }
   ],
   "source": [
    "## We're also using different variable names \n",
    "## to demonstrate that variables naming is \n",
    "## up to us to decide\n",
    "\n",
    "### But please do not confuse yourself with \n",
    "### weird names \n",
    "\n",
    "ice_block = [1, 2, 3, 4, 5]\n",
    "amount_frozen = 0\n",
    "\n",
    "print(\"Ready to loop!\", end = 2*'\\n')\n",
    "\n",
    "for ice_flake in ice_block:\n",
    "    amount_frozen += ice_flake\n",
    "    print(\"Put more ice flake =\", ice_flake, \n",
    "          \"\\nfrom ice block =\", ice_block, \n",
    "          \"\\nmaking frozen =\", amount_frozen, \n",
    "          end = '\\n\\n')\n",
    "    \n",
    "print(\"There is\", amount_frozen, \n",
    "      \"ice flakes frozen from an ice block\")"
   ]
  },
  {
   "cell_type": "markdown",
   "metadata": {},
   "source": [
    "We can use the following Jupyter magic function to show the variables in our namespace."
   ]
  },
  {
   "cell_type": "code",
   "execution_count": 24,
   "metadata": {},
   "outputs": [
    {
     "name": "stdout",
     "output_type": "stream",
     "text": [
      "Variable        Type    Data/Info\n",
      "---------------------------------\n",
      "amount_frozen   int     15\n",
      "ice_block       list    n=5\n",
      "ice_flake       int     5\n",
      "number          int     5\n",
      "numbers_chain   list    n=5\n",
      "tota            int     15\n",
      "total           int     15\n"
     ]
    }
   ],
   "source": [
    "# Jupyter agic function\n",
    "%whos"
   ]
  },
  {
   "cell_type": "markdown",
   "metadata": {},
   "source": [
    "We can use the \"del\" command to remove a variable."
   ]
  },
  {
   "cell_type": "code",
   "execution_count": 28,
   "metadata": {},
   "outputs": [
    {
     "ename": "NameError",
     "evalue": "name 'total' is not defined",
     "output_type": "error",
     "traceback": [
      "\u001b[1;31m---------------------------------------------------------------------------\u001b[0m",
      "\u001b[1;31mNameError\u001b[0m                                 Traceback (most recent call last)",
      "\u001b[1;32m<ipython-input-28-0c918f9b72b8>\u001b[0m in \u001b[0;36m<module>\u001b[1;34m\u001b[0m\n\u001b[1;32m----> 1\u001b[1;33m \u001b[1;32mdel\u001b[0m \u001b[0mtotal\u001b[0m\u001b[1;33m\u001b[0m\u001b[1;33m\u001b[0m\u001b[0m\n\u001b[0m",
      "\u001b[1;31mNameError\u001b[0m: name 'total' is not defined"
     ]
    }
   ],
   "source": [
    "del total"
   ]
  },
  {
   "cell_type": "code",
   "execution_count": 29,
   "metadata": {
    "scrolled": true
   },
   "outputs": [
    {
     "name": "stdout",
     "output_type": "stream",
     "text": [
      "Variable        Type    Data/Info\n",
      "---------------------------------\n",
      "amount_frozen   int     15\n",
      "ice_block       list    n=5\n",
      "ice_flake       int     5\n",
      "number          int     5\n",
      "numbers_chain   list    n=5\n"
     ]
    }
   ],
   "source": [
    "%whos \n"
   ]
  },
  {
   "cell_type": "markdown",
   "metadata": {},
   "source": [
    "### Extra Magic"
   ]
  },
  {
   "cell_type": "code",
   "execution_count": 30,
   "metadata": {
    "scrolled": true
   },
   "outputs": [
    {
     "data": {
      "application/json": {
       "cell": {
        "!": "OSMagics",
        "HTML": "Other",
        "SVG": "Other",
        "bash": "Other",
        "capture": "ExecutionMagics",
        "cmd": "Other",
        "debug": "ExecutionMagics",
        "file": "Other",
        "html": "DisplayMagics",
        "javascript": "DisplayMagics",
        "js": "DisplayMagics",
        "latex": "DisplayMagics",
        "markdown": "DisplayMagics",
        "perl": "Other",
        "prun": "ExecutionMagics",
        "pypy": "Other",
        "python": "Other",
        "python2": "Other",
        "python3": "Other",
        "ruby": "Other",
        "script": "ScriptMagics",
        "sh": "Other",
        "svg": "DisplayMagics",
        "sx": "OSMagics",
        "system": "OSMagics",
        "time": "ExecutionMagics",
        "timeit": "ExecutionMagics",
        "writefile": "OSMagics"
       },
       "line": {
        "alias": "OSMagics",
        "alias_magic": "BasicMagics",
        "autoawait": "AsyncMagics",
        "autocall": "AutoMagics",
        "automagic": "AutoMagics",
        "autosave": "KernelMagics",
        "bookmark": "OSMagics",
        "cd": "OSMagics",
        "clear": "KernelMagics",
        "cls": "KernelMagics",
        "colors": "BasicMagics",
        "conda": "PackagingMagics",
        "config": "ConfigMagics",
        "connect_info": "KernelMagics",
        "copy": "Other",
        "ddir": "Other",
        "debug": "ExecutionMagics",
        "dhist": "OSMagics",
        "dirs": "OSMagics",
        "doctest_mode": "BasicMagics",
        "echo": "Other",
        "ed": "Other",
        "edit": "KernelMagics",
        "env": "OSMagics",
        "gui": "BasicMagics",
        "hist": "Other",
        "history": "HistoryMagics",
        "killbgscripts": "ScriptMagics",
        "ldir": "Other",
        "less": "KernelMagics",
        "load": "CodeMagics",
        "load_ext": "ExtensionMagics",
        "loadpy": "CodeMagics",
        "logoff": "LoggingMagics",
        "logon": "LoggingMagics",
        "logstart": "LoggingMagics",
        "logstate": "LoggingMagics",
        "logstop": "LoggingMagics",
        "ls": "Other",
        "lsmagic": "BasicMagics",
        "macro": "ExecutionMagics",
        "magic": "BasicMagics",
        "matplotlib": "PylabMagics",
        "mkdir": "Other",
        "more": "KernelMagics",
        "notebook": "BasicMagics",
        "page": "BasicMagics",
        "pastebin": "CodeMagics",
        "pdb": "ExecutionMagics",
        "pdef": "NamespaceMagics",
        "pdoc": "NamespaceMagics",
        "pfile": "NamespaceMagics",
        "pinfo": "NamespaceMagics",
        "pinfo2": "NamespaceMagics",
        "pip": "PackagingMagics",
        "popd": "OSMagics",
        "pprint": "BasicMagics",
        "precision": "BasicMagics",
        "prun": "ExecutionMagics",
        "psearch": "NamespaceMagics",
        "psource": "NamespaceMagics",
        "pushd": "OSMagics",
        "pwd": "OSMagics",
        "pycat": "OSMagics",
        "pylab": "PylabMagics",
        "qtconsole": "KernelMagics",
        "quickref": "BasicMagics",
        "recall": "HistoryMagics",
        "rehashx": "OSMagics",
        "reload_ext": "ExtensionMagics",
        "ren": "Other",
        "rep": "Other",
        "rerun": "HistoryMagics",
        "reset": "NamespaceMagics",
        "reset_selective": "NamespaceMagics",
        "rmdir": "Other",
        "run": "ExecutionMagics",
        "save": "CodeMagics",
        "sc": "OSMagics",
        "set_env": "OSMagics",
        "store": "StoreMagics",
        "sx": "OSMagics",
        "system": "OSMagics",
        "tb": "ExecutionMagics",
        "time": "ExecutionMagics",
        "timeit": "ExecutionMagics",
        "unalias": "OSMagics",
        "unload_ext": "ExtensionMagics",
        "who": "NamespaceMagics",
        "who_ls": "NamespaceMagics",
        "whos": "NamespaceMagics",
        "xdel": "NamespaceMagics",
        "xmode": "BasicMagics"
       }
      },
      "text/plain": [
       "Available line magics:\n",
       "%alias  %alias_magic  %autoawait  %autocall  %automagic  %autosave  %bookmark  %cd  %clear  %cls  %colors  %conda  %config  %connect_info  %copy  %ddir  %debug  %dhist  %dirs  %doctest_mode  %echo  %ed  %edit  %env  %gui  %hist  %history  %killbgscripts  %ldir  %less  %load  %load_ext  %loadpy  %logoff  %logon  %logstart  %logstate  %logstop  %ls  %lsmagic  %macro  %magic  %matplotlib  %mkdir  %more  %notebook  %page  %pastebin  %pdb  %pdef  %pdoc  %pfile  %pinfo  %pinfo2  %pip  %popd  %pprint  %precision  %prun  %psearch  %psource  %pushd  %pwd  %pycat  %pylab  %qtconsole  %quickref  %recall  %rehashx  %reload_ext  %ren  %rep  %rerun  %reset  %reset_selective  %rmdir  %run  %save  %sc  %set_env  %store  %sx  %system  %tb  %time  %timeit  %unalias  %unload_ext  %who  %who_ls  %whos  %xdel  %xmode\n",
       "\n",
       "Available cell magics:\n",
       "%%!  %%HTML  %%SVG  %%bash  %%capture  %%cmd  %%debug  %%file  %%html  %%javascript  %%js  %%latex  %%markdown  %%perl  %%prun  %%pypy  %%python  %%python2  %%python3  %%ruby  %%script  %%sh  %%svg  %%sx  %%system  %%time  %%timeit  %%writefile\n",
       "\n",
       "Automagic is ON, % prefix IS NOT needed for line magics."
      ]
     },
     "execution_count": 30,
     "metadata": {},
     "output_type": "execute_result"
    }
   ],
   "source": [
    "%lsmagic"
   ]
  },
  {
   "cell_type": "markdown",
   "metadata": {},
   "source": [
    "### If elif else"
   ]
  },
  {
   "cell_type": "markdown",
   "metadata": {},
   "source": [
    "Let's get the total value of the \"even numbers\" and the \"uneven numbers\".\n",
    "\n",
    "First let's see how we can separate even and uneven."
   ]
  },
  {
   "cell_type": "code",
   "execution_count": 31,
   "metadata": {},
   "outputs": [
    {
     "data": {
      "text/plain": [
       "False"
      ]
     },
     "execution_count": 31,
     "metadata": {},
     "output_type": "execute_result"
    }
   ],
   "source": [
    "1==0"
   ]
  },
  {
   "cell_type": "code",
   "execution_count": 32,
   "metadata": {},
   "outputs": [
    {
     "data": {
      "text/plain": [
       "True"
      ]
     },
     "execution_count": 32,
     "metadata": {},
     "output_type": "execute_result"
    }
   ],
   "source": [
    "0 == 0"
   ]
  },
  {
   "cell_type": "code",
   "execution_count": 45,
   "metadata": {},
   "outputs": [
    {
     "data": {
      "text/plain": [
       "False"
      ]
     },
     "execution_count": 45,
     "metadata": {},
     "output_type": "execute_result"
    }
   ],
   "source": [
    "nunber = 4\n",
    "number % 2 == 0"
   ]
  },
  {
   "cell_type": "code",
   "execution_count": 39,
   "metadata": {},
   "outputs": [
    {
     "name": "stdout",
     "output_type": "stream",
     "text": [
      "Even number\n"
     ]
    }
   ],
   "source": [
    "number = 4\n",
    "if number % 2 ==0:\n",
    "    print(\"Even number\")\n",
    "else:\n",
    "    print(\"Uneven number'\")"
   ]
  },
  {
   "cell_type": "code",
   "execution_count": 44,
   "metadata": {},
   "outputs": [
    {
     "name": "stdout",
     "output_type": "stream",
     "text": [
      "Uneven number.\n"
     ]
    }
   ],
   "source": [
    "number = 5\n",
    "\n",
    "if number % 2 != 0:\n",
    "    print(\"Uneven number.\")"
   ]
  },
  {
   "cell_type": "code",
   "execution_count": 48,
   "metadata": {},
   "outputs": [
    {
     "name": "stdout",
     "output_type": "stream",
     "text": [
      "Uneven number, bigger than 10\n"
     ]
    }
   ],
   "source": [
    "number = 13 # Test for 3, 5, 12, 15\n",
    "\n",
    "if number % 2 == 0:\n",
    "    print(\"Even number\")\n",
    "elif number > 10:\n",
    "    print (\"Uneven number, bigger than 10\")\n",
    "else:\n",
    "    print(\"Uneven number\")"
   ]
  },
  {
   "cell_type": "markdown",
   "metadata": {},
   "source": [
    "What did we do here?\n",
    "\n",
    "Notice the **<font color=green>fat-green</font>** keywords for `if`, `elif` and `else`. Notice the colon `:`. Also notice the idents (tab).\n",
    "\n",
    "Let talk about the conditions. The `if` condition here is `number % 2 == 0`. There are two sides and a \"comparison operator\". The double `==` operator means \"equal to\". If the variable `number` is `13` then it evaluates to `False`. The `elif` condition is `number > 10`. If the variable number is `13` then it evaluates to `True`.\n",
    "\n",
    "**A condition always evaluates to either `True` or `False`.**\n",
    "\n",
    "Lets talk about the `if elif else` statement. If the condition is `True` then the code block that belongs to `If` is executed, Else If the `elif` condition is `Tru`e then the code block that belongs to `elif` is executed, `Else` the code block that belongs to `Else` is executed. \n",
    "\n",
    "You <u>**always must use** 1 `If` statement.</u>\n",
    "\n",
    "You may use **1 `Else`** statement optional.\n",
    "\n",
    "You may use many `Elif` statements, but must be after `If`."
   ]
  },
  {
   "cell_type": "markdown",
   "metadata": {},
   "source": [
    "**Question:** What will be printed for the numbers 3, 5, 12, 15?\n",
    "<br>\n",
    "\n",
    "**Answer:**"
   ]
  },
  {
   "cell_type": "markdown",
   "metadata": {},
   "source": [
    "### If else inside a For loop"
   ]
  },
  {
   "cell_type": "markdown",
   "metadata": {},
   "source": [
    "Now, let's get the total value of the \"even numbers\" and the \"uneven numbers\"."
   ]
  },
  {
   "cell_type": "code",
   "execution_count": 49,
   "metadata": {},
   "outputs": [
    {
     "data": {
      "text/plain": [
       "[1, 2, 3, 5, 8, 13]"
      ]
     },
     "execution_count": 49,
     "metadata": {},
     "output_type": "execute_result"
    }
   ],
   "source": [
    "numbers = [1,2,3,5,8,13]\n",
    "numbers"
   ]
  },
  {
   "cell_type": "code",
   "execution_count": 53,
   "metadata": {},
   "outputs": [
    {
     "name": "stdout",
     "output_type": "stream",
     "text": [
      "total even 10 \n",
      "total odd 4\n"
     ]
    }
   ],
   "source": [
    "# Nik Faiz\n",
    "total_even = 0\n",
    "total_odd=0\n",
    "\n",
    "for i in numbers:\n",
    "    if i%2 ==0:\n",
    "        total_even +=i\n",
    "    else:\n",
    "        total_odd +=1\n",
    "print(\"total even\",total_even,\n",
    "      \"\\ntotal odd\",total_odd)"
   ]
  },
  {
   "cell_type": "markdown",
   "metadata": {},
   "source": [
    "What did we do here?\n",
    "\n",
    "We defined two variables `total_even` and `total_uneven` and set them to 0. \n",
    "\n",
    "We made a for loop to loop over each number in the list `numbers`. \n",
    "\n",
    "For each number in the list, we check if the number is even using the condition `i % 2 == 0`. If the number is even, it is added to variable `total_even`. Else the number is added to variable `total_uneven`.\n",
    "\n",
    "Notice the idents. The `If`-`Else` statement is within the For loop.\n",
    "\n",
    "We added some print statements for understanding."
   ]
  },
  {
   "cell_type": "markdown",
   "metadata": {
    "toc-hr-collapsed": false
   },
   "source": [
    "### Summary Variables"
   ]
  },
  {
   "cell_type": "markdown",
   "metadata": {},
   "source": [
    "> #### variable\n",
    "You can use a variable to store data in the memory and retrieve it later on.\n",
    "```python\n",
    "your_variable = 10\n",
    "```"
   ]
  },
  {
   "cell_type": "markdown",
   "metadata": {},
   "source": [
    "> #### whos\n",
    "Jupyter magic function to show the variables that are available in your current namespace.\n",
    "```python\n",
    "%whos # List all the variables\n",
    "```"
   ]
  },
  {
   "cell_type": "markdown",
   "metadata": {},
   "source": [
    "> #### del\n",
    "The del statement is used to delete things. You can delete a variable from the namespace using del. \"del\" is a Python keyword.\n",
    "```python\n",
    "del your_variable\n",
    "```"
   ]
  },
  {
   "cell_type": "markdown",
   "metadata": {},
   "source": [
    "> #### list\n",
    "A list of items. We can iterate over those items.\n",
    "```python\n",
    "numbers = [1,2,3,4]\n",
    "```"
   ]
  },
  {
   "cell_type": "markdown",
   "metadata": {},
   "source": [
    "> #### for loop\n",
    "Python statement used to iterate over the items of a list. \"for\" and \"in\" are Python keywords. The code that is indented is executed for each item in the list.\n",
    "```python\n",
    "for number in numbers:\n",
    "    print(number)\n",
    "```"
   ]
  },
  {
   "cell_type": "markdown",
   "metadata": {},
   "source": [
    "> #### condition\n",
    "Python statement that evaluates to either True or False. \">\", \"==\" and \"!=\" are comparison operators.\n",
    "```python\n",
    "a > 10\n",
    "a >= 10\n",
    "b % 2 == 0\n",
    "b % 2 != 0\n",
    "```"
   ]
  },
  {
   "cell_type": "markdown",
   "metadata": {},
   "source": [
    "> #### `if` `elif` `else`\n",
    "Python statement used to choose between which code gets executed. `if` `elif` `else` are Python keywords. If the \"if condition\" is True then the code that belongs to the if is executed and the other codes that belong to elif and else are ignored. In an if elif else statement there is always 1 \"if\", optionally 1 to many \"elif\" and optionally 1 \"else\".\n",
    "```python\n",
    "if number % 2 == 0:\n",
    "    print(\"Even number.\")\n",
    "elif number > 10:\n",
    "    print(\"Uneven number, bigger than 10.\")\n",
    "else:\n",
    "    print(\"Uneven number.\")\n",
    "```"
   ]
  },
  {
   "cell_type": "markdown",
   "metadata": {
    "toc-hr-collapsed": false
   },
   "source": [
    "### Exercises"
   ]
  },
  {
   "cell_type": "markdown",
   "metadata": {},
   "source": [
    "#### Exercise 1 - Seconds in course\n",
    "\n",
    "How many seconds will you spend in this 3-days course? \n",
    "\n",
    "Each course day has 8 hours."
   ]
  },
  {
   "cell_type": "code",
   "execution_count": 55,
   "metadata": {},
   "outputs": [
    {
     "data": {
      "text/plain": [
       "86400"
      ]
     },
     "execution_count": 55,
     "metadata": {},
     "output_type": "execute_result"
    }
   ],
   "source": [
    "days = 3\n",
    "course_h = 8\n",
    "hour_sec = 60*60\n",
    "\n",
    "total = days*course_h*hour_sec\n",
    "total"
   ]
  },
  {
   "cell_type": "markdown",
   "metadata": {},
   "source": [
    "#### Exercise 2 - Teambuilding\n",
    "\n",
    "How many groups can be made during teambuilding?\n",
    "\n",
    "You are on a company team building event with a total of 57 people. The host of the day asks you all to form groups of 6 people. How many groups will there be? And how many people will be leftovers without a group?\n",
    "\n",
    "- Define variable `people`\n",
    "- Define variable `group_size`\n",
    "- Define and calculate `groups` using floor division.\n",
    "- Define and calculate `leftovers` using modulo.\n",
    "- Print groups and leftovers"
   ]
  },
  {
   "cell_type": "code",
   "execution_count": 60,
   "metadata": {},
   "outputs": [
    {
     "name": "stdout",
     "output_type": "stream",
     "text": [
      "No of groups: 9\n",
      "No of leftover: 3\n"
     ]
    }
   ],
   "source": [
    "people=57\n",
    "group_size = 6\n",
    "\n",
    "groups = people//group_size\n",
    "leftovers = people%group_size\n",
    "\n",
    "print(\"No of groups:\",groups)\n",
    "print(\"No of leftover:\",leftovers)"
   ]
  },
  {
   "cell_type": "markdown",
   "metadata": {},
   "source": [
    "#### Exercise 3 - Total value\n",
    "\n",
    "What is the total value of the numbers in this list?\n",
    "\n",
    "Numbers: 1, 10, 15, 44, 22, 5, 6, 9\n",
    "\n",
    "- Define a variable called \"numbers\" which contains the numbers. \n",
    "- Define a variable \"total_value\" with value 0. \n",
    "- Loop over the numbers and add to total_value."
   ]
  },
  {
   "cell_type": "code",
   "execution_count": 69,
   "metadata": {},
   "outputs": [
    {
     "name": "stdout",
     "output_type": "stream",
     "text": [
      "Total value: 112\n"
     ]
    }
   ],
   "source": [
    "numbers=[1, 10, 15, 44, 22, 5, 6, 9]\n",
    "total_value = 0\n",
    "\n",
    "for i in numbers:\n",
    "    total_value += i\n",
    "\n",
    "print (\"Total value:\",total_value)"
   ]
  },
  {
   "cell_type": "markdown",
   "metadata": {},
   "source": [
    "#### Exercise 4 - Uneven numbers \n",
    "\n",
    "How many uneven numbers are there in this list?\n",
    "\n",
    "Numbers: 1,10, 15, 44, 22, 5, 6, 9\n",
    "\n",
    "- Define a variable called `numbers` which contains the numbers. \n",
    "- Define a variable called `count_uneven` with value 0.\n",
    "- Loop over the numbers and add +1 to `count_uneven` if the number is uneven."
   ]
  },
  {
   "cell_type": "code",
   "execution_count": 70,
   "metadata": {},
   "outputs": [
    {
     "name": "stdout",
     "output_type": "stream",
     "text": [
      "Uneven count: 4\n"
     ]
    }
   ],
   "source": [
    "numbers=[1,10, 15, 44, 22, 5, 6, 9]\n",
    "count_uneven = 0\n",
    "\n",
    "for i in numbers:\n",
    "    if i%2 != 0:\n",
    "        count_uneven += 1\n",
    "\n",
    "print (\"Uneven count:\",count_uneven)"
   ]
  },
  {
   "cell_type": "code",
   "execution_count": 75,
   "metadata": {},
   "outputs": [
    {
     "name": "stdout",
     "output_type": "stream",
     "text": [
      "number of uneven : 4\n",
      "Number greater than 10 : 3\n"
     ]
    }
   ],
   "source": [
    "#Count number more than 10\n",
    "numbers=[1,10, 15, 44, 22, 5, 6, 9]\n",
    "count_uneven = 0\n",
    "count_greater10=0\n",
    "\n",
    "for i in numbers:\n",
    "    if i%2 != 0:\n",
    "        count_uneven += 1\n",
    "    if i >10:\n",
    "        count_greater10 +=1\n",
    "\n",
    "print (\"number of uneven :\",count_uneven)\n",
    "print (\"Number greater than 10 :\",count_greater10)"
   ]
  },
  {
   "cell_type": "markdown",
   "metadata": {},
   "source": [
    "#### Exercise 5 - Even numbers\n",
    "\n",
    "Print out the even numbers in this list\n",
    "\n",
    "Numbers: 1,10, 15, 44, 22, 5, 6, 9\n",
    "\n",
    "- Define a variable called `numbers` which contains the numbers. \n",
    "- Loop over the numbers and print the number if it is an even number."
   ]
  },
  {
   "cell_type": "code",
   "execution_count": 77,
   "metadata": {},
   "outputs": [
    {
     "name": "stdout",
     "output_type": "stream",
     "text": [
      "10\n",
      "44\n",
      "22\n",
      "6\n"
     ]
    }
   ],
   "source": [
    "numbers = [1,10, 15, 44, 22, 5, 6, 9]\n",
    "for i in numbers:\n",
    "    if i %2 ==0:\n",
    "        print(i)"
   ]
  },
  {
   "cell_type": "markdown",
   "metadata": {},
   "source": [
    "#### Exercise 6 - Find the maximum\n",
    "\n",
    "Find the maximum number in this list (without using the max function)\n",
    "\n",
    "Numbers: 90, -100, 11, 2, 400, 5, 66, 7\n",
    "\n",
    "- Define a variable called `numbers` which contains the numbers. \n",
    "- Define a variable `max_value` and initialize it with the first number in numbers\n",
    "- Loop over the numbers and do something so that at the end of the loop we are left with the max value.\n",
    "\n",
    "```python\n",
    "# hint:\n",
    "# initialize with the first number, value will be 90\n",
    "max_value = numbers[0]\n",
    "```"
   ]
  },
  {
   "cell_type": "code",
   "execution_count": 79,
   "metadata": {},
   "outputs": [
    {
     "name": "stdout",
     "output_type": "stream",
     "text": [
      "Max number : 400\n"
     ]
    }
   ],
   "source": [
    "number = [90, -100, 11, 2, 400, 5, 66, 7]\n",
    "max_value = number[0]\n",
    "\n",
    "for i in number:\n",
    "    if i>max_value:\n",
    "        max_value = i\n",
    "        \n",
    "print(\"Max number :\",max_value)"
   ]
  },
  {
   "cell_type": "code",
   "execution_count": 80,
   "metadata": {},
   "outputs": [
    {
     "name": "stdout",
     "output_type": "stream",
     "text": [
      "min number : -100\n"
     ]
    }
   ],
   "source": [
    "# min number\n",
    "number = [90, -100, 11, 2, 400, 5, 66, 7]\n",
    "min_value = number[0]\n",
    "\n",
    "for i in number:\n",
    "    if i<min_value:\n",
    "        min_value = i\n",
    "        \n",
    "print(\"min number :\",min_value)"
   ]
  },
  {
   "cell_type": "markdown",
   "metadata": {
    "toc-hr-collapsed": false
   },
   "source": [
    "## In Python everything is objects\n",
    "\n",
    "Everything in Python is an object that has an identity and a value. \n",
    "\n",
    "And a value always has a type.\n",
    "\n",
    "A number is an object, a string is an object, the print() function is an object, the condition in your if statement is an object.\n",
    "\n",
    "We can show the identity with id()\n",
    "\n",
    "We can show the type with type()"
   ]
  },
  {
   "cell_type": "code",
   "execution_count": 88,
   "metadata": {},
   "outputs": [
    {
     "name": "stdout",
     "output_type": "stream",
     "text": [
      "A\n",
      "A\n",
      "2012430192496\n",
      "2012430192496\n",
      "True\n",
      "<class 'str'>\n",
      "<class 'str'>\n"
     ]
    }
   ],
   "source": [
    "a= 'A'\n",
    "print(a)\n",
    "print('A')\n",
    "\n",
    "print(id(a))\n",
    "print(id('A'))\n",
    "\n",
    "print(a == 'A')\n",
    "\n",
    "print(type(a))\n",
    "print(type('A'))"
   ]
  },
  {
   "cell_type": "code",
   "execution_count": 89,
   "metadata": {},
   "outputs": [
    {
     "data": {
      "text/plain": [
       "2012429427000"
      ]
     },
     "execution_count": 89,
     "metadata": {},
     "output_type": "execute_result"
    }
   ],
   "source": [
    "id(print)"
   ]
  },
  {
   "cell_type": "code",
   "execution_count": 90,
   "metadata": {},
   "outputs": [
    {
     "data": {
      "text/plain": [
       "builtin_function_or_method"
      ]
     },
     "execution_count": 90,
     "metadata": {},
     "output_type": "execute_result"
    }
   ],
   "source": [
    "type(print)"
   ]
  },
  {
   "cell_type": "code",
   "execution_count": 94,
   "metadata": {},
   "outputs": [
    {
     "data": {
      "text/plain": [
       "bool"
      ]
     },
     "execution_count": 94,
     "metadata": {},
     "output_type": "execute_result"
    }
   ],
   "source": [
    "type(5<3)"
   ]
  },
  {
   "cell_type": "code",
   "execution_count": 98,
   "metadata": {},
   "outputs": [
    {
     "name": "stdout",
     "output_type": "stream",
     "text": [
      "10 140715462730416\n",
      "10 140715462730416\n",
      "11 140715462730448\n",
      "10 140715462730416\n"
     ]
    }
   ],
   "source": [
    "a = 10\n",
    "b = a\n",
    "# a and b refers to same place\n",
    "print(a, id(a))\n",
    "print(b, id(b))\n",
    "\n",
    "a+=1\n",
    "print(a, id(a))\n",
    "print(b, id(b))"
   ]
  },
  {
   "cell_type": "markdown",
   "metadata": {},
   "source": [
    "What did we do here?\n",
    "\n",
    "We defined variable `a` to be `10.` Then we defined variable `b` to be variable `a`. In other word we defined variable `b` to be the object that variable a refers to. Variable `a` and `b` <u>refer to the same object and have the same id.</u>\n",
    "\n",
    "Then we re-assigned variable a to be the value of `a + 1`. This is a new object with a new id."
   ]
  },
  {
   "cell_type": "markdown",
   "metadata": {
    "toc-hr-collapsed": true
   },
   "source": [
    "### Types\n",
    "\n",
    "Let's go over the types that will be used during this course. These will our building blocks\n",
    "- int -- Integer. Round number.\n",
    "- float -- Float. Number with decimals\n",
    "- str -- String. A sequence of characters.\n",
    "- bool -- Boolean. Either True or False\n",
    "- list -- List. A sequence of items.\n",
    "- tuple -- Tuple. An immutable list.\n",
    "- dict -- Dictionary. Collection of key-value pairs. Used to look up things.\n",
    "- None -- NoneType.\n",
    "\n",
    "Today we will practice with int, float, str and bool. In Day-2 we get into the details of list and dict. "
   ]
  },
  {
   "cell_type": "markdown",
   "metadata": {},
   "source": [
    "### Integer and Float"
   ]
  },
  {
   "cell_type": "markdown",
   "metadata": {},
   "source": [
    "We have seen numbers int and float before. Integer is a rounded value and Float is a decimal value."
   ]
  },
  {
   "cell_type": "code",
   "execution_count": 100,
   "metadata": {},
   "outputs": [
    {
     "data": {
      "text/plain": [
       "int"
      ]
     },
     "execution_count": 100,
     "metadata": {},
     "output_type": "execute_result"
    }
   ],
   "source": [
    "type(10)"
   ]
  },
  {
   "cell_type": "code",
   "execution_count": 101,
   "metadata": {},
   "outputs": [
    {
     "data": {
      "text/plain": [
       "float"
      ]
     },
     "execution_count": 101,
     "metadata": {},
     "output_type": "execute_result"
    }
   ],
   "source": [
    "type(10.1)"
   ]
  },
  {
   "cell_type": "markdown",
   "metadata": {},
   "source": [
    "We can round numbers using `round()`"
   ]
  },
  {
   "cell_type": "code",
   "execution_count": 106,
   "metadata": {},
   "outputs": [
    {
     "data": {
      "text/plain": [
       "10"
      ]
     },
     "execution_count": 106,
     "metadata": {},
     "output_type": "execute_result"
    }
   ],
   "source": [
    "a=10.123\n",
    "round(a)\n",
    "\n",
    "# to read more info on the function, press shit tab when curser on the function"
   ]
  },
  {
   "cell_type": "code",
   "execution_count": 105,
   "metadata": {},
   "outputs": [
    {
     "data": {
      "text/plain": [
       "11"
      ]
     },
     "execution_count": 105,
     "metadata": {},
     "output_type": "execute_result"
    }
   ],
   "source": [
    "b = 10.55\n",
    "round(b)"
   ]
  },
  {
   "cell_type": "code",
   "execution_count": 108,
   "metadata": {},
   "outputs": [
    {
     "data": {
      "text/plain": [
       "10.12"
      ]
     },
     "execution_count": 108,
     "metadata": {},
     "output_type": "execute_result"
    }
   ],
   "source": [
    "# Round by 2 decimal\n",
    "\n",
    "round(a,2)"
   ]
  },
  {
   "cell_type": "markdown",
   "metadata": {},
   "source": [
    "### String"
   ]
  },
  {
   "cell_type": "markdown",
   "metadata": {},
   "source": [
    "We have also seen the string type before, it's text. \n",
    "\n",
    "You can use single or double quotes. And with triple quotes you can define a string that spans over multiple lines.\n",
    "\n",
    "Notice how you can single quotes in double quotes and the other ways around."
   ]
  },
  {
   "cell_type": "code",
   "execution_count": 122,
   "metadata": {},
   "outputs": [
    {
     "name": "stdout",
     "output_type": "stream",
     "text": [
      "Hello\n",
      "He said, I'm sorry\n",
      "He said \"good morning\" to you\n"
     ]
    }
   ],
   "source": [
    "a = 'Hello'\n",
    "b = \"He said, I'm sorry\"\n",
    "c= 'He said \"good morning\" to you'\n",
    "\n",
    "print(a)\n",
    "print(b)\n",
    "print(c)\n",
    "\n"
   ]
  },
  {
   "cell_type": "code",
   "execution_count": 123,
   "metadata": {},
   "outputs": [
    {
     "name": "stdout",
     "output_type": "stream",
     "text": [
      "Hello He said, I'm sorry He said \"good morning\" to you\n"
     ]
    }
   ],
   "source": [
    "print(a,b,c)"
   ]
  },
  {
   "cell_type": "code",
   "execution_count": 126,
   "metadata": {},
   "outputs": [
    {
     "name": "stdout",
     "output_type": "stream",
     "text": [
      "\n",
      "This is a long paragrph in a text\n",
      "can you read this\n",
      "\n"
     ]
    }
   ],
   "source": [
    "# If long paragraph/text\n",
    "d = \"\"\"\n",
    "This is a long paragrph in a text\n",
    "can you read this\n",
    "\"\"\"\n",
    "print(d)"
   ]
  },
  {
   "cell_type": "markdown",
   "metadata": {},
   "source": [
    "You can define enter with `\\n` and a tab with `\\t`"
   ]
  },
  {
   "cell_type": "code",
   "execution_count": 115,
   "metadata": {},
   "outputs": [
    {
     "name": "stdout",
     "output_type": "stream",
     "text": [
      "Hi\n",
      "There\n"
     ]
    }
   ],
   "source": [
    "print(\"Hi\\nThere\")"
   ]
  },
  {
   "cell_type": "code",
   "execution_count": 116,
   "metadata": {},
   "outputs": [
    {
     "name": "stdout",
     "output_type": "stream",
     "text": [
      "Hi\tThere\n"
     ]
    }
   ],
   "source": [
    "print(\"Hi\\tThere\")"
   ]
  },
  {
   "cell_type": "markdown",
   "metadata": {},
   "source": [
    "\n",
    "String can be concatenated using the + operator."
   ]
  },
  {
   "cell_type": "code",
   "execution_count": 128,
   "metadata": {},
   "outputs": [
    {
     "name": "stdout",
     "output_type": "stream",
     "text": [
      "yesno\n",
      "yes no\n",
      "sayno\n"
     ]
    }
   ],
   "source": [
    "a=\"yes\"\n",
    "b=\"no\"\n",
    "print(a+b)\n",
    "print(a,b)\n",
    "print(\"say\"+b)"
   ]
  },
  {
   "cell_type": "markdown",
   "metadata": {},
   "source": [
    "Here is how you can format a string. `format` is a method of the string class."
   ]
  },
  {
   "cell_type": "code",
   "execution_count": 130,
   "metadata": {},
   "outputs": [],
   "source": [
    "name = \"ali\"\n",
    "age = 31"
   ]
  },
  {
   "cell_type": "code",
   "execution_count": 132,
   "metadata": {},
   "outputs": [
    {
     "name": "stdout",
     "output_type": "stream",
     "text": [
      "Name: ali, Age : 31\n"
     ]
    }
   ],
   "source": [
    "print(\n",
    "    \"Name: {}, Age : {}\".format(name,age)\n",
    ")"
   ]
  },
  {
   "cell_type": "code",
   "execution_count": 134,
   "metadata": {},
   "outputs": [
    {
     "name": "stdout",
     "output_type": "stream",
     "text": [
      "Name: Jeremy, Age : 31\n"
     ]
    }
   ],
   "source": [
    "print(\n",
    "    \"Name: {}, Age : {}\".format(\"Jeremy\",31)\n",
    ")"
   ]
  },
  {
   "cell_type": "code",
   "execution_count": 136,
   "metadata": {},
   "outputs": [
    {
     "name": "stdout",
     "output_type": "stream",
     "text": [
      "Name: Jeremy, Age : 31\n",
      "Name: Jeremy, Age : Jeremy\n"
     ]
    }
   ],
   "source": [
    "print(\"Name: {1}, Age : {0}\".format(age,\"Jeremy\"))\n",
    "print(\"Name: {1}, Age : {1}\".format(age,\"Jeremy\"))\n",
    "# Can use indexing "
   ]
  },
  {
   "cell_type": "code",
   "execution_count": 138,
   "metadata": {},
   "outputs": [
    {
     "name": "stdout",
     "output_type": "stream",
     "text": [
      "name: Jeremy,Age: 31\n",
      "name: Jeremy , Age:  31\n"
     ]
    }
   ],
   "source": [
    "# without .format()\n",
    "print(\"name: \"+\"Jeremy\"+\",\"+\"Age: \"+\"31\")\n",
    "print(\"name:\",\"Jeremy\",\",\",\"Age: \",31)"
   ]
  },
  {
   "cell_type": "markdown",
   "metadata": {},
   "source": [
    "A string is a sequence of characters. We can access a character by indexing.\n",
    "\n",
    "The index starts at zero. Also we can use negative indexes to start at the end. "
   ]
  },
  {
   "cell_type": "raw",
   "metadata": {},
   "source": [
    " 0   1   2   3   4   5\n",
    "'P   y   t   h   o   n'\n",
    "-6  -5  -4  -3  -2  -1"
   ]
  },
  {
   "cell_type": "code",
   "execution_count": 140,
   "metadata": {},
   "outputs": [
    {
     "name": "stdout",
     "output_type": "stream",
     "text": [
      "Help on method_descriptor:\n",
      "\n",
      "format(...)\n",
      "    S.format(*args, **kwargs) -> str\n",
      "    \n",
      "    Return a formatted version of S, using substitutions from args and kwargs.\n",
      "    The substitutions are identified by braces ('{' and '}').\n",
      "\n"
     ]
    }
   ],
   "source": [
    "help(str.format)"
   ]
  },
  {
   "cell_type": "markdown",
   "metadata": {},
   "source": [
    "Indexing\n"
   ]
  },
  {
   "cell_type": "code",
   "execution_count": null,
   "metadata": {},
   "outputs": [],
   "source": []
  },
  {
   "cell_type": "markdown",
   "metadata": {},
   "source": [
    "With slicing we can access subsets of the string.\n",
    "\n",
    "The subset starts at and includes the first index and it ends before but NOT including the second index. \n",
    "\n",
    "If you want to slice from the beginning or to the end you can leave it open with on index number.\n"
   ]
  },
  {
   "cell_type": "code",
   "execution_count": 142,
   "metadata": {},
   "outputs": [
    {
     "name": "stdout",
     "output_type": "stream",
     "text": [
      "P\n"
     ]
    }
   ],
   "source": [
    "text = \"Python\"\n",
    "print(text[0])"
   ]
  },
  {
   "cell_type": "code",
   "execution_count": 144,
   "metadata": {},
   "outputs": [
    {
     "name": "stdout",
     "output_type": "stream",
     "text": [
      "Pyt\n",
      "Pyt\n",
      "hon\n",
      "hon\n",
      "yt\n",
      "Python\n"
     ]
    }
   ],
   "source": [
    "print(text[0:3])\n",
    "print(text[:3])\n",
    "print(text[3:])\n",
    "print(text[-3:])\n",
    "print(text[1:3])\n",
    "print(text[:])"
   ]
  },
  {
   "cell_type": "markdown",
   "metadata": {},
   "source": [
    "Let's see if `Python` contains `yth`"
   ]
  },
  {
   "cell_type": "code",
   "execution_count": 145,
   "metadata": {},
   "outputs": [
    {
     "data": {
      "text/plain": [
       "True"
      ]
     },
     "execution_count": 145,
     "metadata": {},
     "output_type": "execute_result"
    }
   ],
   "source": [
    "\"yth\" in text"
   ]
  },
  {
   "cell_type": "markdown",
   "metadata": {},
   "source": [
    "### Boolean\n",
    "\n",
    "`True` or `False` Value. The outcome of a condition."
   ]
  },
  {
   "cell_type": "code",
   "execution_count": 146,
   "metadata": {},
   "outputs": [
    {
     "name": "stdout",
     "output_type": "stream",
     "text": [
      "False\n"
     ]
    },
    {
     "data": {
      "text/plain": [
       "bool"
      ]
     },
     "execution_count": 146,
     "metadata": {},
     "output_type": "execute_result"
    }
   ],
   "source": [
    "a = 10>12\n",
    "print(a)\n",
    "type(a)"
   ]
  },
  {
   "cell_type": "markdown",
   "metadata": {},
   "source": [
    "We can apply logical operators on booleans. With `and` and `or` we can chain booleans, with `not` can reverse. "
   ]
  },
  {
   "cell_type": "code",
   "execution_count": 147,
   "metadata": {},
   "outputs": [
    {
     "name": "stdout",
     "output_type": "stream",
     "text": [
      "True\n",
      "False\n",
      "True\n",
      "False\n"
     ]
    }
   ],
   "source": [
    "print(10>5 and 10>6)\n",
    "print(10>5 and 10>12)\n",
    "print(10>5 or 10>12)\n",
    "print(not 10>5)"
   ]
  },
  {
   "cell_type": "markdown",
   "metadata": {},
   "source": [
    "Bonus\n",
    "can use & | ` for and, or and not\n",
    "\n",
    "keyword|bitwise\n",
    "--|--\n",
    "and|&\n",
    "or|\n",
    "not|~"
   ]
  },
  {
   "cell_type": "code",
   "execution_count": 149,
   "metadata": {},
   "outputs": [
    {
     "name": "stdout",
     "output_type": "stream",
     "text": [
      "True\n",
      "False\n"
     ]
    }
   ],
   "source": [
    "print(True or True & False)\n",
    "print(True | True and False)"
   ]
  },
  {
   "cell_type": "code",
   "execution_count": 154,
   "metadata": {},
   "outputs": [
    {
     "name": "stdout",
     "output_type": "stream",
     "text": [
      "True\n",
      "False\n",
      "True\n",
      "False\n"
     ]
    }
   ],
   "source": [
    "print(( 10 > 5) & (10>6))\n",
    "print(( 10 > 5) & (10>12))\n",
    "print(( 10 > 5) | (10>12))\n",
    "print(~ 10 > 5 )"
   ]
  },
  {
   "cell_type": "markdown",
   "metadata": {},
   "source": [
    "### List\n",
    "\n",
    "A sequence of values. You can iterate over a list. \n",
    "\n",
    "We assign a new value to index zero. Notice that the list is a <u>mutable</u> type. Notice the `[ ]` squared brackets."
   ]
  },
  {
   "cell_type": "code",
   "execution_count": 156,
   "metadata": {},
   "outputs": [
    {
     "name": "stdout",
     "output_type": "stream",
     "text": [
      "[1, 2, 3, 4, 5]\n",
      "<class 'list'>\n",
      "[100, 2, 3, 4, 5]\n",
      "\n",
      "new value assigned to the \n"
     ]
    }
   ],
   "source": [
    "numbers = [1,2,3,4,5]\n",
    "\n",
    "print(numbers)\n",
    "print(type(numbers))\n",
    "\n",
    "numbers[0]=100\n",
    "# Mutable - can change the value\n",
    "\n",
    "print(numbers)\n",
    "print(type(numbers))\n",
    "\n"
   ]
  },
  {
   "cell_type": "markdown",
   "metadata": {},
   "source": [
    "### Tuple\n",
    "\n",
    "An <u>immutable</u> list. It has no flexibility and less functionality but more efficiency. Notice that the tuple is an immutable type. Notice the `( )` round brackets."
   ]
  },
  {
   "cell_type": "code",
   "execution_count": 164,
   "metadata": {},
   "outputs": [
    {
     "data": {
      "text/plain": [
       "1"
      ]
     },
     "execution_count": 164,
     "metadata": {},
     "output_type": "execute_result"
    }
   ],
   "source": [
    "a = (1,2,3)\n",
    "\n",
    "a[0]"
   ]
  },
  {
   "cell_type": "code",
   "execution_count": 165,
   "metadata": {},
   "outputs": [
    {
     "name": "stdout",
     "output_type": "stream",
     "text": [
      "<class 'tuple'>\n"
     ]
    }
   ],
   "source": [
    "print(type(a))"
   ]
  },
  {
   "cell_type": "code",
   "execution_count": null,
   "metadata": {},
   "outputs": [],
   "source": []
  },
  {
   "cell_type": "markdown",
   "metadata": {},
   "source": [
    "Stay calm."
   ]
  },
  {
   "cell_type": "code",
   "execution_count": null,
   "metadata": {},
   "outputs": [],
   "source": [
    "a[0] =100 \n",
    "# immutable  - error when want to chg a single value\n"
   ]
  },
  {
   "cell_type": "markdown",
   "metadata": {},
   "source": [
    "Because a tuple is immutable you cannot assign an item to it."
   ]
  },
  {
   "cell_type": "markdown",
   "metadata": {},
   "source": [
    "### Dictionary\n",
    "\n",
    "A dictionary is a collection of key-value pairs. It is used to look up things and a very common used type. Notice the { } curly brackets and the \"key\": \"value\" notation. Notice the squared bracket for looking up."
   ]
  },
  {
   "cell_type": "code",
   "execution_count": 182,
   "metadata": {},
   "outputs": [
    {
     "data": {
      "text/plain": [
       "{'apple': 1.5, 'orange': 3.25}"
      ]
     },
     "execution_count": 182,
     "metadata": {},
     "output_type": "execute_result"
    }
   ],
   "source": [
    "prices = { \"apple\" : 1.5, \"orange\":3.25}\n",
    "prices"
   ]
  },
  {
   "cell_type": "code",
   "execution_count": 175,
   "metadata": {},
   "outputs": [
    {
     "data": {
      "text/plain": [
       "1.5"
      ]
     },
     "execution_count": 175,
     "metadata": {},
     "output_type": "execute_result"
    }
   ],
   "source": [
    "# if want to call dict, need to call using names instead of index\n",
    "\n",
    "prices[\"apple\"]"
   ]
  },
  {
   "cell_type": "code",
   "execution_count": 174,
   "metadata": {},
   "outputs": [
    {
     "ename": "KeyError",
     "evalue": "0",
     "output_type": "error",
     "traceback": [
      "\u001b[1;31m---------------------------------------------------------------------------\u001b[0m",
      "\u001b[1;31mKeyError\u001b[0m                                  Traceback (most recent call last)",
      "\u001b[1;32m<ipython-input-174-fdc43499bb9c>\u001b[0m in \u001b[0;36m<module>\u001b[1;34m\u001b[0m\n\u001b[1;32m----> 1\u001b[1;33m \u001b[0mprices\u001b[0m\u001b[1;33m[\u001b[0m\u001b[1;36m0\u001b[0m\u001b[1;33m]\u001b[0m\u001b[1;33m\u001b[0m\u001b[1;33m\u001b[0m\u001b[0m\n\u001b[0m",
      "\u001b[1;31mKeyError\u001b[0m: 0"
     ]
    }
   ],
   "source": [
    "prices[0]"
   ]
  },
  {
   "cell_type": "code",
   "execution_count": 180,
   "metadata": {},
   "outputs": [
    {
     "name": "stdout",
     "output_type": "stream",
     "text": [
      "dict_values([1.5, 3.25])\n",
      "dict_keys([1, 2])\n"
     ]
    }
   ],
   "source": [
    "print(prices.values())\n",
    "print(prices.keys())"
   ]
  },
  {
   "cell_type": "markdown",
   "metadata": {},
   "source": [
    "The dictionary is  mutable like a list. This is how we can update the dictionary with a new value."
   ]
  },
  {
   "cell_type": "code",
   "execution_count": 183,
   "metadata": {},
   "outputs": [
    {
     "name": "stdout",
     "output_type": "stream",
     "text": [
      "{'apple': 1.25, 'orange': 3.25, 'melon': 5.67}\n"
     ]
    }
   ],
   "source": [
    "prices.update({\"melon\":5.67,\"apple\":1.25})\n",
    "print(prices)"
   ]
  },
  {
   "cell_type": "code",
   "execution_count": 185,
   "metadata": {},
   "outputs": [
    {
     "name": "stdout",
     "output_type": "stream",
     "text": [
      "{'apple': 1.25, 'orange': 4, 'melon': 5.67, 'banana': 3.33}\n"
     ]
    }
   ],
   "source": [
    "prices[\"banana\" ] = 3.33\n",
    "prices[\"orange\" ] = 4\n",
    "print(prices)"
   ]
  },
  {
   "cell_type": "markdown",
   "metadata": {},
   "source": [
    "**Advantage for Dict** \n",
    "- can just call the key to find the value instead of using for loop"
   ]
  },
  {
   "cell_type": "markdown",
   "metadata": {},
   "source": [
    "**Variable type chg**\n",
    "- Can chg to other type of value"
   ]
  },
  {
   "cell_type": "code",
   "execution_count": 186,
   "metadata": {},
   "outputs": [
    {
     "data": {
      "text/plain": [
       "(1, 2, 3, 4)"
      ]
     },
     "execution_count": 186,
     "metadata": {},
     "output_type": "execute_result"
    }
   ],
   "source": [
    "numbers = [1,2,3,4]\n",
    "numbers = tuple(numbers)\n",
    "numbers"
   ]
  },
  {
   "cell_type": "code",
   "execution_count": 187,
   "metadata": {},
   "outputs": [
    {
     "data": {
      "text/plain": [
       "[1, 2, 3, 4]"
      ]
     },
     "execution_count": 187,
     "metadata": {},
     "output_type": "execute_result"
    }
   ],
   "source": [
    "numbers = list(numbers)\n",
    "numbers"
   ]
  },
  {
   "cell_type": "markdown",
   "metadata": {},
   "source": [
    "### None"
   ]
  },
  {
   "cell_type": "markdown",
   "metadata": {},
   "source": [
    "It is possible to assign an empty value to a variable. Or when you assign the output of a function that does not have an returned value to a variable the value will also be `None`."
   ]
  },
  {
   "cell_type": "code",
   "execution_count": 193,
   "metadata": {},
   "outputs": [],
   "source": [
    "a = None\n",
    "a"
   ]
  },
  {
   "cell_type": "code",
   "execution_count": 192,
   "metadata": {},
   "outputs": [
    {
     "name": "stdout",
     "output_type": "stream",
     "text": [
      "None\n"
     ]
    }
   ],
   "source": [
    "print(a)"
   ]
  },
  {
   "cell_type": "code",
   "execution_count": 194,
   "metadata": {},
   "outputs": [
    {
     "data": {
      "text/plain": [
       "NoneType"
      ]
     },
     "execution_count": 194,
     "metadata": {},
     "output_type": "execute_result"
    }
   ],
   "source": [
    "type(a)"
   ]
  },
  {
   "cell_type": "code",
   "execution_count": 197,
   "metadata": {},
   "outputs": [
    {
     "ename": "TypeError",
     "evalue": "unsupported operand type(s) for +: 'NoneType' and 'int'",
     "output_type": "error",
     "traceback": [
      "\u001b[1;31m---------------------------------------------------------------------------\u001b[0m",
      "\u001b[1;31mTypeError\u001b[0m                                 Traceback (most recent call last)",
      "\u001b[1;32m<ipython-input-197-d9ec9604c5bc>\u001b[0m in \u001b[0;36m<module>\u001b[1;34m\u001b[0m\n\u001b[0;32m      1\u001b[0m \u001b[1;31m# Why if our data have none, we need to resolve it\u001b[0m\u001b[1;33m\u001b[0m\u001b[1;33m\u001b[0m\u001b[1;33m\u001b[0m\u001b[0m\n\u001b[1;32m----> 2\u001b[1;33m \u001b[0ma\u001b[0m\u001b[1;33m+\u001b[0m\u001b[1;36m2\u001b[0m\u001b[1;33m\u001b[0m\u001b[1;33m\u001b[0m\u001b[0m\n\u001b[0m",
      "\u001b[1;31mTypeError\u001b[0m: unsupported operand type(s) for +: 'NoneType' and 'int'"
     ]
    }
   ],
   "source": [
    "# Why if our data have none, we need to resolve it (cant do calculation)\n",
    "\n",
    "a+2"
   ]
  },
  {
   "cell_type": "markdown",
   "metadata": {},
   "source": [
    "### Mutable and Immutable objects\n",
    "\n",
    "It is good to understand the difference between mutable and immutable objects. \n",
    "\n",
    "Mutable object can change. It means the value can change and the object still holds the same identity, which we can see with `id()`. \n",
    "\n",
    "Immutable objects cannot change. For an immutable object to change, the new value has to be assigned to a new object.\n",
    "\n",
    "Immutable objects: `int`, `str`, `tuple`\n",
    "\n",
    "Mutable objects: `list`, `dict`"
   ]
  },
  {
   "cell_type": "code",
   "execution_count": 199,
   "metadata": {},
   "outputs": [
    {
     "ename": "TypeError",
     "evalue": "'str' object does not support item assignment",
     "output_type": "error",
     "traceback": [
      "\u001b[1;31m---------------------------------------------------------------------------\u001b[0m",
      "\u001b[1;31mTypeError\u001b[0m                                 Traceback (most recent call last)",
      "\u001b[1;32m<ipython-input-199-d8d5697f976f>\u001b[0m in \u001b[0;36m<module>\u001b[1;34m\u001b[0m\n\u001b[0;32m      1\u001b[0m \u001b[0mgreeting\u001b[0m \u001b[1;33m=\u001b[0m \u001b[1;34m\"Hello\"\u001b[0m\u001b[1;33m\u001b[0m\u001b[1;33m\u001b[0m\u001b[0m\n\u001b[1;32m----> 2\u001b[1;33m \u001b[0mgreeting\u001b[0m\u001b[1;33m[\u001b[0m\u001b[1;36m0\u001b[0m\u001b[1;33m]\u001b[0m \u001b[1;33m=\u001b[0m \u001b[1;34m\"Y\"\u001b[0m\u001b[1;33m\u001b[0m\u001b[1;33m\u001b[0m\u001b[0m\n\u001b[0m",
      "\u001b[1;31mTypeError\u001b[0m: 'str' object does not support item assignment"
     ]
    }
   ],
   "source": [
    "# string is immutable\n",
    "\n",
    "greeting = \"Hello\"\n",
    "greeting[0] = \"Y\""
   ]
  },
  {
   "cell_type": "code",
   "execution_count": 201,
   "metadata": {},
   "outputs": [
    {
     "name": "stdout",
     "output_type": "stream",
     "text": [
      "[1, 2, 3] 2012519235016 140715462730128\n",
      "[100, 2, 3] 2012519235016 140715462733296\n"
     ]
    }
   ],
   "source": [
    "# ID when the value of a list is re-assigned\n",
    "\n",
    "a = [1,2,3]\n",
    "print(a,id(a),id(a[0]))\n",
    "\n",
    "a[0] = 100\n",
    "print(a,id(a),id(a[0]))"
   ]
  },
  {
   "cell_type": "markdown",
   "metadata": {},
   "source": [
    "See, <u>id stays the same</u> while the value has changed. This is possible because the list object is mutable."
   ]
  },
  {
   "cell_type": "markdown",
   "metadata": {},
   "source": [
    "### Avoid overwriting built-in function\n",
    "\n",
    "One mistake that one can make is to overwrite the built-in function. Let's see example below:\n"
   ]
  },
  {
   "cell_type": "code",
   "execution_count": 205,
   "metadata": {},
   "outputs": [],
   "source": [
    "# list = [1,2,3]"
   ]
  },
  {
   "cell_type": "markdown",
   "metadata": {},
   "source": [
    "Above, we created a variable called list. This is really bad as list() is a built-in function. Let's see what is \"list\" in our namespace."
   ]
  },
  {
   "cell_type": "code",
   "execution_count": 1,
   "metadata": {},
   "outputs": [
    {
     "name": "stdout",
     "output_type": "stream",
     "text": [
      "Interactive namespace is empty.\n"
     ]
    }
   ],
   "source": [
    "%whos"
   ]
  },
  {
   "cell_type": "code",
   "execution_count": 208,
   "metadata": {},
   "outputs": [
    {
     "ename": "TypeError",
     "evalue": "'list' object is not callable",
     "output_type": "error",
     "traceback": [
      "\u001b[1;31m---------------------------------------------------------------------------\u001b[0m",
      "\u001b[1;31mTypeError\u001b[0m                                 Traceback (most recent call last)",
      "\u001b[1;32m<ipython-input-208-3269108803f0>\u001b[0m in \u001b[0;36m<module>\u001b[1;34m\u001b[0m\n\u001b[1;32m----> 1\u001b[1;33m \u001b[0mlist\u001b[0m\u001b[1;33m(\u001b[0m\u001b[1;33m(\u001b[0m\u001b[1;36m1\u001b[0m\u001b[1;33m,\u001b[0m\u001b[1;36m2\u001b[0m\u001b[1;33m,\u001b[0m\u001b[1;36m3\u001b[0m\u001b[1;33m)\u001b[0m\u001b[1;33m)\u001b[0m\u001b[1;33m\u001b[0m\u001b[1;33m\u001b[0m\u001b[0m\n\u001b[0m",
      "\u001b[1;31mTypeError\u001b[0m: 'list' object is not callable"
     ]
    }
   ],
   "source": [
    "# The function is now not callable\n",
    "list((1,2,3))"
   ]
  },
  {
   "cell_type": "markdown",
   "metadata": {},
   "source": [
    "If you want to use `list()` function, you will get an error: \n",
    "> \"TypeError: 'list' object is not callable\".\n",
    "\n",
    "When the error says something is not callable it means that we try to use it as a function but it is not a function. In this case list is a list container we created and it overwrites the built-in function `list()`."
   ]
  },
  {
   "cell_type": "markdown",
   "metadata": {},
   "source": [
    "to resolve, \n",
    "- restart your kernel to reinstate the built-in `list()` function"
   ]
  },
  {
   "cell_type": "markdown",
   "metadata": {},
   "source": [
    "### Show types using a function and a loop"
   ]
  },
  {
   "cell_type": "markdown",
   "metadata": {},
   "source": [
    "Now let's print some info for a number of objects. Since we don't want to repeat ourselves we will use the convenience of a function and a for loop.\n",
    "\n",
    "Let's define a function that prints the value, id and type of an object given."
   ]
  },
  {
   "cell_type": "code",
   "execution_count": null,
   "metadata": {},
   "outputs": [],
   "source": [
    "### FUNCTION\n",
    "\n",
    "def function_name(argument):\n",
    "    statement\n",
    "    return result\n",
    "\n",
    "# to call\n",
    "function_name()"
   ]
  },
  {
   "cell_type": "code",
   "execution_count": 9,
   "metadata": {},
   "outputs": [
    {
     "name": "stdout",
     "output_type": "stream",
     "text": [
      "Value: (1, 2, 3), Type: <class 'tuple'>, Id: 1763629471128\n"
     ]
    }
   ],
   "source": [
    "# Function example\n",
    "\n",
    "def object_info(obj):\n",
    "    print(\"Value: {}, Type: {}, Id: {}\"\n",
    "         .format(obj,type(obj),id(obj)))\n",
    "    \n",
    "\n",
    "a=(1,2,3)\n",
    "object_info(a)"
   ]
  },
  {
   "cell_type": "code",
   "execution_count": null,
   "metadata": {},
   "outputs": [],
   "source": []
  },
  {
   "cell_type": "markdown",
   "metadata": {},
   "source": [
    "What did we do here?\n",
    "\n",
    "We have defined the function `object_info`. Notice the fat-green keyword `def`. Also notice the parameter `obj` and the indent. The code within the function is not executed yet, only when the function is called. Notice the function is a variable and object by itself and is now in our namespace."
   ]
  },
  {
   "cell_type": "code",
   "execution_count": 12,
   "metadata": {},
   "outputs": [
    {
     "name": "stdout",
     "output_type": "stream",
     "text": [
      "Value: 1, Type: <class 'int'>, Id: 140715462730128\n",
      "Value: 2.0, Type: <class 'float'>, Id: 1763629084240\n",
      "Value: Hello, Type: <class 'str'>, Id: 1763629678256\n",
      "Value: True, Type: <class 'bool'>, Id: 140715462207824\n",
      "Value: [1, 2, 3], Type: <class 'list'>, Id: 1763628694536\n",
      "Value: (1, 2, 3), Type: <class 'tuple'>, Id: 1763627942360\n",
      "Value: {'a': 1, 'b': 2}, Type: <class 'dict'>, Id: 1763629669576\n",
      "Value: None, Type: <class 'NoneType'>, Id: 140715462253792\n"
     ]
    }
   ],
   "source": [
    "objects = [1,2.0,\"Hello\",10>5,[1,2,3],(1,2,3),{\"a\":1,\"b\":2},None]\n",
    "\n",
    "for obj in objects:\n",
    "    object_info(obj)"
   ]
  },
  {
   "cell_type": "markdown",
   "metadata": {},
   "source": [
    "What did we do here?\n",
    "\n",
    "We made a list of objects in variable `objects`. In Python you can make a list with different object types.\n",
    "\n",
    "We loop over each object in the list and for each object we call the function `object_info` that prints out the info.\n",
    "\n"
   ]
  },
  {
   "cell_type": "code",
   "execution_count": 15,
   "metadata": {},
   "outputs": [
    {
     "name": "stdout",
     "output_type": "stream",
     "text": [
      "Value: 1, Type: <class 'int'>, Id: 140715462730128\n",
      "None\n"
     ]
    }
   ],
   "source": [
    "a = object_info(1)\n",
    "print(a)"
   ]
  },
  {
   "cell_type": "markdown",
   "metadata": {},
   "source": [
    "Function `object_info` is a void function. It means the function has no output, <u>no returned value.</u>\n",
    "\n",
    "We can also define a function with mutiple input parameters and a returned value.\n",
    "\n",
    "In this context we call `a` , `b` the input parameters of function `add` and we call `10,5` the arguments with which the function is called.\n"
   ]
  },
  {
   "cell_type": "code",
   "execution_count": 14,
   "metadata": {},
   "outputs": [
    {
     "name": "stdout",
     "output_type": "stream",
     "text": [
      "15\n",
      "108\n",
      "8\n"
     ]
    }
   ],
   "source": [
    "def add(a,b):\n",
    "    return a+b\n",
    "\n",
    "print(add(10,5))\n",
    "print(add(100,8))\n",
    "\n",
    "c=add(3,5)\n",
    "print(c)"
   ]
  },
  {
   "cell_type": "markdown",
   "metadata": {},
   "source": [
    "### Getting help on objects"
   ]
  },
  {
   "cell_type": "markdown",
   "metadata": {},
   "source": [
    "As a programmer you don't have know all the functionalities of each object by heart. You just have to know how to look it up. There are these built-in functions that provide you with information whenever needed.\n",
    "\n",
    "`help()`for documentation\n",
    "\n",
    "`dir()` for the available methods\n",
    "\n",
    "`isinstance()` to check if your object is an instance of a class"
   ]
  },
  {
   "cell_type": "code",
   "execution_count": 25,
   "metadata": {},
   "outputs": [
    {
     "name": "stdout",
     "output_type": "stream",
     "text": [
      "No Python documentation found for 'Python is nice'.\n",
      "Use help() to get the interactive help utility.\n",
      "Use help(str) for help on the str class.\n",
      "\n"
     ]
    }
   ],
   "source": [
    "text = \"Python is nice\"\n",
    "help(text)\n",
    "# can also press shift+tab"
   ]
  },
  {
   "cell_type": "code",
   "execution_count": 18,
   "metadata": {},
   "outputs": [
    {
     "name": "stdout",
     "output_type": "stream",
     "text": [
      "Help on class str in module builtins:\n",
      "\n",
      "class str(object)\n",
      " |  str(object='') -> str\n",
      " |  str(bytes_or_buffer[, encoding[, errors]]) -> str\n",
      " |  \n",
      " |  Create a new string object from the given object. If encoding or\n",
      " |  errors is specified, then the object must expose a data buffer\n",
      " |  that will be decoded using the given encoding and error handler.\n",
      " |  Otherwise, returns the result of object.__str__() (if defined)\n",
      " |  or repr(object).\n",
      " |  encoding defaults to sys.getdefaultencoding().\n",
      " |  errors defaults to 'strict'.\n",
      " |  \n",
      " |  Methods defined here:\n",
      " |  \n",
      " |  __add__(self, value, /)\n",
      " |      Return self+value.\n",
      " |  \n",
      " |  __contains__(self, key, /)\n",
      " |      Return key in self.\n",
      " |  \n",
      " |  __eq__(self, value, /)\n",
      " |      Return self==value.\n",
      " |  \n",
      " |  __format__(self, format_spec, /)\n",
      " |      Return a formatted version of the string as described by format_spec.\n",
      " |  \n",
      " |  __ge__(self, value, /)\n",
      " |      Return self>=value.\n",
      " |  \n",
      " |  __getattribute__(self, name, /)\n",
      " |      Return getattr(self, name).\n",
      " |  \n",
      " |  __getitem__(self, key, /)\n",
      " |      Return self[key].\n",
      " |  \n",
      " |  __getnewargs__(...)\n",
      " |  \n",
      " |  __gt__(self, value, /)\n",
      " |      Return self>value.\n",
      " |  \n",
      " |  __hash__(self, /)\n",
      " |      Return hash(self).\n",
      " |  \n",
      " |  __iter__(self, /)\n",
      " |      Implement iter(self).\n",
      " |  \n",
      " |  __le__(self, value, /)\n",
      " |      Return self<=value.\n",
      " |  \n",
      " |  __len__(self, /)\n",
      " |      Return len(self).\n",
      " |  \n",
      " |  __lt__(self, value, /)\n",
      " |      Return self<value.\n",
      " |  \n",
      " |  __mod__(self, value, /)\n",
      " |      Return self%value.\n",
      " |  \n",
      " |  __mul__(self, value, /)\n",
      " |      Return self*value.\n",
      " |  \n",
      " |  __ne__(self, value, /)\n",
      " |      Return self!=value.\n",
      " |  \n",
      " |  __repr__(self, /)\n",
      " |      Return repr(self).\n",
      " |  \n",
      " |  __rmod__(self, value, /)\n",
      " |      Return value%self.\n",
      " |  \n",
      " |  __rmul__(self, value, /)\n",
      " |      Return value*self.\n",
      " |  \n",
      " |  __sizeof__(self, /)\n",
      " |      Return the size of the string in memory, in bytes.\n",
      " |  \n",
      " |  __str__(self, /)\n",
      " |      Return str(self).\n",
      " |  \n",
      " |  capitalize(self, /)\n",
      " |      Return a capitalized version of the string.\n",
      " |      \n",
      " |      More specifically, make the first character have upper case and the rest lower\n",
      " |      case.\n",
      " |  \n",
      " |  casefold(self, /)\n",
      " |      Return a version of the string suitable for caseless comparisons.\n",
      " |  \n",
      " |  center(self, width, fillchar=' ', /)\n",
      " |      Return a centered string of length width.\n",
      " |      \n",
      " |      Padding is done using the specified fill character (default is a space).\n",
      " |  \n",
      " |  count(...)\n",
      " |      S.count(sub[, start[, end]]) -> int\n",
      " |      \n",
      " |      Return the number of non-overlapping occurrences of substring sub in\n",
      " |      string S[start:end].  Optional arguments start and end are\n",
      " |      interpreted as in slice notation.\n",
      " |  \n",
      " |  encode(self, /, encoding='utf-8', errors='strict')\n",
      " |      Encode the string using the codec registered for encoding.\n",
      " |      \n",
      " |      encoding\n",
      " |        The encoding in which to encode the string.\n",
      " |      errors\n",
      " |        The error handling scheme to use for encoding errors.\n",
      " |        The default is 'strict' meaning that encoding errors raise a\n",
      " |        UnicodeEncodeError.  Other possible values are 'ignore', 'replace' and\n",
      " |        'xmlcharrefreplace' as well as any other name registered with\n",
      " |        codecs.register_error that can handle UnicodeEncodeErrors.\n",
      " |  \n",
      " |  endswith(...)\n",
      " |      S.endswith(suffix[, start[, end]]) -> bool\n",
      " |      \n",
      " |      Return True if S ends with the specified suffix, False otherwise.\n",
      " |      With optional start, test S beginning at that position.\n",
      " |      With optional end, stop comparing S at that position.\n",
      " |      suffix can also be a tuple of strings to try.\n",
      " |  \n",
      " |  expandtabs(self, /, tabsize=8)\n",
      " |      Return a copy where all tab characters are expanded using spaces.\n",
      " |      \n",
      " |      If tabsize is not given, a tab size of 8 characters is assumed.\n",
      " |  \n",
      " |  find(...)\n",
      " |      S.find(sub[, start[, end]]) -> int\n",
      " |      \n",
      " |      Return the lowest index in S where substring sub is found,\n",
      " |      such that sub is contained within S[start:end].  Optional\n",
      " |      arguments start and end are interpreted as in slice notation.\n",
      " |      \n",
      " |      Return -1 on failure.\n",
      " |  \n",
      " |  format(...)\n",
      " |      S.format(*args, **kwargs) -> str\n",
      " |      \n",
      " |      Return a formatted version of S, using substitutions from args and kwargs.\n",
      " |      The substitutions are identified by braces ('{' and '}').\n",
      " |  \n",
      " |  format_map(...)\n",
      " |      S.format_map(mapping) -> str\n",
      " |      \n",
      " |      Return a formatted version of S, using substitutions from mapping.\n",
      " |      The substitutions are identified by braces ('{' and '}').\n",
      " |  \n",
      " |  index(...)\n",
      " |      S.index(sub[, start[, end]]) -> int\n",
      " |      \n",
      " |      Return the lowest index in S where substring sub is found, \n",
      " |      such that sub is contained within S[start:end].  Optional\n",
      " |      arguments start and end are interpreted as in slice notation.\n",
      " |      \n",
      " |      Raises ValueError when the substring is not found.\n",
      " |  \n",
      " |  isalnum(self, /)\n",
      " |      Return True if the string is an alpha-numeric string, False otherwise.\n",
      " |      \n",
      " |      A string is alpha-numeric if all characters in the string are alpha-numeric and\n",
      " |      there is at least one character in the string.\n",
      " |  \n",
      " |  isalpha(self, /)\n",
      " |      Return True if the string is an alphabetic string, False otherwise.\n",
      " |      \n",
      " |      A string is alphabetic if all characters in the string are alphabetic and there\n",
      " |      is at least one character in the string.\n",
      " |  \n",
      " |  isascii(self, /)\n",
      " |      Return True if all characters in the string are ASCII, False otherwise.\n",
      " |      \n",
      " |      ASCII characters have code points in the range U+0000-U+007F.\n",
      " |      Empty string is ASCII too.\n",
      " |  \n",
      " |  isdecimal(self, /)\n",
      " |      Return True if the string is a decimal string, False otherwise.\n",
      " |      \n",
      " |      A string is a decimal string if all characters in the string are decimal and\n",
      " |      there is at least one character in the string.\n",
      " |  \n",
      " |  isdigit(self, /)\n",
      " |      Return True if the string is a digit string, False otherwise.\n",
      " |      \n",
      " |      A string is a digit string if all characters in the string are digits and there\n",
      " |      is at least one character in the string.\n",
      " |  \n",
      " |  isidentifier(self, /)\n",
      " |      Return True if the string is a valid Python identifier, False otherwise.\n",
      " |      \n",
      " |      Use keyword.iskeyword() to test for reserved identifiers such as \"def\" and\n",
      " |      \"class\".\n",
      " |  \n",
      " |  islower(self, /)\n",
      " |      Return True if the string is a lowercase string, False otherwise.\n",
      " |      \n",
      " |      A string is lowercase if all cased characters in the string are lowercase and\n",
      " |      there is at least one cased character in the string.\n",
      " |  \n",
      " |  isnumeric(self, /)\n",
      " |      Return True if the string is a numeric string, False otherwise.\n",
      " |      \n",
      " |      A string is numeric if all characters in the string are numeric and there is at\n",
      " |      least one character in the string.\n",
      " |  \n",
      " |  isprintable(self, /)\n",
      " |      Return True if the string is printable, False otherwise.\n",
      " |      \n",
      " |      A string is printable if all of its characters are considered printable in\n",
      " |      repr() or if it is empty.\n",
      " |  \n",
      " |  isspace(self, /)\n",
      " |      Return True if the string is a whitespace string, False otherwise.\n",
      " |      \n",
      " |      A string is whitespace if all characters in the string are whitespace and there\n",
      " |      is at least one character in the string.\n",
      " |  \n",
      " |  istitle(self, /)\n",
      " |      Return True if the string is a title-cased string, False otherwise.\n",
      " |      \n",
      " |      In a title-cased string, upper- and title-case characters may only\n",
      " |      follow uncased characters and lowercase characters only cased ones.\n",
      " |  \n",
      " |  isupper(self, /)\n",
      " |      Return True if the string is an uppercase string, False otherwise.\n",
      " |      \n",
      " |      A string is uppercase if all cased characters in the string are uppercase and\n",
      " |      there is at least one cased character in the string.\n",
      " |  \n",
      " |  join(self, iterable, /)\n",
      " |      Concatenate any number of strings.\n",
      " |      \n",
      " |      The string whose method is called is inserted in between each given string.\n",
      " |      The result is returned as a new string.\n",
      " |      \n",
      " |      Example: '.'.join(['ab', 'pq', 'rs']) -> 'ab.pq.rs'\n",
      " |  \n",
      " |  ljust(self, width, fillchar=' ', /)\n",
      " |      Return a left-justified string of length width.\n",
      " |      \n",
      " |      Padding is done using the specified fill character (default is a space).\n",
      " |  \n",
      " |  lower(self, /)\n",
      " |      Return a copy of the string converted to lowercase.\n",
      " |  \n",
      " |  lstrip(self, chars=None, /)\n",
      " |      Return a copy of the string with leading whitespace removed.\n",
      " |      \n",
      " |      If chars is given and not None, remove characters in chars instead.\n",
      " |  \n",
      " |  partition(self, sep, /)\n",
      " |      Partition the string into three parts using the given separator.\n",
      " |      \n",
      " |      This will search for the separator in the string.  If the separator is found,\n",
      " |      returns a 3-tuple containing the part before the separator, the separator\n",
      " |      itself, and the part after it.\n",
      " |      \n",
      " |      If the separator is not found, returns a 3-tuple containing the original string\n",
      " |      and two empty strings.\n",
      " |  \n",
      " |  replace(self, old, new, count=-1, /)\n",
      " |      Return a copy with all occurrences of substring old replaced by new.\n",
      " |      \n",
      " |        count\n",
      " |          Maximum number of occurrences to replace.\n",
      " |          -1 (the default value) means replace all occurrences.\n",
      " |      \n",
      " |      If the optional argument count is given, only the first count occurrences are\n",
      " |      replaced.\n",
      " |  \n",
      " |  rfind(...)\n",
      " |      S.rfind(sub[, start[, end]]) -> int\n",
      " |      \n",
      " |      Return the highest index in S where substring sub is found,\n",
      " |      such that sub is contained within S[start:end].  Optional\n",
      " |      arguments start and end are interpreted as in slice notation.\n",
      " |      \n",
      " |      Return -1 on failure.\n",
      " |  \n",
      " |  rindex(...)\n",
      " |      S.rindex(sub[, start[, end]]) -> int\n",
      " |      \n",
      " |      Return the highest index in S where substring sub is found,\n",
      " |      such that sub is contained within S[start:end].  Optional\n",
      " |      arguments start and end are interpreted as in slice notation.\n",
      " |      \n",
      " |      Raises ValueError when the substring is not found.\n",
      " |  \n",
      " |  rjust(self, width, fillchar=' ', /)\n",
      " |      Return a right-justified string of length width.\n",
      " |      \n",
      " |      Padding is done using the specified fill character (default is a space).\n",
      " |  \n",
      " |  rpartition(self, sep, /)\n",
      " |      Partition the string into three parts using the given separator.\n",
      " |      \n",
      " |      This will search for the separator in the string, starting at the end. If\n",
      " |      the separator is found, returns a 3-tuple containing the part before the\n",
      " |      separator, the separator itself, and the part after it.\n",
      " |      \n",
      " |      If the separator is not found, returns a 3-tuple containing two empty strings\n",
      " |      and the original string.\n",
      " |  \n",
      " |  rsplit(self, /, sep=None, maxsplit=-1)\n",
      " |      Return a list of the words in the string, using sep as the delimiter string.\n",
      " |      \n",
      " |        sep\n",
      " |          The delimiter according which to split the string.\n",
      " |          None (the default value) means split according to any whitespace,\n",
      " |          and discard empty strings from the result.\n",
      " |        maxsplit\n",
      " |          Maximum number of splits to do.\n",
      " |          -1 (the default value) means no limit.\n",
      " |      \n",
      " |      Splits are done starting at the end of the string and working to the front.\n",
      " |  \n",
      " |  rstrip(self, chars=None, /)\n",
      " |      Return a copy of the string with trailing whitespace removed.\n",
      " |      \n",
      " |      If chars is given and not None, remove characters in chars instead.\n",
      " |  \n",
      " |  split(self, /, sep=None, maxsplit=-1)\n",
      " |      Return a list of the words in the string, using sep as the delimiter string.\n",
      " |      \n",
      " |      sep\n",
      " |        The delimiter according which to split the string.\n",
      " |        None (the default value) means split according to any whitespace,\n",
      " |        and discard empty strings from the result.\n",
      " |      maxsplit\n",
      " |        Maximum number of splits to do.\n",
      " |        -1 (the default value) means no limit.\n",
      " |  \n",
      " |  splitlines(self, /, keepends=False)\n",
      " |      Return a list of the lines in the string, breaking at line boundaries.\n",
      " |      \n",
      " |      Line breaks are not included in the resulting list unless keepends is given and\n",
      " |      true.\n",
      " |  \n",
      " |  startswith(...)\n",
      " |      S.startswith(prefix[, start[, end]]) -> bool\n",
      " |      \n",
      " |      Return True if S starts with the specified prefix, False otherwise.\n",
      " |      With optional start, test S beginning at that position.\n",
      " |      With optional end, stop comparing S at that position.\n",
      " |      prefix can also be a tuple of strings to try.\n",
      " |  \n",
      " |  strip(self, chars=None, /)\n",
      " |      Return a copy of the string with leading and trailing whitespace remove.\n",
      " |      \n",
      " |      If chars is given and not None, remove characters in chars instead.\n",
      " |  \n",
      " |  swapcase(self, /)\n",
      " |      Convert uppercase characters to lowercase and lowercase characters to uppercase.\n",
      " |  \n",
      " |  title(self, /)\n",
      " |      Return a version of the string where each word is titlecased.\n",
      " |      \n",
      " |      More specifically, words start with uppercased characters and all remaining\n",
      " |      cased characters have lower case.\n",
      " |  \n",
      " |  translate(self, table, /)\n",
      " |      Replace each character in the string using the given translation table.\n",
      " |      \n",
      " |        table\n",
      " |          Translation table, which must be a mapping of Unicode ordinals to\n",
      " |          Unicode ordinals, strings, or None.\n",
      " |      \n",
      " |      The table must implement lookup/indexing via __getitem__, for instance a\n",
      " |      dictionary or list.  If this operation raises LookupError, the character is\n",
      " |      left untouched.  Characters mapped to None are deleted.\n",
      " |  \n",
      " |  upper(self, /)\n",
      " |      Return a copy of the string converted to uppercase.\n",
      " |  \n",
      " |  zfill(self, width, /)\n",
      " |      Pad a numeric string with zeros on the left, to fill a field of the given width.\n",
      " |      \n",
      " |      The string is never truncated.\n",
      " |  \n",
      " |  ----------------------------------------------------------------------\n",
      " |  Static methods defined here:\n",
      " |  \n",
      " |  __new__(*args, **kwargs) from builtins.type\n",
      " |      Create and return a new object.  See help(type) for accurate signature.\n",
      " |  \n",
      " |  maketrans(x, y=None, z=None, /)\n",
      " |      Return a translation table usable for str.translate().\n",
      " |      \n",
      " |      If there is only one argument, it must be a dictionary mapping Unicode\n",
      " |      ordinals (integers) or characters to Unicode ordinals, strings or None.\n",
      " |      Character keys will be then converted to ordinals.\n",
      " |      If there are two arguments, they must be strings of equal length, and\n",
      " |      in the resulting dictionary, each character in x will be mapped to the\n",
      " |      character at the same position in y. If there is a third argument, it\n",
      " |      must be a string, whose characters will be mapped to None in the result.\n",
      "\n"
     ]
    }
   ],
   "source": [
    "help(str)"
   ]
  },
  {
   "cell_type": "markdown",
   "metadata": {},
   "source": [
    "When you need certain string functionalities you can read through them."
   ]
  },
  {
   "cell_type": "code",
   "execution_count": 19,
   "metadata": {},
   "outputs": [
    {
     "data": {
      "text/plain": [
       "'python is nice'"
      ]
     },
     "execution_count": 19,
     "metadata": {},
     "output_type": "execute_result"
    }
   ],
   "source": [
    "text"
   ]
  },
  {
   "cell_type": "markdown",
   "metadata": {},
   "source": [
    "Let's say we want to determine if the string text starts with string 'Python'. \n",
    "\n",
    "We can use the dir() built-in function to list available methods. "
   ]
  },
  {
   "cell_type": "code",
   "execution_count": 20,
   "metadata": {},
   "outputs": [
    {
     "data": {
      "text/plain": [
       "['__add__',\n",
       " '__class__',\n",
       " '__contains__',\n",
       " '__delattr__',\n",
       " '__dir__',\n",
       " '__doc__',\n",
       " '__eq__',\n",
       " '__format__',\n",
       " '__ge__',\n",
       " '__getattribute__',\n",
       " '__getitem__',\n",
       " '__getnewargs__',\n",
       " '__gt__',\n",
       " '__hash__',\n",
       " '__init__',\n",
       " '__init_subclass__',\n",
       " '__iter__',\n",
       " '__le__',\n",
       " '__len__',\n",
       " '__lt__',\n",
       " '__mod__',\n",
       " '__mul__',\n",
       " '__ne__',\n",
       " '__new__',\n",
       " '__reduce__',\n",
       " '__reduce_ex__',\n",
       " '__repr__',\n",
       " '__rmod__',\n",
       " '__rmul__',\n",
       " '__setattr__',\n",
       " '__sizeof__',\n",
       " '__str__',\n",
       " '__subclasshook__',\n",
       " 'capitalize',\n",
       " 'casefold',\n",
       " 'center',\n",
       " 'count',\n",
       " 'encode',\n",
       " 'endswith',\n",
       " 'expandtabs',\n",
       " 'find',\n",
       " 'format',\n",
       " 'format_map',\n",
       " 'index',\n",
       " 'isalnum',\n",
       " 'isalpha',\n",
       " 'isascii',\n",
       " 'isdecimal',\n",
       " 'isdigit',\n",
       " 'isidentifier',\n",
       " 'islower',\n",
       " 'isnumeric',\n",
       " 'isprintable',\n",
       " 'isspace',\n",
       " 'istitle',\n",
       " 'isupper',\n",
       " 'join',\n",
       " 'ljust',\n",
       " 'lower',\n",
       " 'lstrip',\n",
       " 'maketrans',\n",
       " 'partition',\n",
       " 'replace',\n",
       " 'rfind',\n",
       " 'rindex',\n",
       " 'rjust',\n",
       " 'rpartition',\n",
       " 'rsplit',\n",
       " 'rstrip',\n",
       " 'split',\n",
       " 'splitlines',\n",
       " 'startswith',\n",
       " 'strip',\n",
       " 'swapcase',\n",
       " 'title',\n",
       " 'translate',\n",
       " 'upper',\n",
       " 'zfill']"
      ]
     },
     "execution_count": 20,
     "metadata": {},
     "output_type": "execute_result"
    }
   ],
   "source": [
    "dir(text)"
   ]
  },
  {
   "cell_type": "markdown",
   "metadata": {},
   "source": [
    "**Question:** Which function can help us to see if text starts with \"Python\"\n",
    "<br>\n",
    "**Answer:**"
   ]
  },
  {
   "cell_type": "markdown",
   "metadata": {},
   "source": [
    "Now let's get a description on that method."
   ]
  },
  {
   "cell_type": "code",
   "execution_count": 34,
   "metadata": {},
   "outputs": [
    {
     "name": "stdout",
     "output_type": "stream",
     "text": [
      "Help on built-in function startswith:\n",
      "\n",
      "startswith(...) method of builtins.str instance\n",
      "    S.startswith(prefix[, start[, end]]) -> bool\n",
      "    \n",
      "    Return True if S starts with the specified prefix, False otherwise.\n",
      "    With optional start, test S beginning at that position.\n",
      "    With optional end, stop comparing S at that position.\n",
      "    prefix can also be a tuple of strings to try.\n",
      "\n"
     ]
    }
   ],
   "source": [
    "help(text.startswith)"
   ]
  },
  {
   "cell_type": "code",
   "execution_count": 26,
   "metadata": {},
   "outputs": [
    {
     "data": {
      "text/plain": [
       "True"
      ]
     },
     "execution_count": 26,
     "metadata": {},
     "output_type": "execute_result"
    }
   ],
   "source": [
    "text.startswith(\"Python\")"
   ]
  },
  {
   "cell_type": "code",
   "execution_count": 27,
   "metadata": {},
   "outputs": [
    {
     "data": {
      "text/plain": [
       "True"
      ]
     },
     "execution_count": 27,
     "metadata": {},
     "output_type": "execute_result"
    }
   ],
   "source": [
    "text.endswith(\"nice\")"
   ]
  },
  {
   "cell_type": "code",
   "execution_count": 28,
   "metadata": {},
   "outputs": [
    {
     "data": {
      "text/plain": [
       "2"
      ]
     },
     "execution_count": 28,
     "metadata": {},
     "output_type": "execute_result"
    }
   ],
   "source": [
    "text.count(\"i\")"
   ]
  },
  {
   "cell_type": "markdown",
   "metadata": {},
   "source": [
    "We can check wheter variable `text` is a string."
   ]
  },
  {
   "cell_type": "code",
   "execution_count": 29,
   "metadata": {},
   "outputs": [
    {
     "data": {
      "text/plain": [
       "True"
      ]
     },
     "execution_count": 29,
     "metadata": {},
     "output_type": "execute_result"
    }
   ],
   "source": [
    "isinstance(text,str)"
   ]
  },
  {
   "cell_type": "markdown",
   "metadata": {},
   "source": [
    "We can also check if an object is either `int` or `float`."
   ]
  },
  {
   "cell_type": "code",
   "execution_count": 31,
   "metadata": {},
   "outputs": [
    {
     "name": "stdout",
     "output_type": "stream",
     "text": [
      "Help on built-in function isinstance in module builtins:\n",
      "\n",
      "isinstance(obj, class_or_tuple, /)\n",
      "    Return whether an object is an instance of a class or of a subclass thereof.\n",
      "    \n",
      "    A tuple, as in ``isinstance(x, (A, B, ...))``, may be given as the target to\n",
      "    check against. This is equivalent to ``isinstance(x, A) or isinstance(x, B)\n",
      "    or ...`` etc.\n",
      "\n"
     ]
    }
   ],
   "source": [
    "help(isinstance)"
   ]
  },
  {
   "cell_type": "code",
   "execution_count": 33,
   "metadata": {},
   "outputs": [
    {
     "name": "stdout",
     "output_type": "stream",
     "text": [
      "True\n",
      "False\n"
     ]
    }
   ],
   "source": [
    "number = 10.0\n",
    "print(isinstance(number,(int,float)))\n",
    "print(isinstance(text,(int,float)))"
   ]
  },
  {
   "cell_type": "markdown",
   "metadata": {
    "toc-hr-collapsed": false
   },
   "source": [
    "### Summary Objects"
   ]
  },
  {
   "cell_type": "markdown",
   "metadata": {},
   "source": [
    "> #### object\n",
    "Everything in Python is objects. An object has a unique id() and a value. The value always has type(). You can check whether the object is of a certain type with isinstance(). There is help() for document and dir() for a list of the methods of the object.\n",
    "```python\n",
    "text = \"hello\"\n",
    "id(text)\n",
    "type(text)\n",
    "isinstance(text, str)\n",
    "help(str)\n",
    "dir(text)\n",
    "```"
   ]
  },
  {
   "cell_type": "markdown",
   "metadata": {},
   "source": [
    "> #### function\n",
    "A block of code that can be reused. The code inside the function is execute when the function is called. A function can take input arguments and can return a value.\n",
    "```python\n",
    "def greet(name):\n",
    "    print(\"Hello there:\", name)\n",
    "greet(\"Jeremy\")\n",
    "```\n",
    "\n",
    ">```python\n",
    "def add_numbers(a, b):\n",
    "    return a+b\n",
    "add_numbers(a,b)\n",
    "```"
   ]
  },
  {
   "cell_type": "markdown",
   "metadata": {},
   "source": [
    "> #### method\n",
    "Function within an object/class. To use it just use it after the `.`\n",
    "```python\n",
    "str.format\n",
    "```"
   ]
  },
  {
   "cell_type": "markdown",
   "metadata": {},
   "source": [
    "> #### int\n",
    "Integer. Round number.\n",
    "```python\n",
    "number = 10\n",
    "```"
   ]
  },
  {
   "cell_type": "markdown",
   "metadata": {},
   "source": [
    "> #### float\n",
    "Float. Decimal number.\n",
    "```python\n",
    "number = 10.1234\n",
    "round(number)\n",
    "round(number, 2)\n",
    "```"
   ]
  },
  {
   "cell_type": "markdown",
   "metadata": {},
   "source": [
    "> #### str\n",
    "String. A sequence of characters. The str class provides many methods with functionalities. The str is an immutable object.\n",
    "```python\n",
    "text = \"Python is nice.\"\n",
    "text[0]\n",
    "text[-3:]\n",
    "\"yes\"+\"no\"\n",
    "\"Name: {}, Grade: {}\".format(\"Jeremy\", 10)\n",
    "text.startswith(\"Python\")\n",
    "\"yth\" in text\n",
    "```"
   ]
  },
  {
   "cell_type": "markdown",
   "metadata": {},
   "source": [
    "> #### bool\n",
    "Boolean. Either True or False. The outcome of a condition.\n",
    "```python\n",
    "True\n",
    "False\n",
    "10 != 15\n",
    "10 > 5 and 10 > 12\n",
    "10 > 5 or 10 > 12\n",
    "not 10 > 5\n",
    "```"
   ]
  },
  {
   "cell_type": "markdown",
   "metadata": {},
   "source": [
    "> #### list\n",
    "List. A sequence of items. The str class provides many methods with functionalities. The list is a mutable object.\n",
    "```python\n",
    "numbers = [1,2,3,4]\n",
    "numbers[0]\n",
    "numbers[-1]\n",
    "numbers[0] = 100\n",
    "```"
   ]
  },
  {
   "cell_type": "markdown",
   "metadata": {},
   "source": [
    "> #### tuple\n",
    "Tuple. A sequence of items. The tuple is an immutable object. It has no flexibility and less functionality than a list but it is more efficient.\n",
    "```python\n",
    "numbers = (1,2,3)\n",
    "numbers[0]\n",
    "numbers[-1]\n",
    "```"
   ]
  },
  {
   "cell_type": "markdown",
   "metadata": {},
   "source": [
    "> #### dict\n",
    "Dictionary. A collection of key-value pairs. Used to look up things. The dict class provides many functionalities. The dict is a mutable object.\n",
    "```python\n",
    "prices = {\"apple\": 1.5, \"orange\":3.5, \"banana\":2.5}\n",
    "prices[\"orange\"]\n",
    "```"
   ]
  },
  {
   "cell_type": "markdown",
   "metadata": {},
   "source": [
    "> #### None\n",
    "NoneType. An empty value. You can initaliaze a variable with a None value.\n",
    "```python\n",
    "your_var = None\n",
    "```"
   ]
  },
  {
   "cell_type": "markdown",
   "metadata": {
    "toc-hr-collapsed": false
   },
   "source": [
    "### RUN ME\n",
    "\n",
    "Please run the below code snippet. It is required for running tests for your solution."
   ]
  },
  {
   "cell_type": "code",
   "execution_count": 37,
   "metadata": {},
   "outputs": [],
   "source": [
    "def test(got, expected):\n",
    "    if got == expected:\n",
    "        prefix = ' OK '\n",
    "    else:\n",
    "        prefix = '  FAIL '\n",
    "    print(('%s got: %s expected: %s' % (prefix, repr(got), repr(expected))))"
   ]
  },
  {
   "cell_type": "code",
   "execution_count": 38,
   "metadata": {},
   "outputs": [
    {
     "name": "stdout",
     "output_type": "stream",
     "text": [
      "  FAIL  got: 'a' expected: 'ab'\n",
      " OK  got: 'a' expected: 'a'\n"
     ]
    }
   ],
   "source": [
    "test('a', 'ab')\n",
    "test('a', 'a')"
   ]
  },
  {
   "cell_type": "markdown",
   "metadata": {
    "toc-hr-collapsed": false
   },
   "source": [
    "### Practice Exercise together"
   ]
  },
  {
   "cell_type": "markdown",
   "metadata": {},
   "source": [
    "#### Practice Exercise 1 - Starts with B\n",
    "\n",
    "Determine if a string starts with \"B\" and return True/False."
   ]
  },
  {
   "cell_type": "code",
   "execution_count": 41,
   "metadata": {},
   "outputs": [
    {
     "name": "stdout",
     "output_type": "stream",
     "text": [
      "starts_with_b\n",
      " OK  got: True expected: True\n",
      " OK  got: False expected: False\n"
     ]
    }
   ],
   "source": [
    "def starts_with_B(text):\n",
    "    ## Your code\n",
    "    \n",
    "print(\"starts_with_b\")\n",
    "test(starts_with_B(\"Boyce\"), True)\n",
    "test(starts_with_B(\"Joyce\"), False)"
   ]
  },
  {
   "cell_type": "markdown",
   "metadata": {},
   "source": [
    "Here is a tip you may use.\n",
    "\n",
    "Sometimes it is useful to solve the problem first in a separate cell and then fill it into the function.\n",
    "\n",
    "- make a variable called text and fill in for example `Boyce`\n",
    "- check if `Boyce` starts with `B`\n",
    "- if that works fill in the function\n",
    "- make sure the tests work to succeed the exercise"
   ]
  },
  {
   "cell_type": "code",
   "execution_count": 42,
   "metadata": {},
   "outputs": [
    {
     "data": {
      "text/plain": [
       "True"
      ]
     },
     "execution_count": 42,
     "metadata": {},
     "output_type": "execute_result"
    }
   ],
   "source": [
    "text = \"Boyce\"\n",
    "text.lower().startswith(\"b\")"
   ]
  },
  {
   "cell_type": "markdown",
   "metadata": {},
   "source": [
    "Now we can fill in the function above so that the tests run successfully."
   ]
  },
  {
   "cell_type": "code",
   "execution_count": 43,
   "metadata": {},
   "outputs": [
    {
     "name": "stdout",
     "output_type": "stream",
     "text": [
      "starts_with_b\n",
      " OK  got: True expected: True\n",
      " OK  got: False expected: False\n"
     ]
    }
   ],
   "source": [
    "def starts_with_B(text):\n",
    "    return text.lower().startswith(\"b\")\n",
    "    \n",
    "print(\"starts_with_b\")\n",
    "test(starts_with_B(\"Boyce\"), True)\n",
    "test(starts_with_B(\"Joyce\"), False)"
   ]
  },
  {
   "cell_type": "markdown",
   "metadata": {
    "toc-hr-collapsed": false
   },
   "source": [
    "### Exercises"
   ]
  },
  {
   "cell_type": "markdown",
   "metadata": {},
   "source": [
    "#### Exercise 1 - My name is\n",
    "\n",
    "Return a formatted string that says `My name is [name]`"
   ]
  },
  {
   "cell_type": "code",
   "execution_count": null,
   "metadata": {},
   "outputs": [],
   "source": [
    "def show_name(name):\n",
    "    ## your code\n",
    "\n",
    "print(\"my_name_is\")\n",
    "test(show_name(\"Ting\"), \"My name is Ting\")\n",
    "test(show_name(\"Chong\"), \"My name is Chong\")"
   ]
  },
  {
   "cell_type": "code",
   "execution_count": 46,
   "metadata": {},
   "outputs": [
    {
     "name": "stdout",
     "output_type": "stream",
     "text": [
      "my_name_is\n",
      " OK  got: 'My name is Ting' expected: 'My name is Ting'\n",
      " OK  got: 'My name is Chong' expected: 'My name is Chong'\n"
     ]
    }
   ],
   "source": [
    "# Nik Faiz\n",
    "def show_name(name):\n",
    "    return  \"My name is \"+ name\n",
    "\n",
    "print(\"my_name_is\")\n",
    "test(show_name(\"Ting\"), \"My name is Ting\")\n",
    "test(show_name(\"Chong\"), \"My name is Chong\")"
   ]
  },
  {
   "cell_type": "markdown",
   "metadata": {},
   "source": [
    "#### Exercise 2 - Count occurences\n",
    "\n",
    "Define a function which checks how many times string `a` occurs in string `b`. Make it case insensitive. Return a string that says `The occurence is: [number]` where `[number]` is the occurence.\n",
    "\n",
    "Hint: `help(str.lower)`, `help(str.count)`"
   ]
  },
  {
   "cell_type": "code",
   "execution_count": 53,
   "metadata": {
    "scrolled": false
   },
   "outputs": [
    {
     "name": "stdout",
     "output_type": "stream",
     "text": [
      "Help on method_descriptor:\n",
      "\n",
      "count(...)\n",
      "    S.count(sub[, start[, end]]) -> int\n",
      "    \n",
      "    Return the number of non-overlapping occurrences of substring sub in\n",
      "    string S[start:end].  Optional arguments start and end are\n",
      "    interpreted as in slice notation.\n",
      "\n"
     ]
    }
   ],
   "source": [
    "help(str.count)"
   ]
  },
  {
   "cell_type": "code",
   "execution_count": null,
   "metadata": {},
   "outputs": [],
   "source": [
    "def contains(a, b):\n",
    "    ## your code\n",
    "\n",
    "print(\"has_string\")\n",
    "test(contains(\"This is Python!\",\"IS\"), \"The occurence is 2\")\n",
    "test(contains(\"AAAAh aaaaa aaayooo\",\"a\"),  \"The occurence is 12\")"
   ]
  },
  {
   "cell_type": "code",
   "execution_count": 51,
   "metadata": {},
   "outputs": [
    {
     "name": "stdout",
     "output_type": "stream",
     "text": [
      "has_string\n",
      " OK  got: 'The occurence is 2' expected: 'The occurence is 2'\n",
      " OK  got: 'The occurence is 12' expected: 'The occurence is 12'\n"
     ]
    }
   ],
   "source": [
    "def contains(a, b):\n",
    "    result = a.lower().count(b.lower())\n",
    "    return \"The occurence is {}\".format(result)\n",
    "    \n",
    "print(\"has_string\")\n",
    "test(contains(\"This is Python!\",\"IS\"), \"The occurence is 2\")\n",
    "test(contains(\"AAAAh aaaaa aaayooo\",\"a\"), \"The occurence is 12\")"
   ]
  },
  {
   "cell_type": "markdown",
   "metadata": {},
   "source": [
    "#### Exercise 3 - Bigger\n",
    "\n",
    "Determine if a is bigger than b."
   ]
  },
  {
   "cell_type": "code",
   "execution_count": null,
   "metadata": {},
   "outputs": [],
   "source": [
    "def bigger(a,b):\n",
    "    ## your code\n",
    "\n",
    "test(bigger(1,2), False)\n",
    "test(bigger(1,1), False)\n",
    "test(bigger(2,1), True)"
   ]
  },
  {
   "cell_type": "code",
   "execution_count": 54,
   "metadata": {},
   "outputs": [
    {
     "name": "stdout",
     "output_type": "stream",
     "text": [
      " OK  got: False expected: False\n",
      " OK  got: False expected: False\n",
      " OK  got: True expected: True\n"
     ]
    }
   ],
   "source": [
    "def bigger(a,b):\n",
    "    return a>b\n",
    "\n",
    "test(bigger(1,2), False)\n",
    "test(bigger(1,1), False)\n",
    "test(bigger(2,1), True)"
   ]
  },
  {
   "cell_type": "markdown",
   "metadata": {},
   "source": [
    "#### Exercise 4 - Donuts\n",
    "\n",
    "Return a string of the form `Number of donuts: [count]`. However if the count is `10` or more, then use the word `many`. So donut(5) returns `Number of donuts: 5`. And `donut(23)` returns `Number of donuts: many`\n",
    "\n",
    "Hints: You may use `if-else` and string formatting."
   ]
  },
  {
   "cell_type": "code",
   "execution_count": null,
   "metadata": {},
   "outputs": [],
   "source": [
    "def donuts(count):\n",
    "    ## your code\n",
    "\n",
    "print(\"donuts\")\n",
    "test(donuts(4), 'Number of donuts: 4')\n",
    "test(donuts(9), 'Number of donuts: 9')\n",
    "test(donuts(10), 'Number of donuts: many')\n",
    "test(donuts(99), 'Number of donuts: many')"
   ]
  },
  {
   "cell_type": "code",
   "execution_count": 57,
   "metadata": {
    "scrolled": true
   },
   "outputs": [
    {
     "name": "stdout",
     "output_type": "stream",
     "text": [
      "donuts\n",
      " OK  got: 'Number of donuts: 4' expected: 'Number of donuts: 4'\n",
      " OK  got: 'Number of donuts: 9' expected: 'Number of donuts: 9'\n",
      " OK  got: 'Number of donuts: many' expected: 'Number of donuts: many'\n",
      " OK  got: 'Number of donuts: many' expected: 'Number of donuts: many'\n"
     ]
    }
   ],
   "source": [
    "# Nik Faiz\n",
    "def donuts(count):\n",
    "    if count >=10:\n",
    "        donut = \"many\"\n",
    "    else:\n",
    "        donut = count\n",
    "    return \"Number of donuts: {}\".format(donut)\n",
    "\n",
    "print(\"donuts\")\n",
    "test(donuts(4), 'Number of donuts: 4')\n",
    "test(donuts(9), 'Number of donuts: 9')\n",
    "test(donuts(10), 'Number of donuts: many')\n",
    "test(donuts(99), 'Number of donuts: many')"
   ]
  },
  {
   "cell_type": "markdown",
   "metadata": {},
   "source": [
    "#### Exercise 5 - Both ends\n",
    "\n",
    "Given a string s, return a string made of the first 2 and the last 2 chars of the original string. So `spring` yields `spng`. However, if the string length is less than 2, return instead an empty string `''`.\n",
    "\n",
    "Hints: you may use if-else, string slicing and concatenationg with +"
   ]
  },
  {
   "cell_type": "code",
   "execution_count": null,
   "metadata": {},
   "outputs": [],
   "source": [
    "def both_ends(s):\n",
    "    ## your code\n",
    "\n",
    "\n",
    "print('both_ends')\n",
    "    \n",
    "test(both_ends('spring'), 'spng')\n",
    "test(both_ends('Hello'), 'Helo')\n",
    "test(both_ends('a'), '')\n",
    "test(both_ends('xyz'), 'xyyz')"
   ]
  },
  {
   "cell_type": "code",
   "execution_count": 59,
   "metadata": {},
   "outputs": [
    {
     "name": "stdout",
     "output_type": "stream",
     "text": [
      "both_ends\n",
      " OK  got: 'spng' expected: 'spng'\n",
      " OK  got: 'Helo' expected: 'Helo'\n",
      " OK  got: '' expected: ''\n",
      " OK  got: 'xyyz' expected: 'xyyz'\n"
     ]
    }
   ],
   "source": [
    "# Nik Faiz\n",
    "def both_ends(s):\n",
    "    if len(s)<2:\n",
    "        return \"\"\n",
    "    else:\n",
    "        return s[0:2]+s[-2:]\n",
    "        \n",
    "\n",
    "print('both_ends')\n",
    "    \n",
    "test(both_ends('spring'), 'spng')\n",
    "test(both_ends('Hello'), 'Helo')\n",
    "test(both_ends('a'), '')\n",
    "test(both_ends('xyz'), 'xyyz')"
   ]
  },
  {
   "cell_type": "markdown",
   "metadata": {},
   "source": [
    "#### Exercise 6 - Fix start\n",
    "\n",
    "Given a string `s`, return a string where all occurences of its first char have been changed to \\*, except do not change the first char itself. So 'babble', yields 'Ba\\*\\*le'.\n",
    "\n",
    "Hints: check `help(str.replace)`, `string indexing`, `string slicing`, `string concatenation`"
   ]
  },
  {
   "cell_type": "code",
   "execution_count": null,
   "metadata": {},
   "outputs": [],
   "source": [
    "def fix_start(s):\n",
    "    ## your code\n",
    "\n",
    "print()\n",
    "print('fix_start')\n",
    "test(fix_start('babble'), 'ba**le')\n",
    "test(fix_start('aardvark'), 'a*rdv*rk')\n",
    "test(fix_start('google'), 'goo*le')\n",
    "test(fix_start('donut'), 'donut')"
   ]
  },
  {
   "cell_type": "code",
   "execution_count": 66,
   "metadata": {},
   "outputs": [
    {
     "name": "stdout",
     "output_type": "stream",
     "text": [
      "\n",
      "fix_start\n",
      " OK  got: 'ba**le' expected: 'ba**le'\n",
      " OK  got: 'a*rdv*rk' expected: 'a*rdv*rk'\n",
      " OK  got: 'goo*le' expected: 'goo*le'\n",
      " OK  got: 'donut' expected: 'donut'\n"
     ]
    }
   ],
   "source": [
    "# Nik Faiz\n",
    "def fix_start(s):\n",
    "    first = s[0]\n",
    "    return s[0]+ s[1:].replace(first,\"*\")\n",
    "\n",
    "print()\n",
    "print('fix_start')\n",
    "test(fix_start('babble'), 'ba**le')\n",
    "test(fix_start('aardvark'), 'a*rdv*rk')\n",
    "test(fix_start('google'), 'goo*le')\n",
    "test(fix_start('donut'), 'donut')"
   ]
  },
  {
   "cell_type": "markdown",
   "metadata": {},
   "source": [
    "#### Exercise 7 - Mix up\n",
    "\n",
    "Given strings a and b, return a single string with a and b separated by a space '[a] [b]', except swap the first 2 chars of each string.\n",
    "\n",
    "e.g.\n",
    "\n",
    "`mix`, `pod` --> `pox mid`\n",
    "\n",
    "`dog`, '`inner` --> `dig donner`"
   ]
  },
  {
   "cell_type": "code",
   "execution_count": 67,
   "metadata": {},
   "outputs": [
    {
     "name": "stdout",
     "output_type": "stream",
     "text": [
      "\n",
      "mix_up\n",
      " OK  got: 'pox mid' expected: 'pox mid'\n",
      " OK  got: 'dig donner' expected: 'dig donner'\n",
      " OK  got: 'spash gnort' expected: 'spash gnort'\n",
      " OK  got: 'fizzy perm' expected: 'fizzy perm'\n"
     ]
    }
   ],
   "source": [
    "# Nik Faiz\n",
    "def mix_up(a,b):\n",
    "    return b[:2]+a[2:]+ \" \"+a[:2]+b[2:]\n",
    "\n",
    "print()\n",
    "print('mix_up')\n",
    "test(mix_up('mix', 'pod'), 'pox mid')\n",
    "test(mix_up('dog', 'dinner'), 'dig donner')\n",
    "test(mix_up('gnash', 'sport'), 'spash gnort')\n",
    "test(mix_up('pezzy', 'firm'), 'fizzy perm')"
   ]
  },
  {
   "cell_type": "markdown",
   "metadata": {},
   "source": [
    "#### Exercise 8 - Verbing\n",
    "\n",
    "Given a string, if its length is at least 3, add 'ing' to its end. Unless it already ends in 'ing', in which case add 'ly' instead. If the string length is less than 3, leave it unchanged. Return the resulting string.\n",
    "\n",
    "Hints: if else, len(), help(str.endswith), string concatenation"
   ]
  },
  {
   "cell_type": "code",
   "execution_count": null,
   "metadata": {},
   "outputs": [],
   "source": [
    "def verbing(s):\n",
    "    ## your code\n",
    "\n",
    "print('verbing')\n",
    "test(verbing('hail'), 'hailing')\n",
    "test(verbing('swiming'), 'swimingly')\n",
    "test(verbing('do'), 'do')"
   ]
  },
  {
   "cell_type": "code",
   "execution_count": 74,
   "metadata": {},
   "outputs": [
    {
     "name": "stdout",
     "output_type": "stream",
     "text": [
      "verbing\n",
      " OK  got: 'hailing' expected: 'hailing'\n",
      " OK  got: 'swimingly' expected: 'swimingly'\n",
      " OK  got: 'do' expected: 'do'\n"
     ]
    }
   ],
   "source": [
    "# Nik Faiz\n",
    "def verbing(s):\n",
    "    if len(s)<3:\n",
    "        return s\n",
    "    elif s.endswith(\"ing\"):\n",
    "        return s+\"ly\"\n",
    "    else:\n",
    "        return s+\"ing\"\n",
    "\n",
    "print('verbing')\n",
    "test(verbing('hail'), 'hailing')\n",
    "test(verbing('swiming'), 'swimingly')\n",
    "test(verbing('do'), 'do')"
   ]
  },
  {
   "cell_type": "markdown",
   "metadata": {},
   "source": [
    "#### Exercise 9 - Weekend\n",
    "\n",
    "Define a procedure weekend which takes a string as input and returns the True if it's 'Saturday' or 'Sunday' and False otherwise."
   ]
  },
  {
   "cell_type": "code",
   "execution_count": null,
   "metadata": {},
   "outputs": [],
   "source": [
    "def weekend(day):\n",
    "    ## your code\n",
    "\n",
    "print('weekend')\n",
    "test(weekend(\"Saturday\"), True)\n",
    "test(weekend(\"Sunday\"), True)\n",
    "test(weekend(\"Monday\"), False)"
   ]
  },
  {
   "cell_type": "code",
   "execution_count": 77,
   "metadata": {},
   "outputs": [
    {
     "name": "stdout",
     "output_type": "stream",
     "text": [
      "weekend\n",
      " OK  got: True expected: True\n",
      " OK  got: True expected: True\n",
      " OK  got: False expected: False\n"
     ]
    }
   ],
   "source": [
    "# Nik Faiz\n",
    "def weekend(day):\n",
    "    return day in [\"Saturday\", \"Sunday\"]\n",
    "        \n",
    "\n",
    "print('weekend')\n",
    "test(weekend(\"Saturday\"), True)\n",
    "test(weekend(\"Sunday\"), True)\n",
    "test(weekend(\"Monday\"), False)"
   ]
  },
  {
   "cell_type": "code",
   "execution_count": 79,
   "metadata": {},
   "outputs": [
    {
     "name": "stdout",
     "output_type": "stream",
     "text": [
      "weekend\n",
      " OK  got: True expected: True\n",
      " OK  got: True expected: True\n",
      " OK  got: False expected: False\n"
     ]
    }
   ],
   "source": [
    "# Sample answer\n",
    "def weekend(day):\n",
    "    if day == \"Saturday\" or day == \"Sunday\":\n",
    "        return True\n",
    "    else:\n",
    "        return False\n",
    "\n",
    "\n",
    "print('weekend')\n",
    "test(weekend(\"Saturday\"), True)\n",
    "test(weekend(\"Sunday\"), True)\n",
    "test(weekend(\"Monday\"), False)"
   ]
  }
 ],
 "metadata": {
  "kernelspec": {
   "display_name": "Python 3",
   "language": "python",
   "name": "python3"
  },
  "language_info": {
   "codemirror_mode": {
    "name": "ipython",
    "version": 3
   },
   "file_extension": ".py",
   "mimetype": "text/x-python",
   "name": "python",
   "nbconvert_exporter": "python",
   "pygments_lexer": "ipython3",
   "version": "3.8.5"
  },
  "toc-autonumbering": false,
  "toc-showmarkdowntxt": false
 },
 "nbformat": 4,
 "nbformat_minor": 4
}
