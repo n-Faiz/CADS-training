{
 "cells": [
  {
   "cell_type": "markdown",
   "metadata": {},
   "source": [
    "<img src=\"images/cads-logo.png\" style=\"height: 100px;\" align=left> <img src=\"images/python-logo.png\" style=\"height: 100px;\" align=right>"
   ]
  },
  {
   "cell_type": "markdown",
   "metadata": {
    "toc-hr-collapsed": false
   },
   "source": [
    "# Python Fundamentals Day 3\n",
    "\n",
    "Welcome to Python Fundamentals Day 3.\n",
    "\n",
    "So what is on the menu for today? \n",
    "\n",
    "We start with reading and writing from files, learn how to transport data objects in the JSON format and how to browse the filesystem.\n",
    "\n",
    "Then we move to Exception handling. We learn about the different types of Exceptions, what they mean and how to resolve them. Then we learn how to handle Exceptions in our code using the try-except statement.\n",
    "\n",
    "Last but not least, we learn about Object Oriented Programming including class inheritance and how to define and use your own classes in your coding.\n",
    "\n",
    "Let's go!"
   ]
  },
  {
   "cell_type": "markdown",
   "metadata": {},
   "source": [
    "## Table of Contents\n",
    "\n",
    "- [File I/O](#File-I/O)\n",
    "    - [Reading and writing lines with open](#Reading-and-writing-lines-with-open)\n",
    "    - [JSON](#JSON)\n",
    "    - [File browsing with glob](#File-browsing-with-glob)\n",
    "    - [Summary](#Summary)\n",
    "        - [open](#open)\n",
    "        - [JSON](#JSON)\n",
    "        - [import](#import)\n",
    "        - [glob](#glob)\n",
    "    - [RUN ME](#RUN-ME)\n",
    "    - [Exercises](#Exercises)\n",
    "        - [Exercise 1 - Read in stocks](#Exercise-1---Read-in-stocks)\n",
    "        - [Exercise 2 - First ten names](#Exercise-2---First-ten-names)\n",
    "        - [Exercise 3 - Inc only](#Exercise-3---Inc-only)\n",
    "        - [Exercise 4 - Average PE](#Exercise-4---Average-PE)\n",
    "- [Exception Handling](#Exception-Handling)\n",
    "    - [Exceptions](#Exceptions)\n",
    "    - [Try except](#Try-except)\n",
    "    - [Summary](#Summary)\n",
    "        - [try except](#try-except)\n",
    "        - [try except else finally](#try-except-else-finally)\n",
    "    - [RUN ME](#RUN-ME)\n",
    "    - [Exercises](#Exercises)\n",
    "        - [Exercise 1 - Fix it Multiply](#Exercise-1---Fix-it-Multiply)\n",
    "        - [Exercise 2 - Fix it Numbers](#Exercise-2---Fix-it-Numbers)\n",
    "        - [Exercise 3 - Fix it Open](#Exercise-3---Fix-it-Open)\n",
    "        - [Exercise 4 - Try salaries](#Exercise-4---Try-salaries)\n",
    "- [Object Oriented Programming](#Object-Oriented-Programming)\n",
    "    - [Summary](#Summary)\n",
    "        - [class](#class)\n",
    "    - [RUN ME](#RUN-ME)\n",
    "    - [Exercises](#Exercises)\n",
    "        - [Exercise 1 - Get pokemon info](#Exercise-1---Get-pokemon-info)\n",
    "        - [Exercise 2 - Create a pokemon class](#Exercise-2---Create-a-pokemon-class)\n",
    "        - [Exercise 3 -  Load all pokemons](#Exercise-3----Load-all-pokemons)\n",
    "        - [Exercise 4 - Provide insights](#Exercise-4---Provide-insights)"
   ]
  },
  {
   "cell_type": "markdown",
   "metadata": {
    "toc-hr-collapsed": false
   },
   "source": [
    "## File I/O"
   ]
  },
  {
   "cell_type": "markdown",
   "metadata": {},
   "source": [
    "### Reading and writing lines with open"
   ]
  },
  {
   "cell_type": "markdown",
   "metadata": {},
   "source": [
    "Communicating with files is quite useful in programming.\n",
    "\n",
    "With the open() built-in function we can read, write and append to files.\n",
    "\n",
    "First check what is your working directory. You will be able to find the file that we will read and write there."
   ]
  },
  {
   "cell_type": "code",
   "execution_count": null,
   "metadata": {},
   "outputs": [],
   "source": []
  },
  {
   "cell_type": "markdown",
   "metadata": {},
   "source": [
    "We now create a file object which we will use to write something to file."
   ]
  },
  {
   "cell_type": "code",
   "execution_count": null,
   "metadata": {},
   "outputs": [],
   "source": []
  },
  {
   "cell_type": "markdown",
   "metadata": {},
   "source": [
    "Now check the file in your folder. Can you see Hey! in test.txt? \n",
    "\n",
    "No you cannot. Yet.."
   ]
  },
  {
   "cell_type": "code",
   "execution_count": null,
   "metadata": {},
   "outputs": [],
   "source": []
  },
  {
   "cell_type": "markdown",
   "metadata": {},
   "source": [
    "Check test.txt again. \n",
    "\n",
    "Now it is there.\n",
    "\n",
    "So it is important to not forget to close the file object.\n",
    "\n",
    "There is an elegant construct for this. Let's try it."
   ]
  },
  {
   "cell_type": "code",
   "execution_count": null,
   "metadata": {},
   "outputs": [],
   "source": []
  },
  {
   "cell_type": "markdown",
   "metadata": {},
   "source": [
    "Check again. Test test2.txt file is there.\n",
    "\n",
    "So what did we do here?\n",
    "\n",
    "open() returns a file object and it is commonly used with two arguments: open(file, mode)\n",
    "\n",
    "- file is a string containing the filename\n",
    "- mode describes in which way the file will be used: writing, reading, appending.\n",
    "\n",
    "mode can be:\n",
    "- `'r'` read (by default)\n",
    "- `'w'` write\n",
    "- `'a'` append\n",
    "\n",
    "Notice the fat-green with as statement. Within the with statement the file object will be available as f. After the statement the file object will be closed. "
   ]
  },
  {
   "cell_type": "code",
   "execution_count": null,
   "metadata": {},
   "outputs": [],
   "source": []
  },
  {
   "cell_type": "code",
   "execution_count": null,
   "metadata": {},
   "outputs": [],
   "source": []
  },
  {
   "cell_type": "markdown",
   "metadata": {},
   "source": [
    "Now we can check the contents of the file using \n",
    "\n",
    "!cat -- for Mac / Linux users\n",
    "\n",
    "!type -- for Windows users"
   ]
  },
  {
   "cell_type": "code",
   "execution_count": null,
   "metadata": {},
   "outputs": [],
   "source": [
    "!cat test2.txt"
   ]
  },
  {
   "cell_type": "code",
   "execution_count": null,
   "metadata": {},
   "outputs": [],
   "source": [
    "text = \"\"\"\n",
    "The names are:\n",
    "\n",
    "Jeremy\n",
    "Jan\n",
    "Akmal\n",
    "\"\"\".strip()"
   ]
  },
  {
   "cell_type": "code",
   "execution_count": null,
   "metadata": {},
   "outputs": [],
   "source": []
  },
  {
   "cell_type": "markdown",
   "metadata": {},
   "source": [
    "The import statement allows you to import libraries which you can use. \n",
    "\n",
    "Here we use os.path.join to safely join the paths of the data folder and the names_raw. txt file so that it works for any operating system (Windows/Mac).\n",
    "\n",
    "You can iterate over the file object and do something line by line."
   ]
  },
  {
   "cell_type": "code",
   "execution_count": null,
   "metadata": {},
   "outputs": [],
   "source": []
  },
  {
   "cell_type": "markdown",
   "metadata": {},
   "source": [
    "Let's say now we want to transform this file into a list of names. "
   ]
  },
  {
   "cell_type": "markdown",
   "metadata": {},
   "source": [
    "**Question:** How can we transform this into a list of the names?\n",
    "<br>\n",
    "**Answer:**"
   ]
  },
  {
   "cell_type": "markdown",
   "metadata": {},
   "source": [
    "Let's parse the contents of this file into a list of names."
   ]
  },
  {
   "cell_type": "code",
   "execution_count": null,
   "metadata": {},
   "outputs": [],
   "source": []
  },
  {
   "cell_type": "markdown",
   "metadata": {},
   "source": [
    "What did we do here?\n",
    "\n",
    "We ignored the first line.\n",
    "\n",
    "Then we looped over the other lines. We used the if statement to ignore the empty rows. We strip the non-empty rows and add them to names."
   ]
  },
  {
   "cell_type": "markdown",
   "metadata": {},
   "source": [
    "### JSON"
   ]
  },
  {
   "cell_type": "markdown",
   "metadata": {},
   "source": [
    "JSON (JavaScript Object Notation) is an open-standard format that uses human-readable text to transmit data objects consisting of attribute–value pairs. \n",
    "\n",
    "It is used often by API's (Application Programming Interface) to communicate data between programs or to commumnicate data between an applications and users.\n",
    "\n",
    "The notation is almost the same as the dictionary in Python except for:\n",
    "\n",
    "- JSON: true/false -- Python: True/False\n",
    "- JSON: null -- Python: None\n",
    "\n",
    "Here is an example JSON from [wikipedia](https://en.wikipedia.org/wiki/JSON#Data_types.2C_syntax_and_example)\n",
    "\n",
    "```json\n",
    "{\n",
    "  \"firstName\": \"John\",\n",
    "  \"lastName\": \"Smith\",\n",
    "  \"isAlive\": true,\n",
    "  \"age\": 25,\n",
    "  \"address\": {\n",
    "    \"streetAddress\": \"21 2nd Street\",\n",
    "    \"city\": \"New York\",\n",
    "    \"state\": \"NY\",\n",
    "    \"postalCode\": \"10021-3100\"\n",
    "  },\n",
    "  \"phoneNumbers\": [\n",
    "    {\n",
    "      \"type\": \"home\",\n",
    "      \"number\": \"212 555-1234\"\n",
    "    },\n",
    "    {\n",
    "      \"type\": \"office\",\n",
    "      \"number\": \"646 555-4567\"\n",
    "    },\n",
    "    {\n",
    "      \"type\": \"mobile\",\n",
    "      \"number\": \"123 456-7890\"\n",
    "    }\n",
    "  ],\n",
    "  \"children\": [],\n",
    "  \"spouse\": null\n",
    "}\n",
    "```"
   ]
  },
  {
   "cell_type": "markdown",
   "metadata": {},
   "source": [
    "First we import the json library to provide us with the functionality. "
   ]
  },
  {
   "cell_type": "code",
   "execution_count": null,
   "metadata": {},
   "outputs": [],
   "source": []
  },
  {
   "cell_type": "markdown",
   "metadata": {},
   "source": [
    "We can transform a data object into a json string and transform it back. "
   ]
  },
  {
   "cell_type": "code",
   "execution_count": null,
   "metadata": {},
   "outputs": [],
   "source": [
    "data = {\"name\": \"Jeremy\", \n",
    "        \"grades\": [10, 15], \n",
    "        \"teacher\":True, \n",
    "        \"complaints\":None}\n",
    "data"
   ]
  },
  {
   "cell_type": "code",
   "execution_count": null,
   "metadata": {},
   "outputs": [],
   "source": []
  },
  {
   "cell_type": "markdown",
   "metadata": {},
   "source": [
    "Notice the difference in true and null. Also notice the addidtional quotes at the start and the end as this is a string.\n",
    "\n",
    "Now we del data. Then load it again from the JSON file."
   ]
  },
  {
   "cell_type": "code",
   "execution_count": null,
   "metadata": {},
   "outputs": [],
   "source": []
  },
  {
   "cell_type": "code",
   "execution_count": null,
   "metadata": {},
   "outputs": [],
   "source": []
  },
  {
   "cell_type": "code",
   "execution_count": null,
   "metadata": {},
   "outputs": [],
   "source": []
  },
  {
   "cell_type": "code",
   "execution_count": null,
   "metadata": {},
   "outputs": [],
   "source": []
  },
  {
   "cell_type": "markdown",
   "metadata": {},
   "source": [
    "Now we can dump and load data from text files that contain json directly."
   ]
  },
  {
   "cell_type": "code",
   "execution_count": null,
   "metadata": {},
   "outputs": [],
   "source": [
    "data = [{'name': 'Jeremy', 'grades': [10, 15], 'teacher': True, 'complaints': None},\n",
    "        {'name': 'Akmal', 'grades': [3, 4], 'teacher': True, 'complaints': \"Many\"},\n",
    "        {'name': 'Jan', 'grades': [8, 13, 20], 'teacher': True, 'complaints': None},\n",
    "        {'name': 'Heng', 'grades': [5, 5, 5], 'teacher': False, 'complaints': \"Many, so many!\"}\n",
    "       ]"
   ]
  },
  {
   "cell_type": "code",
   "execution_count": null,
   "metadata": {},
   "outputs": [],
   "source": []
  },
  {
   "cell_type": "markdown",
   "metadata": {},
   "source": [
    "Let's look at the resulting json file using !cat for Mac/Linux and !type for windows"
   ]
  },
  {
   "cell_type": "code",
   "execution_count": null,
   "metadata": {},
   "outputs": [],
   "source": [
    "!cat cads.json"
   ]
  },
  {
   "cell_type": "markdown",
   "metadata": {},
   "source": [
    "Now we can load that data back into a dictionary"
   ]
  },
  {
   "cell_type": "code",
   "execution_count": null,
   "metadata": {},
   "outputs": [],
   "source": []
  },
  {
   "cell_type": "code",
   "execution_count": null,
   "metadata": {},
   "outputs": [],
   "source": []
  },
  {
   "cell_type": "markdown",
   "metadata": {},
   "source": [
    "### File browsing with glob\n",
    "\n",
    "With glob you can easily list files and folders in a directory"
   ]
  },
  {
   "cell_type": "code",
   "execution_count": null,
   "metadata": {},
   "outputs": [],
   "source": [
    "import glob\n",
    "\n",
    "folder = os.path.join(\"data\", \"folders\")\n",
    "\n",
    "for filename in glob.glob('{}/*.txt'.format(folder)):\n",
    "    print(filename)"
   ]
  },
  {
   "cell_type": "markdown",
   "metadata": {},
   "source": [
    "And recursively."
   ]
  },
  {
   "cell_type": "code",
   "execution_count": null,
   "metadata": {},
   "outputs": [],
   "source": [
    "import glob\n",
    "\n",
    "folder = os.path.join(\"data\", \"folders\")\n",
    "\n",
    "for filename in glob.glob('{}/**/*.txt'.format(folder), recursive=True):\n",
    "    print(filename)"
   ]
  },
  {
   "cell_type": "markdown",
   "metadata": {},
   "source": [
    "You can get the files in a list like this."
   ]
  },
  {
   "cell_type": "code",
   "execution_count": null,
   "metadata": {},
   "outputs": [],
   "source": []
  },
  {
   "cell_type": "markdown",
   "metadata": {},
   "source": [
    "### Summary"
   ]
  },
  {
   "cell_type": "markdown",
   "metadata": {},
   "source": [
    "> #### open\n",
    "Built-in function to open a file object to read/write/append to a file.\n",
    "```python\n",
    "with open('test.txt', 'w') as f:\n",
    "    f.write(\"Hello\")\n",
    "with open('test2.txt', 'r') as f:\n",
    "    data = f.readlines()\n",
    "with open('test2.txt', 'r') as f:\n",
    "    f.readline()\n",
    "    data = []\n",
    "    for line in f:\n",
    "        data.append(line)\n",
    "```"
   ]
  },
  {
   "cell_type": "markdown",
   "metadata": {},
   "source": [
    "> #### JSON\n",
    "JSON (JavaScript Object Notation) is an open-standard format that uses human-readable text to transmit data objects consisting of attribute–value pairs. Used often to communicate data with API's.\n",
    "```python\n",
    "import json\n",
    "json.dumps(data)\n",
    "json.loads(json_str)\n",
    "with open('data.json', 'w') as f:\n",
    "    json.dump(data, f)\n",
    "with open('data.json', 'r') as f:\n",
    "    data = json.load(f)\n",
    "```"
   ]
  },
  {
   "cell_type": "markdown",
   "metadata": {},
   "source": [
    "> #### import\n",
    "import libraries to use the functionality\n",
    "```python\n",
    "import json\n",
    "import os\n",
    "```"
   ]
  },
  {
   "cell_type": "markdown",
   "metadata": {},
   "source": [
    "> #### glob\n",
    "module that is used for file listing\n",
    "```python\n",
    "for filename in glob.glob('{}/*.txt'.format(folder)):\n",
    "    print(filename)\n",
    "for filename in glob.glob('{}/**/*.txt'.format(folder), recursive=True):\n",
    "    print(filename)\n",
    "```"
   ]
  },
  {
   "cell_type": "markdown",
   "metadata": {
    "toc-hr-collapsed": false
   },
   "source": [
    "### RUN ME\n",
    "\n",
    "Please run the below code snippet. It is required for running tests for your solution."
   ]
  },
  {
   "cell_type": "code",
   "execution_count": null,
   "metadata": {},
   "outputs": [],
   "source": [
    "def test(got, expected):\n",
    "    if got == expected:\n",
    "        prefix = ' OK '\n",
    "    else:\n",
    "        prefix = '  FAIL '\n",
    "    print(('%s got: %s expected: %s' % (prefix, repr(got), repr(expected))))"
   ]
  },
  {
   "cell_type": "code",
   "execution_count": null,
   "metadata": {},
   "outputs": [],
   "source": [
    "test('a', 'ab')\n",
    "test('a', 'a')"
   ]
  },
  {
   "cell_type": "markdown",
   "metadata": {},
   "source": [
    "### Exercises"
   ]
  },
  {
   "cell_type": "markdown",
   "metadata": {},
   "source": [
    "#### Exercise 1 - Read in stocks\n",
    "\n",
    "Read in stocks data in \"data/stocks.json\" and store it into stocks.\n",
    "\n",
    "Each line of this file is a json object, but the whole file content is not a valid json object since the jsons are no separated by a comma and there is no extra brackets surrounding the jsons.\n",
    "\n",
    "So you need to read the file line by line and transform those strings into dict using json.loads.\n",
    "\n",
    "Store the dictionaries into stocks.\n",
    "\n",
    "Hints: import os, os.path.join, import json, json.loads"
   ]
  },
  {
   "cell_type": "code",
   "execution_count": null,
   "metadata": {},
   "outputs": [],
   "source": [
    "## your code\n",
    "        \n",
    "# TEST\n",
    "print(\"read_in_stocks\")\n",
    "test(len(stocks), 6756)\n",
    "test(type(stocks[0]), dict)"
   ]
  },
  {
   "cell_type": "code",
   "execution_count": null,
   "metadata": {},
   "outputs": [],
   "source": []
  },
  {
   "cell_type": "markdown",
   "metadata": {},
   "source": [
    "#### Exercise 2 - First ten names\n",
    "\n",
    "What are the names of the first ten companies?\n",
    "\n",
    "Hints: inspect one dict to see which key contains the name."
   ]
  },
  {
   "cell_type": "code",
   "execution_count": null,
   "metadata": {},
   "outputs": [],
   "source": [
    "names = ## your code\n",
    "\n",
    "# TEST\n",
    "print(\"first_ten_names\")\n",
    "from answers import ten_companies\n",
    "test(names, ten_companies)"
   ]
  },
  {
   "cell_type": "code",
   "execution_count": null,
   "metadata": {},
   "outputs": [],
   "source": []
  },
  {
   "cell_type": "markdown",
   "metadata": {},
   "source": [
    "#### Exercise 3 - Inc only\n",
    "\n",
    "From the top 10 companies, now only show the names that contain the word 'Inc.'"
   ]
  },
  {
   "cell_type": "code",
   "execution_count": null,
   "metadata": {},
   "outputs": [],
   "source": [
    "names = ## your code\n",
    "\n",
    "# TEST\n",
    "from answers import inc_companies\n",
    "print(\"inc_only\")\n",
    "test(names, inc_companies)"
   ]
  },
  {
   "cell_type": "code",
   "execution_count": null,
   "metadata": {},
   "outputs": [],
   "source": []
  },
  {
   "cell_type": "markdown",
   "metadata": {},
   "source": [
    "#### Exercise 4 - Average PE\n",
    "\n",
    "Now show the average P/E for all the data. Round it by 2.\n",
    "\n",
    "Not all the stocks have the P/E reported, so you need to handle that. \n",
    "\n",
    "What percentage of the stocks has P/E reported? Round it by 2."
   ]
  },
  {
   "cell_type": "code",
   "execution_count": null,
   "metadata": {},
   "outputs": [],
   "source": [
    "## your code\n",
    "\n",
    "avg_pe = ## your code\n",
    "perc_with_pe = ## your code\n",
    "\n",
    "# TEST\n",
    "print(\"average_pe\")\n",
    "test(avg_pe, 41.71)\n",
    "test(perc_with_pe, 0.5)"
   ]
  },
  {
   "cell_type": "code",
   "execution_count": null,
   "metadata": {},
   "outputs": [],
   "source": []
  },
  {
   "cell_type": "markdown",
   "metadata": {},
   "source": [
    "## Exception Handling"
   ]
  },
  {
   "cell_type": "markdown",
   "metadata": {},
   "source": [
    "### Exceptions\n",
    "\n",
    "Here is an example Exception."
   ]
  },
  {
   "cell_type": "code",
   "execution_count": null,
   "metadata": {
    "slideshow": {
     "slide_type": "subslide"
    }
   },
   "outputs": [],
   "source": [
    "while True print('Hello world')"
   ]
  },
  {
   "cell_type": "markdown",
   "metadata": {
    "slideshow": {
     "slide_type": "subslide"
    }
   },
   "source": [
    "- Arrow ^ pointing at the earliest point in the line where the error was detected\n",
    "- The error is caused by the token preceding the arrow\n",
    "- File name and line number are printed"
   ]
  },
  {
   "cell_type": "markdown",
   "metadata": {
    "slideshow": {
     "slide_type": "fragment"
    }
   },
   "source": [
    "There are different types of Exceptions.\n",
    "\n",
    "Previous one was SyntaxError, other built-in exception types include:\n",
    "- ZeroDivisionError -- division by zero\n",
    "- NameError -- name not defined\n",
    "- TypeError -- incorrect type\n",
    "- KeyError -- key not found in dict\n",
    "- IndexError -- index greater than length in list\n",
    "\n",
    "The last line of the error message indicates what happened. Let's go over them."
   ]
  },
  {
   "cell_type": "code",
   "execution_count": null,
   "metadata": {
    "slideshow": {
     "slide_type": "subslide"
    }
   },
   "outputs": [],
   "source": [
    "10 * (1/0)"
   ]
  },
  {
   "cell_type": "code",
   "execution_count": null,
   "metadata": {
    "scrolled": true,
    "slideshow": {
     "slide_type": "subslide"
    }
   },
   "outputs": [],
   "source": [
    "4 + result*3"
   ]
  },
  {
   "cell_type": "code",
   "execution_count": null,
   "metadata": {
    "scrolled": true,
    "slideshow": {
     "slide_type": "subslide"
    }
   },
   "outputs": [],
   "source": [
    "'1' + 1"
   ]
  },
  {
   "cell_type": "code",
   "execution_count": null,
   "metadata": {
    "slideshow": {
     "slide_type": "subslide"
    }
   },
   "outputs": [],
   "source": [
    "d = {}\n",
    "d[0]"
   ]
  },
  {
   "cell_type": "code",
   "execution_count": null,
   "metadata": {
    "slideshow": {
     "slide_type": "subslide"
    }
   },
   "outputs": [],
   "source": [
    "l = []\n",
    "l[0]"
   ]
  },
  {
   "cell_type": "markdown",
   "metadata": {
    "slideshow": {
     "slide_type": "slide"
    }
   },
   "source": [
    "The preceding part of the error message shows the context where the exception happened.\n",
    "\n",
    "It contains a stack traceback listing source lines.\n",
    "\n",
    "Here is an example."
   ]
  },
  {
   "cell_type": "code",
   "execution_count": null,
   "metadata": {
    "slideshow": {
     "slide_type": "subslide"
    }
   },
   "outputs": [],
   "source": [
    "def divide(x, y):\n",
    "    return x/y\n",
    "\n",
    "def call_divide(x, y):\n",
    "    return divide(x, y)\n",
    "\n",
    "def f(x, y):\n",
    "    return call_divide(x, y)\n",
    "\n",
    "f(1, 0)"
   ]
  },
  {
   "cell_type": "markdown",
   "metadata": {},
   "source": [
    "**Question:** What has caused the Error?\n",
    "<br>\n",
    "**Answer:**"
   ]
  },
  {
   "cell_type": "markdown",
   "metadata": {},
   "source": [
    "### Try except\n",
    "\n",
    "Sometimes exceptions are expected to happen and we want our code to handle those exceptions in a certain way. For this there is the try except statement.\n",
    "\n",
    "Let's try these inputs.\n",
    "\n",
    "- typing a number\n",
    "- typing a non-numeric string\n",
    "- typing a zero\n",
    "- ending the cell by intterupting the kernel"
   ]
  },
  {
   "cell_type": "code",
   "execution_count": null,
   "metadata": {},
   "outputs": [],
   "source": [
    "while True:\n",
    "    try:\n",
    "        x = float(input(\"Please enter a number: \"))\n",
    "        print(\"inverse is:\",  1/x)\n",
    "        break\n",
    "    except:\n",
    "        print(\"Oops!  That was no valid number.  Try again...\")"
   ]
  },
  {
   "cell_type": "markdown",
   "metadata": {},
   "source": [
    "The try statement.\n",
    "\n",
    "1. the __try clause__ (block under try:) is executed\n",
    "1. if __no exception__ occurs, __except clause is skipped__\n",
    "1. if __an exception occurs__, the rest of the try clause is skipped,\n",
    "    - and __the first except__ clause matching the exception __is executed__,\n",
    "    - if __no handler__ is found, execution stops, an error __Traceback is displayed__.\n",
    "    \n",
    "In this case we have used a bare except statement. This means all exception are catched including the KeyboardInterrupt.\n",
    "\n",
    "You can specifiy which exception you want to be catched and you want to handle them.\n",
    "\n",
    "Let's try typing an number, a non-numeric number, a zero and a keyboardintterup again."
   ]
  },
  {
   "cell_type": "code",
   "execution_count": null,
   "metadata": {},
   "outputs": [],
   "source": [
    "while True:\n",
    "    try:\n",
    "        x = float(input(\"Please enter a number: \"))\n",
    "        print(\"inverse is:\",  1/x)\n",
    "        break\n",
    "    except ValueError:\n",
    "        print(\"Oops!  That was no valid number.  Try again...\")\n",
    "    except ZeroDivisionError:\n",
    "        print(\"Oops! Cannot divide by 0!\")\n",
    "    except:\n",
    "        print(\"Something else went wrong\")\n",
    "        raise\n",
    "        break"
   ]
  },
  {
   "cell_type": "markdown",
   "metadata": {},
   "source": [
    "else and finally are usefull to define clean-up action.\n",
    "- ```else``` statements are executed __only if__ no exceptions occur in ```try``` block.\n",
    "- ```finally``` statements are __always__ executed.\n",
    "\n",
    "else clause avoids accidentally catching an exception."
   ]
  },
  {
   "cell_type": "code",
   "execution_count": null,
   "metadata": {},
   "outputs": [],
   "source": [
    "def divide(x, y):\n",
    "    try:\n",
    "        result = x / y\n",
    "    except ZeroDivisionError:\n",
    "        print(\"division by zero!\")\n",
    "    else:\n",
    "        print(\"result is\", result)\n",
    "    finally:\n",
    "        print(\"executing finally clause\")\n",
    "        \n",
    "divide(2,0)"
   ]
  },
  {
   "cell_type": "code",
   "execution_count": null,
   "metadata": {},
   "outputs": [],
   "source": [
    "divide(2,1)"
   ]
  },
  {
   "cell_type": "code",
   "execution_count": null,
   "metadata": {},
   "outputs": [],
   "source": [
    "divide(\"a\",\"b\")"
   ]
  },
  {
   "cell_type": "markdown",
   "metadata": {},
   "source": [
    "Let's do another case."
   ]
  },
  {
   "cell_type": "code",
   "execution_count": null,
   "metadata": {},
   "outputs": [],
   "source": [
    "total = 0\n",
    "numbers = [1,2,3,\"a\", \"b\", \"c\", 5, 6, 7]\n",
    "\n",
    "for number in numbers:\n",
    "    total += number\n",
    "    \n",
    "total"
   ]
  },
  {
   "cell_type": "markdown",
   "metadata": {},
   "source": [
    "We cannot add up strings to a number.\n",
    "\n",
    "If we want to have the total of the numbers in the list we can ignore the strings."
   ]
  },
  {
   "cell_type": "code",
   "execution_count": null,
   "metadata": {},
   "outputs": [],
   "source": []
  },
  {
   "cell_type": "markdown",
   "metadata": {},
   "source": [
    "You can use the bare except statement. As long as you are mindful about that it catches all exceptions it's fine. For a script you operate yourself it can be fine."
   ]
  },
  {
   "cell_type": "code",
   "execution_count": null,
   "metadata": {},
   "outputs": [],
   "source": []
  },
  {
   "cell_type": "markdown",
   "metadata": {},
   "source": [
    "### Summary"
   ]
  },
  {
   "cell_type": "markdown",
   "metadata": {},
   "source": [
    "> #### try except\n",
    "If an error is encountered, a try block code execution is stopped and transferred\n",
    "down to the except block. \n",
    "```python\n",
    "try:\n",
    "    total += number\n",
    "except:\n",
    "    pass\n",
    "```"
   ]
  },
  {
   "cell_type": "markdown",
   "metadata": {},
   "source": [
    "> #### try except else finally\n",
    "In addition to using an except block after the try block, you can also use the\n",
    "finally block. The code in the finally block will be executed regardless of whether an exception\n",
    "occurs. The else code is executed in case the try statement was a succes.\n",
    "```python\n",
    "try:\n",
    "    result = x / y\n",
    "except ZeroDivisionError:\n",
    "    print(\"division by zero!\")\n",
    "else:\n",
    "    print(\"result is\", result)\n",
    "finally:\n",
    "    print(\"executing finally clause\")\n",
    "```"
   ]
  },
  {
   "cell_type": "markdown",
   "metadata": {
    "toc-hr-collapsed": false
   },
   "source": [
    "### RUN ME\n",
    "\n",
    "Please run the below code snippet. It is required for running tests for your solution."
   ]
  },
  {
   "cell_type": "code",
   "execution_count": null,
   "metadata": {},
   "outputs": [],
   "source": [
    "def test(got, expected):\n",
    "    if got == expected:\n",
    "        prefix = ' OK '\n",
    "    else:\n",
    "        prefix = '  FAIL '\n",
    "    print(('%s got: %s expected: %s' % (prefix, repr(got), repr(expected))))"
   ]
  },
  {
   "cell_type": "code",
   "execution_count": null,
   "metadata": {},
   "outputs": [],
   "source": [
    "test('a', 'ab')\n",
    "test('a', 'a')"
   ]
  },
  {
   "cell_type": "markdown",
   "metadata": {
    "toc-hr-collapsed": false
   },
   "source": [
    "### Exercises"
   ]
  },
  {
   "cell_type": "markdown",
   "metadata": {},
   "source": [
    "#### Exercise 1 - Fix it Multiply\n",
    "\n",
    "We want to multiple the values of a and b of the dictionary. \n",
    "\n",
    "Can you help?"
   ]
  },
  {
   "cell_type": "code",
   "execution_count": null,
   "metadata": {},
   "outputs": [],
   "source": [
    "data = {\"a\": 10, \"b\": 20}\n",
    "\n",
    "answer = data[a] * data[\"b\"] \n",
    "\n",
    "# TEST\n",
    "print(\"fix_it_1\")\n",
    "test(answer, 200)"
   ]
  },
  {
   "cell_type": "code",
   "execution_count": null,
   "metadata": {},
   "outputs": [],
   "source": []
  },
  {
   "cell_type": "markdown",
   "metadata": {},
   "source": [
    "#### Exercise 2 - Fix it Numbers\n",
    "\n",
    "We want to extend numbers with another list and then get the sum. \n",
    "\n",
    "Can you help?"
   ]
  },
  {
   "cell_type": "code",
   "execution_count": null,
   "metadata": {},
   "outputs": [],
   "source": [
    "numbers = [1,2,3,4]\n",
    "numbers = numbers.extend([5,6,7,8])\n",
    "\n",
    "answer = sum(numbers)\n",
    "\n",
    "# TEST\n",
    "print(\"fix_it_numbers\")\n",
    "test(answer, 36)"
   ]
  },
  {
   "cell_type": "code",
   "execution_count": null,
   "metadata": {},
   "outputs": [],
   "source": []
  },
  {
   "cell_type": "markdown",
   "metadata": {},
   "source": [
    "#### Exercise 3 - Fix it Open\n",
    "\n",
    "We try to read the contents of data/names_raw.txt into a string.\n",
    "\n",
    "Can you help?"
   ]
  },
  {
   "cell_type": "code",
   "execution_count": null,
   "metadata": {},
   "outputs": [],
   "source": [
    "import os"
   ]
  },
  {
   "cell_type": "code",
   "execution_count": null,
   "metadata": {},
   "outputs": [],
   "source": [
    "with open(os.path.join(data, \"names_raw.txt\"), 'a') as f:\n",
    "    content = f.read()\n",
    "    \n",
    "# TEST\n",
    "print(\"fix_it_open\")\n",
    "test(content, 'The names are:\\n\\nJeremy\\nJan\\nAkmal')"
   ]
  },
  {
   "cell_type": "code",
   "execution_count": null,
   "metadata": {},
   "outputs": [],
   "source": []
  },
  {
   "cell_type": "markdown",
   "metadata": {},
   "source": [
    "#### Exercise 4 - Try salaries\n",
    "\n",
    "Have a look at the data/salaries.txt file\n",
    "\n",
    "Load it into a list of dictionaries and use try catch to handle the non-dictionary lines."
   ]
  },
  {
   "cell_type": "code",
   "execution_count": null,
   "metadata": {},
   "outputs": [],
   "source": [
    "salaries = ## your code\n",
    "        \n",
    "# TEST\n",
    "print(\"try_salaries\")\n",
    "from answers import the_salaries\n",
    "test(salaries, the_salaries)"
   ]
  },
  {
   "cell_type": "code",
   "execution_count": null,
   "metadata": {},
   "outputs": [],
   "source": []
  },
  {
   "cell_type": "markdown",
   "metadata": {
    "toc-hr-collapsed": false
   },
   "source": [
    "## Object Oriented Programming\n",
    "\n",
    "Object-oriented Programming, or OOP for short, is a programming paradigm in which properties and behaviours are bundled into objects.\n",
    "\n",
    "We will define a class Student. A class is a blue-print for an object. After defining the class Student there is only one Student class and you can create many Student objects out of that class.\n",
    "\n",
    "Then we create a child class PythonStudent. The child class inherits all the properties from its parent and has it's own functionalities additionally."
   ]
  },
  {
   "cell_type": "code",
   "execution_count": null,
   "metadata": {},
   "outputs": [],
   "source": []
  },
  {
   "cell_type": "code",
   "execution_count": null,
   "metadata": {},
   "outputs": [],
   "source": [
    "jeremy = Student(\"Jeremy\", [10,4,5])"
   ]
  },
  {
   "cell_type": "code",
   "execution_count": null,
   "metadata": {},
   "outputs": [],
   "source": [
    "jeremy"
   ]
  },
  {
   "cell_type": "markdown",
   "metadata": {},
   "source": [
    "Now copy paste code above and add this dunder method \\_\\_repr\\_\\_"
   ]
  },
  {
   "cell_type": "code",
   "execution_count": null,
   "metadata": {},
   "outputs": [],
   "source": []
  },
  {
   "cell_type": "code",
   "execution_count": null,
   "metadata": {},
   "outputs": [],
   "source": [
    "jeremy = Student(\"Jeremy\", [10,4,5])\n",
    "print(jeremy)"
   ]
  },
  {
   "cell_type": "markdown",
   "metadata": {},
   "source": [
    "Now Jeremy is represented by the string you defined.\n",
    "\n",
    "We will extend this class with an average methods the returns the average grade of the student.\n",
    "\n",
    "You can copy paste again and add the average function."
   ]
  },
  {
   "cell_type": "code",
   "execution_count": null,
   "metadata": {},
   "outputs": [],
   "source": []
  },
  {
   "cell_type": "code",
   "execution_count": null,
   "metadata": {},
   "outputs": [],
   "source": [
    "jeremy = Student(\"Jeremy\", [10,4,5])\n",
    "jeremy.average()"
   ]
  },
  {
   "cell_type": "markdown",
   "metadata": {},
   "source": [
    "In OOP there is the concept of heritance. You can make a class that is the child of another class.\n",
    "\n",
    "We will define a class PythonStudent."
   ]
  },
  {
   "cell_type": "code",
   "execution_count": null,
   "metadata": {},
   "outputs": [],
   "source": []
  },
  {
   "cell_type": "code",
   "execution_count": null,
   "metadata": {},
   "outputs": [],
   "source": [
    "akmal = PythonStudent(\"Akmal\", [10, 20])\n",
    "akmal"
   ]
  },
  {
   "cell_type": "code",
   "execution_count": null,
   "metadata": {},
   "outputs": [],
   "source": []
  },
  {
   "cell_type": "code",
   "execution_count": null,
   "metadata": {},
   "outputs": [],
   "source": []
  },
  {
   "cell_type": "code",
   "execution_count": null,
   "metadata": {},
   "outputs": [],
   "source": [
    "jan = PythonStudent(\"Jan\", [30,20,15])"
   ]
  },
  {
   "cell_type": "code",
   "execution_count": null,
   "metadata": {},
   "outputs": [],
   "source": [
    "students = [jeremy, jan, akmal]\n",
    "students"
   ]
  },
  {
   "cell_type": "markdown",
   "metadata": {},
   "source": [
    "We can sort the students based on their average."
   ]
  },
  {
   "cell_type": "code",
   "execution_count": null,
   "metadata": {},
   "outputs": [],
   "source": []
  },
  {
   "cell_type": "markdown",
   "metadata": {},
   "source": [
    "We can filter the Python students."
   ]
  },
  {
   "cell_type": "code",
   "execution_count": null,
   "metadata": {},
   "outputs": [],
   "source": []
  },
  {
   "cell_type": "markdown",
   "metadata": {},
   "source": [
    "Well done!"
   ]
  },
  {
   "cell_type": "markdown",
   "metadata": {
    "toc-hr-collapsed": false
   },
   "source": [
    "### Summary"
   ]
  },
  {
   "cell_type": "markdown",
   "metadata": {},
   "source": [
    "> #### class \n",
    "Python is an Object Oriented Programming language (OOP). This means that almost all the code is implemented using a special construct called classes. Programmers use classes to keep related things together. When defining a child class it will inherit the methods from the parent class. \n",
    "\n",
    "```python\n",
    "class Student:\n",
    "    \n",
    "    def __init__(self, name, grades=[]):\n",
    "        self.name = name\n",
    "        self.grades = grades\n",
    "        \n",
    "    def __repr__(self):\n",
    "        return \"{}:{}\".format(self.name, self.grades)\n",
    "    \n",
    "    def average(self):\n",
    "        return round(sum(self.grades) / len(self.grades), 2)\n",
    "    \n",
    "\n",
    "class PythonStudent(Student):\n",
    "    \n",
    "    def can_program(self):\n",
    "        return True\n",
    "```"
   ]
  },
  {
   "cell_type": "markdown",
   "metadata": {
    "toc-hr-collapsed": false
   },
   "source": [
    "### RUN ME\n",
    "\n",
    "Please run the below code snippet. It is required for running tests for your solution."
   ]
  },
  {
   "cell_type": "code",
   "execution_count": null,
   "metadata": {},
   "outputs": [],
   "source": [
    "def test(got, expected):\n",
    "    if got == expected:\n",
    "        prefix = ' OK '\n",
    "    else:\n",
    "        prefix = '  FAIL '\n",
    "    print(('%s got: %s expected: %s' % (prefix, repr(got), repr(expected))))"
   ]
  },
  {
   "cell_type": "code",
   "execution_count": null,
   "metadata": {},
   "outputs": [],
   "source": [
    "test('a', 'ab')\n",
    "test('a', 'a')"
   ]
  },
  {
   "cell_type": "markdown",
   "metadata": {},
   "source": [
    "### Exercises"
   ]
  },
  {
   "cell_type": "markdown",
   "metadata": {},
   "source": [
    "The CEO of your company happens to have a kid who is totally into Pokemon! For this reason he is very interested in finding out more about these Pokemon for himself. The thing is.. all these Pokemons are hidden away in files and spread out over different continents and countries folders. Oh no, what a bummer.\n",
    "\n",
    "Ambitious as you are and on the verge of locking down that next promotion you walk in and say: \n",
    "\n",
    "> _\"Calm down, I have just finished my Python-Fundamentals course, let me handle this.\"_\n",
    "\n",
    "Use your Python skills in browsing folder structure, lists, dictionaries, reading from csv and writing to Excel to provide those insights and totally save the day!\n",
    "\n",
    "Have a look the the pokeworld folder inside the data folder.\n",
    "\n",
    "The folder structure is like this: continent/country/pokemon.txt\n",
    "\n",
    "Each file represents a pokemon and inside the file is the description."
   ]
  },
  {
   "cell_type": "markdown",
   "metadata": {},
   "source": [
    "#### Exercise 1 - Get pokemon info\n",
    "\n",
    "Get the continent, country, name and description for the pokemon in pokeworld/Asia/Malaysia/Wooper.txt\n",
    "\n",
    "Hints: help(str.split), with open()"
   ]
  },
  {
   "cell_type": "code",
   "execution_count": null,
   "metadata": {},
   "outputs": [],
   "source": [
    "import os\n",
    "pokefile = os.path.join(\"data\", \"pokeworld/Asia/Malaysia/Wooper.txt\")"
   ]
  },
  {
   "cell_type": "code",
   "execution_count": null,
   "metadata": {},
   "outputs": [],
   "source": []
  },
  {
   "cell_type": "code",
   "execution_count": null,
   "metadata": {},
   "outputs": [],
   "source": []
  },
  {
   "cell_type": "markdown",
   "metadata": {},
   "source": [
    "#### Exercise 2 - Create a pokemon class"
   ]
  },
  {
   "cell_type": "markdown",
   "metadata": {},
   "source": [
    "Create a pokemon class which has three methods:\n",
    "- \\_\\_init\\_\\_(self, pokefile) -- assign self.name, self.continent, self.country and self.description with contents from the file\n",
    "- \\_\\_repr\\_\\_(self) -- represent a pokemon like 'Wooper from Malaysia, Asia'\n",
    "- is_big_data(self) -- if there is 'Apache' or 'Hadoop' in self.description return True"
   ]
  },
  {
   "cell_type": "code",
   "execution_count": null,
   "metadata": {},
   "outputs": [],
   "source": [
    "## your code here\n",
    "    \n",
    "# TEST\n",
    "print(\"create_pokemon_class\")\n",
    "pokefile = os.path.join(\"data\", \"pokeworld/Asia/Malaysia/Wooper.txt\")\n",
    "pokefile2 = os.path.join(\"data\", \"pokeworld/Asia/Thailand/Hive.txt\")\n",
    "\n",
    "wooper = Pokemon(pokefile)\n",
    "hive = Pokemon(pokefile2)\n",
    "\n",
    "test(wooper.__repr__(), 'Wooper from Malaysia, Asia')\n",
    "test(wooper.is_big_data(), False)\n",
    "test(hive.is_big_data(), True)"
   ]
  },
  {
   "cell_type": "code",
   "execution_count": null,
   "metadata": {},
   "outputs": [],
   "source": []
  },
  {
   "cell_type": "markdown",
   "metadata": {},
   "source": [
    "#### Exercise 3 -  Load all pokemons\n",
    "\n",
    "Now that we have defined the Pokemon class we can make a list of all the pokemon.\n",
    "\n",
    "Hints: glob.glob, Pokemon(pokefile)"
   ]
  },
  {
   "cell_type": "code",
   "execution_count": null,
   "metadata": {},
   "outputs": [],
   "source": [
    "## your code here\n",
    "\n",
    "pokemons = ## your code here\n",
    "\n",
    "# TEST\n",
    "print(\"load_all_pokemons\")\n",
    "test(len(pokemons), 750)\n",
    "test(type(pokemons[0]), Pokemon)"
   ]
  },
  {
   "cell_type": "code",
   "execution_count": null,
   "metadata": {},
   "outputs": [],
   "source": []
  },
  {
   "cell_type": "markdown",
   "metadata": {},
   "source": [
    "#### Exercise 4 - Provide insights\n",
    "\n",
    "Now that we have a list of pokemon, let's answer some questions!\n",
    "\n",
    "1. In which country is Pikachu?\n",
    "2. How many pokemons in Malaysia?\n",
    "3. How many pokemons in Asia?\n",
    "4. Which continent has the most pokemons?\n",
    "5. Which country has least pokemons?\n",
    "6. Which countries have bigdata?"
   ]
  },
  {
   "cell_type": "markdown",
   "metadata": {},
   "source": [
    "4.1 In which country is Pikachu?"
   ]
  },
  {
   "cell_type": "code",
   "execution_count": null,
   "metadata": {},
   "outputs": [],
   "source": []
  },
  {
   "cell_type": "markdown",
   "metadata": {},
   "source": [
    "4.2 How many pokemons in Malaysia?"
   ]
  },
  {
   "cell_type": "code",
   "execution_count": null,
   "metadata": {},
   "outputs": [],
   "source": []
  },
  {
   "cell_type": "markdown",
   "metadata": {},
   "source": [
    "4.3 How many pokemons in Asia?"
   ]
  },
  {
   "cell_type": "code",
   "execution_count": null,
   "metadata": {},
   "outputs": [],
   "source": []
  },
  {
   "cell_type": "markdown",
   "metadata": {},
   "source": [
    "4.4 Which continent has the most pokemons?\n",
    "\n",
    "Hints: \n",
    "- make a dictionary continents for the count\n",
    "- continents.setdefault\n",
    "- sorted(continens.items(), key=... , reverse=True)"
   ]
  },
  {
   "cell_type": "code",
   "execution_count": null,
   "metadata": {},
   "outputs": [],
   "source": []
  },
  {
   "cell_type": "markdown",
   "metadata": {},
   "source": [
    "4.5 Which country has the least pokemon?"
   ]
  },
  {
   "cell_type": "code",
   "execution_count": null,
   "metadata": {},
   "outputs": [],
   "source": []
  },
  {
   "cell_type": "markdown",
   "metadata": {},
   "source": [
    "4.6 Which countries have big data?\n",
    "\n",
    "Hints: set() to get unique values of a list."
   ]
  },
  {
   "cell_type": "code",
   "execution_count": null,
   "metadata": {},
   "outputs": [],
   "source": []
  },
  {
   "cell_type": "markdown",
   "metadata": {},
   "source": [
    "# Well done! Congrats on completing Python Fundamentals!"
   ]
  }
 ],
 "metadata": {
  "kernelspec": {
   "display_name": "Python 3",
   "language": "python",
   "name": "python3"
  },
  "language_info": {
   "codemirror_mode": {
    "name": "ipython",
    "version": 3
   },
   "file_extension": ".py",
   "mimetype": "text/x-python",
   "name": "python",
   "nbconvert_exporter": "python",
   "pygments_lexer": "ipython3",
   "version": "3.7.4"
  }
 },
 "nbformat": 4,
 "nbformat_minor": 4
}
