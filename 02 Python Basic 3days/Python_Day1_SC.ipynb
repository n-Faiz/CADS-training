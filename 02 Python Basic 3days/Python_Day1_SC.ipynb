{
 "cells": [
  {
   "cell_type": "markdown",
   "metadata": {},
   "source": [
    "<img src=\"images/cads-logo.png\" style=\"height: 100px;\" align=left> <img src=\"images/python-logo.png\" style=\"height: 100px;\" align=right>"
   ]
  },
  {
   "cell_type": "markdown",
   "metadata": {},
   "source": [
    "# Python Fundamentals Day 1\n",
    "\n",
    "Welcome to Python Fundamentals Day 1.\n",
    "\n",
    "So what is on the menu for today? \n",
    "\n",
    "At first we talk about what is programming and what is so great about the programming language Python. Then we have a look at this programming environment we are working in, Jupyter.\n",
    "\n",
    "Then we get started. \n",
    "\n",
    "Today you will learn how to print text, numeric calculations, to use variables, make a list, loop over a list, do an if-else statement, define a function and do string operations. "
   ]
  },
  {
   "cell_type": "markdown",
   "metadata": {},
   "source": [
    "## Table of Contents\n",
    "\n",
    "- [Introduction to Python programming](#Introduction-to-Python-programming)\n",
    "    - [What is programming](#What-is-programming)\n",
    "    - [Why learn how to program](#Why-learn-how-to-program)\n",
    "    - [Programming languages](#Programming-languages)\n",
    "    - [What is Python](#What-is-Python)\n",
    "    - [Programming basics](#Programming-basics)\n",
    "- [Introduction to Jupyter](#Introduction-to-Jupyter)\n",
    "    - [What is Jupyter](#What-is-Jupyter)\n",
    "    - [Jupyter short keys](#Jupyter-short-keys)\n",
    "- [Getting started](#Getting-started)\n",
    "    - [Hello world](#Hello-world)\n",
    "    - [Python as a Calculator](#Python-as-a-Calculator)\n",
    "    - [Summary Getting started](#Summary-Getting-started)\n",
    "        - [print](#print)\n",
    "        - [arithmetic operations](#arithmetic-operations)\n",
    "- [Variables For loop and If Else](#Variables-For-loop-and-If-Else)\n",
    "    - [Your first Error](#Your-first-Error)\n",
    "    - [Variables](#Variables)\n",
    "    - [For Loop](#For-Loop)\n",
    "    - [If elif else](#If-elif-else)\n",
    "    - [If else inside a For loop](#If-else-inside-a-For-loop)\n",
    "    - [Summary Variables](#Summary-Variables)\n",
    "        - [variable](#variable)\n",
    "        - [whos](#whos)\n",
    "        - [del](#del)\n",
    "        - [list](#list)\n",
    "        - [for loop](#for-loop)\n",
    "        - [condition](#condition)\n",
    "        - [if elif else](#if-elif-else)\n",
    "    - [Exercises](#Exercises)\n",
    "        - [Exercise 1 - Seconds in course](#Exercise-1---Seconds-in-course)\n",
    "        - [Exercise 2 - Teambuilding](#Exercise-2---Teambuilding)\n",
    "        - [Exercise 3 - Total value](#Exercise-3---Total-value)\n",
    "        - [Exercise 4 - Uneven numbers](#Exercise-4---Uneven-numbers)\n",
    "        - [Exercise 5 - Even numbers](#Exercise-5---Even-numbers)\n",
    "        - [Exercise 6 - Find the maximum](#Exercise-6---Find-the-maximum)\n",
    "- [In Python everything is objects](#In-Python-everything-is-objects)\n",
    "    - [Types](#Types)\n",
    "    - [Integer and Float](#Integer-and-Float)\n",
    "    - [String](#String)\n",
    "    - [Boolean](#Boolean)\n",
    "    - [List](#List)\n",
    "    - [Tuple](#Tuple)\n",
    "    - [Dictionary](#Dictionary)\n",
    "    - [None](#None)\n",
    "    - [Mutable and Immutable objects](#Mutable-and-Immutable-objects)\n",
    "    - [Avoid overwriting built-in function](#Avoid-overwriting-built-in-function)\n",
    "    - [Show types using a function and a loop](#Show-types-using-a-function-and-a-loop)\n",
    "    - [Getting help on objects](#Getting-help-on-objects)\n",
    "    - [Summary Objects](#Summary-Objects)\n",
    "        - [object](#object)\n",
    "        - [function](#function)\n",
    "        - [method](#method)\n",
    "        - [int](#int)\n",
    "        - [float](#float)\n",
    "        - [str](#str)\n",
    "        - [bool](#bool)\n",
    "        - [list](#list)\n",
    "        - [tuple](#tuple)\n",
    "        - [dict](#dict)\n",
    "        - [None](#None)\n",
    "    - [RUN ME](#RUN-ME)\n",
    "    - [Practice Exercise together](#Practice-Exercise-together)\n",
    "        - [Practice Exercise 1 - Starts with B](#Practice-Exercise-1---Starts-with-B)\n",
    "    - [Exercises](#Exercises)\n",
    "        - [Exercise 1 - My name is](#Exercise-1---My-name-is)\n",
    "        - [Exercise 2 - Count occurences](#Exercise-2---Count-occurences)\n",
    "        - [Exercise 3 - Bigger](#Exercise-3---Bigger)\n",
    "        - [Exercise 4 - Donuts](#Exercise-4---Donuts)\n",
    "        - [Exercise 5 - Both ends](#Exercise-5---Both-ends)\n",
    "        - [Exercise 6 - Fix start](#Exercise-6---Fix-start)\n",
    "        - [Exercise 7 - Mix up](#Exercise-7---Mix-up)\n",
    "        - [Exercise 8 - Verbing](#Exercise-8---Verbing)\n",
    "        - [Exercise 9 - Weekend](#Exercise-9---Weekend)\n",
    "        - [Exercise 10 - Leap baby](#Exercise-10---Leap-baby)"
   ]
  },
  {
   "cell_type": "markdown",
   "metadata": {
    "toc-hr-collapsed": false
   },
   "source": [
    "## Introduction to Python programming"
   ]
  },
  {
   "cell_type": "markdown",
   "metadata": {},
   "source": [
    "### What is programming\n",
    "\n",
    "Programming is writing a series of instructions to a computer to complete a task.\n",
    "\n",
    "The Instructions must be written in such a way that the computer can understand.\n",
    "\n",
    "Programming languages, such as Python are used to write programs.\n",
    "\n",
    "Programming is Fun!\n",
    "\n",
    "Programming is Frustrating!\n",
    "\n",
    "Programming is Creative!\n",
    "\n",
    "Programming is Communication!\n",
    "- between you and the computer\n",
    "- between you and other coders"
   ]
  },
  {
   "cell_type": "markdown",
   "metadata": {},
   "source": [
    "### Why learn how to program\n",
    "\n",
    "Why would you want to learn programming?\n",
    "\n",
    "**Automate.** Programming gives you the ability to automate tasks.\n",
    "\n",
    "**Problem solving.** It teaches you how to decompose problems into smaller parts, which is great for your problem solving ability.\n",
    "\n",
    "**Understand code.** Being able to read and understand other's code.\n",
    "\n",
    "**Productive.** This makes you more effective, efficient and productive."
   ]
  },
  {
   "cell_type": "markdown",
   "metadata": {},
   "source": [
    "### Programming languages\n",
    "\n",
    "There are many programming languages out there such as Java, C, C++ and R. Each has its own strenghts and weaknesses and is very suitable for certain applications."
   ]
  },
  {
   "cell_type": "markdown",
   "metadata": {},
   "source": [
    "### What is Python\n",
    "\n",
    "Python was created by Guido van Rossum and first released in 1991.\n",
    "\n",
    "**Open source.** The Python interpreter is open source software and managed by the non-profit Python Software Foundation.\n",
    "\n",
    "**Readability.** Python has a design philosophy that emphasizes code readability, notably using significant whitespace.\n",
    "\n",
    "**High-level.** Python is a very high-level programming language. High-level programming languages have strong abstraction from the details of the computer. For example memory management has been taken care of. So in the code you will see commands that sound natural like english and the details under the hood of those commands are already being taken care of. Handy!\n",
    "\n",
    "**Interpreted.** Python is an interpreted language. It's means that Python code will not be compiled but each command will be translated into machine instructions and executed directly by the interpreter. This enables interactive computing as we will be doing in this course.\n",
    "\n",
    "**Object Oriented.** Python is an Object Oriented Programming Language. It means that functionality is bundled together in objects and you can reason with those objects and let them interact.\n",
    "\n",
    "**Dynamic typing.** Python has dynamic typing which means you don't have to declare the type of your variables.\n",
    "\n",
    "**Large standard library.** Python has a large and comprehensive standard library with lot's of functionality available right out of the box.\n",
    "\n",
    "**Large 3rd party libraries.** Python has a large collection of 3rd party libraries available as well. There are lot's of data science Python libraries that provide functionality for table operations, querying, visualisation, machine learning, data scraping and more.\n",
    "\n",
    "**Great for data science.** Python is easy to learn and very powerful. Python enables high productivity. It's has numerous data science libraries and a large supporting open source community."
   ]
  },
  {
   "cell_type": "markdown",
   "metadata": {},
   "source": [
    "### Programming basics\n",
    "\n",
    "**Code.** The sequence of instructions in a program.\n",
    "\n",
    "**Syntax.** The legal set of instructions that can be used in a programming language. It's a collection of allowed commands and allowed grammar applied.\n",
    "\n",
    "**Output.** Messages printed to the user by a program.\n",
    "\n",
    "**Console.** Text box onto which output is printed. In Jupyter this is the outputbox for each cell.\n",
    "\n",
    "**Kernel / Interpreter.** The kernel is a running program that takes the instructions as input, translates it to machine code and executes it. A interpreter is a kernel that executes line by line and as opposed to a compiler that evaluates that whole program and then translates and executes the whole program at once. Python is an interpreted languages and has an Interpreter. "
   ]
  },
  {
   "cell_type": "markdown",
   "metadata": {},
   "source": [
    "## Introduction to Jupyter"
   ]
  },
  {
   "cell_type": "markdown",
   "metadata": {},
   "source": [
    "### What is Jupyter\n",
    "\n",
    "The Jupyter Notebook is an open-source web application that allows you to create and share documents that contain live code, equations, visualizations and narrative text. Uses include: data cleaning and transformation, numerical simulation, statistical modeling, data visualization, machine learning, and much more.\n",
    "\n",
    "Jupyter is a server-client application that allows editing and running notebook documents via a web browser. The Jupyter Notebook app can be executed on a local desktop requiring no internet access or can be installed on a remote server and accessed through the internet.\n",
    "\n",
    "Notice the different cell types; Code, Markdown and Raw.\n",
    "\n",
    "Also learn how to use the short-keys from the start, they will make you productive!"
   ]
  },
  {
   "cell_type": "markdown",
   "metadata": {},
   "source": [
    "### Jupyter short keys\n",
    "\n",
    "These are the most common used short keys:\n",
    "\n",
    "- Esc + a -- Open a new cell above\n",
    "- Esc + b -- Open a new cell below\n",
    "- Shift + Enter -- Run the cell, and go to next one\n",
    "- Ctrl + Enter -- Run the cell and stay there\n",
    "- Alt + Enter -- Run the cell, and make a new one (Option-key for Mac)\n",
    "- Ctrl + / -- Comment or Uncomment your selection\n",
    "- Esc + m -- Change cell type into Markdown (text modus). Then run again with Crtl+Enter\n",
    "- Esc + y -- Change cell type into Code (code modus). Then run again with Crtl+Enter\n",
    "\n",
    "Let's try them out and get familiar."
   ]
  },
  {
   "cell_type": "markdown",
   "metadata": {},
   "source": [
    "## Getting started"
   ]
  },
  {
   "cell_type": "markdown",
   "metadata": {},
   "source": [
    "### Hello world\n",
    "\n",
    "Let's get started! \n",
    "\n",
    "Since programming is best learned by typing yourself we will do it quite a bit in this class.\n",
    "\n",
    "You don't have to type over the \"# MC\" part. This is something we use to remove cells from the MasterCopy to the StudentCopy. \n",
    "\n",
    "The # is used for commenting. Python wil not evaluate the text as code.\n",
    "\n",
    "Type down the following code and run it with Crtl+Enter."
   ]
  },
  {
   "cell_type": "code",
   "execution_count": null,
   "metadata": {},
   "outputs": [],
   "source": []
  },
  {
   "cell_type": "code",
   "execution_count": null,
   "metadata": {},
   "outputs": [],
   "source": []
  },
  {
   "cell_type": "markdown",
   "metadata": {},
   "source": [
    "**Question:** See a difference between the first and the second output? \n",
    "<br>\n",
    "**Answer:**"
   ]
  },
  {
   "cell_type": "markdown",
   "metadata": {},
   "source": [
    "The print() function prints whatever you give it to the console. You see the text printed to the console. \n",
    "\n",
    "When your last statement is an object, it is shown as an output of your cell, that's why you get the number corresponding to the cell."
   ]
  },
  {
   "cell_type": "markdown",
   "metadata": {},
   "source": [
    "This is better demonstrated by the following example.\n",
    "\n",
    "\"\\\\\" is an escape character. \"\\n\" means a line break."
   ]
  },
  {
   "cell_type": "code",
   "execution_count": null,
   "metadata": {},
   "outputs": [],
   "source": []
  },
  {
   "cell_type": "code",
   "execution_count": null,
   "metadata": {},
   "outputs": [],
   "source": []
  },
  {
   "cell_type": "markdown",
   "metadata": {},
   "source": [
    "Both Hello's will be printed."
   ]
  },
  {
   "cell_type": "code",
   "execution_count": null,
   "metadata": {},
   "outputs": [],
   "source": []
  },
  {
   "cell_type": "markdown",
   "metadata": {},
   "source": [
    "Only the last Hello will be displayed in the console."
   ]
  },
  {
   "cell_type": "code",
   "execution_count": null,
   "metadata": {},
   "outputs": [],
   "source": []
  },
  {
   "cell_type": "markdown",
   "metadata": {},
   "source": [
    "You can chain inputs in the print function by giving the print function what we call multiple arguments. By default the inputs are separated by a space."
   ]
  },
  {
   "cell_type": "code",
   "execution_count": null,
   "metadata": {},
   "outputs": [],
   "source": []
  },
  {
   "cell_type": "markdown",
   "metadata": {},
   "source": [
    "### Python as a Calculator\n",
    "\n",
    "Did you know you can use Python as a calculator? The basic operations like adding, subtracting etc are all there. Quite handy. \n",
    "\n",
    "| Symbol | Task Performed |\n",
    "|----|---|\n",
    "| +  | Addition |\n",
    "| -  | Subtraction |\n",
    "| /  | division |\n",
    "| *  | multiplication |\n",
    "| **  | to the power of |\n",
    "| //  | floor division |\n",
    "| %  | modulo |\n"
   ]
  },
  {
   "cell_type": "markdown",
   "metadata": {},
   "source": [
    "Type along."
   ]
  },
  {
   "cell_type": "code",
   "execution_count": null,
   "metadata": {},
   "outputs": [],
   "source": []
  },
  {
   "cell_type": "code",
   "execution_count": null,
   "metadata": {},
   "outputs": [],
   "source": []
  },
  {
   "cell_type": "code",
   "execution_count": null,
   "metadata": {},
   "outputs": [],
   "source": []
  },
  {
   "cell_type": "code",
   "execution_count": null,
   "metadata": {},
   "outputs": [],
   "source": []
  },
  {
   "cell_type": "code",
   "execution_count": null,
   "metadata": {},
   "outputs": [],
   "source": []
  },
  {
   "cell_type": "markdown",
   "metadata": {},
   "source": [
    "Floor division is like normal division but rounded down to the nearest integer."
   ]
  },
  {
   "cell_type": "code",
   "execution_count": null,
   "metadata": {},
   "outputs": [],
   "source": []
  },
  {
   "cell_type": "markdown",
   "metadata": {},
   "source": [
    "Modulo is the remainder of that division. Modulo can be used to determine if a number is even or uneven."
   ]
  },
  {
   "cell_type": "code",
   "execution_count": null,
   "metadata": {},
   "outputs": [],
   "source": []
  },
  {
   "cell_type": "code",
   "execution_count": null,
   "metadata": {},
   "outputs": [],
   "source": []
  },
  {
   "cell_type": "markdown",
   "metadata": {},
   "source": [
    "Modulo can also be used to check if a number is divisible by a number"
   ]
  },
  {
   "cell_type": "code",
   "execution_count": null,
   "metadata": {},
   "outputs": [],
   "source": []
  },
  {
   "cell_type": "code",
   "execution_count": null,
   "metadata": {},
   "outputs": [],
   "source": []
  },
  {
   "cell_type": "code",
   "execution_count": null,
   "metadata": {},
   "outputs": [],
   "source": []
  },
  {
   "cell_type": "markdown",
   "metadata": {
    "toc-hr-collapsed": false
   },
   "source": [
    "### Summary Getting started"
   ]
  },
  {
   "cell_type": "markdown",
   "metadata": {},
   "source": [
    "> #### print\n",
    "The print function in Python is a function that outputs to your console window whatever you say you want to print out. At first blush, it might appear that the print function is rather useless for programming, but it is actually one of the most widely used functions in all of python.\n",
    "\n",
    "```python\n",
    "print(\"Hello world!\")\n",
    "print(\"Jan\", \"Jeremy\", \"Akmal\")\n",
    "```"
   ]
  },
  {
   "cell_type": "markdown",
   "metadata": {},
   "source": [
    "> #### arithmetic operations\n",
    "These are numeric operation.\n",
    "```python\n",
    "1+1\n",
    "2-1\n",
    "10/2\n",
    "5*2\n",
    "5**2\n",
    "23//4\n",
    "23%5\n",
    "```"
   ]
  },
  {
   "cell_type": "markdown",
   "metadata": {
    "toc-hr-collapsed": false
   },
   "source": [
    "## Variables For loop and If Else"
   ]
  },
  {
   "cell_type": "markdown",
   "metadata": {},
   "source": [
    "### Your first Error"
   ]
  },
  {
   "cell_type": "markdown",
   "metadata": {},
   "source": [
    "Now let's try this. Stay calm."
   ]
  },
  {
   "cell_type": "code",
   "execution_count": null,
   "metadata": {},
   "outputs": [],
   "source": []
  },
  {
   "cell_type": "markdown",
   "metadata": {},
   "source": [
    "Oh no! What happened?\n",
    "\n",
    "This is what we call an Error. There are many types of Errors. This one is a SyntaxError. It means the Python grammar is not correct. You get a SyntaxError when you give a command that does not make sense. You also get a SyntaxError when you make a typo.\n",
    "\n",
    "In python \"=\" is an assignment operator. This means that python assigns what is on the right to the container that is on the left. \"11%2\" is not a container, so Python cannot do what you ask, so you get the Error."
   ]
  },
  {
   "cell_type": "markdown",
   "metadata": {},
   "source": [
    "### Variables"
   ]
  },
  {
   "cell_type": "markdown",
   "metadata": {},
   "source": [
    "You can assign things to a variable. Then you can use the value inside the variable later on.\n",
    "\n",
    "Let's try."
   ]
  },
  {
   "cell_type": "code",
   "execution_count": null,
   "metadata": {},
   "outputs": [],
   "source": []
  },
  {
   "cell_type": "markdown",
   "metadata": {},
   "source": [
    "Notice there is no output for this cell. \n",
    "\n",
    "We have stored 10 inside variable \"number\". We can now get the number like this."
   ]
  },
  {
   "cell_type": "code",
   "execution_count": null,
   "metadata": {},
   "outputs": [],
   "source": []
  },
  {
   "cell_type": "code",
   "execution_count": null,
   "metadata": {},
   "outputs": [],
   "source": []
  },
  {
   "cell_type": "code",
   "execution_count": null,
   "metadata": {},
   "outputs": [],
   "source": []
  },
  {
   "cell_type": "markdown",
   "metadata": {},
   "source": [
    "We can write this more compact.\n",
    "\n",
    "With the \"+=\" operator we can add a number."
   ]
  },
  {
   "cell_type": "code",
   "execution_count": null,
   "metadata": {},
   "outputs": [],
   "source": []
  },
  {
   "cell_type": "code",
   "execution_count": null,
   "metadata": {},
   "outputs": [],
   "source": []
  },
  {
   "cell_type": "markdown",
   "metadata": {},
   "source": [
    "### For Loop"
   ]
  },
  {
   "cell_type": "markdown",
   "metadata": {},
   "source": [
    "Now we will make a list of numbers and sum up the total value. "
   ]
  },
  {
   "cell_type": "code",
   "execution_count": null,
   "metadata": {},
   "outputs": [],
   "source": []
  },
  {
   "cell_type": "markdown",
   "metadata": {},
   "source": [
    "What did we do here?\n",
    "\n",
    "We defined a variable called \"numbers\" and assigned it with a list of numbers. Notice the [ ] squared brackets, this is how you define a list.\n",
    "\n",
    "We defined another variable called \"total\" and assigned it with value 0.\n",
    "\n",
    "Then we defined a \"for loop\". We iterate over all the items in the list and do something for each of those items. The variable \"numbers\" refers to the list. The variable \"number\" refers to one item and the value of \"number\" changes during the loop.\n",
    "\n",
    "Notice the indent. It is a \"tab\" or \"4 spaces\". It means that the code inside that block is executed for each item in the list that we are looping over.\n",
    "\n",
    "Also notice the colors here. Purple is used for operators, green for numbers and fat-green for Python keywords. Keywords are reserved Python and cannot be used for variable names.\n",
    "\n",
    "Let's add some print statements to clarify our understanding of what happens in this loop."
   ]
  },
  {
   "cell_type": "code",
   "execution_count": null,
   "metadata": {},
   "outputs": [],
   "source": []
  },
  {
   "cell_type": "markdown",
   "metadata": {},
   "source": [
    "We can use the following Jupyter magic function to show the variables in our namespace."
   ]
  },
  {
   "cell_type": "code",
   "execution_count": null,
   "metadata": {},
   "outputs": [],
   "source": []
  },
  {
   "cell_type": "markdown",
   "metadata": {},
   "source": [
    "We can use the \"del\" command to remove a variable."
   ]
  },
  {
   "cell_type": "code",
   "execution_count": null,
   "metadata": {},
   "outputs": [],
   "source": []
  },
  {
   "cell_type": "code",
   "execution_count": null,
   "metadata": {},
   "outputs": [],
   "source": []
  },
  {
   "cell_type": "markdown",
   "metadata": {},
   "source": [
    "### If elif else"
   ]
  },
  {
   "cell_type": "markdown",
   "metadata": {},
   "source": [
    "Let's get the total value of the \"even numbers\" and the \"uneven numbers\".\n",
    "\n",
    "First let's see how we can separate even and uneven."
   ]
  },
  {
   "cell_type": "code",
   "execution_count": null,
   "metadata": {},
   "outputs": [],
   "source": []
  },
  {
   "cell_type": "code",
   "execution_count": null,
   "metadata": {},
   "outputs": [],
   "source": []
  },
  {
   "cell_type": "code",
   "execution_count": null,
   "metadata": {},
   "outputs": [],
   "source": []
  },
  {
   "cell_type": "code",
   "execution_count": null,
   "metadata": {},
   "outputs": [],
   "source": []
  },
  {
   "cell_type": "code",
   "execution_count": null,
   "metadata": {},
   "outputs": [],
   "source": []
  },
  {
   "cell_type": "code",
   "execution_count": null,
   "metadata": {},
   "outputs": [],
   "source": []
  },
  {
   "cell_type": "markdown",
   "metadata": {},
   "source": [
    "What did we do here?\n",
    "\n",
    "Notice the fat-green keywords for \"if\", \"elif\" and \"else\". Notice the colon \":\". Also notice the idents (tab).\n",
    "\n",
    "Let talk about the conditions. The \"if\" condition here is \"number % 2 == 0\". There are two sides and a \"comparison operator\". The double \"==\" operator means \"equal to\". If the variable \"number\" is 13 then it evaluates to False. The \"elif\" condition is \"number > 10\". If the variable number is 13 then it evaluates to True.\n",
    "\n",
    "A condition always evaluates to either True or False.\n",
    "\n",
    "Lets talk about the \"if elif else\" statement. If the condition is True then the code block that belongs to If is executed, Else If the elif condition is True then the code block that belongs to elif is executed, Else the code block that belongs to Else is executed. \n",
    "\n",
    "You always must use 1 If statement.\n",
    "\n",
    "You may use 1 Else statement optional.\n",
    "\n",
    "You may use many Elif statements. "
   ]
  },
  {
   "cell_type": "markdown",
   "metadata": {},
   "source": [
    "**Question:** What will be printed for the numbers 3, 5, 12, 15?\n",
    "<br>\n",
    "\n",
    "**Answer:**"
   ]
  },
  {
   "cell_type": "markdown",
   "metadata": {},
   "source": [
    "### If else inside a For loop"
   ]
  },
  {
   "cell_type": "markdown",
   "metadata": {},
   "source": [
    "Now, let's get the total value of the \"even numbers\" and the \"uneven numbers\"."
   ]
  },
  {
   "cell_type": "code",
   "execution_count": null,
   "metadata": {},
   "outputs": [],
   "source": []
  },
  {
   "cell_type": "code",
   "execution_count": null,
   "metadata": {},
   "outputs": [],
   "source": []
  },
  {
   "cell_type": "markdown",
   "metadata": {},
   "source": [
    "What did we do here?\n",
    "\n",
    "We defined two variables \"total_even\" and \"total_uneven\" and set them to 0. \n",
    "\n",
    "We made a for loop to loop over each number in the list \"numbers\". \n",
    "\n",
    "For each number in the list, we check if the number is even using the condition \"number % 2 == 0\". If the number is even, it is added to variable \"total_even\". Else the number is added to variable \"total_uneven\".\n",
    "\n",
    "Notice the idents. The If-Else statement is within the For loop.\n",
    "\n",
    "We added some print statements for understanding."
   ]
  },
  {
   "cell_type": "markdown",
   "metadata": {
    "toc-hr-collapsed": false
   },
   "source": [
    "### Summary Variables"
   ]
  },
  {
   "cell_type": "markdown",
   "metadata": {},
   "source": [
    "> #### variable\n",
    "You can use a variable to store data in the memory and retrieve it later on.\n",
    "```python\n",
    "your_variable = 10\n",
    "```"
   ]
  },
  {
   "cell_type": "markdown",
   "metadata": {},
   "source": [
    "> #### whos\n",
    "Jupyter magic function to show the variables that are available in your current namespace.\n",
    "```python\n",
    "%whos\n",
    "```"
   ]
  },
  {
   "cell_type": "markdown",
   "metadata": {},
   "source": [
    "> #### del\n",
    "The del statement is used to delete things. You can delete a variable from the namespace using del. \"del\" is a Python keyword.\n",
    "```python\n",
    "del your_variable\n",
    "```"
   ]
  },
  {
   "cell_type": "markdown",
   "metadata": {},
   "source": [
    "> #### list\n",
    "A list of items. We can iterate over those items.\n",
    "```python\n",
    "numbers = [1,2,3,4]\n",
    "```"
   ]
  },
  {
   "cell_type": "markdown",
   "metadata": {},
   "source": [
    "> #### for loop\n",
    "Python statement used to iterate over the items of a list. \"for\" and \"in\" are Python keywords. The code that is indented is executed for each item in the list.\n",
    "```python\n",
    "for number in numbers:\n",
    "    print(number)\n",
    "```"
   ]
  },
  {
   "cell_type": "markdown",
   "metadata": {},
   "source": [
    "> #### condition\n",
    "Python statement that evaluates to either True or False. \">\", \"==\" and \"!=\" are comparison operators.\n",
    "```python\n",
    "a > 10\n",
    "a >= 10\n",
    "b % 2 == 0\n",
    "b % 2 != 0\n",
    "```"
   ]
  },
  {
   "cell_type": "markdown",
   "metadata": {},
   "source": [
    "> #### if elif else\n",
    "Python statement used to choose between which code gets executed. \"if\" \"elif\" \"else\" are Python keywords. If the \"if condition\" is True then the code that belongs to the if is executed and the other codes that belong to elif and else are ignored. In an if elif else statement there is always 1 \"if\", optionally 1 to many \"elif\" and optionally 1 \"else\".\n",
    "```python\n",
    "if number % 2 == 0:\n",
    "    print(\"Even number.\")\n",
    "elif number > 10:\n",
    "    print(\"Uneven number, bigger than 10.\")\n",
    "else:\n",
    "    print(\"Uneven number.\")\n",
    "```"
   ]
  },
  {
   "cell_type": "markdown",
   "metadata": {
    "toc-hr-collapsed": false
   },
   "source": [
    "### Exercises"
   ]
  },
  {
   "cell_type": "markdown",
   "metadata": {},
   "source": [
    "#### Exercise 1 - Seconds in course\n",
    "\n",
    "How many seconds will you spend in this 3-days course? \n",
    "\n",
    "Each course day has 8 hours."
   ]
  },
  {
   "cell_type": "code",
   "execution_count": null,
   "metadata": {},
   "outputs": [],
   "source": []
  },
  {
   "cell_type": "markdown",
   "metadata": {},
   "source": [
    "#### Exercise 2 - Teambuilding\n",
    "\n",
    "How many groups can be made during teambuilding?\n",
    "\n",
    "You are on a company team building event with a total of 57 people. The host of the day asks you all to form groups of 6 people. How many groups will there be? And how many people will be leftovers without a group?\n",
    "\n",
    "- Define variable \"people\"\n",
    "- Define variable \"group_size\"\n",
    "- Define and calculate \"groups\" using floor division.\n",
    "- Define and calculate \"leftovers\" using modulo.\n",
    "- Print groups and leftovers"
   ]
  },
  {
   "cell_type": "code",
   "execution_count": null,
   "metadata": {},
   "outputs": [],
   "source": []
  },
  {
   "cell_type": "markdown",
   "metadata": {},
   "source": [
    "#### Exercise 3 - Total value\n",
    "\n",
    "What is the total value of the numbers in this list?\n",
    "\n",
    "Numbers: 1, 10, 15, 44, 22, 5, 6, 9\n",
    "\n",
    "- Define a variable called \"numbers\" which contains the numbers. \n",
    "- Define a variable \"total_value\" with value 0. \n",
    "- Loop over the numbers and add to total_value."
   ]
  },
  {
   "cell_type": "code",
   "execution_count": null,
   "metadata": {},
   "outputs": [],
   "source": []
  },
  {
   "cell_type": "markdown",
   "metadata": {},
   "source": [
    "#### Exercise 4 - Uneven numbers \n",
    "\n",
    "How many uneven numbers are there in this list?\n",
    "\n",
    "Numbers: 1,10, 15, 44, 22, 5, 6, 9\n",
    "\n",
    "- Define a variable called \"numbers\" which contains the numbers. \n",
    "- Define a variable called \"count_uneven\" with value 0.\n",
    "- Loop over the numbers and add +1 to count_uneven if the number is uneven."
   ]
  },
  {
   "cell_type": "code",
   "execution_count": null,
   "metadata": {},
   "outputs": [],
   "source": []
  },
  {
   "cell_type": "markdown",
   "metadata": {},
   "source": [
    "#### Exercise 5 - Even numbers\n",
    "\n",
    "Print out the even numbers in this list\n",
    "\n",
    "Numbers: 1,10, 15, 44, 22, 5, 6, 9\n",
    "\n",
    "- Define a variable called \"numbers\" which contains the numbers. \n",
    "- Loop over the numbers and print the number if it is an even number."
   ]
  },
  {
   "cell_type": "code",
   "execution_count": null,
   "metadata": {},
   "outputs": [],
   "source": []
  },
  {
   "cell_type": "markdown",
   "metadata": {},
   "source": [
    "#### Exercise 6 - Find the maximum\n",
    "\n",
    "Find the maximum number in this list (without using the max function)\n",
    "\n",
    "Numbers: 90, -100, 11, 2, 400, 5, 66, 7\n",
    "\n",
    "- Define a variable called \"numbers\" which contains the numbers. \n",
    "- Define a variable \"max_value\" and initialize it with the first number in numbers\n",
    "- Loop over the numbers and do something so that at the end of the loop we are left with the max value.\n",
    "\n",
    "```python\n",
    "# hint:\n",
    "# initialize with the first number, value will be 90\n",
    "max_value = numbers[0]\n",
    "```"
   ]
  },
  {
   "cell_type": "code",
   "execution_count": null,
   "metadata": {},
   "outputs": [],
   "source": []
  },
  {
   "cell_type": "code",
   "execution_count": null,
   "metadata": {},
   "outputs": [],
   "source": []
  },
  {
   "cell_type": "markdown",
   "metadata": {
    "toc-hr-collapsed": false
   },
   "source": [
    "## In Python everything is objects\n",
    "\n",
    "Everything in Python is an object that has an identity and a value. \n",
    "\n",
    "And a value always has a type.\n",
    "\n",
    "A number is an object, a string is an object, the print() function is an object, the condition in your if statement is an object.\n",
    "\n",
    "We can show the identity with id()\n",
    "\n",
    "We can show the type with type()"
   ]
  },
  {
   "cell_type": "code",
   "execution_count": null,
   "metadata": {},
   "outputs": [],
   "source": []
  },
  {
   "cell_type": "code",
   "execution_count": null,
   "metadata": {},
   "outputs": [],
   "source": []
  },
  {
   "cell_type": "code",
   "execution_count": null,
   "metadata": {},
   "outputs": [],
   "source": []
  },
  {
   "cell_type": "code",
   "execution_count": null,
   "metadata": {},
   "outputs": [],
   "source": []
  },
  {
   "cell_type": "code",
   "execution_count": null,
   "metadata": {},
   "outputs": [],
   "source": []
  },
  {
   "cell_type": "markdown",
   "metadata": {},
   "source": [
    "What did we do here?\n",
    "\n",
    "We defined variable a to be 10. Then we defined variable b to be variable a. In other word we defined variable b to be the object that variable a refers to. Variable a and b refer to the same object and have the same id.\n",
    "\n",
    "Then we re-assigned variable a to be the value of a + 1. This is a new object with a new id."
   ]
  },
  {
   "cell_type": "markdown",
   "metadata": {
    "toc-hr-collapsed": true
   },
   "source": [
    "### Types\n",
    "\n",
    "Let's go over the types that will be used during this course. These will our building blocks\n",
    "- int -- Integer. Round number.\n",
    "- float -- Float. Number with decimals\n",
    "- str -- String. A sequence of characters.\n",
    "- bool -- Boolean. Either True or False\n",
    "- list -- List. A sequence of items.\n",
    "- tuple -- Tuple. An immutable list.\n",
    "- dict -- Dictionary. Collection of key-value pairs. Used to look up things.\n",
    "- None -- NoneType.\n",
    "\n",
    "Today we will practice with int, float, str and bool. In Day-2 we get into the details of list and dict. "
   ]
  },
  {
   "cell_type": "markdown",
   "metadata": {},
   "source": [
    "### Integer and Float"
   ]
  },
  {
   "cell_type": "markdown",
   "metadata": {},
   "source": [
    "We have seen numbers int and float before. Integer is a rounded value and Float is a decimal value."
   ]
  },
  {
   "cell_type": "code",
   "execution_count": null,
   "metadata": {},
   "outputs": [],
   "source": []
  },
  {
   "cell_type": "code",
   "execution_count": null,
   "metadata": {},
   "outputs": [],
   "source": []
  },
  {
   "cell_type": "markdown",
   "metadata": {},
   "source": [
    "We can round numbers using round()"
   ]
  },
  {
   "cell_type": "code",
   "execution_count": null,
   "metadata": {},
   "outputs": [],
   "source": []
  },
  {
   "cell_type": "code",
   "execution_count": null,
   "metadata": {},
   "outputs": [],
   "source": []
  },
  {
   "cell_type": "code",
   "execution_count": null,
   "metadata": {},
   "outputs": [],
   "source": []
  },
  {
   "cell_type": "markdown",
   "metadata": {},
   "source": [
    "### String"
   ]
  },
  {
   "cell_type": "markdown",
   "metadata": {},
   "source": [
    "We have also seen the string type before, it's text. \n",
    "\n",
    "You can use single or double quotes. And with triple quotes you can define a string that spans over multiple lines.\n",
    "\n",
    "Notice how you can single quotes in double quotes and the other ways around."
   ]
  },
  {
   "cell_type": "code",
   "execution_count": null,
   "metadata": {},
   "outputs": [],
   "source": []
  },
  {
   "cell_type": "markdown",
   "metadata": {},
   "source": [
    "You can define enter with \"\\n\" and a tab with \"\\t\""
   ]
  },
  {
   "cell_type": "code",
   "execution_count": null,
   "metadata": {},
   "outputs": [],
   "source": []
  },
  {
   "cell_type": "markdown",
   "metadata": {},
   "source": [
    "String can be concatenated using the + operator."
   ]
  },
  {
   "cell_type": "code",
   "execution_count": null,
   "metadata": {},
   "outputs": [],
   "source": []
  },
  {
   "cell_type": "markdown",
   "metadata": {},
   "source": [
    "Here is how you can format a string. \"format\" is a method of the string class."
   ]
  },
  {
   "cell_type": "code",
   "execution_count": null,
   "metadata": {},
   "outputs": [],
   "source": []
  },
  {
   "cell_type": "code",
   "execution_count": null,
   "metadata": {},
   "outputs": [],
   "source": []
  },
  {
   "cell_type": "code",
   "execution_count": null,
   "metadata": {},
   "outputs": [],
   "source": []
  },
  {
   "cell_type": "markdown",
   "metadata": {},
   "source": [
    "A string is a sequence of characters. We can access a character by indexing.\n",
    "\n",
    "The index starts at zero. Also we can use negative indexes to start at the end. "
   ]
  },
  {
   "cell_type": "raw",
   "metadata": {},
   "source": [
    " 0   1   2   3   4   5\n",
    "'P   y   t   h   o   n'\n",
    "-6  -5  -4  -3  -2  -1"
   ]
  },
  {
   "cell_type": "code",
   "execution_count": null,
   "metadata": {},
   "outputs": [],
   "source": []
  },
  {
   "cell_type": "markdown",
   "metadata": {},
   "source": [
    "With slicing we can access subsets of the string.\n",
    "\n",
    "The subset starts at and includes the first index and it ends before but NOT including the second index. \n",
    "\n",
    "If you want to slice from the beginning or to the end you can leave it open with on index number."
   ]
  },
  {
   "cell_type": "code",
   "execution_count": null,
   "metadata": {},
   "outputs": [],
   "source": []
  },
  {
   "cell_type": "markdown",
   "metadata": {},
   "source": [
    "Let's see if \"Python\" contains \"yth\""
   ]
  },
  {
   "cell_type": "code",
   "execution_count": null,
   "metadata": {},
   "outputs": [],
   "source": []
  },
  {
   "cell_type": "markdown",
   "metadata": {},
   "source": [
    "### Boolean\n",
    "\n",
    "True or False Value. The outcome of a condition."
   ]
  },
  {
   "cell_type": "code",
   "execution_count": null,
   "metadata": {},
   "outputs": [],
   "source": []
  },
  {
   "cell_type": "markdown",
   "metadata": {},
   "source": [
    "We can apply logical operators on booleans. With \"and\" and \"or\" we can chain booleans, with \"not\" can reverse. "
   ]
  },
  {
   "cell_type": "code",
   "execution_count": null,
   "metadata": {},
   "outputs": [],
   "source": []
  },
  {
   "cell_type": "markdown",
   "metadata": {},
   "source": [
    "### List\n",
    "\n",
    "A sequence of values. You can iterate over a list. \n",
    "\n",
    "We assign a new value to index zero. Notice that the list is a mutable type. Notice the [ ] squared brackets."
   ]
  },
  {
   "cell_type": "code",
   "execution_count": null,
   "metadata": {},
   "outputs": [],
   "source": []
  },
  {
   "cell_type": "markdown",
   "metadata": {},
   "source": [
    "### Tuple\n",
    "\n",
    "An immutable list. It has no flexibility and less functionality but more efficiency. Notice that the tuple is an immutable type. Notice the ( ) round brackets."
   ]
  },
  {
   "cell_type": "code",
   "execution_count": null,
   "metadata": {},
   "outputs": [],
   "source": []
  },
  {
   "cell_type": "code",
   "execution_count": null,
   "metadata": {},
   "outputs": [],
   "source": []
  },
  {
   "cell_type": "markdown",
   "metadata": {},
   "source": [
    "Stay calm."
   ]
  },
  {
   "cell_type": "code",
   "execution_count": null,
   "metadata": {},
   "outputs": [],
   "source": []
  },
  {
   "cell_type": "markdown",
   "metadata": {},
   "source": [
    "Because a tuple is immutable you cannot assign an item to it."
   ]
  },
  {
   "cell_type": "markdown",
   "metadata": {},
   "source": [
    "### Dictionary\n",
    "\n",
    "A dictionary is a collection of key-value pairs. It is used to look up things and a very common used type. Notice the { } curly brackets and the \"key\": \"value\" notation. Notice the squared bracket for looking up."
   ]
  },
  {
   "cell_type": "code",
   "execution_count": null,
   "metadata": {},
   "outputs": [],
   "source": []
  },
  {
   "cell_type": "code",
   "execution_count": null,
   "metadata": {},
   "outputs": [],
   "source": []
  },
  {
   "cell_type": "markdown",
   "metadata": {},
   "source": [
    "The dictionary is  mutable like a list. This is how we can update the dictionary with a new value."
   ]
  },
  {
   "cell_type": "markdown",
   "metadata": {},
   "source": [
    "### None"
   ]
  },
  {
   "cell_type": "markdown",
   "metadata": {},
   "source": [
    "It is possible to assign an empty value to a variable. Or when you assign the output of a function that does not have an returned value to a variable the value will also be None."
   ]
  },
  {
   "cell_type": "code",
   "execution_count": null,
   "metadata": {},
   "outputs": [],
   "source": []
  },
  {
   "cell_type": "code",
   "execution_count": null,
   "metadata": {},
   "outputs": [],
   "source": []
  },
  {
   "cell_type": "code",
   "execution_count": null,
   "metadata": {},
   "outputs": [],
   "source": []
  },
  {
   "cell_type": "markdown",
   "metadata": {},
   "source": [
    "### Mutable and Immutable objects\n",
    "\n",
    "It is good to understand the difference between mutable and immutable objects. \n",
    "\n",
    "Mutable object can change. It means the value can change and the object still holds the same identity, which we can see with id(). \n",
    "\n",
    "Immutable objects cannot change. For an immutable object to change, the new value has to be assigned to a new object.\n",
    "\n",
    "Immutable objects: int, str, tuple\n",
    "\n",
    "Mutable objects: list, dict"
   ]
  },
  {
   "cell_type": "code",
   "execution_count": null,
   "metadata": {},
   "outputs": [],
   "source": []
  },
  {
   "cell_type": "markdown",
   "metadata": {},
   "source": [
    "See, id stays the same while the value has changed. This is possible because the list object is mutable."
   ]
  },
  {
   "cell_type": "markdown",
   "metadata": {},
   "source": [
    "### Avoid overwriting built-in function\n",
    "\n",
    "One mistake that one can make is to overwrite the built-in function. Let's see example below:\n"
   ]
  },
  {
   "cell_type": "code",
   "execution_count": null,
   "metadata": {},
   "outputs": [],
   "source": [
    "list = [1,2,3]"
   ]
  },
  {
   "cell_type": "markdown",
   "metadata": {},
   "source": [
    "Above, we created a variable called list. This is really bad as list() is a built-in function. Let's see what is \"list\" in our namespace."
   ]
  },
  {
   "cell_type": "code",
   "execution_count": null,
   "metadata": {},
   "outputs": [],
   "source": []
  },
  {
   "cell_type": "code",
   "execution_count": null,
   "metadata": {},
   "outputs": [],
   "source": []
  },
  {
   "cell_type": "markdown",
   "metadata": {},
   "source": [
    "If you want to use list() function, you will get an error: \"TypeError: 'list' object is not callable\".\n",
    "\n",
    "When the error says something is not callable it means that we try to use it as a function but it is not a function. In this case list is a list container we created and it overwrites the built-in function list()."
   ]
  },
  {
   "cell_type": "markdown",
   "metadata": {},
   "source": [
    "### Show types using a function and a loop"
   ]
  },
  {
   "cell_type": "markdown",
   "metadata": {},
   "source": [
    "Now let's print some info for a number of objects. Since we don't want to repeat ourselves we will use the convenience of a function and a for loop.\n",
    "\n",
    "Let's define a function that prints the value, id and type of an object given."
   ]
  },
  {
   "cell_type": "code",
   "execution_count": null,
   "metadata": {},
   "outputs": [],
   "source": []
  },
  {
   "cell_type": "markdown",
   "metadata": {},
   "source": [
    "What did we do here?\n",
    "\n",
    "We have defined the function \"object_info\". Notice the fat-green keyword def. Also notice the parameter obj and the indent. The code within the function is not executed yet, only when the function is called. Notice the function is a variable and object by itself and is now in our namespace."
   ]
  },
  {
   "cell_type": "code",
   "execution_count": null,
   "metadata": {},
   "outputs": [],
   "source": []
  },
  {
   "cell_type": "code",
   "execution_count": null,
   "metadata": {},
   "outputs": [],
   "source": []
  },
  {
   "cell_type": "code",
   "execution_count": null,
   "metadata": {},
   "outputs": [],
   "source": []
  },
  {
   "cell_type": "markdown",
   "metadata": {},
   "source": [
    "What did we do here?\n",
    "\n",
    "We made a list of objects in variable \"objects\". In Python you can make a list with different object types.\n",
    "\n",
    "We loop over each object in the list and for each object we call the function \"object_info\" that prints out the info.\n"
   ]
  },
  {
   "cell_type": "code",
   "execution_count": null,
   "metadata": {},
   "outputs": [],
   "source": []
  },
  {
   "cell_type": "markdown",
   "metadata": {},
   "source": [
    "Function \"object_info\" is a void function. It means the function has no output, no returned value.\n",
    "\n",
    "We can also define a function with mutiple input parameters and a returned value.\n",
    "\n",
    "In this context we call \"a,b\" the input parameters of function \"add\" and we call \"10,5\" the arguments with which the function is called."
   ]
  },
  {
   "cell_type": "code",
   "execution_count": null,
   "metadata": {},
   "outputs": [],
   "source": []
  },
  {
   "cell_type": "markdown",
   "metadata": {},
   "source": [
    "### Getting help on objects"
   ]
  },
  {
   "cell_type": "markdown",
   "metadata": {},
   "source": [
    "As a programmer you don't have know all the functionalities of each object by heart. You just have to know how to look it up. There are these built-in functions that provide you with information whenever needed.\n",
    "\n",
    "help() for documentation\n",
    "\n",
    "dir() for the available methods\n",
    "\n",
    "isinstance() to check if your object is an instance of a class"
   ]
  },
  {
   "cell_type": "code",
   "execution_count": null,
   "metadata": {},
   "outputs": [],
   "source": []
  },
  {
   "cell_type": "code",
   "execution_count": null,
   "metadata": {},
   "outputs": [],
   "source": []
  },
  {
   "cell_type": "markdown",
   "metadata": {},
   "source": [
    "When you need certain string functionalities you can read through them."
   ]
  },
  {
   "cell_type": "code",
   "execution_count": null,
   "metadata": {},
   "outputs": [],
   "source": []
  },
  {
   "cell_type": "markdown",
   "metadata": {},
   "source": [
    "Let's say we want to determine if the string text starts with string 'Python'. \n",
    "\n",
    "We can use the dir() built-in function to list available methods. "
   ]
  },
  {
   "cell_type": "code",
   "execution_count": null,
   "metadata": {},
   "outputs": [],
   "source": []
  },
  {
   "cell_type": "markdown",
   "metadata": {},
   "source": [
    "**Question:** Which function can help us to see if text starts with \"Python\"\n",
    "<br>\n",
    "**Answer:**"
   ]
  },
  {
   "cell_type": "markdown",
   "metadata": {},
   "source": [
    "Now let's get a description on that method."
   ]
  },
  {
   "cell_type": "code",
   "execution_count": null,
   "metadata": {},
   "outputs": [],
   "source": []
  },
  {
   "cell_type": "code",
   "execution_count": null,
   "metadata": {},
   "outputs": [],
   "source": []
  },
  {
   "cell_type": "markdown",
   "metadata": {},
   "source": [
    "We can check wheter variable \"text\" is a string."
   ]
  },
  {
   "cell_type": "code",
   "execution_count": null,
   "metadata": {},
   "outputs": [],
   "source": []
  },
  {
   "cell_type": "markdown",
   "metadata": {},
   "source": [
    "We can also check if an object is either int or float."
   ]
  },
  {
   "cell_type": "code",
   "execution_count": null,
   "metadata": {},
   "outputs": [],
   "source": []
  },
  {
   "cell_type": "code",
   "execution_count": null,
   "metadata": {},
   "outputs": [],
   "source": []
  },
  {
   "cell_type": "markdown",
   "metadata": {
    "toc-hr-collapsed": false
   },
   "source": [
    "### Summary Objects"
   ]
  },
  {
   "cell_type": "markdown",
   "metadata": {},
   "source": [
    "> #### object\n",
    "Everything in Python is objects. An object has a unique id() and a value. The value always has type(). You can check whether the object is of a certain type with isinstance(). There is help() for document and dir() for a list of the methods of the object.\n",
    "```python\n",
    "text = \"hello\"\n",
    "id(text)\n",
    "type(text)\n",
    "isinstance(text, str)\n",
    "help(str)\n",
    "dir(text)\n",
    "```"
   ]
  },
  {
   "cell_type": "markdown",
   "metadata": {},
   "source": [
    "> #### function\n",
    "A block of code that can be reused. The code inside the function is execute when the function is called. A function can take input arguments and can return a value.\n",
    "```python\n",
    "def greet(name):\n",
    "    print(\"Hello there:\", name)\n",
    "greet(\"Jeremy\")\n",
    "```\n",
    "\n",
    ">```python\n",
    "def add_numbers(a, b):\n",
    "    return a+b\n",
    "add_numbers(a,b)\n",
    "```"
   ]
  },
  {
   "cell_type": "markdown",
   "metadata": {},
   "source": [
    "> #### method\n",
    "Function within an object/class.\n",
    "```python\n",
    "str.format\n",
    "```"
   ]
  },
  {
   "cell_type": "markdown",
   "metadata": {},
   "source": [
    "> #### int\n",
    "Integer. Round number.\n",
    "```python\n",
    "number = 10\n",
    "```"
   ]
  },
  {
   "cell_type": "markdown",
   "metadata": {},
   "source": [
    "> #### float\n",
    "Float. Decimal number.\n",
    "```python\n",
    "number = 10.1234\n",
    "round(number)\n",
    "round(number, 2)\n",
    "```"
   ]
  },
  {
   "cell_type": "markdown",
   "metadata": {},
   "source": [
    "> #### str\n",
    "String. A sequence of characters. The str class provides many methods with functionalities. The str is an immutable object.\n",
    "```python\n",
    "text = \"Python is nice.\"\n",
    "text[0]\n",
    "text[-3:]\n",
    "\"yes\"+\"no\"\n",
    "\"Name: {}, Grade: {}\".format(\"Jeremy\", 10)\n",
    "text.startswith(\"Python\")\n",
    "\"yth\" in text\n",
    "```"
   ]
  },
  {
   "cell_type": "markdown",
   "metadata": {},
   "source": [
    "> #### bool\n",
    "Boolean. Either True or False. The outcome of a condition.\n",
    "```python\n",
    "True\n",
    "False\n",
    "10 != 15\n",
    "10 > 5 and 10 > 12\n",
    "10 > 5 or 10 > 12\n",
    "not 10 > 5\n",
    "```"
   ]
  },
  {
   "cell_type": "markdown",
   "metadata": {},
   "source": [
    "> #### list\n",
    "List. A sequence of items. The str class provides many methods with functionalities. The list is a mutable object.\n",
    "```python\n",
    "numbers = [1,2,3,4]\n",
    "numbers[0]\n",
    "numbers[-1]\n",
    "numbers[0] = 100\n",
    "```"
   ]
  },
  {
   "cell_type": "markdown",
   "metadata": {},
   "source": [
    "> #### tuple\n",
    "Tuple. A sequence of items. The tuple is an immutable object. It has no flexibility and less functionality than a list but it is more efficient.\n",
    "```python\n",
    "numbers = (1,2,3)\n",
    "numbers[0]\n",
    "numbers[-1]\n",
    "```"
   ]
  },
  {
   "cell_type": "markdown",
   "metadata": {},
   "source": [
    "> #### dict\n",
    "Dictionary. A collection of key-value pairs. Used to look up things. The dict class provides many functionalities. The dict is a mutable object.\n",
    "```python\n",
    "prices = {\"apple\": 1.5, \"orange\":3.5, \"banana\":2.5}\n",
    "prices[\"orange\"]\n",
    "```"
   ]
  },
  {
   "cell_type": "markdown",
   "metadata": {},
   "source": [
    "> #### None\n",
    "NoneType. An empty value. You can initaliaze a variable with a None value.\n",
    "```python\n",
    "your_var = None\n",
    "```"
   ]
  },
  {
   "cell_type": "markdown",
   "metadata": {
    "toc-hr-collapsed": false
   },
   "source": [
    "### RUN ME\n",
    "\n",
    "Please run the below code snippet. It is required for running tests for your solution."
   ]
  },
  {
   "cell_type": "code",
   "execution_count": null,
   "metadata": {},
   "outputs": [],
   "source": [
    "def test(got, expected):\n",
    "    if got == expected:\n",
    "        prefix = ' OK '\n",
    "    else:\n",
    "        prefix = '  FAIL '\n",
    "    print(('%s got: %s expected: %s' % (prefix, repr(got), repr(expected))))"
   ]
  },
  {
   "cell_type": "code",
   "execution_count": null,
   "metadata": {},
   "outputs": [],
   "source": [
    "test('a', 'ab')\n",
    "test('a', 'a')"
   ]
  },
  {
   "cell_type": "markdown",
   "metadata": {
    "toc-hr-collapsed": false
   },
   "source": [
    "### Practice Exercise together"
   ]
  },
  {
   "cell_type": "markdown",
   "metadata": {},
   "source": [
    "#### Practice Exercise 1 - Starts with B\n",
    "\n",
    "Determine if a string starts with \"B\" and return True/False."
   ]
  },
  {
   "cell_type": "code",
   "execution_count": null,
   "metadata": {},
   "outputs": [],
   "source": [
    "def starts_with_B(text):\n",
    "    ## your code\n",
    "    \n",
    "print(\"starts_with_b\")\n",
    "test(starts_with_B(\"Boyce\"), True)\n",
    "test(starts_with_B(\"Joyce\"), False)"
   ]
  },
  {
   "cell_type": "markdown",
   "metadata": {},
   "source": [
    "Here is a tip you may use.\n",
    "\n",
    "Sometimes it is useful to solve the problem first in a separate cell and then fill it into the function.\n",
    "\n",
    "- make a variable called text and fill in for example \"Boyce\"\n",
    "- check if \"Boyce\" starts with \"B\"\n",
    "- if that works fill in the function\n",
    "- make sure the tests work to succeed the exercise"
   ]
  },
  {
   "cell_type": "code",
   "execution_count": null,
   "metadata": {},
   "outputs": [],
   "source": []
  },
  {
   "cell_type": "markdown",
   "metadata": {},
   "source": [
    "Now we can fill in the function above so that the tests run successfully."
   ]
  },
  {
   "cell_type": "code",
   "execution_count": null,
   "metadata": {},
   "outputs": [],
   "source": []
  },
  {
   "cell_type": "markdown",
   "metadata": {
    "toc-hr-collapsed": false
   },
   "source": [
    "### Exercises"
   ]
  },
  {
   "cell_type": "markdown",
   "metadata": {},
   "source": [
    "#### Exercise 1 - My name is\n",
    "\n",
    "Return a formatted string that says \"My name is [name]\""
   ]
  },
  {
   "cell_type": "code",
   "execution_count": null,
   "metadata": {},
   "outputs": [],
   "source": [
    "def show_name(name):\n",
    "    ## your code\n",
    "\n",
    "print(\"my_name_is\")\n",
    "test(show_name(\"Ting\"), \"My name is Ting\")\n",
    "test(show_name(\"Chong\"), \"My name is Chong\")"
   ]
  },
  {
   "cell_type": "code",
   "execution_count": null,
   "metadata": {},
   "outputs": [],
   "source": []
  },
  {
   "cell_type": "markdown",
   "metadata": {},
   "source": [
    "#### Exercise 2 - Count occurences\n",
    "\n",
    "Define a function which checks how many times string `a` occurs in string `b`. Make it case insensitive. Return a string that says \"The occurence is: [number]\" where [number] is the occurence.\n",
    "\n",
    "Hint: help(str.lower), help(str.count)"
   ]
  },
  {
   "cell_type": "code",
   "execution_count": null,
   "metadata": {},
   "outputs": [],
   "source": [
    "def contains(a, b):\n",
    "    ## your code\n",
    "\n",
    "print(\"has_string\")\n",
    "test(contains(\"This is Python!\",\"IS\"), \"The occurence is 2\")\n",
    "test(contains(\"AAAAh aaaaa aaayooo\",\"a\"), \"The occurence is 8\")"
   ]
  },
  {
   "cell_type": "code",
   "execution_count": null,
   "metadata": {},
   "outputs": [],
   "source": []
  },
  {
   "cell_type": "markdown",
   "metadata": {},
   "source": [
    "#### Exercise 3 - Bigger\n",
    "\n",
    "Determine if a is bigger than b."
   ]
  },
  {
   "cell_type": "code",
   "execution_count": null,
   "metadata": {},
   "outputs": [],
   "source": [
    "def bigger(a,b):\n",
    "    ## your code\n",
    "\n",
    "test(bigger(1,2), False)\n",
    "test(bigger(1,1), False)\n",
    "test(bigger(2,1), True)"
   ]
  },
  {
   "cell_type": "code",
   "execution_count": null,
   "metadata": {},
   "outputs": [],
   "source": []
  },
  {
   "cell_type": "markdown",
   "metadata": {},
   "source": [
    "#### Exercise 4 - Donuts\n",
    "\n",
    "Return a string of the form \"Number of donuts: [count]\". However if the count is 10 or more, then use the word 'many'. So donut(5) returns 'Number of donuts: 5'. And donut(23) returns 'Number of donuts: many'\n",
    "\n",
    "Hints: You may use if-else and string formatting."
   ]
  },
  {
   "cell_type": "code",
   "execution_count": null,
   "metadata": {},
   "outputs": [],
   "source": [
    "def donuts(count):\n",
    "    ## your code\n",
    "\n",
    "print(\"donuts\")\n",
    "test(donuts(4), 'Number of donuts: 4')\n",
    "test(donuts(9), 'Number of donuts: 9')\n",
    "test(donuts(10), 'Number of donuts: many')\n",
    "test(donuts(99), 'Number of donuts: many')"
   ]
  },
  {
   "cell_type": "code",
   "execution_count": null,
   "metadata": {},
   "outputs": [],
   "source": []
  },
  {
   "cell_type": "markdown",
   "metadata": {},
   "source": [
    "#### Exercise 5 - Both ends\n",
    "\n",
    "Given a string s, return a string made of the first 2 and the last 2 chars of the original string. So 'spring' yields 'spng'. However, if the string length is less than 2, return instead an empty string ''.\n",
    "\n",
    "Hints: you may use if-else, string slicing and concatenationg with +"
   ]
  },
  {
   "cell_type": "code",
   "execution_count": null,
   "metadata": {},
   "outputs": [],
   "source": [
    "def both_ends(s):\n",
    "    ## your code\n",
    "\n",
    "\n",
    "print('both_ends')\n",
    "    \n",
    "test(both_ends('spring'), 'spng')\n",
    "test(both_ends('Hello'), 'Helo')\n",
    "test(both_ends('a'), '')\n",
    "test(both_ends('xyz'), 'xyyz')"
   ]
  },
  {
   "cell_type": "code",
   "execution_count": null,
   "metadata": {},
   "outputs": [],
   "source": []
  },
  {
   "cell_type": "markdown",
   "metadata": {},
   "source": [
    "#### Exercise 6 - Fix start\n",
    "\n",
    "Given a string s, return a string where all occurences of its first char have been changed to \\*, except do not change the first char itself. So 'babble', yields '\\*abble'.\n",
    "\n",
    "Hints: check help(str.replace), string indexing, string slicing, string concatenation"
   ]
  },
  {
   "cell_type": "code",
   "execution_count": null,
   "metadata": {},
   "outputs": [],
   "source": [
    "def fix_start(s):\n",
    "    ## your code\n",
    "\n",
    "print()\n",
    "print('fix_start')\n",
    "test(fix_start('babble'), 'ba**le')\n",
    "test(fix_start('aardvark'), 'a*rdv*rk')\n",
    "test(fix_start('google'), 'goo*le')\n",
    "test(fix_start('donut'), 'donut')"
   ]
  },
  {
   "cell_type": "code",
   "execution_count": null,
   "metadata": {},
   "outputs": [],
   "source": []
  },
  {
   "cell_type": "markdown",
   "metadata": {},
   "source": [
    "#### Exercise 7 - Mix up\n",
    "\n",
    "Given strings a and b, return a single string with a and b separated by a space '[a] [b]', except swap the first 2 chars of each string.\n",
    "\n",
    "e.g.\n",
    "\n",
    "'mix', 'pod' --> 'pox mid'\n",
    "\n",
    "'dog', 'dinner' --> 'dig donner'"
   ]
  },
  {
   "cell_type": "code",
   "execution_count": null,
   "metadata": {},
   "outputs": [],
   "source": []
  },
  {
   "cell_type": "code",
   "execution_count": null,
   "metadata": {},
   "outputs": [],
   "source": []
  },
  {
   "cell_type": "markdown",
   "metadata": {},
   "source": [
    "#### Exercise 8 - Verbing\n",
    "\n",
    "Given a string, if its length is at least 3, add 'ing' to its end. Unless it already ends in 'ing', in which case add 'ly' instead. If the string length is less than 3, leave it unchanged. Return the resulting string.\n",
    "\n",
    "Hints: if else, len(), help(str.endswith), string concatenation"
   ]
  },
  {
   "cell_type": "code",
   "execution_count": null,
   "metadata": {},
   "outputs": [],
   "source": [
    "def verbing(s):\n",
    "    ## your code\n",
    "\n",
    "print('verbing')\n",
    "test(verbing('hail'), 'hailing')\n",
    "test(verbing('swiming'), 'swimingly')\n",
    "test(verbing('do'), 'do')"
   ]
  },
  {
   "cell_type": "code",
   "execution_count": null,
   "metadata": {},
   "outputs": [],
   "source": []
  },
  {
   "cell_type": "markdown",
   "metadata": {},
   "source": [
    "#### Exercise 9 - Weekend\n",
    "\n",
    "Define a procedure weekend which takes a string as input and returns the True if it's 'Saturday' or 'Sunday' and False otherwise."
   ]
  },
  {
   "cell_type": "code",
   "execution_count": null,
   "metadata": {},
   "outputs": [],
   "source": [
    "def weekend(day):\n",
    "    ## your code\n",
    "\n",
    "print('weekend')\n",
    "test(weekend(\"Saturday\"), True)\n",
    "test(weekend(\"Sunday\"), True)\n",
    "test(weekend(\"Monday\"), False)"
   ]
  },
  {
   "cell_type": "code",
   "execution_count": null,
   "metadata": {},
   "outputs": [],
   "source": []
  }
 ],
 "metadata": {
  "kernelspec": {
   "display_name": "Python 3",
   "language": "python",
   "name": "python3"
  },
  "language_info": {
   "codemirror_mode": {
    "name": "ipython",
    "version": 3
   },
   "file_extension": ".py",
   "mimetype": "text/x-python",
   "name": "python",
   "nbconvert_exporter": "python",
   "pygments_lexer": "ipython3",
   "version": "3.7.4"
  },
  "toc-autonumbering": false,
  "toc-showmarkdowntxt": false
 },
 "nbformat": 4,
 "nbformat_minor": 4
}
