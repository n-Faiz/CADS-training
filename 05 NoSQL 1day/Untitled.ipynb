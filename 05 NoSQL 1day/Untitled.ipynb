{
 "cells": [
  {
   "cell_type": "code",
   "execution_count": null,
   "metadata": {},
   "outputs": [],
   "source": [
    "\n",
    "show dbs\n",
    "\n",
    "use database1\n",
    "\n",
    "db.createCollection(\"Collection1\")\n",
    "db.collection1.insertOne({\"EmpID\" : 101,\"EmpName\" : \"Janice\"})\n",
    "\n",
    "# Compass var not a string\n",
    "db.collection1.insertMany([\n",
    "        {\n",
    "            \"EmpID\" : 102,\n",
    "            \"EmpName\" : \"Simon\"\n",
    "        },\n",
    "        {\n",
    "            \"EmpID\"   : 103,\n",
    "            \"EmpName\" : \"Muhammad\"\n",
    "        },\n",
    "        {\n",
    "            \"EmpID\"   : 104,\n",
    "            \"EmpName\" : \"Darren\"\n",
    "        }\n",
    "    ])\n",
    "\n",
    "db.Employees.find({$and:[{'EmpID':101,'EmpName':'Janice'}]})\n",
    "\n",
    "db.Employees.find().pretty()\n",
    "\n",
    "db.database1.drop()\n",
    "\n",
    "db.dropDatabase()"
   ]
  },
  {
   "cell_type": "code",
   "execution_count": null,
   "metadata": {},
   "outputs": [],
   "source": [
    "# If 1 error, all code not run\n",
    "\n",
    "db.Employees.insertOne({_id:\"01\", EmpName:\"Raj\",EmpID: 131})\n",
    "\n",
    "db.Employees.insertMany([{_id:\"01\", EmpName:\"Raj\",EmpID: 131},\n",
    "                         {_id:\"02\", EmpName:\"Howard\",EmpID: 141},\n",
    "                         {_id:\"03\", EmpName:\"Amy\",EmpID: 151}])\n",
    "\n",
    "# So need to chg\n",
    "db.Employees.insertMany([{_id:\"01\", EmpName:\"Raj\",EmpID: 131},\n",
    "                         {_id:\"02\", EmpName:\"Howard\",EmpID: 141},\n",
    "                         {_id:\"03\", EmpName:\"Amy\",EmpID: 151}], \n",
    "                        {ordered:false})"
   ]
  },
  {
   "cell_type": "code",
   "execution_count": null,
   "metadata": {},
   "outputs": [],
   "source": [
    "# Count\n",
    "db.Employees.find().count()\n",
    "\n",
    "#  Operator\n",
    "db.blog.find({\"WritenBy\":\"Mehdi\"})\n",
    "db.blog.find({\"Likes\":{$lt:50}})\n",
    "db.blog.find({\"Likes\":{$lte:50}})\n",
    "db.blog.find({\"Likes\":{$gt:50}})\n",
    "db.blog.find({\"Likes\":{$gte:50}}) \n",
    "db.blog.find({\"Likes\":{$ne:50}}) \n",
    "\n",
    "# already implied AND\n",
    "db.Employees.find({WrittenBy:\"Akmal\",title:\"Hello World!\"})\n",
    "#same as\n",
    "db.Employees.find($and:[{WrittenBy:\"Akmal\"},{title:\"Hello World!\"}])\n",
    "\n",
    "#IN \n",
    "db.Employees.find({WrittenBy:{$in:[\"Akmal\",\"Janice\"]}})"
   ]
  },
  {
   "cell_type": "code",
   "execution_count": null,
   "metadata": {},
   "outputs": [],
   "source": [
    "# Aggregate\n",
    "\n",
    "# Group\n",
    "db.Employees.aggregate ([\n",
    "    { $group: {_id: null, \n",
    "               highestLike: {$max: \"$Likes\"}}}])\n",
    "\n",
    "#count # sum: 1\n",
    "db.student.aggregate([\n",
    "   {$group: { _id: null, \n",
    "             myCount: {$sum: 1}}}\n",
    "])\n",
    "\n",
    "# PRoject - select some specific fields from a collection\n",
    "([{$project: {TotalMark:\n",
    "      {$sum: [{$sum: \"$Quiz\"}, \"$Final\"]}} }])\n",
    "\n"
   ]
  },
  {
   "cell_type": "code",
   "execution_count": null,
   "metadata": {},
   "outputs": [],
   "source": [
    ".updateOne()\n",
    ".updateMany()\n",
    ".update\n",
    "\n",
    "# increment all the data related\n",
    "db.Employees.update({Like:{$lt: 100} } ,{$inc:{Like:10 }, {multi:true} })\n",
    "\n",
    "\n",
    "# set the ____ to set{___}\n",
    "db.Employees.update({title:'MongoDB Basics'},{$set:{ title:'MongoDB Tutorial'} })\n",
    "{multi:true}\n",
    "\n",
    "\n",
    "db.Employees.update({$push:{  } })"
   ]
  },
  {
   "cell_type": "code",
   "execution_count": null,
   "metadata": {},
   "outputs": [],
   "source": [
    "# Save - replaces the existing document with the new document passed in\n",
    "db.blog.save({\n",
    "        \"_id\" : ObjectId(\"5c9b99c726f382d7eb58bf0c\"),\n",
    "        \"title\" : \"Hello Python!\",\n",
    "        \"description\" : \"An introduction to Python Programming Language\",\n",
    "        \"WrittenBy\" : \"Akmal\",\n",
    "        \"Tags\" : [\n",
    "            \"Python\",\n",
    "            \"Programming\"\n",
    "        ],\n",
    "        \"Likes\" : 189"
   ]
  },
  {
   "cell_type": "code",
   "execution_count": null,
   "metadata": {},
   "outputs": [],
   "source": [
    "# Delete field\n",
    "db.blog.remove({'title':'MongoDB Basics'})\n",
    "\n",
    "#remove all doc\n",
    "db.blog.remove({})"
   ]
  },
  {
   "cell_type": "code",
   "execution_count": null,
   "metadata": {},
   "outputs": [],
   "source": [
    "# Projection\n",
    "\n",
    "# only title will be shown\n",
    "db.COLLECTION_NAME.find({},{title:1}) \n",
    "\n",
    "# show var_a and var_b\n",
    "#only _id can be 0\n",
    "db.COLLECTION_NAME.find({},{var_a:1,var_b:1._id:0}) "
   ]
  },
  {
   "cell_type": "code",
   "execution_count": null,
   "metadata": {},
   "outputs": [],
   "source": [
    "# Distinct -  get distinct record values\n",
    "db.blog.distinct('WrittenBy')"
   ]
  },
  {
   "cell_type": "code",
   "execution_count": null,
   "metadata": {},
   "outputs": [],
   "source": [
    "# Limit no of row\n",
    "db.COLLECTION_NAME.find().limit(5)\n"
   ]
  },
  {
   "cell_type": "code",
   "execution_count": null,
   "metadata": {},
   "outputs": [],
   "source": [
    "# Sort\n",
    "# 1 - ascending\n",
    "db.COLLECTION_NAME.find().sort({\"var_a\":1})\n",
    "\n",
    "\n",
    "# Indexing - put index inside document\n",
    "# 1 - ascending\n",
    "db.COLLECTION_NAME.ensureIndex({KEY:1})\n",
    "db.COLLECTION_NAME.createIndex({KEY:1}\n",
    "\n"
   ]
  },
  {
   "cell_type": "markdown",
   "metadata": {},
   "source": [
    "https://jamboard.google.com/d/12EZ6MaMDoJFMkuUR8h9vdeEIy8vuG0_BB_xbu28WtcI/viewer"
   ]
  },
  {
   "cell_type": "markdown",
   "metadata": {},
   "source": [
    "Compass, Var no \"\""
   ]
  }
 ],
 "metadata": {
  "kernelspec": {
   "display_name": "Python 3",
   "language": "python",
   "name": "python3"
  },
  "language_info": {
   "codemirror_mode": {
    "name": "ipython",
    "version": 3
   },
   "file_extension": ".py",
   "mimetype": "text/x-python",
   "name": "python",
   "nbconvert_exporter": "python",
   "pygments_lexer": "ipython3",
   "version": "3.7.4"
  }
 },
 "nbformat": 4,
 "nbformat_minor": 2
}
