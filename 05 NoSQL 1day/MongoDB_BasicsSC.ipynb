{
 "cells": [
  {
   "cell_type": "markdown",
   "metadata": {},
   "source": [
    "<img src=\"images/cads-logo.png\" style=\"height: 100px;\" align=left> <img src=\"images/MongoDB_logo.png\" style=\"height: 40%;width:40%\" align=right>"
   ]
  },
  {
   "cell_type": "markdown",
   "metadata": {},
   "source": [
    "# MongoDB Basics"
   ]
  },
  {
   "cell_type": "markdown",
   "metadata": {},
   "source": [
    "MongoDB is an open-source, cross-platform, and document-oriented NoSQL database that is written in C++. Under NoSQL umbrella, we put all databases that do not use SQL for querying the data. Today, MongoDB is commonly used in rapid application development and implementing highly-scalable and performance-oriented databases."
   ]
  },
  {
   "cell_type": "markdown",
   "metadata": {},
   "source": [
    "## MongoDB Overview"
   ]
  },
  {
   "cell_type": "markdown",
   "metadata": {},
   "source": [
    "MongoDB is all about collection and document concepts. The database stores all of the collections, and the collections store all of the documents. The documents will contain the relevant `Key-Value` pairs.\n",
    "\n",
    "MongoDB is a **schemaless** database, schemaless means there is no need to pre-define a structure for the data before storing it."
   ]
  },
  {
   "cell_type": "markdown",
   "metadata": {},
   "source": [
    "### JSON/BSON Documents"
   ]
  },
  {
   "cell_type": "markdown",
   "metadata": {},
   "source": [
    "**JavaScript Object Notation (JSON)**\n",
    "\n",
    "\"MongoDB uses JSON documents to store data. JSON is an open, human and machine-readable standard that facilitates data interchange, and along with XML is the primary format for data interchange used on the modern web.\" ~ [MongoDB documentation](https://www.mongodb.com/json-and-bson)\n",
    "\n",
    "**Binary JSON (BJSON)**\n",
    "\n",
    "\"MongoDB represents JSON documents in binary-encoded format called BSON behind the scenes. BSON extends the JSON model to provide additional data types, ordered fields, and to be efficient for encoding and decoding within different languages.\"\n",
    "~ [MongoDB documentation](https://www.mongodb.com/json-and-bson)"
   ]
  },
  {
   "cell_type": "markdown",
   "metadata": {},
   "source": [
    "A basic example of how a **JSON document** would look like:\n",
    "```json\n",
    "{\n",
    "    \"EmployeeID\" : 1,\n",
    "    \"EmployeeName\" : \"Simon\"\n",
    "}\n",
    "```\n",
    "`EmployeeID` and `EmployeeName` are the keys and `1` and `Simon` are the values, respectively."
   ]
  },
  {
   "cell_type": "markdown",
   "metadata": {},
   "source": [
    "### Database"
   ]
  },
  {
   "cell_type": "markdown",
   "metadata": {},
   "source": [
    "A database is a container for collections like in Relational Database Management System wherein it is a container for tables. Each database gets its own set of files on the file system. A MongoDB server is usually able to store multiple databases."
   ]
  },
  {
   "cell_type": "markdown",
   "metadata": {},
   "source": [
    "### Collection"
   ]
  },
  {
   "cell_type": "markdown",
   "metadata": {},
   "source": [
    "A collection is a group of MongoDB documents that is the equivalent of a table in relational databases. collections don't enforce structure on data."
   ]
  },
  {
   "cell_type": "markdown",
   "metadata": {},
   "source": [
    "### Document"
   ]
  },
  {
   "cell_type": "markdown",
   "metadata": {},
   "source": [
    "A record in a MongoDB's collection is called a document. A document is a set of key-value pairs that can hold different fields with different data types."
   ]
  },
  {
   "cell_type": "markdown",
   "metadata": {},
   "source": [
    "### Field"
   ]
  },
  {
   "cell_type": "markdown",
   "metadata": {},
   "source": [
    "In MongoDB, Fields are analogous to columns in relational databases. A document has zero or more fields.\n",
    "<img src=\"images/crud-annotated-document.bakedsvg.svg\">\n",
    "\n",
    "[MongoDB documentation](https://docs.mongodb.com/manual/core/document/)"
   ]
  },
  {
   "cell_type": "markdown",
   "metadata": {},
   "source": [
    "### RDBMS vs MongoDB Terminology"
   ]
  },
  {
   "cell_type": "markdown",
   "metadata": {},
   "source": [
    "<div>\n",
    "    <table width=\"70%\">\n",
    "        <tr>\n",
    "            <th><center>RDBMS</center></th>\n",
    "            <th><center>MongoDB</center></th>\n",
    "        </tr>\n",
    "        <tr>\n",
    "            <td><center>Database</center></td>\n",
    "            <td><center>Database</center></td>\n",
    "        </tr>\n",
    "        <tr>\n",
    "            <td><center>Table</center></td>\n",
    "            <td><center>Collection</center></td>\n",
    "        </tr>\n",
    "        <tr>\n",
    "            <td><center>Tuple/Row/Record</center></td>\n",
    "            <td><center>Document</center></td>\n",
    "        </tr>\n",
    "        <tr>\n",
    "            <td><center>column</center></td>\n",
    "            <td><center>Field</center></td>\n",
    "        </tr>\n",
    "        <tr>\n",
    "            <td><center>Table Join</center></td>\n",
    "            <td><center>Embedded Documents</center></td>\n",
    "        </tr>\n",
    "        <tr>\n",
    "            <td><center>Primary Key</center></td>\n",
    "            <td><center>Primary Key (Default key <code>_id</code> provided by mongodb)</center></td>\n",
    "        </tr>`\n",
    "    </table>\n",
    "</div>"
   ]
  },
  {
   "cell_type": "markdown",
   "metadata": {},
   "source": [
    "<div class=\"alert alert-block alert-warning\">\n",
    "    <code><b>_id</b></code> is a 12 bytes hexadecimal number which guarantees the uniqueness of every document. Developers can provide _id while inserting the document. If they don’t provide, MongoDB provides a unique ID for every document. \n",
    "    \n",
    "These 12 bytes first four bytes for the current timestamp, next three bytes for MachineID, next two bytes for ProcessID of MongoDB server and remaining three bytes store an incremental value.\n",
    "</div>"
   ]
  },
  {
   "cell_type": "markdown",
   "metadata": {},
   "source": [
    "**Sample JSON Document**\n",
    "```json\n",
    "{\n",
    "   _id: ObjectId(8ec41fd5911a)\n",
    "   title: 'An Introduction to NoSQL', \n",
    "   description: 'MongoDB is a NoSQL database',\n",
    "   by: 'Mehdi',\n",
    "   url: 'http://www.thecads.com',\n",
    "   tags: ['mongodb', 'database', 'NoSQL'],\n",
    "   likes: 100, \n",
    "   comments: [\t\n",
    "      {\n",
    "         user:'Philip',\n",
    "         message: 'Not bad',\n",
    "         dateCreated: new Date(2019,1,20,2,15),\n",
    "         like: 0 \n",
    "      },\n",
    "      {\n",
    "         user:'Vinod',\n",
    "         message: 'Cool',\n",
    "         dateCreated: new Date(2019,1,25,7,45),\n",
    "         like: 5\n",
    "      }\n",
    "   ]\n",
    "}\n",
    "```"
   ]
  },
  {
   "cell_type": "markdown",
   "metadata": {},
   "source": [
    "### Why use MongoDB?"
   ]
  },
  {
   "cell_type": "markdown",
   "metadata": {},
   "source": [
    "- MongoDB is **document-oriented**, this feature makes MongoDB extremely flexible and adaptable, to address real business problems and requirements.\n",
    "\n",
    "\n",
    "- MongoDB supports **ad-hoc queries**. It means, MongoDB supports searching by fields, range queries, and regular expression searches.\n",
    "\n",
    "\n",
    "- MongoDB supports **indexing** to improve the performance of all kind of searches. Any filed in a MongoDB document can be indexed.\n",
    "\n",
    "\n",
    "- **Replication** provides redundancy and data availability to make sure there are multiple copies of data on different database servers. MongoDB provides high availability with replica-sets. Each replica-set consists of more than one MongoDB instances. In each time, One of them is a primary replica which is the main server and interacts with the clients' requests, and the others are secondary replicas, that maintain a copy of the data that primary replica uses it. When a primary replica fails, one of the secondary replicas becomes the primary server.\n",
    "\n",
    "\n",
    "- MongoDB supports **sharding** concept to implement horizontal scaling. It is a method for distributing data across multiple MongoDB instances. MongoDB uses sharding to support deployments with massive data sets and high throughput operations."
   ]
  },
  {
   "cell_type": "markdown",
   "metadata": {},
   "source": [
    "## Install MongoDB"
   ]
  },
  {
   "cell_type": "markdown",
   "metadata": {},
   "source": [
    "#### Step 1 — Download the MongoDB MSI Installer Package [Click to Download](https://www.mongodb.com/download-center/community)"
   ]
  },
  {
   "cell_type": "markdown",
   "metadata": {},
   "source": [
    "#### Step 2 — Install MongoDB with the Installation Wizard"
   ]
  },
  {
   "cell_type": "markdown",
   "metadata": {},
   "source": [
    "#### Step 3— Create the Data Folders to Store our Databases"
   ]
  },
  {
   "cell_type": "markdown",
   "metadata": {},
   "source": [
    "- Inside the C Drive on your computer, create a new folder called `data` .\n",
    "\n",
    "- Inside the `data` folder, create another folder called `db`."
   ]
  },
  {
   "cell_type": "markdown",
   "metadata": {},
   "source": [
    "### Step 4- Add Path to the MongoDB’s `bin` folder to Windows Environment Variables"
   ]
  },
  {
   "cell_type": "markdown",
   "metadata": {},
   "source": [
    "- Copy the path to the MongoDB's `bin` folder\n",
    "\n",
    "- Press win, type env, Windows will suggest “Edit the System Environment Variables”, click on that.\n",
    "\n",
    "- On the Advanced tab, click “Environment Variables”\n",
    "\n",
    "- With the Path variable highlighted, click on Edit\n",
    "\n",
    "- Click on “New” and paste the path to the bin folder. Make sure it ends with a `\\` "
   ]
  },
  {
   "cell_type": "markdown",
   "metadata": {},
   "source": [
    "## Create a Database"
   ]
  },
  {
   "cell_type": "markdown",
   "metadata": {},
   "source": [
    "### `use` command"
   ]
  },
  {
   "cell_type": "markdown",
   "metadata": {},
   "source": [
    "\n",
    "``` java\n",
    "> use EmployeeDB\n",
    "```"
   ]
  },
  {
   "cell_type": "markdown",
   "metadata": {},
   "source": [
    "`use` command, basically is used to switch to an existing database; however <u>if the database does not exist, a new one with the given name will be created."
   ]
  },
  {
   "cell_type": "markdown",
   "metadata": {},
   "source": [
    "<div class=\"alert alert-block alert-info\">\n",
    "    <b>Tip: </b>The output of `use` command will be the following message and MongoDB will automatically switch to the database once created.\n",
    "\n",
    "\n",
    "<code><b>switched to db EmployeeDB</b></code>\n",
    "</div>"
   ]
  },
  {
   "cell_type": "markdown",
   "metadata": {},
   "source": [
    "If you want to check the name of the in-use database, simply type the following command:\n",
    "```java\n",
    "> db\n",
    "```"
   ]
  },
  {
   "cell_type": "markdown",
   "metadata": {},
   "source": [
    "If you want to check your databases list, use the following command:\n",
    "\n",
    "```java\n",
    "> show dbs\n",
    "```"
   ]
  },
  {
   "cell_type": "markdown",
   "metadata": {},
   "source": [
    "<div class=\"alert alert-block alert-warning\">\n",
    "As can be seen, your database is not presented in the list. To display a database, you need to insert at least one document into it.\n",
    "</div>"
   ]
  },
  {
   "cell_type": "markdown",
   "metadata": {},
   "source": [
    "## Create collections and documents"
   ]
  },
  {
   "cell_type": "markdown",
   "metadata": {},
   "source": [
    "The easiest way to create a collection is to insert a document into a collection. If the collection does not exist a new one will be created. Basically `insertOne()`, inserts a document into a collection. Furthermore, it can help us to create a collection and a document inside the collection simultaneously. The follownig code, shows how it can be done."
   ]
  },
  {
   "cell_type": "markdown",
   "metadata": {},
   "source": [
    "```json\n",
    "db.Employees.insertOne\n",
    "(\n",
    "\t{\n",
    "\t\t\"EmpID\" : 101,\n",
    "\t\t\"EmpName\" : \"Janice\"\n",
    "\t}\n",
    ")\n",
    "```"
   ]
  },
  {
   "cell_type": "markdown",
   "metadata": {},
   "source": [
    "<div class=\"alert alert-block alert-success\">\n",
    "The <code>.insert()</code> method is deprecated in major drivers so you should use the the <code>.insertOne()</code> method whenever you are going to insert a single document into a collection and the <code>.insertMany()</code> when you want to insert multiple documents into a collection. \n",
    "</div>"
   ]
  },
  {
   "cell_type": "markdown",
   "metadata": {},
   "source": [
    "### Insert multiple documents into a collection"
   ]
  },
  {
   "cell_type": "markdown",
   "metadata": {},
   "source": [
    "The `.insertMany()` command can also be used to insert multiple documents into a collection. By default documents are inserted in order.\n"
   ]
  },
  {
   "cell_type": "markdown",
   "metadata": {},
   "source": [
    "- Create a JavaScript array called `empArray` to hold documents\n",
    "\n",
    "- Add the required documents with the Field Name and values to the array\n",
    "\n",
    "- Use the `.insertMany()` command to insert the array of documents into the collection"
   ]
  },
  {
   "cell_type": "markdown",
   "metadata": {},
   "source": [
    "if put double quote not jadi\n",
    "```javascript\n",
    "\n",
    "var empArray=\n",
    "\t[\n",
    "\t\n",
    "\t\t{\n",
    "\t\t\t\"EmpID\" : 102,\n",
    "\t\t\t\"EmpName\" : \"Simon\"\n",
    "\t\t},\n",
    "\t\t{\n",
    "\t\t\t\"EmpID\"   : 103,\n",
    "\t\t\t\"EmpName\" : \"Muhammad\"\n",
    "\t\t},\n",
    "\t\t{\n",
    "\t\t\t\"EmpID\"   : 104,\n",
    "\t\t\t\"EmpName\" : \"Darren\"\n",
    "\t\t}\n",
    "\n",
    "\t];\n",
    "\n",
    "\t> db.Employees.insertMany(empArray);\n",
    "```"
   ]
  },
  {
   "cell_type": "markdown",
   "metadata": {},
   "source": [
    "In order to print out all the documents in the JSON format, you can use the following code:\n",
    "\n",
    "<code><b>db.Employees.find().forEach(printjson)</b></code>\n",
    "\n",
    "We will learn more about `.find()` and `forEach()` later in this module."
   ]
  },
  {
   "cell_type": "markdown",
   "metadata": {},
   "source": [
    "## Drop Database"
   ]
  },
  {
   "cell_type": "markdown",
   "metadata": {},
   "source": [
    "In MongoDB, `db.dropDatabase()` command is used to drop a existing database. This command will drop the selected database. "
   ]
  },
  {
   "cell_type": "markdown",
   "metadata": {},
   "source": [
    "<div class=\"alert alert-block alert-danger\">\n",
    "If you have not selected any database, then it will delete default 'test' database.\n",
    "</div>"
   ]
  },
  {
   "cell_type": "markdown",
   "metadata": {},
   "source": [
    "#### Example 1"
   ]
  },
  {
   "cell_type": "markdown",
   "metadata": {},
   "source": [
    "**Step 1:** First, list the available databases:\n",
    "```json\n",
    "> show dbs\n",
    "admin           0.000GB\n",
    "EmployeeDB      0.000GB\n",
    "config          0.000GB\n",
    "local           0.000GB\n",
    "mydb            0.000GB\n",
    "\n",
    "```\n",
    "**Step 2:** To delete `mydb` database, use the following commands:\n",
    "\n",
    "```json\n",
    "> use mydb\n",
    "switched to db mydb\n",
    "> db.dropDatabase()\n",
    "{ \"dropped\" : \"mydb\", \"ok\" : 1 }\n",
    "```\n",
    "\n",
    "**Step 3:** Now, list the available databases again:\n",
    "```json\n",
    "> show dbs\n",
    "```"
   ]
  },
  {
   "cell_type": "markdown",
   "metadata": {},
   "source": [
    "`show dbs\n",
    "use database1\n",
    "db.createCollection(\"Colelction1\")\n",
    "db.collection1.insertOne({\"student\":\"Jones\"})\n",
    "db.collection1.find()`"
   ]
  },
  {
   "cell_type": "markdown",
   "metadata": {},
   "source": [
    "## Create Collection"
   ]
  },
  {
   "cell_type": "markdown",
   "metadata": {},
   "source": [
    "In MongoDB, **`db.createCollection(name, options)`** is used to create collection. In this command, `name` is the name of the collection to be created, and `options` is a document and is used to specify configuration of collection."
   ]
  },
  {
   "cell_type": "markdown",
   "metadata": {},
   "source": [
    "<table style=\"text-align:center;\" class=\"table table-bordered\">\n",
    "<tbody><tr>\n",
    "<th style=\"width:15%;text-align:center;\">Parameter</th>\n",
    "<th style=\"width:15%;text-align:center;\">Type</th>\n",
    "<th style=\"text-align:center;\">Description</th>\n",
    "</tr>\n",
    "<tr>\n",
    "<td style=\"width:15%;text-align:center;\">Name</td>\n",
    "<td style=\"width:15%;text-align:center;\">String</td>\n",
    "<td style=\"width:15%;text-align:center;\">Name of the collection to be created</td>\n",
    "</tr>\n",
    "<tr>\n",
    "<td style=\"width:15%;text-align:center;\">Options</td>\n",
    "<td style=\"width:15%;text-align:center;\">Document</td>\n",
    "<td style=\"width:15%;text-align:center;\">(Optional) Specify options about memory size and indexing</td>\n",
    "</tr>\n",
    "</tbody></table>"
   ]
  },
  {
   "cell_type": "markdown",
   "metadata": {},
   "source": [
    "You should just specify the name of the collection, options parameter is optional. The following table, list all the options that you can use in this command."
   ]
  },
  {
   "cell_type": "markdown",
   "metadata": {},
   "source": [
    "<table class=\"table table-bordered\">\n",
    "<tbody>\n",
    "<tr>\n",
    "<th style=\"width:15%;text-align:center;\">Field</th>\n",
    "<th style=\"width:15%;text-align:center;\">Type</th>\n",
    "<th style=\"text-align:center;\">Description</th></tr>\n",
    "<tr>\n",
    "<td style=\"text-align:center;vertical-align:middle;\">autoIndexId</td>\n",
    "<td style=\"text-align:center;vertical-align:middle;\">Boolean</td>\n",
    "<td style=\"text-align:left;vertical-align:middle;\">If true, automatically create index on _id field.s Default value is false.</td>\n",
    "</tr>\n",
    "<tr>\n",
    "<td style=\"text-align:center;vertical-align:middle;\">capped</td>\n",
    "<td style=\"text-align:center;vertical-align:middle;\">Boolean</td>\n",
    "<td style=\"text-align:left;vertical-align:middle;\">If true, enables a capped collection. Capped collection is a fixed size collection that automatically overwrites its oldest entries when it reaches its maximum size. <b>If you specify true, you need to specify size parameter.</b></td>\n",
    "</tr>\n",
    "<tr>\n",
    "<td style=\"text-align:center;vertical-align:middle;\">max</td>\n",
    "<td style=\"text-align:center;vertical-align:middle;\">number</td>\n",
    "<td style=\"text-align:left;vertical-align:middle;\">Specifies the maximum number of documents allowed in the capped collection.</td>\n",
    "</tr>\n",
    "<tr>\n",
    "<td style=\"text-align:center;vertical-align:middle;\">size</td>\n",
    "<td style=\"text-align:center;vertical-align:middle;\">number</td>\n",
    "<td style=\"text-align:left;vertical-align:middle;\">Specifies a maximum size in bytes for a capped collection. <b>If capped is true, then you need to specify this field.</b></td>\n",
    "</tr>\n",
    "\n",
    "</tbody>\n",
    "</table>"
   ]
  },
  {
   "cell_type": "markdown",
   "metadata": {},
   "source": [
    "During the document insertion process, if capped is `true`, MongoDB first checks the `size` field of capped collection, and then it checks the `max` field."
   ]
  },
  {
   "cell_type": "markdown",
   "metadata": {},
   "source": [
    "#### Example 2"
   ]
  },
  {
   "cell_type": "markdown",
   "metadata": {},
   "source": [
    "```json\n",
    "> use myDB\n",
    "switched to db myDB\n",
    "\n",
    "db.createCollection(\"myCol\")\n",
    "{ \"ok\" : 1 }\n",
    "\n",
    "> show collections\n",
    "myCol\n",
    "\n",
    "db.createCollection(\"newCollection\", { capped : true, autoIndexId : true, size : \n",
    "...    6142800, max : 10000 } )\n",
    "{\n",
    "\t\"note\" : \"the autoIndexId option is deprecated and will be removed in a future release\",\n",
    "\t\"ok\" : 1\n",
    "}\n",
    "```"
   ]
  },
  {
   "cell_type": "markdown",
   "metadata": {},
   "source": [
    "<div class=\"alert alert-block alert-warning\">\n",
    "As you have seen, MongoDB creates a collection automatically, when users insert at least one document into the database.\n",
    "</div>"
   ]
  },
  {
   "cell_type": "markdown",
   "metadata": {},
   "source": [
    "### Drop Collection"
   ]
  },
  {
   "cell_type": "markdown",
   "metadata": {},
   "source": [
    "MongoDB `.drop()` command, assist us to delete a collection from the database. The syntax of dropping a collection from a database is as follow:\n",
    "\n",
    "<code>db.COLLECTION_NAME.drop()</code>\n",
    "\n",
    "The following example, show how this command works:"
   ]
  },
  {
   "cell_type": "markdown",
   "metadata": {},
   "source": [
    "#### Example 3"
   ]
  },
  {
   "cell_type": "markdown",
   "metadata": {},
   "source": [
    "```json\n",
    "> use myDB\n",
    "switched to db myDB\n",
    "> show collections\n",
    "myCol\n",
    "newCollection\n",
    "> db.myCol.drop()\n",
    "true\n",
    "```"
   ]
  },
  {
   "cell_type": "markdown",
   "metadata": {},
   "source": [
    "MongoDB returns true if it drops the selected collection successfully. Otherwise, it returns false. The following example shows the result when we try to remove a non-existing collection from the database."
   ]
  },
  {
   "cell_type": "markdown",
   "metadata": {},
   "source": [
    "```json\n",
    "> db.mycoll.drop()\n",
    "false\n",
    "```"
   ]
  },
  {
   "cell_type": "markdown",
   "metadata": {},
   "source": [
    "## MongoDB Data Types"
   ]
  },
  {
   "cell_type": "markdown",
   "metadata": {},
   "source": [
    "<table class=\"table table-bordered\">\n",
    "<tbody>\n",
    "<tr>\n",
    "<th style=\"width:15%;text-align:center;\">Field</th>\n",
    "\n",
    "<th style=\"text-align:center;\">Description</th></tr>\n",
    "<tr>\n",
    "<td style=\"text-align:center;vertical-align:middle;\">Arrays</td>\n",
    "\n",
    "<td style=\"text-align:left;vertical-align:middle;\">It is a data type that used to store array. An array is a set of values into one key. </td>\n",
    "</tr>\n",
    "<tr>\n",
    "<td style=\"text-align:center;vertical-align:middle;\">Binary data</td>\n",
    "\n",
    "<td style=\"text-align:left;vertical-align:middle;\">It is used to store binary data.</td>\n",
    "</tr>\n",
    "<tr>\n",
    "<td style=\"text-align:center;vertical-align:middle;\">Boolean</td>\n",
    "\n",
    "<td style=\"text-align:left;vertical-align:middle;\">It is used to store a true or false values.</td>\n",
    "</tr>\n",
    "<tr>\n",
    "<td style=\"text-align:center;vertical-align:middle;\">Code</td>\n",
    "\n",
    "<td style=\"text-align:left;vertical-align:middle;\">It is used to store JavaScript code into the document.</td>\n",
    "</tr>\n",
    "<tr>\n",
    "<td style=\"text-align:center;vertical-align:middle;\">Date</td>\n",
    "\n",
    "<td style=\"text-align:left;vertical-align:middle;\">it is used to store current date or time.</td>\n",
    "</tr>\n",
    "<tr>\n",
    "<td style=\"text-align:center;vertical-align:middle;\">Double</td>\n",
    "\n",
    "<td style=\"text-align:left;vertical-align:middle;\">It is used to store floating-point values.</b></td>\n",
    "</tr>\n",
    "<tr>\n",
    "<td style=\"text-align:center;vertical-align:middle;\">Integer</td>\n",
    "\n",
    "<td style=\"text-align:left;vertical-align:middle;\">It is used to store 32-bits or 64-bits integer valuse.</td>\n",
    "</tr>\n",
    "<tr>\n",
    "<td style=\"text-align:center;vertical-align:middle;\">Min/ Max keys</td>\n",
    "\n",
    "<td style=\"text-align:left;vertical-align:middle;\">They are internal data types that used to compare a value against the lowest and highest BSON elements.</td>\n",
    "</tr>\n",
    "<tr>\n",
    "<td style=\"text-align:center;vertical-align:middle;\">Null</td>\n",
    "\n",
    "<td style=\"text-align:left;vertical-align:middle;\">It is used to store a Null value.</td>\n",
    "</tr>\n",
    "<tr>\n",
    "<td style=\"text-align:center;vertical-align:middle;\">Object</td>\n",
    "\n",
    "<td style=\"text-align:left;vertical-align:middle;\">It is used to store embedded documents. Embedded documents are documents, in the form of key-value pairs, inside another document.</td>\n",
    "\n",
    "</tr>\n",
    "<tr>\n",
    "<td style=\"text-align:center;vertical-align:middle;\">Object ID</td>\n",
    "\n",
    "<td style=\"text-align:left;vertical-align:middle;\">It is used to store the document’s ID.</b></td>\n",
    "\n",
    "</tr>\n",
    "<tr>\n",
    "<td style=\"text-align:center;vertical-align:middle;\">Regular expression</td>\n",
    "\n",
    "<td style=\"text-align:left;vertical-align:middle;\">It s used to store regular expression.</td>\n",
    "</tr>\n",
    "<tr>\n",
    "<td style=\"text-align:center;vertical-align:middle;\">String</td>\n",
    "\n",
    "<td style=\"text-align:left;vertical-align:middle;\">It is used to store a series of characters, and it must be in UTF-8 encoding format.</td>\n",
    "</tr>\n",
    "<tr>\n",
    "<td style=\"text-align:center;vertical-align:middle;\">Symbol</td>\n",
    "\n",
    "<td style=\"text-align:left;vertical-align:middle;\">It is used identically to a string; however, it's generally reserved for languages that use a specific symbol type.</td>\n",
    "</tr>\n",
    "<tr>\n",
    "<td style=\"text-align:center;vertical-align:middle;\">Timestamp</td>\n",
    "\n",
    "<td style=\"text-align:left;vertical-align:middle;\">It is a 64-bit value data type to store timestamp. It can be used to log when a document has been inserted or updated.</td>\n",
    "</tr>\n",
    "</tbody>\n",
    "</table>"
   ]
  },
  {
   "cell_type": "markdown",
   "metadata": {},
   "source": [
    "## Query Document"
   ]
  },
  {
   "cell_type": "markdown",
   "metadata": {},
   "source": [
    "In MongoDB, we can use `fine()` method to query documents from a collection. This method displays the documents in a non-structured format. The general syntax of `find()` is as follow:\n",
    "\n",
    "<code>db.COLLECTION_NAME.find()</code>"
   ]
  },
  {
   "cell_type": "markdown",
   "metadata": {},
   "source": [
    "<div class=\"alert alert-block alert-success\">\n",
    "    To format the result-set, we can put <code>.pretty()</code> method after the <code>find()</code> method.\n",
    "</div>"
   ]
  },
  {
   "cell_type": "markdown",
   "metadata": {},
   "source": [
    "```json\n",
    "> db.COLLECTION_NAME.find().pretty()\n",
    "```"
   ]
  },
  {
   "cell_type": "code",
   "execution_count": null,
   "metadata": {},
   "outputs": [],
   "source": [
    "db.Employees.find({$and:[{'EmpID':101,'EmpName':'Janice'}]})"
   ]
  },
  {
   "cell_type": "markdown",
   "metadata": {},
   "source": [
    "#### Example 4"
   ]
  },
  {
   "cell_type": "markdown",
   "metadata": {},
   "source": [
    "<a id='another_cell'></a>\n",
    "```json\n",
    "var blogPosts=[{\n",
    "\t\"title\" : \"MongoDB Basics\",\n",
    "\t\"description\" : \"MongoDB is a NoSQL database\",\n",
    "\t\"WrittenBy\" : \"Mehdi\",\n",
    "\t\"Tags\" : [\n",
    "\t\t\"MongoDB\",\n",
    "\t\t\"NoSQL\"\n",
    "\t],\n",
    "\t\"Likes\" : 100\n",
    "},\n",
    "{\n",
    "\t\"title\" : \"NoSQL Essentials\",\n",
    "\t\"description\" : \"What is NoSQL\",\n",
    "\t\"WrittenBy\" : \"Janice\",\n",
    "\t\"Tags\" : [\n",
    "\t\t\"Database\",\n",
    "\t\t\"NoSQL\"\n",
    "\t],\n",
    "\t\"Likes\" : 49\n",
    "},\n",
    "{\n",
    "\t\"title\" : \"Hello World!\",\n",
    "\t\"description\" : \"An introduction to Programming\",\n",
    "\t\"WrittenBy\" : \"Akmal\",\n",
    "\t\"Tags\" : [\n",
    "\t\t\"Python\",\n",
    "\t\t\"Programming\"\n",
    "\t],\n",
    "\t\"Likes\" : 89\n",
    "}]\n",
    "\n",
    "> db.blog.insertMany(blogPosts)\n",
    "\n",
    "```\n",
    "**Output:**\n",
    "```json\n",
    "{\n",
    "\t\"acknowledged\" : true,\n",
    "\t\"insertedIds\" : [\n",
    "\t\tObjectId(\"5c9b8d5b26f382d7eb58bf07\"),\n",
    "\t\tObjectId(\"5c9b8d5b26f382d7eb58bf08\"),\n",
    "\t\tObjectId(\"5c9b8d5b26f382d7eb58bf09\")\n",
    "\t]\n",
    "}\n",
    "\n",
    "```\n",
    "\n",
    "```json\n",
    "> db.blog.find().pretty()\n",
    "```\n",
    "**Output:**\n",
    "```json\n",
    "> db.blog.find().pretty()\n",
    "{\n",
    "\t\"_id\" : ObjectId(\"5c9b8d5b26f382d7eb58bf07\"),\n",
    "\t\"title\" : \"MongoDB Basics\",\n",
    "\t\"description\" : \"MongoDB is a NoSQL database\",\n",
    "\t\"WrittenBy\" : \"Mehdi\",\n",
    "\t\"Tags\" : [\n",
    "\t\t\"MongoDB\",\n",
    "\t\t\"NoSQL\"\n",
    "\t],\n",
    "\t\"Likes\" : 100\n",
    "}\n",
    "{\n",
    "\t\"_id\" : ObjectId(\"5c9b8d5b26f382d7eb58bf08\"),\n",
    "\t\"title\" : \"NoSQL Essentials\",\n",
    "\t\"description\" : \"What is NoSQL\",\n",
    "\t\"WrittenBy\" : \"Janice\",\n",
    "\t\"Tags\" : [\n",
    "\t\t\"Database\",\n",
    "\t\t\"NoSQL\"\n",
    "\t],\n",
    "\t\"Likes\" : 49\n",
    "}\n",
    "{\n",
    "\t\"_id\" : ObjectId(\"5c9b8d5b26f382d7eb58bf09\"),\n",
    "\t\"title\" : \"Hello World!\",\n",
    "\t\"description\" : \"An introduction to Programming\",\n",
    "\t\"WrittenBy\" : \"Akmal\",\n",
    "\t\"Tags\" : [\n",
    "\t\t\"Python\",\n",
    "\t\t\"Programming\"\n",
    "\t],\n",
    "\t\"Likes\" : 89\n",
    "}\n",
    "```"
   ]
  },
  {
   "cell_type": "code",
   "execution_count": null,
   "metadata": {},
   "outputs": [],
   "source": []
  },
  {
   "cell_type": "markdown",
   "metadata": {},
   "source": [
    "We can use `findOne()` method as well to return only one document."
   ]
  },
  {
   "cell_type": "markdown",
   "metadata": {},
   "source": [
    "## Conditional Operations"
   ]
  },
  {
   "cell_type": "markdown",
   "metadata": {},
   "source": [
    "The following table represents all the conditional operations in MongoDB."
   ]
  },
  {
   "cell_type": "markdown",
   "metadata": {},
   "source": [
    "```html\n",
    "| Operation              | Syntax             | Example                             |\n",
    "|------------------------|--------------------|-------------------------------------|\n",
    "| Equality               | {key:value}        | db.blog.find({\"WritenBy\":\"Mehdi\"}) |\n",
    "| Less Than              | {key:{$lt:value}}  | db.blog.find({\"Likes\":{$lt:50}})   |\n",
    "| Less Than or Equals    | {key:{$lte:value}} | db.blog.find({\"Likes\":{$lte:50}})  |\n",
    "| Greater Than           | {key:{$gt:value}}  | db.blog.find({\"Likes\":{$gt:50}})   |\n",
    "| Greater Than or Equals | {key:{$gte:value}} | db.blog.find({\"Likes\":{$gte:50}})  |\n",
    "| Not Equals             | {key:{$ne:value}}  | db.blog.find({\"Likes\":{$ne:50}})   |\n",
    "```\n"
   ]
  },
  {
   "cell_type": "markdown",
   "metadata": {},
   "source": [
    "## Logical Operator"
   ]
  },
  {
   "cell_type": "markdown",
   "metadata": {},
   "source": [
    "The following syntax is the way that we can use `and` operator in MongoDB."
   ]
  },
  {
   "cell_type": "markdown",
   "metadata": {},
   "source": [
    "```json\n",
    "> db.blog.find\n",
    "(\n",
    "   {\n",
    "      $and: [\n",
    "         {key1: value1}, {key2:value2}\n",
    "      ]\n",
    "   }\n",
    ")\n",
    "```"
   ]
  },
  {
   "cell_type": "markdown",
   "metadata": {},
   "source": [
    "#### Example 5\n",
    "\n",
    "```json\n",
    "> db.blog.find({$and:[{\"WrittenBy\":\"Mehdi\"},{\"title\": \"MongoDB Basics\"}]}).pretty()\n",
    "\n",
    "{\n",
    "\t\"_id\" : ObjectId(\"5c9b8d5b26f382d7eb58bf07\"),\n",
    "\t\"title\" : \"MongoDB Basics\",\n",
    "\t\"description\" : \"MongoDB is a NoSQL database\",\n",
    "\t\"WrittenBy\" : \"Mehdi\",\n",
    "\t\"Tags\" : [\n",
    "\t\t\"MongoDB\",\n",
    "\t\t\"NoSQL\"\n",
    "\t],\n",
    "\t\"Likes\" : 100\n",
    "}\n",
    "\n",
    "\n",
    "```"
   ]
  },
  {
   "cell_type": "markdown",
   "metadata": {},
   "source": [
    "We can use `or` operator in the same way too.\n",
    "\n",
    "```json\n",
    "> db.blog.find(\n",
    "   {\n",
    "      $or: [\n",
    "         {key1: value1}, {key2:value2}\n",
    "      ]\n",
    "   }\n",
    ")\n",
    "```"
   ]
  },
  {
   "cell_type": "markdown",
   "metadata": {},
   "source": [
    "#### Example 6\n",
    "\n",
    "```json\n",
    "> db.blog.find({$or:[{\"WrittenBy\":\"Mehdi\"},{\"title\": \"MongoDB Basics\"}]}).pretty()\n",
    "\n",
    "{\n",
    "\t\"_id\" : ObjectId(\"5c9b8d5b26f382d7eb58bf07\"),\n",
    "\t\"title\" : \"MongoDB Basics\",\n",
    "\t\"description\" : \"MongoDB is a NoSQL database\",\n",
    "\t\"WrittenBy\" : \"Mehdi\",\n",
    "\t\"Tags\" : [\n",
    "\t\t\"MongoDB\",\n",
    "\t\t\"NoSQL\"\n",
    "\t],\n",
    "\t\"Likes\" : 100\n",
    "}\n",
    "\n",
    "```"
   ]
  },
  {
   "cell_type": "markdown",
   "metadata": {},
   "source": [
    "**Exercise 1:**\n",
    "Write a query that returns the documents that have likes greater than 50 and their title are either 'MongoDB Basics' or 'NoSQL Essentials'. \n",
    "\n",
    "Use the following piece of code that it is equivalent to the following SQL `WHERE` clause:\n",
    "```sql\n",
    "WHERE Tags=\"NoSQL\" AND (Tags = \"Database\" OR Tags = \"MongoDB\")\n",
    "```\n",
    "\n",
    "\n",
    "```html\n",
    "> db.blog.find({$and:[{\"Tags\":\"NoSQL\"},{$or:[{\"Tags\":\"Database\"},{\"Tags\":\"MongoDB\"}]}]}).pretty()\n",
    "              \n",
    "   \n",
    "                 ```\n",
    "**Output:**\n",
    "```json\n",
    "{\n",
    "\t\"_id\" : ObjectId(\"5c9b8d5b26f382d7eb58bf07\"),\n",
    "\t\"title\" : \"MongoDB Basics\",\n",
    "\t\"description\" : \"MongoDB is a NoSQL database\",\n",
    "\t\"WrittenBy\" : \"Mehdi\",\n",
    "\t\"Tags\" : [\n",
    "\t\t\"MongoDB\",\n",
    "\t\t\"NoSQL\"\n",
    "\t],\n",
    "\t\"Likes\" : 100\n",
    "}\n",
    "{\n",
    "\t\"_id\" : ObjectId(\"5c9b8d5b26f382d7eb58bf08\"),\n",
    "\t\"title\" : \"NoSQL Essentials\",\n",
    "\t\"description\" : \"What is NoSQL\",\n",
    "\t\"WrittenBy\" : \"Janice\",\n",
    "\t\"Tags\" : [\n",
    "\t\t\"Database\",\n",
    "\t\t\"NoSQL\"\n",
    "\t],\n",
    "\t\"Likes\" : 49\n",
    "}\n",
    "\n",
    "\n",
    "```"
   ]
  },
  {
   "cell_type": "markdown",
   "metadata": {},
   "source": [
    "## Update Document"
   ]
  },
  {
   "cell_type": "markdown",
   "metadata": {},
   "source": [
    "**`update()`** and **`save()`** are two methods in MongoDB that we can be used to update a document or documents in a collection depending on the parameters that we pass to it. The `update()` method modifies the values in the existing document while the `save()` method replaces the existing document with the document passed in `save()` method."
   ]
  },
  {
   "cell_type": "markdown",
   "metadata": {},
   "source": [
    "The following is the basic syntax of `update()` method.\n",
    "\n",
    "<code>db.COLLECTION_NAME.update(SELECTION_CRITERIA, UPDATED_DATA)</code>\n",
    "\n",
    "The following example shows how we can modify the title of a blog post:\n",
    "\n",
    "**Example 7**\n",
    "\n",
    "```json\n",
    "> db.blog.update({'title':'MongoDB Basics'},{$set:{'title':'MongoDB Tutorial'}})\n",
    "WriteResult({ \"nMatched\" : 1, \"nUpserted\" : 0, \"nModified\" : 1 })\n",
    "\n",
    "> db.blog.find().pretty()\n",
    "{\n",
    "\t\"_id\" : ObjectId(\"5c9b8d5b26f382d7eb58bf07\"),\n",
    "\t\"title\" : \"MongoDB Tutorial\",\n",
    "\t\"description\" : \"MongoDB is a NoSQL database\",\n",
    "\t\"WrittenBy\" : \"Mehdi\",\n",
    "\t\"Tags\" : [\n",
    "\t\t\"MongoDB\",\n",
    "\t\t\"NoSQL\"\n",
    "\t],\n",
    "\t\"Likes\" : 100\n",
    "}\n",
    "{\n",
    "\t\"_id\" : ObjectId(\"5c9b8d5b26f382d7eb58bf08\"),\n",
    "\t\"title\" : \"NoSQL Essentials\",\n",
    "\t\"description\" : \"What is NoSQL\",\n",
    "\t\"WrittenBy\" : \"Janice\",\n",
    "\t\"Tags\" : [\n",
    "\t\t\"Database\",\n",
    "\t\t\"NoSQL\"\n",
    "\t],\n",
    "\t\"Likes\" : 49\n",
    "}\n",
    "{\n",
    "\t\"_id\" : ObjectId(\"5c9b8d5b26f382d7eb58bf09\"),\n",
    "\t\"title\" : \"Hello World!\",\n",
    "\t\"description\" : \"An introduction to Programming\",\n",
    "\t\"WrittenBy\" : \"Akmal\",\n",
    "\t\"Tags\" : [\n",
    "\t\t\"Python\",\n",
    "\t\t\"Programming\"\n",
    "\t],\n",
    "\t\"Likes\" : 89\n",
    "}\n",
    "\n",
    "```"
   ]
  },
  {
   "cell_type": "markdown",
   "metadata": {},
   "source": [
    "To update multiple documents, we can assign `true` to `multi` parameter. The following example shows how we can update more than one documents."
   ]
  },
  {
   "cell_type": "markdown",
   "metadata": {},
   "source": [
    "**Example 8**\n",
    "\n",
    "```json\n",
    "> db.blog.update({'Tags':'NoSQL'},{$set:{'Tags':'Not Only SQL'}},{multi:true})\n",
    "WriteResult({ \"nMatched\" : 2, \"nUpserted\" : 0, \"nModified\" : 2 })\n",
    "> db.blog.find().pretty()\n",
    "{\n",
    "\t\"_id\" : ObjectId(\"5c9b8d5b26f382d7eb58bf07\"),\n",
    "\t\"title\" : \"MongoDB Tutorial\",\n",
    "\t\"description\" : \"MongoDB is a NoSQL database\",\n",
    "\t\"WrittenBy\" : \"Mehdi\",\n",
    "\t\"Tags\" : \"Not Only SQL\",\n",
    "\t\"Likes\" : 100\n",
    "}\n",
    "{\n",
    "\t\"_id\" : ObjectId(\"5c9b8d5b26f382d7eb58bf08\"),\n",
    "\t\"title\" : \"NoSQL Essentials\",\n",
    "\t\"description\" : \"What is NoSQL\",\n",
    "\t\"WrittenBy\" : \"Janice\",\n",
    "\t\"Tags\" : \"Not Only SQL\",\n",
    "\t\"Likes\" : 49\n",
    "}\n",
    "{\n",
    "\t\"_id\" : ObjectId(\"5c9b8d5b26f382d7eb58bf09\"),\n",
    "\t\"title\" : \"Hello World!\",\n",
    "\t\"description\" : \"An introduction to Programming\",\n",
    "\t\"WrittenBy\" : \"Akmal\",\n",
    "\t\"Tags\" : [\n",
    "\t\t\"Python\",\n",
    "\t\t\"Programming\"\n",
    "\t],\n",
    "\t\"Likes\" : 89\n",
    "}\n",
    "```"
   ]
  },
  {
   "cell_type": "markdown",
   "metadata": {},
   "source": [
    "### Exercise 2\n",
    "#### Update a specific element of an Array in a document\n",
    "Write an update query to create the following result.\n",
    "\n",
    "First, drop the collection, and create a new collection based on the array of the blog post documents. \n",
    "[Click to Jump](#another_cell)"
   ]
  },
  {
   "cell_type": "markdown",
   "metadata": {},
   "source": [
    "```json\n",
    "{\n",
    "\t\"_id\" : ObjectId(\"5c9b99c726f382d7eb58bf0a\"),\n",
    "\t\"title\" : \"MongoDB Basics\",\n",
    "\t\"description\" : \"MongoDB is a NoSQL database\",\n",
    "\t\"WrittenBy\" : \"Mehdi\",\n",
    "\t\"Tags\" : [\n",
    "\t\t\"MongoDB\",\n",
    "\t\t\"Not Only SQL\"\n",
    "\t],\n",
    "\t\"Likes\" : 100\n",
    "}\n",
    "{\n",
    "\t\"_id\" : ObjectId(\"5c9b99c726f382d7eb58bf0b\"),\n",
    "\t\"title\" : \"NoSQL Essentials\",\n",
    "\t\"description\" : \"What is NoSQL\",\n",
    "\t\"WrittenBy\" : \"Janice\",\n",
    "\t\"Tags\" : [\n",
    "\t\t\"Database\",\n",
    "\t\t\"Not Only SQL\"\n",
    "\t],\n",
    "\t\"Likes\" : 49\n",
    "}\n",
    "{\n",
    "\t\"_id\" : ObjectId(\"5c9b99c726f382d7eb58bf0c\"),\n",
    "\t\"title\" : \"Hello World!\",\n",
    "\t\"description\" : \"An introduction to Programming\",\n",
    "\t\"WrittenBy\" : \"Akmal\",\n",
    "\t\"Tags\" : [\n",
    "\t\t\"Python\",\n",
    "\t\t\"Programming\"\n",
    "\t],\n",
    "\t\"Likes\" : 89\n",
    "}\n",
    "```"
   ]
  },
  {
   "cell_type": "markdown",
   "metadata": {},
   "source": [
    "The **`save()`** method replaces the existing document with the new document passed in the `save()` method. The following is the basic syntax of `save()` method.\n",
    "```json\n",
    "> db.COLLECTION_NAME.save({\"_id\":ObjectId(),NEW_DATA})\n",
    "```"
   ]
  },
  {
   "cell_type": "markdown",
   "metadata": {},
   "source": [
    "**Example 9**\n",
    "```json\n",
    "db.blog.save({\n",
    "        \"_id\" : ObjectId(\"5c9b99c726f382d7eb58bf0c\"),\n",
    "        \"title\" : \"Hello Python!\",\n",
    "        \"description\" : \"An introduction to Python Programming Language\",\n",
    "        \"WrittenBy\" : \"Akmal\",\n",
    "        \"Tags\" : [\n",
    "            \"Python\",\n",
    "            \"Programming\"\n",
    "        ],\n",
    "        \"Likes\" : 189\n",
    "})\n",
    "WriteResult({\n",
    "\t\"nMatched\" : 0,\n",
    "\t\"nUpserted\" : 1,\n",
    "\t\"nModified\" : 0,\n",
    "\t\"_id\" : ObjectId(\"5c9b99c726f382d7eb58bf0c\")\n",
    "})\n",
    "\n",
    "> db.blog.find().pretty()\n",
    "{\n",
    "\t\"_id\" : ObjectId(\"5c9b9d5626f382d7eb58bf0d\"),\n",
    "\t\"title\" : \"MongoDB Basics\",\n",
    "\t\"description\" : \"MongoDB is a NoSQL database\",\n",
    "\t\"WrittenBy\" : \"Mehdi\",\n",
    "\t\"Tags\" : [\n",
    "\t\t\"MongoDB\",\n",
    "\t\t\"Not Only SQL\"\n",
    "\t],\n",
    "\t\"Likes\" : 100\n",
    "}\n",
    "{\n",
    "\t\"_id\" : ObjectId(\"5c9b9d5626f382d7eb58bf0e\"),\n",
    "\t\"title\" : \"NoSQL Essentials\",\n",
    "\t\"description\" : \"What is NoSQL\",\n",
    "\t\"WrittenBy\" : \"Janice\",\n",
    "\t\"Tags\" : [\n",
    "\t\t\"Database\",\n",
    "\t\t\"Not Only SQL\"\n",
    "\t],\n",
    "\t\"Likes\" : 49\n",
    "}\n",
    "{\n",
    "\t\"_id\" : ObjectId(\"5c9b99c726f382d7eb58bf0c\"),\n",
    "\t\"title\" : \"Hello Python!\",\n",
    "\t\"description\" : \"An introduction to Python Programming Language\",\n",
    "\t\"WrittenBy\" : \"Akmal\",\n",
    "\t\"Tags\" : [\n",
    "\t\t\"Python\",\n",
    "\t\t\"Programming\"\n",
    "\t],\n",
    "\t\"Likes\" : 189\n",
    "}\n",
    "```"
   ]
  },
  {
   "cell_type": "markdown",
   "metadata": {},
   "source": [
    "## Delete Document"
   ]
  },
  {
   "cell_type": "markdown",
   "metadata": {},
   "source": [
    "`remove()` is used to delete a document from a collection in MongoDB database. `remove()` method accepts two parameters. The first one is **deletion criteria** and the second one is **justOne** boolean flag. The following is the basic syntax of `remove()` method.\n",
    "\n",
    "```json\n",
    "> db.COLLECTION_NAME.remove(DELLETION_CRITTERIA,justOne)\n",
    "```"
   ]
  },
  {
   "cell_type": "markdown",
   "metadata": {},
   "source": [
    "**Example 10**\n",
    "```json\n",
    "> db.blog.remove({'title':'MongoDB Basics'})\n",
    "WriteResult({ \"nRemoved\" : 1 })\n",
    "```"
   ]
  },
  {
   "cell_type": "markdown",
   "metadata": {},
   "source": [
    "To remove only one document when your deletion criteria match with more than one document, you can simply pass `1` as the second parameter (justOne) to `remove()` method.\n",
    "\n",
    "**Example 11**\n",
    "```json\n",
    "> db.blog.remove({\"Tags\":\"NoSQL\"},1)\n",
    "WriteResult({ \"nRemoved\" : 1 })\n",
    "```"
   ]
  },
  {
   "cell_type": "markdown",
   "metadata": {},
   "source": [
    "To remove all documents we can simply write the following command:\n",
    "\n",
    "**Example 12**\n",
    "```json\n",
    "> db.blog.remove({})\n",
    "WriteResult({ \"nRemoved\" : 2 })\n",
    "> db.blog.find()\n",
    "> \n",
    "\n",
    "```"
   ]
  },
  {
   "cell_type": "markdown",
   "metadata": {},
   "source": [
    "## Projection"
   ]
  },
  {
   "cell_type": "markdown",
   "metadata": {},
   "source": [
    "Sometimes we need to project only the necessary data rather than selecting all of the data of a document.\n",
    "\n",
    "To project the desired fields, we can use the following `find()` syntax:\n",
    "\n",
    "<code>db.COLLECTION_NAME.find({},{KEY:1})</code>\n",
    "or\n",
    "<code>db.COLLECTION_NAME.find({},projection = {KEY:1})</code>"
   ]
  },
  {
   "cell_type": "markdown",
   "metadata": {},
   "source": [
    "**Example 13**\n",
    "```json\n",
    "db.blog.find({},{\"title\":1})\n",
    "{ \"_id\" : ObjectId(\"5c9baa0a26f382d7eb58bf13\"), \"title\" : \"MongoDB Basics\" }\n",
    "{ \"_id\" : ObjectId(\"5c9baa0a26f382d7eb58bf14\"), \"title\" : \"NoSQL Essentials\" }\n",
    "{ \"_id\" : ObjectId(\"5c9baa0a26f382d7eb58bf15\"), \"title\" : \"Hello World!\" }\n",
    "\n",
    "\n",
    "```\n",
    "If you don't want `_id` field, then you need to set it to `0`.\n",
    "\n",
    "**Example 14**\n",
    "```json\n",
    "db.blog.find({},{\"title\":1,_id:0})\n",
    "{ \"title\" : \"MongoDB Basics\" }\n",
    "{ \"title\" : \"NoSQL Essentials\" }\n",
    "{ \"title\" : \"Hello World!\" }\n",
    "```\n",
    "**Example 15**\n",
    "```json\n",
    "db.blog.find({},projection={\"title\":1,_id:0})\n",
    "```"
   ]
  },
  {
   "cell_type": "markdown",
   "metadata": {},
   "source": [
    "## Distinct Method\n",
    "We can use `distinct()` method in MongoDB to get distinct record values. The syntax is as follows:\n",
    "\n",
    "``` json\n",
    "db.COLLECTION_NAME.distinct(“FieldName”);```\n",
    "\n",
    "**Example 16**\n",
    "\n",
    "```json\n",
    "db.blog.distinct('WrittenBy')\n",
    "[ \"Mehdi\", \"Janice\", \"Akmal\", \"Jan\" ]```"
   ]
  },
  {
   "cell_type": "markdown",
   "metadata": {},
   "source": [
    "## Limit Records"
   ]
  },
  {
   "cell_type": "markdown",
   "metadata": {},
   "source": [
    "The `limit()` method accepts a numerical value to limit the number of documents that you want to be displayed. The following syntax shows how we can use the `limit()` method.\n",
    "\n",
    "```json\n",
    "> db.COLLECTION_NAME.find().limit(NUMBER)\n",
    "```"
   ]
  },
  {
   "cell_type": "markdown",
   "metadata": {},
   "source": [
    "**Example 17**\n",
    "```json\n",
    "> db.blog.find().limit(2).pretty()\n",
    "{\n",
    "\t\"_id\" : ObjectId(\"5c9baa0a26f382d7eb58bf13\"),\n",
    "\t\"title\" : \"MongoDB Basics\",\n",
    "\t\"description\" : \"MongoDB is a NoSQL database\",\n",
    "\t\"WrittenBy\" : \"Mehdi\",\n",
    "\t\"Tags\" : [\n",
    "\t\t\"MongoDB\",\n",
    "\t\t\"NoSQL\"\n",
    "\t],\n",
    "\t\"Likes\" : 100\n",
    "}\n",
    "{\n",
    "\t\"_id\" : ObjectId(\"5c9baa0a26f382d7eb58bf14\"),\n",
    "\t\"title\" : \"NoSQL Essentials\",\n",
    "\t\"description\" : \"What is NoSQL\",\n",
    "\t\"WrittenBy\" : \"Janice\",\n",
    "\t\"Tags\" : [\n",
    "\t\t\"Database\",\n",
    "\t\t\"NoSQL\"\n",
    "\t],\n",
    "\t\"Likes\" : 49\n",
    "}\n",
    "```"
   ]
  },
  {
   "cell_type": "markdown",
   "metadata": {},
   "source": [
    "MongoDB `skip()` method is used to skip over a specific number of document, the following command show how the `skip()` method works:\n",
    "\n",
    "```json\n",
    "> db.blog.find({},{\"title\":1,_id:0}).limit(1).skip(1)\n",
    "{ \"title\" : \"NoSQL Essentials\" }\n",
    "```"
   ]
  },
  {
   "cell_type": "markdown",
   "metadata": {},
   "source": [
    "## Sort Records"
   ]
  },
  {
   "cell_type": "markdown",
   "metadata": {},
   "source": [
    "In MongoDB, we can use **`sort()`** method to sort documents in a collection. To specify sorting order `-1` and `1` are used. `-1` is used for descending order while `1` is used for ascending order. The following syntax shows how we can use the `sort()` method. \n",
    "\n",
    "```json\n",
    "> db.COLLECTION_NAME.find().sort({KEY:1 or -1})\n",
    "```"
   ]
  },
  {
   "cell_type": "markdown",
   "metadata": {},
   "source": [
    "<div class=\"alert alert-block alert-info\">\n",
    "The default sort order is ascending.\n",
    "</div>"
   ]
  },
  {
   "cell_type": "markdown",
   "metadata": {},
   "source": [
    "**Example 18**\n",
    "```json\n",
    "> db.blog.find({},{\"title\":1,_id:0}).sort({\"title\":-1})\n",
    "{ \"title\" : \"NoSQL Essentials\" }\n",
    "{ \"title\" : \"MongoDB Basics\" }\n",
    "{ \"title\" : \"Hello World!\" }\n",
    "\n",
    "```"
   ]
  },
  {
   "cell_type": "markdown",
   "metadata": {},
   "source": [
    "## Indexing"
   ]
  },
  {
   "cell_type": "markdown",
   "metadata": {},
   "source": [
    "MongoDB support indexes to make the queries more efficient. Simply, indexes are special data structures, that store a small piece of the data in an easy-to-traverse form. An index maintains the value of a field or set of fields, ordered by the value of the field(s) as specified in the index.\n",
    "\n",
    "In MongoDB, we can use `ensureIndex()` method to create an index. The following is the basic syntax of `ensureIndex()` method.\n",
    "```json\n",
    "> db.COLLECTION_NAME.ensureIndex({KEY:1})\n",
    "```\n",
    "```json\n",
    "> db.COLLECTION_NAME.createIndex({KEY:1})\n",
    "```"
   ]
  },
  {
   "cell_type": "markdown",
   "metadata": {},
   "source": [
    "The `key` is the name of the field on which you desire to create an index,  `1` is for ascending order, and `-1` is for descending order."
   ]
  },
  {
   "cell_type": "markdown",
   "metadata": {},
   "source": [
    "**Example 19**\n",
    "```json\n",
    "> db.blog.ensureIndex({\"title\":1})\n",
    "{\n",
    "\t\"createdCollectionAutomatically\" : false,\n",
    "\t\"numIndexesBefore\" : 1,\n",
    "\t\"numIndexesAfter\" : 2,\n",
    "\t\"ok\" : 1\n",
    "}\n",
    "```"
   ]
  },
  {
   "cell_type": "markdown",
   "metadata": {},
   "source": [
    "`ensureIndex()` method accepts multiple fields, to create an index on multiple fields."
   ]
  },
  {
   "cell_type": "markdown",
   "metadata": {},
   "source": [
    "**Example 20**\n",
    "```json\n",
    "> db.blog.ensureIndex({\"title\":1,\"description\":-1})\n",
    "{\n",
    "\t\"createdCollectionAutomatically\" : false,\n",
    "\t\"numIndexesBefore\" : 2,\n",
    "\t\"numIndexesAfter\" : 3,\n",
    "\t\"ok\" : 1\n",
    "}\n",
    "```"
   ]
  },
  {
   "cell_type": "markdown",
   "metadata": {},
   "source": [
    "## Aggregation"
   ]
  },
  {
   "cell_type": "markdown",
   "metadata": {},
   "source": [
    "Aggregation operations in MongoDB, similar to SQL aggregation functions (e.g., COUNT(*)) with GROUP BY clause, group values from multiple documents together and are able to perform a variety of operations on the grouped data to return a single result. First drop the existing collection, then insert the following documents into the collection. Later we use these documents to perform aggregation operations. "
   ]
  },
  {
   "cell_type": "markdown",
   "metadata": {},
   "source": [
    "```javascript\n",
    "var blogPosts= [\n",
    "\t{\n",
    "\t\t\"title\" : \"MongoDB Basics\",\n",
    "\t\t\"description\" : \"MongoDB is a NoSQL database\",\n",
    "\t\t\"WrittenBy\" : \"Mehdi\",\n",
    "\t\t\"Tags\" : [\n",
    "\t\t\t\"MongoDB\",\n",
    "\t\t\t\"NoSQL\"\n",
    "\t\t],\n",
    "\t\t\"Likes\" : 100\n",
    "\t},\n",
    "\t{\n",
    "\t\t\"title\" : \"NoSQL Essentials\",\n",
    "\t\t\"description\" : \"What is NoSQL\",\n",
    "\t\t\"WrittenBy\" : \"Janice\",\n",
    "\t\t\"Tags\" : [\n",
    "\t\t\t\"Database\",\n",
    "\t\t\t\"NoSQL\"\n",
    "\t\t],\n",
    "\t\t\"Likes\" : 49\n",
    "\t},\n",
    "\t{\n",
    "\t\t\"title\" : \"Hello World!\",\n",
    "\t\t\"description\" : \"An introduction to Programming\",\n",
    "\t\t\"WrittenBy\" : \"Akmal\",\n",
    "\t\t\"Tags\" : [\n",
    "\t\t\t\"Algorithms\",\n",
    "\t\t\t\"Programming\"\n",
    "\t\t],\n",
    "\t\t\"Likes\" : 89\n",
    "\t\t},\n",
    "\t{\n",
    "\t\t\"title\" : \"Neo4J Basics\",\n",
    "\t\t\"description\" : \"Neo4J is a NoSQL database\",\n",
    "\t\t\"WrittenBy\" : \"Mehdi\",\n",
    "\t\t\"Tags\" : [\n",
    "\t\t\t\"Neo4J\",\n",
    "\t\t\t\"NoSQL\"\n",
    "\t\t],\n",
    "\t\t\"Likes\" : 200\n",
    "\t},\n",
    "\t{\n",
    "\t\t\"title\" : \"SQL Essentials\",\n",
    "\t\t\"description\" : \"What is SQL\",\n",
    "\t\t\"WrittenBy\" : \"Mehdi\",\n",
    "\t\t\"Tags\" : [\n",
    "\t\t\t\"Database\",\n",
    "\t\t\t\"SQL\"\n",
    "\t\t],\n",
    "\t\t\"Likes\" : 149\n",
    "\t},\n",
    "\t{\n",
    "\t\t\"title\" : \"Python\",\n",
    "\t\t\"description\" : \"An introduction to Python\",\n",
    "\t\t\"WrittenBy\" : \"Jan\",\n",
    "\t\t\"Tags\" : [\n",
    "\t\t\t\"Python\",\n",
    "\t\t\t\"Programming\"\n",
    "\t\t],\n",
    "\t\t\"Likes\" : 39\n",
    "\t}\t\n",
    "]\n",
    "\n",
    "> db.blog.insertMany(blogPosts)\n",
    "{\n",
    "\t\"acknowledged\" : true,\n",
    "\t\"insertedIds\" : [\n",
    "\t\tObjectId(\"5c9c9c3860a65c88dfeefbb1\"),\n",
    "\t\tObjectId(\"5c9c9c3860a65c88dfeefbb2\"),\n",
    "\t\tObjectId(\"5c9c9c3860a65c88dfeefbb3\"),\n",
    "\t\tObjectId(\"5c9c9c3860a65c88dfeefbb4\"),\n",
    "\t\tObjectId(\"5c9c9c3860a65c88dfeefbb5\"),\n",
    "\t\tObjectId(\"5c9c9c3860a65c88dfeefbb6\")\n",
    "\t]\n",
    "}\n",
    "```"
   ]
  },
  {
   "cell_type": "markdown",
   "metadata": {},
   "source": [
    "The following example returns a list stating how many articles are written by each user?"
   ]
  },
  {
   "cell_type": "markdown",
   "metadata": {},
   "source": [
    "```html\n",
    "> db.blog.aggregate([{$group : {_id : \"$WrittenBy\", \"Number of Articles\" : {$sum : 1}}}])\n",
    "{ \"_id\" : \"Jan\", \"Number of Articles\" : 1 }\n",
    "{ \"_id\" : \"Akmal\", \"Number of Articles\" : 1 }\n",
    "{ \"_id\" : \"Janice\", \"Number of Articles\" : 1 }\n",
    "{ \"_id\" : \"Mehdi\", \"Number of Articles\" : 3 }\n",
    "```"
   ]
  },
  {
   "cell_type": "markdown",
   "metadata": {},
   "source": [
    "In the above example, we have grouped documents by field `WrittenBy` and on each occurrence of `WrittenBy` previous value of sum is incremented by `1`. \n",
    "\n",
    "Following is a list of available aggregation expressions."
   ]
  },
  {
   "cell_type": "markdown",
   "metadata": {},
   "source": [
    "**$sum** sums up the defined value from all documents in the collection.\n",
    "\n",
    "```html\n",
    "> db.blog.aggregate([{$group : {_id : \"$WrittenBy\", num_likes : {$sum : \"$Likes\"}}}])\n",
    "{ \"_id\" : \"Jan\", \"num_likes\" : 39 }\n",
    "{ \"_id\" : \"Akmal\", \"num_likes\" : 89 }\n",
    "{ \"_id\" : \"Janice\", \"num_likes\" : 49 }\n",
    "{ \"_id\" : \"Mehdi\", \"num_likes\" : 449 }\n",
    "```"
   ]
  },
  {
   "cell_type": "markdown",
   "metadata": {},
   "source": [
    "**$avg** calculates the average of all given values from all documents in the collection.\n",
    "\n",
    "```html\n",
    "> db.blog.aggregate([{$group : {_id : \"$WrittenBy\", avg_likes : {$avg : \"$Likes\"}}}])\n",
    "{ \"_id\" : \"Jan\", \"avg_likes\" : 39 }\n",
    "{ \"_id\" : \"Akmal\", \"avg_likes\" : 89 }\n",
    "{ \"_id\" : \"Janice\", \"avg_likes\" : 49 }\n",
    "{ \"_id\" : \"Mehdi\", \"avg_likes\" : 149.66666666666666 }\n",
    "```"
   ]
  },
  {
   "cell_type": "markdown",
   "metadata": {},
   "source": [
    "**$min**: gets the minimum of the corresponding values from all documents in the collection.\n",
    "\n",
    "```html\n",
    "db.blog.aggregate([{$group : {_id : \"$WrittenBy\", min_likes : {$min : \"$Likes\"}}}])\n",
    "{ \"_id\" : \"Jan\", \"min_likes\" : 39 }\n",
    "{ \"_id\" : \"Akmal\", \"min_likes\" : 89 }\n",
    "{ \"_id\" : \"Janice\", \"min_likes\" : 49 }\n",
    "{ \"_id\" : \"Mehdi\", \"min_likes\" : 100 }\n",
    "```"
   ]
  },
  {
   "cell_type": "markdown",
   "metadata": {},
   "source": [
    "**$max** gets the maximum of the corresponding values from all documents in the collection.\n",
    "\n",
    "```html\n",
    "> db.blog.aggregate([{$group : {_id : \"$WrittenBy\", max_likes : {$max : \"$Likes\"}}}])\n",
    "{ \"_id\" : \"Jan\", \"max_likes\" : 39 }\n",
    "{ \"_id\" : \"Akmal\", \"max_likes\" : 89 }\n",
    "{ \"_id\" : \"Janice\", \"max_likes\" : 49 }\n",
    "{ \"_id\" : \"Mehdi\", \"max_likes\" : 200 }\n",
    "```"
   ]
  },
  {
   "cell_type": "markdown",
   "metadata": {},
   "source": [
    "**$push** inserts the value to an array in the resulting document.\n",
    "\n",
    "```html\n",
    " db.blog.aggregate([{$group : {_id : \"$WrittenBy\", list_likes : {$push : \"$Likes\"}}}])\n",
    "{ \"_id\" : \"Jan\", \"list_likes\" : [ 39 ] }\n",
    "{ \"_id\" : \"Akmal\", \"list_likes\" : [ 89 ] }\n",
    "{ \"_id\" : \"Janice\", \"list_likes\" : [ 49 ] }\n",
    "{ \"_id\" : \"Mehdi\", \"list_likes\" : [ 100, 200, 149 ] }\n",
    "```"
   ]
  },
  {
   "cell_type": "markdown",
   "metadata": {},
   "source": [
    "**$addToSet** inserts the value to an array in the resulting document but does not create duplicates.\n",
    "\n",
    "```html\n",
    "> db.blog.aggregate([{$group : {_id : \"$WrittenBy\", set_likes : {$addToSet : \"$Likes\"}}}])\n",
    "{ \"_id\" : \"Jan\", \"set_likes\" : 39 }\n",
    "{ \"_id\" : \"Akmal\", \"set_likes\" : 89 }\n",
    "{ \"_id\" : \"Janice\", \"set_likes\" : 49 }\n",
    "{ \"_id\" : \"Mehdi\", \"set_likes\" : 200 }\n",
    "```"
   ]
  },
  {
   "cell_type": "markdown",
   "metadata": {},
   "source": [
    "**$first** gets the first document from the source documents according to the grouping. Typically this makes only sense together with some previously applied `$sort`-stage.\n",
    "\n",
    "```html\n",
    "> db.blog.aggregate([{$group : {_id : \"$WrittenBy\", first_title : {$first : \"$title\"}}}])\n",
    "{ \"_id\" : \"Jan\", \"first_title\" : \"Python\" }\n",
    "{ \"_id\" : \"Akmal\", \"first_title\" : \"Hello World!\" }\n",
    "{ \"_id\" : \"Janice\", \"first_title\" : \"NoSQL Essentials\" }\n",
    "{ \"_id\" : \"Mehdi\", \"first_title\" : \"MongoDB Basics\" }\n",
    "```"
   ]
  },
  {
   "cell_type": "markdown",
   "metadata": {},
   "source": [
    "**$last** gets the last document from the source documents according to the grouping. Typically this makes only sense together with some previously applied `$sort`-stage.\n",
    "\n",
    "```html\n",
    "> db.blog.aggregate([{$group : {_id : \"$WrittenBy\", last_title : {$last : \"$title\"}}}])\n",
    "{ \"_id\" : \"Jan\", \"last_title\" : \"Python\" }\n",
    "{ \"_id\" : \"Akmal\", \"last_title\" : \"Hello World!\" }\n",
    "{ \"_id\" : \"Janice\", \"last_title\" : \"NoSQL Essentials\" }\n",
    "{ \"_id\" : \"Mehdi\", \"last_title\" : \"SQL Essentials\" }\n",
    "\n",
    "```"
   ]
  },
  {
   "cell_type": "markdown",
   "metadata": {},
   "source": [
    "## MongoDB Pipeline"
   ]
  },
  {
   "cell_type": "markdown",
   "metadata": {},
   "source": [
    "Pipeline means the possibility to execute an operation on some input and use the output as the input for the next command and so on. MongoDB also supports the same concept in the aggregation framework. There is a set of possible stages, and each of those is taken as a set of documents as an input and produces a resulting set of documents (or the final resulting JSON document at the end of the pipeline). This can then, in turn, be used for the next stage and so on.\n",
    "\n",
    "Following are the possible stages in the aggregation framework:\n"
   ]
  },
  {
   "cell_type": "markdown",
   "metadata": {},
   "source": [
    "\n",
    "**$project** is used to select some specific fields from a collection.\n",
    "\n",
    "**$match** is a filtering operation, and thus this can reduce the number of documents that are given as input to the next stage.\n",
    "\n",
    "**$group** does the actual aggregation as discussed above.\n",
    "\n",
    "**$sort** Sorts the documents.\n",
    "\n",
    "**$skip** skips forward in the list of documents for a given amount of documents.\n",
    "\n",
    "**$limit** limits the number of documents to look at, by the given number starting from the current positions.\n",
    "\n",
    "**$unwind** is used to unwind document that are using arrays. When using an array, the data is kind of pre-joined and this operation will be undone with this to have individual documents again. Thus with this stage, we will increase the number of documents for the next stage."
   ]
  },
  {
   "cell_type": "markdown",
   "metadata": {},
   "source": [
    "### Exercise 3 "
   ]
  },
  {
   "cell_type": "markdown",
   "metadata": {},
   "source": [
    "Create a pipeline that [sorts](https://docs.mongodb.com/manual/reference/operator/aggregation/sort/) the result-set and generates an output similar to the following one\n",
    "\n",
    "```json\n",
    "{ \"_id\" : \"Mehdi\", \"num_likes\" : 449 }\n",
    "{ \"_id\" : \"Akmal\", \"num_likes\" : 89 }\n",
    "{ \"_id\" : \"Janice\", \"num_likes\" : 49 }\n",
    "{ \"_id\" : \"Jan\", \"num_likes\" : 39 }\n",
    "```"
   ]
  },
  {
   "cell_type": "markdown",
   "metadata": {},
   "source": [
    "### $elemMatch\n",
    "\n",
    "The `$elemMatch` operator matches documents that contain an array field with at least one element that matches all the specified query criteria."
   ]
  },
  {
   "cell_type": "markdown",
   "metadata": {},
   "source": [
    "Suppose we are going to store schools' zip codes and their students in the following format.\n",
    "```js\n",
    "var schools=[\n",
    "    {\n",
    " zipcode: \"59200\",\n",
    " students: [\n",
    "              { name: \"Akmal\", school: \"ABC\", age: 10 },\n",
    "              { name: \"Muhammad\", school: \"ABC\", age: 11 },\n",
    "              { name: \"Amin\", school: \"SUN\", age: 15 }\n",
    "           ]\n",
    "},\n",
    "{\n",
    "\n",
    " zipcode: \"59100\",\n",
    " students: [\n",
    "              { name: \"Amin\", school: \"SMART\", age: 7 },\n",
    "              { name: \"Luqman\", school: \"SMART\", age: 8 }\n",
    "           ]\n",
    "},\n",
    "{\n",
    "\n",
    " zipcode: \"59200\",\n",
    " students: [\n",
    "              { name: \"Mehdi\", school: \"SMART\", age: 7 },\n",
    "              { name: \"Amalina\", school: \"SMART\", age: 8 }\n",
    "           ]\n",
    "},\n",
    "{\n",
    "\n",
    " zipcode: \"59200\",\n",
    " students: [\n",
    "              { name: \"Sarah\", school: \"ABC\", age: 7 },\n",
    "              { name: \"Uzair\", school: \"ABC\", age: 16 }\n",
    "           ]\n",
    "}\n",
    "];\n",
    "```"
   ]
  },
  {
   "cell_type": "markdown",
   "metadata": {},
   "source": [
    "Now, We want to know the name of students who go to a specific school in a given location.\n",
    "\n",
    "First, we'll insert the JS array into a MongoDB collection; then we'll use `$elemMatch` to write the query."
   ]
  },
  {
   "cell_type": "markdown",
   "metadata": {},
   "source": [
    "**Step 1**\n",
    "\n",
    "```js\n",
    "db.schools.insertMany(schools)\n",
    "```\n",
    "\n",
    "**Step 2**\n",
    "\n",
    "```js\n",
    "db.schools.find( { zipcode: \"59200\" },\n",
    "                 { students: { $elemMatch: { school: \"ABC\" } } } )\n",
    "                 ```\n",
    "                 \n",
    "or\n",
    "\n",
    "```js\n",
    "db.schools.find( { zipcode: \"59200\" },\n",
    "                 { students: { $elemMatch: { school: \"ABC\", age: { $gt: 10} } } } )\n",
    "```"
   ]
  },
  {
   "cell_type": "markdown",
   "metadata": {},
   "source": [
    "## PyMongo\n",
    "#### Python needs a MongoDB driver to access the MongoDB database."
   ]
  },
  {
   "cell_type": "code",
   "execution_count": 1,
   "metadata": {},
   "outputs": [
    {
     "name": "stdout",
     "output_type": "stream",
     "text": [
      "Collecting pymongo\n",
      "  Downloading https://files.pythonhosted.org/packages/86/52/125ac054bc6b363c5e0147baee8b3e8686d94f743b49bc1c302b2c74445c/pymongo-3.11.1-cp37-cp37m-win_amd64.whl (382kB)\n",
      "Installing collected packages: pymongo\n",
      "Successfully installed pymongo-3.11.1\n"
     ]
    }
   ],
   "source": [
    "!pip install pymongo"
   ]
  },
  {
   "cell_type": "code",
   "execution_count": 2,
   "metadata": {},
   "outputs": [],
   "source": [
    "import pymongo"
   ]
  },
  {
   "cell_type": "code",
   "execution_count": 3,
   "metadata": {},
   "outputs": [],
   "source": [
    "client=pymongo.MongoClient()"
   ]
  },
  {
   "cell_type": "markdown",
   "metadata": {},
   "source": [
    "### Creating a Database using PyMongo"
   ]
  },
  {
   "cell_type": "code",
   "execution_count": 4,
   "metadata": {},
   "outputs": [
    {
     "name": "stdout",
     "output_type": "stream",
     "text": [
      "['EmployeeDB', 'admin', 'config', 'local', 'mylib', 'test']\n"
     ]
    }
   ],
   "source": [
    "print(client.list_database_names())"
   ]
  },
  {
   "cell_type": "markdown",
   "metadata": {},
   "source": [
    "The following piece of code, check whether a specific database exists or not?"
   ]
  },
  {
   "cell_type": "code",
   "execution_count": 5,
   "metadata": {},
   "outputs": [
    {
     "name": "stdout",
     "output_type": "stream",
     "text": [
      "The database does not exist.\n"
     ]
    }
   ],
   "source": [
    "dbs = client.list_database_names()\n",
    "if \"myDB\" in dbs:\n",
    "    print(\"The database exists.\")\n",
    "else:\n",
    "    print(\"The database does not exist.\")"
   ]
  },
  {
   "cell_type": "code",
   "execution_count": 6,
   "metadata": {},
   "outputs": [],
   "source": [
    "db=client[\"PyDB\"]"
   ]
  },
  {
   "cell_type": "markdown",
   "metadata": {},
   "source": [
    "### Retrieve the list of existing collections in a database and Create a collection using PyMongo"
   ]
  },
  {
   "cell_type": "markdown",
   "metadata": {},
   "source": [
    "Return the list of all collections in a database:"
   ]
  },
  {
   "cell_type": "code",
   "execution_count": 7,
   "metadata": {},
   "outputs": [
    {
     "name": "stdout",
     "output_type": "stream",
     "text": [
      "[]\n"
     ]
    }
   ],
   "source": [
    "print(db.list_collection_names())"
   ]
  },
  {
   "cell_type": "code",
   "execution_count": 8,
   "metadata": {},
   "outputs": [
    {
     "name": "stdout",
     "output_type": "stream",
     "text": [
      "The collection does not exist.\n"
     ]
    }
   ],
   "source": [
    "cols = db.list_collection_names()\n",
    "if \"cars\" in cols:\n",
    "    print(\"The collection exists.\")\n",
    "else:\n",
    "    print(\"The collection does not exist.\")"
   ]
  },
  {
   "cell_type": "code",
   "execution_count": 9,
   "metadata": {},
   "outputs": [],
   "source": [
    "col = db[\"cars\"]"
   ]
  },
  {
   "cell_type": "markdown",
   "metadata": {},
   "source": [
    "### Insert Into Collection"
   ]
  },
  {
   "cell_type": "code",
   "execution_count": 10,
   "metadata": {},
   "outputs": [
    {
     "data": {
      "text/plain": [
       "<pymongo.results.InsertOneResult at 0x260460b6688>"
      ]
     },
     "execution_count": 10,
     "metadata": {},
     "output_type": "execute_result"
    }
   ],
   "source": [
    "car1={\"Manufacturer\":\"Toyota\",\"model\":\"Vios\"}\n",
    "col.insert_one(car1)"
   ]
  },
  {
   "cell_type": "code",
   "execution_count": 11,
   "metadata": {},
   "outputs": [
    {
     "name": "stdout",
     "output_type": "stream",
     "text": [
      "<pymongo.cursor.Cursor object at 0x00000260461F1E08>\n"
     ]
    }
   ],
   "source": [
    "x = col.find()\n",
    "print(x)"
   ]
  },
  {
   "cell_type": "code",
   "execution_count": 12,
   "metadata": {},
   "outputs": [
    {
     "name": "stdout",
     "output_type": "stream",
     "text": [
      "{'_id': ObjectId('5fc20149348395d7013e698d'), 'Manufacturer': 'Toyota', 'model': 'Vios'}\n"
     ]
    }
   ],
   "source": [
    "for i in x:\n",
    "    print(i)"
   ]
  },
  {
   "cell_type": "markdown",
   "metadata": {},
   "source": [
    "### Insert Multiple Documents"
   ]
  },
  {
   "cell_type": "code",
   "execution_count": 13,
   "metadata": {},
   "outputs": [],
   "source": [
    "mydb = client[\"mydatabase\"]\n",
    "mycol = mydb[\"customers\"]\n",
    "\n",
    "mylist = [\n",
    "  { \"name\": \"Amy\", \"address\": \"Apple st 652\"},\n",
    "  { \"name\": \"Hannah\", \"address\": \"Mountain 21\"},\n",
    "  { \"name\": \"Michael\", \"address\": \"Valley 345\"},\n",
    "  { \"name\": \"Sandy\", \"address\": \"Ocean blvd 2\"},\n",
    "  { \"name\": \"Betty\", \"address\": \"Green Grass 1\"},\n",
    "  { \"name\": \"Richard\", \"address\": \"Sky st 331\"},\n",
    "  { \"name\": \"Susan\", \"address\": \"One way 98\"},\n",
    "  { \"name\": \"Vicky\", \"address\": \"Yellow Garden 2\"},\n",
    "  { \"name\": \"Ben\", \"address\": \"Park Lane 38\"},\n",
    "  { \"name\": \"William\", \"address\": \"Central st 954\"},\n",
    "  { \"name\": \"Chuck\", \"address\": \"Main Road 989\"},\n",
    "  { \"name\": \"Viola\", \"address\": \"Sideway 1633\"},\n",
    "  { \"name\": \"Viola\", \"address\": \"Park Lane 40 1633\"}\n",
    "  \n",
    "]\n",
    "\n",
    "x = mycol.insert_many(mylist)"
   ]
  },
  {
   "cell_type": "code",
   "execution_count": 14,
   "metadata": {},
   "outputs": [
    {
     "data": {
      "text/plain": [
       "<pymongo.results.InsertManyResult at 0x260450d3f88>"
      ]
     },
     "execution_count": 14,
     "metadata": {},
     "output_type": "execute_result"
    }
   ],
   "source": [
    "x"
   ]
  },
  {
   "cell_type": "code",
   "execution_count": 15,
   "metadata": {},
   "outputs": [],
   "source": [
    "docs = mycol.find()"
   ]
  },
  {
   "cell_type": "code",
   "execution_count": 16,
   "metadata": {},
   "outputs": [
    {
     "name": "stdout",
     "output_type": "stream",
     "text": [
      "{'_id': ObjectId('5fc2014b348395d7013e698e'), 'name': 'Amy', 'address': 'Apple st 652'}\n",
      "{'_id': ObjectId('5fc2014b348395d7013e698f'), 'name': 'Hannah', 'address': 'Mountain 21'}\n",
      "{'_id': ObjectId('5fc2014b348395d7013e6990'), 'name': 'Michael', 'address': 'Valley 345'}\n",
      "{'_id': ObjectId('5fc2014b348395d7013e6991'), 'name': 'Sandy', 'address': 'Ocean blvd 2'}\n",
      "{'_id': ObjectId('5fc2014b348395d7013e6992'), 'name': 'Betty', 'address': 'Green Grass 1'}\n",
      "{'_id': ObjectId('5fc2014b348395d7013e6993'), 'name': 'Richard', 'address': 'Sky st 331'}\n",
      "{'_id': ObjectId('5fc2014b348395d7013e6994'), 'name': 'Susan', 'address': 'One way 98'}\n",
      "{'_id': ObjectId('5fc2014b348395d7013e6995'), 'name': 'Vicky', 'address': 'Yellow Garden 2'}\n",
      "{'_id': ObjectId('5fc2014b348395d7013e6996'), 'name': 'Ben', 'address': 'Park Lane 38'}\n",
      "{'_id': ObjectId('5fc2014b348395d7013e6997'), 'name': 'William', 'address': 'Central st 954'}\n",
      "{'_id': ObjectId('5fc2014b348395d7013e6998'), 'name': 'Chuck', 'address': 'Main Road 989'}\n",
      "{'_id': ObjectId('5fc2014b348395d7013e6999'), 'name': 'Viola', 'address': 'Sideway 1633'}\n",
      "{'_id': ObjectId('5fc2014b348395d7013e699a'), 'name': 'Viola', 'address': 'Park Lane 40 1633'}\n"
     ]
    }
   ],
   "source": [
    "for item in docs:\n",
    "    print(item)"
   ]
  },
  {
   "cell_type": "markdown",
   "metadata": {},
   "source": [
    "### Return Only Some Fields"
   ]
  },
  {
   "cell_type": "code",
   "execution_count": 17,
   "metadata": {},
   "outputs": [
    {
     "name": "stdout",
     "output_type": "stream",
     "text": [
      "{'name': 'Amy', 'address': 'Apple st 652'}\n",
      "{'name': 'Hannah', 'address': 'Mountain 21'}\n",
      "{'name': 'Michael', 'address': 'Valley 345'}\n",
      "{'name': 'Sandy', 'address': 'Ocean blvd 2'}\n",
      "{'name': 'Betty', 'address': 'Green Grass 1'}\n",
      "{'name': 'Richard', 'address': 'Sky st 331'}\n",
      "{'name': 'Susan', 'address': 'One way 98'}\n",
      "{'name': 'Vicky', 'address': 'Yellow Garden 2'}\n",
      "{'name': 'Ben', 'address': 'Park Lane 38'}\n",
      "{'name': 'William', 'address': 'Central st 954'}\n",
      "{'name': 'Chuck', 'address': 'Main Road 989'}\n",
      "{'name': 'Viola', 'address': 'Sideway 1633'}\n",
      "{'name': 'Viola', 'address': 'Park Lane 40 1633'}\n"
     ]
    }
   ],
   "source": [
    "for x in mycol.find({},{ \"_id\": 0, \"name\": 1, \"address\": 1 }):\n",
    "    print(x)"
   ]
  },
  {
   "cell_type": "code",
   "execution_count": 19,
   "metadata": {},
   "outputs": [
    {
     "name": "stdout",
     "output_type": "stream",
     "text": [
      "{'_id': ObjectId('5fc2014b348395d7013e698e'), 'name': 'Amy'}\n",
      "{'_id': ObjectId('5fc2014b348395d7013e698f'), 'name': 'Hannah'}\n",
      "{'_id': ObjectId('5fc2014b348395d7013e6990'), 'name': 'Michael'}\n",
      "{'_id': ObjectId('5fc2014b348395d7013e6991'), 'name': 'Sandy'}\n",
      "{'_id': ObjectId('5fc2014b348395d7013e6992'), 'name': 'Betty'}\n",
      "{'_id': ObjectId('5fc2014b348395d7013e6993'), 'name': 'Richard'}\n",
      "{'_id': ObjectId('5fc2014b348395d7013e6994'), 'name': 'Susan'}\n",
      "{'_id': ObjectId('5fc2014b348395d7013e6995'), 'name': 'Vicky'}\n",
      "{'_id': ObjectId('5fc2014b348395d7013e6996'), 'name': 'Ben'}\n",
      "{'_id': ObjectId('5fc2014b348395d7013e6997'), 'name': 'William'}\n",
      "{'_id': ObjectId('5fc2014b348395d7013e6998'), 'name': 'Chuck'}\n",
      "{'_id': ObjectId('5fc2014b348395d7013e6999'), 'name': 'Viola'}\n",
      "{'_id': ObjectId('5fc2014b348395d7013e699a'), 'name': 'Viola'}\n"
     ]
    }
   ],
   "source": [
    "# This example will exclude \"address\" from the result:\n",
    "for x in mycol.find({},{ \"address\": 0 }):\n",
    "    print(x)"
   ]
  },
  {
   "cell_type": "markdown",
   "metadata": {},
   "source": [
    "### Filter the result"
   ]
  },
  {
   "cell_type": "code",
   "execution_count": 21,
   "metadata": {},
   "outputs": [
    {
     "name": "stdout",
     "output_type": "stream",
     "text": [
      "{'_id': ObjectId('5fc2014b348395d7013e6996'), 'name': 'Ben', 'address': 'Park Lane 38'}\n"
     ]
    }
   ],
   "source": [
    "myquery = { \"address\": \"Park Lane 38\" }\n",
    "\n",
    "mydoc = mycol.find(myquery)\n",
    "\n",
    "for x in mydoc:\n",
    "    print(x)"
   ]
  },
  {
   "cell_type": "markdown",
   "metadata": {},
   "source": [
    "To find only the documents where the \"address\" field starts with the letter \"S\", use the regular expression {\"$regex\": \"^S\"}:"
   ]
  },
  {
   "cell_type": "code",
   "execution_count": 22,
   "metadata": {},
   "outputs": [
    {
     "name": "stdout",
     "output_type": "stream",
     "text": [
      "{'_id': ObjectId('5fc2014b348395d7013e6993'), 'name': 'Richard', 'address': 'Sky st 331'}\n",
      "{'_id': ObjectId('5fc2014b348395d7013e6999'), 'name': 'Viola', 'address': 'Sideway 1633'}\n"
     ]
    }
   ],
   "source": [
    "myquery = { \"address\": { \"$regex\": \"^S\" } }\n",
    "\n",
    "mydoc = mycol.find(myquery)\n",
    "\n",
    "for x in mydoc:\n",
    "    print(x)"
   ]
  },
  {
   "cell_type": "markdown",
   "metadata": {},
   "source": [
    "### Sort the Result"
   ]
  },
  {
   "cell_type": "code",
   "execution_count": 23,
   "metadata": {},
   "outputs": [
    {
     "name": "stdout",
     "output_type": "stream",
     "text": [
      "{'_id': ObjectId('5fc2014b348395d7013e698e'), 'name': 'Amy', 'address': 'Apple st 652'}\n",
      "{'_id': ObjectId('5fc2014b348395d7013e6996'), 'name': 'Ben', 'address': 'Park Lane 38'}\n",
      "{'_id': ObjectId('5fc2014b348395d7013e6992'), 'name': 'Betty', 'address': 'Green Grass 1'}\n",
      "{'_id': ObjectId('5fc2014b348395d7013e6998'), 'name': 'Chuck', 'address': 'Main Road 989'}\n",
      "{'_id': ObjectId('5fc2014b348395d7013e698f'), 'name': 'Hannah', 'address': 'Mountain 21'}\n",
      "{'_id': ObjectId('5fc2014b348395d7013e6990'), 'name': 'Michael', 'address': 'Valley 345'}\n",
      "{'_id': ObjectId('5fc2014b348395d7013e6993'), 'name': 'Richard', 'address': 'Sky st 331'}\n",
      "{'_id': ObjectId('5fc2014b348395d7013e6991'), 'name': 'Sandy', 'address': 'Ocean blvd 2'}\n",
      "{'_id': ObjectId('5fc2014b348395d7013e6994'), 'name': 'Susan', 'address': 'One way 98'}\n",
      "{'_id': ObjectId('5fc2014b348395d7013e6995'), 'name': 'Vicky', 'address': 'Yellow Garden 2'}\n",
      "{'_id': ObjectId('5fc2014b348395d7013e6999'), 'name': 'Viola', 'address': 'Sideway 1633'}\n",
      "{'_id': ObjectId('5fc2014b348395d7013e699a'), 'name': 'Viola', 'address': 'Park Lane 40 1633'}\n",
      "{'_id': ObjectId('5fc2014b348395d7013e6997'), 'name': 'William', 'address': 'Central st 954'}\n"
     ]
    }
   ],
   "source": [
    "mydoc = mycol.find().sort(\"name\")\n",
    "\n",
    "for x in mydoc:\n",
    "    print(x)"
   ]
  },
  {
   "cell_type": "code",
   "execution_count": 24,
   "metadata": {},
   "outputs": [
    {
     "name": "stdout",
     "output_type": "stream",
     "text": [
      "{'_id': ObjectId('5fc2014b348395d7013e6997'), 'name': 'William', 'address': 'Central st 954'}\n",
      "{'_id': ObjectId('5fc2014b348395d7013e6999'), 'name': 'Viola', 'address': 'Sideway 1633'}\n",
      "{'_id': ObjectId('5fc2014b348395d7013e699a'), 'name': 'Viola', 'address': 'Park Lane 40 1633'}\n",
      "{'_id': ObjectId('5fc2014b348395d7013e6995'), 'name': 'Vicky', 'address': 'Yellow Garden 2'}\n",
      "{'_id': ObjectId('5fc2014b348395d7013e6994'), 'name': 'Susan', 'address': 'One way 98'}\n",
      "{'_id': ObjectId('5fc2014b348395d7013e6991'), 'name': 'Sandy', 'address': 'Ocean blvd 2'}\n",
      "{'_id': ObjectId('5fc2014b348395d7013e6993'), 'name': 'Richard', 'address': 'Sky st 331'}\n",
      "{'_id': ObjectId('5fc2014b348395d7013e6990'), 'name': 'Michael', 'address': 'Valley 345'}\n",
      "{'_id': ObjectId('5fc2014b348395d7013e698f'), 'name': 'Hannah', 'address': 'Mountain 21'}\n",
      "{'_id': ObjectId('5fc2014b348395d7013e6998'), 'name': 'Chuck', 'address': 'Main Road 989'}\n",
      "{'_id': ObjectId('5fc2014b348395d7013e6992'), 'name': 'Betty', 'address': 'Green Grass 1'}\n",
      "{'_id': ObjectId('5fc2014b348395d7013e6996'), 'name': 'Ben', 'address': 'Park Lane 38'}\n",
      "{'_id': ObjectId('5fc2014b348395d7013e698e'), 'name': 'Amy', 'address': 'Apple st 652'}\n"
     ]
    }
   ],
   "source": [
    "mydoc = mycol.find().sort(\"name\",-1) # Sort the result in descending order\n",
    "for x in mydoc:\n",
    "    print(x)"
   ]
  },
  {
   "cell_type": "markdown",
   "metadata": {},
   "source": [
    "### Update Collection"
   ]
  },
  {
   "cell_type": "code",
   "execution_count": 25,
   "metadata": {},
   "outputs": [
    {
     "name": "stdout",
     "output_type": "stream",
     "text": [
      "{'_id': ObjectId('5fc2014b348395d7013e698e'), 'name': 'Amy', 'address': 'Apple st 652'}\n",
      "{'_id': ObjectId('5fc2014b348395d7013e698f'), 'name': 'Hannah', 'address': 'Mountain 21'}\n",
      "{'_id': ObjectId('5fc2014b348395d7013e6990'), 'name': 'Michael', 'address': 'Canyon 123'}\n",
      "{'_id': ObjectId('5fc2014b348395d7013e6991'), 'name': 'Sandy', 'address': 'Ocean blvd 2'}\n",
      "{'_id': ObjectId('5fc2014b348395d7013e6992'), 'name': 'Betty', 'address': 'Green Grass 1'}\n",
      "{'_id': ObjectId('5fc2014b348395d7013e6993'), 'name': 'Richard', 'address': 'Sky st 331'}\n",
      "{'_id': ObjectId('5fc2014b348395d7013e6994'), 'name': 'Susan', 'address': 'One way 98'}\n",
      "{'_id': ObjectId('5fc2014b348395d7013e6995'), 'name': 'Vicky', 'address': 'Yellow Garden 2'}\n",
      "{'_id': ObjectId('5fc2014b348395d7013e6996'), 'name': 'Ben', 'address': 'Park Lane 38'}\n",
      "{'_id': ObjectId('5fc2014b348395d7013e6997'), 'name': 'William', 'address': 'Central st 954'}\n",
      "{'_id': ObjectId('5fc2014b348395d7013e6998'), 'name': 'Chuck', 'address': 'Main Road 989'}\n",
      "{'_id': ObjectId('5fc2014b348395d7013e6999'), 'name': 'Viola', 'address': 'Sideway 1633'}\n",
      "{'_id': ObjectId('5fc2014b348395d7013e699a'), 'name': 'Viola', 'address': 'Park Lane 40 1633'}\n"
     ]
    }
   ],
   "source": [
    "myquery = { \"address\": \"Valley 345\" }\n",
    "newvalues = { \"$set\": { \"address\": \"Canyon 123\" } }\n",
    "\n",
    "mycol.update_one(myquery, newvalues)\n",
    "\n",
    "for x in mycol.find():\n",
    "    print(x)"
   ]
  },
  {
   "cell_type": "markdown",
   "metadata": {},
   "source": [
    "To update all documents that meets the criteria of the query, use the `update_many()` method."
   ]
  },
  {
   "cell_type": "code",
   "execution_count": 26,
   "metadata": {},
   "outputs": [
    {
     "name": "stdout",
     "output_type": "stream",
     "text": [
      "2 documents updated.\n"
     ]
    }
   ],
   "source": [
    "myquery = { \"address\": { \"$regex\": \"^S\" } }\n",
    "newvalues = { \"$set\": { \"name\": \"Minnie\" } }\n",
    "\n",
    "x = mycol.update_many(myquery, newvalues)\n",
    "\n",
    "print(x.modified_count, \"documents updated.\")\n",
    "\n"
   ]
  },
  {
   "cell_type": "code",
   "execution_count": 27,
   "metadata": {},
   "outputs": [],
   "source": [
    "from pprint import pprint"
   ]
  },
  {
   "cell_type": "code",
   "execution_count": 30,
   "metadata": {},
   "outputs": [
    {
     "name": "stdout",
     "output_type": "stream",
     "text": [
      "{'_id': ObjectId('5fc2014b348395d7013e698e'),\n",
      " 'address': 'Apple st 652',\n",
      " 'name': 'Amy'}\n",
      "{'_id': ObjectId('5fc2014b348395d7013e698f'),\n",
      " 'address': 'Mountain 21',\n",
      " 'name': 'Hannah'}\n",
      "{'_id': ObjectId('5fc2014b348395d7013e6990'),\n",
      " 'address': 'Canyon 123',\n",
      " 'name': 'Michael'}\n",
      "{'_id': ObjectId('5fc2014b348395d7013e6991'),\n",
      " 'address': 'Ocean blvd 2',\n",
      " 'name': 'Sandy'}\n",
      "{'_id': ObjectId('5fc2014b348395d7013e6992'),\n",
      " 'address': 'Green Grass 1',\n",
      " 'name': 'Betty'}\n",
      "{'_id': ObjectId('5fc2014b348395d7013e6993'),\n",
      " 'address': 'Sky st 331',\n",
      " 'name': 'Minnie'}\n",
      "{'_id': ObjectId('5fc2014b348395d7013e6994'),\n",
      " 'address': 'One way 98',\n",
      " 'name': 'Susan'}\n",
      "{'_id': ObjectId('5fc2014b348395d7013e6995'),\n",
      " 'address': 'Yellow Garden 2',\n",
      " 'name': 'Vicky'}\n",
      "{'_id': ObjectId('5fc2014b348395d7013e6996'),\n",
      " 'address': 'Park Lane 38',\n",
      " 'name': 'Ben'}\n",
      "{'_id': ObjectId('5fc2014b348395d7013e6997'),\n",
      " 'address': 'Central st 954',\n",
      " 'name': 'William'}\n",
      "{'_id': ObjectId('5fc2014b348395d7013e6998'),\n",
      " 'address': 'Main Road 989',\n",
      " 'name': 'Chuck'}\n",
      "{'_id': ObjectId('5fc2014b348395d7013e6999'),\n",
      " 'address': 'Sideway 1633',\n",
      " 'name': 'Minnie'}\n",
      "{'_id': ObjectId('5fc2014b348395d7013e699a'),\n",
      " 'address': 'Park Lane 40 1633',\n",
      " 'name': 'Viola'}\n"
     ]
    }
   ],
   "source": [
    "for x in mycol.find():\n",
    "    pprint(x)"
   ]
  },
  {
   "cell_type": "markdown",
   "metadata": {},
   "source": [
    "### Limit the Result"
   ]
  },
  {
   "cell_type": "code",
   "execution_count": 29,
   "metadata": {},
   "outputs": [
    {
     "name": "stdout",
     "output_type": "stream",
     "text": [
      "{'_id': ObjectId('5fc2014b348395d7013e698e'), 'name': 'Amy', 'address': 'Apple st 652'}\n",
      "{'_id': ObjectId('5fc2014b348395d7013e698f'), 'name': 'Hannah', 'address': 'Mountain 21'}\n",
      "{'_id': ObjectId('5fc2014b348395d7013e6990'), 'name': 'Michael', 'address': 'Canyon 123'}\n",
      "{'_id': ObjectId('5fc2014b348395d7013e6991'), 'name': 'Sandy', 'address': 'Ocean blvd 2'}\n",
      "{'_id': ObjectId('5fc2014b348395d7013e6992'), 'name': 'Betty', 'address': 'Green Grass 1'}\n"
     ]
    }
   ],
   "source": [
    "myresult = mycol.find().limit(5)\n",
    "\n",
    "\n",
    "for x in myresult:\n",
    "    print(x)"
   ]
  },
  {
   "cell_type": "markdown",
   "metadata": {},
   "source": [
    "#### pymongo documentation:\n",
    "https://pymongo.readthedocs.io/en/stable/index.html"
   ]
  }
 ],
 "metadata": {
  "kernelspec": {
   "display_name": "Python 3",
   "language": "python",
   "name": "python3"
  },
  "language_info": {
   "codemirror_mode": {
    "name": "ipython",
    "version": 3
   },
   "file_extension": ".py",
   "mimetype": "text/x-python",
   "name": "python",
   "nbconvert_exporter": "python",
   "pygments_lexer": "ipython3",
   "version": "3.8.5"
  }
 },
 "nbformat": 4,
 "nbformat_minor": 2
}
