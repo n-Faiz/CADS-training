{
 "cells": [
  {
   "cell_type": "markdown",
   "metadata": {},
   "source": [
    "### Output Methods\n",
    "\n",
    "There are various ways to export data from a database into other formats.\n",
    "\n",
    "In this example, we look at the methods using pandas data frames and csv export.\n",
    "\n",
    ":)"
   ]
  },
  {
   "cell_type": "code",
   "execution_count": 1,
   "metadata": {},
   "outputs": [],
   "source": [
    "import sqlite3\n",
    "import pandas.io.sql as sql\n",
    "import pandas as pd\n"
   ]
  },
  {
   "cell_type": "code",
   "execution_count": 2,
   "metadata": {},
   "outputs": [],
   "source": [
    "con = sqlite3.connect('northwind.db')\n"
   ]
  },
  {
   "cell_type": "code",
   "execution_count": 3,
   "metadata": {},
   "outputs": [],
   "source": [
    "# encapsulate the sql commands within pandas.io.sql library\n",
    "\n",
    "table = sql.read_sql(\"\"\"\n",
    "    SELECT o.OrderID, c.CompanyName, c.ContactName, o.OrderDate, o.ShippedDate\n",
    "    FROM Orders as o\n",
    "    INNER JOIN Customers as c\n",
    "    ON o.CustomerID = c.CustomerID;\n",
    "    \"\"\", \n",
    "                     con)\n"
   ]
  },
  {
   "cell_type": "code",
   "execution_count": 4,
   "metadata": {},
   "outputs": [],
   "source": [
    "# export to csv\n",
    "\n",
    "table.to_csv('sql_output.csv')"
   ]
  },
  {
   "cell_type": "code",
   "execution_count": 5,
   "metadata": {},
   "outputs": [],
   "source": [
    "# convert to dataframe\n",
    "sql_output = pd.DataFrame(table)"
   ]
  },
  {
   "cell_type": "code",
   "execution_count": 6,
   "metadata": {},
   "outputs": [
    {
     "data": {
      "text/html": [
       "<div>\n",
       "<style scoped>\n",
       "    .dataframe tbody tr th:only-of-type {\n",
       "        vertical-align: middle;\n",
       "    }\n",
       "\n",
       "    .dataframe tbody tr th {\n",
       "        vertical-align: top;\n",
       "    }\n",
       "\n",
       "    .dataframe thead th {\n",
       "        text-align: right;\n",
       "    }\n",
       "</style>\n",
       "<table border=\"1\" class=\"dataframe\">\n",
       "  <thead>\n",
       "    <tr style=\"text-align: right;\">\n",
       "      <th></th>\n",
       "      <th>OrderID</th>\n",
       "      <th>CompanyName</th>\n",
       "      <th>ContactName</th>\n",
       "      <th>OrderDate</th>\n",
       "      <th>ShippedDate</th>\n",
       "    </tr>\n",
       "  </thead>\n",
       "  <tbody>\n",
       "    <tr>\n",
       "      <th>0</th>\n",
       "      <td>10248</td>\n",
       "      <td>Vins et alcools Chevalier</td>\n",
       "      <td>Paul Henriot</td>\n",
       "      <td>1996-07-04 00:00:00</td>\n",
       "      <td>1996-07-16 00:00:00</td>\n",
       "    </tr>\n",
       "    <tr>\n",
       "      <th>1</th>\n",
       "      <td>10249</td>\n",
       "      <td>Toms Spezialitäten</td>\n",
       "      <td>Karin Josephs</td>\n",
       "      <td>1996-07-05 00:00:00</td>\n",
       "      <td>1996-07-10 00:00:00</td>\n",
       "    </tr>\n",
       "    <tr>\n",
       "      <th>2</th>\n",
       "      <td>10250</td>\n",
       "      <td>Hanari Carnes</td>\n",
       "      <td>Mario Pontes</td>\n",
       "      <td>1996-07-08 00:00:00</td>\n",
       "      <td>1996-07-12 00:00:00</td>\n",
       "    </tr>\n",
       "    <tr>\n",
       "      <th>3</th>\n",
       "      <td>10251</td>\n",
       "      <td>Victuailles en stock</td>\n",
       "      <td>Mary Saveley</td>\n",
       "      <td>1996-07-08 00:00:00</td>\n",
       "      <td>1996-07-15 00:00:00</td>\n",
       "    </tr>\n",
       "    <tr>\n",
       "      <th>4</th>\n",
       "      <td>10252</td>\n",
       "      <td>Suprêmes délices</td>\n",
       "      <td>Pascale Cartrain</td>\n",
       "      <td>1996-07-09 00:00:00</td>\n",
       "      <td>1996-07-11 00:00:00</td>\n",
       "    </tr>\n",
       "    <tr>\n",
       "      <th>...</th>\n",
       "      <td>...</td>\n",
       "      <td>...</td>\n",
       "      <td>...</td>\n",
       "      <td>...</td>\n",
       "      <td>...</td>\n",
       "    </tr>\n",
       "    <tr>\n",
       "      <th>804</th>\n",
       "      <td>11073</td>\n",
       "      <td>Pericles Comidas clásicas</td>\n",
       "      <td>Juan</td>\n",
       "      <td>1998-05-05 00:00:00</td>\n",
       "      <td>None</td>\n",
       "    </tr>\n",
       "    <tr>\n",
       "      <th>805</th>\n",
       "      <td>11074</td>\n",
       "      <td>Simons bistro</td>\n",
       "      <td>Jytte Petersen</td>\n",
       "      <td>1998-05-06 00:00:00</td>\n",
       "      <td>None</td>\n",
       "    </tr>\n",
       "    <tr>\n",
       "      <th>806</th>\n",
       "      <td>11075</td>\n",
       "      <td>Richter Supermarkt</td>\n",
       "      <td>Michael Holz</td>\n",
       "      <td>1998-05-06 00:00:00</td>\n",
       "      <td>None</td>\n",
       "    </tr>\n",
       "    <tr>\n",
       "      <th>807</th>\n",
       "      <td>11076</td>\n",
       "      <td>Bon app'</td>\n",
       "      <td>Laurence Lebihan</td>\n",
       "      <td>1998-05-06 00:00:00</td>\n",
       "      <td>None</td>\n",
       "    </tr>\n",
       "    <tr>\n",
       "      <th>808</th>\n",
       "      <td>11077</td>\n",
       "      <td>Rattlesnake Canyon Grocery</td>\n",
       "      <td>Paula Wilson</td>\n",
       "      <td>1998-05-06 00:00:00</td>\n",
       "      <td>None</td>\n",
       "    </tr>\n",
       "  </tbody>\n",
       "</table>\n",
       "<p>809 rows × 5 columns</p>\n",
       "</div>"
      ],
      "text/plain": [
       "     OrderID                 CompanyName       ContactName  \\\n",
       "0      10248   Vins et alcools Chevalier      Paul Henriot   \n",
       "1      10249          Toms Spezialitäten     Karin Josephs   \n",
       "2      10250               Hanari Carnes      Mario Pontes   \n",
       "3      10251        Victuailles en stock      Mary Saveley   \n",
       "4      10252            Suprêmes délices  Pascale Cartrain   \n",
       "..       ...                         ...               ...   \n",
       "804    11073   Pericles Comidas clásicas              Juan   \n",
       "805    11074               Simons bistro    Jytte Petersen   \n",
       "806    11075          Richter Supermarkt      Michael Holz   \n",
       "807    11076                    Bon app'  Laurence Lebihan   \n",
       "808    11077  Rattlesnake Canyon Grocery      Paula Wilson   \n",
       "\n",
       "               OrderDate          ShippedDate  \n",
       "0    1996-07-04 00:00:00  1996-07-16 00:00:00  \n",
       "1    1996-07-05 00:00:00  1996-07-10 00:00:00  \n",
       "2    1996-07-08 00:00:00  1996-07-12 00:00:00  \n",
       "3    1996-07-08 00:00:00  1996-07-15 00:00:00  \n",
       "4    1996-07-09 00:00:00  1996-07-11 00:00:00  \n",
       "..                   ...                  ...  \n",
       "804  1998-05-05 00:00:00                 None  \n",
       "805  1998-05-06 00:00:00                 None  \n",
       "806  1998-05-06 00:00:00                 None  \n",
       "807  1998-05-06 00:00:00                 None  \n",
       "808  1998-05-06 00:00:00                 None  \n",
       "\n",
       "[809 rows x 5 columns]"
      ]
     },
     "execution_count": 6,
     "metadata": {},
     "output_type": "execute_result"
    }
   ],
   "source": [
    "sql_output"
   ]
  },
  {
   "cell_type": "code",
   "execution_count": 7,
   "metadata": {},
   "outputs": [],
   "source": [
    "con.close()"
   ]
  },
  {
   "cell_type": "code",
   "execution_count": null,
   "metadata": {},
   "outputs": [],
   "source": []
  },
  {
   "cell_type": "code",
   "execution_count": null,
   "metadata": {},
   "outputs": [],
   "source": []
  }
 ],
 "metadata": {
  "kernelspec": {
   "display_name": "Python 3",
   "language": "python",
   "name": "python3"
  },
  "language_info": {
   "codemirror_mode": {
    "name": "ipython",
    "version": 3
   },
   "file_extension": ".py",
   "mimetype": "text/x-python",
   "name": "python",
   "nbconvert_exporter": "python",
   "pygments_lexer": "ipython3",
   "version": "3.8.5"
  }
 },
 "nbformat": 4,
 "nbformat_minor": 4
}
