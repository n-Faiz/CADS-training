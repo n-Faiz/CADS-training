{
 "cells": [
  {
   "cell_type": "markdown",
   "metadata": {},
   "source": [
    "<img src=\"images/cads-logo.png\" width=200 align=left>\n",
    "<img src=\"images/python-logo.png\" width=200 align=right>"
   ]
  },
  {
   "cell_type": "markdown",
   "metadata": {},
   "source": [
    "# NumPy\n",
    "- [NumPy](#NumPy)\n",
    "- [Introduction to NumPy](#Introduction-to-NumPy)\n",
    "- [Creating Arrays](#Creating-Arrays)\n",
    "    - [Nested Lists](#Nested-Lists)\n",
    "    - [Array-Generating Functions](#Array-Generating-Functions)\n",
    "        - [Empty Arrays](#Empty-Arrays)\n",
    "        - [Ranges](#Ranges)\n",
    "        - [Random Data](#Random-Data)\n",
    "        - [Matrix Creation](#Matrix-Creation)\n",
    "        - [Data Types](#Data-Types)\n",
    "        - [Shapes](#Shapes)\n",
    "    - [Exercises](#Exercises)\n",
    "        - [Exercise 1](#Exercise-1)\n",
    "        - [Exercise 2](#Exercise-2)\n",
    "        - [Exercise 3](#Exercise-3)\n",
    "        - [Exercise 4](#Exercise-4)\n",
    "        - [Exercise 5](#Exercise-5)\n",
    "- [Manipulating arrays](#Manipulating-arrays)\n",
    "    - [Indexing](#Indexing)\n",
    "    - [Slicing](#Slicing)\n",
    "    - [Preserving Dimensions](#Preserving-Dimensions)\n",
    "    - [Fancy Indexing](#Fancy-Indexing)\n",
    "    - [Assigning Values to Subarrays](#Assigning-Values-to-Subarrays)\n",
    "    - [Exercises](#Exercises)\n",
    "        - [Exercise 1](#Exercise-1)\n",
    "        - [Exercise 2](#Exercise-2)\n",
    "        - [Exercise 3](#Exercise-3)\n",
    "        - [Exercise 4](#Exercise-4)\n",
    "        - [Exercise 5](#Exercise-5)\n",
    "- [Array Operations](#Array-Operations)\n",
    "    - [Logical Operations](#Logical-Operations)\n",
    "    - [Arithmetic](#Arithmetic)\n",
    "    - [Aggregative Functions](#Aggregative-Functions)\n",
    "    - [Vectorization](#Vectorization)\n",
    "    - [Further Reading](#Further-Reading)\n",
    "    - [Excercises](#Excercises)\n",
    "        - [Exercise 1](#Exercise-1)\n",
    "        - [Exercise 2](#Exercise-2)\n",
    "        - [Exercise 3](#Exercise-3)\n",
    "        - [Exercise 4](#Exercise-4)\n",
    "        - [Exercise 5](#Exercise-5)\n",
    "- [Advanced Manipulation](#Advanced-Manipulation)\n",
    "    - [Reshaping and Transposing](#Reshaping-and-Transposing)\n",
    "    - [Adding a new dimension with `newaxis`](#Adding-a-new-dimension-with-`newaxis`)\n",
    "    - [Concatenation and Splitting](#Concatenation-and-Splitting)\n",
    "    - [Exercises](#Exercises)\n",
    "        - [Exercise 1](#Exercise-1)\n",
    "        - [Exercise 2](#Exercise-2)\n",
    "        - [Exercise 3](#Exercise-3)\n",
    "        - [Exercise 4](#Exercise-4)\n",
    "- [Additional Resources:](#Additional-Resources:)\n"
   ]
  },
  {
   "cell_type": "markdown",
   "metadata": {},
   "source": [
    "## Introduction to NumPy\n",
    "\n",
    "Datasets can include collections of documents, images, sound clips, numerical measurements, or, really anything. Despite the heterogeneity, it will help us to think of all data fundamentally as arrays of numbers.\n",
    "\n",
    "| Data type\t    | Arrays of Numbers? |\n",
    "|---------------|-------------|\n",
    "|Images | Pixel brightness across different channels|\n",
    "|Videos | Pixels brightness across different channels for each frame | \n",
    "|Sound | Intensity over time |\n",
    "|Numbers | No need for transformation | \n",
    "|Tables | Mapping from strings to numbers |\n",
    "\n",
    "\n",
    "Therefore, the efficient storage and manipulation of large arrays of numbers is fundamental to the process of doing data science. NumPy is a library specially designed to handle arrays of numerical data.\n",
    "\n",
    "[NumPy](http://www.numpy.org/) is short for _numerical python_, and provides functions that are especially useful when you have to work with large arrays and matrices of numeric data, like matrix multiplications.  \n",
    "\n",
    "The array object class is the foundation of NumPy, and NumPy arrays are much like nested lists in base Python. However, NumPy supports _vectorization_. This means that many operations in NumPy are written and compiled in C code rather than Python, making it much faster as we will see. _Vectorization_ takes a nested sequence of objects or numpy arrays as inputs and returns a single numpy array or a tuple of numpy arrays"
   ]
  },
  {
   "cell_type": "code",
   "execution_count": 1,
   "metadata": {},
   "outputs": [],
   "source": [
    "import numpy as np\n",
    "import matplotlib.pyplot as plt\n",
    "%matplotlib inline"
   ]
  },
  {
   "cell_type": "markdown",
   "metadata": {},
   "source": [
    "## Creating Arrays"
   ]
  },
  {
   "cell_type": "markdown",
   "metadata": {},
   "source": [
    "### Nested Lists"
   ]
  },
  {
   "cell_type": "markdown",
   "metadata": {},
   "source": [
    "Arrays can be created from nested lists. The nesting determines the dimensions of the resulting array."
   ]
  },
  {
   "cell_type": "code",
   "execution_count": 3,
   "metadata": {},
   "outputs": [
    {
     "name": "stdout",
     "output_type": "stream",
     "text": [
      "[[1, 2, 3, 4, 5], [6, 7, 8, 9, 10]]\n",
      "[[ 1  2  3  4  5]\n",
      " [ 6  7  8  9 10]]\n"
     ]
    }
   ],
   "source": [
    "# Create array from lists:\n",
    "lis = [   [1, 2, 3, 4, 5 ],     \n",
    "          [6, 7, 8, 9, 10]      ]\n",
    "\n",
    "ary = np.array(lis)\n",
    "\n",
    "print(lis)\n",
    "print(ary)"
   ]
  },
  {
   "cell_type": "markdown",
   "metadata": {},
   "source": [
    "Note that dimensions must be consistent. If nested lists do not have the same lengths, NumPy will create a 1-D array in which the elements are the sublists."
   ]
  },
  {
   "cell_type": "code",
   "execution_count": 5,
   "metadata": {},
   "outputs": [
    {
     "name": "stdout",
     "output_type": "stream",
     "text": [
      "[list([1, 2, 3, 4, 5]) list([6, 7, 8, 9, 10, 11])]\n"
     ]
    },
    {
     "name": "stderr",
     "output_type": "stream",
     "text": [
      "<ipython-input-5-c2b2171c4646>:1: VisibleDeprecationWarning: Creating an ndarray from ragged nested sequences (which is a list-or-tuple of lists-or-tuples-or ndarrays with different lengths or shapes) is deprecated. If you meant to do this, you must specify 'dtype=object' when creating the ndarray\n",
      "  print(np.array([[1,2,3,4,5],[6,7,8,9, 10 , 11]]))\n"
     ]
    }
   ],
   "source": [
    "print(np.array([[1,2,3,4,5],[6,7,8,9]]))"
   ]
  },
  {
   "cell_type": "markdown",
   "metadata": {},
   "source": [
    "The most important attributes of an array are its shape and the number of dimensions."
   ]
  },
  {
   "cell_type": "code",
   "execution_count": 6,
   "metadata": {},
   "outputs": [
    {
     "data": {
      "text/plain": [
       "(2, 5)"
      ]
     },
     "execution_count": 6,
     "metadata": {},
     "output_type": "execute_result"
    }
   ],
   "source": [
    "ary.shape"
   ]
  },
  {
   "cell_type": "code",
   "execution_count": 8,
   "metadata": {},
   "outputs": [
    {
     "data": {
      "text/plain": [
       "2"
      ]
     },
     "execution_count": 8,
     "metadata": {},
     "output_type": "execute_result"
    }
   ],
   "source": [
    "ary.ndim"
   ]
  },
  {
   "cell_type": "code",
   "execution_count": 9,
   "metadata": {},
   "outputs": [
    {
     "data": {
      "text/plain": [
       "2"
      ]
     },
     "execution_count": 9,
     "metadata": {},
     "output_type": "execute_result"
    }
   ],
   "source": [
    "len(ary.shape)"
   ]
  },
  {
   "cell_type": "code",
   "execution_count": 11,
   "metadata": {},
   "outputs": [
    {
     "data": {
      "text/plain": [
       "dtype('int64')"
      ]
     },
     "execution_count": 11,
     "metadata": {},
     "output_type": "execute_result"
    }
   ],
   "source": [
    "ary.dtype"
   ]
  },
  {
   "cell_type": "code",
   "execution_count": 19,
   "metadata": {},
   "outputs": [
    {
     "data": {
      "text/plain": [
       "'00000000000000000000000000001100'"
      ]
     },
     "execution_count": 19,
     "metadata": {},
     "output_type": "execute_result"
    }
   ],
   "source": [
    "str(bin(12)[-4:]).zfill(32)"
   ]
  },
  {
   "cell_type": "code",
   "execution_count": 20,
   "metadata": {},
   "outputs": [
    {
     "data": {
      "text/plain": [
       "dtype('float64')"
      ]
     },
     "execution_count": 20,
     "metadata": {},
     "output_type": "execute_result"
    }
   ],
   "source": [
    "np.array([[1.0, 2.0], [3.5, 4.5]]).dtype"
   ]
  },
  {
   "cell_type": "markdown",
   "metadata": {},
   "source": [
    "### Array-Generating Functions\n",
    "For larger arrays it is inpractical to initialize the data manually. Instead we can use one of the many functions in numpy that generate arrays of different forms. Some of the more common are:"
   ]
  },
  {
   "cell_type": "markdown",
   "metadata": {},
   "source": [
    "#### Empty Arrays\n",
    "When the intended shape of an array is known in advance but its values are not, we can use various functions to generate empty arrays."
   ]
  },
  {
   "cell_type": "code",
   "execution_count": 27,
   "metadata": {},
   "outputs": [
    {
     "data": {
      "text/plain": [
       "array([[[0., 0., 0.],\n",
       "        [0., 0., 0.]],\n",
       "\n",
       "       [[0., 0., 0.],\n",
       "        [0., 0., 0.]]])"
      ]
     },
     "execution_count": 27,
     "metadata": {},
     "output_type": "execute_result"
    }
   ],
   "source": [
    "np.zeros((2, 2, 3))"
   ]
  },
  {
   "cell_type": "code",
   "execution_count": 24,
   "metadata": {},
   "outputs": [
    {
     "data": {
      "text/plain": [
       "array([[1, 1, 1, 1],\n",
       "       [1, 1, 1, 1],\n",
       "       [1, 1, 1, 1]], dtype=int8)"
      ]
     },
     "execution_count": 24,
     "metadata": {},
     "output_type": "execute_result"
    }
   ],
   "source": [
    "np.ones((3, 4), dtype = np.int8)"
   ]
  },
  {
   "cell_type": "code",
   "execution_count": 29,
   "metadata": {},
   "outputs": [
    {
     "data": {
      "text/plain": [
       "array([[3.14, 3.14, 3.14, 3.14, 3.14],\n",
       "       [3.14, 3.14, 3.14, 3.14, 3.14],\n",
       "       [3.14, 3.14, 3.14, 3.14, 3.14]])"
      ]
     },
     "execution_count": 29,
     "metadata": {},
     "output_type": "execute_result"
    }
   ],
   "source": [
    "np.full((3, 5), 3.14)"
   ]
  },
  {
   "cell_type": "markdown",
   "metadata": {},
   "source": [
    "A special case is the function `np.empty`, which does not initialize any values. It will reserve memory for the array but use whatever values are already stored there without reseting them. This can be a useful optimization for speed when creating extremely large arrays."
   ]
  },
  {
   "cell_type": "code",
   "execution_count": 31,
   "metadata": {},
   "outputs": [
    {
     "name": "stdout",
     "output_type": "stream",
     "text": [
      "6\n"
     ]
    }
   ],
   "source": [
    "total = 0\n",
    "for i in [1, 2, 3]: \n",
    "    total += i\n",
    "print(total)"
   ]
  },
  {
   "cell_type": "code",
   "execution_count": 30,
   "metadata": {},
   "outputs": [
    {
     "name": "stdout",
     "output_type": "stream",
     "text": [
      "[[0. 0. 0.]\n",
      " [0. 0. 0.]]\n",
      "[[-0.00000000e+000 -0.00000000e+000  2.18286849e-314  4.94065646e-323\n",
      "   5.43472210e-323 -8.58546793e+303              nan              nan\n",
      "               nan -5.08590511e+092]\n",
      " [ 6.95285248e-310  2.18433484e-314 -3.24506783e-141  6.95285227e-310\n",
      "   6.95285245e-310 -1.37677658e-153  6.95285248e-310  6.95285248e-310\n",
      "  -3.33907822e-259  6.95285154e-310]\n",
      " [ 2.18433492e-314  6.12146896e-093  6.95285072e-310  2.18422594e-314\n",
      "  -7.14828611e-005  6.95285248e-310  2.18433598e-314 -2.46758437e+145\n",
      "   6.95285248e-310  6.95284926e-310]\n",
      " [-7.64320893e+045  6.95285248e-310  6.95284926e-310  1.07066779e-032\n",
      "   6.95285089e-310  6.95285061e-310  2.16298403e-171  6.95285079e-310\n",
      "   2.18426418e-314  2.76193847e+262]\n",
      " [ 6.95285158e-310  2.18422594e-314  0.00000000e+000  0.00000000e+000\n",
      "   0.00000000e+000  0.00000000e+000  0.00000000e+000  0.00000000e+000\n",
      "   0.00000000e+000  0.00000000e+000]\n",
      " [ 0.00000000e+000  0.00000000e+000  0.00000000e+000  0.00000000e+000\n",
      "   0.00000000e+000  0.00000000e+000  0.00000000e+000  0.00000000e+000\n",
      "   0.00000000e+000  0.00000000e+000]\n",
      " [ 0.00000000e+000  0.00000000e+000  0.00000000e+000  0.00000000e+000\n",
      "   0.00000000e+000  0.00000000e+000  0.00000000e+000  0.00000000e+000\n",
      "   0.00000000e+000  0.00000000e+000]]\n"
     ]
    }
   ],
   "source": [
    "print(np.empty((2, 3)))\n",
    "print(np.empty((7, 10)))"
   ]
  },
  {
   "cell_type": "markdown",
   "metadata": {},
   "source": [
    "#### Ranges\n",
    "Numpy also has a number of functions to support creating number ranges, such as:"
   ]
  },
  {
   "cell_type": "code",
   "execution_count": 33,
   "metadata": {},
   "outputs": [
    {
     "data": {
      "text/plain": [
       "array([0, 1, 2, 3, 4, 5, 6, 7, 8, 9])"
      ]
     },
     "execution_count": 33,
     "metadata": {},
     "output_type": "execute_result"
    }
   ],
   "source": [
    "# Define endpoints and step size\n",
    "np.arange(start = 0, \n",
    "          stop = 10, \n",
    "          step = 1)"
   ]
  },
  {
   "cell_type": "code",
   "execution_count": 34,
   "metadata": {},
   "outputs": [
    {
     "data": {
      "text/plain": [
       "array([ 6,  8, 10, 12, 14])"
      ]
     },
     "execution_count": 34,
     "metadata": {},
     "output_type": "execute_result"
    }
   ],
   "source": [
    "np.arange(start = 6, \n",
    "          stop = 15, \n",
    "          step = 2)"
   ]
  },
  {
   "cell_type": "code",
   "execution_count": 37,
   "metadata": {},
   "outputs": [
    {
     "data": {
      "text/plain": [
       "array([0, 1, 2, 3, 4, 5, 6, 7])"
      ]
     },
     "execution_count": 37,
     "metadata": {},
     "output_type": "execute_result"
    }
   ],
   "source": [
    "np.arange(8)"
   ]
  },
  {
   "cell_type": "code",
   "execution_count": 38,
   "metadata": {},
   "outputs": [
    {
     "data": {
      "text/plain": [
       "array([ 1.        ,  1.64285714,  2.28571429,  2.92857143,  3.57142857,\n",
       "        4.21428571,  4.85714286,  5.5       ,  6.14285714,  6.78571429,\n",
       "        7.42857143,  8.07142857,  8.71428571,  9.35714286, 10.        ])"
      ]
     },
     "execution_count": 38,
     "metadata": {},
     "output_type": "execute_result"
    }
   ],
   "source": [
    "# Define endpoints and the number of elements\n",
    "np.linspace(start = 1, stop = 10, num = 15)"
   ]
  },
  {
   "cell_type": "code",
   "execution_count": 40,
   "metadata": {},
   "outputs": [
    {
     "data": {
      "text/plain": [
       "array([1. , 1.6, 2.2, 2.8, 3.4, 4. , 4.6, 5.2, 5.8, 6.4, 7. , 7.6, 8.2,\n",
       "       8.8, 9.4])"
      ]
     },
     "execution_count": 40,
     "metadata": {},
     "output_type": "execute_result"
    }
   ],
   "source": [
    "# Includes the endpoint by default (non-standard Python behavior!)\n",
    "\n",
    "np.linspace(start = 1, \n",
    "            stop = 10, \n",
    "            num = 15, \n",
    "            endpoint = False)"
   ]
  },
  {
   "cell_type": "code",
   "execution_count": null,
   "metadata": {},
   "outputs": [],
   "source": [
    "np.logspace()"
   ]
  },
  {
   "cell_type": "markdown",
   "metadata": {},
   "source": [
    "#### Random Data\n",
    "Arrays can also be initialized with random values. NumPy supports many different probability distributions."
   ]
  },
  {
   "cell_type": "code",
   "execution_count": 41,
   "metadata": {},
   "outputs": [
    {
     "data": {
      "text/plain": [
       "array([[0.21600507, 0.91706134, 0.55254443],\n",
       "       [0.00249999, 0.13133273, 0.7707231 ],\n",
       "       [0.60783355, 0.41108881, 0.93125915]])"
      ]
     },
     "execution_count": 41,
     "metadata": {},
     "output_type": "execute_result"
    }
   ],
   "source": [
    "# Uniform distribution, i.e. all values equally likely, \n",
    "# between low (inclusive) and high (exclusive)\n",
    "np.random.uniform(low = 0, \n",
    "                  high = 1, \n",
    "                  size = (3, 3))"
   ]
  },
  {
   "cell_type": "code",
   "execution_count": 42,
   "metadata": {},
   "outputs": [
    {
     "data": {
      "image/png": "[encoded data removed]",
      "text/plain": [
       "<Figure size 432x288 with 1 Axes>"
      ]
     },
     "metadata": {
      "needs_background": "light"
     },
     "output_type": "display_data"
    }
   ],
   "source": [
    "plt.hist(np.random.uniform(low=0, high=1, size=10000));"
   ]
  },
  {
   "cell_type": "code",
   "execution_count": 43,
   "metadata": {},
   "outputs": [
    {
     "data": {
      "text/plain": [
       "array([[0.82782466, 0.61349745, 0.91800795, 0.31124211, 0.19966123],\n",
       "       [0.04024489, 0.50027829, 0.15727939, 0.72644536, 0.78607197],\n",
       "       [0.86917156, 0.4463997 , 0.15435265, 0.54571974, 0.48379877],\n",
       "       [0.25045326, 0.322323  , 0.98835249, 0.71687982, 0.45238376],\n",
       "       [0.87145117, 0.72726219, 0.24326379, 0.58532488, 0.40607821]])"
      ]
     },
     "execution_count": 43,
     "metadata": {},
     "output_type": "execute_result"
    }
   ],
   "source": [
    "# Alias for np.random.uniform(low=0, high=1, ...)\n",
    "np.random.random(size = (5, 5))"
   ]
  },
  {
   "cell_type": "code",
   "execution_count": 46,
   "metadata": {},
   "outputs": [
    {
     "data": {
      "text/plain": [
       "array([[4.31337642, 4.86997204, 4.99340325],\n",
       "       [4.98771945, 1.14376752, 5.2956364 ],\n",
       "       [5.54924671, 2.66120483, 5.5645823 ]])"
      ]
     },
     "execution_count": 46,
     "metadata": {},
     "output_type": "execute_result"
    }
   ],
   "source": [
    "# Normal (Gaussian) distribution centered around 'loc' (mean)\n",
    "# with a standard deviation of 'scale'\n",
    "np.random.normal(loc = 5, \n",
    "                 scale = 2, \n",
    "                 size = (3, 3))"
   ]
  },
  {
   "cell_type": "code",
   "execution_count": 45,
   "metadata": {},
   "outputs": [
    {
     "data": {
      "image/png": "[encoded data removed]",
      "text/plain": [
       "<Figure size 432x288 with 1 Axes>"
      ]
     },
     "metadata": {
      "needs_background": "light"
     },
     "output_type": "display_data"
    }
   ],
   "source": [
    "plt.hist(np.random.normal(loc=5, scale=2, size=10000));"
   ]
  },
  {
   "cell_type": "markdown",
   "metadata": {},
   "source": [
    "Beyond distributions of uniformly distributed floating point values, NumPy also lets us generate random integers."
   ]
  },
  {
   "cell_type": "code",
   "execution_count": 47,
   "metadata": {},
   "outputs": [
    {
     "data": {
      "text/plain": [
       "array([[32,  3, 82, 93],\n",
       "       [98,  5, 86,  7],\n",
       "       [ 1, 68, 62, 26],\n",
       "       [32, 16, 92,  9]])"
      ]
     },
     "execution_count": 47,
     "metadata": {},
     "output_type": "execute_result"
    }
   ],
   "source": [
    "np.random.randint(low=1, high=100, size=(4, 4))"
   ]
  },
  {
   "cell_type": "code",
   "execution_count": 48,
   "metadata": {},
   "outputs": [
    {
     "data": {
      "text/plain": [
       "(array([1031.,  980.,  991., 1044.,  841., 1036., 1054., 1011.,  997.,\n",
       "        1015.]),\n",
       " array([ 1. , 10.8, 20.6, 30.4, 40.2, 50. , 59.8, 69.6, 79.4, 89.2, 99. ]),\n",
       " <BarContainer object of 10 artists>)"
      ]
     },
     "execution_count": 48,
     "metadata": {},
     "output_type": "execute_result"
    },
    {
     "data": {
      "image/png": "[encoded data removed]",
      "text/plain": [
       "<Figure size 432x288 with 1 Axes>"
      ]
     },
     "metadata": {
      "needs_background": "light"
     },
     "output_type": "display_data"
    }
   ],
   "source": [
    "plt.hist(np.random.randint(low = 1, \n",
    "                           high = 100, \n",
    "                           size = 10000))"
   ]
  },
  {
   "cell_type": "markdown",
   "metadata": {},
   "source": [
    "#### Data Types\n",
    "Most, if not all, of these functions allow us to determine the data type with the `dtype` function argument, e.g."
   ]
  },
  {
   "cell_type": "code",
   "execution_count": 49,
   "metadata": {},
   "outputs": [
    {
     "data": {
      "text/plain": [
       "array([[0, 0, 0],\n",
       "       [0, 0, 0]], dtype=int16)"
      ]
     },
     "execution_count": 49,
     "metadata": {},
     "output_type": "execute_result"
    }
   ],
   "source": [
    "np.zeros((2, 3), dtype=np.int16)"
   ]
  },
  {
   "cell_type": "markdown",
   "metadata": {},
   "source": [
    "Some of the most common supported data types are\n",
    "\n",
    "| Data Type | Description |\n",
    "| --------- | ----------- |\n",
    "| `np.bool_` or `np.bool` | Boolean (True or False) stored as a byte\n",
    "| `np.int8` | \tByte (-128 to 127)\n",
    "| `np.int16` | \tInteger (-32768 to 32767)\n",
    "| `np.int32` | \tInteger (-2147483648 to 2147483647)\n",
    "| `np.int64` | \tInteger (-9223372036854775808 to 9223372036854775807)\n",
    "| `np.int_` or `np.int` | Default integer type (normally either int64 or int32)\n",
    "| `np.uint8` | \tUnsigned integer (0 to 255)\n",
    "| `np.uint16` | Unsigned integer (0 to 65535)\n",
    "| `np.uint32` | Unsigned integer (0 to 4294967295)\n",
    "| `np.uint64` | Unsigned integer (0 to 18446744073709551615)\n",
    "| `np.float16` | Half precision float: sign bit, 5 bits exponent, 10 bits mantissa\n",
    "| `np.float32` | Single precision float: sign bit, 8 bits exponent, 23 bits mantissa\n",
    "| `np.float64` | Double precision float: sign bit, 11 bits exponent, 52 bits mantissa\n",
    "| `np.float_` or `np.float` | Default float type (normally either float64 or float32)"
   ]
  },
  {
   "cell_type": "code",
   "execution_count": 61,
   "metadata": {},
   "outputs": [
    {
     "data": {
      "text/plain": [
       "array([[44, 44],\n",
       "       [44, 44]], dtype=int8)"
      ]
     },
     "execution_count": 61,
     "metadata": {},
     "output_type": "execute_result"
    }
   ],
   "source": [
    "np.full((2, 2), 300, dtype = np.uint8)"
   ]
  },
  {
   "cell_type": "code",
   "execution_count": 66,
   "metadata": {},
   "outputs": [
    {
     "data": {
      "text/plain": [
       "44"
      ]
     },
     "execution_count": 66,
     "metadata": {},
     "output_type": "execute_result"
    }
   ],
   "source": [
    "## insufficient bits datatype \n",
    "## clipped out significant left-side bits\n",
    "\n",
    "int(bin(300)[-8:], 2)"
   ]
  },
  {
   "cell_type": "code",
   "execution_count": 67,
   "metadata": {},
   "outputs": [
    {
     "name": "stdout",
     "output_type": "stream",
     "text": [
      "716002645\n",
      "85\n"
     ]
    }
   ],
   "source": [
    "print(int('101010101011010101010101010101', 2))\n",
    "print(int('                      01010101', 2))"
   ]
  },
  {
   "cell_type": "markdown",
   "metadata": {},
   "source": [
    "### Exercises"
   ]
  },
  {
   "cell_type": "markdown",
   "metadata": {},
   "source": [
    "#### Exercise 1\n",
    "Create a new 2x2 array without initializing entries."
   ]
  },
  {
   "cell_type": "code",
   "execution_count": null,
   "metadata": {},
   "outputs": [],
   "source": [
    "### your code here"
   ]
  },
  {
   "cell_type": "code",
   "execution_count": 71,
   "metadata": {},
   "outputs": [
    {
     "data": {
      "text/plain": [
       "array([[-9.756e-04,  8.977e+00],\n",
       "       [ 3.369e+00,  2.191e+00]], dtype=float16)"
      ]
     },
     "execution_count": 71,
     "metadata": {},
     "output_type": "execute_result"
    }
   ],
   "source": [
    "np.empty((2, 2))"
   ]
  },
  {
   "cell_type": "markdown",
   "metadata": {},
   "source": [
    "#### Exercise 2\n",
    "Create a new 3x2x4 array of ones and make sure they're floating point numbers."
   ]
  },
  {
   "cell_type": "code",
   "execution_count": null,
   "metadata": {},
   "outputs": [],
   "source": [
    "### your code here"
   ]
  },
  {
   "cell_type": "code",
   "execution_count": 73,
   "metadata": {},
   "outputs": [
    {
     "data": {
      "text/plain": [
       "array([[[1., 1., 1., 1.],\n",
       "        [1., 1., 1., 1.]],\n",
       "\n",
       "       [[1., 1., 1., 1.],\n",
       "        [1., 1., 1., 1.]],\n",
       "\n",
       "       [[1., 1., 1., 1.],\n",
       "        [1., 1., 1., 1.]]])"
      ]
     },
     "execution_count": 73,
     "metadata": {},
     "output_type": "execute_result"
    }
   ],
   "source": [
    "np.ones((3, 2, 4), dtype = np.float)"
   ]
  },
  {
   "cell_type": "markdown",
   "metadata": {},
   "source": [
    "#### Exercise 3\n",
    "Create a 1-D array of 20 evenly spaced elements between 3. (inclusive) and 10. (exclusive)."
   ]
  },
  {
   "cell_type": "code",
   "execution_count": null,
   "metadata": {},
   "outputs": [],
   "source": [
    "### your code here"
   ]
  },
  {
   "cell_type": "code",
   "execution_count": 74,
   "metadata": {},
   "outputs": [
    {
     "data": {
      "text/plain": [
       "array([3.  , 3.35, 3.7 , 4.05, 4.4 , 4.75, 5.1 , 5.45, 5.8 , 6.15, 6.5 ,\n",
       "       6.85, 7.2 , 7.55, 7.9 , 8.25, 8.6 , 8.95, 9.3 , 9.65])"
      ]
     },
     "execution_count": 74,
     "metadata": {},
     "output_type": "execute_result"
    }
   ],
   "source": [
    "np.linspace(start = 3, \n",
    "            stop = 10, \n",
    "            num = 20, \n",
    "            endpoint = False)"
   ]
  },
  {
   "cell_type": "markdown",
   "metadata": {},
   "source": [
    "## Manipulating arrays"
   ]
  },
  {
   "cell_type": "markdown",
   "metadata": {},
   "source": [
    "### Indexing\n",
    "We can index elements in an array using square brackets and indices:"
   ]
  },
  {
   "cell_type": "code",
   "execution_count": 87,
   "metadata": {},
   "outputs": [
    {
     "data": {
      "text/plain": [
       "[10, 'a', [3, 4], (5, 6), 7.5]"
      ]
     },
     "execution_count": 87,
     "metadata": {},
     "output_type": "execute_result"
    }
   ],
   "source": [
    "lis = [1, 'a', [3, 4], (5, 6), 7.5]\n",
    "lis[0] = 10\n",
    "lis"
   ]
  },
  {
   "cell_type": "code",
   "execution_count": 79,
   "metadata": {},
   "outputs": [
    {
     "name": "stdout",
     "output_type": "stream",
     "text": [
      "[1 2 3 4]\n",
      "1\n"
     ]
    }
   ],
   "source": [
    "# a vector: the argument to the array function is a Python list\n",
    "v = np.array([1,2,3,4])\n",
    "print(v)\n",
    "print(v[0])"
   ]
  },
  {
   "cell_type": "code",
   "execution_count": 85,
   "metadata": {},
   "outputs": [
    {
     "name": "stdout",
     "output_type": "stream",
     "text": [
      "[[8 1 6]\n",
      " [3 5 3]\n",
      " [4 3 9]]\n",
      "5\n",
      "5\n"
     ]
    }
   ],
   "source": [
    "# M = np.random.randint(low=1, high=10, size=[3,3])\n",
    "print(M)\n",
    "# M is a matrix, or a 2 dimensional array, taking two indices \n",
    "print(M[  1   ,   1   ])\n",
    "print(M[1][1])\n",
    "\n"
   ]
  },
  {
   "cell_type": "code",
   "execution_count": 89,
   "metadata": {},
   "outputs": [
    {
     "name": "stdout",
     "output_type": "stream",
     "text": [
      "[[[3 7 8]\n",
      "  [2 6 2]\n",
      "  [1 9 6]]\n",
      "\n",
      " [[8 3 6]\n",
      "  [2 5 2]\n",
      "  [6 1 9]]]\n",
      "8\n"
     ]
    }
   ],
   "source": [
    "M = np.random.randint(low=1, high=10, size=[2,3,3])\n",
    "print(M)\n",
    "print(M[1, 0, 0])"
   ]
  },
  {
   "cell_type": "markdown",
   "metadata": {},
   "source": [
    "### Slicing\n",
    "Just as we can use square brackets to access individual array elements, we can also use them to access subarrays with the *slice* notation, marked by the colon (``:``) character.\n",
    "The NumPy slicing syntax follows that of the standard Python list; to access a slice of an array ``x``, use this:\n",
    "``` python\n",
    "x[start:stop:step]\n",
    "```\n",
    "\n",
    "Slicing follows the typical Python convention of excluding the stop-index. If any of these are unspecified, they default to the values ``start=0``, ``stop=<size_of_dimension>``, ``step=1``. "
   ]
  },
  {
   "cell_type": "code",
   "execution_count": 95,
   "metadata": {},
   "outputs": [
    {
     "name": "stdout",
     "output_type": "stream",
     "text": [
      "[ 0  1  2  3  4  5  6  7  8  9 10]\n",
      "[3 4 5 6]\n",
      "[ 5  6  7  8  9 10]\n",
      "[0 1 2 3 4 5]\n",
      "[1 4 7]\n",
      "[ 0  2  4  6  8 10]\n"
     ]
    }
   ],
   "source": [
    "v = np.arange(11)\n",
    "print(v)\n",
    "print(v[3:7])\n",
    "print(v[5:])\n",
    "print(v[:6])\n",
    "print(v[1:10:3])\n",
    "print(v[::2])\n"
   ]
  },
  {
   "cell_type": "markdown",
   "metadata": {},
   "source": [
    "The second `:` is not unnecessary if no step is specified, i.e. `v[:]` is equivalent to `v[::]`"
   ]
  },
  {
   "cell_type": "code",
   "execution_count": 97,
   "metadata": {},
   "outputs": [
    {
     "name": "stdout",
     "output_type": "stream",
     "text": [
      "[ 0  1  2  3  4  5  6  7  8  9 10]\n",
      "[ 0  1  2  3  4  5  6  7  8  9 10]\n",
      "[ 0  1  2  3  4  5  6  7  8  9 10]\n"
     ]
    }
   ],
   "source": [
    "print(v[:])\n",
    "print(v[::])\n",
    "print(v)"
   ]
  },
  {
   "cell_type": "markdown",
   "metadata": {},
   "source": [
    "Like before, we can index multidimensional arrays by using slices for each dimension."
   ]
  },
  {
   "cell_type": "code",
   "execution_count": 98,
   "metadata": {},
   "outputs": [
    {
     "name": "stdout",
     "output_type": "stream",
     "text": [
      "[[3 9 6 4 4]\n",
      " [8 8 4 6 6]\n",
      " [1 5 2 4 4]\n",
      " [6 7 3 9 5]\n",
      " [9 1 9 5 5]]\n",
      "\n",
      "[[4 4]\n",
      " [6 6]]\n",
      "\n",
      "[[3 9]\n",
      " [1 5]\n",
      " [9 1]]\n"
     ]
    }
   ],
   "source": [
    "M = np.random.randint(low=1, high=10, size=(5, 5))\n",
    "print(M)\n",
    "print()\n",
    "print(M[0:2, 3:5])\n",
    "print()\n",
    "print(M[::2, 0:2])"
   ]
  },
  {
   "cell_type": "markdown",
   "metadata": {},
   "source": [
    "If we omit an index of a multidimensional array, it assumes all of the following dimensions should be indexed fully. For example, indexing a 2-D matrix with only one index slice will return all columns of the specified rows."
   ]
  },
  {
   "cell_type": "code",
   "execution_count": 100,
   "metadata": {},
   "outputs": [
    {
     "name": "stdout",
     "output_type": "stream",
     "text": [
      "[6 7 3 9 5]\n",
      "[6 7 3 9 5]\n"
     ]
    }
   ],
   "source": [
    "print(M[3])\n",
    "print(M[3, :])"
   ]
  },
  {
   "cell_type": "markdown",
   "metadata": {},
   "source": [
    "Note that this can get confusing as there is no way to reverse this, e.g. extracting all rows for specified columns must be done with a colon `:`."
   ]
  },
  {
   "cell_type": "code",
   "execution_count": 104,
   "metadata": {},
   "outputs": [
    {
     "name": "stdout",
     "output_type": "stream",
     "text": [
      "[[3 9 6 4 4]\n",
      " [8 8 4 6 6]\n",
      " [1 5 2 4 4]\n",
      " [6 7 3 9 5]\n",
      " [9 1 9 5 5]]\n",
      "\n",
      "[4 6 4 5 5]\n"
     ]
    }
   ],
   "source": [
    "print(M, end = '\\n\\n')\n",
    "print(M[:, 4])"
   ]
  },
  {
   "cell_type": "markdown",
   "metadata": {},
   "source": [
    "It is clearer to indicate the slices for all dimensions. If you are ever in a situation in which you are unsure of how many dimensions your array may have at runtime, you can use the ellipses `...` to indicate \"Select all entries along all missing dimensions"
   ]
  },
  {
   "cell_type": "code",
   "execution_count": 105,
   "metadata": {},
   "outputs": [
    {
     "name": "stdout",
     "output_type": "stream",
     "text": [
      "[[[7 3 5 1 7]\n",
      "  [8 1 7 7 1]\n",
      "  [8 6 9 9 1]\n",
      "  [8 3 8 7 7]\n",
      "  [5 1 5 8 9]]\n",
      "\n",
      " [[8 9 9 8 7]\n",
      "  [8 8 1 9 2]\n",
      "  [6 3 6 8 5]\n",
      "  [9 9 7 2 1]\n",
      "  [9 9 7 1 1]]\n",
      "\n",
      " [[6 6 4 4 6]\n",
      "  [7 4 4 9 8]\n",
      "  [5 6 9 8 8]\n",
      "  [9 6 2 2 4]\n",
      "  [2 7 5 8 7]]]\n",
      "\n",
      "[[8 9 9 8 7]\n",
      " [8 8 1 9 2]\n",
      " [6 3 6 8 5]\n",
      " [9 9 7 2 1]\n",
      " [9 9 7 1 1]]\n",
      "\n",
      "[5 7 9 8 5]\n"
     ]
    }
   ],
   "source": [
    "M = np.random.randint(low=1, high=10, size=(3, 5, 5))\n",
    "print(M)\n",
    "print()\n",
    "# Print all rows and all columns of the second 2-D matrix in the 3-D stack\n",
    "print(M[1, ...])\n",
    "print()\n",
    "# Print all rows of the third column of the first matrix\n",
    "print(M[0, ..., 2])\n",
    "\n"
   ]
  },
  {
   "cell_type": "markdown",
   "metadata": {},
   "source": [
    "In the above example, Python recognizes that the first and the last index are given and induces that the ellipses stands for all dimensions (here only one) inbetween these two. Likewise, `v[2, 3, ..., 5]` specifies the indices for the first, second, and last dimension and extracts all entries for the dimensions inbetween. For this reason, an index tuple can have only one ellipses `...` to avoid ambiguity."
   ]
  },
  {
   "cell_type": "code",
   "execution_count": 112,
   "metadata": {},
   "outputs": [
    {
     "name": "stdout",
     "output_type": "stream",
     "text": [
      "[[[2 8 4 4 1]\n",
      "  [2 2 9 9 6]\n",
      "  [5 4 5 5 4]\n",
      "  [5 6 4 2 1]\n",
      "  [3 9 4 2 8]]\n",
      "\n",
      " [[6 7 9 3 1]\n",
      "  [1 3 8 7 7]\n",
      "  [5 4 2 7 5]\n",
      "  [8 1 5 5 3]\n",
      "  [5 9 5 9 4]]]\n",
      "[[6 7 9 3 1]\n",
      " [1 3 8 7 7]\n",
      " [5 4 2 7 5]\n",
      " [8 1 5 5 3]\n",
      " [5 9 5 9 4]]\n",
      "[[4 9 5 4 4]\n",
      " [9 8 2 5 5]]\n"
     ]
    }
   ],
   "source": [
    "N = np.random.randint(low=1, high=10, size=(2, 5, 5))\n",
    "print(N)\n",
    "print(N[1, ...])\n",
    "print(N[..., 2])\n",
    "print(N[0, ..., 1])\n"
   ]
  },
  {
   "cell_type": "markdown",
   "metadata": {},
   "source": [
    "### Fancy Indexing\n",
    "NumPy permits several fancy indexing options. First, we can combine slices with indices or lists of indices."
   ]
  },
  {
   "cell_type": "code",
   "execution_count": 115,
   "metadata": {},
   "outputs": [
    {
     "name": "stdout",
     "output_type": "stream",
     "text": [
      "[[4 1 6 8 2]\n",
      " [1 8 4 7 2]\n",
      " [5 7 4 2 2]\n",
      " [1 1 5 6 5]\n",
      " [6 1 3 5 4]]\n",
      "\n",
      "[2 2]\n",
      "\n",
      "[[5 5]\n",
      " [3 4]]\n"
     ]
    }
   ],
   "source": [
    "M = np.random.randint(low=1, high=10, size=(5, 5))\n",
    "print(M)\n",
    "print()\n",
    "print(M[2, 3:5])\n",
    "print()\n",
    "# Notice the preservation of dimensionality\n",
    "print(M[3:5, [2, 4]])"
   ]
  },
  {
   "cell_type": "markdown",
   "metadata": {},
   "source": [
    "We can also use multiple sets of indices to extract multiple values. For example, `M[[x1, x2], [y1, y2]]` will extract the values at coordinates (x1, y1) and (x2, y2) of the matrix M."
   ]
  },
  {
   "cell_type": "code",
   "execution_count": 116,
   "metadata": {},
   "outputs": [
    {
     "name": "stdout",
     "output_type": "stream",
     "text": [
      "[[4 1 6 8 2]\n",
      " [1 8 4 7 2]\n",
      " [5 7 4 2 2]\n",
      " [1 1 5 6 5]\n",
      " [6 1 3 5 4]]\n"
     ]
    }
   ],
   "source": [
    "print(M)"
   ]
  },
  {
   "cell_type": "code",
   "execution_count": 117,
   "metadata": {},
   "outputs": [
    {
     "name": "stdout",
     "output_type": "stream",
     "text": [
      "[7 2]\n"
     ]
    }
   ],
   "source": [
    "print(M[  [1, 2], \n",
    "          [3, 4]    ])"
   ]
  },
  {
   "cell_type": "markdown",
   "metadata": {},
   "source": [
    "Note that we cannot use this method to extract entire rows and columns simultaneously. If we want, for example, columns 1 and 4 of rows 1 and 2 we need to index the matrix with multiple square bracket sets."
   ]
  },
  {
   "cell_type": "code",
   "execution_count": 119,
   "metadata": {},
   "outputs": [
    {
     "name": "stdout",
     "output_type": "stream",
     "text": [
      "[8 2]\n"
     ]
    }
   ],
   "source": [
    "print(   M   [[1, 2], :]   [:, [1, 4]]    )"
   ]
  },
  {
   "cell_type": "markdown",
   "metadata": {},
   "source": [
    "Lastly, we can use boolean masks to select specific values. Masks must have the same shape as the array itself. Note that NumPy will automatically convert base Python into NumPy arrays. That means that a mask can be anything that can be converted into an array, e.g. a (nested) list."
   ]
  },
  {
   "cell_type": "code",
   "execution_count": 121,
   "metadata": {},
   "outputs": [
    {
     "name": "stdout",
     "output_type": "stream",
     "text": [
      "[ 1.  4.  7. 10.]\n",
      "\n",
      "[ 1.  7. 10.]\n"
     ]
    }
   ],
   "source": [
    "v = np.linspace(start=1, stop=10, num=4, endpoint=True)\n",
    "print(v)\n",
    "print()\n",
    "print(v    [[True, False, True, True]]    )"
   ]
  },
  {
   "cell_type": "markdown",
   "metadata": {},
   "source": [
    "Indexing with boolean masks will always flatten arrays, i.e. all shape information will be lost."
   ]
  },
  {
   "cell_type": "code",
   "execution_count": 123,
   "metadata": {},
   "outputs": [
    {
     "name": "stdout",
     "output_type": "stream",
     "text": [
      "[[4 1 6 8 2]\n",
      " [1 8 4 7 2]\n",
      " [5 7 4 2 2]\n",
      " [1 1 5 6 5]\n",
      " [6 1 3 5 4]]\n",
      "\n",
      "[5 4 1 1]\n"
     ]
    }
   ],
   "source": [
    "mask = np.array([\n",
    "    [False, False, False, False, False], \n",
    "    [False, False, False, False, False], \n",
    "    [True,  False, True, False, False], \n",
    "    [True,  True,  False, False, False], \n",
    "    [False, False, False, False, False]])\n",
    "print(M)\n",
    "print()\n",
    "print(M[mask])"
   ]
  },
  {
   "cell_type": "markdown",
   "metadata": {},
   "source": [
    "We can negate boolean NumPy arrays with `~`"
   ]
  },
  {
   "cell_type": "code",
   "execution_count": 125,
   "metadata": {},
   "outputs": [
    {
     "name": "stdout",
     "output_type": "stream",
     "text": [
      "[0 1 2 3 4]\n",
      "[0 1]\n",
      "[2 3 4]\n"
     ]
    }
   ],
   "source": [
    "v = np.arange(5)\n",
    "print(v)\n",
    "mask = np.array([True, True, False, False, False])\n",
    "print(v[mask])\n",
    "print(v[~mask])"
   ]
  },
  {
   "cell_type": "markdown",
   "metadata": {},
   "source": [
    "### Assigning Values to Subarrays\n",
    "\n",
    "We can assign new values to elements in an array using any of the indexing methods shown above."
   ]
  },
  {
   "cell_type": "code",
   "execution_count": 127,
   "metadata": {},
   "outputs": [
    {
     "name": "stdout",
     "output_type": "stream",
     "text": [
      "[10, 'a', [3, 4], (5, 6), 7.5]\n",
      "[100, 'a', [3, 4], (5, 6), 7.5]\n"
     ]
    }
   ],
   "source": [
    "print(lis)\n",
    "lis[0] = 100\n",
    "print(lis)"
   ]
  },
  {
   "cell_type": "code",
   "execution_count": 128,
   "metadata": {},
   "outputs": [
    {
     "name": "stdout",
     "output_type": "stream",
     "text": [
      "[[0 0 0 0 0]\n",
      " [0 0 0 0 0]\n",
      " [0 0 0 0 0]\n",
      " [0 0 0 0 0]\n",
      " [0 0 0 0 0]]\n"
     ]
    }
   ],
   "source": [
    "M = np.zeros((5, 5), dtype=np.int)\n",
    "print(M)"
   ]
  },
  {
   "cell_type": "code",
   "execution_count": 130,
   "metadata": {},
   "outputs": [
    {
     "name": "stdout",
     "output_type": "stream",
     "text": [
      "[[1 0 0 0 0]\n",
      " [0 0 0 0 0]\n",
      " [0 0 0 0 0]\n",
      " [0 0 0 0 0]\n",
      " [0 0 0 0 0]]\n"
     ]
    }
   ],
   "source": [
    "M[0, 0] = 1\n",
    "print(M)"
   ]
  },
  {
   "cell_type": "code",
   "execution_count": 132,
   "metadata": {},
   "outputs": [
    {
     "name": "stdout",
     "output_type": "stream",
     "text": [
      "[[2 0 0 2 2]\n",
      " [0 0 0 0 0]\n",
      " [0 0 0 0 0]\n",
      " [0 0 0 0 0]\n",
      " [0 0 0 0 0]]\n"
     ]
    }
   ],
   "source": [
    "M[0][3:5] = 2\n",
    "print(M)"
   ]
  },
  {
   "cell_type": "code",
   "execution_count": 133,
   "metadata": {},
   "outputs": [
    {
     "name": "stdout",
     "output_type": "stream",
     "text": [
      "[[2 0 3 2 2]\n",
      " [2 2 3 2 2]\n",
      " [0 0 3 0 0]\n",
      " [0 0 3 0 0]\n",
      " [0 0 3 0 0]]\n"
     ]
    }
   ],
   "source": [
    "# also works for rows and columns\n",
    "M[1,:] = 2\n",
    "M[:,2] = 3\n",
    "print(M)"
   ]
  },
  {
   "cell_type": "code",
   "execution_count": 134,
   "metadata": {},
   "outputs": [
    {
     "name": "stdout",
     "output_type": "stream",
     "text": [
      "[[2 0 3 2 2]\n",
      " [2 2 3 2 2]\n",
      " [0 0 3 0 0]\n",
      " [0 0 4 4 4]\n",
      " [0 0 4 4 4]]\n"
     ]
    }
   ],
   "source": [
    "# simultaneous assignment of subarray\n",
    "M[3:5, 2:5] = 4\n",
    "print(M)"
   ]
  },
  {
   "cell_type": "markdown",
   "metadata": {},
   "source": [
    "Even though boolean masks flatten outputs when used for selection, they can be used to assign values while retaining the shape."
   ]
  },
  {
   "cell_type": "code",
   "execution_count": 135,
   "metadata": {},
   "outputs": [
    {
     "name": "stdout",
     "output_type": "stream",
     "text": [
      "[[2 0 3 2 2]\n",
      " [2 2 3 2 2]\n",
      " [5 0 5 0 0]\n",
      " [5 5 4 4 4]\n",
      " [0 0 4 4 4]]\n"
     ]
    }
   ],
   "source": [
    "mask = np.array([\n",
    "    [False, False, False, False, False], \n",
    "    [False, False, False, False, False], \n",
    "    [True,  False, True,  False, False], \n",
    "    [True,  True,  False, False, False], \n",
    "    [False, False, False, False, False]])\n",
    "M[mask] = 5\n",
    "print(M)"
   ]
  },
  {
   "cell_type": "markdown",
   "metadata": {},
   "source": [
    "Assigned values are broadcast to the necessary shape as per the broadcasting rules above. This means that for assignment with indices/slices, they are broadcast to the subarray shape"
   ]
  },
  {
   "cell_type": "code",
   "execution_count": 136,
   "metadata": {},
   "outputs": [
    {
     "name": "stdout",
     "output_type": "stream",
     "text": [
      "[[2 0 3 2 2]\n",
      " [2 2 3 2 2]\n",
      " [5 0 5 0 0]\n",
      " [5 5 4 4 4]\n",
      " [0 0 4 4 4]]\n",
      "\n",
      "[[2 2]\n",
      " [2 2]]\n",
      "\n",
      "[[ 2  0  3 -1 -2]\n",
      " [ 2  2  3 -3 -4]\n",
      " [ 5  0  5  0  0]\n",
      " [ 5  5  4  4  4]\n",
      " [ 0  0  4  4  4]]\n"
     ]
    }
   ],
   "source": [
    "print(M, end = '\\n\\n')\n",
    "print(M[0:2, 3:5], end = '\\n\\n')\n",
    "M[0:2, 3:5] = np.array([[-1, -2], \n",
    "                        [-3, -4]])\n",
    "print(M)"
   ]
  },
  {
   "cell_type": "markdown",
   "metadata": {},
   "source": [
    "For boolean masks, the values must be either a scalar value, i.e. a 0-D array, or a 1-D array. Note that after assignment, the original shape of the array is retained."
   ]
  },
  {
   "cell_type": "code",
   "execution_count": 139,
   "metadata": {},
   "outputs": [
    {
     "name": "stdout",
     "output_type": "stream",
     "text": [
      "[[10  0 11 -1 12]\n",
      " [ 2 13  3 14 -4]\n",
      " [ 5  0  5  0  0]\n",
      " [ 5  5  4  4  4]\n",
      " [ 0  0  4  4  4]]\n",
      "\n",
      "[10 11 12 13 14]\n",
      "\n",
      "[[15  0 16 -1 17]\n",
      " [ 2 18  3 19 -4]\n",
      " [ 5  0  5  0  0]\n",
      " [ 5  5  4  4  4]\n",
      " [ 0  0  4  4  4]]\n"
     ]
    }
   ],
   "source": [
    "print(M, end = '\\n\\n')\n",
    "\n",
    "mask = np.array([\n",
    "    [True,  False, True,  False, True ], \n",
    "    [False, True,  False, True,  False], \n",
    "    [False, False, False, False, False], \n",
    "    [False, False, False, False, False], \n",
    "    [False, False, False, False, False]])\n",
    "\n",
    "print(M[mask], end = '\\n\\n')\n",
    "\n",
    "M[mask] = np.array([15, 16, 17, 18, 19])\n",
    "print(M)"
   ]
  },
  {
   "cell_type": "markdown",
   "metadata": {},
   "source": [
    "We can extract the indices of a boolean mask with `np.where(...)`. This will return a tuple of arrays indicating the coordinates where the mask evaluates to `True`."
   ]
  },
  {
   "cell_type": "code",
   "execution_count": 140,
   "metadata": {},
   "outputs": [
    {
     "name": "stdout",
     "output_type": "stream",
     "text": [
      "[[ True False  True False  True]\n",
      " [False  True False  True False]\n",
      " [False False False False False]\n",
      " [False False False False False]\n",
      " [False False False False False]]\n",
      "\n",
      "(array([0, 0, 0, 1, 1]), array([0, 2, 4, 1, 3]))\n"
     ]
    }
   ],
   "source": [
    "mask = np.array([\n",
    "    [True,  False, True,  False, True ], \n",
    "    [False, True,  False, True,  False], \n",
    "    [False, False, False, False, False], \n",
    "    [False, False, False, False, False], \n",
    "    [False, False, False, False, False]])\n",
    "print(mask)\n",
    "print()\n",
    "print(np.where(mask))"
   ]
  },
  {
   "cell_type": "markdown",
   "metadata": {},
   "source": [
    "### Exercises\n",
    "Unless otherwise stated, the following exercises are based on the following array. Keep in mind, with regards to the phrasing, that Python begins indexing at 0, i.e. the 'first' element is the element with index 0."
   ]
  },
  {
   "cell_type": "code",
   "execution_count": 164,
   "metadata": {},
   "outputs": [
    {
     "name": "stdout",
     "output_type": "stream",
     "text": [
      "[[ 3  3 -2  2  2]\n",
      " [-5 -1 -3  0 -3]\n",
      " [-3 -3 -4 -5  3]\n",
      " [-1 -5  4  1 -3]\n",
      " [-1 -4  0 -2 -1]]\n"
     ]
    }
   ],
   "source": [
    "np.random.seed(100)\n",
    "M = np.random.randint(low=-5, high=5, size=(5, 5))\n",
    "print(M)"
   ]
  },
  {
   "cell_type": "markdown",
   "metadata": {},
   "source": [
    "#### Exercise 1\n",
    "Extract the third column of the matrix `M`"
   ]
  },
  {
   "cell_type": "code",
   "execution_count": null,
   "metadata": {},
   "outputs": [],
   "source": [
    "### your code here"
   ]
  },
  {
   "cell_type": "code",
   "execution_count": 145,
   "metadata": {},
   "outputs": [
    {
     "data": {
      "text/plain": [
       "array([-2, -3, -4,  4,  0])"
      ]
     },
     "execution_count": 145,
     "metadata": {},
     "output_type": "execute_result"
    }
   ],
   "source": [
    "M[..., 2]"
   ]
  },
  {
   "cell_type": "code",
   "execution_count": 147,
   "metadata": {},
   "outputs": [
    {
     "data": {
      "text/plain": [
       "array([-2, -3, -4,  4,  0])"
      ]
     },
     "execution_count": 147,
     "metadata": {},
     "output_type": "execute_result"
    }
   ],
   "source": [
    "M[:, 2]"
   ]
  },
  {
   "cell_type": "code",
   "execution_count": 148,
   "metadata": {},
   "outputs": [
    {
     "data": {
      "text/plain": [
       "array([-2, -3, -4,  4,  0])"
      ]
     },
     "execution_count": 148,
     "metadata": {},
     "output_type": "execute_result"
    }
   ],
   "source": [
    "M[:, -3]"
   ]
  },
  {
   "cell_type": "markdown",
   "metadata": {},
   "source": [
    "#### Exercise 2\n",
    "Extract only the odd-indexed rows and columns, i.e. those with indices 1 and 3, of `M`"
   ]
  },
  {
   "cell_type": "code",
   "execution_count": null,
   "metadata": {},
   "outputs": [],
   "source": [
    "### your code here"
   ]
  },
  {
   "cell_type": "code",
   "execution_count": 149,
   "metadata": {},
   "outputs": [
    {
     "name": "stdout",
     "output_type": "stream",
     "text": [
      "[[-5 -1 -3  0 -3]\n",
      " [-1 -5  4  1 -3]]\n"
     ]
    }
   ],
   "source": [
    "print(M[1::2])"
   ]
  },
  {
   "cell_type": "code",
   "execution_count": 151,
   "metadata": {},
   "outputs": [
    {
     "name": "stdout",
     "output_type": "stream",
     "text": [
      "[[ 3  2]\n",
      " [-1  0]\n",
      " [-3 -5]\n",
      " [-5  1]\n",
      " [-4 -2]]\n"
     ]
    }
   ],
   "source": [
    "print(M[..., 1::2])"
   ]
  },
  {
   "cell_type": "code",
   "execution_count": 152,
   "metadata": {},
   "outputs": [
    {
     "name": "stdout",
     "output_type": "stream",
     "text": [
      "[[-1  0]\n",
      " [-5  1]]\n"
     ]
    }
   ],
   "source": [
    "print(M[1::2, 1::2])"
   ]
  },
  {
   "cell_type": "markdown",
   "metadata": {},
   "source": [
    "#### Exercise 3\n",
    "Extract the positive values of the matrix `M`"
   ]
  },
  {
   "cell_type": "code",
   "execution_count": null,
   "metadata": {},
   "outputs": [],
   "source": [
    "### your code here"
   ]
  },
  {
   "cell_type": "code",
   "execution_count": 153,
   "metadata": {},
   "outputs": [
    {
     "name": "stdout",
     "output_type": "stream",
     "text": [
      "[[ 3  3 -2  2  2]\n",
      " [-5 -1 -3  0 -3]\n",
      " [-3 -3 -4 -5  3]\n",
      " [-1 -5  4  1 -3]\n",
      " [-1 -4  0 -2 -1]]\n"
     ]
    }
   ],
   "source": [
    "print(M)"
   ]
  },
  {
   "cell_type": "code",
   "execution_count": 156,
   "metadata": {},
   "outputs": [
    {
     "name": "stdout",
     "output_type": "stream",
     "text": [
      "[[ True  True False  True  True]\n",
      " [False False False False False]\n",
      " [False False False False  True]\n",
      " [False False  True  True False]\n",
      " [False False False False False]]\n",
      "\n",
      "[3 3 2 2 3 4 1]\n"
     ]
    }
   ],
   "source": [
    "mask = np.array([[col > 0 \n",
    "                  for col in row] \n",
    "                 for row in M])\n",
    "print(mask, end = '\\n\\n')\n",
    "print(M[mask])"
   ]
  },
  {
   "cell_type": "code",
   "execution_count": 159,
   "metadata": {},
   "outputs": [
    {
     "name": "stdout",
     "output_type": "stream",
     "text": [
      "[[ True  True False  True  True]\n",
      " [False False False False False]\n",
      " [False False False False  True]\n",
      " [False False  True  True False]\n",
      " [False False False False False]]\n",
      "\n",
      "[3 3 2 2 3 4 1]\n"
     ]
    }
   ],
   "source": [
    "mask = M > 0\n",
    "print(mask, end = '\\n\\n')\n",
    "print(M[mask])"
   ]
  },
  {
   "cell_type": "code",
   "execution_count": 160,
   "metadata": {},
   "outputs": [
    {
     "name": "stdout",
     "output_type": "stream",
     "text": [
      "[3 3 2 2 3 4 1]\n"
     ]
    }
   ],
   "source": [
    "print(M[M > 0])"
   ]
  },
  {
   "cell_type": "markdown",
   "metadata": {},
   "source": [
    "#### Exercise 4\n",
    "Replace all negative values of matrix `M` with 0"
   ]
  },
  {
   "cell_type": "code",
   "execution_count": null,
   "metadata": {},
   "outputs": [],
   "source": [
    "### your code here"
   ]
  },
  {
   "cell_type": "code",
   "execution_count": 163,
   "metadata": {},
   "outputs": [
    {
     "name": "stdout",
     "output_type": "stream",
     "text": [
      "[[3 3 0 2 2]\n",
      " [0 0 0 0 0]\n",
      " [0 0 0 0 3]\n",
      " [0 0 4 1 0]\n",
      " [0 0 0 0 0]]\n"
     ]
    }
   ],
   "source": [
    "mask = M < 0\n",
    "M[mask] = 0\n",
    "print(M)"
   ]
  },
  {
   "cell_type": "code",
   "execution_count": 167,
   "metadata": {},
   "outputs": [],
   "source": [
    "M = np.where(M < 0, 0, M)"
   ]
  },
  {
   "cell_type": "code",
   "execution_count": 168,
   "metadata": {},
   "outputs": [
    {
     "name": "stdout",
     "output_type": "stream",
     "text": [
      "[[3 3 0 2 2]\n",
      " [0 0 0 0 0]\n",
      " [0 0 0 0 3]\n",
      " [0 0 4 1 0]\n",
      " [0 0 0 0 0]]\n"
     ]
    }
   ],
   "source": [
    "print(M)"
   ]
  },
  {
   "cell_type": "markdown",
   "metadata": {},
   "source": [
    "## Array Operations\n",
    "Apart from just manipulating array contents directly, we can also perform operations on them, such a logical, arithmetical, or aggregative operations."
   ]
  },
  {
   "cell_type": "markdown",
   "metadata": {},
   "source": [
    "### Logical Operations\n",
    "Logical operations on NumPy arrays evaluate a condition on every individual entry and return boolean arrays of the same shape as the original array."
   ]
  },
  {
   "cell_type": "code",
   "execution_count": 170,
   "metadata": {},
   "outputs": [
    {
     "name": "stdout",
     "output_type": "stream",
     "text": [
      "[[  7  -2   3   0   7]\n",
      " [ -6   8  -2   9   4]\n",
      " [-10   3   2   0  -7]\n",
      " [ -4  -7   5   0   5]\n",
      " [ -7  -1   6   1  -6]]\n",
      "\n",
      "[[False  True False False False]\n",
      " [ True False  True False False]\n",
      " [ True False False False  True]\n",
      " [ True  True False False False]\n",
      " [ True  True False False  True]]\n"
     ]
    }
   ],
   "source": [
    "M = np.random.randint(low=-10, high=10, size=(5, 5))\n",
    "print(M, end = '\\n\\n')\n",
    "print(M < 0)\n"
   ]
  },
  {
   "cell_type": "markdown",
   "metadata": {},
   "source": [
    "We can, of course, use the resulting boolean array as a selection mask"
   ]
  },
  {
   "cell_type": "code",
   "execution_count": 171,
   "metadata": {},
   "outputs": [
    {
     "name": "stdout",
     "output_type": "stream",
     "text": [
      "[7 3 0 7 8 9 4 3 2 0 5 0 5 6 1]\n"
     ]
    }
   ],
   "source": [
    "print(M[M >= 0])"
   ]
  },
  {
   "cell_type": "markdown",
   "metadata": {},
   "source": [
    "and to assign new values"
   ]
  },
  {
   "cell_type": "code",
   "execution_count": 172,
   "metadata": {},
   "outputs": [
    {
     "name": "stdout",
     "output_type": "stream",
     "text": [
      "[[ 20  -2  20   0  20]\n",
      " [ -6  20  -2  20  20]\n",
      " [-10  20  20   0  -7]\n",
      " [ -4  -7  20   0  20]\n",
      " [ -7  -1  20  20  -6]]\n"
     ]
    }
   ],
   "source": [
    "M[M > 0] = 20\n",
    "print(M)"
   ]
  },
  {
   "cell_type": "markdown",
   "metadata": {},
   "source": [
    "When using boolean arrays in conditions, for example `if` statements and other boolean expressions, one needs to use `any` or `all`, which requires that any or all elements in the array evalute to `True`:"
   ]
  },
  {
   "cell_type": "code",
   "execution_count": 176,
   "metadata": {},
   "outputs": [
    {
     "name": "stdout",
     "output_type": "stream",
     "text": [
      "[[ 1  4]\n",
      " [ 9 16]]\n",
      "\n",
      "True\n",
      "\n",
      "False\n"
     ]
    }
   ],
   "source": [
    "M = np.array([[ 1,  4],[ 9, 16]])\n",
    "print(M)\n",
    "print()\n",
    "print((M > 5).any())\n",
    "print()\n",
    "print((M > 5).all())"
   ]
  },
  {
   "cell_type": "markdown",
   "metadata": {},
   "source": [
    "Base Python doesn't play well with boolean arrays consisting of multiple values."
   ]
  },
  {
   "cell_type": "code",
   "execution_count": 179,
   "metadata": {},
   "outputs": [
    {
     "ename": "SyntaxError",
     "evalue": "invalid syntax (<ipython-input-179-f782c26eaef9>, line 1)",
     "output_type": "error",
     "traceback": [
      "\u001b[0;36m  File \u001b[0;32m\"<ipython-input-179-f782c26eaef9>\"\u001b[0;36m, line \u001b[0;32m1\u001b[0m\n\u001b[0;31m    Uncomment to run and see Exception\u001b[0m\n\u001b[0m              ^\u001b[0m\n\u001b[0;31mSyntaxError\u001b[0m\u001b[0;31m:\u001b[0m invalid syntax\n"
     ]
    }
   ],
   "source": [
    "Uncomment to run and see Exception\n",
    "if M > 5:\n",
    "    print(\"Hello World\")"
   ]
  },
  {
   "cell_type": "code",
   "execution_count": 180,
   "metadata": {},
   "outputs": [
    {
     "name": "stdout",
     "output_type": "stream",
     "text": [
      "At least one element in M is larger than 5\n"
     ]
    }
   ],
   "source": [
    "#any\n",
    "if (M > 5).any():\n",
    "    print(\"At least one element in M is larger than 5\")\n",
    "else:\n",
    "    print(\"No element in M is larger than 5\")"
   ]
  },
  {
   "cell_type": "code",
   "execution_count": 181,
   "metadata": {
    "scrolled": true
   },
   "outputs": [
    {
     "name": "stdout",
     "output_type": "stream",
     "text": [
      "Not all elements in M are larger than 5\n"
     ]
    }
   ],
   "source": [
    "#all\n",
    "if (M > 5).all():\n",
    "    print(\"All elements in M are larger than 5\")\n",
    "else:\n",
    "    print(\"Not all elements in M are larger than 5\")"
   ]
  },
  {
   "cell_type": "markdown",
   "metadata": {},
   "source": [
    "### Arithmetic\n",
    "Arithemtical operations on NumPy arrays are performed on an element-by-element basis. We can either perform this arithmetic between an array and a scalar, i.e. a single number, or between two arrays.\n",
    "\n",
    "In the case of a scalar, the identical operation is applied to every single array entry."
   ]
  },
  {
   "cell_type": "code",
   "execution_count": 182,
   "metadata": {},
   "outputs": [
    {
     "data": {
      "text/plain": [
       "array([0, 1, 2, 3, 4])"
      ]
     },
     "execution_count": 182,
     "metadata": {},
     "output_type": "execute_result"
    }
   ],
   "source": [
    "v1 = np.arange(0, 5)\n",
    "v1"
   ]
  },
  {
   "cell_type": "code",
   "execution_count": 185,
   "metadata": {},
   "outputs": [
    {
     "data": {
      "text/plain": [
       "[0, 1, 2, 3, 4, 0, 1, 2, 3, 4]"
      ]
     },
     "execution_count": 185,
     "metadata": {},
     "output_type": "execute_result"
    }
   ],
   "source": [
    "2 * list(range(5))"
   ]
  },
  {
   "cell_type": "code",
   "execution_count": 183,
   "metadata": {},
   "outputs": [
    {
     "data": {
      "text/plain": [
       "array([0, 2, 4, 6, 8])"
      ]
     },
     "execution_count": 183,
     "metadata": {},
     "output_type": "execute_result"
    }
   ],
   "source": [
    "2 * v1"
   ]
  },
  {
   "cell_type": "code",
   "execution_count": 186,
   "metadata": {},
   "outputs": [
    {
     "data": {
      "text/plain": [
       "array([2, 3, 4, 5, 6])"
      ]
     },
     "execution_count": 186,
     "metadata": {},
     "output_type": "execute_result"
    }
   ],
   "source": [
    "v1 + 2"
   ]
  },
  {
   "cell_type": "code",
   "execution_count": 187,
   "metadata": {},
   "outputs": [
    {
     "name": "stdout",
     "output_type": "stream",
     "text": [
      "[[ 0  2  1]\n",
      " [ 1 -3 -1]\n",
      " [-3  2 -4]]\n",
      "\n",
      "[[ 0  4  2]\n",
      " [ 2 -6 -2]\n",
      " [-6  4 -8]]\n",
      "\n",
      "[[ 2  4  3]\n",
      " [ 3 -1  1]\n",
      " [-1  4 -2]]\n",
      "\n",
      "[[ 0  4  1]\n",
      " [ 1  9  1]\n",
      " [ 9  4 16]]\n"
     ]
    }
   ],
   "source": [
    "A = np.random.randint(low=-5, high=5, size=(3, 3))\n",
    "print(A)\n",
    "print()\n",
    "print(A * 2)\n",
    "print()\n",
    "print(A + 2)\n",
    "print()\n",
    "print(A ** 2)"
   ]
  },
  {
   "cell_type": "markdown",
   "metadata": {},
   "source": [
    "When we add, subtract, multiply and divide arrays with each other, the default behaviour is element-wise operations:"
   ]
  },
  {
   "cell_type": "code",
   "execution_count": 189,
   "metadata": {},
   "outputs": [
    {
     "name": "stdout",
     "output_type": "stream",
     "text": [
      "v1 [5 6 7 8 9]\n",
      "v2 [0 1 2 3 4]\n",
      "[ 5  7  9 11 13]\n",
      "[ 0  6 14 24 36]\n",
      "[   1    6   49  512 6561]\n"
     ]
    }
   ],
   "source": [
    "v1 = np.arange(start=5, stop=10)\n",
    "v2 = np.arange(start=0, stop=5)\n",
    "print('v1', v1)\n",
    "print('v2', v2)\n",
    "print(v1 + v2)\n",
    "print(v1 * v2)\n",
    "print(v1 ** v2)"
   ]
  },
  {
   "cell_type": "markdown",
   "metadata": {},
   "source": [
    "### Aggregative Functions\n",
    "We can also aggregate over arrays using several built-in functions. For example,"
   ]
  },
  {
   "cell_type": "code",
   "execution_count": 190,
   "metadata": {},
   "outputs": [
    {
     "name": "stdout",
     "output_type": "stream",
     "text": [
      "[[6 6]\n",
      " [0 7]]\n",
      "\n",
      "19\n"
     ]
    }
   ],
   "source": [
    "A = np.random.randint(low=0, high=10, size=(2, 2))\n",
    "print(A)\n",
    "print()\n",
    "print(np.sum(A))"
   ]
  },
  {
   "cell_type": "code",
   "execution_count": 194,
   "metadata": {},
   "outputs": [
    {
     "data": {
      "text/plain": [
       "nan"
      ]
     },
     "execution_count": 194,
     "metadata": {},
     "output_type": "execute_result"
    }
   ],
   "source": [
    "np.nan"
   ]
  },
  {
   "cell_type": "code",
   "execution_count": 192,
   "metadata": {},
   "outputs": [],
   "source": [
    "None"
   ]
  },
  {
   "cell_type": "markdown",
   "metadata": {},
   "source": [
    "NumPy provides many aggregation functions, but we won't discuss them in detail here.\n",
    "Additionally, most aggregates have a ``NaN``-safe counterpart that computes the result while ignoring missing values, which are marked by the special IEEE floating-point ``NaN`` value.\n",
    "Some of these ``NaN``-safe functions were not added until NumPy 1.8, so they will not be available in older NumPy versions.\n",
    "\n",
    "The following table provides a list of useful aggregation functions available in NumPy:\n",
    "\n",
    "|Function Name      |   NaN-safe Version  | Description                                   |\n",
    "|-------------------|---------------------|-----------------------------------------------|\n",
    "| ``np.sum``        | ``np.nansum``       | Compute sum of elements                       |\n",
    "| ``np.prod``       | ``np.nanprod``      | Compute product of elements                   |\n",
    "| ``np.mean``       | ``np.nanmean``      | Compute mean of elements                      |\n",
    "| ``np.std``        | ``np.nanstd``       | Compute standard deviation                    |\n",
    "| ``np.var``        | ``np.nanvar``       | Compute variance                              |\n",
    "| ``np.min``        | ``np.nanmin``       | Find minimum value                            |\n",
    "| ``np.max``        | ``np.nanmax``       | Find maximum value                            |\n",
    "| ``np.argmin``     | ``np.nanargmin``    | Find index of minimum value                   |\n",
    "| ``np.argmax``     | ``np.nanargmax``    | Find index of maximum value                   |\n",
    "| ``np.median``     | ``np.nanmedian``    | Compute median of elements                    |\n",
    "| ``np.percentile`` | ``np.nanpercentile``| Compute rank-based statistics of elements     |\n",
    "| ``np.any``        | N/A                 | Evaluate whether any elements are true        |\n",
    "| ``np.all``        | N/A                 | Evaluate whether all elements are true        |"
   ]
  },
  {
   "cell_type": "markdown",
   "metadata": {},
   "source": [
    "\"`NaN`-safe\" means that the function ignores any missing values, e.g."
   ]
  },
  {
   "cell_type": "code",
   "execution_count": 200,
   "metadata": {},
   "outputs": [
    {
     "data": {
      "text/plain": [
       "0"
      ]
     },
     "execution_count": 200,
     "metadata": {},
     "output_type": "execute_result"
    }
   ],
   "source": [
    "np.nan"
   ]
  },
  {
   "cell_type": "code",
   "execution_count": 195,
   "metadata": {},
   "outputs": [
    {
     "name": "stdout",
     "output_type": "stream",
     "text": [
      "[[ 1.  2.]\n",
      " [ 3. nan]]\n",
      "\n",
      "nan\n",
      "6.0\n"
     ]
    }
   ],
   "source": [
    "A = np.array([[1, 2], [3, np.nan]])\n",
    "print(A)\n",
    "print()\n",
    "print(np.sum(A))\n",
    "print(np.nansum(A))"
   ]
  },
  {
   "cell_type": "markdown",
   "metadata": {},
   "source": [
    "We can apply these functions either to entire arrays or individual axes. To understand how the `axis` parameter works it's best to stop thinking of arrays as rows and columns but as nested lists. `axis=0` performs an operation along the outer-most dimension, e.g. if \n",
    "\n",
    "$$A = \\begin{matrix} [[1 & 5] \\\\ [2 & 2]] \\end{matrix}$$\n",
    "\n",
    "then the two arrays (1, 5) and (2, 2) would be added together elementwise, resulting in (3, 7). For `axis=1`, the individual elements of each array in the next layer would be added together, i.e. (1 + 5, 2 + 2) = (6, 4)."
   ]
  },
  {
   "cell_type": "code",
   "execution_count": 196,
   "metadata": {},
   "outputs": [
    {
     "name": "stdout",
     "output_type": "stream",
     "text": [
      "[[1 5]\n",
      " [2 2]]\n",
      "\n",
      "[3 7]\n",
      "\n",
      "[6 4]\n"
     ]
    }
   ],
   "source": [
    "A = np.array([[1, 5], [2, 2]])\n",
    "print(A)\n",
    "print()\n",
    "print(np.sum(A, axis=0))\n",
    "print()\n",
    "print(np.sum(A, axis=1))"
   ]
  },
  {
   "cell_type": "markdown",
   "metadata": {},
   "source": [
    "### Vectorization\n",
    "\n",
    "Vectorization in NumPy refers to the implementation of mathematical operations in compiled C code rather than interpreted Python code. This provides a substantial performance boost. Furthermore, due to NumPy's more intuitive treatment of array arithmetic, as much of a program's math should be formulated in terms of NumPy operations. Many packages, like Pandas, SciPy, and Scikit-Learn make use of this vectorization."
   ]
  },
  {
   "cell_type": "code",
   "execution_count": 197,
   "metadata": {
    "scrolled": true
   },
   "outputs": [
    {
     "name": "stdout",
     "output_type": "stream",
     "text": [
      "[1, 2, 3, 4, 5, 1, 2, 3, 4, 5]\n",
      "[ 2  4  6  8 10]\n"
     ]
    }
   ],
   "source": [
    "# More intuitive treatment of lists versus arrays\n",
    "lis = [1,2,3,4,5]\n",
    "print(lis + lis)\n",
    "\n",
    "ary = np.array(lis)\n",
    "print(ary + ary)"
   ]
  },
  {
   "cell_type": "markdown",
   "metadata": {},
   "source": [
    "Achieving the same result in base Python requires loops"
   ]
  },
  {
   "cell_type": "code",
   "execution_count": null,
   "metadata": {},
   "outputs": [],
   "source": [
    "[x+x for x in lis]"
   ]
  },
  {
   "cell_type": "markdown",
   "metadata": {},
   "source": [
    "This takes substantially longer. NumPy is faster by a factor of over 100 when adding large lists together."
   ]
  },
  {
   "cell_type": "code",
   "execution_count": 198,
   "metadata": {},
   "outputs": [
    {
     "name": "stdout",
     "output_type": "stream",
     "text": [
      "861 µs ± 41.3 µs per loop (mean ± std. dev. of 7 runs, 1000 loops each)\n",
      "11.7 µs ± 4.05 µs per loop (mean ± std. dev. of 7 runs, 100000 loops each)\n"
     ]
    }
   ],
   "source": [
    "lis = [i for i in range(10000)]\n",
    "ary = np.array(lis)\n",
    "%timeit [x+x for x in lis]\n",
    "%timeit ary + ary"
   ]
  },
  {
   "cell_type": "markdown",
   "metadata": {},
   "source": [
    "We call operations on numpy arrays **vectorized**. This feature is the reason NumPy sits at the base of so many numerical and scientific Python libraries, e.g. scipy, scikit-learn and Pandas."
   ]
  },
  {
   "cell_type": "markdown",
   "metadata": {},
   "source": [
    "### Excercises"
   ]
  },
  {
   "cell_type": "markdown",
   "metadata": {},
   "source": [
    "#### Exercise 1\n",
    "Create two 8x8 arrays of random integers. The first should have only negative numbers between -10 and -1 (inclusive) and the second should have only positive numbers between 1 and 10 (inclusive). Add them together and save the result as a variable `A`."
   ]
  },
  {
   "cell_type": "code",
   "execution_count": null,
   "metadata": {},
   "outputs": [],
   "source": [
    "### Your code here"
   ]
  },
  {
   "cell_type": "code",
   "execution_count": 201,
   "metadata": {},
   "outputs": [],
   "source": [
    "m1 = np.random.randint(low = -10, high = -1, \n",
    "                       size = (8, 8))\n",
    "\n",
    "m2 = np.random.randint(low = 1, high = 10, \n",
    "                       size = (8, 8))\n",
    "\n",
    "A = m1 + m2"
   ]
  },
  {
   "cell_type": "code",
   "execution_count": 203,
   "metadata": {},
   "outputs": [
    {
     "name": "stdout",
     "output_type": "stream",
     "text": [
      "[[ -8  -7  -5  -6  -8  -6  -7  -3]\n",
      " [-10 -10  -5  -4  -4  -5  -4  -6]\n",
      " [ -3  -7  -8  -7  -2  -3  -9  -5]\n",
      " [ -7 -10  -4  -8  -7  -6  -2  -2]\n",
      " [ -5  -8  -3  -5 -10  -2  -4  -8]\n",
      " [-10  -5  -7  -8  -7  -4  -6  -9]\n",
      " [ -7  -9  -6  -2  -2  -8  -8  -3]\n",
      " [ -8  -9  -8  -3  -9 -10  -5  -7]]\n"
     ]
    }
   ],
   "source": [
    "print(m1)"
   ]
  },
  {
   "cell_type": "code",
   "execution_count": 204,
   "metadata": {},
   "outputs": [
    {
     "name": "stdout",
     "output_type": "stream",
     "text": [
      "[[6 3 7 2 2 6 3 6]\n",
      " [7 5 7 8 8 4 1 3]\n",
      " [6 2 2 1 4 7 8 4]\n",
      " [7 5 9 7 6 1 1 6]\n",
      " [2 4 3 4 2 1 7 6]\n",
      " [3 1 1 2 6 3 4 7]\n",
      " [2 5 4 2 5 5 6 7]\n",
      " [4 5 4 8 8 3 5 1]]\n"
     ]
    }
   ],
   "source": [
    "print(m2)"
   ]
  },
  {
   "cell_type": "code",
   "execution_count": 202,
   "metadata": {},
   "outputs": [
    {
     "name": "stdout",
     "output_type": "stream",
     "text": [
      "[[-2 -4  2 -4 -6  0 -4  3]\n",
      " [-3 -5  2  4  4 -1 -3 -3]\n",
      " [ 3 -5 -6 -6  2  4 -1 -1]\n",
      " [ 0 -5  5 -1 -1 -5 -1  4]\n",
      " [-3 -4  0 -1 -8 -1  3 -2]\n",
      " [-7 -4 -6 -6 -1 -1 -2 -2]\n",
      " [-5 -4 -2  0  3 -3 -2  4]\n",
      " [-4 -4 -4  5 -1 -7  0 -6]]\n"
     ]
    }
   ],
   "source": [
    "print(A)"
   ]
  },
  {
   "cell_type": "markdown",
   "metadata": {},
   "source": [
    "#### Exercise 2\n",
    "Calculate the mean of the entire matrix `A`."
   ]
  },
  {
   "cell_type": "code",
   "execution_count": null,
   "metadata": {},
   "outputs": [],
   "source": [
    "### Your code here"
   ]
  },
  {
   "cell_type": "code",
   "execution_count": 205,
   "metadata": {},
   "outputs": [
    {
     "data": {
      "text/plain": [
       "-1.703125"
      ]
     },
     "execution_count": 205,
     "metadata": {},
     "output_type": "execute_result"
    }
   ],
   "source": [
    "np.mean(A)"
   ]
  },
  {
   "cell_type": "code",
   "execution_count": 210,
   "metadata": {},
   "outputs": [
    {
     "data": {
      "text/plain": [
       "-1.703125"
      ]
     },
     "execution_count": 210,
     "metadata": {},
     "output_type": "execute_result"
    }
   ],
   "source": [
    "np.nanmean(A)"
   ]
  },
  {
   "cell_type": "code",
   "execution_count": 211,
   "metadata": {},
   "outputs": [
    {
     "data": {
      "text/plain": [
       "dtype('int64')"
      ]
     },
     "execution_count": 211,
     "metadata": {},
     "output_type": "execute_result"
    }
   ],
   "source": [
    "A.dtype"
   ]
  },
  {
   "cell_type": "code",
   "execution_count": 208,
   "metadata": {},
   "outputs": [
    {
     "name": "stdout",
     "output_type": "stream",
     "text": [
      "The slowest run took 4.38 times longer than the fastest. This could mean that an intermediate result is being cached.\n",
      "23.3 µs ± 14 µs per loop (mean ± std. dev. of 7 runs, 10000 loops each)\n",
      "15.7 µs ± 616 ns per loop (mean ± std. dev. of 7 runs, 100000 loops each)\n"
     ]
    }
   ],
   "source": [
    "%timeit np.mean(A)\n",
    "%timeit np.nanmean(A)"
   ]
  },
  {
   "cell_type": "markdown",
   "metadata": {},
   "source": [
    "#### Exercise 3\n",
    "How many of the entries of the resulting matrix `A` are positive, negative, and zero?"
   ]
  },
  {
   "cell_type": "code",
   "execution_count": 212,
   "metadata": {},
   "outputs": [
    {
     "name": "stdout",
     "output_type": "stream",
     "text": [
      "2 1 1 0 2 0\n"
     ]
    }
   ],
   "source": [
    "## hint for idea\n",
    "\n",
    "print(True + True, \n",
    "      True + False, \n",
    "      True - False,\n",
    "      False + False, \n",
    "      2 * True, \n",
    "      2 * False)"
   ]
  },
  {
   "cell_type": "code",
   "execution_count": null,
   "metadata": {},
   "outputs": [],
   "source": [
    "### Your code here"
   ]
  },
  {
   "cell_type": "code",
   "execution_count": 213,
   "metadata": {},
   "outputs": [
    {
     "data": {
      "text/plain": [
       "14"
      ]
     },
     "execution_count": 213,
     "metadata": {},
     "output_type": "execute_result"
    }
   ],
   "source": [
    "# positive \n",
    "counter = 0\n",
    "for row in A: \n",
    "    for col in row: \n",
    "        if col > 0:\n",
    "            counter += 1\n",
    "\n",
    "counter"
   ]
  },
  {
   "cell_type": "code",
   "execution_count": 215,
   "metadata": {},
   "outputs": [
    {
     "data": {
      "text/plain": [
       "45"
      ]
     },
     "execution_count": 215,
     "metadata": {},
     "output_type": "execute_result"
    }
   ],
   "source": [
    "# negative \n",
    "mask = A < 0\n",
    "len(A[mask])"
   ]
  },
  {
   "cell_type": "code",
   "execution_count": 216,
   "metadata": {},
   "outputs": [
    {
     "data": {
      "text/plain": [
       "5"
      ]
     },
     "execution_count": 216,
     "metadata": {},
     "output_type": "execute_result"
    }
   ],
   "source": [
    "# zero \n",
    "np.count_nonzero(A == 0)"
   ]
  },
  {
   "cell_type": "code",
   "execution_count": 218,
   "metadata": {},
   "outputs": [
    {
     "data": {
      "text/plain": [
       "(14, 45, 5)"
      ]
     },
     "execution_count": 218,
     "metadata": {},
     "output_type": "execute_result"
    }
   ],
   "source": [
    "np.sum(A > 0), np.nansum(A < 0), np.sum(A == 0)"
   ]
  },
  {
   "cell_type": "code",
   "execution_count": null,
   "metadata": {},
   "outputs": [],
   "source": []
  },
  {
   "cell_type": "markdown",
   "metadata": {},
   "source": [
    "#### Exercise 4\n",
    "Calculate the mean of every row and column of the matrix `A`"
   ]
  },
  {
   "cell_type": "code",
   "execution_count": null,
   "metadata": {},
   "outputs": [],
   "source": [
    "### Your code here"
   ]
  },
  {
   "cell_type": "code",
   "execution_count": 221,
   "metadata": {},
   "outputs": [
    {
     "name": "stdout",
     "output_type": "stream",
     "text": [
      "[[-2 -4  2 -4 -6  0 -4  3]\n",
      " [-3 -5  2  4  4 -1 -3 -3]\n",
      " [ 3 -5 -6 -6  2  4 -1 -1]\n",
      " [ 0 -5  5 -1 -1 -5 -1  4]\n",
      " [-3 -4  0 -1 -8 -1  3 -2]\n",
      " [-7 -4 -6 -6 -1 -1 -2 -2]\n",
      " [-5 -4 -2  0  3 -3 -2  4]\n",
      " [-4 -4 -4  5 -1 -7  0 -6]]\n"
     ]
    }
   ],
   "source": [
    "print(A)"
   ]
  },
  {
   "cell_type": "code",
   "execution_count": 222,
   "metadata": {},
   "outputs": [
    {
     "data": {
      "text/plain": [
       "-1.875"
      ]
     },
     "execution_count": 222,
     "metadata": {},
     "output_type": "execute_result"
    }
   ],
   "source": [
    "(-2 -4 + 2 -4 -6 + 0 -4 + 3)/8"
   ]
  },
  {
   "cell_type": "code",
   "execution_count": 223,
   "metadata": {},
   "outputs": [
    {
     "data": {
      "text/plain": [
       "-2.625"
      ]
     },
     "execution_count": 223,
     "metadata": {},
     "output_type": "execute_result"
    }
   ],
   "source": [
    "(-2 -3 + 3 + 0 -3 -7 -5 -4)/8"
   ]
  },
  {
   "cell_type": "code",
   "execution_count": 220,
   "metadata": {},
   "outputs": [
    {
     "name": "stdout",
     "output_type": "stream",
     "text": [
      "[-1.875 -0.625 -1.25  -0.5   -2.    -3.625 -1.125 -2.625]\n",
      "[-2.625 -4.375 -1.125 -1.125 -1.    -1.75  -1.25  -0.375]\n"
     ]
    }
   ],
   "source": [
    "## row\n",
    "print(np.nanmean(A, axis = 1))\n",
    "\n",
    "## col\n",
    "print(np.nanmean(A, axis = 0))\n"
   ]
  },
  {
   "cell_type": "markdown",
   "metadata": {},
   "source": [
    "## Advanced Manipulation "
   ]
  },
  {
   "cell_type": "markdown",
   "metadata": {},
   "source": [
    "### Reshaping and Transposing\n",
    "On disk, NumPy arrays are stored by their values and their shapes separately. That means we can change the shape of an array very quickly, regardless of the actual size. The array dimensions must match, i.e. the new shape must have space for exactly as many elements as the old shape. \n",
    "\n",
    "Elements are reshaped in an \"inside-out\" fashion. That means the inner-most dimensions are filled with values first and then combined in the outer dimensions. In the context of 2D matrices, this means that values are set rows-first."
   ]
  },
  {
   "cell_type": "code",
   "execution_count": 224,
   "metadata": {},
   "outputs": [
    {
     "name": "stdout",
     "output_type": "stream",
     "text": [
      "[ 0  1  2  3  4  5  6  7  8  9 10 11]\n",
      "\n",
      "[[ 0  1  2  3]\n",
      " [ 4  5  6  7]\n",
      " [ 8  9 10 11]]\n",
      "\n",
      "[[ 0  1]\n",
      " [ 2  3]\n",
      " [ 4  5]\n",
      " [ 6  7]\n",
      " [ 8  9]\n",
      " [10 11]]\n"
     ]
    }
   ],
   "source": [
    "a = np.arange(12)\n",
    "print(a)\n",
    "print()\n",
    "print(a.reshape(3, 4))\n",
    "print()\n",
    "print(a.reshape(6, 2))"
   ]
  },
  {
   "cell_type": "markdown",
   "metadata": {},
   "source": [
    "Alternatively, we can also transpose matrices. Transposing means that the order of dimensions become flipped, i.e. the first dimensions becomes the last, the last the first, etc. Consequently, transposing 1D arrays has no effect."
   ]
  },
  {
   "cell_type": "code",
   "execution_count": 225,
   "metadata": {},
   "outputs": [
    {
     "name": "stdout",
     "output_type": "stream",
     "text": [
      "[ 0  1  2  3  4  5  6  7  8  9 10 11]\n",
      "[ 0  1  2  3  4  5  6  7  8  9 10 11]\n"
     ]
    }
   ],
   "source": [
    "print(a)\n",
    "print(a.transpose())"
   ]
  },
  {
   "cell_type": "markdown",
   "metadata": {},
   "source": [
    "Transposing 2D arrays means that rows become columns and columns become rows."
   ]
  },
  {
   "cell_type": "code",
   "execution_count": 227,
   "metadata": {},
   "outputs": [
    {
     "name": "stdout",
     "output_type": "stream",
     "text": [
      "[[ 0  1  2  3  4]\n",
      " [ 5  6  7  8  9]\n",
      " [10 11 12 13 14]]\n",
      "\n",
      "[[ 0  5 10]\n",
      " [ 1  6 11]\n",
      " [ 2  7 12]\n",
      " [ 3  8 13]\n",
      " [ 4  9 14]]\n",
      "(5, 3)\n"
     ]
    }
   ],
   "source": [
    "A = np.arange(15).reshape(3, 5)\n",
    "print(A)\n",
    "print()\n",
    "print(A.transpose())\n",
    "print(A.transpose().shape)"
   ]
  },
  {
   "cell_type": "markdown",
   "metadata": {},
   "source": [
    "For higher-dimensional arrays, the order of the dimensions reverses. Within this new shape, values are then set in the same \"inside-out\" fashion."
   ]
  },
  {
   "cell_type": "code",
   "execution_count": 229,
   "metadata": {},
   "outputs": [
    {
     "data": {
      "text/plain": [
       "720"
      ]
     },
     "execution_count": 229,
     "metadata": {},
     "output_type": "execute_result"
    }
   ],
   "source": [
    "np.prod((2, 3, 4, 5, 6))"
   ]
  },
  {
   "cell_type": "code",
   "execution_count": 230,
   "metadata": {},
   "outputs": [
    {
     "name": "stdout",
     "output_type": "stream",
     "text": [
      "(2, 3, 4, 5, 6)\n",
      "\n",
      "(6, 5, 4, 3, 2)\n"
     ]
    }
   ],
   "source": [
    "A = np.random.randint(low=-5, high=5, \n",
    "                      size=(2, 3, 4, 5, 6))\n",
    "print(A.shape)\n",
    "print()\n",
    "print(A.transpose().shape)"
   ]
  },
  {
   "cell_type": "markdown",
   "metadata": {},
   "source": [
    "Alternatively, we can also define how we want to reorder the dimensions."
   ]
  },
  {
   "cell_type": "code",
   "execution_count": 231,
   "metadata": {},
   "outputs": [
    {
     "name": "stdout",
     "output_type": "stream",
     "text": [
      "(2, 3, 4, 5, 6)\n",
      "\n",
      "(2, 3, 4, 6, 5)\n"
     ]
    }
   ],
   "source": [
    "print(A.shape)\n",
    "print()\n",
    "print(A.transpose((0, 1, 2, 4, 3)).shape)"
   ]
  },
  {
   "cell_type": "markdown",
   "metadata": {},
   "source": [
    "To help you understand what is happening here, it is easiest to picture this as creating an empty array with a specified shape and then filling it with the values of the original array, even though this isn't actually what happens \"under the hood\"."
   ]
  },
  {
   "cell_type": "markdown",
   "metadata": {},
   "source": [
    "### Adding a new dimension with `newaxis`\n",
    "\n",
    "With newaxis, we can insert new dimensions in an array, for example converting a vector to a column or row matrix."
   ]
  },
  {
   "cell_type": "code",
   "execution_count": 232,
   "metadata": {
    "scrolled": true
   },
   "outputs": [
    {
     "name": "stdout",
     "output_type": "stream",
     "text": [
      "[0 1 2 3 4]\n",
      "(5,)\n",
      "\n",
      "[[0 1 2 3 4]]\n",
      "(1, 5)\n",
      "\n",
      "[[0]\n",
      " [1]\n",
      " [2]\n",
      " [3]\n",
      " [4]]\n",
      "(5, 1)\n",
      "\n"
     ]
    }
   ],
   "source": [
    "v = np.arange(5)\n",
    "print(v)\n",
    "print(v.shape)\n",
    "print()\n",
    "v2 = v[np.newaxis, :]\n",
    "print(v2)\n",
    "print(v2.shape)\n",
    "print()\n",
    "v3 = v[:, np.newaxis]\n",
    "print(v3)\n",
    "print(v3.shape)\n",
    "print()"
   ]
  },
  {
   "cell_type": "code",
   "execution_count": 237,
   "metadata": {},
   "outputs": [
    {
     "data": {
      "text/plain": [
       "array([[ True],\n",
       "       [ True],\n",
       "       [ True],\n",
       "       [ True],\n",
       "       [ True]])"
      ]
     },
     "execution_count": 237,
     "metadata": {},
     "output_type": "execute_result"
    }
   ],
   "source": [
    "v.reshape((5, 1)) == v3"
   ]
  },
  {
   "cell_type": "markdown",
   "metadata": {},
   "source": [
    "### Concatenation and Splitting\n",
    "We can concatenate arrays along given axes. In order to be concatenated, they must have the same number of dimensions and their shapes must match in all dimensions but the one being concatenated along"
   ]
  },
  {
   "cell_type": "code",
   "execution_count": 238,
   "metadata": {},
   "outputs": [
    {
     "name": "stdout",
     "output_type": "stream",
     "text": [
      "A\n",
      "[0 1 2 3 4 5 6 7 8 9]\n",
      "(10,)\n",
      "\n",
      "B\n",
      "[[20 21 22 23 24 25 26 27 28 29]\n",
      " [30 31 32 33 34 35 36 37 38 39]]\n",
      "(2, 10)\n",
      "\n"
     ]
    }
   ],
   "source": [
    "A = np.arange(10)\n",
    "B = np.arange(20, 40).reshape((2,10))\n",
    "print('A')\n",
    "print(A)\n",
    "print(A.shape)\n",
    "print()\n",
    "print('B')\n",
    "print(B)\n",
    "print(B.shape)\n",
    "print()"
   ]
  },
  {
   "cell_type": "code",
   "execution_count": 240,
   "metadata": {},
   "outputs": [
    {
     "name": "stdout",
     "output_type": "stream",
     "text": [
      "[0 1 2 3 4 5 6 7 8 9 0 1 2 3 4 5 6 7 8 9]\n"
     ]
    }
   ],
   "source": [
    "print(np.concatenate((A, A)))"
   ]
  },
  {
   "cell_type": "code",
   "execution_count": 242,
   "metadata": {},
   "outputs": [
    {
     "name": "stdout",
     "output_type": "stream",
     "text": [
      "[[20 21 22 23 24 25 26 27 28 29]\n",
      " [30 31 32 33 34 35 36 37 38 39]\n",
      " [20 21 22 23 24 25 26 27 28 29]\n",
      " [30 31 32 33 34 35 36 37 38 39]]\n"
     ]
    }
   ],
   "source": [
    "print(np.concatenate((B, B)))"
   ]
  },
  {
   "cell_type": "code",
   "execution_count": 243,
   "metadata": {},
   "outputs": [
    {
     "data": {
      "text/plain": [
       "(4, 10)"
      ]
     },
     "execution_count": 243,
     "metadata": {},
     "output_type": "execute_result"
    }
   ],
   "source": [
    "np.concatenate((B, B)).shape"
   ]
  },
  {
   "cell_type": "markdown",
   "metadata": {},
   "source": [
    "By default, `np.concatenate` will combine arrays along `axis=0`. We can specify the axis along which to concatenate, however."
   ]
  },
  {
   "cell_type": "code",
   "execution_count": 244,
   "metadata": {},
   "outputs": [
    {
     "name": "stdout",
     "output_type": "stream",
     "text": [
      "[[20 21 22 23 24 25 26 27 28 29 20 21 22 23 24 25 26 27 28 29]\n",
      " [30 31 32 33 34 35 36 37 38 39 30 31 32 33 34 35 36 37 38 39]]\n"
     ]
    }
   ],
   "source": [
    "print(np.concatenate((B, B), axis=1))"
   ]
  },
  {
   "cell_type": "markdown",
   "metadata": {},
   "source": [
    "While `np.concatenate` joins arrays along existing axes, `np.stack` combines them along new axes. This is equivalent to reshaping the arrays, e.g. with `np.newaxis` and then concatenating them along this new axis."
   ]
  },
  {
   "cell_type": "code",
   "execution_count": 245,
   "metadata": {
    "scrolled": true
   },
   "outputs": [
    {
     "name": "stdout",
     "output_type": "stream",
     "text": [
      "[0 1 2 3 4 5 6 7 8 9]\n",
      "(10,)\n",
      "\n",
      "[[0 1 2 3 4 5 6 7 8 9]\n",
      " [0 1 2 3 4 5 6 7 8 9]]\n",
      "(2, 10)\n",
      "\n",
      "[[0 0]\n",
      " [1 1]\n",
      " [2 2]\n",
      " [3 3]\n",
      " [4 4]\n",
      " [5 5]\n",
      " [6 6]\n",
      " [7 7]\n",
      " [8 8]\n",
      " [9 9]]\n",
      "(10, 2)\n",
      "\n",
      "[[0 0]\n",
      " [1 1]\n",
      " [2 2]\n",
      " [3 3]\n",
      " [4 4]\n",
      " [5 5]\n",
      " [6 6]\n",
      " [7 7]\n",
      " [8 8]\n",
      " [9 9]]\n",
      "(10, 2)\n"
     ]
    }
   ],
   "source": [
    "print(A)\n",
    "print(A.shape)\n",
    "print()\n",
    "A2 = np.stack((A, A), axis=0)\n",
    "print(A2)\n",
    "print(A2.shape)\n",
    "print()\n",
    "A3 = np.stack((A, A), axis=1)\n",
    "print(A3)\n",
    "print(A3.shape)\n",
    "print()\n",
    "# newaxis at axis=1 and concatenate at axis=1\n",
    "A4 = A[..., np.newaxis]\n",
    "A4 = np.concatenate((A4, A4), axis=1)\n",
    "print(A4)\n",
    "print(A4.shape)"
   ]
  },
  {
   "cell_type": "code",
   "execution_count": 260,
   "metadata": {},
   "outputs": [
    {
     "name": "stdout",
     "output_type": "stream",
     "text": [
      "[[[20 21 22 23 24 25 26 27 28 29]\n",
      "  [30 31 32 33 34 35 36 37 38 39]]\n",
      "\n",
      " [[20 21 22 23 24 25 26 27 28 29]\n",
      "  [30 31 32 33 34 35 36 37 38 39]]]\n"
     ]
    }
   ],
   "source": [
    "# print(B)\n",
    "# print(B[np.newaxis, ...])\n",
    "print(np.concatenate(\n",
    "    (B[np.newaxis, ...], \n",
    "     B[np.newaxis, ...]), \n",
    "    axis = 0\n",
    "))"
   ]
  },
  {
   "cell_type": "code",
   "execution_count": 261,
   "metadata": {},
   "outputs": [
    {
     "name": "stdout",
     "output_type": "stream",
     "text": [
      "[[[20 21 22 23 24 25 26 27 28 29]\n",
      "  [30 31 32 33 34 35 36 37 38 39]]\n",
      "\n",
      " [[20 21 22 23 24 25 26 27 28 29]\n",
      "  [30 31 32 33 34 35 36 37 38 39]]]\n",
      "\n",
      "[[[20 21 22 23 24 25 26 27 28 29]\n",
      "  [30 31 32 33 34 35 36 37 38 39]]\n",
      "\n",
      " [[20 21 22 23 24 25 26 27 28 29]\n",
      "  [30 31 32 33 34 35 36 37 38 39]]]\n"
     ]
    }
   ],
   "source": [
    "print(np.stack((B, B), axis = 0))\n",
    "\n",
    "###########################\n",
    "print()\n",
    "\n",
    "print(np.concatenate((B[np.newaxis, ...], \n",
    "                      B[np.newaxis, ...]), \n",
    "                     axis = 0))"
   ]
  },
  {
   "cell_type": "code",
   "execution_count": 253,
   "metadata": {},
   "outputs": [
    {
     "name": "stdout",
     "output_type": "stream",
     "text": [
      "(2, 10)\n",
      "\n",
      "[[[20 21 22 23 24 25 26 27 28 29]\n",
      "  [30 31 32 33 34 35 36 37 38 39]]\n",
      "\n",
      " [[20 21 22 23 24 25 26 27 28 29]\n",
      "  [30 31 32 33 34 35 36 37 38 39]]]\n",
      "\n",
      "(2, 2, 10)\n"
     ]
    }
   ],
   "source": [
    "print(B.shape, end = '\\n\\n')\n",
    "print(np.stack((B, B), axis = 0), end = '\\n\\n')\n",
    "print(np.stack((B, B), axis = 0).shape)"
   ]
  },
  {
   "cell_type": "code",
   "execution_count": 263,
   "metadata": {},
   "outputs": [
    {
     "name": "stdout",
     "output_type": "stream",
     "text": [
      "[[[20 21 22 23 24 25 26 27 28 29]\n",
      "  [20 21 22 23 24 25 26 27 28 29]]\n",
      "\n",
      " [[30 31 32 33 34 35 36 37 38 39]\n",
      "  [30 31 32 33 34 35 36 37 38 39]]]\n",
      "\n",
      "[[[20 21 22 23 24 25 26 27 28 29]\n",
      "  [20 21 22 23 24 25 26 27 28 29]]\n",
      "\n",
      " [[30 31 32 33 34 35 36 37 38 39]\n",
      "  [30 31 32 33 34 35 36 37 38 39]]]\n"
     ]
    }
   ],
   "source": [
    "print(np.stack((B, B), axis = 1))\n",
    "## shape asal (2, 10)\n",
    "##            (0,  1)\n",
    "\n",
    "###########################\n",
    "print()\n",
    "\n",
    "print(np.concatenate((B.reshape((2, 1, 10)), \n",
    "                      B.reshape((2, 1, 10))), \n",
    "                     axis = 1))"
   ]
  },
  {
   "cell_type": "code",
   "execution_count": 254,
   "metadata": {},
   "outputs": [
    {
     "name": "stdout",
     "output_type": "stream",
     "text": [
      "(2, 10)\n",
      "\n",
      "[[[20 21 22 23 24 25 26 27 28 29]\n",
      "  [20 21 22 23 24 25 26 27 28 29]]\n",
      "\n",
      " [[30 31 32 33 34 35 36 37 38 39]\n",
      "  [30 31 32 33 34 35 36 37 38 39]]]\n",
      "\n",
      "(2, 2, 10)\n"
     ]
    }
   ],
   "source": [
    "print(B.shape, end = '\\n\\n')\n",
    "print(np.stack((B, B), axis = 1), end = '\\n\\n')\n",
    "print(np.stack((B, B), axis = 1).shape)"
   ]
  },
  {
   "cell_type": "markdown",
   "metadata": {},
   "source": [
    "We can also split arrays along a certain axis into sections. We can either dictate how many equally sized parts the array should be split into or we can determine specifically where to split the array"
   ]
  },
  {
   "cell_type": "code",
   "execution_count": 264,
   "metadata": {},
   "outputs": [
    {
     "name": "stdout",
     "output_type": "stream",
     "text": [
      "[ 0  1  2  3  4  5  6  7  8  9 10 11]\n",
      "\n",
      "[array([0, 1, 2, 3]), array([4, 5, 6, 7]), array([ 8,  9, 10, 11])]\n",
      "\n",
      "[array([0, 1]), array([2]), array([3, 4, 5, 6, 7]), array([ 8,  9, 10, 11])]\n"
     ]
    }
   ],
   "source": [
    "A = np.arange(12)\n",
    "print(A)\n",
    "print()\n",
    "# Split into 3 equally sized parts\n",
    "print(np.split(A, 3))\n",
    "print()\n",
    "# Split at specific indices\n",
    "print(np.split(A, (2, 3, 8)))"
   ]
  },
  {
   "cell_type": "markdown",
   "metadata": {},
   "source": [
    "The `axis` argument allows us to determine along which axis to split the array"
   ]
  },
  {
   "cell_type": "code",
   "execution_count": 267,
   "metadata": {},
   "outputs": [
    {
     "name": "stdout",
     "output_type": "stream",
     "text": [
      "[[20 21 22 23 24 25 26 27 28 29]\n",
      " [30 31 32 33 34 35 36 37 38 39]]\n",
      "\n"
     ]
    },
    {
     "data": {
      "text/plain": [
       "[array([[20, 21, 22, 23, 24, 25, 26, 27, 28, 29]]),\n",
       " array([[30, 31, 32, 33, 34, 35, 36, 37, 38, 39]])]"
      ]
     },
     "metadata": {},
     "output_type": "display_data"
    },
    {
     "name": "stdout",
     "output_type": "stream",
     "text": [
      "\n"
     ]
    },
    {
     "data": {
      "text/plain": [
       "[array([[20, 21, 22, 23, 24],\n",
       "        [30, 31, 32, 33, 34]]),\n",
       " array([[25, 26, 27, 28, 29],\n",
       "        [35, 36, 37, 38, 39]])]"
      ]
     },
     "metadata": {},
     "output_type": "display_data"
    }
   ],
   "source": [
    "print(B)\n",
    "print()\n",
    "display(np.split(B, 2, axis=0))\n",
    "print()\n",
    "display(np.split(B, 2, axis=1))"
   ]
  },
  {
   "cell_type": "markdown",
   "metadata": {},
   "source": [
    "### Exercises"
   ]
  },
  {
   "cell_type": "markdown",
   "metadata": {},
   "source": [
    "#### Exercise 1\n",
    "Let x be array\n",
    "    \n",
    "    [[1, 2, 3], \n",
    "     [4, 5, 6]].\n",
    "\n",
    "Convert it to \n",
    "    \n",
    "    [[1 4 2 5 3 6]]"
   ]
  },
  {
   "cell_type": "code",
   "execution_count": 276,
   "metadata": {},
   "outputs": [
    {
     "data": {
      "text/plain": [
       "array([[1, 2, 3],\n",
       "       [4, 5, 6]])"
      ]
     },
     "execution_count": 276,
     "metadata": {},
     "output_type": "execute_result"
    }
   ],
   "source": [
    "from numpy import array\n",
    "from numpy import concatenate\n",
    "\n",
    "x = array([[1, 2, 3], \n",
    "           [4, 5, 6]])\n",
    "x"
   ]
  },
  {
   "cell_type": "code",
   "execution_count": null,
   "metadata": {},
   "outputs": [],
   "source": [
    "### Your code here"
   ]
  },
  {
   "cell_type": "code",
   "execution_count": 279,
   "metadata": {},
   "outputs": [
    {
     "data": {
      "text/plain": [
       "array([[1, 4, 2, 5, 3, 6]])"
      ]
     },
     "execution_count": 279,
     "metadata": {},
     "output_type": "execute_result"
    }
   ],
   "source": [
    "x.transpose().reshape((1, 6))"
   ]
  },
  {
   "cell_type": "code",
   "execution_count": 282,
   "metadata": {},
   "outputs": [
    {
     "data": {
      "text/plain": [
       "array([[1, 4, 2, 5, 3, 6]])"
      ]
     },
     "execution_count": 282,
     "metadata": {},
     "output_type": "execute_result"
    }
   ],
   "source": [
    "x.reshape((1, 6), order = 'F')"
   ]
  },
  {
   "cell_type": "markdown",
   "metadata": {},
   "source": [
    "#### Exercise 2\n",
    "Let x be an array\n",
    "\n",
    "    [[1, 2, 3]\n",
    "     [4, 5, 6]]\n",
    "\n",
    "and y be an array\n",
    "\n",
    "    [[ 7,  8,  9]\n",
    "     [10, 11, 12]]\n",
    "\n",
    "Concatenate x and y so that a new array looks like\n",
    "\n",
    "    [[1, 2, 3,  7,  8,  9]\n",
    "     [4, 5, 6, 10, 11, 12]]"
   ]
  },
  {
   "cell_type": "code",
   "execution_count": null,
   "metadata": {},
   "outputs": [],
   "source": [
    "### Your code here"
   ]
  },
  {
   "cell_type": "code",
   "execution_count": 283,
   "metadata": {},
   "outputs": [],
   "source": [
    "from numpy import array, concatenate"
   ]
  },
  {
   "cell_type": "code",
   "execution_count": 284,
   "metadata": {},
   "outputs": [],
   "source": [
    "x = array([[1, 2, 3],\n",
    "           [4, 5, 6]])\n",
    "y = array([[ 7,  8,  9], \n",
    "           [10, 11, 12]])"
   ]
  },
  {
   "cell_type": "code",
   "execution_count": 285,
   "metadata": {},
   "outputs": [
    {
     "data": {
      "text/plain": [
       "array([[ 1,  2,  3,  7,  8,  9],\n",
       "       [ 4,  5,  6, 10, 11, 12]])"
      ]
     },
     "execution_count": 285,
     "metadata": {},
     "output_type": "execute_result"
    }
   ],
   "source": [
    "concatenate((x, y), \n",
    "            axis = 1)"
   ]
  },
  {
   "cell_type": "markdown",
   "metadata": {},
   "source": [
    "#### Exercise 3\n",
    "Let x be an array [1, 2, 3, ..., 9]. Split x into 3 arrays, each of which has 4, 2, and 3 elements in the original order."
   ]
  },
  {
   "cell_type": "code",
   "execution_count": null,
   "metadata": {},
   "outputs": [],
   "source": [
    "### Your code here"
   ]
  },
  {
   "cell_type": "code",
   "execution_count": 286,
   "metadata": {},
   "outputs": [],
   "source": [
    "from numpy import arange, split"
   ]
  },
  {
   "cell_type": "code",
   "execution_count": 287,
   "metadata": {},
   "outputs": [
    {
     "data": {
      "text/plain": [
       "array([1, 2, 3, 4, 5, 6, 7, 8, 9])"
      ]
     },
     "execution_count": 287,
     "metadata": {},
     "output_type": "execute_result"
    }
   ],
   "source": [
    "x = arange(1, 10)\n",
    "x"
   ]
  },
  {
   "cell_type": "code",
   "execution_count": 289,
   "metadata": {},
   "outputs": [
    {
     "data": {
      "text/plain": [
       "[array([1, 2, 3, 4]), array([5, 6]), array([7, 8, 9])]"
      ]
     },
     "execution_count": 289,
     "metadata": {},
     "output_type": "execute_result"
    }
   ],
   "source": [
    "split(x, (4, 6))"
   ]
  }
 ],
 "metadata": {
  "anaconda-cloud": {},
  "kernelspec": {
   "display_name": "Python 3",
   "language": "python",
   "name": "python3"
  },
  "language_info": {
   "codemirror_mode": {
    "name": "ipython",
    "version": 3
   },
   "file_extension": ".py",
   "mimetype": "text/x-python",
   "name": "python",
   "nbconvert_exporter": "python",
   "pygments_lexer": "ipython3",
   "version": "3.8.5"
  }
 },
 "nbformat": 4,
 "nbformat_minor": 4
}
