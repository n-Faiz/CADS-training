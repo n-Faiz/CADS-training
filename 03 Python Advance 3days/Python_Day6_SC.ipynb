{
 "cells": [
  {
   "cell_type": "markdown",
   "metadata": {},
   "source": [
    "<img src=\"images/cads-logo.png\" width=200 align=left>\n",
    "<img src=\"images/python-logo.png\" width=200 align=right>"
   ]
  },
  {
   "cell_type": "code",
   "execution_count": null,
   "metadata": {},
   "outputs": [],
   "source": [
    "%matplotlib inline\n",
    "import seaborn as sns\n",
    "import matplotlib.pyplot as plt\n",
    "import pandas as pd\n",
    "import numpy as np\n",
    "\n",
    "# At the time of creating this material, there was a versioning issue \n",
    "# between seaborn and numpy that results in a FutureWarning. This does \n",
    "# not affect the results and will presumably be fixed in some update cycle \n",
    "# but creates an annoying warning message we don't want to see every time.\n",
    "import warnings\n",
    "warnings.simplefilter(action='ignore', category=FutureWarning)"
   ]
  },
  {
   "cell_type": "markdown",
   "metadata": {},
   "source": [
    "# Visualization with Seaborn\n",
    "- [Visualization with Seaborn](#Visualization-with-Seaborn)\n",
    "- [Introduction](#Introduction)\n",
    "- [Relationships Between Continuous Variables](#Relationships-Between-Continuous-Variables)\n",
    "    - [Scatter plots](#Scatter-plots)\n",
    "    - [Line plots](#Line-plots)\n",
    "        - [Aggregating Data](#Aggregating-Data)\n",
    "        - [Plotting Dates](#Plotting-Dates)\n",
    "    - [Exercises](#Exercises)\n",
    "- [Relationships to Categorical Variables](#Relationships-to-Categorical-Variables)\n",
    "    - [Categorical Scatter Plots](#Categorical-Scatter-Plots)\n",
    "    - [Distribution Plots](#Distribution-Plots)\n",
    "    - [Exercises](#Exercises)\n",
    "- [Element Ordering](#Element-Ordering)\n",
    "- [Facetting](#Facetting)\n",
    "- [Under the Hood](#Under-the-Hood)\n",
    "- [Customizing Plots](#Customizing-Plots)\n",
    "    - [Plot Text and Axis Labels](#Plot-Text-and-Axis-Labels)\n",
    "    - [Axis Limits](#Axis-Limits)\n",
    "    - [Color](#Color)\n",
    "- [Themes](#Themes)\n",
    "- [Saving Plots](#Saving-Plots)\n",
    "- [Exercises](#Exercises)"
   ]
  },
  {
   "cell_type": "markdown",
   "metadata": {},
   "source": [
    "## Introduction\n",
    "The base library for visualization in Python is `matplotlib`. Nearly every other library for visualizing data is built on top of it. However, despite being incredibly flexible and powerful, `matplotlib` is difficult to use for data analysis. Instead of being developed with one single API design, it has grown organically as every new update needed to ensure backwards compatibility with old code (otherwise all libraries building on it would break until updated). This continuity is part of what makes it so attractive and simultaneously complicated.\n",
    "\n",
    "Furthermore, `matplotlib` is designed to visualize *anything*, not just data. Because we're most interested in examining and presenting relationships between data, however, we will use a different library, `seaborn`. This library is specifically designed for statistical data visualization and provides a consistent and easy-to-use API."
   ]
  },
  {
   "cell_type": "markdown",
   "metadata": {},
   "source": [
    "## Relationships Between Continuous Variables\n",
    "Visualizing the relationship between continuous variables is as simple as plotting the values of both variables for each data entry on the x- and y-axes of a plot."
   ]
  },
  {
   "cell_type": "markdown",
   "metadata": {},
   "source": [
    "### Scatter plots"
   ]
  },
  {
   "cell_type": "code",
   "execution_count": null,
   "metadata": {},
   "outputs": [],
   "source": [
    "# These two lines are equivalent except that seaborn downloads a dataset\n",
    "# while pandas loads a local dataset (in this instance).\n",
    "# We'll use a pre-downloaded version to avoid internet woes\n",
    "# tips = sns.load_dataset(\"tips\")\n",
    "tips = pd.read_csv(\"data/tips.csv\")\n",
    "tips.head()"
   ]
  },
  {
   "cell_type": "code",
   "execution_count": null,
   "metadata": {},
   "outputs": [],
   "source": [
    "sns.relplot(x=\"total_bill\", y=\"tip\", data=tips)"
   ]
  },
  {
   "cell_type": "markdown",
   "metadata": {},
   "source": [
    "We may, of course, be interested in more than just the x- and y- values. We can use additional arguments to `relplot(...)` to distinguish data points"
   ]
  },
  {
   "cell_type": "code",
   "execution_count": null,
   "metadata": {},
   "outputs": [],
   "source": [
    "\n"
   ]
  },
  {
   "cell_type": "markdown",
   "metadata": {},
   "source": [
    "Points are now colored differently depending on whether the entry in the dataset corresponds to a smoker or not. We can do the same for the size and style aesthetics as well."
   ]
  },
  {
   "cell_type": "code",
   "execution_count": null,
   "metadata": {},
   "outputs": [],
   "source": [
    "\n"
   ]
  },
  {
   "cell_type": "code",
   "execution_count": null,
   "metadata": {},
   "outputs": [],
   "source": [
    "\n"
   ]
  },
  {
   "cell_type": "markdown",
   "metadata": {},
   "source": [
    "The aesthetic mappings can be combined as desired to visualize up to 5 dimensions in our datasetsvia the `x`, `y`, `hue`, `shape`, and `size` arguments."
   ]
  },
  {
   "cell_type": "code",
   "execution_count": null,
   "metadata": {
    "scrolled": true
   },
   "outputs": [],
   "source": [
    "sns.relplot(x=\"total_bill\", y=\"tip\", hue=\"smoker\", size=\"day\", style=\"time\", data=tips)"
   ]
  },
  {
   "cell_type": "markdown",
   "metadata": {},
   "source": [
    "Be warned that this will make plots extremely difficult to visualize parse.\n",
    "\n",
    "The `hue` and `size` aesthetics have been categorical so far, meaning that distinct colors and sizes were chosen for each possible, discrete value of the dataframe columns they were applied to. They can also be applied to continuous, numerical variables. In this case, the color palette will automatically be set to a gradient. We will see further on how to customize colors."
   ]
  },
  {
   "cell_type": "code",
   "execution_count": null,
   "metadata": {},
   "outputs": [],
   "source": [
    "sns.relplot(x=\"total_bill\", y=\"tip\", hue=\"size\", data=tips)"
   ]
  },
  {
   "cell_type": "code",
   "execution_count": null,
   "metadata": {},
   "outputs": [],
   "source": [
    "sns.relplot(x=\"total_bill\", y=\"tip\", size=\"tip\", data=tips, kind=\"scatter\")"
   ]
  },
  {
   "cell_type": "markdown",
   "metadata": {},
   "source": [
    "### Line plots\n",
    "By default, `seaborn` will create a scatterplot. In the case of time series, we may be interested in creating a line plot to better visualize trends. We can do this by simply adding a `kind=\"line\"` argument (by default, this argument is `kind=\"scatter\"`)."
   ]
  },
  {
   "cell_type": "code",
   "execution_count": null,
   "metadata": {},
   "outputs": [],
   "source": [
    "np.random.seed(10)\n",
    "\n",
    "df = pd.DataFrame({\n",
    "    \"time\": np.arange(500),\n",
    "    \"value\": np.random.randn(500).cumsum()})\n",
    "df"
   ]
  },
  {
   "cell_type": "code",
   "execution_count": null,
   "metadata": {},
   "outputs": [],
   "source": [
    "\n"
   ]
  },
  {
   "cell_type": "markdown",
   "metadata": {},
   "source": [
    "By default, the dataframe will be sorted so that the x-values are in ascending order. This ensures that the line plot looks like a timeseries plot. This can, however, be disabled by setting `sort=False`. This could be useful, for example, if we are following the movement of an object or tracking how two variables change simultaneously through time."
   ]
  },
  {
   "cell_type": "code",
   "execution_count": null,
   "metadata": {},
   "outputs": [],
   "source": [
    "np.random.seed(10)\n",
    "\n",
    "df = pd.DataFrame(np.random.randn(500, 2).cumsum(axis=0), columns=[\"x\", \"y\"])\n"
   ]
  },
  {
   "cell_type": "code",
   "execution_count": null,
   "metadata": {},
   "outputs": [],
   "source": [
    "sns.relplot(x=\"x\", y=\"y\", sort=False, kind=\"line\", data=df)"
   ]
  },
  {
   "cell_type": "markdown",
   "metadata": {},
   "source": [
    "Line plots have the same aesthetic mapping possibilities as scatter plots, `hue`, `size`, and `shape`, and they can also be combined in the same way. Notice how multiple lines are created and only points with the identical mapped aesthetics are connected. That means, if we create a line plot that maps a variable to `hue` and to `style`, we will end up with an individual line for each existing combination of variables in our data."
   ]
  },
  {
   "cell_type": "code",
   "execution_count": null,
   "metadata": {},
   "outputs": [],
   "source": [
    "np.random.seed(10)\n",
    "\n",
    "df = pd.DataFrame({\n",
    "    \"time\": np.arange(500),\n",
    "    \"value\": np.random.randn(500).cumsum(), \n",
    "    \"region\": \"North\", \"division\": \"A\"})\n",
    "df = df.append(pd.DataFrame({\n",
    "    \"time\": np.arange(500),\n",
    "    \"value\": np.random.randn(500).cumsum(), \n",
    "    \"region\": \"North\", \"division\": \"B\"}))\n",
    "df = df.append(pd.DataFrame({\n",
    "    \"time\": np.arange(500),\n",
    "    \"value\": np.random.randn(500).cumsum(), \n",
    "    \"region\": \"North\", \"division\": \"C\"}))\n",
    "df = df.append(pd.DataFrame({\n",
    "    \"time\": np.arange(500),\n",
    "    \"value\": np.random.randn(500).cumsum(), \n",
    "    \"region\": \"South\", \"division\": \"A\"}))\n",
    "df = df.append(pd.DataFrame({\n",
    "    \"time\": np.arange(500),\n",
    "    \"value\": np.random.randn(500).cumsum(), \n",
    "    \"region\": \"South\", \"division\": \"B\"}))\n",
    "\n",
    "sns.relplot(\n",
    "    x=\"time\", y=\"value\", kind=\"line\", hue=\"region\", \n",
    "    style=\"division\", data=df)"
   ]
  },
  {
   "cell_type": "code",
   "execution_count": null,
   "metadata": {},
   "outputs": [],
   "source": [
    "df.head()"
   ]
  },
  {
   "cell_type": "code",
   "execution_count": null,
   "metadata": {},
   "outputs": [],
   "source": [
    "# Using size instead of style\n",
    "\n"
   ]
  },
  {
   "cell_type": "markdown",
   "metadata": {},
   "source": [
    "If using the `style` parameter, we can also decide whether we want dashes, dots, or both."
   ]
  },
  {
   "cell_type": "code",
   "execution_count": null,
   "metadata": {},
   "outputs": [],
   "source": [
    "np.random.seed(10)\n",
    "\n",
    "df = pd.DataFrame({\n",
    "    \"time\": np.arange(20),\n",
    "    \"value\": np.random.randn(20).cumsum(), \n",
    "    \"region\": \"North\"})\n",
    "df = df.append(pd.DataFrame({\n",
    "    \"time\": np.arange(20),\n",
    "    \"value\": np.random.randn(20).cumsum(), \n",
    "    \"region\": \"South\"}))\n",
    "sns.relplot(x=\"time\", y=\"value\", kind=\"line\", \n",
    "            style=\"region\", markers=True, data=df)"
   ]
  },
  {
   "cell_type": "code",
   "execution_count": null,
   "metadata": {},
   "outputs": [],
   "source": [
    "sns.relplot(x=\"time\", y=\"value\", kind=\"line\", style=\"region\", \n",
    "            dashes=False, data=df)"
   ]
  },
  {
   "cell_type": "code",
   "execution_count": null,
   "metadata": {},
   "outputs": [],
   "source": [
    "sns.relplot(x=\"time\", y=\"value\", kind=\"line\", style=\"region\", \n",
    "            dashes=False, markers=True, data=df)"
   ]
  },
  {
   "cell_type": "markdown",
   "metadata": {},
   "source": [
    "#### Aggregating Data\n",
    "Often, we may have data with multiple measurements for the same data point, i.e. x-value. For example, we might have several temperature sensors in a device as a failsafe. `seaborn` can automatically aggregate y-values for identical x-values. By default, it plots the mean and the 95% confidence interval around this mean in either direction."
   ]
  },
  {
   "cell_type": "code",
   "execution_count": null,
   "metadata": {},
   "outputs": [],
   "source": [
    "# fmri = sns.load_dataset(\"fmri\")\n",
    "fmri = pd.read_csv(\"data/fmri.csv\")\n",
    "fmri.head()"
   ]
  },
  {
   "cell_type": "code",
   "execution_count": null,
   "metadata": {},
   "outputs": [],
   "source": [
    "fmri.loc[(fmri[\"timepoint\"] == 18)].head()"
   ]
  },
  {
   "cell_type": "code",
   "execution_count": null,
   "metadata": {},
   "outputs": [],
   "source": [
    "sns.relplot(x=\"timepoint\", y=\"signal\", kind=\"line\", data=fmri)"
   ]
  },
  {
   "cell_type": "markdown",
   "metadata": {},
   "source": [
    "Because `seaborn` uses bootstrapping to compute the confidence intervals and this is a time-consuming process, it may be better to either switch to the standard deviation (`ci=\"sd\"`) or turn this off entirely and only plot the mean (`ci=None`)"
   ]
  },
  {
   "cell_type": "code",
   "execution_count": null,
   "metadata": {},
   "outputs": [],
   "source": [
    "sns.relplot(x=\"timepoint\", y=\"signal\", kind=\"line\", ci=\"sd\", data=fmri)"
   ]
  },
  {
   "cell_type": "code",
   "execution_count": null,
   "metadata": {},
   "outputs": [],
   "source": [
    "sns.relplot(x=\"timepoint\", y=\"signal\", kind=\"line\", ci=None, data=fmri)"
   ]
  },
  {
   "cell_type": "markdown",
   "metadata": {},
   "source": [
    "We can also change our `estimator` to any aggregation function, such as `np.median(...)`, `np.sum(...)`, or even `np.max(...)`. If we want to turn off aggregation then we just set `estimator=None`. Note that this will plot all measurements and cause the data to be plotted in strange ways."
   ]
  },
  {
   "cell_type": "code",
   "execution_count": null,
   "metadata": {},
   "outputs": [],
   "source": [
    "sns.relplot(x=\"timepoint\", y=\"signal\", kind=\"line\", \n",
    "            estimator=np.median, data=fmri)"
   ]
  },
  {
   "cell_type": "code",
   "execution_count": null,
   "metadata": {},
   "outputs": [],
   "source": [
    "sns.relplot(x=\"timepoint\", y=\"signal\", kind=\"line\", \n",
    "            estimator=None, data=fmri)"
   ]
  },
  {
   "cell_type": "markdown",
   "metadata": {},
   "source": [
    "#### Plotting Dates\n",
    "Because they're so ubiquitous, `seaborn` natively supports the date format and will automatically format plots accordingly."
   ]
  },
  {
   "cell_type": "code",
   "execution_count": null,
   "metadata": {},
   "outputs": [],
   "source": [
    "pd.date_range(\"2017-1-1\", periods=5)"
   ]
  },
  {
   "cell_type": "code",
   "execution_count": null,
   "metadata": {},
   "outputs": [],
   "source": [
    "pd.date_range(\"1-1-2017\", \"22-3-2017\")"
   ]
  },
  {
   "cell_type": "code",
   "execution_count": null,
   "metadata": {},
   "outputs": [],
   "source": [
    "np.random.seed(10)\n",
    "\n",
    "df = pd.DataFrame({\n",
    "    \"time\": pd.date_range(\"2017-1-1\", periods=500),\n",
    "    \"value\": np.random.randn(500).cumsum()})\n",
    "df.head()"
   ]
  },
  {
   "cell_type": "code",
   "execution_count": null,
   "metadata": {},
   "outputs": [],
   "source": [
    "g = sns.relplot(x=\"time\", y=\"value\", kind=\"line\", data=df)\n",
    "g.fig.autofmt_xdate()"
   ]
  },
  {
   "cell_type": "markdown",
   "metadata": {},
   "source": [
    "### Exercises\n",
    "1. Load the `iris.csv` dataset and create a scatter plot relating the petal length to the petal width."
   ]
  },
  {
   "cell_type": "code",
   "execution_count": null,
   "metadata": {},
   "outputs": [],
   "source": [
    "### "
   ]
  },
  {
   "cell_type": "code",
   "execution_count": null,
   "metadata": {},
   "outputs": [],
   "source": []
  },
  {
   "cell_type": "markdown",
   "metadata": {},
   "source": [
    "2. Load the `diamonds.csv` dataset. Plot the carats versus the price again, but this time make sure that points are colored based on the cut."
   ]
  },
  {
   "cell_type": "code",
   "execution_count": null,
   "metadata": {},
   "outputs": [],
   "source": [
    "###"
   ]
  },
  {
   "cell_type": "code",
   "execution_count": null,
   "metadata": {},
   "outputs": [],
   "source": []
  },
  {
   "cell_type": "markdown",
   "metadata": {},
   "source": [
    "3. Load the `mpg.csv` dataset (from this folder) and create a line plot relating the mean `mpg` to the `model_year`. Make sure each country of `origin` is shown in a separate line style."
   ]
  },
  {
   "cell_type": "code",
   "execution_count": null,
   "metadata": {},
   "outputs": [],
   "source": [
    "###"
   ]
  },
  {
   "cell_type": "code",
   "execution_count": null,
   "metadata": {},
   "outputs": [],
   "source": []
  },
  {
   "cell_type": "markdown",
   "metadata": {},
   "source": [
    "4. This time, use `pandas` to find the mean `mpg` value for each `model_year` and each country of `origin`. Create a line plot relating the mean `mpg` to the `model_year` with one line for each country of `origin`, as above.\n",
    "\n",
    "  *Hint*: Remember `groupby`? Remember how we can use it for multiple columns simultaneously?\n",
    "  \n",
    "  *Note*: `seaborn` cannot use the index, even if it is named. You must use `*.reset_index()` to ensure that the columns you grouped by are columns in the new data frame"
   ]
  },
  {
   "cell_type": "code",
   "execution_count": null,
   "metadata": {},
   "outputs": [],
   "source": [
    "###"
   ]
  },
  {
   "cell_type": "code",
   "execution_count": null,
   "metadata": {},
   "outputs": [],
   "source": []
  },
  {
   "cell_type": "markdown",
   "metadata": {},
   "source": [
    "5. Consider the following (fake) stock data. Create a line plot from this data with one line for each stock symbol and format the x-axis as a date."
   ]
  },
  {
   "cell_type": "code",
   "execution_count": null,
   "metadata": {},
   "outputs": [],
   "source": [
    "###\n",
    "np.random.seed(101)\n",
    "\n",
    "stock_data = pd.DataFrame({\n",
    "    \"time\": pd.date_range(\"2017-1-1\", periods=500),\n",
    "    \"value\": np.random.randn(500).cumsum(), \n",
    "    \"symbol\": \"TRDS\"})\n",
    "stock_data = stock_data.append(pd.DataFrame({\n",
    "    \"time\": pd.date_range(\"2017-1-1\", periods=500),\n",
    "    \"value\": np.random.randn(500).cumsum(), \n",
    "    \"symbol\": \"RISL\"}))\n",
    "stock_data.head()"
   ]
  },
  {
   "cell_type": "code",
   "execution_count": null,
   "metadata": {},
   "outputs": [],
   "source": []
  },
  {
   "cell_type": "markdown",
   "metadata": {},
   "source": [
    "## Relationships to Categorical Variables\n",
    "We've already seen how we can show dependence on categorical variables with the various aesthetics in the previous section (`hue`, `size`, and `style`). Often, we may not have two continuous variables to relate to each other, though. For this, we use the `seaborn` function `catplot(...)` which can create multiple kinds of categorical plots."
   ]
  },
  {
   "cell_type": "markdown",
   "metadata": {},
   "source": [
    "### Categorical Scatter Plots\n",
    "The simplest way to represent the relationship between continuous and categorical data is with a categorical scatter plot that represents the distribution of (continuous) values for each category. For this, we can make use of the default value `kind=\"strip\"`."
   ]
  },
  {
   "cell_type": "code",
   "execution_count": null,
   "metadata": {},
   "outputs": [],
   "source": [
    "# tips = sns.load_dataset(\"tips\")\n",
    "tips = pd.read_csv(\"data/tips.csv\")\n",
    "tips.head()"
   ]
  },
  {
   "cell_type": "code",
   "execution_count": null,
   "metadata": {},
   "outputs": [],
   "source": [
    "sns.catplot(x=\"day\", y=\"total_bill\", data=tips)"
   ]
  },
  {
   "cell_type": "markdown",
   "metadata": {},
   "source": [
    "`seaborn` automatically adds jitter to the points to reduce their overlap. We can adjust this jitter by passing a value between 0 and 1 (exclusive) or eliminate this jitter entirely by passing a boolean `False`. Note that a value of 1 is interpreted as `True` and the default jitter width is used!"
   ]
  },
  {
   "cell_type": "code",
   "execution_count": null,
   "metadata": {},
   "outputs": [],
   "source": [
    "sns.catplot(x=\"day\", y=\"total_bill\", jitter=False, data=tips)"
   ]
  },
  {
   "cell_type": "code",
   "execution_count": null,
   "metadata": {},
   "outputs": [],
   "source": [
    "# When a number is passed, this corresponds to a relative width\n",
    "# jitter=0.5 will typically mean that the \"point columns\" touch.\n",
    "sns.catplot(x=\"day\", y=\"total_bill\", jitter=0.3, data=tips)"
   ]
  },
  {
   "cell_type": "markdown",
   "metadata": {},
   "source": [
    "We can also prevent point overlap entirely by using a swarm plot. This will create a useful visual approximateion of the distribution of the values."
   ]
  },
  {
   "cell_type": "code",
   "execution_count": null,
   "metadata": {},
   "outputs": [],
   "source": [
    "sns.catplot(x=\"day\", y=\"total_bill\", kind=\"swarm\", data=tips)"
   ]
  },
  {
   "cell_type": "markdown",
   "metadata": {},
   "source": [
    "Categorical plots only support the `hue` aesthetic, not the `style` or `size` aesthetics."
   ]
  },
  {
   "cell_type": "code",
   "execution_count": null,
   "metadata": {},
   "outputs": [],
   "source": [
    "sns.catplot(x=\"day\", y=\"total_bill\", kind=\"swarm\", hue=\"sex\", data=tips)"
   ]
  },
  {
   "cell_type": "markdown",
   "metadata": {},
   "source": [
    "`seaborn` will make assumptions on the nature of your data. For example, if you pass two continuous, numerical variables to `catplot(...)`, it will try to treat the x-axis as a categorical variable."
   ]
  },
  {
   "cell_type": "code",
   "execution_count": null,
   "metadata": {},
   "outputs": [],
   "source": [
    "sns.catplot(x=\"size\", y=\"total_bill\", kind=\"swarm\", data=tips)"
   ]
  },
  {
   "cell_type": "code",
   "execution_count": null,
   "metadata": {},
   "outputs": [],
   "source": [
    "sns.catplot(x=\"total_bill\", y=\"size\", kind=\"swarm\", data=tips)"
   ]
  },
  {
   "cell_type": "markdown",
   "metadata": {},
   "source": [
    "Notice that this will break `seaborn` if you attempt to place to pseudo-categorical variable onto the y-axis. We can, however, invert our axes if one of the variables is truly categorical, i.e. not numerical."
   ]
  },
  {
   "cell_type": "code",
   "execution_count": null,
   "metadata": {},
   "outputs": [],
   "source": [
    "sns.catplot(x=\"day\", y=\"total_bill\", kind=\"swarm\", data=tips)"
   ]
  },
  {
   "cell_type": "code",
   "execution_count": null,
   "metadata": {},
   "outputs": [],
   "source": [
    "sns.catplot(x=\"total_bill\", y=\"day\", kind=\"swarm\", data=tips)"
   ]
  },
  {
   "cell_type": "markdown",
   "metadata": {},
   "source": [
    "### Distribution Plots\n",
    "Swarm plots are good for approximating distributions, but we often want to have an exact description of the data distribution. For this, we can use box plots and variants thereof."
   ]
  },
  {
   "cell_type": "code",
   "execution_count": null,
   "metadata": {},
   "outputs": [],
   "source": [
    "sns.catplot(x=\"day\", y=\"total_bill\", kind=\"box\", data=tips)"
   ]
  },
  {
   "cell_type": "markdown",
   "metadata": {},
   "source": [
    "Boxplots encode valuable information about our distribution. For each subset of the data, i.e. each box, the following pieces of information are shown:\n",
    "- The central line of each box represents the median value\n",
    "- The top and bottom of the boxes are the $3^{rd}$ and $1^{st}$ quantile, respectively.\n",
    "    - This means that 25% of all values are below the bottom line and 25% are above the top line, i.e. 50% of all values are within the colored region\n",
    "- The whiskers denote the outlier limits. Any value between the whiskers is considered \"normal\"\n",
    "- The points outside of the whiskers are outliers that may require special attention\n",
    "\n",
    "The `hue` argument can be used to show additional, nested relationships"
   ]
  },
  {
   "cell_type": "code",
   "execution_count": null,
   "metadata": {},
   "outputs": [],
   "source": [
    "sns.catplot(x=\"day\", y=\"total_bill\", kind=\"box\", hue=\"sex\", data=tips)"
   ]
  },
  {
   "cell_type": "markdown",
   "metadata": {},
   "source": [
    "Note that `hue` assumes a categorical variable when used on `catplot(...)` and `seaborn` will therefore automatically convert numerical variables into categorical ones."
   ]
  },
  {
   "cell_type": "code",
   "execution_count": null,
   "metadata": {},
   "outputs": [],
   "source": [
    "sns.catplot(x=\"day\", y=\"total_bill\", kind=\"box\", hue=\"size\", data=tips)"
   ]
  },
  {
   "cell_type": "markdown",
   "metadata": {},
   "source": [
    "When quantiles aren't enough, `seaborn` can also display a violin plot. This kind of plot estimates a density and plots it as a distribution"
   ]
  },
  {
   "cell_type": "code",
   "execution_count": null,
   "metadata": {},
   "outputs": [],
   "source": [
    "sns.catplot(x=\"day\", y=\"total_bill\", kind=\"violin\", data=tips)"
   ]
  },
  {
   "cell_type": "markdown",
   "metadata": {},
   "source": [
    "If a variable has only two possible values and is mapped to the hue aesthetic, then `split=True` can be used to combine the two density estimates to compare them more easily."
   ]
  },
  {
   "cell_type": "code",
   "execution_count": null,
   "metadata": {},
   "outputs": [],
   "source": [
    "sns.catplot(x=\"day\", y=\"total_bill\", kind=\"violin\", \n",
    "            hue=\"sex\", split=True, data=tips)"
   ]
  },
  {
   "cell_type": "markdown",
   "metadata": {},
   "source": [
    "Violin plots estimate the density. This kernel density estimator (KDE) requires a parameter, called bandwidth, that determines how smooth or how detailed the density plot will be. Understanding violin plots can therefore be more difficult and potentially misleading."
   ]
  },
  {
   "cell_type": "code",
   "execution_count": null,
   "metadata": {},
   "outputs": [],
   "source": [
    "sns.catplot(x=\"day\", y=\"total_bill\", kind=\"violin\", bw=0.1, data=tips)"
   ]
  },
  {
   "cell_type": "code",
   "execution_count": null,
   "metadata": {},
   "outputs": [],
   "source": [
    "sns.catplot(x=\"day\", y=\"total_bill\", kind=\"violin\", bw=5, data=tips)"
   ]
  },
  {
   "cell_type": "markdown",
   "metadata": {},
   "source": [
    "Violin plots automatically show the corresponding box plot stats inside. We can change this to either showing `sticks`, `points`, or nothing at all."
   ]
  },
  {
   "cell_type": "code",
   "execution_count": null,
   "metadata": {},
   "outputs": [],
   "source": [
    "sns.catplot(x=\"day\", y=\"total_bill\", kind=\"violin\", \n",
    "            inner=\"stick\", data=tips)"
   ]
  },
  {
   "cell_type": "code",
   "execution_count": null,
   "metadata": {},
   "outputs": [],
   "source": [
    "sns.catplot(x=\"day\", y=\"total_bill\", kind=\"violin\", \n",
    "            inner=\"points\", data=tips)"
   ]
  },
  {
   "cell_type": "code",
   "execution_count": null,
   "metadata": {},
   "outputs": [],
   "source": [
    "sns.catplot(x=\"day\", y=\"total_bill\", kind=\"violin\", \n",
    "            inner=None, data=tips)"
   ]
  },
  {
   "cell_type": "markdown",
   "metadata": {},
   "source": [
    "Like with line plots, we may be interested in summary statistics over our data. For this, we can use a bar plot. `seaborn` will compute a summary statistic, such as the mean, as well as confidence intervals for each individual category (denoted by the x-axis)."
   ]
  },
  {
   "cell_type": "code",
   "execution_count": null,
   "metadata": {},
   "outputs": [],
   "source": [
    "# titanic = sns.load_dataset(\"titanic\")\n",
    "titanic = pd.read_csv(\"data/titanic.csv\")\n",
    "titanic.head()"
   ]
  },
  {
   "cell_type": "code",
   "execution_count": null,
   "metadata": {},
   "outputs": [],
   "source": [
    "# Compute the mean survival rate for each sex and class as well as confidence intervals.\n",
    "g = sns.catplot(x=\"sex\", y=\"survived\", hue=\"class\", kind=\"bar\", ci=None, data=titanic)\n",
    "\n",
    "# to plot the values for each bar\n",
    "ax = g.facet_axis(0,0)\n",
    "for p in ax.patches:\n",
    "    ax.annotate(format(p.get_height(), '.2f'), \n",
    "                (p.get_x() + p.get_width() / 2., \n",
    "                 p.get_height()), \n",
    "                ha = 'center', \n",
    "                va = 'center', \n",
    "                xytext = (0, 10), \n",
    "                textcoords = 'offset points')"
   ]
  },
  {
   "cell_type": "code",
   "execution_count": null,
   "metadata": {},
   "outputs": [],
   "source": [
    "# Compute the total number of survivors for each sex and class as well as confidence intervals.\n",
    "sns.catplot(x=\"sex\", y=\"survived\", hue=\"class\", kind=\"bar\", ci=None,\n",
    "            estimator=np.sum, data=titanic)"
   ]
  },
  {
   "cell_type": "markdown",
   "metadata": {},
   "source": [
    "If we're just interested in counting the number of occurances of a single variable, we can use `kind=\"count\"`."
   ]
  },
  {
   "cell_type": "code",
   "execution_count": null,
   "metadata": {},
   "outputs": [],
   "source": [
    "# Count the number of passengers by sex and class\n",
    "sns.catplot(x=\"sex\", hue=\"class\", kind=\"count\", data=titanic)"
   ]
  },
  {
   "cell_type": "markdown",
   "metadata": {},
   "source": [
    "An alternative to a barplot is a \"point plot\", which connects groups. This can be used to track psuedo-timeseries data that may only have a few categorical time points, e.g. sales data for 5 years. Notice how it connects data subgroups with the same value of the variable mapped to the `hue` aesthetic (`sex`)."
   ]
  },
  {
   "cell_type": "code",
   "execution_count": null,
   "metadata": {},
   "outputs": [],
   "source": [
    "sns.catplot(x=\"class\", y=\"survived\", hue=\"sex\", kind=\"point\", data=titanic)"
   ]
  },
  {
   "cell_type": "markdown",
   "metadata": {},
   "source": [
    "As before, we can also change the estimator and confidence interval method for point plots."
   ]
  },
  {
   "cell_type": "code",
   "execution_count": null,
   "metadata": {},
   "outputs": [],
   "source": [
    "sns.catplot(x=\"class\", y=\"survived\", hue=\"sex\", kind=\"point\", \n",
    "            estimator=np.mean, ci=\"sd\", data=titanic)"
   ]
  },
  {
   "cell_type": "markdown",
   "metadata": {},
   "source": [
    "### Exercises\n",
    "\n",
    "1. Load the `diamonds.csv` dataset and create a categorical scatter plot that relates the price to the cut"
   ]
  },
  {
   "cell_type": "code",
   "execution_count": null,
   "metadata": {},
   "outputs": [],
   "source": [
    "###"
   ]
  },
  {
   "cell_type": "code",
   "execution_count": null,
   "metadata": {},
   "outputs": [],
   "source": []
  },
  {
   "cell_type": "markdown",
   "metadata": {},
   "source": [
    "2. Change the jitter width of the previous plot so that the dot-columns are touching."
   ]
  },
  {
   "cell_type": "code",
   "execution_count": null,
   "metadata": {},
   "outputs": [],
   "source": [
    "###"
   ]
  },
  {
   "cell_type": "code",
   "execution_count": null,
   "metadata": {},
   "outputs": [],
   "source": []
  },
  {
   "cell_type": "markdown",
   "metadata": {},
   "source": [
    "3. This time, create a box plot that relates the carats to the clarity"
   ]
  },
  {
   "cell_type": "code",
   "execution_count": null,
   "metadata": {},
   "outputs": [],
   "source": [
    "###"
   ]
  },
  {
   "cell_type": "code",
   "execution_count": null,
   "metadata": {},
   "outputs": [],
   "source": []
  },
  {
   "cell_type": "markdown",
   "metadata": {},
   "source": [
    "4. Create a subset of the diamonds data consisting of only diamonds with colors of \"J\" (worst) and \"D\" (best) and only with clarity \"IF\". \n",
    "  \n",
    "  *Hint:* We can combine boolean masks for Pandas like so: `diamonds.loc[(condition1) & (condition2)]`\n",
    "  \n",
    "  Create a violin plot relating the price to the clarity and map the color to the `hue` aesthetic. Make sure the density estimates for each color are combined in each violin."
   ]
  },
  {
   "cell_type": "code",
   "execution_count": null,
   "metadata": {},
   "outputs": [],
   "source": [
    "###"
   ]
  },
  {
   "cell_type": "code",
   "execution_count": null,
   "metadata": {},
   "outputs": [],
   "source": []
  },
  {
   "cell_type": "markdown",
   "metadata": {},
   "source": [
    "5. Play with the bandwidth parameter (`bw`) for the previous plot. How can you interpret the plot for `bw=0.01`, `bw=0.1`, and `bw=1`?"
   ]
  },
  {
   "cell_type": "code",
   "execution_count": null,
   "metadata": {},
   "outputs": [],
   "source": [
    "###"
   ]
  },
  {
   "cell_type": "code",
   "execution_count": null,
   "metadata": {},
   "outputs": [],
   "source": []
  },
  {
   "cell_type": "markdown",
   "metadata": {},
   "source": [
    "6. Using the full diamond dataset again, use a bar plot to determine how many diamonds there are of each cut."
   ]
  },
  {
   "cell_type": "code",
   "execution_count": null,
   "metadata": {},
   "outputs": [],
   "source": [
    "###"
   ]
  },
  {
   "cell_type": "code",
   "execution_count": null,
   "metadata": {},
   "outputs": [],
   "source": []
  },
  {
   "cell_type": "markdown",
   "metadata": {},
   "source": [
    "## Element Ordering\n",
    "All of the above plots allow us to customize the order of elements, both on the axes as well as for the aesthetics. Naturally, the functions will only enable ordering aesthetics that are supported, e.g. `catplot(...)` has no `size_order` or `style_order` arguments and `relplot(...)` has no `order` argument as both axes depict continuous values."
   ]
  },
  {
   "cell_type": "code",
   "execution_count": null,
   "metadata": {},
   "outputs": [],
   "source": [
    "# Compute the mean survival rate for each sex and class as well as confidence intervals.\n",
    "sns.catplot(x=\"sex\", y=\"survived\", hue=\"class\", kind=\"bar\", \n",
    "            order=[\"female\", \"male\"], ci=None, data=titanic)"
   ]
  },
  {
   "cell_type": "code",
   "execution_count": null,
   "metadata": {},
   "outputs": [],
   "source": [
    "sns.catplot(x=\"sex\", y=\"survived\", hue=\"class\", kind=\"bar\", \n",
    "            order=[\"female\", \"male\"], data=titanic, \n",
    "            hue_order=[\"First\", \"Second\", \"Third\"])"
   ]
  },
  {
   "cell_type": "code",
   "execution_count": null,
   "metadata": {},
   "outputs": [],
   "source": [
    "sns.relplot(\n",
    "    x=\"total_bill\", y=\"tip\", hue=\"smoker\", size=\"day\", style=\"time\",\n",
    "    style_order=[\"Lunch\", \"Dinner\"], \n",
    "    size_order=[\"Thur\", \"Fri\", \"Sat\", \"Sun\"], \n",
    "    hue_order=[\"Yes\", \"No\"], data=tips)"
   ]
  },
  {
   "cell_type": "markdown",
   "metadata": {},
   "source": [
    "## Facetting \n",
    "We can also instruct the functions `relplot(...)` and `catplot(...)` to create multiple plots if we simply have too much detail to show in one. The parameters `col=...` and `row=...` let us further split apart the data and show subsets in individual plots."
   ]
  },
  {
   "cell_type": "code",
   "execution_count": null,
   "metadata": {},
   "outputs": [],
   "source": [
    "titanic.head()"
   ]
  },
  {
   "cell_type": "code",
   "execution_count": null,
   "metadata": {},
   "outputs": [],
   "source": [
    "# Compute the total number of survivors for each sex and class as well as confidence intervals.\n",
    "fig = sns.catplot(x=\"sex\", y=\"survived\", hue=\"class\", \n",
    "                  kind=\"bar\", col=\"embark_town\", ci=None,data=titanic)"
   ]
  },
  {
   "cell_type": "code",
   "execution_count": null,
   "metadata": {},
   "outputs": [],
   "source": [
    "tips.head()"
   ]
  },
  {
   "cell_type": "code",
   "execution_count": null,
   "metadata": {},
   "outputs": [],
   "source": [
    "sns.relplot(x=\"total_bill\", y=\"tip\", hue=\"sex\",\n",
    "            row=\"day\", col=\"smoker\", data=tips)"
   ]
  },
  {
   "cell_type": "code",
   "execution_count": null,
   "metadata": {},
   "outputs": [],
   "source": [
    "sns.relplot(x=\"total_bill\", y=\"tip\", hue=\"sex\",\n",
    "            row=\"day\", col=\"smoker\", data=tips, \n",
    "            row_order=[\"Thur\", \"Fri\", \"Sat\", \"Sun\"])"
   ]
  },
  {
   "cell_type": "markdown",
   "metadata": {},
   "source": [
    "## Under the Hood\n",
    "`seaborn` is a high-level interface for `matplotlib`. The two functions introduced here call other, intermediate functions, which in turn call `matplotlib` functions.\n",
    "\n",
    "- `relplot(kind=...)`\n",
    "    - **scatter**: `scatterplot()` --> `matplotlib.pyplot.scatter()`\n",
    "    - **line**: `lineplot()` --> `matplotlib.pyplot.line()`\n",
    "- `catplot(kind=...)`\n",
    "    - **strip**: `stripplot()` --> Calls multiple `matplotlib` functions\n",
    "    - **swarm**: `swarmplot()` --> Calls multiple `matplotlib` functions\n",
    "    - **box**: `boxplot()` --> Calls `matplotlib.pyplot.boxplot()`\n",
    "    - **violin**: `violinplot()` --> Calls multiple `matplotlib` functions\n",
    "    - **bar**: `barplot()` --> Calls `matplotlib.pyplot.bar()`\n",
    "    - **count**: `countplot()` --> Calls `matplotlib.pyplot.bar()`\n",
    "    - **point**: `pointplot()` --> Calls multiple `matplotlib` functions\n",
    "    \n",
    "`seaborn` is essentially a \"convenience\" to make `matplotlib` more accessible."
   ]
  },
  {
   "cell_type": "markdown",
   "metadata": {},
   "source": [
    "## Customizing Plots"
   ]
  },
  {
   "cell_type": "markdown",
   "metadata": {},
   "source": [
    "### Plot Text and Axis Labels\n",
    "Customizing the text of axis labels is unfortunately not as intuitive as building the plots. This is because `seaborn` builds heavily on `matplotlib` but attempts to reduce the fine granularity of building a plot with the latter. For example, to create the facetted plots above using `matplotlib`, we would have to subset the data into all possible variants, build each individual plot, arrange them in a grid, and then add the legend and axis titles. `seaborn` makes this step somewhat easier, but cannot get around this granularity when it comes to customizing plots."
   ]
  },
  {
   "cell_type": "markdown",
   "metadata": {},
   "source": [
    "**Title**"
   ]
  },
  {
   "cell_type": "code",
   "execution_count": null,
   "metadata": {},
   "outputs": [],
   "source": [
    "# Look at documentation for more info\n",
    "myFigure = sns.catplot(\n",
    "    x=\"sex\", y=\"survived\", hue=\"class\", kind=\"bar\",\n",
    "    hue_order=[\"First\", \"Second\", \"Third\"], ci=None, data=titanic)\n",
    "myFigure.fig.suptitle(\"Titanic Survivors\", fontsize=15)"
   ]
  },
  {
   "cell_type": "markdown",
   "metadata": {},
   "source": [
    "**Legend**"
   ]
  },
  {
   "cell_type": "code",
   "execution_count": null,
   "metadata": {},
   "outputs": [],
   "source": [
    "myFigure._legend.set_title(\"Passenger Class\")\n",
    "myFigure.fig"
   ]
  },
  {
   "cell_type": "markdown",
   "metadata": {},
   "source": [
    "Legend labels are stored as `Text(...)` elements"
   ]
  },
  {
   "cell_type": "code",
   "execution_count": null,
   "metadata": {},
   "outputs": [],
   "source": [
    "myFigure._legend.texts"
   ]
  },
  {
   "cell_type": "markdown",
   "metadata": {},
   "source": [
    "We can change these by calling `*.set_text(...)` on each of them"
   ]
  },
  {
   "cell_type": "code",
   "execution_count": null,
   "metadata": {},
   "outputs": [],
   "source": [
    "myFigure._legend.texts[0].set_text(\"1st\")\n",
    "myFigure._legend.texts[1].set_text(\"2nd\")\n",
    "myFigure._legend.texts[2].set_text(\"3rd\")\n",
    "myFigure._legend.texts"
   ]
  },
  {
   "cell_type": "code",
   "execution_count": null,
   "metadata": {},
   "outputs": [],
   "source": [
    "myFigure.fig"
   ]
  },
  {
   "cell_type": "markdown",
   "metadata": {},
   "source": [
    "**Axis Labels**"
   ]
  },
  {
   "cell_type": "code",
   "execution_count": null,
   "metadata": {},
   "outputs": [],
   "source": [
    "myFigure.set_axis_labels(x_var=\"Passenger Sex\", y_var=\"Survival Rate\")\n",
    "myFigure.fig"
   ]
  },
  {
   "cell_type": "markdown",
   "metadata": {},
   "source": [
    "**Axis Tick Text**\n",
    "\n",
    "For this we're going to \"cheat\" and make use of some underlying `matplotlib` functions. First, we need to define a function that takes a number between 0 and 1 and transforms it into a percent-string, e.g. `0.2 --> 20%`. Then we're going to apply it to each of the y-tick labels."
   ]
  },
  {
   "cell_type": "code",
   "execution_count": null,
   "metadata": {},
   "outputs": [],
   "source": [
    "# Note that this function MUST take two arguments, the value of the tick label \n",
    "# and the index of the tick label. Note that we don't have to actually use both of\n",
    "# them\n",
    "import matplotlib.pyplot as plt\n",
    "\n",
    "def percent_formatter(num, tick_num):\n",
    "    return \"{:.0f}%\".format(num*100)\n",
    "\n",
    "myFigure.ax.yaxis.set_major_formatter(\n",
    "    plt.FuncFormatter(percent_formatter))\n",
    "myFigure.fig"
   ]
  },
  {
   "cell_type": "markdown",
   "metadata": {},
   "source": [
    "Take note that categorical variables are stored as numbers internally. This means that attempting to capitalize the x-axis tick labels like above would result in an error. It is better practice to format categorical variables within your data. This way, you won't have to repeat the same formatting steps every time you create new visualizations from the data (or edit existing ones).\n",
    "\n",
    "If you must format them in your visualization code, you can set the value of categorical tick labels as follows:"
   ]
  },
  {
   "cell_type": "code",
   "execution_count": null,
   "metadata": {},
   "outputs": [],
   "source": [
    "myFigure.set_xticklabels(labels=[\"Apples\", \"Oranges\"])\n",
    "myFigure.fig"
   ]
  },
  {
   "cell_type": "markdown",
   "metadata": {},
   "source": [
    "**Rotate Tick Labels**\n",
    "\n",
    "In some cases, tick labels may be too dense and must be rotated"
   ]
  },
  {
   "cell_type": "code",
   "execution_count": null,
   "metadata": {},
   "outputs": [],
   "source": [
    "myFigure.set_yticklabels(rotation=30)\n",
    "myFigure.fig"
   ]
  },
  {
   "cell_type": "markdown",
   "metadata": {},
   "source": [
    "### Axis Limits\n",
    "We cheat again and use `matplotlib` to set our axis limits"
   ]
  },
  {
   "cell_type": "code",
   "execution_count": null,
   "metadata": {},
   "outputs": [],
   "source": [
    "sns.relplot(x=\"total_bill\", y=\"tip\", hue=\"sex\", data=tips)\n",
    "plt.xlim(20, 40)\n",
    "plt.ylim(2, 8)"
   ]
  },
  {
   "cell_type": "markdown",
   "metadata": {},
   "source": [
    "### Color\n",
    "There are far more methods of creating and choosing color palettes in `seaborn` than could possibly be shown here.\n",
    "\n",
    "In general, we set the colors of our plot with the parameter `palette=...`. The simplest way to do this is to define a dictionary relating the aesthetic names (here the passenger class) to colors. The colors can be given either as a string (insofar as the color is known to seaborn), in hexadecimal format indicating the color channel intensities (`#RRGGBB`), or as a tuple/list with 3 values indicating the color mixing (`[r, g, b]`, values should be between 0 and 1)"
   ]
  },
  {
   "cell_type": "code",
   "execution_count": null,
   "metadata": {},
   "outputs": [],
   "source": [
    "sns.catplot(\n",
    "    x=\"sex\", y=\"survived\", hue=\"class\", kind=\"bar\", ci=None,\n",
    "    hue_order=[\"First\", \"Second\", \"Third\"], \n",
    "    palette={\"First\": \"red\", \"Second\": \"#00FF00\", \"Third\": (0, 1, 1)},\n",
    "    data=titanic)"
   ]
  },
  {
   "cell_type": "markdown",
   "metadata": {},
   "source": [
    "The palette doesn't have to be a dictionary."
   ]
  },
  {
   "cell_type": "code",
   "execution_count": null,
   "metadata": {},
   "outputs": [],
   "source": [
    "titanic = pd.read_csv(\"data/titanic.csv\")\n",
    "sns.catplot(\n",
    "    x=\"sex\", y=\"survived\", hue=\"class\", kind=\"bar\",\n",
    "    hue_order=[\"First\", \"Second\", \"Third\"], \n",
    "    palette=[\"red\", \"#00FF00\", (0, 1, 1)],\n",
    "    data=titanic)"
   ]
  },
  {
   "cell_type": "markdown",
   "metadata": {},
   "source": [
    "This becomes tiresome for many categories so `seaborn` offers several functions to generate color palettes automatically. Some of these include:\n",
    "\n",
    "- `sns.cubehelix_palette(...)`\n",
    "- `sns.diverging_palette(...)`\n",
    "- `sns.dark_palette(...)`\n",
    "- Any of the [ColorBrewer](http://colorbrewer2.org) presets\n",
    "- ... and many more\n",
    "\n",
    "Rather than try to learn each one of these individually, though, `seaborn` offers an incredibly useful tool: interactive widgets that let you design a palette. The 5 widgets can be called via:\n",
    "\n",
    "- sns.choose_colorbrewer_palette(...)\n",
    "- sns.choose_cubehelix_palette(...)\n",
    "- sns.choose_dark_palette(...)\n",
    "- sns.choose_light_palette(...)\n",
    "- sns.choose_diverging_palette(...)\n",
    "\n",
    "Note that these widgets will only work in Jupyter."
   ]
  },
  {
   "cell_type": "code",
   "execution_count": null,
   "metadata": {},
   "outputs": [],
   "source": [
    "myPalette = sns.choose_colorbrewer_palette(\"qualitative\")"
   ]
  },
  {
   "cell_type": "markdown",
   "metadata": {},
   "source": [
    "## Themes\n",
    "Beyond color, `seaborn` also has support for themes. There are five built-in seaborn themes: `darkgrid`, `whitegrid`, `dark`, `white`, and `ticks`. They can be invoked with `sns.set_style(...)`"
   ]
  },
  {
   "cell_type": "code",
   "execution_count": null,
   "metadata": {},
   "outputs": [],
   "source": [
    "sns.set_style(\"dark\")\n",
    "sns.relplot(x=\"total_bill\", y=\"tip\", hue=\"sex\", data=tips)"
   ]
  },
  {
   "cell_type": "code",
   "execution_count": null,
   "metadata": {},
   "outputs": [],
   "source": [
    "sns.set_style(\"ticks\")\n",
    "sns.relplot(x=\"total_bill\", y=\"tip\", hue=\"sex\", data=tips)"
   ]
  },
  {
   "cell_type": "markdown",
   "metadata": {},
   "source": [
    "We can edit these styles to our liking. Note that the floating point numbers are actually strings!"
   ]
  },
  {
   "cell_type": "code",
   "execution_count": null,
   "metadata": {},
   "outputs": [],
   "source": [
    "# See current style details\n",
    "sns.set_style(\"ticks\")\n",
    "sns.axes_style()"
   ]
  },
  {
   "cell_type": "code",
   "execution_count": null,
   "metadata": {},
   "outputs": [],
   "source": [
    "# Overwrite styles\n",
    "sns.set_style(\"ticks\", {\"text.color\": 'blue'})\n",
    "sns.relplot(x=\"total_bill\", y=\"tip\", hue=\"sex\", data=tips)"
   ]
  },
  {
   "cell_type": "markdown",
   "metadata": {},
   "source": [
    "Lastly, we can also use `sns.set(...)` to tweak our plots, such as font size scaling."
   ]
  },
  {
   "cell_type": "code",
   "execution_count": null,
   "metadata": {},
   "outputs": [],
   "source": [
    "# Overwrite styles\n",
    "sns.set(font_scale=1.5)\n",
    "sns.relplot(x=\"total_bill\", y=\"tip\", hue=\"sex\", data=tips)"
   ]
  },
  {
   "cell_type": "markdown",
   "metadata": {},
   "source": [
    "## Saving Plots\n",
    "Typically, an analysis pipeline won't run in Jupyter, or any other interactive environment, but as a script that generates a report. We can use `seaborn` to this end by saving our plots."
   ]
  },
  {
   "cell_type": "code",
   "execution_count": null,
   "metadata": {},
   "outputs": [],
   "source": [
    "myFigure = sns.catplot(\n",
    "    x=\"sex\", y=\"survived\", hue=\"class\", kind=\"bar\",\n",
    "    hue_order=[\"First\", \"Second\", \"Third\"], \n",
    "    order=[\"male\", \"female\"], data=titanic, ci=None)\n",
    "myFigure.fig.suptitle(\"Titanic Survivors\", fontsize=20)\n",
    "myFigure._legend.set_title(\"Legend Title\")\n",
    "myFigure._legend.texts[0].set_text(\"1st\")\n",
    "myFigure._legend.texts[1].set_text(\"2nd\")\n",
    "myFigure._legend.texts[2].set_text(\"3rd\")\n",
    "myFigure.set_axis_labels(x_var=\"Passenger Sex\", y_var=\"Survival Rate\")\n",
    "myFigure.ax.yaxis.set_major_formatter(plt.FuncFormatter(lambda x, y: \"{:.0f}%\".format(x*100)))\n",
    "myFigure.set_xticklabels(labels=[\"Male\", \"Female\"])\n",
    "myFigure.set_xticklabels(rotation=30)\n",
    "\n",
    "# Save the plot in all its glory\n",
    "myFigure.savefig(\"myFirstFigure.png\")"
   ]
  },
  {
   "cell_type": "markdown",
   "metadata": {},
   "source": [
    "`seaborn` supports saving both in bitmap format, e.g. PNG, as well as in vector format, e.g. PDF."
   ]
  },
  {
   "cell_type": "markdown",
   "metadata": {},
   "source": [
    "## Exercises"
   ]
  },
  {
   "cell_type": "markdown",
   "metadata": {},
   "source": [
    "1. Using the full diamond dataset again, use a bar plot to determine how many dimaonds there are of each clarity. Create facets for the cut (columns) and color (rows)"
   ]
  },
  {
   "cell_type": "code",
   "execution_count": null,
   "metadata": {},
   "outputs": [],
   "source": [
    "###"
   ]
  },
  {
   "cell_type": "code",
   "execution_count": null,
   "metadata": {},
   "outputs": [],
   "source": []
  },
  {
   "cell_type": "markdown",
   "metadata": {},
   "source": [
    "2. Create a box plot that relates the carats to the clarity and place the boxes in the correct order (I1 , SI2, SI1, VS2, VS1, VVS2, VVS1, IF)"
   ]
  },
  {
   "cell_type": "code",
   "execution_count": null,
   "metadata": {},
   "outputs": [],
   "source": [
    "###"
   ]
  },
  {
   "cell_type": "code",
   "execution_count": null,
   "metadata": {},
   "outputs": [],
   "source": []
  },
  {
   "cell_type": "markdown",
   "metadata": {},
   "source": [
    "3. Plot the relationship between the `x` and `y` columns of the `diamonds` dataframe. Limit the x-axis to the interval \\[3, 11] and the y-axis to the interval \\[0, 15] to remove outliers"
   ]
  },
  {
   "cell_type": "code",
   "execution_count": null,
   "metadata": {},
   "outputs": [],
   "source": [
    "###"
   ]
  },
  {
   "cell_type": "code",
   "execution_count": null,
   "metadata": {},
   "outputs": [],
   "source": []
  },
  {
   "cell_type": "markdown",
   "metadata": {},
   "source": [
    "4. Plot the relationship between the price and the cut as a boxplot. Format the y-axis tick labels to include a currency symbol and to display prices in thousands, e.g. 12500 should be displayed as \"\\$12.5k\".\n",
    "\n",
    "  **TRY THIS**: \"\\$0.0k\" is a little silly to display. Alter the function so that in case the y-value == 0, it only displays \"\\\\$0\""
   ]
  },
  {
   "cell_type": "code",
   "execution_count": null,
   "metadata": {},
   "outputs": [],
   "source": [
    "###"
   ]
  },
  {
   "cell_type": "code",
   "execution_count": null,
   "metadata": {},
   "outputs": [],
   "source": []
  },
  {
   "cell_type": "code",
   "execution_count": null,
   "metadata": {},
   "outputs": [],
   "source": []
  },
  {
   "cell_type": "markdown",
   "metadata": {},
   "source": [
    "4. Load the `exercise.csv` dataset. \n",
    "  1. Plot the relationship between the pulse and diet as a boxplot. \n",
    "  2. Map the kind of exercise to the `hue`\n",
    "  3. Facet the data into columns so that we have one plot for each timepoint"
   ]
  },
  {
   "cell_type": "code",
   "execution_count": null,
   "metadata": {},
   "outputs": [],
   "source": [
    "###"
   ]
  },
  {
   "cell_type": "code",
   "execution_count": null,
   "metadata": {},
   "outputs": [],
   "source": []
  }
 ],
 "metadata": {
  "kernelspec": {
   "display_name": "Python 3",
   "language": "python",
   "name": "python3"
  },
  "language_info": {
   "codemirror_mode": {
    "name": "ipython",
    "version": 3
   },
   "file_extension": ".py",
   "mimetype": "text/x-python",
   "name": "python",
   "nbconvert_exporter": "python",
   "pygments_lexer": "ipython3",
   "version": "3.7.4"
  }
 },
 "nbformat": 4,
 "nbformat_minor": 4
}
