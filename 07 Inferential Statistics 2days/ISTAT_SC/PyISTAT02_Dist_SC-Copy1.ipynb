{
 "cells": [
  {
   "cell_type": "markdown",
   "metadata": {},
   "source": [
    "<img src=\"../images/cads-logo.png\" style=\"height: 100px;\" align=left> \n",
    "<img src=\"../images/python-logo.png\" style=\"height: 100px;\" align=right>"
   ]
  },
  {
   "cell_type": "markdown",
   "metadata": {},
   "source": [
    "# Statistical Data Analysis\n",
    "Day 1.2"
   ]
  },
  {
   "cell_type": "markdown",
   "metadata": {},
   "source": [
    "## Content outline \n",
    "\n",
    "1. [Random Variables](#random_var)\n",
    "2. [Graphs of probability distributions](#proba_dist)\n",
    "    * **Discrete Random Variable**\n",
    "        * [Probability Mass Function (PMF)](#pmf)\n",
    "        * [Cumulative Distribution Function (CDF) for discrete random variables](#discretecdf)\n",
    "    * **Continous Random Variable**\n",
    "        * [Probability Distribution function (PDF)](#pdf)\n",
    "        * [Cumulative Distribution function (CDF) for continuous random variables](#continuouscdf)\n",
    "3. [Some common distributions](#common_distribution)\n",
    "    * [Normal Distribution](#normal)\n",
    "    * [Binomial Distribution](#binomial)\n",
    "    * [Poisson Distribution](#poisson)\n",
    "    * [Exponential Distribution](#exponential)"
   ]
  },
  {
   "cell_type": "code",
   "execution_count": 2,
   "metadata": {},
   "outputs": [],
   "source": [
    "import numpy as np \n",
    "import seaborn as sns \n",
    "import pandas as pd \n",
    "import matplotlib.pyplot as plt \n",
    "from scipy.stats import binom, gamma, norm, poisson, expon"
   ]
  },
  {
   "cell_type": "markdown",
   "metadata": {},
   "source": [
    "<a name='random_var'> </a>\n",
    "\n",
    "# 1. Random Variables\n",
    "\n",
    "So far, we have studied the probability of categorical variables such as *blood type*, *gender*, etc. however, we need to consider the probability of numerical variables as well.\n",
    "\n",
    "A **random variable**, usually written as $X$, is the outcome of a random experience. "
   ]
  },
  {
   "cell_type": "markdown",
   "metadata": {},
   "source": [
    "<div class = \"alert alert-block alert-info\">\n",
    "<b>Example</b>\n",
    "<p>\n",
    "    Consider the random experiment of flipping a coin twice. The sample space of possible outcomes is $S = \\{ HH, HT, TH, TT \\}$.\n",
    "\n",
    "If the random variable $X$ is **the number of heads** that the random experiment will produce, then the following are the possible outcomes for $X$: \n",
    "\n",
    "* If the outcome is HH, we will have two heads, so the value for $X$ is 2.\n",
    "* If the outcome is HT, we will get one head, so the value for $X$ is 1.\n",
    "* If the outcome is TH, we also will get one head, so the value for $X$ is 1.\n",
    "* Lastly, if the outcome is TT, we will get no heads, so the value for $X$ is 0.\n",
    "\n",
    "Therefore, $X$ is a **quantitative variable** that takes the possible values of 0, 1, or 2. It is *random* because we do not know which of the three values the variable will eventually take. \n",
    "\n",
    "We can ask questions like:\n",
    "\n",
    "* What is the probability that $X$ will be 2? In other words, what is the probability of getting 2 heads?\n",
    "* What is the probability that $X$ will be at least 1? In other words, what is the probability of getting at least 1 head?\n",
    "</div>"
   ]
  },
  {
   "cell_type": "markdown",
   "metadata": {},
   "source": [
    "As you can see, random variables are not really a new concept, but just a different way of looking at the same problem.\n",
    "\n",
    "Note that if we had tossed a coin three times, the possible values for the number of tails would be $0, 1, 2,$ or $3$. In general, if we toss a coin \"n\" times, the possible number of tails would be $0, 1, 2, 3, ... , n$."
   ]
  },
  {
   "cell_type": "markdown",
   "metadata": {},
   "source": [
    "<div class = \"alert alert-block alert-info\">\n",
    "<b>Example</b>\n",
    "<p>\n",
    "    Let's say we choose a male university student and record his height. What is the sample space? Can you list that?\n",
    "\n",
    "> The random variable $X$, **the height of the male student**, is continuous and the sample space is an interval.\n",
    "</div>"
   ]
  },
  {
   "cell_type": "markdown",
   "metadata": {},
   "source": [
    "A random variable like the one in the first example, whose possible values is a list of distinct values, is called a **discrete random variable**. A random variable like the one in the second example, that can take any value in an interval, is called a **continuous random variable**."
   ]
  },
  {
   "cell_type": "markdown",
   "metadata": {},
   "source": [
    "<div class = \"alert alert-block alert-warning\">\n",
    "<b>Exercise</b>\n",
    "<p>\n",
    "Choose a college student at random. Is the following a discrete or continuous random variable? \n",
    "\n",
    "a. The number of courses the student takes this semester <br>\n",
    "\n",
    "b. The student's weight <br>\n",
    "\n",
    "\n",
    "c. The number of siblings the student has<br>\n",
    "\n",
    "</div>"
   ]
  },
  {
   "cell_type": "code",
   "execution_count": null,
   "metadata": {},
   "outputs": [],
   "source": [
    "a. discrete\n",
    "b. continous\n",
    "c. discrete"
   ]
  },
  {
   "cell_type": "markdown",
   "metadata": {},
   "source": [
    "# 2. Graphs of probability distributions <a name='proba_dist'> </a>\n",
    "\n",
    "## Probability Mass Function (PMF) <a name='pmf'> </a>\n",
    "\n",
    "The probability that the realisation of a discrete random variable is equal to a given number is given by a Probability Mass Function."
   ]
  },
  {
   "cell_type": "markdown",
   "metadata": {},
   "source": [
    "<div class = \"alert alert-block alert-info\">\n",
    "<b>Example</b>\n",
    "<p>\n",
    "Let $X$ be the outcome of rolling a dice. The probability of the outcome is given by the following PMF:\n",
    "\n",
    "$$ PMF_X(x) = P(X=x) = \n",
    "                \\begin{cases}\n",
    "                    1/6, & x=1 \\\\\n",
    "                    1/6, & x=2 \\\\\n",
    "                    1/6, & x=3 \\\\\n",
    "                    1/6, & x=4 \\\\\n",
    "                    1/6, & x=5 \\\\\n",
    "                    1/6, & x=6 \n",
    "                \\end{cases} $$\n",
    "Let's draw the PMF for this random variable:\n",
    "</div>"
   ]
  },
  {
   "cell_type": "code",
   "execution_count": 6,
   "metadata": {},
   "outputs": [
    {
     "data": {
      "text/plain": [
       "<matplotlib.axes._subplots.AxesSubplot at 0x1b60376e748>"
      ]
     },
     "execution_count": 6,
     "metadata": {},
     "output_type": "execute_result"
    },
    {
     "data": {
      "image/png": "[encoded data removed]",
      "text/plain": [
       "<Figure size 432x288 with 1 Axes>"
      ]
     },
     "metadata": {
      "needs_background": "light"
     },
     "output_type": "display_data"
    }
   ],
   "source": [
    "pd.Series(np.repeat(1/6, 6)).plot.bar(title = \"Probability Mass Function of X\", \n",
    "                                      ylim = (0,1), color='blue')"
   ]
  },
  {
   "cell_type": "markdown",
   "metadata": {},
   "source": [
    "<div class = \"alert alert-block alert-info\">\n",
    "<b>Example</b>\n",
    "<p>\n",
    "    Suppose we want to calculate how the sum of multiple dice rolls is distributed.\n",
    "\n",
    "Let the variable $X$ represent the sum of the outcome of rolling 2 dice.\n",
    "\n",
    "Also assume that the random variable $A_1$ represents the outcome of dice 1, and the random variable $A_2$ represents the outcome of dice 2, i.e. $X=A_1+A_2$. Then:\n",
    "\n",
    "$$ PMF_{X}(x) = P(X=x) = \n",
    "                \\begin{cases}\n",
    "                    0, & x=1 \\\\\n",
    "                    P(\\{A_1=1\\, \\&\\, A_2=1\\})=P(A_1=1) * P(A_2=1)=1/6 * 1/6=1/36, & x=2 \\\\\n",
    "                    P(\\{A_1=1\\, \\&\\, A_2=2\\}\\, or\\, \\{A_1=2\\, \\&\\, A_2=1\\})= 2/36, & x=3 \\\\\n",
    "                    P(\\{A_1=1\\, \\&\\, A_2=3\\}\\, or\\, \\{A_1=3\\, \\&\\, A_2=1\\}\\, or\\, \\{A_1=2\\, \\&\\, A_2=2\\})=3/36, & x=4 \\\\\n",
    "                    P(\\{1\\, \\&\\, 4\\}\\, or\\, \\{2\\, \\&\\, 3\\}\\, or\\, \\{3\\, \\&\\, 2\\}\\, or\\, \\{4\\, \\&\\, 1\\})=4/36, & x=5 \\\\\n",
    "                    P(\\{1\\, \\&\\, 5\\}\\, or\\, \\{2\\, \\&\\, 4\\}\\, or\\, \\{3\\, \\&\\, 3\\}\\, or\\, \\{4\\, \\&\\, 2\\}\\, or\\, \\{5\\, \\&\\, 1\\})=5/36, & x=6 \\\\\n",
    "                    P(\\{1\\, \\&\\, 6\\}\\, or\\, \\{2\\, \\&\\, 5\\}\\, or\\, \\{3\\, \\&\\, 4\\}\\, or\\, \\{4\\, \\&\\, 3\\}\\, or\\, \\{5\\, \\&\\, 2\\}\\, or\\, \\{6\\, \\&\\, 1\\})=6/36 & x=7 \\\\\n",
    "                    .\\\\\n",
    "                    .\\\\\n",
    "                    .\\\\\n",
    "                    ..., & x=12\n",
    "                \\end{cases} $$\n",
    "                </div>"
   ]
  },
  {
   "cell_type": "markdown",
   "metadata": {},
   "source": [
    "<div class = \"alert alert-block alert-warning\">\n",
    "<b>Exercise</b>\n",
    "<p>\n",
    "Complete the above calculation for $PMF_X(x)$:\n",
    "\n",
    "> $$ PMF_{X}(x) = P(X=x) = \n",
    "                \\begin{cases}\n",
    "                    0, & x=1 \\\\\n",
    "                    P(\\{A_1=1\\, \\&\\, A_2=1\\})=P(A_1=1) * P(A_2=1)=1/6 * 1/6=1/36, & x=2 \\\\\n",
    "                    P(\\{A_1=1\\, \\&\\, A_2=2\\}\\, or\\, \\{A_1=2 \\& A_2=1\\})= 2/36, & x=3 \\\\\n",
    "                    P(\\{A_1=1\\, \\&\\, A_2=3\\}\\, or\\, \\{A_1=3 \\& A_2=1\\} \\,or\\, \\{A_1=2 \\& A_2=2\\})=3/36, & x=4 \\\\\n",
    "                    P(\\{1\\, \\&\\, 4\\}\\, or\\, \\{2\\, \\& \\,3\\}\\, or\\, \\{3 \\,\\&\\, 2\\}\\, or\\, \\{4\\, \\&\\, 1\\})=4/36, & x=5 \\\\\n",
    "                    P(\\{1\\, \\&\\, 5\\}\\, or\\, \\{2\\, \\& \\,4\\}\\, or\\, \\{3\\, \\&\\, 3\\}\\, or\\, \\{4\\, \\&\\, 2\\}\\, or\\, \\{5\\, \\&\\, 1\\})=5/36, & x=6 \\\\\n",
    "                    P(\\{1\\, \\&\\, 6\\}\\, or\\, \\{2 \\,\\& \\,5\\}\\, or \\,\\{3\\, \\& \\,4\\}\\, or\\, \\{4\\, \\&\\, 3\\}\\, or\\, \\{5\\, \\&\\, 2\\}\\, or\\, \\{6\\, \\&\\, 1\\})=6/36 & x=7 \\\\\n",
    "                   P(\\{2\\, \\& \\,6\\}\\, or\\, \\{3 \\,\\& \\,5\\}\\, or\\, \\{4\\, \\& \\,4\\}\\, or \\,\\{5\\, \\&\\, 3\\} \\,or \\,\\{6\\, \\&\\, 2\\})=5/36 & x=8 \\\\\n",
    "                    P(\\{3\\, \\&\\, 6\\}\\, or\\, \\{4 \\,\\& \\,5\\}\\, or\\, \\{5\\, \\&\\, 4\\}\\, or \\,\\{6 \\,\\& \\,3\\} )=4/36 & x=9 \\\\\n",
    "                   P(\\{4\\, \\&\\, 6\\}\\, or\\, \\{5 \\,\\& \\,5\\}\\, or\\, \\{6 \\,\\& \\,4\\})=3/36 & x=10 \\\\\n",
    "                    P(\\{5\\, \\&\\, 6\\}\\, or\\, \\{6\\, \\&\\, 5\\})=2/36 & x=11 \\\\\n",
    "                    P(\\{6\\, \\& \\,6\\})=1/36 & x=12\\\\\n",
    "                \\end{cases} $$\n",
    "                </div>"
   ]
  },
  {
   "cell_type": "markdown",
   "metadata": {},
   "source": [
    "We can perform a computer simulation to obtain the PMF: "
   ]
  },
  {
   "cell_type": "code",
   "execution_count": 30,
   "metadata": {},
   "outputs": [
    {
     "data": {
      "text/plain": [
       "2     0.0274\n",
       "3     0.0514\n",
       "4     0.0824\n",
       "5     0.1068\n",
       "6     0.1422\n",
       "7     0.1692\n",
       "8     0.1364\n",
       "9     0.1136\n",
       "10    0.0876\n",
       "11    0.0526\n",
       "12    0.0304\n",
       "dtype: float64"
      ]
     },
     "execution_count": 30,
     "metadata": {},
     "output_type": "execute_result"
    }
   ],
   "source": [
    "import numpy as np \n",
    "a1_a2 = pd.Series([sum(np.random.choice(np.arange(1,7), 2)) for i in range(5000)])\n",
    "a1_a2_dist = a1_a2.value_counts(sort = False, normalize = True).sort_index()\n",
    "a1_a2_dist"
   ]
  },
  {
   "cell_type": "code",
   "execution_count": 31,
   "metadata": {},
   "outputs": [
    {
     "data": {
      "text/plain": [
       "<matplotlib.axes._subplots.AxesSubplot at 0x1b603b12d08>"
      ]
     },
     "execution_count": 31,
     "metadata": {},
     "output_type": "execute_result"
    },
    {
     "data": {
      "image/png": "[encoded data removed]",
      "text/plain": [
       "<Figure size 432x288 with 1 Axes>"
      ]
     },
     "metadata": {
      "needs_background": "light"
     },
     "output_type": "display_data"
    }
   ],
   "source": [
    "a1_a2_dist.plot.bar(title = \"Distribution of sum of the two dice\")"
   ]
  },
  {
   "cell_type": "code",
   "execution_count": 23,
   "metadata": {},
   "outputs": [],
   "source": [
    "# simulate 2 roll dice, and sum them\n",
    "# repeat 5000 times\n",
    "# Bar chart for the values\n",
    "# close to the theoretical, but not the same"
   ]
  },
  {
   "cell_type": "markdown",
   "metadata": {},
   "source": [
    "We see that the most popular outcome is 7. Why is it so?\n",
    "\n",
    "**As a probability, the sum of all values of a PMF must equal to 1.**"
   ]
  },
  {
   "cell_type": "markdown",
   "metadata": {},
   "source": [
    "The number of occurences for each value of the sum is given by the count of possible outcomes in the diagonal (\"/\") direction, where the row number and column number add to that specified number. For example, the mode, 7, ic romprised of the following events: 1+6, 2+5, 3+4, 4+3, 5+2, 6+1, and occurs a total of 6 out of 36 times.\n",
    "\n",
    "![](../images/Discrete_sum.png)\n",
    "\n",
    "The PMF of the sum of two dice rolls can therefore be summarised as follows: \n",
    "$$ PMF_X(x)=PMF_{A_1+A_2}(x)=P(A_1 + A_2 = x) =\n",
    "\\begin{cases}\n",
    "    1/36, & x=2 \\\\\n",
    "    2/36, & x=3 \\\\\n",
    "    3/36, & x=4 \\\\\n",
    "    4/36, & x=5 \\\\\n",
    "    5/36, & x=6 \\\\\n",
    "    6/36, & x=7 \\\\\n",
    "    5/36, & x=8 \\\\\n",
    "    4/36, & x=9 \\\\\n",
    "    3/36, & x=10 \\\\\n",
    "    2/36, & x=11 \\\\\n",
    "    1/36. & x=12 \n",
    "\\end{cases} $$\n",
    "\n",
    "For any discrete random variable $X$, the value of the PMF of $X$ at $x$, $PMF_X(x)$ is the probability that $X$ takes on the value of $x$, $P(X=x)$."
   ]
  },
  {
   "cell_type": "markdown",
   "metadata": {},
   "source": [
    "## Cumulative Distribution Function (CDF) for discrete random variables<a name='discretecdf'> </a>\n",
    "\n",
    "For discrete random variables, the height of the cumulative distribution function at $x$ is the sum of probability mass on the left of $x$, or,  $$CDF_X(x) = P(X \\leq x)$$ \n",
    "\n",
    "For the previous example of $X = A_1 + A_2$, calculate $CDF_X(x)$. \n",
    "\n",
    "$$ CDF_X(x) = P(X \\leq  x) = P(A_1 + A_2 \\leq  x)=\n",
    "\\begin{cases}\n",
    "    P(A_1 + A_2 \\leq  2) = P(A_1 + A_2 =  2)=1/36, & x=2 \\\\\n",
    "    P(A_1 + A_2 \\leq  3) = P(A_1 + A_2 =  2 or A_1 + A_2 =  3)= 1/36 + 2/36 = 3/36, & x=3 \\\\\n",
    "    P(A_1 + A_2 \\leq  4) = P(A_1 + A_2 =  2 or A_1 + A_2 =  3 or A_1 + A_2 =  4)=1/36+2/36+3/36=6/36, & x=4 \\\\\n",
    "    ..., & x=5 \\\\\n",
    "    ..., & x=6 \\\\\n",
    "    ..., & x=7 \\\\\n",
    "    ..., & x=8 \\\\\n",
    "    ..., & x=9 \\\\\n",
    "    ..., & x=10 \\\\\n",
    "    ..., & x=11 \\\\\n",
    "    ...,  & x=12 \n",
    "\\end{cases} $$"
   ]
  },
  {
   "cell_type": "markdown",
   "metadata": {},
   "source": [
    "<div class = \"alert alert-block alert-warning\">\n",
    "<b>Exercise</b>\n",
    "<p>\n",
    "Complete the calculation of $CDF_X(x)$ for the above example:\n",
    "\n",
    "> $$ CDF_X(x) = P(X \\leq  x) = P(A_1 + A_2 \\leq  x) \n",
    "\\begin{cases}\n",
    "    P(A_1 + A_2 \\leq  2) = P(A_1 + A_2 =  2)=1/36, & x=2 \\\\\n",
    "    P(A_1 + A_2 \\leq  3) = P(A_1 + A_2 \\leq   2 or A_1 + A_2 =  3)= 1/36 + 2/36 = 3/36, & x=3 \\\\\n",
    "    P(A_1 + A_2 \\leq  4) = P(A_1 + A_2 \\leq   3 or A_1 + A_2 =  4) = 3/36+3/36=6/36,  & x=4 \\\\\n",
    "    P(A_1 + A_2 \\leq  5) = P(A_1 + A_2 \\leq   4 or A_1 + A_2 =  5) = 6/36+4/36=10/36, & x=5 \\\\\n",
    "    P(A_1 + A_2 \\leq  6) = P(A_1 + A_2 \\leq   5 or A_1 + A_2 =  6) = 10/36+5/36=15/36, & x=6 \\\\\n",
    "    P(A_1 + A_2 \\leq  7) = P(A_1 + A_2 \\leq   6 or A_1 + A_2 =  7) = 15/36+6/36=21/36, & x=7 \\\\\n",
    "    P(A_1 + A_2 \\leq  8) = P(A_1 + A_2 \\leq   7 or A_1 + A_2 =  8) = 21/36+5/36=26/36, & x=8 \\\\\n",
    "    P(A_1 + A_2 \\leq  9) = P(A_1 + A_2 \\leq   8 or A_1 + A_2 =  9) = 26/36+4/36=30/36, & x=9 \\\\\n",
    "    P(A_1 + A_2 \\leq  10) = P(A_1 + A_2 \\leq  9 or A_1 + A_2 =  10) = 30/36+3/36=33/36, & x=10 \\\\\n",
    "    P(A_1 + A_2 \\leq  11) = P(A_1 + A_2 \\leq  10 or A_1 + A_2 =  11) = 33/36+2/36=35/36, & x=11 \\\\\n",
    "    P(A_1 + A_2 \\leq  12) = P(A_1 + A_2 \\leq  11 or A_1 + A_2 =  12) = 35/36+1/36=36/36 = 1,  & x=12 \n",
    "\\end{cases} $$\n",
    "</div>"
   ]
  },
  {
   "cell_type": "markdown",
   "metadata": {},
   "source": [
    "The CDF is shown below in red:"
   ]
  },
  {
   "cell_type": "code",
   "execution_count": 35,
   "metadata": {},
   "outputs": [
    {
     "data": {
      "text/html": [
       "<div>\n",
       "<style scoped>\n",
       "    .dataframe tbody tr th:only-of-type {\n",
       "        vertical-align: middle;\n",
       "    }\n",
       "\n",
       "    .dataframe tbody tr th {\n",
       "        vertical-align: top;\n",
       "    }\n",
       "\n",
       "    .dataframe thead th {\n",
       "        text-align: right;\n",
       "    }\n",
       "</style>\n",
       "<table border=\"1\" class=\"dataframe\">\n",
       "  <thead>\n",
       "    <tr style=\"text-align: right;\">\n",
       "      <th></th>\n",
       "      <th>pmf</th>\n",
       "      <th>cdf</th>\n",
       "    </tr>\n",
       "  </thead>\n",
       "  <tbody>\n",
       "    <tr>\n",
       "      <td>2</td>\n",
       "      <td>0.0274</td>\n",
       "      <td>0.0274</td>\n",
       "    </tr>\n",
       "    <tr>\n",
       "      <td>3</td>\n",
       "      <td>0.0514</td>\n",
       "      <td>0.0788</td>\n",
       "    </tr>\n",
       "    <tr>\n",
       "      <td>4</td>\n",
       "      <td>0.0824</td>\n",
       "      <td>0.1612</td>\n",
       "    </tr>\n",
       "    <tr>\n",
       "      <td>5</td>\n",
       "      <td>0.1068</td>\n",
       "      <td>0.2680</td>\n",
       "    </tr>\n",
       "    <tr>\n",
       "      <td>6</td>\n",
       "      <td>0.1422</td>\n",
       "      <td>0.4102</td>\n",
       "    </tr>\n",
       "    <tr>\n",
       "      <td>7</td>\n",
       "      <td>0.1692</td>\n",
       "      <td>0.5794</td>\n",
       "    </tr>\n",
       "    <tr>\n",
       "      <td>8</td>\n",
       "      <td>0.1364</td>\n",
       "      <td>0.7158</td>\n",
       "    </tr>\n",
       "    <tr>\n",
       "      <td>9</td>\n",
       "      <td>0.1136</td>\n",
       "      <td>0.8294</td>\n",
       "    </tr>\n",
       "    <tr>\n",
       "      <td>10</td>\n",
       "      <td>0.0876</td>\n",
       "      <td>0.9170</td>\n",
       "    </tr>\n",
       "    <tr>\n",
       "      <td>11</td>\n",
       "      <td>0.0526</td>\n",
       "      <td>0.9696</td>\n",
       "    </tr>\n",
       "    <tr>\n",
       "      <td>12</td>\n",
       "      <td>0.0304</td>\n",
       "      <td>1.0000</td>\n",
       "    </tr>\n",
       "  </tbody>\n",
       "</table>\n",
       "</div>"
      ],
      "text/plain": [
       "       pmf     cdf\n",
       "2   0.0274  0.0274\n",
       "3   0.0514  0.0788\n",
       "4   0.0824  0.1612\n",
       "5   0.1068  0.2680\n",
       "6   0.1422  0.4102\n",
       "7   0.1692  0.5794\n",
       "8   0.1364  0.7158\n",
       "9   0.1136  0.8294\n",
       "10  0.0876  0.9170\n",
       "11  0.0526  0.9696\n",
       "12  0.0304  1.0000"
      ]
     },
     "execution_count": 35,
     "metadata": {},
     "output_type": "execute_result"
    }
   ],
   "source": [
    "pmf_dice = a1_a2.value_counts(sort = False, normalize = True).sort_index()\n",
    "dice_dist = pd.DataFrame({'pmf': pmf_dice, \n",
    "                          'cdf': np.cumsum(pmf_dice)})\n",
    "dice_dist"
   ]
  },
  {
   "cell_type": "code",
   "execution_count": 33,
   "metadata": {},
   "outputs": [
    {
     "data": {
      "text/plain": [
       "<matplotlib.legend.Legend at 0x1b603b8bdc8>"
      ]
     },
     "execution_count": 33,
     "metadata": {},
     "output_type": "execute_result"
    },
    {
     "data": {
      "image/png": "[encoded data removed]",
      "text/plain": [
       "<Figure size 432x288 with 1 Axes>"
      ]
     },
     "metadata": {
      "needs_background": "light"
     },
     "output_type": "display_data"
    }
   ],
   "source": [
    "ax = plt.subplot()\n",
    "ax.bar(x = dice_dist.index, height = dice_dist.pmf, label = \"pmf\")\n",
    "ax.step(x = dice_dist.index, y = dice_dist.cdf, c = 'red', label = \"cdf\")\n",
    "\n",
    "plt.suptitle('PMF vs CDF of $A_1$ vs. $A_2$')\n",
    "plt.title('CDF is shown in red', color='grey')\n",
    "plt.xlabel('$A_1 + A_2$')\n",
    "plt.ylabel(\"Probability\")\n",
    "plt.legend()"
   ]
  },
  {
   "cell_type": "code",
   "execution_count": 34,
   "metadata": {},
   "outputs": [
    {
     "data": {
      "text/plain": [
       "Int64Index([2, 3, 4, 5, 6, 7, 8, 9, 10, 11, 12], dtype='int64')"
      ]
     },
     "execution_count": 34,
     "metadata": {},
     "output_type": "execute_result"
    }
   ],
   "source": [
    "dice_dist.index"
   ]
  },
  {
   "cell_type": "markdown",
   "metadata": {},
   "source": [
    "<div class = \"alert alert-block alert-warning\">\n",
    "<b>Exercise</b>\n",
    "<p>\n",
    "    A random variable $X$ has a probability distribution of\n",
    "\n",
    "$$P(X =  x) =  \\frac{x+2}{42}, \\hspace{1cm}  x=1,2,3,4,5,6,7$$\n",
    "\n",
    "\n",
    "\n",
    "&nbsp;&nbsp;&nbsp;&nbsp;&nbsp;&nbsp;a. Complete the table representation of $PMF_X(x)$\n",
    "\n",
    "> \\begin{array} {|c|c|}\n",
    "\\hline x &1 &2 &3 &4 &5 &6 &7 \\\\ \n",
    "\\hline \n",
    "PMF_X(x) &   & &  & & & &   \\\\\n",
    "\\hline\n",
    "\\end{array}\n",
    "\n",
    "\n",
    "\n",
    "&nbsp;&nbsp;&nbsp;&nbsp;&nbsp;&nbsp;b. Complete the table representation of $CDF_X(x)$\n",
    "\n",
    "> \\begin{array} {|c|c|}\n",
    "\\hline x &1 &2 &3 &4 &5 &6 &7 \\\\ \n",
    "\\hline \n",
    "CDF_X(x) & & & & & & &  \\\\\n",
    "\\hline\n",
    "\\end{array}\n",
    "\n",
    "</div>"
   ]
  },
  {
   "cell_type": "code",
   "execution_count": 63,
   "metadata": {},
   "outputs": [
    {
     "name": "stdout",
     "output_type": "stream",
     "text": [
      "[0.0714, 0.0952, 0.119, 0.1429, 0.1667, 0.1905, 0.2143]\n",
      "[0.071 0.166 0.285 0.428 0.595 0.785 0.999]\n"
     ]
    }
   ],
   "source": [
    "x = range(1,8)\n",
    "\n",
    "\n",
    "pmf=[]\n",
    "for i in x:\n",
    "    y = (i+2)/42\n",
    "    pmf.append(round(y,4))\n",
    "\n",
    "# or\n",
    "# pmf = [round((i+2)/42,2) for i in x]\n",
    "    \n",
    "cdf = np.cumsum(pmf)\n",
    "print(pmf)\n",
    "print(cmf)"
   ]
  },
  {
   "cell_type": "code",
   "execution_count": 61,
   "metadata": {},
   "outputs": [
    {
     "data": {
      "text/html": [
       "<div>\n",
       "<style scoped>\n",
       "    .dataframe tbody tr th:only-of-type {\n",
       "        vertical-align: middle;\n",
       "    }\n",
       "\n",
       "    .dataframe tbody tr th {\n",
       "        vertical-align: top;\n",
       "    }\n",
       "\n",
       "    .dataframe thead th {\n",
       "        text-align: right;\n",
       "    }\n",
       "</style>\n",
       "<table border=\"1\" class=\"dataframe\">\n",
       "  <thead>\n",
       "    <tr style=\"text-align: right;\">\n",
       "      <th></th>\n",
       "      <th>x</th>\n",
       "      <th>pmf</th>\n",
       "      <th>cdf</th>\n",
       "    </tr>\n",
       "  </thead>\n",
       "  <tbody>\n",
       "    <tr>\n",
       "      <td>0</td>\n",
       "      <td>1</td>\n",
       "      <td>0.0714</td>\n",
       "      <td>0.0714</td>\n",
       "    </tr>\n",
       "    <tr>\n",
       "      <td>1</td>\n",
       "      <td>2</td>\n",
       "      <td>0.0952</td>\n",
       "      <td>0.1666</td>\n",
       "    </tr>\n",
       "    <tr>\n",
       "      <td>2</td>\n",
       "      <td>3</td>\n",
       "      <td>0.1190</td>\n",
       "      <td>0.2856</td>\n",
       "    </tr>\n",
       "    <tr>\n",
       "      <td>3</td>\n",
       "      <td>4</td>\n",
       "      <td>0.1429</td>\n",
       "      <td>0.4285</td>\n",
       "    </tr>\n",
       "    <tr>\n",
       "      <td>4</td>\n",
       "      <td>5</td>\n",
       "      <td>0.1667</td>\n",
       "      <td>0.5952</td>\n",
       "    </tr>\n",
       "    <tr>\n",
       "      <td>5</td>\n",
       "      <td>6</td>\n",
       "      <td>0.1905</td>\n",
       "      <td>0.7857</td>\n",
       "    </tr>\n",
       "    <tr>\n",
       "      <td>6</td>\n",
       "      <td>7</td>\n",
       "      <td>0.2143</td>\n",
       "      <td>1.0000</td>\n",
       "    </tr>\n",
       "  </tbody>\n",
       "</table>\n",
       "</div>"
      ],
      "text/plain": [
       "   x     pmf     cdf\n",
       "0  1  0.0714  0.0714\n",
       "1  2  0.0952  0.1666\n",
       "2  3  0.1190  0.2856\n",
       "3  4  0.1429  0.4285\n",
       "4  5  0.1667  0.5952\n",
       "5  6  0.1905  0.7857\n",
       "6  7  0.2143  1.0000"
      ]
     },
     "execution_count": 61,
     "metadata": {},
     "output_type": "execute_result"
    }
   ],
   "source": [
    "# dont need actually\n",
    "dist = pd.DataFrame({'x': x,\n",
    "                          'pmf': pmf, \n",
    "                          'cdf': np.cumsum(pmf)})\n",
    "dist"
   ]
  },
  {
   "cell_type": "markdown",
   "metadata": {},
   "source": [
    "<div class = \"alert alert-block alert-warning\">\n",
    "<b>Exercise</b>\n",
    "<p>\n",
    "    Plot $PMF_X(x)$ and $CDF_X(x)$ on the same pair of axes.\n",
    "    </div>"
   ]
  },
  {
   "cell_type": "code",
   "execution_count": 65,
   "metadata": {},
   "outputs": [
    {
     "data": {
      "text/plain": [
       "<matplotlib.legend.Legend at 0x1b605193208>"
      ]
     },
     "execution_count": 65,
     "metadata": {},
     "output_type": "execute_result"
    },
    {
     "data": {
      "image/png": "[encoded data removed]",
      "text/plain": [
       "<Figure size 432x288 with 1 Axes>"
      ]
     },
     "metadata": {
      "needs_background": "light"
     },
     "output_type": "display_data"
    }
   ],
   "source": [
    "# basically subplot - plotting on same graph?\n",
    "\n",
    "ax = plt.subplot()\n",
    "ax.bar(x = dist.x, height = dist.pmf, label = \"pmf\")\n",
    "ax.step(x = dist.x, y = dist.cdf, c = 'red', label = \"cdf\")\n",
    "\n",
    "plt.suptitle('PMF vs CDF of x')\n",
    "plt.title('CDF is shown in red', color='grey')\n",
    "plt.xlabel('x')\n",
    "plt.ylabel(\"Probability\")\n",
    "plt.legend()"
   ]
  },
  {
   "cell_type": "markdown",
   "metadata": {},
   "source": [
    "## Probability Distribution Function (PDF)<a name='pdf'> </a>\n",
    "\n",
    "If $X$ is a continuous random variable, we cannot represent it as a probability table or barplot. For example, if $X$ is the height of the university male students, all the possible outcomes of $X$ within an interval cannot be listed. We can show the **probability distribution** of a continuous random variable using a smooth curve called **Probability Density Curve**. \n",
    "\n",
    "<img src='../images/betweenProb.png'>\n",
    "\n",
    "The curve represents probabilities by area. The total area under the density curve equals 1."
   ]
  },
  {
   "cell_type": "markdown",
   "metadata": {},
   "source": [
    "<div class = \"alert alert-block alert-info\">\n",
    "<b>Example</b>\n",
    "<p>\n",
    "    If $X$ is the height of male university students, the area of the red section in the following figure shows $P(150 \\leq X \\leq 160)$.\n",
    "\n",
    "<img src='../images/CountPDF.png'>\n",
    "\n",
    "If $f(x)$ represents the Probability Distribution Function for a continuous random variable $X$, then <br>\n",
    "\n",
    "$P(a \\leq X \\leq b)$= area between a and b under the density curve=$\\int_{a}^{b} f(x)\\, dx$\n",
    "</div>"
   ]
  },
  {
   "cell_type": "markdown",
   "metadata": {},
   "source": [
    "## Cumulative Distribution Function (CDF) for continuous random variables<a name='continuouscdf'> </a>\n",
    "\n",
    "Some properties of the CDF are:\n",
    "- The CDF is non-decreasing with x\n",
    "- It starts with 0 and ends with 1\n",
    "\n",
    "For continuous random variables, the CDF is also defined as $CDF_X(x) = P(X \\leq x)$.\n",
    "\n",
    "In the discrete case, the sum of the PMF from the left is the height of the CDF; in the continuous case, the integral of the PDF from the left (the area under the curve on the left) is the height of the CDF. $$CDF(x) = \\int_{- \\infty }^{x} PDF(t) dt$$\n",
    "\n",
    "Also, differentiation on the CDF yields the PDF. $$PDF(x) = \\frac{d} {dx} CDF(x)$$.\n",
    "\n",
    "**Attention**: We have seen that for a discrete random variable (e.g. the outcome of rolling a dice), whether we have a strict inequality or not does matter when solving for probabilities. But, for a continuous random variable like height, the probability of a height of less than or equal to 170 will be the same as the probability of a height of strictly less than 170. In other words,\n",
    "\n",
    "$$P(X \\leq x)=P(X < x)$$\n",
    "\n",
    "<img src ='../images/ineqProb.png'>\n",
    "\n",
    "Visually, in terms of our density curve, the area under the curve up to and including a certain point is the same as the area up to and excluding the point, because there is no area over a single point. \n",
    "\n",
    "Conceptually, because a continuous random variable has infinitely many possible values, technically the probability of any single value occurring is zero!\n",
    "\n",
    "$$P(X = x)=0$$\n",
    "\n",
    "<img src='../images/equaProb.png'>\n",
    "\n",
    "It should be clear now why the total area under any probability density curve must be 1. The total area under the curve represents P(X gets a value in the interval of its possible values). Clearly, according to the rules of probability this must be 1, or always true.\n",
    "\n",
    "$$\\int_{-\\infty}^{\\infty} f(x)\\, dx =1$$\n",
    "\n",
    "<img src='../images/totalProb.png'>\n",
    "\n",
    "Recall the complement rule. Since $P(X \\geq x)$ is the complementary event of $P(X < x)$, <br><br>\n",
    "$$P(X \\geq x)=1-P(X < x)$$\n",
    "\n",
    "<img src='../images/compProb.png'>"
   ]
  },
  {
   "cell_type": "markdown",
   "metadata": {},
   "source": [
    "<div class = \"alert alert-block alert-info\">\n",
    "<b>Example</b>\n",
    "<p>\n",
    "Below is an example of a probability distribution function, with its CDF, of a skewed distribution:\n",
    "    </div>"
   ]
  },
  {
   "cell_type": "code",
   "execution_count": null,
   "metadata": {},
   "outputs": [],
   "source": [
    "x = np.linspace(0,10,501)\n",
    "pdf_y, cdf_y, ppf_y = gamma.pdf(x, 3), gamma.cdf(x, 3), gamma.ppf(0.5, 3)"
   ]
  },
  {
   "cell_type": "markdown",
   "metadata": {},
   "source": [
    "Note how the `scipy.stats` continuous random variable functions allow us to construct distribution classes. Specifically, the distribution classs we're interested in are: \n",
    " - `pdf`, for the probability distribution function,  \n",
    " - `cdf`, for the cumulative distribution function, and\n",
    " - `ppf` for the quantile function. \n",
    " \n",
    "It can be used as follows: `scipy.stats.rv_continuous.pdf()` with the distribution parameters as arguments. \n",
    "\n",
    "The gamma distribution classes take two parameters, `x` and the shape parameter `a`. The gamma distribution is out of the scope of this course, but is used here to illustrate a skewed distribution. "
   ]
  },
  {
   "cell_type": "code",
   "execution_count": null,
   "metadata": {},
   "outputs": [],
   "source": [
    "x = np.linspace(0,10,501)\n",
    "ax = plt.subplot()\n",
    "ax.plot(x, pdf_y, label = \"PDF(x)\")\n",
    "ax.plot(x, cdf_y, label = \"CDF(x)\", color = 'red')\n",
    "plt.title(\"PDF & CDF of a GAMMA distribution $\\mu = 0.5, \\lambda = 3$\")\n",
    "ax.legend()\n",
    "plt.legend()"
   ]
  },
  {
   "cell_type": "code",
   "execution_count": null,
   "metadata": {},
   "outputs": [],
   "source": [
    "mean_y = gamma.mean(3, loc=0, scale=1)\n",
    "mean_y"
   ]
  },
  {
   "cell_type": "code",
   "execution_count": null,
   "metadata": {},
   "outputs": [],
   "source": [
    "gamma.median(3, loc=0, scale=1)"
   ]
  },
  {
   "cell_type": "code",
   "execution_count": null,
   "metadata": {},
   "outputs": [],
   "source": [
    "# where is the median? \n",
    "median_y = gamma.ppf(0.5, 3)\n",
    "#gamma.median(3, loc=0, scale=1)"
   ]
  },
  {
   "cell_type": "code",
   "execution_count": null,
   "metadata": {},
   "outputs": [],
   "source": [
    "median_y"
   ]
  },
  {
   "cell_type": "code",
   "execution_count": null,
   "metadata": {},
   "outputs": [],
   "source": [
    "fg, ax = plt.subplots(nrows = 2, ncols = 1)\n",
    "plt.suptitle('Probability distribution and density function of gamma distribution\\n with shape parameter 3 and scale parameter 1 on interval (0,10)')\n",
    "\n",
    "ax[0].plot(x, cdf_y, color = 'black', label = 'cdf')\n",
    "ax[1].plot(x, pdf_y, label = 'pdf')\n",
    "\n",
    "for i, axis in enumerate(ax.flatten()):\n",
    "    axis.vlines(mean_y, ymin = 0, ymax = 1, color = 'orange', label = 'mean')\n",
    "    axis.vlines(median_y, ymin = 0, ymax = 1, color = 'red', label='median')\n",
    "    \n",
    "plt.legend()\n"
   ]
  },
  {
   "cell_type": "markdown",
   "metadata": {},
   "source": [
    "The **median** of the PDF is the value of $x$ where the area to the left equals the area to the right, i.e. the area coloured dark grey is equal to 0.5. <br>The **mean** of the PDF is the value of $x$ at which the probability density achieves its maximum."
   ]
  },
  {
   "cell_type": "markdown",
   "metadata": {},
   "source": [
    "# 3. Some common distributions <a name='common_distribution'> </a>\n",
    "\n",
    "## Normal Distribution<a name='normal'> </a>\n",
    "\n",
    "The normal distribution (also called Gaussian distribution) is perhaps the most important distribution in all of statistics, as we will see when we discuss the **Central Limit Theorem**. It is a continuous probability distribution with the following properties:\n",
    "- It is defined by two parameters: the mean, $\\mu$ and the standard deviation, $\\sigma$.\n",
    "- It is symmetric about the mean: $P(\\mu + x) = P(\\mu - x)$ for any $x$.\n",
    "- Its range is from negative infinity to positive infinity, although after a few standard deviations from the mean, the probability is negligible.\n",
    "- Its quantiles can be defined with the mean and standard deviations. For example, the 1st quartile is always $\\mu - 0.67\\sigma$.\n",
    "- The PDF of the normal distribution with mean $\\mu$ and standard deviation $\\sigma$ is $$PDF_X(x)= \\frac{1}{\\sqrt{2\\pi\\sigma}} \\exp{\\left(\\frac {- {(x - \\mu)}^2}{2\\sigma^2}\\right)}$$\n",
    "- The **standard normal distribution** is the normal distribution with zero mean and unit standard deviation.\n",
    "\n",
    "### Examples:\n",
    "    * heights of people\n",
    "    * errors in measurements\n",
    "    * blood pressure\n",
    "    * marks on a test\n",
    "\n",
    "### The Standard Deviation Rule\n",
    "Around 68% of the data are centered around the mean.\n",
    "\n",
    "$$P (\\mu-\\sigma \\leq x \\leq \\mu+\\sigma )= 0.68$$\n",
    "\n",
    "<table border=1>\n",
    "<tr><td>Standard Normal Distribution</td><td><img src=\"../images/Bell-Curve.png\" height=\"400\" width=\"600\"></td></tr></table>\n",
    "<br><br>\n",
    "\n"
   ]
  },
  {
   "cell_type": "markdown",
   "metadata": {},
   "source": [
    "For the distribution classes of the normal distribution, the `loc` argument specifies the mean, whereas the `scale` argument specifies the standard deviation. The syntax is: \n",
    "```python\n",
    "norm.pdf(x, loc, scale)\n",
    "```"
   ]
  },
  {
   "cell_type": "code",
   "execution_count": null,
   "metadata": {},
   "outputs": [],
   "source": [
    "x = np.arange(-5, 5, .01)\n",
    "y1_pdf, y2_pdf = norm.pdf(x, 0, 2), norm.pdf(x, -1, 1)"
   ]
  },
  {
   "cell_type": "code",
   "execution_count": null,
   "metadata": {},
   "outputs": [],
   "source": [
    "ax = plt.subplot()\n",
    "ax.plot(x, y1_pdf, label = \"$\\mu = 0, \\sigma = 2$\")\n",
    "ax.plot(x, y2_pdf, label = \"$\\mu = -1, \\sigma = 1$\")\n",
    "plt.title(\"PDF of normal distributions\")\n",
    "ax.legend()"
   ]
  },
  {
   "cell_type": "code",
   "execution_count": null,
   "metadata": {},
   "outputs": [],
   "source": [
    "norm.ppf(0.25, 5, 1)"
   ]
  },
  {
   "cell_type": "code",
   "execution_count": null,
   "metadata": {},
   "outputs": [],
   "source": [
    "x = np.arange(-5, 5, .01)\n",
    "y1_pdf, y2_pdf = norm.pdf(x, 0, 2), norm.cdf(x, 0, 2)\n",
    "ax = plt.subplot()\n",
    "ax.plot(x, y1_pdf, label = \"PDF(x)\")\n",
    "ax.plot(x, y2_pdf, label = \"CDF(x)\", color = 'red')\n",
    "plt.title(\"PDF & CDF of a normal distribution $\\mu = 0, \\sigma = 2$\")\n",
    "ax.legend()"
   ]
  },
  {
   "cell_type": "markdown",
   "metadata": {},
   "source": [
    "## Binomial Distribution<a name='binomial'> </a>\n",
    "\n",
    "The binomial distribution with parameters $n$ and $p$ is a discrete probability distribution of the number of successes in a sequence of $n$ independent binary (e.g. yes/no) experiments, each of which has probability $p$ of success.\n",
    "\n",
    "**Binomial Distribution characteristics:**\n",
    "\n",
    "- The process consists of a sequence of $n$ trials.\n",
    "- Only two possible outcomes, 'success' or 'failure'.\n",
    "    - The probability of success, $p$, is equal to $1 - q$, where $q$ is the probability of failure.\n",
    "- Trials are independent of one another: the outcome of previous trials do not influence future trials.\n",
    "- The values of $n$ and $p$ determine the shape of the binomial distribution.\n",
    "- Examples: \n",
    "    - Tossing a fair coin (heads = success, tails = failure, n = number of coin tosses made)\n",
    "    - Performance of a telephone sales team (sales closed = success, rejected customer = failure, n = number of phone calls made)\n",
    "\n",
    "**Probability Mass Function (PMF)**\n",
    "The probability of getting exactly $k$ successes in $n$ trials is given by\n",
    "    $$f(k;n,p) = Pr(X=k) =\\binom{n}{k}p^k(1-p)^{n-k}$$\n",
    "\n",
    "\n",
    "**Motivating question:** Suppose we toss a fair coin 3 times, what is the probability we get 0, 1, 2, or 3 heads?\n",
    "\n",
    "The Binomial distribution is given by the formula\n",
    "\n",
    "$$\\binom{n}{k}p^k(1-p)^{n-k}$$\n",
    "\n",
    "where $k$ is the number of successes, $n$ is the number of trials, and $p$ is the probability of success. \n",
    "In this formula, $\\binom{n}{k}$ is also known as the **binomial coefficient**. It can be read as \"$n$ choose $k$\". It represents the number of distinct sequences of length $n$ where there are $k$ successes.\n",
    "\n",
    "**The formula for the binomial coefficient is:** \n",
    "\n",
    "$$\\binom{n}{k} = C(n,k) = n\\mathrm{C}k = \\frac{n!}{k! (n-k)!} $$\n",
    "(This is just for your reference. You may recognise this as the Combinations formula)\n",
    "\n",
    "**Population mean and standard deviation**\n",
    "\n",
    "* The population mean of binomial random variable is $np$. \n",
    "* The population standard deviation is $\\sqrt{np(1-p)}$."
   ]
  },
  {
   "cell_type": "markdown",
   "metadata": {},
   "source": [
    "<div class = \"alert alert-block alert-info\">\n",
    "<b>Example</b>\n",
    "<p>\n",
    "Suppose you toss a fair coin 4 times, and you would like to know the probability of having 2 heads and 2 tails. Let us enumerate the event space \n",
    "\n",
    "$$\\{HHHH, HHHT, HHTH, HHTT, HTHH, HTHT, HTTH, HTTT, THHH, THHT, THTH, THTT, TTHH, TTHT, TTTH, TTTT\\}$$\n",
    "\n",
    "The number of events having 2 heads and 2 tails is $\\binom{4}{2}=6$. You can verify this by manually counting \n",
    "\n",
    "$$\\{HHTT, HTHT, HTTH, THHT, THTH, TTHH\\}$$\n",
    "\n",
    "The $2^4=16$ events in the event space are equally likely. Therefore the probability is 6 * (1/16) = 0.375. Equivalently $$\\binom{4}{2} 0.5^2 (1-0.5)^2 = 0.375$$\n",
    "</div>"
   ]
  },
  {
   "cell_type": "markdown",
   "metadata": {},
   "source": [
    "### Programmatic solution\n",
    "You can use `scipy.special.comb` to find $\\binom{4}{2}$:"
   ]
  },
  {
   "cell_type": "code",
   "execution_count": null,
   "metadata": {},
   "outputs": [],
   "source": [
    "from scipy.special import comb\n",
    "print(comb(4,2))\n",
    "print(comb(4,2)*(.5**2)*((1-.5)**2))"
   ]
  },
  {
   "cell_type": "markdown",
   "metadata": {},
   "source": [
    "Before we discuss the `scipy`-based solution, note that `scipy.stats` defines a probability mass function (`rv_discrete.pmf`) instead of a probability distribution function. "
   ]
  },
  {
   "cell_type": "code",
   "execution_count": null,
   "metadata": {},
   "outputs": [],
   "source": [
    "print(binom.pmf(3,10,.167))"
   ]
  },
  {
   "cell_type": "markdown",
   "metadata": {},
   "source": [
    "<div class = \"alert alert-block alert-info\">\n",
    "<b>Example</b>\n",
    "<p>\n",
    "Suppose that you work in a customer service department of a large retailer. Your colleague bets RM10 that there will be 2 or fewer complaints over the quality of service out of 100 sales made today. How likely is she to win that RM10?\n",
    "\n",
    "The probability that each individual customer will complain is 0.1. For the purposes of this experiment, you can assume that the probability each customer will complain remains constant and that each sale is identical to one another.\n",
    "\n",
    "\n",
    "The probability that $k$ is less than or equal to 2, $\\Pr{(k \\leq 2)}$ is equal to the sum of $\\Pr{(k=2)}$, $\\Pr{(k=1)}$, and $\\Pr{(k=0)}$, i.e.\n",
    "\n",
    "$$P(k \\leq 2)= P(k = 2) + P(k = 1) + P(k = 0)$$\n",
    "\n",
    "Given \n",
    "- $p = 0.1$\n",
    "- $n = 100$\n",
    "- $k = 2, 1, 0$\n",
    "\n",
    "$$\\binom{100}{2}0.1^20.9^{100-2} + \\binom{100}{1}0.1^10.9^{100-1} + \\binom{100}{0}0.1^00.9^{100-0} = 0.00194488465$$\n",
    "\n",
    "which means that there is a 0.19% chance for two or fewer complaints per 100 customers.\n",
    "</div>"
   ]
  },
  {
   "cell_type": "code",
   "execution_count": null,
   "metadata": {},
   "outputs": [],
   "source": [
    "print(binom.cdf(5, 100, 0.1)-binom.cdf(2, 100, 0.1))"
   ]
  },
  {
   "cell_type": "markdown",
   "metadata": {},
   "source": [
    "<div class = \"alert alert-block alert-info\">\n",
    "<b>Example</b>\n",
    "<p>\n",
    " Suppose a biased coin comes up heads with probability 0.3 when tossed. What is the probability of achieving <b>4</b> heads <b>after 6</b> tosses?\n",
    "    \\begin{equation*}\n",
    "     \\Pr(4{\\text{ heads}})=f(4)=\\Pr(X=4)={6 \\choose 4}0.3^{4}(1-0.3)^{6-4}\\approx 0.0595\n",
    "    \\end{equation*}\n",
    "    </div>"
   ]
  },
  {
   "cell_type": "code",
   "execution_count": null,
   "metadata": {},
   "outputs": [],
   "source": [
    "print(binom.pmf(4, 6, .3))"
   ]
  },
  {
   "cell_type": "markdown",
   "metadata": {},
   "source": [
    "# Extra \n",
    "\n",
    "### Normal distribution as limiting case of the binomial distribution\n",
    "\n",
    "We plot below the normal and binomial distributions with the same mean and standard deviations.\n",
    "\n",
    "Recall that for a binomial distribution $\\mu = np$ and $\\sigma = \\sqrt{np(1-p)}$. "
   ]
  },
  {
   "cell_type": "code",
   "execution_count": null,
   "metadata": {},
   "outputs": [],
   "source": [
    "x1 = np.linspace(0,10,501)\n",
    "norm_pdf = norm.pdf(x1, 5, 2.5 ** .5)\n",
    "\n",
    "x2 = np.arange(0,10)\n",
    "binom_pmf = binom.pmf(x2, 10, .5)"
   ]
  },
  {
   "cell_type": "code",
   "execution_count": null,
   "metadata": {},
   "outputs": [],
   "source": [
    "plt.bar(x = x2, height = binom_pmf, label = \"$X_2 \\sim B(n=10, p =.5)$\", color = 'aliceblue')\n",
    "plt.plot(x1, norm_pdf, label = \"$X_1 \\sim N(\\mu = 5, \\sigma = \\sqrt{2.5})$\")\n",
    "plt.legend()\n",
    "plt.title(\"PMF of normal distribution and PDF of binomial distribution\")"
   ]
  },
  {
   "cell_type": "code",
   "execution_count": null,
   "metadata": {},
   "outputs": [],
   "source": [
    "norm_cdf = norm.cdf(x1, 5, 2.5 ** .5)\n",
    "binom_cdf = binom.cdf(x2, 10, .5)\n",
    "\n",
    "plt.plot(x1, norm_cdf, label = \"$X_1 \\sim N(\\mu = 5, \\sigma = \\sqrt{2.5})$\")\n",
    "plt.step(x2, binom_cdf, label = \"$X_2 \\sim B(n=10, p =.5)$\")\n",
    "plt.legend()\n",
    "plt.title(\"CDF of normal and binomial distribution\")"
   ]
  },
  {
   "cell_type": "markdown",
   "metadata": {},
   "source": [
    "The normal distribution can be seen as the limit of the binomial distribution when the size parameter $n$ approaches infinity. For binomial distribution with large $n$, it is often convenient to approximate with the normal distribution having the same mean and variance.\n",
    "\n",
    "#### Normal approximation of binomial random variables\n",
    "To approximate a binomial distribution with a normal distribution, set the mean of the normal distribution as $\\mu=np$, and sd $\\sigma=\\sqrt{np(1-p)}$. As a rule of thumb, use the normal approximation for counts and proportions only if $np>10$ and $n(1-p)>10$.\n",
    "\n",
    "#### Poisson distribution as a limiting case of binomial distribution\n",
    "Below we introduce the Poisson distribution. It is also another limit of binomial distribution. In this case, the mean is fixed, and as $n$ increases to infinity, $p$ decreases so as to keep the mean $np$ constant. The limit is the Poisson distribution with parameter $\\lambda = np$."
   ]
  },
  {
   "cell_type": "markdown",
   "metadata": {},
   "source": [
    "## Poisson Distribution <a name='poisson'> </a>\n",
    "\n",
    "The Poisson Distribution is used to model the distribution of rare events occuring within a given time period. It has the following characteristics:\n",
    "\n",
    "- It is a discrete distribution taking integer values.\n",
    "- The number of observations ($x$) can theoretically range from zero to infinity, $0 \\leq X \\leq \\infty$.\n",
    "- The expected number of events $E(X)$ or lambda ($\\lambda$) is constant throughout the experiment.\n",
    "- Examples: \n",
    "    - The number of misprints on a page (or group of pages) on a book\n",
    "    - The number of earthquakes occuring during some fixed time span\n",
    "    - The number of deaths in a given period of time of the policyholders of a life insurance company\n",
    "\n",
    "**The probability mass function for a Poisson Distribution is given by**\n",
    "\n",
    "$$f( x) = \\frac{{e^{ - \\lambda } \\lambda ^x }}{{x!}}$$\n",
    "\n",
    "**Population mean and standard deviation**\n",
    "* The population mean of a Poisson random variable is $\\lambda$\n",
    "* The population standard deviation is $\\sqrt{\\lambda}$."
   ]
  },
  {
   "cell_type": "markdown",
   "metadata": {},
   "source": [
    "<div class = \"alert alert-block alert-info\">\n",
    "<b>Example</b>\n",
    "<p>\n",
    "Suppose that according to a typist's skills, 2 typos are made per page on average. What is the probability that 10 or fewer typos will appear in 3 pages?\n",
    "\n",
    "In 3 pages, the expected number of typos $\\lambda = 3 \\times 2 = 6$.\n",
    "\n",
    "$$P(X\\, \\leq \\, 10)= \\sum_{x=0}^{10} \\frac{e^{-6}6^x}{x!}= 0.9573$$ <br>which means there's a 95.7% chance that ten or fewer patrons will appear in the 3 pages. \n",
    "</div>"
   ]
  },
  {
   "cell_type": "markdown",
   "metadata": {},
   "source": [
    "### Programmatic solution"
   ]
  },
  {
   "cell_type": "code",
   "execution_count": null,
   "metadata": {},
   "outputs": [],
   "source": [
    "poisson.cdf(20, 20)"
   ]
  },
  {
   "cell_type": "code",
   "execution_count": null,
   "metadata": {},
   "outputs": [],
   "source": [
    "x = np.arange(50)\n",
    "pois_pmf = poisson.pmf(x, 1.5)\n",
    "pois_cdf = poisson.cdf(x,1.5)\n",
    "plt.bar(x, height = pois_pmf, label = \"PMF\")\n",
    "plt.step(x, pois_cdf, color = 'orange', label = \"CDF\")\n",
    "plt.legend()\n",
    "plt.title(\"PMF and CDF of Poisson distribution with $\\mu=10$ on interval [0,9]\")"
   ]
  },
  {
   "cell_type": "markdown",
   "metadata": {},
   "source": [
    "## Exponential Distribution<a name='exponential'> </a>\n",
    "\n",
    "While the Poisson distribution models the number of events in a given time-frame, the exponential distribution models the time taken before an event occurs.\n",
    "\n",
    "It takes the parameter lambda ($\\lambda$), which is the probability that an event occurs per unit time at the start.\n",
    "\n",
    "The expected duration between events is given by the inverse of lambda \n",
    "\n",
    "- $E(X) = \\frac{1}{\\lambda}$\n",
    "- $Var[X] = \\frac{1}{\\lambda^2}$\n",
    "\n",
    "**The Probability Distribution Function (PDF) of the exponential distribution is given by:**\n",
    "\n",
    "$$ f(x) = \\lambda e^{-\\lambda x}, \\quad x \\ge 0. $$\n",
    "\n",
    "**The Cumulative Distribution Function (CDF) is given by:**\n",
    "\n",
    "$$ {\\displaystyle F(x)={\\begin{cases}1-e^{-\\lambda x}&x\\geq 0,\\\\0&x<0.\\end{cases}}} $$\n",
    "\n",
    "\n",
    "Note that the exponential distribution is **memoryless**, i.e. $\\frac{f(x)}{1-F(x)} = \\lambda$ is constant. Suppose we observe a decaying process that happens in time distributed exponentially. Conditioning upon the event that the decay has not happened at the present time, the distribution that the decay will happen $t$ time units in the future is the same as the distribution we have started off at time zero."
   ]
  },
  {
   "cell_type": "markdown",
   "metadata": {},
   "source": [
    "**Population mean and standard deviation**\n",
    "* The population mean of an exponential random variable is $1/\\lambda$. \n",
    "* The population sd of an exponential random variable is also $1/\\lambda$, and the variance is its square."
   ]
  },
  {
   "cell_type": "markdown",
   "metadata": {},
   "source": [
    "<div class = \"alert alert-block alert-warning\">\n",
    "<b>Exercise</b>\n",
    "<p>\n",
    "Assume the half-life decay of a material in minutes is an exponential random variable X with parameter λ = 1/10.\n",
    "\n",
    "\n",
    "Find the probability the material will decay in\n",
    "\n",
    "- less than 5 minutes\n",
    "- greater than 10 minutes\n",
    "- calculate the Expected Value & Variance\n",
    "- lesser than 10 minutes given that it does not decay in the first 5 minutes\n",
    "\n",
    ">**$\\mathbf{P(X\\leq 5)\\,with\\,\\lambda= 1/10}$** <br>\n",
    "> $P(X \\leq x) =  1 -  e^{-\\lambda x} $ <br>\n",
    "> $P(X \\leq 5) =  1 -  e^{-1/10*5} = 1 - 0.6066 = 0.3934$\n",
    "<br>\n",
    "\n",
    "> $\\mathbf{P(X \\geq 10)\\, with\\, \\lambda = 1/10}$<br>\n",
    ">$P(X \\geq 10) =  1 - P(X < 10)$<br>\n",
    ">$= 1 - ( 1 -  e^{-1/10*10}  )$<br>\n",
    ">$=  e^{-1/10*10} $<br>\n",
    ">$= 0.3679$\n",
    "\n",
    "> $E(X)=10, \\sigma = 100$<br>\n",
    "\n",
    "> $\\mathbf{P(X < 10 | X \\geq 5) \\,with\\, \\lambda = 1/10}$<br>\n",
    "By the memoryless property, <br>\n",
    "> $P(X < 10 | X \\geq 5)$ <br>\n",
    "> $= P(X < 10-5) = P(X < 5) $<br>\n",
    "> $= 1 -  e^{-1/10*5} $ <br>\n",
    "> $= 1 - 0.6066 = 0.3934$\n",
    "</div>"
   ]
  },
  {
   "cell_type": "markdown",
   "metadata": {},
   "source": [
    "Note that `scipy.stats.expon`, like other continuous distributions, takes three parameters: \n",
    "```python\n",
    "expon.pdf(x, loc, scale)\n",
    "```\n",
    "`scale` is equal to $1/\\lambda$ whereas `loc`  changes the location of the distribuion. Because we don't explicitly specify `loc`, explicitly specify the `scale` argument in your function call. "
   ]
  },
  {
   "cell_type": "markdown",
   "metadata": {},
   "source": [
    "### Programmatic solution"
   ]
  },
  {
   "cell_type": "code",
   "execution_count": null,
   "metadata": {},
   "outputs": [],
   "source": []
  },
  {
   "cell_type": "code",
   "execution_count": null,
   "metadata": {},
   "outputs": [],
   "source": []
  },
  {
   "cell_type": "code",
   "execution_count": null,
   "metadata": {},
   "outputs": [],
   "source": []
  },
  {
   "cell_type": "code",
   "execution_count": null,
   "metadata": {},
   "outputs": [],
   "source": []
  },
  {
   "cell_type": "code",
   "execution_count": null,
   "metadata": {},
   "outputs": [],
   "source": [
    "x = np.linspace(0,5, 501)"
   ]
  },
  {
   "cell_type": "code",
   "execution_count": null,
   "metadata": {},
   "outputs": [],
   "source": [
    "plt.plot(x, expon.pdf(x, scale = 1))\n",
    "plt.title(\"PDF of $X \\sim E(\\lambda = 1)$ on interval $[0,5]$\")"
   ]
  }
 ],
 "metadata": {
  "kernelspec": {
   "display_name": "Python 3",
   "language": "python",
   "name": "python3"
  },
  "language_info": {
   "codemirror_mode": {
    "name": "ipython",
    "version": 3
   },
   "file_extension": ".py",
   "mimetype": "text/x-python",
   "name": "python",
   "nbconvert_exporter": "python",
   "pygments_lexer": "ipython3",
   "version": "3.7.4"
  }
 },
 "nbformat": 4,
 "nbformat_minor": 2
}
