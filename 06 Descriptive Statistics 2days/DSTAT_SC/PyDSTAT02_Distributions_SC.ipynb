{
 "cells": [
  {
   "cell_type": "markdown",
   "metadata": {},
   "source": [
    "# Distributions\n",
    "Descriptive Statistics"
   ]
  },
  {
   "cell_type": "code",
   "execution_count": 6,
   "metadata": {},
   "outputs": [],
   "source": [
    "import seaborn as sns\n",
    "import matplotlib.pyplot as plt\n",
    "import numpy as np\n",
    "import pandas as pd\n",
    "\n",
    "from scipy.stats import norm, poisson, uniform, skew, kurtosis, iqr "
   ]
  },
  {
   "cell_type": "code",
   "execution_count": 7,
   "metadata": {},
   "outputs": [
    {
     "data": {
      "text/plain": [
       "True"
      ]
     },
     "execution_count": 7,
     "metadata": {},
     "output_type": "execute_result"
    }
   ],
   "source": [
    "sns.__version__ >= '0.9.0'\n",
    "np.__version__ >= '1.15.4'\n",
    "pd.__version__ >= '0.23.4'"
   ]
  },
  {
   "cell_type": "markdown",
   "metadata": {},
   "source": [
    "# Content Outline\n",
    "1. [**Characterizing Distributions**](#distributions)\n",
    "    * The Normal Distribution\n",
    "    * Skewness\n",
    "    * Kurtosis\n",
    "\n",
    "\n",
    "2. [**Other Common Distributions**](#other)\n",
    "    * The Poisson Distribution\n",
    "    * The Uniform Distribution"
   ]
  },
  {
   "cell_type": "markdown",
   "metadata": {},
   "source": [
    "# 1. Characterizing Distributions <a name=\"distributions\"></a>\n",
    "Recall that in **exploratory data analysis**, we examined a single variable by visual inspection and/or numerical summaries with the goal of summarizing the main characteristics of the data at hand. In this section on distributions, we will shift our focus towards classifying the various distributions that exist and how their general behavior can be extrapolated to explain why our data behaves the way it does.\n",
    "\n",
    "The figure below shows the various forms in which a single variable can be distributed as observed using a histogram. Each form gives us different information regarding the variable's behavior, which may potentially change how we use the information in a business setting.\n",
    "\n",
    "![](../images/DiffDist.png)\n",
    "\n",
    "To encapsulate the motivation behind studying the general properties of common data distributions, consider the following example:"
   ]
  },
  {
   "cell_type": "markdown",
   "metadata": {},
   "source": [
    "<div class = \"alert alert-block alert-info\">\n",
    "<b>Example</b>\n",
    "<p>\n",
    "Run the following code segment to load the <code>Height</code>, <code>Weight</code>, <code>Salary</code> and <code>HumanLongevity</code> data sets and plot their respective histograms.\n",
    "</div>"
   ]
  },
  {
   "cell_type": "code",
   "execution_count": 8,
   "metadata": {},
   "outputs": [],
   "source": [
    "# create a list of data frames \n",
    "files = [\"Height\", \"Weight\", \"Salary\", \"HumanLongevity\"]\n",
    "df_ls = [pd.read_csv(f\"../data/{i}.csv\") for i in files]"
   ]
  },
  {
   "cell_type": "code",
   "execution_count": 9,
   "metadata": {},
   "outputs": [
    {
     "data": {
      "text/plain": [
       "[         X      Height\n",
       " 0        1  146.582249\n",
       " 1        2  158.932600\n",
       " 2        3  176.280966\n",
       " 3        4  129.059825\n",
       " 4        5  113.891937\n",
       " ...    ...         ...\n",
       " 4995  4996  100.869953\n",
       " 4996  4997  143.577164\n",
       " 4997  4998  126.545275\n",
       " 4998  4999  167.847329\n",
       " 4999  5000  161.602226\n",
       " \n",
       " [5000 rows x 2 columns],          X     Weight\n",
       " 0        1  66.337102\n",
       " 1        2  56.681585\n",
       " 2        3  51.404342\n",
       " 3        4  45.469869\n",
       " 4        5  54.633982\n",
       " ...    ...        ...\n",
       " 4995  4996  66.562531\n",
       " 4996  4997  52.647620\n",
       " 4997  4998  54.406504\n",
       " 4998  4999  48.706743\n",
       " 4999  5000  58.935596\n",
       " \n",
       " [5000 rows x 2 columns],          X        Salary\n",
       " 0        1   2860.287958\n",
       " 1        2   7148.937815\n",
       " 2        3   2611.336210\n",
       " 3        4   2170.651755\n",
       " 4        5   2082.177870\n",
       " ...    ...           ...\n",
       " 4995  4996  14058.072332\n",
       " 4996  4997   7196.145317\n",
       " 4997  4998   8431.801309\n",
       " 4998  4999   9247.250243\n",
       " 4999  5000   9821.547220\n",
       " \n",
       " [5000 rows x 2 columns],          X  HumanLongevity\n",
       " 0        1       51.697064\n",
       " 1        2       61.225001\n",
       " 2        3       66.786488\n",
       " 3        4       57.665884\n",
       " 4        5       31.372562\n",
       " ...    ...             ...\n",
       " 4995  4996       37.741355\n",
       " 4996  4997       50.551949\n",
       " 4997  4998       29.470856\n",
       " 4998  4999       37.598353\n",
       " 4999  5000       32.792589\n",
       " \n",
       " [5000 rows x 2 columns]]"
      ]
     },
     "execution_count": 9,
     "metadata": {},
     "output_type": "execute_result"
    }
   ],
   "source": [
    "df_ls"
   ]
  },
  {
   "cell_type": "code",
   "execution_count": 10,
   "metadata": {},
   "outputs": [
    {
     "data": {
      "text/html": [
       "<div>\n",
       "<style scoped>\n",
       "    .dataframe tbody tr th:only-of-type {\n",
       "        vertical-align: middle;\n",
       "    }\n",
       "\n",
       "    .dataframe tbody tr th {\n",
       "        vertical-align: top;\n",
       "    }\n",
       "\n",
       "    .dataframe thead th {\n",
       "        text-align: right;\n",
       "    }\n",
       "</style>\n",
       "<table border=\"1\" class=\"dataframe\">\n",
       "  <thead>\n",
       "    <tr style=\"text-align: right;\">\n",
       "      <th></th>\n",
       "      <th>X</th>\n",
       "      <th>Height</th>\n",
       "    </tr>\n",
       "  </thead>\n",
       "  <tbody>\n",
       "    <tr>\n",
       "      <td>0</td>\n",
       "      <td>1</td>\n",
       "      <td>146.582249</td>\n",
       "    </tr>\n",
       "    <tr>\n",
       "      <td>1</td>\n",
       "      <td>2</td>\n",
       "      <td>158.932600</td>\n",
       "    </tr>\n",
       "    <tr>\n",
       "      <td>2</td>\n",
       "      <td>3</td>\n",
       "      <td>176.280966</td>\n",
       "    </tr>\n",
       "    <tr>\n",
       "      <td>3</td>\n",
       "      <td>4</td>\n",
       "      <td>129.059825</td>\n",
       "    </tr>\n",
       "    <tr>\n",
       "      <td>4</td>\n",
       "      <td>5</td>\n",
       "      <td>113.891937</td>\n",
       "    </tr>\n",
       "    <tr>\n",
       "      <td>...</td>\n",
       "      <td>...</td>\n",
       "      <td>...</td>\n",
       "    </tr>\n",
       "    <tr>\n",
       "      <td>4995</td>\n",
       "      <td>4996</td>\n",
       "      <td>100.869953</td>\n",
       "    </tr>\n",
       "    <tr>\n",
       "      <td>4996</td>\n",
       "      <td>4997</td>\n",
       "      <td>143.577164</td>\n",
       "    </tr>\n",
       "    <tr>\n",
       "      <td>4997</td>\n",
       "      <td>4998</td>\n",
       "      <td>126.545275</td>\n",
       "    </tr>\n",
       "    <tr>\n",
       "      <td>4998</td>\n",
       "      <td>4999</td>\n",
       "      <td>167.847329</td>\n",
       "    </tr>\n",
       "    <tr>\n",
       "      <td>4999</td>\n",
       "      <td>5000</td>\n",
       "      <td>161.602226</td>\n",
       "    </tr>\n",
       "  </tbody>\n",
       "</table>\n",
       "<p>5000 rows × 2 columns</p>\n",
       "</div>"
      ],
      "text/plain": [
       "         X      Height\n",
       "0        1  146.582249\n",
       "1        2  158.932600\n",
       "2        3  176.280966\n",
       "3        4  129.059825\n",
       "4        5  113.891937\n",
       "...    ...         ...\n",
       "4995  4996  100.869953\n",
       "4996  4997  143.577164\n",
       "4997  4998  126.545275\n",
       "4998  4999  167.847329\n",
       "4999  5000  161.602226\n",
       "\n",
       "[5000 rows x 2 columns]"
      ]
     },
     "execution_count": 10,
     "metadata": {},
     "output_type": "execute_result"
    }
   ],
   "source": [
    "df_ls[0]"
   ]
  },
  {
   "cell_type": "code",
   "execution_count": 11,
   "metadata": {},
   "outputs": [],
   "source": [
    "# concatenate this list of data frames with keys \n",
    "cat = pd.concat([df_ls[i].iloc[:,-1] for i in range(4)], keys=files)"
   ]
  },
  {
   "cell_type": "code",
   "execution_count": 12,
   "metadata": {
    "scrolled": true
   },
   "outputs": [
    {
     "data": {
      "text/plain": [
       "Height          0       146.582249\n",
       "                1       158.932600\n",
       "                2       176.280966\n",
       "                3       129.059825\n",
       "                4       113.891937\n",
       "                           ...    \n",
       "HumanLongevity  4995     37.741355\n",
       "                4996     50.551949\n",
       "                4997     29.470856\n",
       "                4998     37.598353\n",
       "                4999     32.792589\n",
       "Length: 20000, dtype: float64"
      ]
     },
     "execution_count": 12,
     "metadata": {},
     "output_type": "execute_result"
    }
   ],
   "source": [
    "cat"
   ]
  },
  {
   "cell_type": "code",
   "execution_count": 13,
   "metadata": {},
   "outputs": [],
   "source": [
    "# provide column names, reset index \n",
    "cat2 = cat.reset_index().drop(\"level_1\", axis = 1)"
   ]
  },
  {
   "cell_type": "code",
   "execution_count": 14,
   "metadata": {},
   "outputs": [
    {
     "data": {
      "text/html": [
       "<div>\n",
       "<style scoped>\n",
       "    .dataframe tbody tr th:only-of-type {\n",
       "        vertical-align: middle;\n",
       "    }\n",
       "\n",
       "    .dataframe tbody tr th {\n",
       "        vertical-align: top;\n",
       "    }\n",
       "\n",
       "    .dataframe thead th {\n",
       "        text-align: right;\n",
       "    }\n",
       "</style>\n",
       "<table border=\"1\" class=\"dataframe\">\n",
       "  <thead>\n",
       "    <tr style=\"text-align: right;\">\n",
       "      <th></th>\n",
       "      <th>level_0</th>\n",
       "      <th>0</th>\n",
       "    </tr>\n",
       "  </thead>\n",
       "  <tbody>\n",
       "    <tr>\n",
       "      <td>0</td>\n",
       "      <td>Height</td>\n",
       "      <td>146.582249</td>\n",
       "    </tr>\n",
       "    <tr>\n",
       "      <td>1</td>\n",
       "      <td>Height</td>\n",
       "      <td>158.932600</td>\n",
       "    </tr>\n",
       "    <tr>\n",
       "      <td>2</td>\n",
       "      <td>Height</td>\n",
       "      <td>176.280966</td>\n",
       "    </tr>\n",
       "    <tr>\n",
       "      <td>3</td>\n",
       "      <td>Height</td>\n",
       "      <td>129.059825</td>\n",
       "    </tr>\n",
       "    <tr>\n",
       "      <td>4</td>\n",
       "      <td>Height</td>\n",
       "      <td>113.891937</td>\n",
       "    </tr>\n",
       "    <tr>\n",
       "      <td>...</td>\n",
       "      <td>...</td>\n",
       "      <td>...</td>\n",
       "    </tr>\n",
       "    <tr>\n",
       "      <td>19995</td>\n",
       "      <td>HumanLongevity</td>\n",
       "      <td>37.741355</td>\n",
       "    </tr>\n",
       "    <tr>\n",
       "      <td>19996</td>\n",
       "      <td>HumanLongevity</td>\n",
       "      <td>50.551949</td>\n",
       "    </tr>\n",
       "    <tr>\n",
       "      <td>19997</td>\n",
       "      <td>HumanLongevity</td>\n",
       "      <td>29.470856</td>\n",
       "    </tr>\n",
       "    <tr>\n",
       "      <td>19998</td>\n",
       "      <td>HumanLongevity</td>\n",
       "      <td>37.598353</td>\n",
       "    </tr>\n",
       "    <tr>\n",
       "      <td>19999</td>\n",
       "      <td>HumanLongevity</td>\n",
       "      <td>32.792589</td>\n",
       "    </tr>\n",
       "  </tbody>\n",
       "</table>\n",
       "<p>20000 rows × 2 columns</p>\n",
       "</div>"
      ],
      "text/plain": [
       "              level_0           0\n",
       "0              Height  146.582249\n",
       "1              Height  158.932600\n",
       "2              Height  176.280966\n",
       "3              Height  129.059825\n",
       "4              Height  113.891937\n",
       "...               ...         ...\n",
       "19995  HumanLongevity   37.741355\n",
       "19996  HumanLongevity   50.551949\n",
       "19997  HumanLongevity   29.470856\n",
       "19998  HumanLongevity   37.598353\n",
       "19999  HumanLongevity   32.792589\n",
       "\n",
       "[20000 rows x 2 columns]"
      ]
     },
     "execution_count": 14,
     "metadata": {},
     "output_type": "execute_result"
    }
   ],
   "source": [
    "cat2"
   ]
  },
  {
   "cell_type": "code",
   "execution_count": 15,
   "metadata": {},
   "outputs": [],
   "source": [
    "cat2.columns = [\"variable\", \"value\"]"
   ]
  },
  {
   "cell_type": "code",
   "execution_count": 16,
   "metadata": {},
   "outputs": [
    {
     "data": {
      "text/html": [
       "<div>\n",
       "<style scoped>\n",
       "    .dataframe tbody tr th:only-of-type {\n",
       "        vertical-align: middle;\n",
       "    }\n",
       "\n",
       "    .dataframe tbody tr th {\n",
       "        vertical-align: top;\n",
       "    }\n",
       "\n",
       "    .dataframe thead th {\n",
       "        text-align: right;\n",
       "    }\n",
       "</style>\n",
       "<table border=\"1\" class=\"dataframe\">\n",
       "  <thead>\n",
       "    <tr style=\"text-align: right;\">\n",
       "      <th></th>\n",
       "      <th>variable</th>\n",
       "      <th>value</th>\n",
       "    </tr>\n",
       "  </thead>\n",
       "  <tbody>\n",
       "    <tr>\n",
       "      <td>0</td>\n",
       "      <td>Height</td>\n",
       "      <td>146.582249</td>\n",
       "    </tr>\n",
       "    <tr>\n",
       "      <td>1</td>\n",
       "      <td>Height</td>\n",
       "      <td>158.932600</td>\n",
       "    </tr>\n",
       "    <tr>\n",
       "      <td>2</td>\n",
       "      <td>Height</td>\n",
       "      <td>176.280966</td>\n",
       "    </tr>\n",
       "    <tr>\n",
       "      <td>3</td>\n",
       "      <td>Height</td>\n",
       "      <td>129.059825</td>\n",
       "    </tr>\n",
       "    <tr>\n",
       "      <td>4</td>\n",
       "      <td>Height</td>\n",
       "      <td>113.891937</td>\n",
       "    </tr>\n",
       "    <tr>\n",
       "      <td>...</td>\n",
       "      <td>...</td>\n",
       "      <td>...</td>\n",
       "    </tr>\n",
       "    <tr>\n",
       "      <td>19995</td>\n",
       "      <td>HumanLongevity</td>\n",
       "      <td>37.741355</td>\n",
       "    </tr>\n",
       "    <tr>\n",
       "      <td>19996</td>\n",
       "      <td>HumanLongevity</td>\n",
       "      <td>50.551949</td>\n",
       "    </tr>\n",
       "    <tr>\n",
       "      <td>19997</td>\n",
       "      <td>HumanLongevity</td>\n",
       "      <td>29.470856</td>\n",
       "    </tr>\n",
       "    <tr>\n",
       "      <td>19998</td>\n",
       "      <td>HumanLongevity</td>\n",
       "      <td>37.598353</td>\n",
       "    </tr>\n",
       "    <tr>\n",
       "      <td>19999</td>\n",
       "      <td>HumanLongevity</td>\n",
       "      <td>32.792589</td>\n",
       "    </tr>\n",
       "  </tbody>\n",
       "</table>\n",
       "<p>20000 rows × 2 columns</p>\n",
       "</div>"
      ],
      "text/plain": [
       "             variable       value\n",
       "0              Height  146.582249\n",
       "1              Height  158.932600\n",
       "2              Height  176.280966\n",
       "3              Height  129.059825\n",
       "4              Height  113.891937\n",
       "...               ...         ...\n",
       "19995  HumanLongevity   37.741355\n",
       "19996  HumanLongevity   50.551949\n",
       "19997  HumanLongevity   29.470856\n",
       "19998  HumanLongevity   37.598353\n",
       "19999  HumanLongevity   32.792589\n",
       "\n",
       "[20000 rows x 2 columns]"
      ]
     },
     "execution_count": 16,
     "metadata": {},
     "output_type": "execute_result"
    }
   ],
   "source": [
    "cat2"
   ]
  },
  {
   "cell_type": "code",
   "execution_count": 17,
   "metadata": {},
   "outputs": [
    {
     "data": {
      "image/png": "[encoded data removed]",
      "text/plain": [
       "<Figure size 864x216 with 4 Axes>"
      ]
     },
     "metadata": {
      "needs_background": "light"
     },
     "output_type": "display_data"
    }
   ],
   "source": [
    "# use seaborn facet grid to create a grid of plots \n",
    "# share{x,y} : bool, 'col', or 'row' optional\n",
    "#     If true, the facets will share y axes across columns and/or x axes\n",
    "#     across rows.  \n",
    "\n",
    "g = sns.FacetGrid(cat2, col = \"variable\", sharex = False, sharey = False)\n",
    "g.map(sns.distplot, \"value\");"
   ]
  },
  {
   "cell_type": "code",
   "execution_count": 18,
   "metadata": {},
   "outputs": [
    {
     "data": {
      "image/png": "[encoded data removed]",
      "text/plain": [
       "<Figure size 864x216 with 4 Axes>"
      ]
     },
     "metadata": {
      "needs_background": "light"
     },
     "output_type": "display_data"
    }
   ],
   "source": [
    "# Visualize using boxplot\n",
    "\n",
    "g = sns.FacetGrid(cat2, col = \"variable\", sharex = False)\n",
    "g.map(sns.boxplot, \"value\", order = cat2.variable.unique());"
   ]
  },
  {
   "cell_type": "markdown",
   "metadata": {},
   "source": [
    "From the histograms, we see **two** main things:\n",
    "1. The general shape of each distribution is roughly similar in the sense that they all resemble a *mountain* of sorts. The location of the peaks vary from one variable to the next - <code>Height</code> and <code>Weight</code> seem to have the peak closer to the middle of the data, whereas the peaks for <code>HumanLongevity</code> and <code>Salary</code> are further to the right and left respectively. This feature is called **skewness**.\n",
    "2. The heights towards the tail ends of the graphs are different. Though they may look similar in the plots, note that the y-axes are of *different scale* for the different variables. This feature is called **kurtosis**.\n",
    "\n",
    "Before we take a deeper look at each of these features and how they impact our analysis, we need to first familiarize ourselves with the concept of **normality**."
   ]
  },
  {
   "cell_type": "markdown",
   "metadata": {},
   "source": [
    "## The Normal Distribution:\n",
    "A **Normal** distribution holds the following properties:\n",
    "1. It forms a **bell-shaped** curve.\n",
    "2. It is **symmetric** about the center.\n",
    "\n",
    "![](../images/normal.bmp)\n",
    "\n",
    "The normal distribution is particularly interesting because one major assumption for most statistical modeling techniques is **normality**, i.e. the tendency for a set of data to be normally distributed. As such, having a variable that isn't normally distributed may limit the choice of tools we have at our disposal to model the data.\n",
    "\n",
    "Mathematically, the bell curve of a normal distribution is given by the formula:\n",
    "\n",
    "$$f(\\mu | \\sigma^2) = {\\frac{1}{\\sqrt{2 \\pi \\sigma^2}}e^{- \\frac{(x - \\mu)^2}{2 \\sigma^2}} } $$\n",
    "\n",
    "where $\\mu$ is the **mean** and $\\sigma^2$ is the **variance**. One special case of this distribution is the **standard normal** distribution, where $\\mu = 0$ and $\\sigma = 1$."
   ]
  },
  {
   "cell_type": "code",
   "execution_count": 19,
   "metadata": {},
   "outputs": [
    {
     "data": {
      "image/png": "[encoded data removed]",
      "text/plain": [
       "<Figure size 432x288 with 1 Axes>"
      ]
     },
     "metadata": {
      "needs_background": "light"
     },
     "output_type": "display_data"
    }
   ],
   "source": [
    "# linear space - 100k numbers with equal bin\n",
    "# pdf - probability distribution function - using the formula\n",
    "\n",
    "x = np.linspace(-6, 6, 100000)\n",
    "plt.plot(x, norm.pdf(x));"
   ]
  },
  {
   "cell_type": "markdown",
   "metadata": {},
   "source": [
    "Adjusting the values of the **parameters** $\\mu$ and $\\sigma$ modifies the shape of the distribution by varying the center and strech of the plot as illustrated below:"
   ]
  },
  {
   "cell_type": "code",
   "execution_count": 20,
   "metadata": {},
   "outputs": [
    {
     "data": {
      "text/plain": [
       "Text(0.5, 1.0, 'Effect of Changing the Mean of a Normal Distribution')"
      ]
     },
     "execution_count": 20,
     "metadata": {},
     "output_type": "execute_result"
    },
    {
     "name": "stderr",
     "output_type": "stream",
     "text": [
      "D:\\Users\\Faiz\\Anaconda3\\lib\\site-packages\\IPython\\core\\events.py:88: UserWarning: Creating legend with loc=\"best\" can be slow with large amounts of data.\n",
      "  func(*args, **kwargs)\n",
      "D:\\Users\\Faiz\\Anaconda3\\lib\\site-packages\\IPython\\core\\pylabtools.py:128: UserWarning: Creating legend with loc=\"best\" can be slow with large amounts of data.\n",
      "  fig.canvas.print_figure(bytes_io, **kw)\n"
     ]
    },
    {
     "data": {
      "image/png": "[encoded data removed]",
      "text/plain": [
       "<Figure size 432x288 with 1 Axes>"
      ]
     },
     "metadata": {
      "needs_background": "light"
     },
     "output_type": "display_data"
    }
   ],
   "source": [
    "# norm.pdf(x,loc,scale) \n",
    "# loc - mean\n",
    "# scale - std\n",
    "\n",
    "x = np.linspace(-20, 20, 100000)\n",
    "for i in (-2, 2, 8):\n",
    "    plt.plot(x, norm.pdf(x, loc = i, scale = 3), label = f\"$\\mu={i}, \\sigma=3$\")\n",
    "plt.legend()\n",
    "plt.title('Effect of Changing the Mean of a Normal Distribution')"
   ]
  },
  {
   "cell_type": "code",
   "execution_count": 21,
   "metadata": {},
   "outputs": [
    {
     "data": {
      "text/plain": [
       "Text(0.5, 1.0, 'Effect of Changing the Variance of a Normal Distribution')"
      ]
     },
     "execution_count": 21,
     "metadata": {},
     "output_type": "execute_result"
    },
    {
     "data": {
      "image/png": "[encoded data removed]",
      "text/plain": [
       "<Figure size 432x288 with 1 Axes>"
      ]
     },
     "metadata": {
      "needs_background": "light"
     },
     "output_type": "display_data"
    }
   ],
   "source": [
    "# chg scale (standard deviation)\n",
    "\n",
    "x = np.linspace(-15, 15, 100000)\n",
    "for i in (1, 3, 5):\n",
    "    plt.plot(x, norm.pdf(x, loc = 0, scale = i), label = f\"$\\mu=0, \\sigma={i}$\")\n",
    "plt.legend()\n",
    "plt.title('Effect of Changing the Variance of a Normal Distribution')"
   ]
  },
  {
   "cell_type": "markdown",
   "metadata": {},
   "source": [
    "As we can see, increasing/decreasing the mean shifts the axis of symmetry for the curve to the right/left, whereas increasing/decreasing the variance/standard deviation streches/contracts the curve. In practice, many real-world measurable variables such as the height and weight of people, IQ, and error in physical measurements are *approximately normal* and can be modeled using a normal distribution using by choosing appropriate parameter values.\n",
    "\n",
    "One notable property of the normal distribution is that the distribution of data within its range is prescribed in terms of the standard deviation. This property is known as the **Empirical Rule**:\n",
    "*For a data set that is normally distributed, the following hold true*:\n",
    "1. 68% of the data lies within **one** standard deviation of the mean.\n",
    "2. 95% of the data lies within **two** standard deviations of the mean.\n",
    "3. 99.7% of the data lies within **three** standard deviations of the mean.\n",
    "\n",
    "![](../images/StdRule.png)"
   ]
  },
  {
   "cell_type": "markdown",
   "metadata": {},
   "source": [
    "<div class = \"alert alert-block alert-info\">\n",
    "<b>Example</b>\n",
    "<p>\n",
    "The battery life of a cell phone is normally distributed with a mean of 40 hours of audio playback with a standard deviation of 1.5 hour. What percentage of these cell phones have battery life: <p>\n",
    "    1. between (37,43)<p>\n",
    "    2. less than 44.5<p>\n",
    "    3. At least 41.5<p>\n",
    "    4. less than 40<p>\n",
    "    5. More than 40<p>\n",
    "</div>"
   ]
  },
  {
   "cell_type": "code",
   "execution_count": 22,
   "metadata": {},
   "outputs": [],
   "source": [
    "# +- 2 std - 95%\n",
    "# 1. 95%\n",
    "\n",
    "# M + 3std less = 99.85%   \n",
    "# 2. 0.997+(1-0.997)/2 = 99.85%\n",
    "\n",
    "# M + 1std more = 16%\n",
    "# 3. 1- 0.68+(1-0.68)/2 = 16%\n",
    "\n",
    "# M = 50%\n",
    "# 4. 50%\n",
    "# 5. 50%"
   ]
  },
  {
   "cell_type": "markdown",
   "metadata": {},
   "source": [
    "<div class = \"alert alert-block alert-danger\">\n",
    "<b>Exercise</b>\n",
    "<p>\n",
    "Distribution of blood pressure can be approximated as a normal distribution with mean 85 mm. and standard deviation 20 mm. What is the percentage of the people who have blood pressure:<p>\n",
    "    1. between (65, 105)<p>\n",
    "    2. less than 125<p>\n",
    "    3. At most 85<p>\n",
    "    4. More than 85<p>\n",
    "    5. At least 65<p>\n",
    "</div>"
   ]
  },
  {
   "cell_type": "code",
   "execution_count": 23,
   "metadata": {},
   "outputs": [],
   "source": [
    "# M = 85\n",
    "# std = 20\n",
    "\n",
    "# 1. M +-1std betw= 68%\n",
    "\n",
    "# 2. M +2std less = 97.5%\n",
    "\n",
    "# 3. M less = 50%\n",
    "\n",
    "# 4. M more = 50%\n",
    "\n",
    "# 5. M-1std more = 84%"
   ]
  },
  {
   "cell_type": "markdown",
   "metadata": {},
   "source": [
    "<div class = \"alert alert-block alert-danger\">\n",
    "<b>Challenging Exercise</b>\n",
    "<p>\n",
    "Zack takes the SAT and his best friend Nick takes the ACT. Zack’s SAT math score is 590, and Nick’s ACT math score is 27. SAT math scores in the county are normally distributed, with a mean of 500 and a standard deviation of 100. ACT math scores in the county are also normally distributed, with a mean of 18 and a standard deviation of 6. Assuming that both tests measure the same kind of ability, who has the better score?\n",
    "</div>"
   ]
  },
  {
   "cell_type": "code",
   "execution_count": 24,
   "metadata": {},
   "outputs": [
    {
     "name": "stdout",
     "output_type": "stream",
     "text": [
      "Zack 0.9\n",
      "Nick 1.5\n"
     ]
    }
   ],
   "source": [
    "# Z = 590\n",
    "# N= 27\n",
    "\n",
    "# SAT - 500,100\n",
    "# ACT - 18,6\n",
    "print(\"Zack\",(590-500)/100)\n",
    "print(\"Nick\",(27-18)/6)"
   ]
  },
  {
   "cell_type": "markdown",
   "metadata": {},
   "source": [
    "## Skewness\n",
    "Skewness is a measure of **asymmetry** in the distribution of a given set of data. A given variable can be classified as either:\n",
    "1. **Symmetric:** The distribution of data is mirrored evenly along both sides of the median. Also known as *unskewed*.\n",
    "2. **Negatively Skewed:** The distribution of data is heavier to the right side of the graph, with the left side tapering off in an elongated tail. Also known as *skewed to the left*.\n",
    "3. **Positively Skewed:** The distribution of data is heavier to the left side of the graph, with the right side tapering off in an elongated tail. Also known as *skewed to the right*.\n",
    "\n",
    "![](../images/skew.png)\n",
    "\n",
    "In cases where the degree of skewness is minute, visual inspection can be difficult to carry out. To make the process of identifying the skewness of a distribution easier, most statistical texts refer to the following *rule of thumb*:\n",
    "1. If the distribution is **symmetric**, the mean is **equal to** the median.\n",
    "2. If the distribution is **negatively skewed**, the mean is **less than** the median.\n",
    "3. If the distribution is **positively skewed**, the mean is **greater than** the median.\n",
    "\n",
    "Using this rule of thumb, let's examine the distributions in the data sets we loaded earlier."
   ]
  },
  {
   "cell_type": "markdown",
   "metadata": {},
   "source": [
    "<div class = \"alert alert-block alert-warning\">\n",
    "<b>Guided Exercise</b>\n",
    "<p>\n",
    "Overlay vertical lines on the plots to indicate where the <b>mean</b> and <b>median</b> lies for each data set. Based on the result, what is the skewness of each variable?\n",
    "</div>    "
   ]
  },
  {
   "cell_type": "code",
   "execution_count": 25,
   "metadata": {},
   "outputs": [
    {
     "data": {
      "text/plain": [
       "<seaborn.axisgrid.FacetGrid at 0x20a1d11ca08>"
      ]
     },
     "execution_count": 25,
     "metadata": {},
     "output_type": "execute_result"
    },
    {
     "data": {
      "image/png": "[encoded data removed]",
      "text/plain": [
       "<Figure size 864x216 with 4 Axes>"
      ]
     },
     "metadata": {
      "needs_background": "light"
     },
     "output_type": "display_data"
    }
   ],
   "source": [
    "g = sns.FacetGrid(cat2, col = \"variable\", sharex = False, sharey = False)\n",
    "g.map(sns.distplot, \"value\")"
   ]
  },
  {
   "cell_type": "code",
   "execution_count": 26,
   "metadata": {},
   "outputs": [
    {
     "data": {
      "image/png": "[encoded data removed]",
      "text/plain": [
       "<Figure size 864x216 with 4 Axes>"
      ]
     },
     "metadata": {
      "needs_background": "light"
     },
     "output_type": "display_data"
    }
   ],
   "source": [
    "summ_cat2 = cat2.groupby(\"variable\").agg(['mean', 'median'])\n",
    "\n",
    "g = sns.FacetGrid(cat2, col = \"variable\", sharex = False, sharey = False)\n",
    "g.map(sns.distplot, \"value\")\n",
    "ax = g.axes[0]\n",
    "i=0\n",
    "for axis in ax:\n",
    "    axis.axvline(x = summ_cat2['value']['mean'][files[i]], c = 'red', label = \"mean\", linestyle='dashed')\n",
    "    axis.axvline(x = summ_cat2['value']['median'][files[i]], c = 'darkgreen', label = \"median\",linewidth=1.2)\n",
    "    i=i+1\n",
    "plt.legend()\n",
    "plt.show()"
   ]
  },
  {
   "cell_type": "markdown",
   "metadata": {},
   "source": [
    "We see that `Height` and `Weight` are symmetric, with `HumanLongevity` being negatively skewed and salary being positively skewed. The first two variables are known to be normally distributed, whereas the skewness visible in our human longevity and salary data can be attributed to advancement in medical care over the years and a widening income gap between lower and upper class society.\n",
    "\n",
    "To get a better picture of the distribution for each variable, let's add on boxplots to see how much of an impact extreme values have on each set of data."
   ]
  },
  {
   "cell_type": "markdown",
   "metadata": {},
   "source": [
    "<div class = \"alert alert-block alert-warning\">\n",
    "<b>Guided Exercise</b>\n",
    "<p>\n",
    "1. Add vertical lines for Q1, Q3, and the lower and upper fences to the above histograms to show the presence of outliers (if any).\n",
    "<p>\n",
    "2. Generate relevant boxplots for comparison with the histograms.\n",
    "</div>   "
   ]
  },
  {
   "cell_type": "code",
   "execution_count": 27,
   "metadata": {},
   "outputs": [],
   "source": [
    "q1 = lambda x: x.quantile(.25)\n",
    "q3 = lambda x: x.quantile(.75)\n",
    "lf = lambda x: q1(x) - 1.5 * iqr(x)\n",
    "uf = lambda x: q3(x) + 1.5 * iqr(x)\n",
    "\n",
    "q1.__name__ = \"q1\"\n",
    "q3.__name__ = \"q3\"\n",
    "lf.__name__ = \"lf\"\n",
    "uf.__name__ = \"uf\"\n",
    "summ_cat2 = cat2.groupby(\"variable\", sort = False).agg(['mean', 'median', q1, q3, lf, uf])"
   ]
  },
  {
   "cell_type": "code",
   "execution_count": 28,
   "metadata": {},
   "outputs": [
    {
     "data": {
      "text/plain": [
       "<matplotlib.legend.Legend at 0x20a20417188>"
      ]
     },
     "execution_count": 28,
     "metadata": {},
     "output_type": "execute_result"
    },
    {
     "data": {
      "image/png": "[encoded data removed]",
      "text/plain": [
       "<Figure size 864x216 with 4 Axes>"
      ]
     },
     "metadata": {
      "needs_background": "light"
     },
     "output_type": "display_data"
    }
   ],
   "source": [
    "# use Seaborn colour palette RGB values\n",
    "\n",
    "current_palette = sns.color_palette()\n",
    "\n",
    "g = sns.FacetGrid(cat2, col = \"variable\", sharex = False, sharey = False)\n",
    "g.map(sns.distplot, \"value\")\n",
    "ax = g.axes[0]\n",
    "i = 0 \n",
    "for axis in ax:\n",
    "    j = 0 \n",
    "    for statistic in summ_cat2['value'].columns.values: \n",
    "        axis.axvline(x = summ_cat2['value'][statistic][i], c = current_palette[j], label = statistic)\n",
    "        j += 1\n",
    "    i += 1\n",
    "    \n",
    "plt.legend(loc=0)"
   ]
  },
  {
   "cell_type": "code",
   "execution_count": 29,
   "metadata": {},
   "outputs": [
    {
     "name": "stderr",
     "output_type": "stream",
     "text": [
      "D:\\Users\\Faiz\\Anaconda3\\lib\\site-packages\\seaborn\\axisgrid.py:715: UserWarning: Using the boxplot function without specifying `order` is likely to produce an incorrect plot.\n",
      "  warnings.warn(warning)\n"
     ]
    },
    {
     "data": {
      "text/plain": [
       "<seaborn.axisgrid.FacetGrid at 0x20a2047ec48>"
      ]
     },
     "execution_count": 29,
     "metadata": {},
     "output_type": "execute_result"
    },
    {
     "data": {
      "image/png": "[encoded data removed]",
      "text/plain": [
       "<Figure size 864x216 with 4 Axes>"
      ]
     },
     "metadata": {
      "needs_background": "light"
     },
     "output_type": "display_data"
    }
   ],
   "source": [
    "g = sns.FacetGrid(cat2, col = \"variable\", sharex = False)\n",
    "g.map(sns.boxplot, \"value\")"
   ]
  },
  {
   "cell_type": "markdown",
   "metadata": {},
   "source": [
    "One interesting point to note is that though the rule of thumb works quite easily, it can **fail** in certain cases (most notably with multimodal distributions). Various formulas have been developed over the years to compute skewness with the most common one being the **Adjusted Fisher–Pearson Standardized Moment Coefficient**, $G_1$:\n",
    "\n",
    "$$G_1 = \\frac{\\sqrt{n(n-1)}}{n-2}\\left[ \\frac{\\frac{1}{n} \\Sigma (x_i - \\bar{x})^3}{\\left( \\frac{1}{n} \\Sigma (x_i - \\bar{x})^2 \\right)^{\\frac{3}{2}}} \\right]$$\n",
    "\n",
    "Here $x_i$ represents the *i*-th data point, $\\bar{x}$ is the sample mean, and $n$ is the sample size. For the sake of brevity, we will automate evaluation of this formula using the `skew` method for Pandas objects and the `scipy.stats.skew` function. "
   ]
  },
  {
   "cell_type": "markdown",
   "metadata": {},
   "source": [
    "<div class = \"alert alert-block alert-warning\">\n",
    "<b>Guided Exercise</b>\n",
    "<p>\n",
    "Using the <code>skew</code> method for Pandas objects, compute the skewness of the <code>HumanLongevity</code> and <code>Salary</code> data.\n",
    "</div>    "
   ]
  },
  {
   "cell_type": "code",
   "execution_count": 30,
   "metadata": {},
   "outputs": [
    {
     "data": {
      "text/plain": [
       "Height           -0.040767\n",
       "Weight            0.007942\n",
       "Salary            1.289550\n",
       "HumanLongevity   -0.700171\n",
       "dtype: float64"
      ]
     },
     "execution_count": 30,
     "metadata": {},
     "output_type": "execute_result"
    }
   ],
   "source": [
    "cat.skew(level = 0)"
   ]
  },
  {
   "cell_type": "markdown",
   "metadata": {},
   "source": [
    "Equivalently, use the `skew()` function from `scipy.stats`:"
   ]
  },
  {
   "cell_type": "code",
   "execution_count": 31,
   "metadata": {},
   "outputs": [
    {
     "data": {
      "text/html": [
       "<div>\n",
       "<style scoped>\n",
       "    .dataframe tbody tr th:only-of-type {\n",
       "        vertical-align: middle;\n",
       "    }\n",
       "\n",
       "    .dataframe tbody tr th {\n",
       "        vertical-align: top;\n",
       "    }\n",
       "\n",
       "    .dataframe thead th {\n",
       "        text-align: right;\n",
       "    }\n",
       "</style>\n",
       "<table border=\"1\" class=\"dataframe\">\n",
       "  <thead>\n",
       "    <tr style=\"text-align: right;\">\n",
       "      <th></th>\n",
       "      <th>value</th>\n",
       "    </tr>\n",
       "    <tr>\n",
       "      <th>variable</th>\n",
       "      <th></th>\n",
       "    </tr>\n",
       "  </thead>\n",
       "  <tbody>\n",
       "    <tr>\n",
       "      <td>Height</td>\n",
       "      <td>-0.040767</td>\n",
       "    </tr>\n",
       "    <tr>\n",
       "      <td>HumanLongevity</td>\n",
       "      <td>-0.700171</td>\n",
       "    </tr>\n",
       "    <tr>\n",
       "      <td>Salary</td>\n",
       "      <td>1.289550</td>\n",
       "    </tr>\n",
       "    <tr>\n",
       "      <td>Weight</td>\n",
       "      <td>0.007942</td>\n",
       "    </tr>\n",
       "  </tbody>\n",
       "</table>\n",
       "</div>"
      ],
      "text/plain": [
       "                   value\n",
       "variable                \n",
       "Height         -0.040767\n",
       "HumanLongevity -0.700171\n",
       "Salary          1.289550\n",
       "Weight          0.007942"
      ]
     },
     "execution_count": 31,
     "metadata": {},
     "output_type": "execute_result"
    }
   ],
   "source": [
    "cat2.groupby(\"variable\").agg(lambda x: skew(x, bias = False))"
   ]
  },
  {
   "cell_type": "markdown",
   "metadata": {},
   "source": [
    "If a skewness value of **greater than 1** is obtained in either direction (positive/negative), we say that the distribution is **highly skewed**. A skewness value of 0 represents a **perfectly symmetric** distribution, which in the case of real-world data is close to impossible to observe."
   ]
  },
  {
   "cell_type": "code",
   "execution_count": 32,
   "metadata": {},
   "outputs": [
    {
     "data": {
      "text/plain": [
       "0    146.582249\n",
       "1    158.932600\n",
       "2    176.280966\n",
       "3    129.059825\n",
       "4    113.891937\n",
       "dtype: float64"
      ]
     },
     "execution_count": 32,
     "metadata": {},
     "output_type": "execute_result"
    }
   ],
   "source": [
    "cat['Height'].head()"
   ]
  },
  {
   "cell_type": "markdown",
   "metadata": {},
   "source": [
    "<div class = \"alert alert-block alert-danger\">\n",
    "<b>Exercise</b>\n",
    "<p>\n",
    "Using <code>scipy.stats.skew</code>, compute the skewness of the <code>Height</code> and <code>Weight</code> data.\n",
    "</div>    "
   ]
  },
  {
   "cell_type": "code",
   "execution_count": 33,
   "metadata": {},
   "outputs": [
    {
     "data": {
      "text/plain": [
       "-0.04076711182120863"
      ]
     },
     "execution_count": 33,
     "metadata": {},
     "output_type": "execute_result"
    }
   ],
   "source": [
    "skew(cat['Height'],bias=0)"
   ]
  },
  {
   "cell_type": "code",
   "execution_count": 34,
   "metadata": {},
   "outputs": [
    {
     "data": {
      "text/plain": [
       "0.007941805841340343"
      ]
     },
     "execution_count": 34,
     "metadata": {},
     "output_type": "execute_result"
    }
   ],
   "source": [
    "skew(cat['Weight'], bias = 0)"
   ]
  },
  {
   "cell_type": "markdown",
   "metadata": {},
   "source": [
    "As expected, the data for `Height` and `Weight` are not perfectly symmetrical. In practice, most distributions you encounter will have *some* degree of skewness, but we consider it to be symmetrical if the value is close to 0."
   ]
  },
  {
   "cell_type": "markdown",
   "metadata": {},
   "source": [
    "## Kurtosis\n",
    "Kurtosis is a measure of *tailedness*, i.e. how heavily the data is saturated in the tails of the distribution as opposed to its center. Visually, kurtosis manifests as either a *shorter* or *taller* distribution along the y-axis. This appearance is mainly due to the tails being *fatter* or *thinner* respectively.\n",
    "\n",
    "![](../images/leptplat.png)\n",
    "\n",
    "Kurtosis uses the Normal distribution as a **point of reference**, i.e. it measures how much thinner/fatter the tails of a distribution are *compared to* a Normal distribution.\n",
    "1. If the kurtosis is **negative** ($<0$), we say the distribution is **platykurtic**. This means its tails are **thinner** than that of a Normal distribution. Visually, platykurtic distributions appear **shorter** in height compared to a Normal distribution.\n",
    "2. If the kurtosis value is **zero** ($=0$), we say the distribution is **mesokurtic**. This means the thickness of its tails are **identical**/**similar** to that of a Normal distribution.\n",
    "3. If the kurtosis value is **positive** ($>0$), we say the distribution is **leptokurtic**. This means its tails are **thicker** than that of a Normal distribution. Visually, leptokurtic distributions appear **taller** in height compared to a Normal distribution.\n",
    "\n",
    "In Python, we can utilize the `scipy.stats.kurtosis` to compute the kurtosis of a given set of data. "
   ]
  },
  {
   "cell_type": "markdown",
   "metadata": {},
   "source": [
    "<div class = \"alert alert-block alert-warning\">\n",
    "<b>Guided Exercise</b>\n",
    "<p>\n",
    "Using <code>scipy.stats.kurtosis</code>, compute the kurtosis of the <code>HumanLongevity</code> and <code>Salary</code> data.\n",
    "</div>    "
   ]
  },
  {
   "cell_type": "code",
   "execution_count": 35,
   "metadata": {},
   "outputs": [
    {
     "data": {
      "text/plain": [
       "Height           -0.074210\n",
       "Weight           -0.015389\n",
       "Salary            0.702063\n",
       "HumanLongevity   -0.203843\n",
       "dtype: float64"
      ]
     },
     "execution_count": 35,
     "metadata": {},
     "output_type": "execute_result"
    }
   ],
   "source": [
    "cat.kurtosis(level = 0)"
   ]
  },
  {
   "cell_type": "markdown",
   "metadata": {},
   "source": [
    "As outliers are commonly seen in the tails, kurtosis can be used as a rough indicator of the presence of outliers - a higher kurtosis value indicates thicker tails, i.e. we are more likely to encounter outliers."
   ]
  },
  {
   "cell_type": "markdown",
   "metadata": {},
   "source": [
    "<div class = \"alert alert-block alert-danger\">\n",
    "<b>Exercise</b>\n",
    "<p>\n",
    "Using <code>scipy.stats.kurtosis</code>, compute the kurtosis of the <code>Height</code> and <code>Weight</code> data.\n",
    "</div>    "
   ]
  },
  {
   "cell_type": "code",
   "execution_count": 36,
   "metadata": {},
   "outputs": [
    {
     "data": {
      "text/plain": [
       "-0.07421007592099782"
      ]
     },
     "execution_count": 36,
     "metadata": {},
     "output_type": "execute_result"
    }
   ],
   "source": [
    "kurtosis(cat[\"Height\"],bias=0)"
   ]
  },
  {
   "cell_type": "code",
   "execution_count": 37,
   "metadata": {},
   "outputs": [
    {
     "data": {
      "text/plain": [
       "-0.015389390820611304"
      ]
     },
     "execution_count": 37,
     "metadata": {},
     "output_type": "execute_result"
    }
   ],
   "source": [
    "kurtosis(cat[\"Weight\"],bias=0)"
   ]
  },
  {
   "cell_type": "markdown",
   "metadata": {},
   "source": [
    "Additionally, kurtosis can also be seen in **Normal Quantile-Quantile Plots (Q-Q plots)** - any deviation from the shape of a normal distribution will show as points straying from a diagonal line. In most cases, we use Q-Q plots to validate assumptions of normality before proceeding with advanced statistical analysis."
   ]
  },
  {
   "cell_type": "code",
   "execution_count": 43,
   "metadata": {},
   "outputs": [
    {
     "data": {
      "image/png": "[encoded data removed]",
      "text/plain": [
       "<Figure size 432x288 with 1 Axes>"
      ]
     },
     "metadata": {
      "needs_background": "light"
     },
     "output_type": "display_data"
    }
   ],
   "source": [
    "# QQ plot - show if the distribution normal or not\n",
    "\n",
    "from statsmodels.graphics.gofplots import qqplot\n",
    "fg = qqplot(cat[\"Salary\"], fit = True, line = '45')\n",
    "\n",
    "# Theoretical vs sample quantiles\n",
    "# theoretical - same mean and std\n",
    "# sample - our data\n",
    "# comparison percentile of theoretical vs sample"
   ]
  },
  {
   "cell_type": "markdown",
   "metadata": {},
   "source": [
    "For comparison, let's take a look at the Q-Q plot for height, which is approximately normal:"
   ]
  },
  {
   "cell_type": "code",
   "execution_count": 45,
   "metadata": {},
   "outputs": [
    {
     "data": {
      "image/png": "[encoded data removed]",
      "text/plain": [
       "<Figure size 432x288 with 1 Axes>"
      ]
     },
     "metadata": {
      "needs_background": "light"
     },
     "output_type": "display_data"
    }
   ],
   "source": [
    "fg = qqplot(cat[\"Height\"], fit = True, line = '45')"
   ]
  },
  {
   "cell_type": "markdown",
   "metadata": {},
   "source": [
    "<div class = \"alert alert-block alert-danger\">\n",
    "<b>Exercise</b>\n",
    "<p>\n",
    "In `iris` dataset, check the compare the distribution of each numerical variable with normal distribution.\n",
    "</div> "
   ]
  },
  {
   "cell_type": "code",
   "execution_count": 46,
   "metadata": {},
   "outputs": [],
   "source": [
    "iris=pd.read_csv('../data/iris.csv')"
   ]
  },
  {
   "cell_type": "code",
   "execution_count": 47,
   "metadata": {
    "scrolled": true
   },
   "outputs": [
    {
     "data": {
      "text/html": [
       "<div>\n",
       "<style scoped>\n",
       "    .dataframe tbody tr th:only-of-type {\n",
       "        vertical-align: middle;\n",
       "    }\n",
       "\n",
       "    .dataframe tbody tr th {\n",
       "        vertical-align: top;\n",
       "    }\n",
       "\n",
       "    .dataframe thead th {\n",
       "        text-align: right;\n",
       "    }\n",
       "</style>\n",
       "<table border=\"1\" class=\"dataframe\">\n",
       "  <thead>\n",
       "    <tr style=\"text-align: right;\">\n",
       "      <th></th>\n",
       "      <th>Sepal.Length</th>\n",
       "      <th>Sepal.Width</th>\n",
       "      <th>Petal.Length</th>\n",
       "      <th>Petal.Width</th>\n",
       "      <th>Species</th>\n",
       "    </tr>\n",
       "  </thead>\n",
       "  <tbody>\n",
       "    <tr>\n",
       "      <td>0</td>\n",
       "      <td>5.1</td>\n",
       "      <td>3.5</td>\n",
       "      <td>1.4</td>\n",
       "      <td>0.2</td>\n",
       "      <td>setosa</td>\n",
       "    </tr>\n",
       "    <tr>\n",
       "      <td>1</td>\n",
       "      <td>4.9</td>\n",
       "      <td>3.0</td>\n",
       "      <td>1.4</td>\n",
       "      <td>0.2</td>\n",
       "      <td>setosa</td>\n",
       "    </tr>\n",
       "    <tr>\n",
       "      <td>2</td>\n",
       "      <td>4.7</td>\n",
       "      <td>3.2</td>\n",
       "      <td>1.3</td>\n",
       "      <td>0.2</td>\n",
       "      <td>setosa</td>\n",
       "    </tr>\n",
       "    <tr>\n",
       "      <td>3</td>\n",
       "      <td>4.6</td>\n",
       "      <td>3.1</td>\n",
       "      <td>1.5</td>\n",
       "      <td>0.2</td>\n",
       "      <td>setosa</td>\n",
       "    </tr>\n",
       "    <tr>\n",
       "      <td>4</td>\n",
       "      <td>5.0</td>\n",
       "      <td>3.6</td>\n",
       "      <td>1.4</td>\n",
       "      <td>0.2</td>\n",
       "      <td>setosa</td>\n",
       "    </tr>\n",
       "  </tbody>\n",
       "</table>\n",
       "</div>"
      ],
      "text/plain": [
       "   Sepal.Length  Sepal.Width  Petal.Length  Petal.Width Species\n",
       "0           5.1          3.5           1.4          0.2  setosa\n",
       "1           4.9          3.0           1.4          0.2  setosa\n",
       "2           4.7          3.2           1.3          0.2  setosa\n",
       "3           4.6          3.1           1.5          0.2  setosa\n",
       "4           5.0          3.6           1.4          0.2  setosa"
      ]
     },
     "execution_count": 47,
     "metadata": {},
     "output_type": "execute_result"
    }
   ],
   "source": [
    "iris.head()"
   ]
  },
  {
   "cell_type": "code",
   "execution_count": 78,
   "metadata": {},
   "outputs": [
    {
     "name": "stdout",
     "output_type": "stream",
     "text": [
      "Sepal.Length = 0.3149109566369729\n",
      "Sepal.Width = 0.3189656647135998\n",
      "Petal.Length = -0.2748841797510128\n",
      "Petal.Width = -0.1029667476489812\n"
     ]
    }
   ],
   "source": [
    "for i in iris.iloc[:,:-1]:\n",
    "    print(i,\"=\",skew(iris[i],bias=0))"
   ]
  },
  {
   "cell_type": "code",
   "execution_count": 77,
   "metadata": {
    "scrolled": true
   },
   "outputs": [
    {
     "name": "stdout",
     "output_type": "stream",
     "text": [
      "Sepal.Length = -0.5520640413156395\n",
      "Sepal.Width = 0.2282490424681929\n",
      "Petal.Length = -1.4021034155217516\n",
      "Petal.Width = -1.3406039966126455\n"
     ]
    }
   ],
   "source": [
    "for i in iris.iloc[:,:-1]:\n",
    "    print(i,\"=\",kurtosis(iris[i],bias=0))"
   ]
  },
  {
   "cell_type": "code",
   "execution_count": 48,
   "metadata": {},
   "outputs": [
    {
     "data": {
      "image/png": "[encoded data removed]",
      "text/plain": [
       "<Figure size 432x288 with 1 Axes>"
      ]
     },
     "metadata": {
      "needs_background": "light"
     },
     "output_type": "display_data"
    }
   ],
   "source": [
    "fg = qqplot(iris[\"Sepal.Length\"], fit = True, line = '45')"
   ]
  },
  {
   "cell_type": "code",
   "execution_count": 49,
   "metadata": {},
   "outputs": [
    {
     "data": {
      "image/png": "[encoded data removed]",
      "text/plain": [
       "<Figure size 432x288 with 1 Axes>"
      ]
     },
     "metadata": {
      "needs_background": "light"
     },
     "output_type": "display_data"
    }
   ],
   "source": [
    "fg = qqplot(iris[\"Sepal.Width\"], fit = True, line = '45')"
   ]
  },
  {
   "cell_type": "code",
   "execution_count": 50,
   "metadata": {},
   "outputs": [
    {
     "data": {
      "image/png": "[encoded data removed]",
      "text/plain": [
       "<Figure size 432x288 with 1 Axes>"
      ]
     },
     "metadata": {
      "needs_background": "light"
     },
     "output_type": "display_data"
    }
   ],
   "source": [
    "fg = qqplot(iris[\"Petal.Length\"], fit = True, line = '45')"
   ]
  },
  {
   "cell_type": "code",
   "execution_count": 51,
   "metadata": {},
   "outputs": [
    {
     "data": {
      "image/png": "[encoded data removed]",
      "text/plain": [
       "<Figure size 432x288 with 1 Axes>"
      ]
     },
     "metadata": {
      "needs_background": "light"
     },
     "output_type": "display_data"
    }
   ],
   "source": [
    "fg = qqplot(iris[\"Petal.Width\"], fit = True, line = '45')"
   ]
  },
  {
   "cell_type": "code",
   "execution_count": null,
   "metadata": {},
   "outputs": [],
   "source": [
    "# MC "
   ]
  },
  {
   "cell_type": "code",
   "execution_count": 86,
   "metadata": {},
   "outputs": [
    {
     "data": {
      "image/png": "[encoded data removed]",
      "text/plain": [
       "<Figure size 1152x360 with 4 Axes>"
      ]
     },
     "metadata": {
      "needs_background": "light"
     },
     "output_type": "display_data"
    }
   ],
   "source": [
    "# Nik Faiz - test\n",
    "fg, ax = plt.subplots(ncols = 4, figsize=(16,5))\n",
    "j=0\n",
    "for i in iris.iloc[:,:-1]:\n",
    "    ax[j].hist(iris[i],bins=25)\n",
    "    j +=1"
   ]
  },
  {
   "cell_type": "markdown",
   "metadata": {},
   "source": [
    "## Other Common Distributions <a name=\"other\"></a>\n",
    "\n",
    "### The Poisson Distribution\n",
    "\n",
    "If a variable models the number of times an event occurs in a **fixed interval of time or space**, that variable has **Poisson Distribution**. The Poisson distribution is used to describe the distribution of rare events in a large population.\n",
    "\n",
    "A Poisson distribution:\n",
    "1. Takes only non-negative numbers.\n",
    "2. Is defined by the mean, $\\lambda$.\n",
    "3. Each occurrence is independent of the other occurrences.\n",
    "4. The occurrences in each interval can range from zero to infinity.\n",
    "5. The mean number of occurrences must be constant throughout the experiment.\n",
    "\n",
    "For example, if a variable measures the number of:\n",
    "- Typos on a *printed page*\n",
    "- Patients who enter an emergency room in *one hour* \n",
    "- Customers at a Maybank ATM at Mid Valley Megamall in *10-minute intervals*\n",
    "- Surface defects on a *new refrigerator*\n",
    "- Repairs needed on *10 miles of highway*\n",
    "- Bankruptcies that are filed in *a month*\n",
    "- Arrivals at a car wash in *one hour*\n",
    "- Network failures per *day*\n",
    "- File server virus infection at a data center during a *24-hour period*\n",
    "- Airbus 330 aircraft engine shutdowns per *100,000 flight hours*\n",
    "- Asthma patient arrivals in a *given hour at a walk-in clinic*\n",
    "- Work-related accidents over a *given production time*\n",
    "- Birth, deaths, marriages, divorces, suicides, and homicides over a *given period of time*\n",
    "- Customers who call to complain about a service problem per *month*\n",
    "- Visitors to a web site per *minute*\n",
    "- Calls to consumer hot line in a *5-minute period*\n",
    "- Telephone calls per *minute* in a small business\n",
    "\n",
    "then we say that the variable is Poisson distributed.\n",
    "\n",
    "\n",
    "If a variable is poisson distributed with mean $\\lambda$, its standard deviation will be $\\sqrt{\\lambda}$. The following figure compares poisson distributions for different means ($\\lambda$). It shows when the mean of the distribution increases, the plot moves to the right, its standard deviation increases and its height decreases.\n",
    "\n",
    "<img src='../images/Poisson.png'>\n",
    "\n",
    "The figure below compares a Normal distribution with $\\mu=9$ and $\\sigma=3$ and a Poisson distribution with $\\lambda=9$:\n",
    "\n",
    "<img src='../images/PoissonNormal.png'>\n",
    "\n",
    "We can see that the Poisson distribution is quite similar to a Normal one, albeit a little more skewed."
   ]
  },
  {
   "cell_type": "markdown",
   "metadata": {},
   "source": [
    "<div class = \"alert alert-block alert-info\">\n",
    "<b>Example</b>\n",
    "<p>\n",
    "A bank is interested in studying the number of people who use the ATM located outside its office late at night. On average, 1.3 customers walk up to the ATM during any 10 minute interval between 9pm and midnight. Here $\\lambda_{10} = 1.3$.\n",
    "</div>"
   ]
  },
  {
   "cell_type": "markdown",
   "metadata": {},
   "source": [
    "<div class = \"alert alert-block alert-warning\">\n",
    "<b>Guided Exercise</b>\n",
    "<p>\n",
    "A website receives hits at the rate of 150 per hour. What is the distribution of the number of the calls per hour for this website?\n",
    "Complete the following code to draw this distribution.\n",
    "</div>"
   ]
  },
  {
   "cell_type": "code",
   "execution_count": 90,
   "metadata": {},
   "outputs": [
    {
     "data": {
      "image/png": "[encoded data removed]",
      "text/plain": [
       "<Figure size 432x288 with 1 Axes>"
      ]
     },
     "metadata": {
      "needs_background": "light"
     },
     "output_type": "display_data"
    }
   ],
   "source": [
    "x = np.linspace(100, 200, 101) # integer number\n",
    "plt.plot(x, poisson.pmf(x, mu = 150));"
   ]
  },
  {
   "cell_type": "markdown",
   "metadata": {},
   "source": [
    "### The Uniform Distribution\n",
    "\n",
    "A variable has **Uniform Distribution** if its distribution plot looks like a rectangle or is **heavily multimodal**. This variable has the range between [a,b] but there is no information that would allow us to expect that one outcome is more likely than the others.\n",
    "\n",
    "For example, if x represents:\n",
    "- Month of birth of a large group of people\n",
    "- The day of the week of the hottest day of a year\n",
    "- The last digit of the ID number\n",
    "- The number that comes up from the roll of a fair die\n",
    "\n",
    "The following figure shows uniform distribution plot in range [0,9]:\n",
    "\n",
    "<img src='../images/UniformDist.png'>\n",
    "\n",
    "Unlike the Normal and Poisson distributions, the Uniform distribution has **no parameters**, and is instead defined on a **fixed interval**. The figure below illustrates this for a variety of different ranges:\n",
    "\n",
    "<img src='../images/UniDist.png'>"
   ]
  },
  {
   "cell_type": "markdown",
   "metadata": {},
   "source": [
    "<div class = \"alert alert-block alert-info\">\n",
    "<b>Example</b>\n",
    "<p>\n",
    "Suppose in a quiz there are 60 participants. A question is given to all of them and the time allowed to answer it is 25 seconds. The response time of each student can be any number between 0 (immediately) to 25 seconds. We can assume the response time is uniformely distributed since any respond time from 0 to and including 25 seconds is equally likely.\n",
    "</div>"
   ]
  },
  {
   "cell_type": "markdown",
   "metadata": {},
   "source": [
    " The following code draws the distribution of the response time in the above example:"
   ]
  },
  {
   "cell_type": "code",
   "execution_count": 91,
   "metadata": {},
   "outputs": [
    {
     "data": {
      "text/plain": [
       "Text(0.5, 1.0, 'Uniform Distribution of Response Time [0,25]')"
      ]
     },
     "execution_count": 91,
     "metadata": {},
     "output_type": "execute_result"
    },
    {
     "data": {
      "image/png": "[encoded data removed]",
      "text/plain": [
       "<Figure size 432x288 with 1 Axes>"
      ]
     },
     "metadata": {
      "needs_background": "light"
     },
     "output_type": "display_data"
    }
   ],
   "source": [
    "# for uniform\n",
    "# loc -start\n",
    "# scale - steps to end\n",
    "\n",
    "x = np.linspace(-10, 30, 60)\n",
    "plt.plot(x, uniform.pdf(x, loc = 0, scale = 25))\n",
    "plt.title('Uniform Distribution of Response Time [0,25]')"
   ]
  },
  {
   "cell_type": "markdown",
   "metadata": {},
   "source": [
    "<div class = \"alert alert-block alert-warning\">\n",
    "<b>Guided Exercise</b>\n",
    "<p>\n",
    "Load the file <code>Smile.csv</code> which contains the smiling times (in seconds) of 50 individuals in seconds, of an twelve-week old baby. Compute the five figure summary and draw a histogram with vertical lines to indicate the mean, median, first and third quartiles, and the upper and lower fences.\n",
    "</div>"
   ]
  },
  {
   "cell_type": "code",
   "execution_count": 92,
   "metadata": {},
   "outputs": [],
   "source": [
    "smile = pd.read_csv(\"../data/Smile.csv\")"
   ]
  },
  {
   "cell_type": "code",
   "execution_count": 93,
   "metadata": {},
   "outputs": [
    {
     "name": "stdout",
     "output_type": "stream",
     "text": [
      "<class 'pandas.core.frame.DataFrame'>\n",
      "RangeIndex: 50 entries, 0 to 49\n",
      "Data columns (total 1 columns):\n",
      "Smile    50 non-null float64\n",
      "dtypes: float64(1)\n",
      "memory usage: 528.0 bytes\n"
     ]
    }
   ],
   "source": [
    "smile.info()"
   ]
  },
  {
   "cell_type": "code",
   "execution_count": 94,
   "metadata": {},
   "outputs": [
    {
     "data": {
      "text/html": [
       "<div>\n",
       "<style scoped>\n",
       "    .dataframe tbody tr th:only-of-type {\n",
       "        vertical-align: middle;\n",
       "    }\n",
       "\n",
       "    .dataframe tbody tr th {\n",
       "        vertical-align: top;\n",
       "    }\n",
       "\n",
       "    .dataframe thead th {\n",
       "        text-align: right;\n",
       "    }\n",
       "</style>\n",
       "<table border=\"1\" class=\"dataframe\">\n",
       "  <thead>\n",
       "    <tr style=\"text-align: right;\">\n",
       "      <th></th>\n",
       "      <th>Smile</th>\n",
       "    </tr>\n",
       "  </thead>\n",
       "  <tbody>\n",
       "    <tr>\n",
       "      <td>count</td>\n",
       "      <td>50.000000</td>\n",
       "    </tr>\n",
       "    <tr>\n",
       "      <td>mean</td>\n",
       "      <td>13.106800</td>\n",
       "    </tr>\n",
       "    <tr>\n",
       "      <td>std</td>\n",
       "      <td>6.730446</td>\n",
       "    </tr>\n",
       "    <tr>\n",
       "      <td>min</td>\n",
       "      <td>1.660000</td>\n",
       "    </tr>\n",
       "    <tr>\n",
       "      <td>25%</td>\n",
       "      <td>7.362500</td>\n",
       "    </tr>\n",
       "    <tr>\n",
       "      <td>50%</td>\n",
       "      <td>12.745000</td>\n",
       "    </tr>\n",
       "    <tr>\n",
       "      <td>75%</td>\n",
       "      <td>19.092500</td>\n",
       "    </tr>\n",
       "    <tr>\n",
       "      <td>max</td>\n",
       "      <td>24.310000</td>\n",
       "    </tr>\n",
       "  </tbody>\n",
       "</table>\n",
       "</div>"
      ],
      "text/plain": [
       "           Smile\n",
       "count  50.000000\n",
       "mean   13.106800\n",
       "std     6.730446\n",
       "min     1.660000\n",
       "25%     7.362500\n",
       "50%    12.745000\n",
       "75%    19.092500\n",
       "max    24.310000"
      ]
     },
     "execution_count": 94,
     "metadata": {},
     "output_type": "execute_result"
    }
   ],
   "source": [
    "smile.describe()"
   ]
  },
  {
   "cell_type": "code",
   "execution_count": 95,
   "metadata": {},
   "outputs": [
    {
     "data": {
      "text/html": [
       "<div>\n",
       "<style scoped>\n",
       "    .dataframe tbody tr th:only-of-type {\n",
       "        vertical-align: middle;\n",
       "    }\n",
       "\n",
       "    .dataframe tbody tr th {\n",
       "        vertical-align: top;\n",
       "    }\n",
       "\n",
       "    .dataframe thead th {\n",
       "        text-align: right;\n",
       "    }\n",
       "</style>\n",
       "<table border=\"1\" class=\"dataframe\">\n",
       "  <thead>\n",
       "    <tr style=\"text-align: right;\">\n",
       "      <th></th>\n",
       "      <th>Smile</th>\n",
       "    </tr>\n",
       "  </thead>\n",
       "  <tbody>\n",
       "    <tr>\n",
       "      <td>q1</td>\n",
       "      <td>7.3625</td>\n",
       "    </tr>\n",
       "    <tr>\n",
       "      <td>q3</td>\n",
       "      <td>19.0925</td>\n",
       "    </tr>\n",
       "    <tr>\n",
       "      <td>mean</td>\n",
       "      <td>13.1068</td>\n",
       "    </tr>\n",
       "    <tr>\n",
       "      <td>median</td>\n",
       "      <td>12.7450</td>\n",
       "    </tr>\n",
       "    <tr>\n",
       "      <td>lf</td>\n",
       "      <td>-10.2325</td>\n",
       "    </tr>\n",
       "    <tr>\n",
       "      <td>uf</td>\n",
       "      <td>36.6875</td>\n",
       "    </tr>\n",
       "  </tbody>\n",
       "</table>\n",
       "</div>"
      ],
      "text/plain": [
       "          Smile\n",
       "q1       7.3625\n",
       "q3      19.0925\n",
       "mean    13.1068\n",
       "median  12.7450\n",
       "lf     -10.2325\n",
       "uf      36.6875"
      ]
     },
     "execution_count": 95,
     "metadata": {},
     "output_type": "execute_result"
    }
   ],
   "source": [
    "summ_smile = smile.agg([q1, q3, 'mean', 'median', lf, uf])\n",
    "summ_smile"
   ]
  },
  {
   "cell_type": "code",
   "execution_count": 102,
   "metadata": {},
   "outputs": [
    {
     "data": {
      "text/plain": [
       "<matplotlib.legend.Legend at 0x20a2093f748>"
      ]
     },
     "execution_count": 102,
     "metadata": {},
     "output_type": "execute_result"
    },
    {
     "data": {
      "image/png": "[encoded data removed]",
      "text/plain": [
       "<Figure size 432x288 with 1 Axes>"
      ]
     },
     "metadata": {
      "needs_background": "light"
     },
     "output_type": "display_data"
    }
   ],
   "source": [
    "# can infer that this has uniform distribution \n",
    "\n",
    "ax = plt.subplot()\n",
    "smile.hist(bins = 30, ax = ax)\n",
    "\n",
    "for i in range(len(summ_smile.index.values)): \n",
    "    index = summ_smile.index.values[i]\n",
    "    ax.axvline(summ_smile.loc[index, \"Smile\"], label = index, c = current_palette[i])\n",
    "\n",
    "ax.legend()"
   ]
  },
  {
   "cell_type": "markdown",
   "metadata": {},
   "source": [
    "## Additional Reading\n",
    "\n",
    "1. Nancy R. Tague (2005). The Quality Toolbox. Summary of Histogram section available [here](http://asq.org/learn-about-quality/data-collection-analysis-tools/overview/histogram2.html)."
   ]
  },
  {
   "cell_type": "code",
   "execution_count": null,
   "metadata": {},
   "outputs": [],
   "source": [
    "\n"
   ]
  }
 ],
 "metadata": {
  "kernelspec": {
   "display_name": "Python 3",
   "language": "python",
   "name": "python3"
  },
  "language_info": {
   "codemirror_mode": {
    "name": "ipython",
    "version": 3
   },
   "file_extension": ".py",
   "mimetype": "text/x-python",
   "name": "python",
   "nbconvert_exporter": "python",
   "pygments_lexer": "ipython3",
   "version": "3.8.5"
  }
 },
 "nbformat": 4,
 "nbformat_minor": 2
}
