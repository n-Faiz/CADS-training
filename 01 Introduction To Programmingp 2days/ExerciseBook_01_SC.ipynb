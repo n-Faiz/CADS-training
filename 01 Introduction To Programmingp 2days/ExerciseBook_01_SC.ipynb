{
 "cells": [
  {
   "cell_type": "markdown",
   "metadata": {},
   "source": [
    "# Python Exercise Book 01"
   ]
  },
  {
   "cell_type": "markdown",
   "metadata": {},
   "source": [
    "The exercises in this notebook are provided to help you develop your analysis skills by\n",
    "giving you the opportunity to practice breaking small problems down into\n",
    "sequences of steps. Also, completing these exercises will help you become\n",
    "familiar with Python’s syntax."
   ]
  },
  {
   "cell_type": "markdown",
   "metadata": {},
   "source": [
    "### 1- Area of a Room in Square Meters"
   ]
  },
  {
   "cell_type": "code",
   "execution_count": 2,
   "metadata": {},
   "outputs": [
    {
     "name": "stdout",
     "output_type": "stream",
     "text": [
      "Enter Width= 2.9999\n",
      "Enter Length= 3.9999\n",
      "Area= 12.00 square meters\n"
     ]
    }
   ],
   "source": [
    "# Your Code\n",
    "width = float(input(\"Enter Width= \"))\n",
    "length = float(input(\"Enter Length= \"))\n",
    "area = width*length\n",
    "print(\"Area= {0:.2f} square meters\".format(area))\n"
   ]
  },
  {
   "cell_type": "markdown",
   "metadata": {},
   "source": [
    "### 2- Area of a Field in Acre"
   ]
  },
  {
   "cell_type": "code",
   "execution_count": 3,
   "metadata": {},
   "outputs": [
    {
     "name": "stdout",
     "output_type": "stream",
     "text": [
      "Enter Width= 2300\n",
      "Enter Length= 1130\n",
      "Area= 642.23 acres\n"
     ]
    }
   ],
   "source": [
    "# Your Code\n",
    "width = float(input(\"Enter Width= \"))\n",
    "length = float(input(\"Enter Length= \"))\n",
    "area = width*length\n",
    "print(\"Area= {0:.2f} acres\".format(area/4046.86))"
   ]
  },
  {
   "cell_type": "markdown",
   "metadata": {},
   "source": [
    "### 3- Tax and Tip"
   ]
  },
  {
   "cell_type": "code",
   "execution_count": 4,
   "metadata": {},
   "outputs": [],
   "source": [
    "# Your Code\n"
   ]
  },
  {
   "cell_type": "markdown",
   "metadata": {},
   "source": [
    "### 4- Sum of the First n Positive Integers"
   ]
  },
  {
   "cell_type": "code",
   "execution_count": 10,
   "metadata": {},
   "outputs": [],
   "source": [
    "# Your Code\n"
   ]
  },
  {
   "cell_type": "markdown",
   "metadata": {},
   "source": [
    "### 5- What Color is that Square?"
   ]
  },
  {
   "cell_type": "code",
   "execution_count": 11,
   "metadata": {},
   "outputs": [],
   "source": [
    "# Your Code\n"
   ]
  },
  {
   "cell_type": "markdown",
   "metadata": {},
   "source": [
    "### 6- Average"
   ]
  },
  {
   "cell_type": "code",
   "execution_count": 12,
   "metadata": {},
   "outputs": [],
   "source": [
    "# Your Code\n"
   ]
  },
  {
   "cell_type": "markdown",
   "metadata": {},
   "source": [
    "### 7- Write a Python program to calculate the below series:\n",
    "\n",
    "$$\n",
    "S = \\frac{1}{2^0}+\\frac{1}{2^1}+\\frac{1}{2^2}+\\dotsm+\\frac{1}{2^n}\n",
    "$$\n"
   ]
  },
  {
   "cell_type": "code",
   "execution_count": 13,
   "metadata": {},
   "outputs": [],
   "source": [
    "# Your Code\n"
   ]
  },
  {
   "cell_type": "markdown",
   "metadata": {},
   "source": [
    "### 8- Write a Python program to calculate the below series:\n",
    "\n",
    "$$\n",
    "S = \\frac{1}{2^0}-\\frac{1}{2^1}+\\frac{1}{2^2}-\\dotsm\\pm\\frac{1}{2^n}\n",
    "$$"
   ]
  },
  {
   "cell_type": "code",
   "execution_count": 14,
   "metadata": {},
   "outputs": [],
   "source": [
    "# Your Code\n"
   ]
  },
  {
   "cell_type": "markdown",
   "metadata": {},
   "source": [
    "### 9- Write a program to find factorial of a number:\n",
    "The factorial of a positive integer n is equal to:\n",
    "$$ \n",
    "n!=1\\times 2 \\times 3 \\times 4\\dotsm \\times n.\n",
    "$$\n",
    "Hint: The factorial of a negative number doesn't exist. And, the factorial of 0 is 1, 0! = 1"
   ]
  },
  {
   "cell_type": "code",
   "execution_count": 15,
   "metadata": {},
   "outputs": [],
   "source": [
    "# Your Code\n"
   ]
  },
  {
   "cell_type": "markdown",
   "metadata": {},
   "source": [
    "### 10- Write a program to generate the Fibonacci series less than a given number N.\n",
    "\n",
    "The Fibonacci numbers are the numbers in the following integer sequence.\n",
    "$$\n",
    "0, 1, 1, 2, 3, 5, 8, 13, 21, 34, 55, 89, 144,\\dotsm\n",
    "$$\n"
   ]
  },
  {
   "cell_type": "code",
   "execution_count": 16,
   "metadata": {},
   "outputs": [],
   "source": [
    "# Your Code\n"
   ]
  }
 ],
 "metadata": {
  "kernelspec": {
   "display_name": "Python 3",
   "language": "python",
   "name": "python3"
  },
  "language_info": {
   "codemirror_mode": {
    "name": "ipython",
    "version": 3
   },
   "file_extension": ".py",
   "mimetype": "text/x-python",
   "name": "python",
   "nbconvert_exporter": "python",
   "pygments_lexer": "ipython3",
   "version": "3.7.4"
  }
 },
 "nbformat": 4,
 "nbformat_minor": 2
}
